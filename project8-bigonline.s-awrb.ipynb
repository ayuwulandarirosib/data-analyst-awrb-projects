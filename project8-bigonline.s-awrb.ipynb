{
 "cells": [
  {
   "cell_type": "markdown",
   "metadata": {},
   "source": [
    "<div style=\"border:solid black 2px; padding: 20px\">\n",
    "<div class=\"alert alert-info\">\n",
    "\n",
    "# Increasing Revenue of Big Online Store Alpha by Prioritizing Hypothesis and Analysis A/B Testing - by awrb\n",
    "\n",
    "</div>"
   ]
  },
  {
   "cell_type": "markdown",
   "metadata": {},
   "source": [
    "# Table of Contents: <a id='tableofcontents'></a>\n",
    "\n",
    "    - 1. Introduction\n",
    "        - 1.1 Goal\n",
    "        - 1.2 Stages\n",
    "    - 2. Data Overview\n",
    "        - 2.1 Section 1: Prioritizing Hypotheses\n",
    "            - 2.1.1 Framework ICE\n",
    "            - 2.1.2 Framework RICE\n",
    "            - 2.1.3 Analysis Both Two Frameworks 'ICE' and 'RICE'\n",
    "            - 2.1.4 Findings\n",
    "        - 2.2 Section 2: A/B Testing Analysis\n",
    "            - 2.2.1 Preparation for A/B Testing Data\n",
    "            - 2.2.2 Tentative Conclusions\n",
    "        - 2.3 Data Overview Elaboration\n",
    "            - 2.3.1 'hypotheses_path'\n",
    "            - 2.3.2 'orders_path'\n",
    "            - 2.3.3 'visits_path'\n",
    "        - 2.4 Tentative Conclusions\n",
    "    - 3. Data Preprocessing and Graph Analysis\n",
    "        - 3.1 Ensuring for Missing Values and Duplicate Data\n",
    "            - 3.1.1 Tentative Conclusions\n",
    "\t- 3.2 Data Preprocessing for Analyzing A/B Testing\n",
    "            - 3.2.1 Cumulative income graph by group\n",
    "                    - Following the conclusions and assumptions.\n",
    "                    - 3.2.1.1 Tentative Conclusions\n",
    "            - 3.2.2 Graph of cumulative average order size by group\n",
    "                    - Following the conclusions and assumptions.\n",
    "                    - 3.2.2.1 Tentative Conclusions\n",
    "            - 3.2.3 Graph of relative differences for the cumulative average order size of group B compared to group A\n",
    "                    - Following the conclusions and assumptions.\n",
    "                    - 3.2.3.1 Tentative Conclusions\n",
    "            - 3.2.4 Conversion Rate Calculation\n",
    "\n",
    "                    - Calculation of the conversion rate of each batch as the ratio of orders to the number of visits each day\n",
    "\n",
    "                    - Graph of the daily conversion rates of the two groups and an explanation of the differences\n",
    "\n",
    "                    - Following the conclusions and assumptions\n",
    "                    - 3.2.4.1 Calculation of the conversion rate of each batch as the ratio of orders to the number of visits each day\n",
    "                    - Following are the conclusions and assumptions.\n",
    "                    - 3.2.4.2 Tentative Conclusions\n",
    "                    - 3.2.4.3 Graph of the relative change in the cumulative conversion in group B to group A\n",
    "\n",
    "                    - Or A graph of the daily conversion rates of the two groups and an explanation of the differences\n",
    "                    - Following the conclusions and assumptions.\n",
    "                    - 3.2.4.4 Tentative Conclusions\n",
    "            - 3.2.5 Scatter plot for the number of orders per user\n",
    "            - Following the conclusions and assumptions.\n",
    "                    - 3.2.5.1 Tentative Conclusions\n",
    "            - 3.2.6 Calculation of the 95th and 99th percentiles for the number of orders per user and Determination of the point when a data point turns out to be an anomaly\n",
    "            - Following the conclusions and assumptions.\n",
    "                    - 3.2.6.1 Tentative Conclusions\n",
    "            - 3.2.7 Scatter plot for order prices\n",
    "            - Following the conclusions and assumptions.\n",
    "                    - 3.2.7.1 Tentative Conclusions\n",
    "            - 3.2.8 Calculation of the 95th and 99th percentile for the order price and Determination of the point when a data point turns out to be an anomaly\n",
    "            - Following the conclusions and assumptions.\n",
    "                    - 3.2.8.1 Tentative Conclusions\n",
    "            - 3.2.9 Statistical significance of conversion differences between groups using the raw data\n",
    "            - Following the conclusions and assumptions.\n",
    "                    - 3.2.9.1 Tentative Conclusions\n",
    "            - 3.2.10 Statistical significance of differences in mean order size between groups using raw data\n",
    "            - Following the conclusions and assumptions.\n",
    "                    - 3.2.10.1 Tentative Conclusions\n",
    "            - 3.2.11 Statistical significance of conversion differences between groups using filtered data\n",
    "            - Following the conclusions and assumptions.\n",
    "                    - 3.2.11.1 Tentative Conclusions\n",
    "            - 3.2.12 Statistical significance of differences in mean order size between groups using filtered data\n",
    "            - Following the conclusions and assumptions.\n",
    "                    - 3.2.12.1 Tentative Conclusions\n",
    "            - 3.2.13 Decision based on test results\n",
    "                    - 3.2.13.1 Conclusion Points\n",
    "    - 4. Presentation\n",
    "    - 5. General Conclusion"
   ]
  },
  {
   "cell_type": "markdown",
   "metadata": {},
   "source": [
    "## Introduction"
   ]
  },
  {
   "cell_type": "markdown",
   "metadata": {},
   "source": [
    "        I have recently found a new project in a large online store as an analyst. My marketing team and I have put together a list of hypotheses to help increasing the revenue."
   ]
  },
  {
   "cell_type": "markdown",
   "metadata": {},
   "source": [
    "### Goal"
   ]
  },
  {
   "cell_type": "markdown",
   "metadata": {},
   "source": [
    "        The purpose of the current project analysis is prioritizing the hypotheses that have been described slightly above, running A/B testing, and analyzing the results."
   ]
  },
  {
   "cell_type": "markdown",
   "metadata": {},
   "source": [
    "### Stages"
   ]
  },
  {
   "cell_type": "markdown",
   "metadata": {},
   "source": [
    "    There are several stages to complete this project, namely:\n",
    "    \n",
    "    1. Data Overview\n",
    "    2. Data Preprocessing\n",
    "    3. Presentation\n",
    "    4. General Conclusion\n",
    "    \n",
    "    which is divided into the following detailed steps:\n",
    "\n",
    "    Step 1. Opening the Data File, Prioritizing Hypotheses Framework ICE and Framework RICE, A/B Testing Analysis, and Examining Data General Information\n",
    "    Step 2. Ensuring for Missing Values, Duplicate Data, and Analyzing A/B Testing.\n",
    "    Step 3. Presenting My Project to The Viewers\n",
    "    Step 4. Formulating General Conclusions\n",
    "    \n",
    "    With the following description:\n",
    "    \n",
    "    1. Data Overview (Step 1. Opening the Data File, Prioritizing Hypotheses Framework ICE and Framework RICE, A/B Testing Analysis, and Examining Data General Information)\n",
    "    In this stage, we will open the data file, then making prioritize Hypotheses for Framework ICE and Framework RICE, A/B Testing Analysis, and examining data general information.\n",
    "    \n",
    "\tA. The data used in the first part of the project is: /datasets/hypotheses_us.csv with details:\n",
    "    - Hypotheses — a brief description of the hypothesis\n",
    "    - Reach — user reach, on a scale of one to ten\n",
    "    - Impact — the impact on users, on a scale of one to ten\n",
    "    - Confidence — confidence in the hypothesis, on a scale of one to ten\n",
    "    - Effort — the resources needed to test the hypothesis, on a scale of one to ten. The higher the Effort value, the more resource intensive the test is.\n",
    "\n",
    "    B. The data used in the second part of the project are:\n",
    "    /datasets/orders_us. csv\n",
    "    /datasets/visits_us.csv\n",
    "\n",
    "    The file path: /datasets/orders_us.csv contains details:\n",
    "    - transactionId — order ID\n",
    "    - visitorId — ID of the user who made the order\n",
    "    - date — the date the order was created\n",
    "    -revenue — revenue from orders\n",
    "    - group — the A/B test group to which the user belongs\n",
    "\n",
    "    The file path /datasets/visits_us.csv contains details:\n",
    "    - date — date\n",
    "    - group — A/B test group\n",
    "    - visits — the number of visits on the specified date for the specified group of A/B test\n",
    "\n",
    "    #Part 1. Prioritizing Hypotheses\n",
    "\n",
    "    The 'hypotheses_us.csv' file contains nine hypotheses for increasing online store revenue with Reach, Impact, Confidence and Effort defined for each.\n",
    "\n",
    "    The stages are as follows:\n",
    "    - Implement the ICE framework to prioritize hypotheses.\n",
    "    - Implementing the RICE framework to prioritize hypotheses.\n",
    "    - Shows hypothetical priority changes when RICE is implemented to replace ICE. Provide an explanation regarding the change.\n",
    "    \n",
    "    #Part 2. A/B Testing Analysis\n",
    "\n",
    "    We have done A/B testing and got the results as described in the 'orders_us.csv' and 'visits_us.csv' files.    \n",
    "    \n",
    "    \n",
    "    2. Data Preprocessing and Graph Analysis (Step 2. Ensuring for Missing Values, Duplicate Data, and Analyzing A/B Testing.)\n",
    "    At this stage, we will review and analyze several questions regarding A/B testing analysis as follows:\n",
    "    \n",
    "    1. Drawing a graph of cumulative income by group. Following the conclusions and assumptions.\n",
    "    2. Drawing a graph of the cumulative average order size by batch. Following the conclusions and assumptions.\n",
    "    3. Drawing a graph of the relative differences for the cumulative average order size of group B compared to group A. Following the conclusions and assumptions.\n",
    "    4. Calculating the conversion rate of each batches as the ratio of orders to the number of visits each days. Under far below is a graph of the daily conversion rates of the two groups and an explanation of the differences. As well as conclusions and assumptions.\n",
    "    5. Creating a scatter plot for the number of orders per user. Following the conclusions and assumptions.\n",
    "    6. Calculating the 95th and 99th percentiles for the number of orders per user. Determining the point when a data point turns into an anomaly.\n",
    "    7. Creating a scatter plot for the price of the order. Following the conclusions and assumptions.\n",
    "    8. Calculating the 95th and 99th percentiles for the order price. Determining the point when a data point turns into an anomaly.\n",
    "    9. Finding the statistical significance of conversion differences between groups using the raw data. Following the conclusions and assumptions.\n",
    "    10. Finding statistical significance of differences in mean order size between groups using raw data. Following the conclusions and assumptions.\n",
    "    11. Finding the statistical significance of conversion differences between groups using filtered data. Following the conclusions and assumptions.\n",
    "    12. Finding the statistical significance of differences in average order size between groups using filtered data. Following the conclusions and assumptions.\n",
    "    13. Making a decision based on the test results. Possible decisions are: 1. Stopping testing, and consider one of the groups as the leader. 2. Stopping testing, and concluding that there is no difference between the two groups. 3. Resuming testing.\n",
    "\n",
    "\n",
    "    3. Presentation (Step 3. Presenting My Project to The Viewers)\n",
    "    In this stage, I will present for my Project Presentation related to 'Increasing Revenue of Big Online Store Alpha by Prioritizing Hypothesis and Analysis A/B Testing' analysis.\n",
    "    \n",
    "\n",
    "    4. General Conclusion (Step 4. Formulating General Conclusions)\n",
    "    In this stage, we will draw the general Conclusions of the project and our project will be assessed based on the following criteria:\n",
    "    - How we prepare the data for analysis\n",
    "    - How do we formulate hypotheses\n",
    "    - How do we interpret the resulting graph\n",
    "    - How do we calculate statistical significance\n",
    "    - What conclusions do we make based on the results of the A/B testing obtained\n",
    "    - Do we follow the project structure and keep the code tidy\n",
    "    - The conclusion we made\n",
    "    - Do we make comments at every step"
   ]
  },
  {
   "cell_type": "markdown",
   "metadata": {},
   "source": [
    "[Back to Contents](#tableofcontents)"
   ]
  },
  {
   "cell_type": "markdown",
   "metadata": {},
   "source": [
    "## Data Overview\n",
    "    - Step 1. Opening the Data File, Prioritizing Hypotheses Framework ICE and Framework RICE, A/B Testing Analysis, and Examining Data General Information"
   ]
  },
  {
   "cell_type": "markdown",
   "metadata": {},
   "source": [
    "<div style=\"border:solid black 2px; padding: 20px\"> \n",
    "    \n",
    "    In this session, we will load all the required libraries, namely: 'datetime', 'pandas', 'matplotlib.pyplot', 'numpy', as follows:\n",
    "\n",
    "</div>"
   ]
  },
  {
   "cell_type": "code",
   "execution_count": 1,
   "metadata": {},
   "outputs": [],
   "source": [
    "import datetime as dt\n",
    "import pandas as pd\n",
    "import matplotlib.pyplot as plt\n",
    "import numpy as np"
   ]
  },
  {
   "cell_type": "code",
   "execution_count": 2,
   "metadata": {},
   "outputs": [],
   "source": [
    "hypotheses_path = pd.read_csv('/datasets/hypotheses_us.csv')\n",
    "orders_path = pd.read_csv('/datasets/orders_us.csv')\n",
    "visits_path = pd.read_csv('/datasets/visits_us.csv')"
   ]
  },
  {
   "cell_type": "markdown",
   "metadata": {},
   "source": [
    "    We have loaded all the datasets. We'll take the next step."
   ]
  },
  {
   "cell_type": "markdown",
   "metadata": {},
   "source": [
    "[Back to Contents](#tableofcontents)"
   ]
  },
  {
   "cell_type": "markdown",
   "metadata": {},
   "source": [
    "### Section 1: Prioritizing Hypotheses"
   ]
  },
  {
   "cell_type": "code",
   "execution_count": 3,
   "metadata": {},
   "outputs": [],
   "source": [
    "hypotheses_path = pd.read_csv('/datasets/hypotheses_us.csv', sep = \";\")"
   ]
  },
  {
   "cell_type": "code",
   "execution_count": 4,
   "metadata": {},
   "outputs": [
    {
     "data": {
      "text/plain": [
       "array(['Add two new channels for attracting traffic. This will bring 30% more users',\n",
       "       'Launch your own delivery service. This will shorten delivery time',\n",
       "       \"Add product recommendation blocks to the store's site. This will increase conversion and average purchase size\",\n",
       "       'Change the category structure. This will increase conversion since users will find the products they want more quickly',\n",
       "       'Change the background color on the main page. This will increase user engagement',\n",
       "       'Add a customer review page. This will increase the number of orders',\n",
       "       'Show banners with current offers and sales on the main page. This will boost conversion',\n",
       "       'Add a subscription form to all the main pages. This will help you compile a mailing list',\n",
       "       'Launch a promotion that gives users discounts on their birthdays'],\n",
       "      dtype=object)"
      ]
     },
     "execution_count": 4,
     "metadata": {},
     "output_type": "execute_result"
    }
   ],
   "source": [
    "hypotheses_path.Hypothesis.unique()"
   ]
  },
  {
   "cell_type": "code",
   "execution_count": 5,
   "metadata": {},
   "outputs": [
    {
     "data": {
      "text/html": [
       "<div>\n",
       "<style scoped>\n",
       "    .dataframe tbody tr th:only-of-type {\n",
       "        vertical-align: middle;\n",
       "    }\n",
       "\n",
       "    .dataframe tbody tr th {\n",
       "        vertical-align: top;\n",
       "    }\n",
       "\n",
       "    .dataframe thead th {\n",
       "        text-align: right;\n",
       "    }\n",
       "</style>\n",
       "<table border=\"1\" class=\"dataframe\">\n",
       "  <thead>\n",
       "    <tr style=\"text-align: right;\">\n",
       "      <th></th>\n",
       "      <th>Hypothesis</th>\n",
       "      <th>Reach</th>\n",
       "      <th>Impact</th>\n",
       "      <th>Confidence</th>\n",
       "      <th>Effort</th>\n",
       "    </tr>\n",
       "  </thead>\n",
       "  <tbody>\n",
       "    <tr>\n",
       "      <th>0</th>\n",
       "      <td>Add two new channels for attracting traffic. T...</td>\n",
       "      <td>3</td>\n",
       "      <td>10</td>\n",
       "      <td>8</td>\n",
       "      <td>6</td>\n",
       "    </tr>\n",
       "    <tr>\n",
       "      <th>1</th>\n",
       "      <td>Launch your own delivery service. This will sh...</td>\n",
       "      <td>2</td>\n",
       "      <td>5</td>\n",
       "      <td>4</td>\n",
       "      <td>10</td>\n",
       "    </tr>\n",
       "    <tr>\n",
       "      <th>2</th>\n",
       "      <td>Add product recommendation blocks to the store...</td>\n",
       "      <td>8</td>\n",
       "      <td>3</td>\n",
       "      <td>7</td>\n",
       "      <td>3</td>\n",
       "    </tr>\n",
       "    <tr>\n",
       "      <th>3</th>\n",
       "      <td>Change the category structure. This will incre...</td>\n",
       "      <td>8</td>\n",
       "      <td>3</td>\n",
       "      <td>3</td>\n",
       "      <td>8</td>\n",
       "    </tr>\n",
       "    <tr>\n",
       "      <th>4</th>\n",
       "      <td>Change the background color on the main page. ...</td>\n",
       "      <td>3</td>\n",
       "      <td>1</td>\n",
       "      <td>1</td>\n",
       "      <td>1</td>\n",
       "    </tr>\n",
       "    <tr>\n",
       "      <th>5</th>\n",
       "      <td>Add a customer review page. This will increase...</td>\n",
       "      <td>3</td>\n",
       "      <td>2</td>\n",
       "      <td>2</td>\n",
       "      <td>3</td>\n",
       "    </tr>\n",
       "    <tr>\n",
       "      <th>6</th>\n",
       "      <td>Show banners with current offers and sales on ...</td>\n",
       "      <td>5</td>\n",
       "      <td>3</td>\n",
       "      <td>8</td>\n",
       "      <td>3</td>\n",
       "    </tr>\n",
       "    <tr>\n",
       "      <th>7</th>\n",
       "      <td>Add a subscription form to all the main pages....</td>\n",
       "      <td>10</td>\n",
       "      <td>7</td>\n",
       "      <td>8</td>\n",
       "      <td>5</td>\n",
       "    </tr>\n",
       "    <tr>\n",
       "      <th>8</th>\n",
       "      <td>Launch a promotion that gives users discounts ...</td>\n",
       "      <td>1</td>\n",
       "      <td>9</td>\n",
       "      <td>9</td>\n",
       "      <td>5</td>\n",
       "    </tr>\n",
       "  </tbody>\n",
       "</table>\n",
       "</div>"
      ],
      "text/plain": [
       "                                          Hypothesis  Reach  Impact  \\\n",
       "0  Add two new channels for attracting traffic. T...      3      10   \n",
       "1  Launch your own delivery service. This will sh...      2       5   \n",
       "2  Add product recommendation blocks to the store...      8       3   \n",
       "3  Change the category structure. This will incre...      8       3   \n",
       "4  Change the background color on the main page. ...      3       1   \n",
       "5  Add a customer review page. This will increase...      3       2   \n",
       "6  Show banners with current offers and sales on ...      5       3   \n",
       "7  Add a subscription form to all the main pages....     10       7   \n",
       "8  Launch a promotion that gives users discounts ...      1       9   \n",
       "\n",
       "   Confidence  Effort  \n",
       "0           8       6  \n",
       "1           4      10  \n",
       "2           7       3  \n",
       "3           3       8  \n",
       "4           1       1  \n",
       "5           2       3  \n",
       "6           8       3  \n",
       "7           8       5  \n",
       "8           9       5  "
      ]
     },
     "execution_count": 5,
     "metadata": {},
     "output_type": "execute_result"
    }
   ],
   "source": [
    "hypotheses_path"
   ]
  },
  {
   "cell_type": "code",
   "execution_count": 6,
   "metadata": {},
   "outputs": [
    {
     "data": {
      "text/plain": [
       "['Add two new channels for attracting traffic. This will bring 30% more users',\n",
       " 'Launch your own delivery service. This will shorten delivery time',\n",
       " \"Add product recommendation blocks to the store's site. This will increase conversion and average purchase size\",\n",
       " 'Change the category structure. This will increase conversion since users will find the products they want more quickly',\n",
       " 'Change the background color on the main page. This will increase user engagement',\n",
       " 'Add a customer review page. This will increase the number of orders',\n",
       " 'Show banners with current offers and sales on the main page. This will boost conversion',\n",
       " 'Add a subscription form to all the main pages. This will help you compile a mailing list',\n",
       " 'Launch a promotion that gives users discounts on their birthdays']"
      ]
     },
     "execution_count": 6,
     "metadata": {},
     "output_type": "execute_result"
    }
   ],
   "source": [
    "hypotheses_path['Hypothesis'].to_list()"
   ]
  },
  {
   "cell_type": "code",
   "execution_count": 7,
   "metadata": {},
   "outputs": [],
   "source": [
    "hypotheses_path['ICE'] = hypotheses_path['Impact']*hypotheses_path['Confidence']/hypotheses_path['Effort']\n",
    "hypotheses_path['RICE'] = hypotheses_path['Reach']*hypotheses_path['Impact']*hypotheses_path['Confidence']/hypotheses_path['Effort']"
   ]
  },
  {
   "cell_type": "markdown",
   "metadata": {},
   "source": [
    "    Findings:\n",
    "    \n",
    "    - From the data above, we could see that the 'hypotheses_path' variable has five columns containing information, namely 'Hypothesis', 'Reach', 'Impact', 'Confidence', 'Effort'.\n",
    "\n",
    "    - The 'Hypothesis.unique()' function displays a list of 'Hypothesis' which will be analyzed further.\n",
    "\n",
    "    - And we have created the syntax to display the 'ICE' and 'RICE' frameworks later.\n",
    "\n",
    "    - Proceed with the next step."
   ]
  },
  {
   "cell_type": "markdown",
   "metadata": {},
   "source": [
    "[Back to Contents](#tableofcontents)"
   ]
  },
  {
   "cell_type": "markdown",
   "metadata": {},
   "source": [
    "#### Framework ICE"
   ]
  },
  {
   "cell_type": "code",
   "execution_count": 8,
   "metadata": {},
   "outputs": [
    {
     "data": {
      "text/html": [
       "<div>\n",
       "<style scoped>\n",
       "    .dataframe tbody tr th:only-of-type {\n",
       "        vertical-align: middle;\n",
       "    }\n",
       "\n",
       "    .dataframe tbody tr th {\n",
       "        vertical-align: top;\n",
       "    }\n",
       "\n",
       "    .dataframe thead th {\n",
       "        text-align: right;\n",
       "    }\n",
       "</style>\n",
       "<table border=\"1\" class=\"dataframe\">\n",
       "  <thead>\n",
       "    <tr style=\"text-align: right;\">\n",
       "      <th></th>\n",
       "      <th>Hypothesis</th>\n",
       "      <th>Reach</th>\n",
       "      <th>Impact</th>\n",
       "      <th>Confidence</th>\n",
       "      <th>Effort</th>\n",
       "      <th>ICE</th>\n",
       "      <th>RICE</th>\n",
       "    </tr>\n",
       "  </thead>\n",
       "  <tbody>\n",
       "    <tr>\n",
       "      <th>8</th>\n",
       "      <td>Launch a promotion that gives users discounts ...</td>\n",
       "      <td>1</td>\n",
       "      <td>9</td>\n",
       "      <td>9</td>\n",
       "      <td>5</td>\n",
       "      <td>16.200000</td>\n",
       "      <td>16.2</td>\n",
       "    </tr>\n",
       "    <tr>\n",
       "      <th>0</th>\n",
       "      <td>Add two new channels for attracting traffic. T...</td>\n",
       "      <td>3</td>\n",
       "      <td>10</td>\n",
       "      <td>8</td>\n",
       "      <td>6</td>\n",
       "      <td>13.333333</td>\n",
       "      <td>40.0</td>\n",
       "    </tr>\n",
       "    <tr>\n",
       "      <th>7</th>\n",
       "      <td>Add a subscription form to all the main pages....</td>\n",
       "      <td>10</td>\n",
       "      <td>7</td>\n",
       "      <td>8</td>\n",
       "      <td>5</td>\n",
       "      <td>11.200000</td>\n",
       "      <td>112.0</td>\n",
       "    </tr>\n",
       "    <tr>\n",
       "      <th>6</th>\n",
       "      <td>Show banners with current offers and sales on ...</td>\n",
       "      <td>5</td>\n",
       "      <td>3</td>\n",
       "      <td>8</td>\n",
       "      <td>3</td>\n",
       "      <td>8.000000</td>\n",
       "      <td>40.0</td>\n",
       "    </tr>\n",
       "    <tr>\n",
       "      <th>2</th>\n",
       "      <td>Add product recommendation blocks to the store...</td>\n",
       "      <td>8</td>\n",
       "      <td>3</td>\n",
       "      <td>7</td>\n",
       "      <td>3</td>\n",
       "      <td>7.000000</td>\n",
       "      <td>56.0</td>\n",
       "    </tr>\n",
       "    <tr>\n",
       "      <th>1</th>\n",
       "      <td>Launch your own delivery service. This will sh...</td>\n",
       "      <td>2</td>\n",
       "      <td>5</td>\n",
       "      <td>4</td>\n",
       "      <td>10</td>\n",
       "      <td>2.000000</td>\n",
       "      <td>4.0</td>\n",
       "    </tr>\n",
       "    <tr>\n",
       "      <th>5</th>\n",
       "      <td>Add a customer review page. This will increase...</td>\n",
       "      <td>3</td>\n",
       "      <td>2</td>\n",
       "      <td>2</td>\n",
       "      <td>3</td>\n",
       "      <td>1.333333</td>\n",
       "      <td>4.0</td>\n",
       "    </tr>\n",
       "    <tr>\n",
       "      <th>3</th>\n",
       "      <td>Change the category structure. This will incre...</td>\n",
       "      <td>8</td>\n",
       "      <td>3</td>\n",
       "      <td>3</td>\n",
       "      <td>8</td>\n",
       "      <td>1.125000</td>\n",
       "      <td>9.0</td>\n",
       "    </tr>\n",
       "    <tr>\n",
       "      <th>4</th>\n",
       "      <td>Change the background color on the main page. ...</td>\n",
       "      <td>3</td>\n",
       "      <td>1</td>\n",
       "      <td>1</td>\n",
       "      <td>1</td>\n",
       "      <td>1.000000</td>\n",
       "      <td>3.0</td>\n",
       "    </tr>\n",
       "  </tbody>\n",
       "</table>\n",
       "</div>"
      ],
      "text/plain": [
       "                                          Hypothesis  Reach  Impact  \\\n",
       "8  Launch a promotion that gives users discounts ...      1       9   \n",
       "0  Add two new channels for attracting traffic. T...      3      10   \n",
       "7  Add a subscription form to all the main pages....     10       7   \n",
       "6  Show banners with current offers and sales on ...      5       3   \n",
       "2  Add product recommendation blocks to the store...      8       3   \n",
       "1  Launch your own delivery service. This will sh...      2       5   \n",
       "5  Add a customer review page. This will increase...      3       2   \n",
       "3  Change the category structure. This will incre...      8       3   \n",
       "4  Change the background color on the main page. ...      3       1   \n",
       "\n",
       "   Confidence  Effort        ICE   RICE  \n",
       "8           9       5  16.200000   16.2  \n",
       "0           8       6  13.333333   40.0  \n",
       "7           8       5  11.200000  112.0  \n",
       "6           8       3   8.000000   40.0  \n",
       "2           7       3   7.000000   56.0  \n",
       "1           4      10   2.000000    4.0  \n",
       "5           2       3   1.333333    4.0  \n",
       "3           3       8   1.125000    9.0  \n",
       "4           1       1   1.000000    3.0  "
      ]
     },
     "execution_count": 8,
     "metadata": {},
     "output_type": "execute_result"
    }
   ],
   "source": [
    "hypotheses_path.sort_values(by='ICE', ascending=False)"
   ]
  },
  {
   "cell_type": "markdown",
   "metadata": {},
   "source": [
    "    Findings:\n",
    "    \n",
    "    - According to the ICE method, the hypotheses 8,0,7 lead: a birthday promotion, two new traffic channels, an email subscription form."
   ]
  },
  {
   "cell_type": "markdown",
   "metadata": {},
   "source": [
    "[Back to Contents](#tableofcontents)"
   ]
  },
  {
   "cell_type": "markdown",
   "metadata": {},
   "source": [
    "#### Framework RICE"
   ]
  },
  {
   "cell_type": "code",
   "execution_count": 9,
   "metadata": {},
   "outputs": [
    {
     "data": {
      "text/html": [
       "<div>\n",
       "<style scoped>\n",
       "    .dataframe tbody tr th:only-of-type {\n",
       "        vertical-align: middle;\n",
       "    }\n",
       "\n",
       "    .dataframe tbody tr th {\n",
       "        vertical-align: top;\n",
       "    }\n",
       "\n",
       "    .dataframe thead th {\n",
       "        text-align: right;\n",
       "    }\n",
       "</style>\n",
       "<table border=\"1\" class=\"dataframe\">\n",
       "  <thead>\n",
       "    <tr style=\"text-align: right;\">\n",
       "      <th></th>\n",
       "      <th>Hypothesis</th>\n",
       "      <th>Reach</th>\n",
       "      <th>Impact</th>\n",
       "      <th>Confidence</th>\n",
       "      <th>Effort</th>\n",
       "      <th>ICE</th>\n",
       "      <th>RICE</th>\n",
       "    </tr>\n",
       "  </thead>\n",
       "  <tbody>\n",
       "    <tr>\n",
       "      <th>7</th>\n",
       "      <td>Add a subscription form to all the main pages....</td>\n",
       "      <td>10</td>\n",
       "      <td>7</td>\n",
       "      <td>8</td>\n",
       "      <td>5</td>\n",
       "      <td>11.200000</td>\n",
       "      <td>112.0</td>\n",
       "    </tr>\n",
       "    <tr>\n",
       "      <th>2</th>\n",
       "      <td>Add product recommendation blocks to the store...</td>\n",
       "      <td>8</td>\n",
       "      <td>3</td>\n",
       "      <td>7</td>\n",
       "      <td>3</td>\n",
       "      <td>7.000000</td>\n",
       "      <td>56.0</td>\n",
       "    </tr>\n",
       "    <tr>\n",
       "      <th>0</th>\n",
       "      <td>Add two new channels for attracting traffic. T...</td>\n",
       "      <td>3</td>\n",
       "      <td>10</td>\n",
       "      <td>8</td>\n",
       "      <td>6</td>\n",
       "      <td>13.333333</td>\n",
       "      <td>40.0</td>\n",
       "    </tr>\n",
       "    <tr>\n",
       "      <th>6</th>\n",
       "      <td>Show banners with current offers and sales on ...</td>\n",
       "      <td>5</td>\n",
       "      <td>3</td>\n",
       "      <td>8</td>\n",
       "      <td>3</td>\n",
       "      <td>8.000000</td>\n",
       "      <td>40.0</td>\n",
       "    </tr>\n",
       "    <tr>\n",
       "      <th>8</th>\n",
       "      <td>Launch a promotion that gives users discounts ...</td>\n",
       "      <td>1</td>\n",
       "      <td>9</td>\n",
       "      <td>9</td>\n",
       "      <td>5</td>\n",
       "      <td>16.200000</td>\n",
       "      <td>16.2</td>\n",
       "    </tr>\n",
       "    <tr>\n",
       "      <th>3</th>\n",
       "      <td>Change the category structure. This will incre...</td>\n",
       "      <td>8</td>\n",
       "      <td>3</td>\n",
       "      <td>3</td>\n",
       "      <td>8</td>\n",
       "      <td>1.125000</td>\n",
       "      <td>9.0</td>\n",
       "    </tr>\n",
       "    <tr>\n",
       "      <th>1</th>\n",
       "      <td>Launch your own delivery service. This will sh...</td>\n",
       "      <td>2</td>\n",
       "      <td>5</td>\n",
       "      <td>4</td>\n",
       "      <td>10</td>\n",
       "      <td>2.000000</td>\n",
       "      <td>4.0</td>\n",
       "    </tr>\n",
       "    <tr>\n",
       "      <th>5</th>\n",
       "      <td>Add a customer review page. This will increase...</td>\n",
       "      <td>3</td>\n",
       "      <td>2</td>\n",
       "      <td>2</td>\n",
       "      <td>3</td>\n",
       "      <td>1.333333</td>\n",
       "      <td>4.0</td>\n",
       "    </tr>\n",
       "    <tr>\n",
       "      <th>4</th>\n",
       "      <td>Change the background color on the main page. ...</td>\n",
       "      <td>3</td>\n",
       "      <td>1</td>\n",
       "      <td>1</td>\n",
       "      <td>1</td>\n",
       "      <td>1.000000</td>\n",
       "      <td>3.0</td>\n",
       "    </tr>\n",
       "  </tbody>\n",
       "</table>\n",
       "</div>"
      ],
      "text/plain": [
       "                                          Hypothesis  Reach  Impact  \\\n",
       "7  Add a subscription form to all the main pages....     10       7   \n",
       "2  Add product recommendation blocks to the store...      8       3   \n",
       "0  Add two new channels for attracting traffic. T...      3      10   \n",
       "6  Show banners with current offers and sales on ...      5       3   \n",
       "8  Launch a promotion that gives users discounts ...      1       9   \n",
       "3  Change the category structure. This will incre...      8       3   \n",
       "1  Launch your own delivery service. This will sh...      2       5   \n",
       "5  Add a customer review page. This will increase...      3       2   \n",
       "4  Change the background color on the main page. ...      3       1   \n",
       "\n",
       "   Confidence  Effort        ICE   RICE  \n",
       "7           8       5  11.200000  112.0  \n",
       "2           7       3   7.000000   56.0  \n",
       "0           8       6  13.333333   40.0  \n",
       "6           8       3   8.000000   40.0  \n",
       "8           9       5  16.200000   16.2  \n",
       "3           3       8   1.125000    9.0  \n",
       "1           4      10   2.000000    4.0  \n",
       "5           2       3   1.333333    4.0  \n",
       "4           1       1   1.000000    3.0  "
      ]
     },
     "execution_count": 9,
     "metadata": {},
     "output_type": "execute_result"
    }
   ],
   "source": [
    "hypotheses_path.sort_values(by='RICE', ascending=False)"
   ]
  },
  {
   "cell_type": "markdown",
   "metadata": {},
   "source": [
    "    Findings:\n",
    "    \n",
    "    - According to the RICE method, hypotheses 7,2,0 lead: email subscription form, product recommendations, 2 new traffic channels."
   ]
  },
  {
   "cell_type": "markdown",
   "metadata": {},
   "source": [
    "[Back to Contents](#tableofcontents)"
   ]
  },
  {
   "cell_type": "markdown",
   "metadata": {},
   "source": [
    "#### Analysis Both Two Frameworks 'ICE' and 'RICE'"
   ]
  },
  {
   "cell_type": "code",
   "execution_count": 10,
   "metadata": {},
   "outputs": [],
   "source": [
    "def sun_plot(df, metric):\n",
    "    \n",
    "    ordered_df = df.sort_values(by = metric).reset_index() \n",
    "    line_order = ordered_df.index \n",
    "    \n",
    "    plt.hlines(y = line_order, xmin = 0, xmax = ordered_df[metric], color='skyblue') \n",
    "    plt.plot(ordered_df[metric], line_order, 'o') \n",
    "    \n",
    "    plt.yticks(line_order, ordered_df['Hypothesis'])\n",
    "    plt.title(metric)"
   ]
  },
  {
   "cell_type": "code",
   "execution_count": 11,
   "metadata": {},
   "outputs": [
    {
     "data": {
      "image/png": "[encoded data removed]",
      "text/plain": [
       "<Figure size 432x288 with 1 Axes>"
      ]
     },
     "metadata": {
      "needs_background": "light"
     },
     "output_type": "display_data"
    }
   ],
   "source": [
    "sun_plot(hypotheses_path, 'ICE')"
   ]
  },
  {
   "cell_type": "code",
   "execution_count": 12,
   "metadata": {},
   "outputs": [
    {
     "data": {
      "image/png": "[encoded data removed]",
      "text/plain": [
       "<Figure size 432x288 with 1 Axes>"
      ]
     },
     "metadata": {
      "needs_background": "light"
     },
     "output_type": "display_data"
    }
   ],
   "source": [
    "sun_plot(hypotheses_path, 'RICE')"
   ]
  },
  {
   "cell_type": "code",
   "execution_count": 13,
   "metadata": {},
   "outputs": [
    {
     "data": {
      "image/png": "[encoded data removed]",
      "text/plain": [
       "<Figure size 432x288 with 1 Axes>"
      ]
     },
     "metadata": {
      "needs_background": "light"
     },
     "output_type": "display_data"
    }
   ],
   "source": [
    "ordered_df = hypotheses_path.sort_values(by = 'ICE').reset_index() \n",
    "line_order = ordered_df.index\n",
    "\n",
    "\n",
    "plt.hlines(y = line_order, xmin = ordered_df['ICE'], xmax = ordered_df['RICE'], color = '#0e668b', alpha = 0.4)\n",
    "plt.scatter(ordered_df['ICE'], line_order, color = '#a3c4dc', label = 'ICE')\n",
    "plt.scatter(ordered_df['RICE'], line_order, color = '#0e668b', label = 'RICE')\n",
    "plt.legend()\n",
    "\n",
    "\n",
    "plt.yticks(line_order, ordered_df['Hypothesis'])\n",
    "plt.title('Comparison of ICE & RICE', loc = 'left')\n",
    "plt.show()"
   ]
  },
  {
   "cell_type": "markdown",
   "metadata": {},
   "source": [
    "#### Findings"
   ]
  },
  {
   "cell_type": "markdown",
   "metadata": {},
   "source": [
    "    - The function syntax 'sun_plot(hypotheses_path, 'ICE')' displays that 'Hypothesis' which has the highest value of other 'Hypothesis' is 'Launch a promotion that gives users discounts on their birthdays'. Thus, 'Hypothesis' (8) leads to the 'ICE' method.\n",
    "\n",
    "    - The function syntax 'sun_plot(hypotheses_path, 'RICE')' displays that 'Hypothesis' which has the highest value of the other 'Hypothesis' is 'Add a subscription form to all the main pages. This will help you compile a mailing list'. Thus, 'Hypothesis' (7) leads to the 'RICE' method.\n",
    "\n",
    "    - Whereas for both 'ICE' and 'RICE' methods, 'Hypothesis' which has the highest value is 'Add a subscription form to all the main pages. This will help you compile a mailing list'. Thus, the 'Hypothesis' leads in both methods of the framework."
   ]
  },
  {
   "cell_type": "markdown",
   "metadata": {},
   "source": [
    "[Back to Contents](#tableofcontents)"
   ]
  },
  {
   "cell_type": "markdown",
   "metadata": {},
   "source": [
    "# How the prioritization of hypotheses was changed"
   ]
  },
  {
   "cell_type": "markdown",
   "metadata": {},
   "source": [
    "    - Hypothesis 7 (to add an email subscription form) scored more points in the RICE framework because it affects the maximum number of users - 10 points out of 10.\n",
    "    \n",
    "    - Hypothesis 8 (birthday promotions) is completely removed from the list of priority hypothese because it only affects users on their birthday.\n",
    "\n",
    "    - But the hypothesis 2 (product recommendations) took the second place because it covers a much larger number of users than birthday people.\n",
    "\n",
    "    - Since in our case it is the reach that is important (and not the quality of the audience where VIP clients are guaranteed to generate large revenue), we will take into account the coverage parameter while prioritizing hypotheses."
   ]
  },
  {
   "cell_type": "markdown",
   "metadata": {},
   "source": [
    "[Back to Contents](#tableofcontents)"
   ]
  },
  {
   "cell_type": "markdown",
   "metadata": {},
   "source": [
    "### Section 2: A/B Testing Analysis"
   ]
  },
  {
   "cell_type": "markdown",
   "metadata": {},
   "source": [
    "#### Preparation for A/B Testing Data"
   ]
  },
  {
   "cell_type": "code",
   "execution_count": 14,
   "metadata": {},
   "outputs": [],
   "source": [
    "orders_path = pd.read_csv('/datasets/orders_us.csv', sep=',')\n",
    "orders_path['date'] = orders_path['date'].map(lambda x: dt.datetime.strptime(x, '%Y-%m-%d'))\n",
    "\n",
    "visits_path = pd.read_csv('/datasets/visits_us.csv', sep=',')\n",
    "visits_path['date'] = visits_path['date'].map(lambda x: dt.datetime.strptime(x, '%Y-%m-%d'))"
   ]
  },
  {
   "cell_type": "code",
   "execution_count": 15,
   "metadata": {},
   "outputs": [
    {
     "data": {
      "text/html": [
       "<div>\n",
       "<style scoped>\n",
       "    .dataframe tbody tr th:only-of-type {\n",
       "        vertical-align: middle;\n",
       "    }\n",
       "\n",
       "    .dataframe tbody tr th {\n",
       "        vertical-align: top;\n",
       "    }\n",
       "\n",
       "    .dataframe thead th {\n",
       "        text-align: right;\n",
       "    }\n",
       "</style>\n",
       "<table border=\"1\" class=\"dataframe\">\n",
       "  <thead>\n",
       "    <tr style=\"text-align: right;\">\n",
       "      <th></th>\n",
       "      <th>transactionId</th>\n",
       "      <th>visitorId</th>\n",
       "      <th>date</th>\n",
       "      <th>revenue</th>\n",
       "      <th>group</th>\n",
       "    </tr>\n",
       "  </thead>\n",
       "  <tbody>\n",
       "    <tr>\n",
       "      <th>0</th>\n",
       "      <td>3667963787</td>\n",
       "      <td>3312258926</td>\n",
       "      <td>2019-08-15</td>\n",
       "      <td>30.4</td>\n",
       "      <td>B</td>\n",
       "    </tr>\n",
       "    <tr>\n",
       "      <th>1</th>\n",
       "      <td>2804400009</td>\n",
       "      <td>3642806036</td>\n",
       "      <td>2019-08-15</td>\n",
       "      <td>15.2</td>\n",
       "      <td>B</td>\n",
       "    </tr>\n",
       "    <tr>\n",
       "      <th>2</th>\n",
       "      <td>2961555356</td>\n",
       "      <td>4069496402</td>\n",
       "      <td>2019-08-15</td>\n",
       "      <td>10.2</td>\n",
       "      <td>A</td>\n",
       "    </tr>\n",
       "    <tr>\n",
       "      <th>3</th>\n",
       "      <td>3797467345</td>\n",
       "      <td>1196621759</td>\n",
       "      <td>2019-08-15</td>\n",
       "      <td>155.1</td>\n",
       "      <td>B</td>\n",
       "    </tr>\n",
       "    <tr>\n",
       "      <th>4</th>\n",
       "      <td>2282983706</td>\n",
       "      <td>2322279887</td>\n",
       "      <td>2019-08-15</td>\n",
       "      <td>40.5</td>\n",
       "      <td>B</td>\n",
       "    </tr>\n",
       "  </tbody>\n",
       "</table>\n",
       "</div>"
      ],
      "text/plain": [
       "   transactionId   visitorId       date  revenue group\n",
       "0     3667963787  3312258926 2019-08-15     30.4     B\n",
       "1     2804400009  3642806036 2019-08-15     15.2     B\n",
       "2     2961555356  4069496402 2019-08-15     10.2     A\n",
       "3     3797467345  1196621759 2019-08-15    155.1     B\n",
       "4     2282983706  2322279887 2019-08-15     40.5     B"
      ]
     },
     "execution_count": 15,
     "metadata": {},
     "output_type": "execute_result"
    }
   ],
   "source": [
    "orders_path.head()"
   ]
  },
  {
   "cell_type": "code",
   "execution_count": 16,
   "metadata": {},
   "outputs": [
    {
     "data": {
      "text/html": [
       "<div>\n",
       "<style scoped>\n",
       "    .dataframe tbody tr th:only-of-type {\n",
       "        vertical-align: middle;\n",
       "    }\n",
       "\n",
       "    .dataframe tbody tr th {\n",
       "        vertical-align: top;\n",
       "    }\n",
       "\n",
       "    .dataframe thead th {\n",
       "        text-align: right;\n",
       "    }\n",
       "</style>\n",
       "<table border=\"1\" class=\"dataframe\">\n",
       "  <thead>\n",
       "    <tr style=\"text-align: right;\">\n",
       "      <th></th>\n",
       "      <th>date</th>\n",
       "      <th>group</th>\n",
       "      <th>visits</th>\n",
       "    </tr>\n",
       "  </thead>\n",
       "  <tbody>\n",
       "    <tr>\n",
       "      <th>0</th>\n",
       "      <td>2019-08-01</td>\n",
       "      <td>A</td>\n",
       "      <td>719</td>\n",
       "    </tr>\n",
       "    <tr>\n",
       "      <th>1</th>\n",
       "      <td>2019-08-02</td>\n",
       "      <td>A</td>\n",
       "      <td>619</td>\n",
       "    </tr>\n",
       "    <tr>\n",
       "      <th>2</th>\n",
       "      <td>2019-08-03</td>\n",
       "      <td>A</td>\n",
       "      <td>507</td>\n",
       "    </tr>\n",
       "    <tr>\n",
       "      <th>3</th>\n",
       "      <td>2019-08-04</td>\n",
       "      <td>A</td>\n",
       "      <td>717</td>\n",
       "    </tr>\n",
       "    <tr>\n",
       "      <th>4</th>\n",
       "      <td>2019-08-05</td>\n",
       "      <td>A</td>\n",
       "      <td>756</td>\n",
       "    </tr>\n",
       "  </tbody>\n",
       "</table>\n",
       "</div>"
      ],
      "text/plain": [
       "        date group  visits\n",
       "0 2019-08-01     A     719\n",
       "1 2019-08-02     A     619\n",
       "2 2019-08-03     A     507\n",
       "3 2019-08-04     A     717\n",
       "4 2019-08-05     A     756"
      ]
     },
     "execution_count": 16,
     "metadata": {},
     "output_type": "execute_result"
    }
   ],
   "source": [
    "visits_path.head()"
   ]
  },
  {
   "cell_type": "code",
   "execution_count": 17,
   "metadata": {},
   "outputs": [
    {
     "data": {
      "text/html": [
       "<div>\n",
       "<style scoped>\n",
       "    .dataframe tbody tr th:only-of-type {\n",
       "        vertical-align: middle;\n",
       "    }\n",
       "\n",
       "    .dataframe tbody tr th {\n",
       "        vertical-align: top;\n",
       "    }\n",
       "\n",
       "    .dataframe thead th {\n",
       "        text-align: right;\n",
       "    }\n",
       "</style>\n",
       "<table border=\"1\" class=\"dataframe\">\n",
       "  <thead>\n",
       "    <tr style=\"text-align: right;\">\n",
       "      <th></th>\n",
       "      <th>date</th>\n",
       "      <th>group</th>\n",
       "      <th>orders</th>\n",
       "      <th>buyers</th>\n",
       "      <th>revenue</th>\n",
       "      <th>visits</th>\n",
       "    </tr>\n",
       "  </thead>\n",
       "  <tbody>\n",
       "    <tr>\n",
       "      <th>0</th>\n",
       "      <td>2019-08-01</td>\n",
       "      <td>A</td>\n",
       "      <td>24</td>\n",
       "      <td>20</td>\n",
       "      <td>2356.8</td>\n",
       "      <td>719</td>\n",
       "    </tr>\n",
       "    <tr>\n",
       "      <th>1</th>\n",
       "      <td>2019-08-01</td>\n",
       "      <td>B</td>\n",
       "      <td>21</td>\n",
       "      <td>20</td>\n",
       "      <td>1620.0</td>\n",
       "      <td>713</td>\n",
       "    </tr>\n",
       "    <tr>\n",
       "      <th>2</th>\n",
       "      <td>2019-08-02</td>\n",
       "      <td>A</td>\n",
       "      <td>44</td>\n",
       "      <td>38</td>\n",
       "      <td>3860.3</td>\n",
       "      <td>1338</td>\n",
       "    </tr>\n",
       "    <tr>\n",
       "      <th>3</th>\n",
       "      <td>2019-08-02</td>\n",
       "      <td>B</td>\n",
       "      <td>45</td>\n",
       "      <td>43</td>\n",
       "      <td>4243.8</td>\n",
       "      <td>1294</td>\n",
       "    </tr>\n",
       "    <tr>\n",
       "      <th>4</th>\n",
       "      <td>2019-08-03</td>\n",
       "      <td>A</td>\n",
       "      <td>68</td>\n",
       "      <td>62</td>\n",
       "      <td>5675.5</td>\n",
       "      <td>1845</td>\n",
       "    </tr>\n",
       "  </tbody>\n",
       "</table>\n",
       "</div>"
      ],
      "text/plain": [
       "        date group  orders  buyers  revenue  visits\n",
       "0 2019-08-01     A      24      20   2356.8     719\n",
       "1 2019-08-01     B      21      20   1620.0     713\n",
       "2 2019-08-02     A      44      38   3860.3    1338\n",
       "3 2019-08-02     B      45      43   4243.8    1294\n",
       "4 2019-08-03     A      68      62   5675.5    1845"
      ]
     },
     "execution_count": 17,
     "metadata": {},
     "output_type": "execute_result"
    }
   ],
   "source": [
    "datesGroups = orders_path[['date', 'group']].drop_duplicates()\n",
    "\n",
    "orders_pathAggregated = datesGroups.apply(\n",
    "    lambda x: orders_path[np.logical_and(orders_path['date'] <= x['date'], orders_path['group'] == x['group'])].agg({\n",
    "        'date' : 'max', \n",
    "        'group' : 'max', \n",
    "        'transactionId' : pd.Series.nunique, \n",
    "        'visitorId' : pd.Series.nunique, \n",
    "        'revenue' : 'sum'}), axis=1).sort_values(by=['date', 'group'])\n",
    "\n",
    "visits_pathAggregated = datesGroups.apply(\n",
    "    lambda x: visits_path[np.logical_and(visits_path['date'] <= x['date'], visits_path['group'] == x['group'])].agg({\n",
    "        'date' : 'max', \n",
    "        'group' : 'max', \n",
    "        'visits' : 'sum'}), axis=1).sort_values(by=['date', 'group'])\n",
    "\n",
    "cumulativeData = orders_pathAggregated.merge(visits_pathAggregated, left_on=['date', 'group'], right_on=['date', 'group'])\n",
    "cumulativeData.columns = ['date', 'group', 'orders', 'buyers', 'revenue', 'visits']\n",
    "\n",
    "cumulativeData.head()"
   ]
  },
  {
   "cell_type": "code",
   "execution_count": 18,
   "metadata": {},
   "outputs": [
    {
     "name": "stdout",
     "output_type": "stream",
     "text": [
      "2019-08-01 00:00:00\n",
      "2019-08-31 00:00:00\n",
      "1197\n"
     ]
    }
   ],
   "source": [
    "print(orders_path['date'].min())\n",
    "print(orders_path['date'].max())\n",
    "print(len(orders_path))"
   ]
  },
  {
   "cell_type": "markdown",
   "metadata": {},
   "source": [
    "#### Tentative Conclusions"
   ]
  },
  {
   "cell_type": "markdown",
   "metadata": {},
   "source": [
    "    Findings:\n",
    "    \n",
    "    - In the Preparation for A/B Testing Data session, we changed the 'date' column in the 'orders_path' and 'visits_path' variables to a datetime form."
   ]
  },
  {
   "cell_type": "markdown",
   "metadata": {},
   "source": [
    "[Back to Contents](#tableofcontents)"
   ]
  },
  {
   "cell_type": "markdown",
   "metadata": {},
   "source": [
    "### Data Overview Elaboration"
   ]
  },
  {
   "cell_type": "markdown",
   "metadata": {},
   "source": [
    "    In the Data Overview Elaboration session, we will open up the data for each variables further."
   ]
  },
  {
   "cell_type": "markdown",
   "metadata": {},
   "source": [
    "#### 'hypotheses_path'"
   ]
  },
  {
   "cell_type": "code",
   "execution_count": 19,
   "metadata": {},
   "outputs": [
    {
     "name": "stdout",
     "output_type": "stream",
     "text": [
      "<class 'pandas.core.frame.DataFrame'>\n",
      "RangeIndex: 9 entries, 0 to 8\n",
      "Data columns (total 7 columns):\n",
      " #   Column      Non-Null Count  Dtype  \n",
      "---  ------      --------------  -----  \n",
      " 0   Hypothesis  9 non-null      object \n",
      " 1   Reach       9 non-null      int64  \n",
      " 2   Impact      9 non-null      int64  \n",
      " 3   Confidence  9 non-null      int64  \n",
      " 4   Effort      9 non-null      int64  \n",
      " 5   ICE         9 non-null      float64\n",
      " 6   RICE        9 non-null      float64\n",
      "dtypes: float64(2), int64(4), object(1)\n",
      "memory usage: 632.0+ bytes\n"
     ]
    }
   ],
   "source": [
    "hypotheses_path.info()"
   ]
  },
  {
   "cell_type": "code",
   "execution_count": 20,
   "metadata": {},
   "outputs": [
    {
     "data": {
      "text/html": [
       "<div>\n",
       "<style scoped>\n",
       "    .dataframe tbody tr th:only-of-type {\n",
       "        vertical-align: middle;\n",
       "    }\n",
       "\n",
       "    .dataframe tbody tr th {\n",
       "        vertical-align: top;\n",
       "    }\n",
       "\n",
       "    .dataframe thead th {\n",
       "        text-align: right;\n",
       "    }\n",
       "</style>\n",
       "<table border=\"1\" class=\"dataframe\">\n",
       "  <thead>\n",
       "    <tr style=\"text-align: right;\">\n",
       "      <th></th>\n",
       "      <th>Hypothesis</th>\n",
       "      <th>Reach</th>\n",
       "      <th>Impact</th>\n",
       "      <th>Confidence</th>\n",
       "      <th>Effort</th>\n",
       "      <th>ICE</th>\n",
       "      <th>RICE</th>\n",
       "    </tr>\n",
       "  </thead>\n",
       "  <tbody>\n",
       "    <tr>\n",
       "      <th>0</th>\n",
       "      <td>Add two new channels for attracting traffic. T...</td>\n",
       "      <td>3</td>\n",
       "      <td>10</td>\n",
       "      <td>8</td>\n",
       "      <td>6</td>\n",
       "      <td>13.333333</td>\n",
       "      <td>40.0</td>\n",
       "    </tr>\n",
       "    <tr>\n",
       "      <th>1</th>\n",
       "      <td>Launch your own delivery service. This will sh...</td>\n",
       "      <td>2</td>\n",
       "      <td>5</td>\n",
       "      <td>4</td>\n",
       "      <td>10</td>\n",
       "      <td>2.000000</td>\n",
       "      <td>4.0</td>\n",
       "    </tr>\n",
       "    <tr>\n",
       "      <th>2</th>\n",
       "      <td>Add product recommendation blocks to the store...</td>\n",
       "      <td>8</td>\n",
       "      <td>3</td>\n",
       "      <td>7</td>\n",
       "      <td>3</td>\n",
       "      <td>7.000000</td>\n",
       "      <td>56.0</td>\n",
       "    </tr>\n",
       "    <tr>\n",
       "      <th>3</th>\n",
       "      <td>Change the category structure. This will incre...</td>\n",
       "      <td>8</td>\n",
       "      <td>3</td>\n",
       "      <td>3</td>\n",
       "      <td>8</td>\n",
       "      <td>1.125000</td>\n",
       "      <td>9.0</td>\n",
       "    </tr>\n",
       "    <tr>\n",
       "      <th>4</th>\n",
       "      <td>Change the background color on the main page. ...</td>\n",
       "      <td>3</td>\n",
       "      <td>1</td>\n",
       "      <td>1</td>\n",
       "      <td>1</td>\n",
       "      <td>1.000000</td>\n",
       "      <td>3.0</td>\n",
       "    </tr>\n",
       "  </tbody>\n",
       "</table>\n",
       "</div>"
      ],
      "text/plain": [
       "                                          Hypothesis  Reach  Impact  \\\n",
       "0  Add two new channels for attracting traffic. T...      3      10   \n",
       "1  Launch your own delivery service. This will sh...      2       5   \n",
       "2  Add product recommendation blocks to the store...      8       3   \n",
       "3  Change the category structure. This will incre...      8       3   \n",
       "4  Change the background color on the main page. ...      3       1   \n",
       "\n",
       "   Confidence  Effort        ICE  RICE  \n",
       "0           8       6  13.333333  40.0  \n",
       "1           4      10   2.000000   4.0  \n",
       "2           7       3   7.000000  56.0  \n",
       "3           3       8   1.125000   9.0  \n",
       "4           1       1   1.000000   3.0  "
      ]
     },
     "execution_count": 20,
     "metadata": {},
     "output_type": "execute_result"
    }
   ],
   "source": [
    "hypotheses_path.head()"
   ]
  },
  {
   "cell_type": "code",
   "execution_count": 21,
   "metadata": {},
   "outputs": [
    {
     "data": {
      "text/html": [
       "<div>\n",
       "<style scoped>\n",
       "    .dataframe tbody tr th:only-of-type {\n",
       "        vertical-align: middle;\n",
       "    }\n",
       "\n",
       "    .dataframe tbody tr th {\n",
       "        vertical-align: top;\n",
       "    }\n",
       "\n",
       "    .dataframe thead th {\n",
       "        text-align: right;\n",
       "    }\n",
       "</style>\n",
       "<table border=\"1\" class=\"dataframe\">\n",
       "  <thead>\n",
       "    <tr style=\"text-align: right;\">\n",
       "      <th></th>\n",
       "      <th>Reach</th>\n",
       "      <th>Impact</th>\n",
       "      <th>Confidence</th>\n",
       "      <th>Effort</th>\n",
       "      <th>ICE</th>\n",
       "      <th>RICE</th>\n",
       "    </tr>\n",
       "  </thead>\n",
       "  <tbody>\n",
       "    <tr>\n",
       "      <th>count</th>\n",
       "      <td>9.000000</td>\n",
       "      <td>9.000000</td>\n",
       "      <td>9.000000</td>\n",
       "      <td>9.000000</td>\n",
       "      <td>9.000000</td>\n",
       "      <td>9.000000</td>\n",
       "    </tr>\n",
       "    <tr>\n",
       "      <th>mean</th>\n",
       "      <td>4.777778</td>\n",
       "      <td>4.777778</td>\n",
       "      <td>5.555556</td>\n",
       "      <td>4.888889</td>\n",
       "      <td>6.799074</td>\n",
       "      <td>31.577778</td>\n",
       "    </tr>\n",
       "    <tr>\n",
       "      <th>std</th>\n",
       "      <td>3.153481</td>\n",
       "      <td>3.192874</td>\n",
       "      <td>3.045944</td>\n",
       "      <td>2.803767</td>\n",
       "      <td>5.816512</td>\n",
       "      <td>35.864390</td>\n",
       "    </tr>\n",
       "    <tr>\n",
       "      <th>min</th>\n",
       "      <td>1.000000</td>\n",
       "      <td>1.000000</td>\n",
       "      <td>1.000000</td>\n",
       "      <td>1.000000</td>\n",
       "      <td>1.000000</td>\n",
       "      <td>3.000000</td>\n",
       "    </tr>\n",
       "    <tr>\n",
       "      <th>25%</th>\n",
       "      <td>3.000000</td>\n",
       "      <td>3.000000</td>\n",
       "      <td>3.000000</td>\n",
       "      <td>3.000000</td>\n",
       "      <td>1.333333</td>\n",
       "      <td>4.000000</td>\n",
       "    </tr>\n",
       "    <tr>\n",
       "      <th>50%</th>\n",
       "      <td>3.000000</td>\n",
       "      <td>3.000000</td>\n",
       "      <td>7.000000</td>\n",
       "      <td>5.000000</td>\n",
       "      <td>7.000000</td>\n",
       "      <td>16.200000</td>\n",
       "    </tr>\n",
       "    <tr>\n",
       "      <th>75%</th>\n",
       "      <td>8.000000</td>\n",
       "      <td>7.000000</td>\n",
       "      <td>8.000000</td>\n",
       "      <td>6.000000</td>\n",
       "      <td>11.200000</td>\n",
       "      <td>40.000000</td>\n",
       "    </tr>\n",
       "    <tr>\n",
       "      <th>max</th>\n",
       "      <td>10.000000</td>\n",
       "      <td>10.000000</td>\n",
       "      <td>9.000000</td>\n",
       "      <td>10.000000</td>\n",
       "      <td>16.200000</td>\n",
       "      <td>112.000000</td>\n",
       "    </tr>\n",
       "  </tbody>\n",
       "</table>\n",
       "</div>"
      ],
      "text/plain": [
       "           Reach     Impact  Confidence     Effort        ICE        RICE\n",
       "count   9.000000   9.000000    9.000000   9.000000   9.000000    9.000000\n",
       "mean    4.777778   4.777778    5.555556   4.888889   6.799074   31.577778\n",
       "std     3.153481   3.192874    3.045944   2.803767   5.816512   35.864390\n",
       "min     1.000000   1.000000    1.000000   1.000000   1.000000    3.000000\n",
       "25%     3.000000   3.000000    3.000000   3.000000   1.333333    4.000000\n",
       "50%     3.000000   3.000000    7.000000   5.000000   7.000000   16.200000\n",
       "75%     8.000000   7.000000    8.000000   6.000000  11.200000   40.000000\n",
       "max    10.000000  10.000000    9.000000  10.000000  16.200000  112.000000"
      ]
     },
     "execution_count": 21,
     "metadata": {},
     "output_type": "execute_result"
    }
   ],
   "source": [
    "hypotheses_path.describe()"
   ]
  },
  {
   "cell_type": "code",
   "execution_count": 22,
   "metadata": {},
   "outputs": [
    {
     "data": {
      "text/plain": [
       "0"
      ]
     },
     "execution_count": 22,
     "metadata": {},
     "output_type": "execute_result"
    }
   ],
   "source": [
    "hypotheses_path.duplicated().sum()"
   ]
  },
  {
   "cell_type": "markdown",
   "metadata": {},
   "source": [
    "    Findings for 'hypotheses_path' variable:\n",
    "    \n",
    "    - In the variable 'hypotheses_path', currently has 7 columns to analyze, namely:\n",
    "\n",
    "     1   Hypothesis  object \n",
    "     2   Reach       int64  \n",
    "     3   Impact      int64  \n",
    "     4   Confidence  int64  \n",
    "     5   Effort      int64  \n",
    "     6   ICE         float64\n",
    "     7   RICE        float64\n",
    "\n",
    "    with data type details: float64(2), int64(4), object(1).\n",
    "\n",
    "    - In the 'hypotheses_path' variable, the new columns that have been formed are 'ICE' and 'RICE'.\n",
    "\n",
    "    - There is no duplicate data in the 'hypotheses_path' variable."
   ]
  },
  {
   "cell_type": "markdown",
   "metadata": {},
   "source": [
    "[Back to Contents](#tableofcontents)"
   ]
  },
  {
   "cell_type": "markdown",
   "metadata": {},
   "source": [
    "#### 'orders_path'"
   ]
  },
  {
   "cell_type": "code",
   "execution_count": 23,
   "metadata": {},
   "outputs": [
    {
     "name": "stdout",
     "output_type": "stream",
     "text": [
      "<class 'pandas.core.frame.DataFrame'>\n",
      "RangeIndex: 1197 entries, 0 to 1196\n",
      "Data columns (total 5 columns):\n",
      " #   Column         Non-Null Count  Dtype         \n",
      "---  ------         --------------  -----         \n",
      " 0   transactionId  1197 non-null   int64         \n",
      " 1   visitorId      1197 non-null   int64         \n",
      " 2   date           1197 non-null   datetime64[ns]\n",
      " 3   revenue        1197 non-null   float64       \n",
      " 4   group          1197 non-null   object        \n",
      "dtypes: datetime64[ns](1), float64(1), int64(2), object(1)\n",
      "memory usage: 46.9+ KB\n"
     ]
    }
   ],
   "source": [
    "orders_path.info()"
   ]
  },
  {
   "cell_type": "code",
   "execution_count": 24,
   "metadata": {},
   "outputs": [
    {
     "data": {
      "text/html": [
       "<div>\n",
       "<style scoped>\n",
       "    .dataframe tbody tr th:only-of-type {\n",
       "        vertical-align: middle;\n",
       "    }\n",
       "\n",
       "    .dataframe tbody tr th {\n",
       "        vertical-align: top;\n",
       "    }\n",
       "\n",
       "    .dataframe thead th {\n",
       "        text-align: right;\n",
       "    }\n",
       "</style>\n",
       "<table border=\"1\" class=\"dataframe\">\n",
       "  <thead>\n",
       "    <tr style=\"text-align: right;\">\n",
       "      <th></th>\n",
       "      <th>transactionId</th>\n",
       "      <th>visitorId</th>\n",
       "      <th>date</th>\n",
       "      <th>revenue</th>\n",
       "      <th>group</th>\n",
       "    </tr>\n",
       "  </thead>\n",
       "  <tbody>\n",
       "    <tr>\n",
       "      <th>0</th>\n",
       "      <td>3667963787</td>\n",
       "      <td>3312258926</td>\n",
       "      <td>2019-08-15</td>\n",
       "      <td>30.4</td>\n",
       "      <td>B</td>\n",
       "    </tr>\n",
       "    <tr>\n",
       "      <th>1</th>\n",
       "      <td>2804400009</td>\n",
       "      <td>3642806036</td>\n",
       "      <td>2019-08-15</td>\n",
       "      <td>15.2</td>\n",
       "      <td>B</td>\n",
       "    </tr>\n",
       "    <tr>\n",
       "      <th>2</th>\n",
       "      <td>2961555356</td>\n",
       "      <td>4069496402</td>\n",
       "      <td>2019-08-15</td>\n",
       "      <td>10.2</td>\n",
       "      <td>A</td>\n",
       "    </tr>\n",
       "    <tr>\n",
       "      <th>3</th>\n",
       "      <td>3797467345</td>\n",
       "      <td>1196621759</td>\n",
       "      <td>2019-08-15</td>\n",
       "      <td>155.1</td>\n",
       "      <td>B</td>\n",
       "    </tr>\n",
       "    <tr>\n",
       "      <th>4</th>\n",
       "      <td>2282983706</td>\n",
       "      <td>2322279887</td>\n",
       "      <td>2019-08-15</td>\n",
       "      <td>40.5</td>\n",
       "      <td>B</td>\n",
       "    </tr>\n",
       "  </tbody>\n",
       "</table>\n",
       "</div>"
      ],
      "text/plain": [
       "   transactionId   visitorId       date  revenue group\n",
       "0     3667963787  3312258926 2019-08-15     30.4     B\n",
       "1     2804400009  3642806036 2019-08-15     15.2     B\n",
       "2     2961555356  4069496402 2019-08-15     10.2     A\n",
       "3     3797467345  1196621759 2019-08-15    155.1     B\n",
       "4     2282983706  2322279887 2019-08-15     40.5     B"
      ]
     },
     "execution_count": 24,
     "metadata": {},
     "output_type": "execute_result"
    }
   ],
   "source": [
    "orders_path.head()"
   ]
  },
  {
   "cell_type": "code",
   "execution_count": 25,
   "metadata": {},
   "outputs": [
    {
     "data": {
      "text/html": [
       "<div>\n",
       "<style scoped>\n",
       "    .dataframe tbody tr th:only-of-type {\n",
       "        vertical-align: middle;\n",
       "    }\n",
       "\n",
       "    .dataframe tbody tr th {\n",
       "        vertical-align: top;\n",
       "    }\n",
       "\n",
       "    .dataframe thead th {\n",
       "        text-align: right;\n",
       "    }\n",
       "</style>\n",
       "<table border=\"1\" class=\"dataframe\">\n",
       "  <thead>\n",
       "    <tr style=\"text-align: right;\">\n",
       "      <th></th>\n",
       "      <th>transactionId</th>\n",
       "      <th>visitorId</th>\n",
       "      <th>revenue</th>\n",
       "    </tr>\n",
       "  </thead>\n",
       "  <tbody>\n",
       "    <tr>\n",
       "      <th>count</th>\n",
       "      <td>1.197000e+03</td>\n",
       "      <td>1.197000e+03</td>\n",
       "      <td>1197.000000</td>\n",
       "    </tr>\n",
       "    <tr>\n",
       "      <th>mean</th>\n",
       "      <td>2.155621e+09</td>\n",
       "      <td>2.165960e+09</td>\n",
       "      <td>131.491646</td>\n",
       "    </tr>\n",
       "    <tr>\n",
       "      <th>std</th>\n",
       "      <td>1.229085e+09</td>\n",
       "      <td>1.236014e+09</td>\n",
       "      <td>603.004729</td>\n",
       "    </tr>\n",
       "    <tr>\n",
       "      <th>min</th>\n",
       "      <td>1.062393e+06</td>\n",
       "      <td>5.114589e+06</td>\n",
       "      <td>5.000000</td>\n",
       "    </tr>\n",
       "    <tr>\n",
       "      <th>25%</th>\n",
       "      <td>1.166776e+09</td>\n",
       "      <td>1.111826e+09</td>\n",
       "      <td>20.800000</td>\n",
       "    </tr>\n",
       "    <tr>\n",
       "      <th>50%</th>\n",
       "      <td>2.145194e+09</td>\n",
       "      <td>2.217985e+09</td>\n",
       "      <td>50.200000</td>\n",
       "    </tr>\n",
       "    <tr>\n",
       "      <th>75%</th>\n",
       "      <td>3.237740e+09</td>\n",
       "      <td>3.177606e+09</td>\n",
       "      <td>130.400000</td>\n",
       "    </tr>\n",
       "    <tr>\n",
       "      <th>max</th>\n",
       "      <td>4.293856e+09</td>\n",
       "      <td>4.283872e+09</td>\n",
       "      <td>19920.400000</td>\n",
       "    </tr>\n",
       "  </tbody>\n",
       "</table>\n",
       "</div>"
      ],
      "text/plain": [
       "       transactionId     visitorId       revenue\n",
       "count   1.197000e+03  1.197000e+03   1197.000000\n",
       "mean    2.155621e+09  2.165960e+09    131.491646\n",
       "std     1.229085e+09  1.236014e+09    603.004729\n",
       "min     1.062393e+06  5.114589e+06      5.000000\n",
       "25%     1.166776e+09  1.111826e+09     20.800000\n",
       "50%     2.145194e+09  2.217985e+09     50.200000\n",
       "75%     3.237740e+09  3.177606e+09    130.400000\n",
       "max     4.293856e+09  4.283872e+09  19920.400000"
      ]
     },
     "execution_count": 25,
     "metadata": {},
     "output_type": "execute_result"
    }
   ],
   "source": [
    "orders_path.describe()"
   ]
  },
  {
   "cell_type": "code",
   "execution_count": 26,
   "metadata": {},
   "outputs": [
    {
     "data": {
      "text/plain": [
       "0"
      ]
     },
     "execution_count": 26,
     "metadata": {},
     "output_type": "execute_result"
    }
   ],
   "source": [
    "orders_path.duplicated().sum()"
   ]
  },
  {
   "cell_type": "code",
   "execution_count": 27,
   "metadata": {},
   "outputs": [
    {
     "data": {
      "text/plain": [
       "1031"
      ]
     },
     "execution_count": 27,
     "metadata": {},
     "output_type": "execute_result"
    }
   ],
   "source": [
    "len(orders_path['visitorId'].unique())"
   ]
  },
  {
   "cell_type": "code",
   "execution_count": 28,
   "metadata": {},
   "outputs": [
    {
     "data": {
      "text/plain": [
       "1197"
      ]
     },
     "execution_count": 28,
     "metadata": {},
     "output_type": "execute_result"
    }
   ],
   "source": [
    "len(orders_path)"
   ]
  },
  {
   "cell_type": "code",
   "execution_count": 29,
   "metadata": {},
   "outputs": [
    {
     "name": "stderr",
     "output_type": "stream",
     "text": [
      "/tmp/ipykernel_27/1425617737.py:1: FutureWarning: Treating datetime data as categorical rather than numeric in `.describe` is deprecated and will be removed in a future version of pandas. Specify `datetime_is_numeric=True` to silence this warning and adopt the future behavior now.\n",
      "  orders_path['date'].describe()\n"
     ]
    },
    {
     "data": {
      "text/plain": [
       "count                    1197\n",
       "unique                     31\n",
       "top       2019-08-05 00:00:00\n",
       "freq                       48\n",
       "first     2019-08-01 00:00:00\n",
       "last      2019-08-31 00:00:00\n",
       "Name: date, dtype: object"
      ]
     },
     "execution_count": 29,
     "metadata": {},
     "output_type": "execute_result"
    }
   ],
   "source": [
    "orders_path['date'].describe()"
   ]
  },
  {
   "cell_type": "markdown",
   "metadata": {},
   "source": [
    "    Findings for 'orders_path' variable:\n",
    "    \n",
    "    - In the 'orders_path' variable, it has 5 columns to analyze, namely:\n",
    "\n",
    "     1   transactionId    int64         \n",
    "     2   visitorId        int64         \n",
    "     3   date             datetime64[ns]\n",
    "     4   revenue          float64       \n",
    "     5   group            object    \n",
    "\n",
    "    with data type details: datetime64[ns](1), float64(1), int64(2), object(1).\n",
    "\n",
    "    - There is no duplicate data in the 'orders_path' variable.\n",
    "    \n",
    "    - There are 1031 unique users in the sample.\n",
    "    \n",
    "    - There is data for the whole of August 2019 on data information \"orders_path['date'].describe()\"."
   ]
  },
  {
   "cell_type": "markdown",
   "metadata": {},
   "source": [
    "[Back to Contents](#tableofcontents)"
   ]
  },
  {
   "cell_type": "markdown",
   "metadata": {},
   "source": [
    "#### 'visits_path'"
   ]
  },
  {
   "cell_type": "code",
   "execution_count": 30,
   "metadata": {},
   "outputs": [
    {
     "name": "stdout",
     "output_type": "stream",
     "text": [
      "<class 'pandas.core.frame.DataFrame'>\n",
      "RangeIndex: 62 entries, 0 to 61\n",
      "Data columns (total 3 columns):\n",
      " #   Column  Non-Null Count  Dtype         \n",
      "---  ------  --------------  -----         \n",
      " 0   date    62 non-null     datetime64[ns]\n",
      " 1   group   62 non-null     object        \n",
      " 2   visits  62 non-null     int64         \n",
      "dtypes: datetime64[ns](1), int64(1), object(1)\n",
      "memory usage: 1.6+ KB\n"
     ]
    }
   ],
   "source": [
    "visits_path.info()"
   ]
  },
  {
   "cell_type": "code",
   "execution_count": 31,
   "metadata": {},
   "outputs": [
    {
     "data": {
      "text/html": [
       "<div>\n",
       "<style scoped>\n",
       "    .dataframe tbody tr th:only-of-type {\n",
       "        vertical-align: middle;\n",
       "    }\n",
       "\n",
       "    .dataframe tbody tr th {\n",
       "        vertical-align: top;\n",
       "    }\n",
       "\n",
       "    .dataframe thead th {\n",
       "        text-align: right;\n",
       "    }\n",
       "</style>\n",
       "<table border=\"1\" class=\"dataframe\">\n",
       "  <thead>\n",
       "    <tr style=\"text-align: right;\">\n",
       "      <th></th>\n",
       "      <th>date</th>\n",
       "      <th>group</th>\n",
       "      <th>visits</th>\n",
       "    </tr>\n",
       "  </thead>\n",
       "  <tbody>\n",
       "    <tr>\n",
       "      <th>0</th>\n",
       "      <td>2019-08-01</td>\n",
       "      <td>A</td>\n",
       "      <td>719</td>\n",
       "    </tr>\n",
       "    <tr>\n",
       "      <th>1</th>\n",
       "      <td>2019-08-02</td>\n",
       "      <td>A</td>\n",
       "      <td>619</td>\n",
       "    </tr>\n",
       "    <tr>\n",
       "      <th>2</th>\n",
       "      <td>2019-08-03</td>\n",
       "      <td>A</td>\n",
       "      <td>507</td>\n",
       "    </tr>\n",
       "    <tr>\n",
       "      <th>3</th>\n",
       "      <td>2019-08-04</td>\n",
       "      <td>A</td>\n",
       "      <td>717</td>\n",
       "    </tr>\n",
       "    <tr>\n",
       "      <th>4</th>\n",
       "      <td>2019-08-05</td>\n",
       "      <td>A</td>\n",
       "      <td>756</td>\n",
       "    </tr>\n",
       "  </tbody>\n",
       "</table>\n",
       "</div>"
      ],
      "text/plain": [
       "        date group  visits\n",
       "0 2019-08-01     A     719\n",
       "1 2019-08-02     A     619\n",
       "2 2019-08-03     A     507\n",
       "3 2019-08-04     A     717\n",
       "4 2019-08-05     A     756"
      ]
     },
     "execution_count": 31,
     "metadata": {},
     "output_type": "execute_result"
    }
   ],
   "source": [
    "visits_path.head()"
   ]
  },
  {
   "cell_type": "code",
   "execution_count": 32,
   "metadata": {},
   "outputs": [
    {
     "data": {
      "text/html": [
       "<div>\n",
       "<style scoped>\n",
       "    .dataframe tbody tr th:only-of-type {\n",
       "        vertical-align: middle;\n",
       "    }\n",
       "\n",
       "    .dataframe tbody tr th {\n",
       "        vertical-align: top;\n",
       "    }\n",
       "\n",
       "    .dataframe thead th {\n",
       "        text-align: right;\n",
       "    }\n",
       "</style>\n",
       "<table border=\"1\" class=\"dataframe\">\n",
       "  <thead>\n",
       "    <tr style=\"text-align: right;\">\n",
       "      <th></th>\n",
       "      <th>visits</th>\n",
       "    </tr>\n",
       "  </thead>\n",
       "  <tbody>\n",
       "    <tr>\n",
       "      <th>count</th>\n",
       "      <td>62.000000</td>\n",
       "    </tr>\n",
       "    <tr>\n",
       "      <th>mean</th>\n",
       "      <td>607.290323</td>\n",
       "    </tr>\n",
       "    <tr>\n",
       "      <th>std</th>\n",
       "      <td>114.400560</td>\n",
       "    </tr>\n",
       "    <tr>\n",
       "      <th>min</th>\n",
       "      <td>361.000000</td>\n",
       "    </tr>\n",
       "    <tr>\n",
       "      <th>25%</th>\n",
       "      <td>534.000000</td>\n",
       "    </tr>\n",
       "    <tr>\n",
       "      <th>50%</th>\n",
       "      <td>624.500000</td>\n",
       "    </tr>\n",
       "    <tr>\n",
       "      <th>75%</th>\n",
       "      <td>710.500000</td>\n",
       "    </tr>\n",
       "    <tr>\n",
       "      <th>max</th>\n",
       "      <td>770.000000</td>\n",
       "    </tr>\n",
       "  </tbody>\n",
       "</table>\n",
       "</div>"
      ],
      "text/plain": [
       "           visits\n",
       "count   62.000000\n",
       "mean   607.290323\n",
       "std    114.400560\n",
       "min    361.000000\n",
       "25%    534.000000\n",
       "50%    624.500000\n",
       "75%    710.500000\n",
       "max    770.000000"
      ]
     },
     "execution_count": 32,
     "metadata": {},
     "output_type": "execute_result"
    }
   ],
   "source": [
    "visits_path.describe()"
   ]
  },
  {
   "cell_type": "code",
   "execution_count": 33,
   "metadata": {},
   "outputs": [
    {
     "data": {
      "text/plain": [
       "0"
      ]
     },
     "execution_count": 33,
     "metadata": {},
     "output_type": "execute_result"
    }
   ],
   "source": [
    "visits_path.duplicated().sum()"
   ]
  },
  {
   "cell_type": "code",
   "execution_count": 34,
   "metadata": {},
   "outputs": [
    {
     "data": {
      "text/plain": [
       "37652"
      ]
     },
     "execution_count": 34,
     "metadata": {},
     "output_type": "execute_result"
    }
   ],
   "source": [
    "visits_path['visits'].sum()"
   ]
  },
  {
   "cell_type": "markdown",
   "metadata": {},
   "source": [
    "    Findings for 'visits_path' variable:\n",
    "    \n",
    "    - In the 'visits_path' variable, it has 3 columns to analyze, namely:\n",
    "\n",
    "    1   date         datetime64[ns]\n",
    "    2   group        object        \n",
    "    3   visits       int64 \n",
    "\n",
    "    with data type details: datetime64[ns](1), int64(1), object(1).\n",
    "\n",
    "    - There is no duplicate data in the 'visits_path' variable."
   ]
  },
  {
   "cell_type": "markdown",
   "metadata": {},
   "source": [
    "[Back to Contents](#tableofcontents)"
   ]
  },
  {
   "cell_type": "markdown",
   "metadata": {},
   "source": [
    "### Tentative Conclusions"
   ]
  },
  {
   "cell_type": "markdown",
   "metadata": {},
   "source": [
    "    - In the 'hypotheses_path', 'orders_path', 'visits_path' variables, all the data is ready to be processed and analyzed."
   ]
  },
  {
   "cell_type": "markdown",
   "metadata": {},
   "source": [
    "## Data Preprocessing and Graph Analysis\n",
    "    - Step 2. Ensuring for Missing Values, Duplicate Data, and Analyzing A/B Testing."
   ]
  },
  {
   "cell_type": "markdown",
   "metadata": {},
   "source": [
    "<div style=\"border:solid black 2px; padding: 20px\"> \n",
    "    \n",
    "    At this stage, we will ensure the missing values and duplicate data, then review and analyze several questions regarding A/B testing analysis as follows:\n",
    "\n",
    "    1. Drawing a graph of cumulative income by group. Following the conclusions and assumptions.\n",
    "    2. Drawing a graph of the cumulative average order size by batch. Following the conclusions and assumptions.\n",
    "    3. Drawing a graph of the relative differences for the cumulative average order size of group B compared to group A. Following the conclusions and assumptions.\n",
    "    4. Calculating the conversion rate of each batches as the ratio of orders to the number of visits each days. Under far below is a graph of the daily conversion rates of the two groups and an explanation of the differences. As well as conclusions and assumptions.\n",
    "    5. Creating a scatter plot for the number of orders per user. Following the conclusions and assumptions.\n",
    "    6. Calculating the 95th and 99th percentiles for the number of orders per user. Determining the point when a data point turns into an anomaly.\n",
    "    7. Creating a scatter plot for the price of the order. Following the conclusions and assumptions.\n",
    "    8. Calculating the 95th and 99th percentiles for the order price. Determining the point when a data point turns into an anomaly.\n",
    "    9. Finding the statistical significance of conversion differences between groups using the raw data. Following the conclusions and assumptions.\n",
    "    10. Finding statistical significance of differences in mean order size between groups using raw data. Following the conclusions and assumptions.\n",
    "    11. Finding the statistical significance of conversion differences between groups using filtered data. Following the conclusions and assumptions.\n",
    "    12. Finding the statistical significance of differences in average order size between groups using filtered data. Following the conclusions and assumptions.\n",
    "    13. Making a decision based on the test results. Possible decisions are: 1. Stopping testing, and consider one of the groups as the leader. 2. Stopping testing, and concluding that there is no difference between the two groups. 3. Resuming testing.\n",
    "\n",
    "</div>"
   ]
  },
  {
   "cell_type": "markdown",
   "metadata": {},
   "source": [
    "    First, we will confirm to make sure the data by checking the 'missing values' and 'duplicate data'."
   ]
  },
  {
   "cell_type": "markdown",
   "metadata": {},
   "source": [
    "### Ensuring for Missing Values and Duplicate Data"
   ]
  },
  {
   "cell_type": "code",
   "execution_count": 35,
   "metadata": {},
   "outputs": [
    {
     "data": {
      "text/plain": [
       "Hypothesis    0\n",
       "Reach         0\n",
       "Impact        0\n",
       "Confidence    0\n",
       "Effort        0\n",
       "ICE           0\n",
       "RICE          0\n",
       "dtype: int64"
      ]
     },
     "execution_count": 35,
     "metadata": {},
     "output_type": "execute_result"
    }
   ],
   "source": [
    "hypotheses_path.isna().sum()"
   ]
  },
  {
   "cell_type": "code",
   "execution_count": 36,
   "metadata": {},
   "outputs": [
    {
     "data": {
      "text/plain": [
       "transactionId    0\n",
       "visitorId        0\n",
       "date             0\n",
       "revenue          0\n",
       "group            0\n",
       "dtype: int64"
      ]
     },
     "execution_count": 36,
     "metadata": {},
     "output_type": "execute_result"
    }
   ],
   "source": [
    "orders_path.isna().sum()"
   ]
  },
  {
   "cell_type": "code",
   "execution_count": 37,
   "metadata": {},
   "outputs": [
    {
     "data": {
      "text/plain": [
       "date      0\n",
       "group     0\n",
       "visits    0\n",
       "dtype: int64"
      ]
     },
     "execution_count": 37,
     "metadata": {},
     "output_type": "execute_result"
    }
   ],
   "source": [
    "visits_path.isna().sum()"
   ]
  },
  {
   "cell_type": "code",
   "execution_count": 40,
   "metadata": {},
   "outputs": [
    {
     "data": {
      "text/plain": [
       "0"
      ]
     },
     "execution_count": 40,
     "metadata": {},
     "output_type": "execute_result"
    }
   ],
   "source": [
    "hypotheses_path.duplicated().sum()"
   ]
  },
  {
   "cell_type": "code",
   "execution_count": 41,
   "metadata": {},
   "outputs": [
    {
     "data": {
      "text/plain": [
       "0"
      ]
     },
     "execution_count": 41,
     "metadata": {},
     "output_type": "execute_result"
    }
   ],
   "source": [
    "orders_path.duplicated().sum()"
   ]
  },
  {
   "cell_type": "code",
   "execution_count": 42,
   "metadata": {},
   "outputs": [
    {
     "data": {
      "text/plain": [
       "0"
      ]
     },
     "execution_count": 42,
     "metadata": {},
     "output_type": "execute_result"
    }
   ],
   "source": [
    "visits_path.duplicated().sum()"
   ]
  },
  {
   "cell_type": "markdown",
   "metadata": {},
   "source": [
    "#### Tentative Conclusions"
   ]
  },
  {
   "cell_type": "markdown",
   "metadata": {},
   "source": [
    "    Findings:\n",
    "    \n",
    "    - The dataset has been confirmed to be clean, there is no missing values and duplicate data.\n",
    "    - The data is ready to be managed and analyzed."
   ]
  },
  {
   "cell_type": "markdown",
   "metadata": {},
   "source": [
    "[Back to Contents](#tableofcontents)"
   ]
  },
  {
   "cell_type": "markdown",
   "metadata": {},
   "source": [
    "### Data Preprocessing for Analyzing A/B Testing"
   ]
  },
  {
   "cell_type": "markdown",
   "metadata": {},
   "source": [
    "    In the following Data Preprocessing, we will analyze A/B testing for some of the questions previously described above."
   ]
  },
  {
   "cell_type": "markdown",
   "metadata": {},
   "source": [
    "#### Cumulative income graph by group\n",
    "    - Following the conclusions and assumptions."
   ]
  },
  {
   "cell_type": "code",
   "execution_count": 72,
   "metadata": {},
   "outputs": [
    {
     "data": {
      "text/html": [
       "<div>\n",
       "<style scoped>\n",
       "    .dataframe tbody tr th:only-of-type {\n",
       "        vertical-align: middle;\n",
       "    }\n",
       "\n",
       "    .dataframe tbody tr th {\n",
       "        vertical-align: top;\n",
       "    }\n",
       "\n",
       "    .dataframe thead th {\n",
       "        text-align: right;\n",
       "    }\n",
       "</style>\n",
       "<table border=\"1\" class=\"dataframe\">\n",
       "  <thead>\n",
       "    <tr style=\"text-align: right;\">\n",
       "      <th></th>\n",
       "      <th>date</th>\n",
       "      <th>group</th>\n",
       "    </tr>\n",
       "  </thead>\n",
       "  <tbody>\n",
       "    <tr>\n",
       "      <th>0</th>\n",
       "      <td>2019-08-15</td>\n",
       "      <td>B</td>\n",
       "    </tr>\n",
       "    <tr>\n",
       "      <th>2</th>\n",
       "      <td>2019-08-15</td>\n",
       "      <td>A</td>\n",
       "    </tr>\n",
       "    <tr>\n",
       "      <th>45</th>\n",
       "      <td>2019-08-16</td>\n",
       "      <td>A</td>\n",
       "    </tr>\n",
       "    <tr>\n",
       "      <th>47</th>\n",
       "      <td>2019-08-16</td>\n",
       "      <td>B</td>\n",
       "    </tr>\n",
       "    <tr>\n",
       "      <th>55</th>\n",
       "      <td>2019-08-01</td>\n",
       "      <td>A</td>\n",
       "    </tr>\n",
       "  </tbody>\n",
       "</table>\n",
       "</div>"
      ],
      "text/plain": [
       "         date group\n",
       "0  2019-08-15     B\n",
       "2  2019-08-15     A\n",
       "45 2019-08-16     A\n",
       "47 2019-08-16     B\n",
       "55 2019-08-01     A"
      ]
     },
     "execution_count": 72,
     "metadata": {},
     "output_type": "execute_result"
    }
   ],
   "source": [
    "datesGroups=orders_path[['date','group']]\n",
    "datesGroups=orders_path[['date','group']].drop_duplicates()\n",
    "datesGroups.head()"
   ]
  },
  {
   "cell_type": "code",
   "execution_count": 73,
   "metadata": {},
   "outputs": [
    {
     "data": {
      "text/html": [
       "<div>\n",
       "<style scoped>\n",
       "    .dataframe tbody tr th:only-of-type {\n",
       "        vertical-align: middle;\n",
       "    }\n",
       "\n",
       "    .dataframe tbody tr th {\n",
       "        vertical-align: top;\n",
       "    }\n",
       "\n",
       "    .dataframe thead th {\n",
       "        text-align: right;\n",
       "    }\n",
       "</style>\n",
       "<table border=\"1\" class=\"dataframe\">\n",
       "  <thead>\n",
       "    <tr style=\"text-align: right;\">\n",
       "      <th></th>\n",
       "      <th>transactionId</th>\n",
       "      <th>visitorId</th>\n",
       "      <th>date</th>\n",
       "      <th>revenue</th>\n",
       "      <th>group</th>\n",
       "    </tr>\n",
       "  </thead>\n",
       "  <tbody>\n",
       "    <tr>\n",
       "      <th>0</th>\n",
       "      <td>3667963787</td>\n",
       "      <td>3312258926</td>\n",
       "      <td>2019-08-15</td>\n",
       "      <td>30.4</td>\n",
       "      <td>B</td>\n",
       "    </tr>\n",
       "    <tr>\n",
       "      <th>1</th>\n",
       "      <td>2804400009</td>\n",
       "      <td>3642806036</td>\n",
       "      <td>2019-08-15</td>\n",
       "      <td>15.2</td>\n",
       "      <td>B</td>\n",
       "    </tr>\n",
       "    <tr>\n",
       "      <th>2</th>\n",
       "      <td>2961555356</td>\n",
       "      <td>4069496402</td>\n",
       "      <td>2019-08-15</td>\n",
       "      <td>10.2</td>\n",
       "      <td>A</td>\n",
       "    </tr>\n",
       "    <tr>\n",
       "      <th>3</th>\n",
       "      <td>3797467345</td>\n",
       "      <td>1196621759</td>\n",
       "      <td>2019-08-15</td>\n",
       "      <td>155.1</td>\n",
       "      <td>B</td>\n",
       "    </tr>\n",
       "    <tr>\n",
       "      <th>4</th>\n",
       "      <td>2282983706</td>\n",
       "      <td>2322279887</td>\n",
       "      <td>2019-08-15</td>\n",
       "      <td>40.5</td>\n",
       "      <td>B</td>\n",
       "    </tr>\n",
       "  </tbody>\n",
       "</table>\n",
       "</div>"
      ],
      "text/plain": [
       "   transactionId   visitorId       date  revenue group\n",
       "0     3667963787  3312258926 2019-08-15     30.4     B\n",
       "1     2804400009  3642806036 2019-08-15     15.2     B\n",
       "2     2961555356  4069496402 2019-08-15     10.2     A\n",
       "3     3797467345  1196621759 2019-08-15    155.1     B\n",
       "4     2282983706  2322279887 2019-08-15     40.5     B"
      ]
     },
     "execution_count": 73,
     "metadata": {},
     "output_type": "execute_result"
    }
   ],
   "source": [
    "orders_path.head()"
   ]
  },
  {
   "cell_type": "code",
   "execution_count": 74,
   "metadata": {},
   "outputs": [
    {
     "data": {
      "text/html": [
       "<div>\n",
       "<style scoped>\n",
       "    .dataframe tbody tr th:only-of-type {\n",
       "        vertical-align: middle;\n",
       "    }\n",
       "\n",
       "    .dataframe tbody tr th {\n",
       "        vertical-align: top;\n",
       "    }\n",
       "\n",
       "    .dataframe thead th {\n",
       "        text-align: right;\n",
       "    }\n",
       "</style>\n",
       "<table border=\"1\" class=\"dataframe\">\n",
       "  <thead>\n",
       "    <tr style=\"text-align: right;\">\n",
       "      <th></th>\n",
       "      <th>date</th>\n",
       "      <th>group</th>\n",
       "      <th>transactionId</th>\n",
       "      <th>visitorId</th>\n",
       "      <th>revenue</th>\n",
       "    </tr>\n",
       "  </thead>\n",
       "  <tbody>\n",
       "    <tr>\n",
       "      <th>55</th>\n",
       "      <td>2019-08-01</td>\n",
       "      <td>A</td>\n",
       "      <td>24</td>\n",
       "      <td>20</td>\n",
       "      <td>2356.8</td>\n",
       "    </tr>\n",
       "    <tr>\n",
       "      <th>66</th>\n",
       "      <td>2019-08-01</td>\n",
       "      <td>B</td>\n",
       "      <td>21</td>\n",
       "      <td>20</td>\n",
       "      <td>1620.0</td>\n",
       "    </tr>\n",
       "    <tr>\n",
       "      <th>175</th>\n",
       "      <td>2019-08-02</td>\n",
       "      <td>A</td>\n",
       "      <td>44</td>\n",
       "      <td>38</td>\n",
       "      <td>3860.3</td>\n",
       "    </tr>\n",
       "    <tr>\n",
       "      <th>173</th>\n",
       "      <td>2019-08-02</td>\n",
       "      <td>B</td>\n",
       "      <td>45</td>\n",
       "      <td>43</td>\n",
       "      <td>4243.8</td>\n",
       "    </tr>\n",
       "    <tr>\n",
       "      <th>291</th>\n",
       "      <td>2019-08-03</td>\n",
       "      <td>A</td>\n",
       "      <td>68</td>\n",
       "      <td>62</td>\n",
       "      <td>5675.5</td>\n",
       "    </tr>\n",
       "  </tbody>\n",
       "</table>\n",
       "</div>"
      ],
      "text/plain": [
       "          date group  transactionId  visitorId  revenue\n",
       "55  2019-08-01     A             24         20   2356.8\n",
       "66  2019-08-01     B             21         20   1620.0\n",
       "175 2019-08-02     A             44         38   3860.3\n",
       "173 2019-08-02     B             45         43   4243.8\n",
       "291 2019-08-03     A             68         62   5675.5"
      ]
     },
     "execution_count": 74,
     "metadata": {},
     "output_type": "execute_result"
    }
   ],
   "source": [
    "orders_pathAggregated = (datesGroups\n",
    ".apply(lambda x: orders_path[np.logical_and(orders_path['date'] <= x['date'], orders_path['group'] == x['group'])]\\\n",
    ".agg({'date' : 'max', 'group' : 'max', 'transactionId' : pd.Series.nunique, 'visitorId' : pd.Series.nunique, 'revenue' : 'sum'}), axis=1)\n",
    ".sort_values(by=['date','group']) )\n",
    "orders_pathAggregated.head()"
   ]
  },
  {
   "cell_type": "code",
   "execution_count": 75,
   "metadata": {},
   "outputs": [
    {
     "data": {
      "text/html": [
       "<div>\n",
       "<style scoped>\n",
       "    .dataframe tbody tr th:only-of-type {\n",
       "        vertical-align: middle;\n",
       "    }\n",
       "\n",
       "    .dataframe tbody tr th {\n",
       "        vertical-align: top;\n",
       "    }\n",
       "\n",
       "    .dataframe thead th {\n",
       "        text-align: right;\n",
       "    }\n",
       "</style>\n",
       "<table border=\"1\" class=\"dataframe\">\n",
       "  <thead>\n",
       "    <tr style=\"text-align: right;\">\n",
       "      <th></th>\n",
       "      <th>date</th>\n",
       "      <th>group</th>\n",
       "      <th>visits</th>\n",
       "    </tr>\n",
       "  </thead>\n",
       "  <tbody>\n",
       "    <tr>\n",
       "      <th>0</th>\n",
       "      <td>2019-08-01</td>\n",
       "      <td>A</td>\n",
       "      <td>719</td>\n",
       "    </tr>\n",
       "    <tr>\n",
       "      <th>1</th>\n",
       "      <td>2019-08-02</td>\n",
       "      <td>A</td>\n",
       "      <td>619</td>\n",
       "    </tr>\n",
       "    <tr>\n",
       "      <th>2</th>\n",
       "      <td>2019-08-03</td>\n",
       "      <td>A</td>\n",
       "      <td>507</td>\n",
       "    </tr>\n",
       "    <tr>\n",
       "      <th>3</th>\n",
       "      <td>2019-08-04</td>\n",
       "      <td>A</td>\n",
       "      <td>717</td>\n",
       "    </tr>\n",
       "    <tr>\n",
       "      <th>4</th>\n",
       "      <td>2019-08-05</td>\n",
       "      <td>A</td>\n",
       "      <td>756</td>\n",
       "    </tr>\n",
       "  </tbody>\n",
       "</table>\n",
       "</div>"
      ],
      "text/plain": [
       "        date group  visits\n",
       "0 2019-08-01     A     719\n",
       "1 2019-08-02     A     619\n",
       "2 2019-08-03     A     507\n",
       "3 2019-08-04     A     717\n",
       "4 2019-08-05     A     756"
      ]
     },
     "execution_count": 75,
     "metadata": {},
     "output_type": "execute_result"
    }
   ],
   "source": [
    "visits_path.head()"
   ]
  },
  {
   "cell_type": "code",
   "execution_count": 76,
   "metadata": {},
   "outputs": [
    {
     "data": {
      "text/html": [
       "<div>\n",
       "<style scoped>\n",
       "    .dataframe tbody tr th:only-of-type {\n",
       "        vertical-align: middle;\n",
       "    }\n",
       "\n",
       "    .dataframe tbody tr th {\n",
       "        vertical-align: top;\n",
       "    }\n",
       "\n",
       "    .dataframe thead th {\n",
       "        text-align: right;\n",
       "    }\n",
       "</style>\n",
       "<table border=\"1\" class=\"dataframe\">\n",
       "  <thead>\n",
       "    <tr style=\"text-align: right;\">\n",
       "      <th></th>\n",
       "      <th>date</th>\n",
       "      <th>group</th>\n",
       "      <th>visits</th>\n",
       "    </tr>\n",
       "  </thead>\n",
       "  <tbody>\n",
       "    <tr>\n",
       "      <th>55</th>\n",
       "      <td>2019-08-01</td>\n",
       "      <td>A</td>\n",
       "      <td>719</td>\n",
       "    </tr>\n",
       "    <tr>\n",
       "      <th>66</th>\n",
       "      <td>2019-08-01</td>\n",
       "      <td>B</td>\n",
       "      <td>713</td>\n",
       "    </tr>\n",
       "    <tr>\n",
       "      <th>175</th>\n",
       "      <td>2019-08-02</td>\n",
       "      <td>A</td>\n",
       "      <td>1338</td>\n",
       "    </tr>\n",
       "    <tr>\n",
       "      <th>173</th>\n",
       "      <td>2019-08-02</td>\n",
       "      <td>B</td>\n",
       "      <td>1294</td>\n",
       "    </tr>\n",
       "    <tr>\n",
       "      <th>291</th>\n",
       "      <td>2019-08-03</td>\n",
       "      <td>A</td>\n",
       "      <td>1845</td>\n",
       "    </tr>\n",
       "  </tbody>\n",
       "</table>\n",
       "</div>"
      ],
      "text/plain": [
       "          date group  visits\n",
       "55  2019-08-01     A     719\n",
       "66  2019-08-01     B     713\n",
       "175 2019-08-02     A    1338\n",
       "173 2019-08-02     B    1294\n",
       "291 2019-08-03     A    1845"
      ]
     },
     "execution_count": 76,
     "metadata": {},
     "output_type": "execute_result"
    }
   ],
   "source": [
    "visits_pathAggregated=(datesGroups\n",
    "       .apply(lambda x: visits_path[np.logical_and(visits_path['date']<=x['date'],visits_path['group']==x['group'])]\n",
    "       .agg({'date':'max','group':'max','visits':'sum'}),axis=1)\n",
    "       .sort_values(by=['date','group']))\n",
    "visits_pathAggregated.head()"
   ]
  },
  {
   "cell_type": "code",
   "execution_count": 77,
   "metadata": {},
   "outputs": [
    {
     "data": {
      "text/html": [
       "<div>\n",
       "<style scoped>\n",
       "    .dataframe tbody tr th:only-of-type {\n",
       "        vertical-align: middle;\n",
       "    }\n",
       "\n",
       "    .dataframe tbody tr th {\n",
       "        vertical-align: top;\n",
       "    }\n",
       "\n",
       "    .dataframe thead th {\n",
       "        text-align: right;\n",
       "    }\n",
       "</style>\n",
       "<table border=\"1\" class=\"dataframe\">\n",
       "  <thead>\n",
       "    <tr style=\"text-align: right;\">\n",
       "      <th></th>\n",
       "      <th>date</th>\n",
       "      <th>group</th>\n",
       "      <th>orders</th>\n",
       "      <th>buyers</th>\n",
       "      <th>revenue</th>\n",
       "      <th>visitors</th>\n",
       "    </tr>\n",
       "  </thead>\n",
       "  <tbody>\n",
       "    <tr>\n",
       "      <th>0</th>\n",
       "      <td>2019-08-01</td>\n",
       "      <td>A</td>\n",
       "      <td>24</td>\n",
       "      <td>20</td>\n",
       "      <td>2356.8</td>\n",
       "      <td>719</td>\n",
       "    </tr>\n",
       "    <tr>\n",
       "      <th>1</th>\n",
       "      <td>2019-08-01</td>\n",
       "      <td>B</td>\n",
       "      <td>21</td>\n",
       "      <td>20</td>\n",
       "      <td>1620.0</td>\n",
       "      <td>713</td>\n",
       "    </tr>\n",
       "    <tr>\n",
       "      <th>2</th>\n",
       "      <td>2019-08-02</td>\n",
       "      <td>A</td>\n",
       "      <td>44</td>\n",
       "      <td>38</td>\n",
       "      <td>3860.3</td>\n",
       "      <td>1338</td>\n",
       "    </tr>\n",
       "    <tr>\n",
       "      <th>3</th>\n",
       "      <td>2019-08-02</td>\n",
       "      <td>B</td>\n",
       "      <td>45</td>\n",
       "      <td>43</td>\n",
       "      <td>4243.8</td>\n",
       "      <td>1294</td>\n",
       "    </tr>\n",
       "    <tr>\n",
       "      <th>4</th>\n",
       "      <td>2019-08-03</td>\n",
       "      <td>A</td>\n",
       "      <td>68</td>\n",
       "      <td>62</td>\n",
       "      <td>5675.5</td>\n",
       "      <td>1845</td>\n",
       "    </tr>\n",
       "  </tbody>\n",
       "</table>\n",
       "</div>"
      ],
      "text/plain": [
       "        date group  orders  buyers  revenue  visitors\n",
       "0 2019-08-01     A      24      20   2356.8       719\n",
       "1 2019-08-01     B      21      20   1620.0       713\n",
       "2 2019-08-02     A      44      38   3860.3      1338\n",
       "3 2019-08-02     B      45      43   4243.8      1294\n",
       "4 2019-08-03     A      68      62   5675.5      1845"
      ]
     },
     "execution_count": 77,
     "metadata": {},
     "output_type": "execute_result"
    }
   ],
   "source": [
    "cumulativeData=orders_pathAggregated.merge(visits_pathAggregated,  left_on=['date', 'group'], right_on=['date', 'group'])\n",
    "cumulativeData.columns=['date','group', 'orders', 'buyers', 'revenue', 'visitors']\n",
    "cumulativeData.head()"
   ]
  },
  {
   "cell_type": "code",
   "execution_count": 78,
   "metadata": {},
   "outputs": [
    {
     "data": {
      "text/plain": [
       "<matplotlib.legend.Legend at 0x7f6abdd993d0>"
      ]
     },
     "execution_count": 78,
     "metadata": {},
     "output_type": "execute_result"
    },
    {
     "data": {
      "image/png": "[encoded data removed]",
      "text/plain": [
       "<Figure size 720x720 with 1 Axes>"
      ]
     },
     "metadata": {
      "needs_background": "light"
     },
     "output_type": "display_data"
    }
   ],
   "source": [
    "cumulativeRevenueA = cumulativeData[cumulativeData['group']=='A'][['date', 'revenue', 'orders']]\n",
    "cumulativeRevenueB = cumulativeData[cumulativeData['group']=='B'][['date', 'revenue', 'orders']]\n",
    "\n",
    "ax, fig = plt.subplots(figsize=(10,10))\n",
    "plt.plot(cumulativeRevenueA['date'], cumulativeRevenueA['revenue'], label='A')\n",
    "plt.plot(cumulativeRevenueB['date'], cumulativeRevenueB['revenue'], label='B')\n",
    "plt.legend()"
   ]
  },
  {
   "cell_type": "code",
   "execution_count": 79,
   "metadata": {},
   "outputs": [
    {
     "data": {
      "image/png": "[encoded data removed]",
      "text/plain": [
       "<Figure size 720x720 with 1 Axes>"
      ]
     },
     "metadata": {
      "needs_background": "light"
     },
     "output_type": "display_data"
    }
   ],
   "source": [
    "cumulativeRevenueA = cumulativeData[cumulativeData['group']=='A'][['date', 'revenue', 'orders']]\n",
    "cumulativeRevenueB = cumulativeData[cumulativeData['group']=='B'][['date', 'revenue', 'orders']]\n",
    "\n",
    "ax, fig = plt.subplots(figsize=(10,10))\n",
    "plt.plot(cumulativeRevenueA['date'], cumulativeRevenueA['revenue'], label='A')\n",
    "plt.plot(cumulativeRevenueB['date'], cumulativeRevenueB['revenue'], label='B')\n",
    "plt.legend()\n",
    "\n",
    "plt.grid()\n",
    "plt.xlabel('Date of test')\n",
    "plt.ylabel('Cumulative Revenue')\n",
    "plt.title('Cumulative Revenue by Group')\n",
    "plt.show()"
   ]
  },
  {
   "cell_type": "markdown",
   "metadata": {},
   "source": [
    "##### Tentative Conclusions"
   ]
  },
  {
   "cell_type": "markdown",
   "metadata": {},
   "source": [
    "    Findings:\n",
    "    \n",
    "    - Group B leads in revenue, but the chart shows an abnormal case that increase in the second half of the test."
   ]
  },
  {
   "cell_type": "markdown",
   "metadata": {},
   "source": [
    "[Back to Contents](#tableofcontents)"
   ]
  },
  {
   "cell_type": "markdown",
   "metadata": {},
   "source": [
    "#### Graph of cumulative average order size by group\n",
    "    - Following the conclusions and assumptions."
   ]
  },
  {
   "cell_type": "code",
   "execution_count": 80,
   "metadata": {},
   "outputs": [
    {
     "data": {
      "text/plain": [
       "<matplotlib.legend.Legend at 0x7f6abda61b80>"
      ]
     },
     "execution_count": 80,
     "metadata": {},
     "output_type": "execute_result"
    },
    {
     "data": {
      "image/png": "[encoded data removed]",
      "text/plain": [
       "<Figure size 720x720 with 1 Axes>"
      ]
     },
     "metadata": {
      "needs_background": "light"
     },
     "output_type": "display_data"
    }
   ],
   "source": [
    "ax, fig = plt.subplots(figsize=(10,10))\n",
    "plt.plot(cumulativeRevenueA['date'], cumulativeRevenueA['revenue']/cumulativeRevenueA['orders'], label='A')\n",
    "plt.plot(cumulativeRevenueB['date'], cumulativeRevenueB['revenue']/cumulativeRevenueB['orders'], label='B')\n",
    "plt.legend()"
   ]
  },
  {
   "cell_type": "code",
   "execution_count": 81,
   "metadata": {},
   "outputs": [
    {
     "data": {
      "image/png": "[encoded data removed]",
      "text/plain": [
       "<Figure size 720x720 with 1 Axes>"
      ]
     },
     "metadata": {
      "needs_background": "light"
     },
     "output_type": "display_data"
    }
   ],
   "source": [
    "ax, fig = plt.subplots(figsize=(10,10))\n",
    "plt.plot(cumulativeRevenueA['date'], cumulativeRevenueA['revenue']/cumulativeRevenueA['orders'], label='A')\n",
    "plt.plot(cumulativeRevenueB['date'], cumulativeRevenueB['revenue']/cumulativeRevenueB['orders'], label='B')\n",
    "plt.legend()\n",
    "plt.grid()\n",
    "plt.xlabel('Date of test')\n",
    "plt.ylabel('Cumulative average check')\n",
    "plt.title('Cumulative average check by group')\n",
    "plt.show()"
   ]
  },
  {
   "cell_type": "markdown",
   "metadata": {},
   "source": [
    "##### Tentative Conclusions"
   ]
  },
  {
   "cell_type": "markdown",
   "metadata": {},
   "source": [
    "    Findings:\n",
    "    \n",
    "    - The graph displays the same movement as the previous graph, we could see that Group B is leading on the average check, but now there are even more jumps on the chart for both groups."
   ]
  },
  {
   "cell_type": "markdown",
   "metadata": {},
   "source": [
    "[Back to Contents](#tableofcontents)"
   ]
  },
  {
   "cell_type": "markdown",
   "metadata": {},
   "source": [
    "#### Graph of relative differences for the cumulative average order size of group B compared to group A\n",
    "    - Following the conclusions and assumptions."
   ]
  },
  {
   "cell_type": "code",
   "execution_count": 82,
   "metadata": {},
   "outputs": [
    {
     "data": {
      "text/plain": [
       "<matplotlib.lines.Line2D at 0x7f6abd97bf10>"
      ]
     },
     "execution_count": 82,
     "metadata": {},
     "output_type": "execute_result"
    },
    {
     "data": {
      "image/png": "[encoded data removed]",
      "text/plain": [
       "<Figure size 720x720 with 1 Axes>"
      ]
     },
     "metadata": {
      "needs_background": "light"
     },
     "output_type": "display_data"
    }
   ],
   "source": [
    "mergedCumulativeRevenue = (cumulativeRevenueA.merge(cumulativeRevenueB, left_on='date', right_on='date', how='left', suffixes=['A','B']))\n",
    "\n",
    "ax, fig = plt.subplots(figsize=(10,10))\n",
    "plt.plot(mergedCumulativeRevenue['date'], \n",
    "         (mergedCumulativeRevenue['revenueB']/mergedCumulativeRevenue['ordersB'])/\n",
    "         (mergedCumulativeRevenue['revenueA']/mergedCumulativeRevenue['ordersA'])-1)\n",
    "plt.axhline(y=0, color='black', linestyle='--')"
   ]
  },
  {
   "cell_type": "code",
   "execution_count": 83,
   "metadata": {},
   "outputs": [
    {
     "data": {
      "image/png": "[encoded data removed]",
      "text/plain": [
       "<Figure size 720x720 with 1 Axes>"
      ]
     },
     "metadata": {
      "needs_background": "light"
     },
     "output_type": "display_data"
    }
   ],
   "source": [
    "mergedCumulativeRevenue = (cumulativeRevenueA.merge(cumulativeRevenueB, left_on='date', right_on='date', how='left', suffixes=['A','B']))\n",
    "\n",
    "ax, fig = plt.subplots(figsize=(10,10))\n",
    "plt.plot(mergedCumulativeRevenue['date'], \n",
    "         (mergedCumulativeRevenue['revenueB']/mergedCumulativeRevenue['ordersB'])/\n",
    "         (mergedCumulativeRevenue['revenueA']/mergedCumulativeRevenue['ordersA'])-1)\n",
    "plt.axhline(y=0, color='black', linestyle='--')\n",
    "plt.grid()\n",
    "plt.xlabel('Test date')\n",
    "plt.ylabel('Fluctuations in the average check')\n",
    "plt.title('Difference between the cumulative average check in group B and group A')\n",
    "plt.show()"
   ]
  },
  {
   "cell_type": "markdown",
   "metadata": {},
   "source": [
    "##### Tentative Conclusions"
   ]
  },
  {
   "cell_type": "markdown",
   "metadata": {},
   "source": [
    "    Findings:\n",
    "    \n",
    "    - At several points, the graph of the difference between the segments jumps sharply. The reason is most likely large orders and outliers."
   ]
  },
  {
   "cell_type": "markdown",
   "metadata": {},
   "source": [
    "[Back to Contents](#tableofcontents)"
   ]
  },
  {
   "cell_type": "markdown",
   "metadata": {},
   "source": [
    "#### Conversion Rate Calculation\n",
    "    - Calculation of the conversion rate of each batches as the ratio of orders to the number of visits each days.\n",
    "    - Graph of the daily conversion rates of the two groups and an explanation of the differences."
   ]
  },
  {
   "cell_type": "markdown",
   "metadata": {},
   "source": [
    "[Back to Contents](#tableofcontents)"
   ]
  },
  {
   "cell_type": "markdown",
   "metadata": {},
   "source": [
    "##### Calculation of the conversion rate of each batches as the ratio of orders to the number of visits each days\n",
    "    - Following the conclusions and assumptions."
   ]
  },
  {
   "cell_type": "code",
   "execution_count": 84,
   "metadata": {},
   "outputs": [
    {
     "data": {
      "text/html": [
       "<div>\n",
       "<style scoped>\n",
       "    .dataframe tbody tr th:only-of-type {\n",
       "        vertical-align: middle;\n",
       "    }\n",
       "\n",
       "    .dataframe tbody tr th {\n",
       "        vertical-align: top;\n",
       "    }\n",
       "\n",
       "    .dataframe thead th {\n",
       "        text-align: right;\n",
       "    }\n",
       "</style>\n",
       "<table border=\"1\" class=\"dataframe\">\n",
       "  <thead>\n",
       "    <tr style=\"text-align: right;\">\n",
       "      <th></th>\n",
       "      <th>date</th>\n",
       "      <th>group</th>\n",
       "      <th>orders</th>\n",
       "      <th>buyers</th>\n",
       "      <th>revenue</th>\n",
       "      <th>visitors</th>\n",
       "      <th>conversion</th>\n",
       "    </tr>\n",
       "  </thead>\n",
       "  <tbody>\n",
       "    <tr>\n",
       "      <th>0</th>\n",
       "      <td>2019-08-01</td>\n",
       "      <td>A</td>\n",
       "      <td>24</td>\n",
       "      <td>20</td>\n",
       "      <td>2356.8</td>\n",
       "      <td>719</td>\n",
       "      <td>0.033380</td>\n",
       "    </tr>\n",
       "    <tr>\n",
       "      <th>1</th>\n",
       "      <td>2019-08-01</td>\n",
       "      <td>B</td>\n",
       "      <td>21</td>\n",
       "      <td>20</td>\n",
       "      <td>1620.0</td>\n",
       "      <td>713</td>\n",
       "      <td>0.029453</td>\n",
       "    </tr>\n",
       "    <tr>\n",
       "      <th>2</th>\n",
       "      <td>2019-08-02</td>\n",
       "      <td>A</td>\n",
       "      <td>44</td>\n",
       "      <td>38</td>\n",
       "      <td>3860.3</td>\n",
       "      <td>1338</td>\n",
       "      <td>0.032885</td>\n",
       "    </tr>\n",
       "    <tr>\n",
       "      <th>3</th>\n",
       "      <td>2019-08-02</td>\n",
       "      <td>B</td>\n",
       "      <td>45</td>\n",
       "      <td>43</td>\n",
       "      <td>4243.8</td>\n",
       "      <td>1294</td>\n",
       "      <td>0.034776</td>\n",
       "    </tr>\n",
       "    <tr>\n",
       "      <th>4</th>\n",
       "      <td>2019-08-03</td>\n",
       "      <td>A</td>\n",
       "      <td>68</td>\n",
       "      <td>62</td>\n",
       "      <td>5675.5</td>\n",
       "      <td>1845</td>\n",
       "      <td>0.036856</td>\n",
       "    </tr>\n",
       "  </tbody>\n",
       "</table>\n",
       "</div>"
      ],
      "text/plain": [
       "        date group  orders  buyers  revenue  visitors  conversion\n",
       "0 2019-08-01     A      24      20   2356.8       719    0.033380\n",
       "1 2019-08-01     B      21      20   1620.0       713    0.029453\n",
       "2 2019-08-02     A      44      38   3860.3      1338    0.032885\n",
       "3 2019-08-02     B      45      43   4243.8      1294    0.034776\n",
       "4 2019-08-03     A      68      62   5675.5      1845    0.036856"
      ]
     },
     "execution_count": 84,
     "metadata": {},
     "output_type": "execute_result"
    }
   ],
   "source": [
    "cumulativeData['conversion']=cumulativeData['orders']/cumulativeData['visitors']\n",
    "cumulativeData.head()"
   ]
  },
  {
   "cell_type": "code",
   "execution_count": 85,
   "metadata": {},
   "outputs": [
    {
     "data": {
      "text/plain": [
       "count    31.000000\n",
       "mean      0.033855\n",
       "std       0.001469\n",
       "min       0.029453\n",
       "25%       0.033595\n",
       "50%       0.034011\n",
       "75%       0.034595\n",
       "max       0.036323\n",
       "Name: conversion, dtype: float64"
      ]
     },
     "execution_count": 85,
     "metadata": {},
     "output_type": "execute_result"
    }
   ],
   "source": [
    "cumulativeDataA=cumulativeData[cumulativeData['group']=='A']\n",
    "cumulativeDataB=cumulativeData[cumulativeData['group']=='B']\n",
    "cumulativeDataB['conversion'].describe()"
   ]
  },
  {
   "cell_type": "code",
   "execution_count": 86,
   "metadata": {},
   "outputs": [
    {
     "data": {
      "text/plain": [
       "<matplotlib.legend.Legend at 0x7f6accc89130>"
      ]
     },
     "execution_count": 86,
     "metadata": {},
     "output_type": "execute_result"
    },
    {
     "data": {
      "image/png": "[encoded data removed]",
      "text/plain": [
       "<Figure size 1008x576 with 1 Axes>"
      ]
     },
     "metadata": {
      "needs_background": "light"
     },
     "output_type": "display_data"
    }
   ],
   "source": [
    "cumulativeData['conversion'] = cumulativeData['orders']/cumulativeData['visitors']\n",
    "\n",
    "cumulativeDataA = cumulativeData[cumulativeData['group']=='A']\n",
    "cumulativeDataB = cumulativeData[cumulativeData['group']=='B']\n",
    "ax, fig = plt.subplots(figsize=(14,8))\n",
    "plt.plot(cumulativeDataA['date'], cumulativeDataA['conversion'], label='A')\n",
    "plt.plot(cumulativeDataB['date'], cumulativeDataB['conversion'], label='B')\n",
    "plt.legend()"
   ]
  },
  {
   "cell_type": "code",
   "execution_count": 87,
   "metadata": {},
   "outputs": [
    {
     "data": {
      "image/png": "[encoded data removed]",
      "text/plain": [
       "<Figure size 1008x576 with 1 Axes>"
      ]
     },
     "metadata": {
      "needs_background": "light"
     },
     "output_type": "display_data"
    }
   ],
   "source": [
    "cumulativeData['conversion'] = cumulativeData['orders']/cumulativeData['visitors']\n",
    "\n",
    "cumulativeDataA = cumulativeData[cumulativeData['group']=='A']\n",
    "cumulativeDataB = cumulativeData[cumulativeData['group']=='B']\n",
    "ax, fig = plt.subplots(figsize=(14,8))\n",
    "plt.plot(cumulativeDataA['date'], cumulativeDataA['conversion'], label='A')\n",
    "plt.plot(cumulativeDataB['date'], cumulativeDataB['conversion'], label='B')\n",
    "plt.legend()\n",
    "\n",
    "plt.grid()\n",
    "plt.xlabel('Test date')\n",
    "plt.ylabel('Percentage of buyers out of all users')\n",
    "plt.title('Cumulative conversion by group')\n",
    "plt.show()"
   ]
  },
  {
   "cell_type": "markdown",
   "metadata": {},
   "source": [
    "##### Tentative Conclusions"
   ]
  },
  {
   "cell_type": "markdown",
   "metadata": {},
   "source": [
    "    Findings:\n",
    "    \n",
    "    - At the beginning of the test, group A was leading in terms of conversion, but gradually group B became the leader and remained at about the same level above group A."
   ]
  },
  {
   "cell_type": "markdown",
   "metadata": {},
   "source": [
    "[Back to Contents](#tableofcontents)"
   ]
  },
  {
   "cell_type": "markdown",
   "metadata": {},
   "source": [
    "##### Graph of the relative change in the cumulative conversion in group B to group A\n",
    "\n",
    "    - Or graph of the daily conversion rates of the two groups and an explanation of the differences.\n",
    "    - Following the conclusions and assumptions."
   ]
  },
  {
   "cell_type": "code",
   "execution_count": 88,
   "metadata": {},
   "outputs": [
    {
     "data": {
      "text/html": [
       "<div>\n",
       "<style scoped>\n",
       "    .dataframe tbody tr th:only-of-type {\n",
       "        vertical-align: middle;\n",
       "    }\n",
       "\n",
       "    .dataframe tbody tr th {\n",
       "        vertical-align: top;\n",
       "    }\n",
       "\n",
       "    .dataframe thead th {\n",
       "        text-align: right;\n",
       "    }\n",
       "</style>\n",
       "<table border=\"1\" class=\"dataframe\">\n",
       "  <thead>\n",
       "    <tr style=\"text-align: right;\">\n",
       "      <th></th>\n",
       "      <th>date</th>\n",
       "      <th>conversionA</th>\n",
       "      <th>conversionB</th>\n",
       "    </tr>\n",
       "  </thead>\n",
       "  <tbody>\n",
       "    <tr>\n",
       "      <th>0</th>\n",
       "      <td>2019-08-01</td>\n",
       "      <td>0.033380</td>\n",
       "      <td>0.029453</td>\n",
       "    </tr>\n",
       "    <tr>\n",
       "      <th>1</th>\n",
       "      <td>2019-08-02</td>\n",
       "      <td>0.032885</td>\n",
       "      <td>0.034776</td>\n",
       "    </tr>\n",
       "    <tr>\n",
       "      <th>2</th>\n",
       "      <td>2019-08-03</td>\n",
       "      <td>0.036856</td>\n",
       "      <td>0.033833</td>\n",
       "    </tr>\n",
       "    <tr>\n",
       "      <th>3</th>\n",
       "      <td>2019-08-04</td>\n",
       "      <td>0.032787</td>\n",
       "      <td>0.030315</td>\n",
       "    </tr>\n",
       "    <tr>\n",
       "      <th>4</th>\n",
       "      <td>2019-08-05</td>\n",
       "      <td>0.032851</td>\n",
       "      <td>0.030793</td>\n",
       "    </tr>\n",
       "  </tbody>\n",
       "</table>\n",
       "</div>"
      ],
      "text/plain": [
       "        date  conversionA  conversionB\n",
       "0 2019-08-01     0.033380     0.029453\n",
       "1 2019-08-02     0.032885     0.034776\n",
       "2 2019-08-03     0.036856     0.033833\n",
       "3 2019-08-04     0.032787     0.030315\n",
       "4 2019-08-05     0.032851     0.030793"
      ]
     },
     "execution_count": 88,
     "metadata": {},
     "output_type": "execute_result"
    }
   ],
   "source": [
    "mergedCumulativeConversions = (cumulativeDataA[['date','conversion']]\n",
    "                               .merge(cumulativeDataB[['date','conversion']], left_on='date', right_on='date', how='left', suffixes=['A', 'B']))\n",
    "mergedCumulativeConversions.head()"
   ]
  },
  {
   "cell_type": "code",
   "execution_count": 89,
   "metadata": {},
   "outputs": [
    {
     "data": {
      "text/plain": [
       "<matplotlib.lines.Line2D at 0x7f6ab3b61820>"
      ]
     },
     "execution_count": 89,
     "metadata": {},
     "output_type": "execute_result"
    },
    {
     "data": {
      "image/png": "[encoded data removed]",
      "text/plain": [
       "<Figure size 720x720 with 1 Axes>"
      ]
     },
     "metadata": {
      "needs_background": "light"
     },
     "output_type": "display_data"
    }
   ],
   "source": [
    "ax, fig = plt.subplots(figsize=(10,10))\n",
    "plt.plot(mergedCumulativeConversions['date'], mergedCumulativeConversions['conversionB']/mergedCumulativeConversions['conversionA']-1)\n",
    "plt.axhline(y=0, color='black', linestyle='--')\n",
    "plt.axhline(y=0.1, color='grey', linestyle='--')"
   ]
  },
  {
   "cell_type": "code",
   "execution_count": 90,
   "metadata": {},
   "outputs": [
    {
     "data": {
      "image/png": "[encoded data removed]",
      "text/plain": [
       "<Figure size 720x720 with 1 Axes>"
      ]
     },
     "metadata": {
      "needs_background": "light"
     },
     "output_type": "display_data"
    }
   ],
   "source": [
    "ax, fig = plt.subplots(figsize=(10,10))\n",
    "plt.plot(mergedCumulativeConversions['date'], mergedCumulativeConversions['conversionB']/mergedCumulativeConversions['conversionA']-1)\n",
    "plt.axhline(y=0, color='black', linestyle='--')\n",
    "plt.axhline(y=0.1, color='grey', linestyle='--')\n",
    "\n",
    "plt.grid()\n",
    "plt.xlabel('Test date')\n",
    "plt.ylabel('Fluctuations of the conversion in two groups')\n",
    "plt.title('Relative differences in the cumulative conversion of group B to group A')\n",
    "plt.show()"
   ]
  },
  {
   "cell_type": "markdown",
   "metadata": {},
   "source": [
    "##### Tentative Conclusions"
   ]
  },
  {
   "cell_type": "markdown",
   "metadata": {},
   "source": [
    "    Findings:\n",
    "    \n",
    "    - Group B leads the conversion rate: in the middle of the test, it reaches a 20% difference to group A, then holds on to 10%."
   ]
  },
  {
   "cell_type": "markdown",
   "metadata": {},
   "source": [
    "[Back to Contents](#tableofcontents)"
   ]
  },
  {
   "cell_type": "markdown",
   "metadata": {},
   "source": [
    "#### Scatter plot for the number of orders per user\n",
    "    - Following the conclusions and assumptions."
   ]
  },
  {
   "cell_type": "code",
   "execution_count": 91,
   "metadata": {},
   "outputs": [
    {
     "data": {
      "text/html": [
       "<div>\n",
       "<style scoped>\n",
       "    .dataframe tbody tr th:only-of-type {\n",
       "        vertical-align: middle;\n",
       "    }\n",
       "\n",
       "    .dataframe tbody tr th {\n",
       "        vertical-align: top;\n",
       "    }\n",
       "\n",
       "    .dataframe thead th {\n",
       "        text-align: right;\n",
       "    }\n",
       "</style>\n",
       "<table border=\"1\" class=\"dataframe\">\n",
       "  <thead>\n",
       "    <tr style=\"text-align: right;\">\n",
       "      <th></th>\n",
       "      <th>transactionId</th>\n",
       "      <th>visitorId</th>\n",
       "      <th>date</th>\n",
       "      <th>revenue</th>\n",
       "      <th>group</th>\n",
       "    </tr>\n",
       "  </thead>\n",
       "  <tbody>\n",
       "    <tr>\n",
       "      <th>0</th>\n",
       "      <td>3667963787</td>\n",
       "      <td>3312258926</td>\n",
       "      <td>2019-08-15</td>\n",
       "      <td>30.4</td>\n",
       "      <td>B</td>\n",
       "    </tr>\n",
       "    <tr>\n",
       "      <th>1</th>\n",
       "      <td>2804400009</td>\n",
       "      <td>3642806036</td>\n",
       "      <td>2019-08-15</td>\n",
       "      <td>15.2</td>\n",
       "      <td>B</td>\n",
       "    </tr>\n",
       "    <tr>\n",
       "      <th>2</th>\n",
       "      <td>2961555356</td>\n",
       "      <td>4069496402</td>\n",
       "      <td>2019-08-15</td>\n",
       "      <td>10.2</td>\n",
       "      <td>A</td>\n",
       "    </tr>\n",
       "    <tr>\n",
       "      <th>3</th>\n",
       "      <td>3797467345</td>\n",
       "      <td>1196621759</td>\n",
       "      <td>2019-08-15</td>\n",
       "      <td>155.1</td>\n",
       "      <td>B</td>\n",
       "    </tr>\n",
       "    <tr>\n",
       "      <th>4</th>\n",
       "      <td>2282983706</td>\n",
       "      <td>2322279887</td>\n",
       "      <td>2019-08-15</td>\n",
       "      <td>40.5</td>\n",
       "      <td>B</td>\n",
       "    </tr>\n",
       "  </tbody>\n",
       "</table>\n",
       "</div>"
      ],
      "text/plain": [
       "   transactionId   visitorId       date  revenue group\n",
       "0     3667963787  3312258926 2019-08-15     30.4     B\n",
       "1     2804400009  3642806036 2019-08-15     15.2     B\n",
       "2     2961555356  4069496402 2019-08-15     10.2     A\n",
       "3     3797467345  1196621759 2019-08-15    155.1     B\n",
       "4     2282983706  2322279887 2019-08-15     40.5     B"
      ]
     },
     "execution_count": 91,
     "metadata": {},
     "output_type": "execute_result"
    }
   ],
   "source": [
    "orders_path.head()"
   ]
  },
  {
   "cell_type": "markdown",
   "metadata": {},
   "source": [
    "    In the tables above, there are unstable graphs that tell us about abnormal orders, i.e. outliers. It is time to mark the boundary of the anomalous values in order to check the samples without them.\n",
    "\n",
    "    Next, we will find the number of orders by users."
   ]
  },
  {
   "cell_type": "code",
   "execution_count": 92,
   "metadata": {},
   "outputs": [
    {
     "data": {
      "text/html": [
       "<div>\n",
       "<style scoped>\n",
       "    .dataframe tbody tr th:only-of-type {\n",
       "        vertical-align: middle;\n",
       "    }\n",
       "\n",
       "    .dataframe tbody tr th {\n",
       "        vertical-align: top;\n",
       "    }\n",
       "\n",
       "    .dataframe thead th {\n",
       "        text-align: right;\n",
       "    }\n",
       "</style>\n",
       "<table border=\"1\" class=\"dataframe\">\n",
       "  <thead>\n",
       "    <tr style=\"text-align: right;\">\n",
       "      <th></th>\n",
       "      <th>visitorId</th>\n",
       "      <th>orders</th>\n",
       "    </tr>\n",
       "  </thead>\n",
       "  <tbody>\n",
       "    <tr>\n",
       "      <th>0</th>\n",
       "      <td>5114589</td>\n",
       "      <td>1</td>\n",
       "    </tr>\n",
       "    <tr>\n",
       "      <th>1</th>\n",
       "      <td>6958315</td>\n",
       "      <td>1</td>\n",
       "    </tr>\n",
       "    <tr>\n",
       "      <th>2</th>\n",
       "      <td>8300375</td>\n",
       "      <td>2</td>\n",
       "    </tr>\n",
       "    <tr>\n",
       "      <th>3</th>\n",
       "      <td>11685486</td>\n",
       "      <td>1</td>\n",
       "    </tr>\n",
       "    <tr>\n",
       "      <th>4</th>\n",
       "      <td>39475350</td>\n",
       "      <td>1</td>\n",
       "    </tr>\n",
       "  </tbody>\n",
       "</table>\n",
       "</div>"
      ],
      "text/plain": [
       "   visitorId  orders\n",
       "0    5114589       1\n",
       "1    6958315       1\n",
       "2    8300375       2\n",
       "3   11685486       1\n",
       "4   39475350       1"
      ]
     },
     "execution_count": 92,
     "metadata": {},
     "output_type": "execute_result"
    }
   ],
   "source": [
    "orders_pathByUsers=orders_path.drop(['group','revenue','date'],axis=1).groupby('visitorId', as_index=False).agg({'transactionId': pd.Series.nunique})\n",
    "orders_pathByUsers.columns=['visitorId','orders']\n",
    "orders_pathByUsers.head()"
   ]
  },
  {
   "cell_type": "markdown",
   "metadata": {},
   "source": [
    "    We will build a histogram of the distribution of the number of orders by users."
   ]
  },
  {
   "cell_type": "code",
   "execution_count": 93,
   "metadata": {},
   "outputs": [
    {
     "data": {
      "image/png": "[encoded data removed]",
      "text/plain": [
       "<Figure size 432x288 with 1 Axes>"
      ]
     },
     "metadata": {
      "needs_background": "light"
     },
     "output_type": "display_data"
    }
   ],
   "source": [
    "orders_pathByUsers.sort_values(by='orders',ascending=False)\n",
    "plt.hist(orders_pathByUsers['orders']) \n",
    "plt.show()"
   ]
  },
  {
   "cell_type": "markdown",
   "metadata": {},
   "source": [
    "    We could conclude that most users have made only 1 order, users with two or three orders are also noticeable, and there are some data for users with more than 10 orders. Let's build a scatter graph to get a better look of it."
   ]
  },
  {
   "cell_type": "code",
   "execution_count": 94,
   "metadata": {},
   "outputs": [
    {
     "data": {
      "image/png": "[encoded data removed]",
      "text/plain": [
       "<Figure size 432x288 with 1 Axes>"
      ]
     },
     "metadata": {
      "needs_background": "light"
     },
     "output_type": "display_data"
    }
   ],
   "source": [
    "x_values = pd.Series(range(0,len(orders_pathByUsers)))\n",
    "plt.scatter(x_values, orders_pathByUsers['orders']) \n",
    "plt.show()"
   ]
  },
  {
   "cell_type": "code",
   "execution_count": 95,
   "metadata": {},
   "outputs": [
    {
     "name": "stdout",
     "output_type": "stream",
     "text": [
      "          userId  orders\n",
      "1023  4256040402      11\n",
      "591   2458001652      11\n",
      "569   2378935119       9\n",
      "487   2038680547       8\n",
      "44     199603092       5\n",
      "744   3062433592       5\n",
      "55     237748145       5\n",
      "917   3803269165       5\n",
      "299   1230306981       5\n",
      "897   3717692402       5\n"
     ]
    },
    {
     "data": {
      "text/plain": [
       "<matplotlib.collections.PathCollection at 0x7f6ab1b7c7c0>"
      ]
     },
     "execution_count": 95,
     "metadata": {},
     "output_type": "execute_result"
    },
    {
     "data": {
      "image/png": "[encoded data removed]",
      "text/plain": [
       "<Figure size 432x288 with 1 Axes>"
      ]
     },
     "metadata": {
      "needs_background": "light"
     },
     "output_type": "display_data"
    }
   ],
   "source": [
    "orders_pathByUsers = orders_path.drop(['group', 'revenue', 'date'], axis=1).groupby('visitorId', as_index=False).agg({'transactionId' : pd.Series.nunique})\n",
    "\n",
    "orders_pathByUsers.columns = ['userId', 'orders']\n",
    "\n",
    "print(orders_pathByUsers.sort_values(by='orders', ascending=False).head(10))\n",
    "\n",
    "x_values = pd.Series(range(0,len(orders_pathByUsers)))\n",
    "\n",
    "plt.scatter(x_values, orders_pathByUsers['orders'])"
   ]
  },
  {
   "cell_type": "markdown",
   "metadata": {},
   "source": [
    "##### Tentative Conclusions"
   ]
  },
  {
   "cell_type": "markdown",
   "metadata": {},
   "source": [
    "    Findings:\n",
    "    \n",
    "    - There are more than three orders are rare. Next step, we will count the selected percentiles."
   ]
  },
  {
   "cell_type": "markdown",
   "metadata": {},
   "source": [
    "[Back to Contents](#tableofcontents)"
   ]
  },
  {
   "cell_type": "markdown",
   "metadata": {},
   "source": [
    "#### Calculation of the 95th and 99th percentiles for the number of orders per user and Determination of the point when a data point turns out to be an anomaly\n",
    "    - Following the conclusions and assumptions."
   ]
  },
  {
   "cell_type": "code",
   "execution_count": 96,
   "metadata": {},
   "outputs": [
    {
     "data": {
      "text/plain": [
       "array([1., 2., 4.])"
      ]
     },
     "execution_count": 96,
     "metadata": {},
     "output_type": "execute_result"
    }
   ],
   "source": [
    "np.percentile(orders_pathByUsers['orders'], [90, 95, 99])"
   ]
  },
  {
   "cell_type": "markdown",
   "metadata": {},
   "source": [
    "##### Tentative Conclusions"
   ]
  },
  {
   "cell_type": "markdown",
   "metadata": {},
   "source": [
    "    Findings:\n",
    "    \n",
    "    - Not more than 5% of users have made more than two orders, and not more than 1% - more than four orders. I suggest that we select 2 orders for the lower limit of the number of orders, and filter out abnormal users by it."
   ]
  },
  {
   "cell_type": "markdown",
   "metadata": {},
   "source": [
    "[Back to Contents](#tableofcontents)"
   ]
  },
  {
   "cell_type": "markdown",
   "metadata": {},
   "source": [
    "#### Scatter plot for order prices\n",
    "    - Following the conclusions and assumptions."
   ]
  },
  {
   "cell_type": "markdown",
   "metadata": {},
   "source": [
    "    Let's build a histogram of the distribution of revenue ('revenue') from orders by users."
   ]
  },
  {
   "cell_type": "code",
   "execution_count": 97,
   "metadata": {},
   "outputs": [
    {
     "data": {
      "image/png": "[encoded data removed]",
      "text/plain": [
       "<Figure size 432x288 with 1 Axes>"
      ]
     },
     "metadata": {
      "needs_background": "light"
     },
     "output_type": "display_data"
    }
   ],
   "source": [
    "orders_path.sort_values(by='revenue',ascending=False)\n",
    "plt.hist(orders_path['revenue'])\n",
    "plt.show()"
   ]
  },
  {
   "cell_type": "markdown",
   "metadata": {},
   "source": [
    "    Let's have a closer look."
   ]
  },
  {
   "cell_type": "code",
   "execution_count": 98,
   "metadata": {},
   "outputs": [
    {
     "data": {
      "image/png": "[encoded data removed]",
      "text/plain": [
       "<Figure size 432x288 with 1 Axes>"
      ]
     },
     "metadata": {
      "needs_background": "light"
     },
     "output_type": "display_data"
    }
   ],
   "source": [
    "plt.hist(orders_path['revenue'],range=(0,80000),bins=5)\n",
    "plt.show()"
   ]
  },
  {
   "cell_type": "code",
   "execution_count": 99,
   "metadata": {},
   "outputs": [
    {
     "data": {
      "image/png": "[encoded data removed]",
      "text/plain": [
       "<Figure size 432x288 with 1 Axes>"
      ]
     },
     "metadata": {
      "needs_background": "light"
     },
     "output_type": "display_data"
    }
   ],
   "source": [
    "plt.hist(orders_path['revenue'],range=(0,80000),bins=1)\n",
    "plt.show()"
   ]
  },
  {
   "cell_type": "markdown",
   "metadata": {},
   "source": [
    "    The sum of most orders is in range 0 - 10 000 ++, quite a lot of orders are up to 40 thousand, a bit less - up to 60 thousand. The distribution is abnormal, it is not clear how many more expensive and cheaper orders there are."
   ]
  },
  {
   "cell_type": "code",
   "execution_count": 100,
   "metadata": {},
   "outputs": [
    {
     "data": {
      "image/png": "[encoded data removed]",
      "text/plain": [
       "<Figure size 432x288 with 1 Axes>"
      ]
     },
     "metadata": {
      "needs_background": "light"
     },
     "output_type": "display_data"
    }
   ],
   "source": [
    "x_values = pd.Series(range(0,len(orders_path['revenue'])))\n",
    "plt.scatter(x_values,orders_path['revenue'])\n",
    "plt.show()"
   ]
  },
  {
   "cell_type": "code",
   "execution_count": 101,
   "metadata": {},
   "outputs": [
    {
     "name": "stdout",
     "output_type": "stream",
     "text": [
      "      transactionId   visitorId       date  revenue group\n",
      "425       590470918  1920142716 2019-08-19  19920.4     B\n",
      "1196     3936777065  2108080724 2019-08-15   3120.1     B\n",
      "858       192721366  1316129916 2019-08-27   1450.2     A\n",
      "1136      666610489  1307669133 2019-08-13   1425.8     A\n",
      "744      3668308183   888512513 2019-08-27   1335.6     B\n",
      "662      1811671147  4266935830 2019-08-29   1220.2     A\n",
      "682      1216533772  4266935830 2019-08-29   1220.2     B\n",
      "743      3603576309  4133034833 2019-08-09   1050.0     A\n",
      "1103     1348774318  1164614297 2019-08-12   1025.8     A\n",
      "1099      316924019   148427295 2019-08-12   1015.9     A\n"
     ]
    },
    {
     "data": {
      "text/plain": [
       "<matplotlib.collections.PathCollection at 0x7f6abdf327f0>"
      ]
     },
     "execution_count": 101,
     "metadata": {},
     "output_type": "execute_result"
    },
    {
     "data": {
      "image/png": "[encoded data removed]",
      "text/plain": [
       "<Figure size 432x288 with 1 Axes>"
      ]
     },
     "metadata": {
      "needs_background": "light"
     },
     "output_type": "display_data"
    }
   ],
   "source": [
    "print(orders_path.sort_values(by='revenue', ascending=False).head(10))\n",
    "\n",
    "x_values = pd.Series(range(0,len(orders_path['revenue'])))\n",
    "\n",
    "plt.scatter(x_values, orders_path['revenue'])"
   ]
  },
  {
   "cell_type": "markdown",
   "metadata": {},
   "source": [
    "##### Tentative Conclusions"
   ]
  },
  {
   "cell_type": "markdown",
   "metadata": {},
   "source": [
    "    Findings:\n",
    "    \n",
    "    - Only two obvious outliers are visible here - about 200,000 and 1,200,000. Let's see the percentiles."
   ]
  },
  {
   "cell_type": "markdown",
   "metadata": {},
   "source": [
    "[Back to Contents](#tableofcontents)"
   ]
  },
  {
   "cell_type": "markdown",
   "metadata": {},
   "source": [
    "#### Calculation of the 95th and 99th percentile for the order price and Determination of the point when a data point turns out to be an anomaly\n",
    "    - Following the conclusions and assumptions."
   ]
  },
  {
   "cell_type": "code",
   "execution_count": 102,
   "metadata": {},
   "outputs": [
    {
     "data": {
      "text/plain": [
       "array([282.48 , 435.54 , 900.904])"
      ]
     },
     "execution_count": 102,
     "metadata": {},
     "output_type": "execute_result"
    }
   ],
   "source": [
    "np.percentile(orders_path['revenue'],[90,95,99])"
   ]
  },
  {
   "cell_type": "markdown",
   "metadata": {},
   "source": [
    "##### Tentative Conclusions"
   ]
  },
  {
   "cell_type": "markdown",
   "metadata": {},
   "source": [
    "    Findings:\n",
    "    \n",
    "    - Not more than 5% of visitors order for the amount of more than 435.54, and not more than 1% - for the amount of 900.904. Let's take the lower limit of 435.54."
   ]
  },
  {
   "cell_type": "markdown",
   "metadata": {},
   "source": [
    "[Back to Contents](#tableofcontents)"
   ]
  },
  {
   "cell_type": "markdown",
   "metadata": {},
   "source": [
    "#### Statistical significance of conversion differences between groups using the raw data\n",
    "    - Following the conclusions and assumptions."
   ]
  },
  {
   "cell_type": "code",
   "execution_count": 103,
   "metadata": {},
   "outputs": [
    {
     "data": {
      "text/html": [
       "<div>\n",
       "<style scoped>\n",
       "    .dataframe tbody tr th:only-of-type {\n",
       "        vertical-align: middle;\n",
       "    }\n",
       "\n",
       "    .dataframe tbody tr th {\n",
       "        vertical-align: top;\n",
       "    }\n",
       "\n",
       "    .dataframe thead th {\n",
       "        text-align: right;\n",
       "    }\n",
       "</style>\n",
       "<table border=\"1\" class=\"dataframe\">\n",
       "  <thead>\n",
       "    <tr style=\"text-align: right;\">\n",
       "      <th></th>\n",
       "      <th>date</th>\n",
       "      <th>group</th>\n",
       "      <th>visits</th>\n",
       "    </tr>\n",
       "  </thead>\n",
       "  <tbody>\n",
       "    <tr>\n",
       "      <th>0</th>\n",
       "      <td>2019-08-01</td>\n",
       "      <td>A</td>\n",
       "      <td>719</td>\n",
       "    </tr>\n",
       "    <tr>\n",
       "      <th>1</th>\n",
       "      <td>2019-08-02</td>\n",
       "      <td>A</td>\n",
       "      <td>619</td>\n",
       "    </tr>\n",
       "    <tr>\n",
       "      <th>2</th>\n",
       "      <td>2019-08-03</td>\n",
       "      <td>A</td>\n",
       "      <td>507</td>\n",
       "    </tr>\n",
       "    <tr>\n",
       "      <th>3</th>\n",
       "      <td>2019-08-04</td>\n",
       "      <td>A</td>\n",
       "      <td>717</td>\n",
       "    </tr>\n",
       "    <tr>\n",
       "      <th>4</th>\n",
       "      <td>2019-08-05</td>\n",
       "      <td>A</td>\n",
       "      <td>756</td>\n",
       "    </tr>\n",
       "  </tbody>\n",
       "</table>\n",
       "</div>"
      ],
      "text/plain": [
       "        date group  visits\n",
       "0 2019-08-01     A     719\n",
       "1 2019-08-02     A     619\n",
       "2 2019-08-03     A     507\n",
       "3 2019-08-04     A     717\n",
       "4 2019-08-05     A     756"
      ]
     },
     "execution_count": 103,
     "metadata": {},
     "output_type": "execute_result"
    }
   ],
   "source": [
    "visits_path.head()"
   ]
  },
  {
   "cell_type": "code",
   "execution_count": 104,
   "metadata": {},
   "outputs": [
    {
     "data": {
      "text/html": [
       "<div>\n",
       "<style scoped>\n",
       "    .dataframe tbody tr th:only-of-type {\n",
       "        vertical-align: middle;\n",
       "    }\n",
       "\n",
       "    .dataframe tbody tr th {\n",
       "        vertical-align: top;\n",
       "    }\n",
       "\n",
       "    .dataframe thead th {\n",
       "        text-align: right;\n",
       "    }\n",
       "</style>\n",
       "<table border=\"1\" class=\"dataframe\">\n",
       "  <thead>\n",
       "    <tr style=\"text-align: right;\">\n",
       "      <th></th>\n",
       "      <th>date</th>\n",
       "      <th>visits_pathPerDateA</th>\n",
       "    </tr>\n",
       "  </thead>\n",
       "  <tbody>\n",
       "    <tr>\n",
       "      <th>0</th>\n",
       "      <td>2019-08-01</td>\n",
       "      <td>719</td>\n",
       "    </tr>\n",
       "    <tr>\n",
       "      <th>1</th>\n",
       "      <td>2019-08-02</td>\n",
       "      <td>619</td>\n",
       "    </tr>\n",
       "  </tbody>\n",
       "</table>\n",
       "</div>"
      ],
      "text/plain": [
       "        date  visits_pathPerDateA\n",
       "0 2019-08-01                  719\n",
       "1 2019-08-02                  619"
      ]
     },
     "execution_count": 104,
     "metadata": {},
     "output_type": "execute_result"
    }
   ],
   "source": [
    "visits_pathADaily = visits_path[visits_path['group']=='A'][['date', 'visits']]\n",
    "visits_pathADaily.columns = ['date', 'visits_pathPerDateA']\n",
    "visits_pathADaily.head(2)"
   ]
  },
  {
   "cell_type": "code",
   "execution_count": 105,
   "metadata": {},
   "outputs": [
    {
     "data": {
      "text/html": [
       "<div>\n",
       "<style scoped>\n",
       "    .dataframe tbody tr th:only-of-type {\n",
       "        vertical-align: middle;\n",
       "    }\n",
       "\n",
       "    .dataframe tbody tr th {\n",
       "        vertical-align: top;\n",
       "    }\n",
       "\n",
       "    .dataframe thead th {\n",
       "        text-align: right;\n",
       "    }\n",
       "</style>\n",
       "<table border=\"1\" class=\"dataframe\">\n",
       "  <thead>\n",
       "    <tr style=\"text-align: right;\">\n",
       "      <th></th>\n",
       "      <th>date</th>\n",
       "      <th>visits_pathCummulativeA</th>\n",
       "    </tr>\n",
       "  </thead>\n",
       "  <tbody>\n",
       "    <tr>\n",
       "      <th>0</th>\n",
       "      <td>2019-08-01</td>\n",
       "      <td>719</td>\n",
       "    </tr>\n",
       "    <tr>\n",
       "      <th>1</th>\n",
       "      <td>2019-08-02</td>\n",
       "      <td>1338</td>\n",
       "    </tr>\n",
       "    <tr>\n",
       "      <th>2</th>\n",
       "      <td>2019-08-03</td>\n",
       "      <td>1845</td>\n",
       "    </tr>\n",
       "    <tr>\n",
       "      <th>3</th>\n",
       "      <td>2019-08-04</td>\n",
       "      <td>2562</td>\n",
       "    </tr>\n",
       "    <tr>\n",
       "      <th>4</th>\n",
       "      <td>2019-08-05</td>\n",
       "      <td>3318</td>\n",
       "    </tr>\n",
       "  </tbody>\n",
       "</table>\n",
       "</div>"
      ],
      "text/plain": [
       "        date  visits_pathCummulativeA\n",
       "0 2019-08-01                      719\n",
       "1 2019-08-02                     1338\n",
       "2 2019-08-03                     1845\n",
       "3 2019-08-04                     2562\n",
       "4 2019-08-05                     3318"
      ]
     },
     "execution_count": 105,
     "metadata": {},
     "output_type": "execute_result"
    }
   ],
   "source": [
    "visits_pathACummulative = visits_pathADaily.apply(lambda x: visits_pathADaily[visits_pathADaily['date'] <= x['date']].agg({'date' : 'max', 'visits_pathPerDateA' : 'sum'}), axis=1)\n",
    "visits_pathACummulative.columns = ['date', 'visits_pathCummulativeA']\n",
    "visits_pathACummulative.head()"
   ]
  },
  {
   "cell_type": "code",
   "execution_count": 106,
   "metadata": {},
   "outputs": [
    {
     "data": {
      "text/html": [
       "<div>\n",
       "<style scoped>\n",
       "    .dataframe tbody tr th:only-of-type {\n",
       "        vertical-align: middle;\n",
       "    }\n",
       "\n",
       "    .dataframe tbody tr th {\n",
       "        vertical-align: top;\n",
       "    }\n",
       "\n",
       "    .dataframe thead th {\n",
       "        text-align: right;\n",
       "    }\n",
       "</style>\n",
       "<table border=\"1\" class=\"dataframe\">\n",
       "  <thead>\n",
       "    <tr style=\"text-align: right;\">\n",
       "      <th></th>\n",
       "      <th>date</th>\n",
       "      <th>visits_pathCummulativeB</th>\n",
       "    </tr>\n",
       "  </thead>\n",
       "  <tbody>\n",
       "    <tr>\n",
       "      <th>31</th>\n",
       "      <td>2019-08-01</td>\n",
       "      <td>713</td>\n",
       "    </tr>\n",
       "    <tr>\n",
       "      <th>32</th>\n",
       "      <td>2019-08-02</td>\n",
       "      <td>1294</td>\n",
       "    </tr>\n",
       "    <tr>\n",
       "      <th>33</th>\n",
       "      <td>2019-08-03</td>\n",
       "      <td>1803</td>\n",
       "    </tr>\n",
       "    <tr>\n",
       "      <th>34</th>\n",
       "      <td>2019-08-04</td>\n",
       "      <td>2573</td>\n",
       "    </tr>\n",
       "    <tr>\n",
       "      <th>35</th>\n",
       "      <td>2019-08-05</td>\n",
       "      <td>3280</td>\n",
       "    </tr>\n",
       "  </tbody>\n",
       "</table>\n",
       "</div>"
      ],
      "text/plain": [
       "         date  visits_pathCummulativeB\n",
       "31 2019-08-01                      713\n",
       "32 2019-08-02                     1294\n",
       "33 2019-08-03                     1803\n",
       "34 2019-08-04                     2573\n",
       "35 2019-08-05                     3280"
      ]
     },
     "execution_count": 106,
     "metadata": {},
     "output_type": "execute_result"
    }
   ],
   "source": [
    "visits_pathBDaily = visits_path[visits_path['group']=='B'][['date', 'visits']]\n",
    "visits_pathBDaily.columns = ['date', 'visits_pathPerDateB']\n",
    "visits_pathBCummulative = visits_pathBDaily.apply(lambda x: visits_pathBDaily[visits_pathBDaily['date'] <= x['date']].agg({'date' : 'max', 'visits_pathPerDateB' : 'sum'}), axis=1)\n",
    "visits_pathBCummulative.columns = ['date', 'visits_pathCummulativeB']\n",
    "visits_pathBCummulative.head()"
   ]
  },
  {
   "cell_type": "code",
   "execution_count": 107,
   "metadata": {},
   "outputs": [
    {
     "data": {
      "text/html": [
       "<div>\n",
       "<style scoped>\n",
       "    .dataframe tbody tr th:only-of-type {\n",
       "        vertical-align: middle;\n",
       "    }\n",
       "\n",
       "    .dataframe tbody tr th {\n",
       "        vertical-align: top;\n",
       "    }\n",
       "\n",
       "    .dataframe thead th {\n",
       "        text-align: right;\n",
       "    }\n",
       "</style>\n",
       "<table border=\"1\" class=\"dataframe\">\n",
       "  <thead>\n",
       "    <tr style=\"text-align: right;\">\n",
       "      <th></th>\n",
       "      <th>transactionId</th>\n",
       "      <th>visitorId</th>\n",
       "      <th>date</th>\n",
       "      <th>revenue</th>\n",
       "      <th>group</th>\n",
       "    </tr>\n",
       "  </thead>\n",
       "  <tbody>\n",
       "    <tr>\n",
       "      <th>0</th>\n",
       "      <td>3667963787</td>\n",
       "      <td>3312258926</td>\n",
       "      <td>2019-08-15</td>\n",
       "      <td>30.4</td>\n",
       "      <td>B</td>\n",
       "    </tr>\n",
       "    <tr>\n",
       "      <th>1</th>\n",
       "      <td>2804400009</td>\n",
       "      <td>3642806036</td>\n",
       "      <td>2019-08-15</td>\n",
       "      <td>15.2</td>\n",
       "      <td>B</td>\n",
       "    </tr>\n",
       "  </tbody>\n",
       "</table>\n",
       "</div>"
      ],
      "text/plain": [
       "   transactionId   visitorId       date  revenue group\n",
       "0     3667963787  3312258926 2019-08-15     30.4     B\n",
       "1     2804400009  3642806036 2019-08-15     15.2     B"
      ]
     },
     "execution_count": 107,
     "metadata": {},
     "output_type": "execute_result"
    }
   ],
   "source": [
    "orders_path.head(2)"
   ]
  },
  {
   "cell_type": "markdown",
   "metadata": {},
   "source": [
    "    Now let's look at the number and size of orders per day in each test group."
   ]
  },
  {
   "cell_type": "code",
   "execution_count": 108,
   "metadata": {},
   "outputs": [
    {
     "data": {
      "text/html": [
       "<div>\n",
       "<style scoped>\n",
       "    .dataframe tbody tr th:only-of-type {\n",
       "        vertical-align: middle;\n",
       "    }\n",
       "\n",
       "    .dataframe tbody tr th {\n",
       "        vertical-align: top;\n",
       "    }\n",
       "\n",
       "    .dataframe thead th {\n",
       "        text-align: right;\n",
       "    }\n",
       "</style>\n",
       "<table border=\"1\" class=\"dataframe\">\n",
       "  <thead>\n",
       "    <tr style=\"text-align: right;\">\n",
       "      <th></th>\n",
       "      <th>date</th>\n",
       "      <th>orders_pathPerDateA</th>\n",
       "      <th>revenuePerDateA</th>\n",
       "    </tr>\n",
       "  </thead>\n",
       "  <tbody>\n",
       "    <tr>\n",
       "      <th>0</th>\n",
       "      <td>2019-08-01</td>\n",
       "      <td>24</td>\n",
       "      <td>2356.8</td>\n",
       "    </tr>\n",
       "    <tr>\n",
       "      <th>1</th>\n",
       "      <td>2019-08-02</td>\n",
       "      <td>20</td>\n",
       "      <td>1503.5</td>\n",
       "    </tr>\n",
       "    <tr>\n",
       "      <th>2</th>\n",
       "      <td>2019-08-03</td>\n",
       "      <td>24</td>\n",
       "      <td>1815.2</td>\n",
       "    </tr>\n",
       "    <tr>\n",
       "      <th>3</th>\n",
       "      <td>2019-08-04</td>\n",
       "      <td>16</td>\n",
       "      <td>1146.6</td>\n",
       "    </tr>\n",
       "    <tr>\n",
       "      <th>4</th>\n",
       "      <td>2019-08-05</td>\n",
       "      <td>25</td>\n",
       "      <td>1988.1</td>\n",
       "    </tr>\n",
       "  </tbody>\n",
       "</table>\n",
       "</div>"
      ],
      "text/plain": [
       "        date  orders_pathPerDateA  revenuePerDateA\n",
       "0 2019-08-01                   24           2356.8\n",
       "1 2019-08-02                   20           1503.5\n",
       "2 2019-08-03                   24           1815.2\n",
       "3 2019-08-04                   16           1146.6\n",
       "4 2019-08-05                   25           1988.1"
      ]
     },
     "execution_count": 108,
     "metadata": {},
     "output_type": "execute_result"
    }
   ],
   "source": [
    "orders_pathADaily = orders_path[orders_path['group']=='A'][['date', 'transactionId', 'visitorId', 'revenue']]\\\n",
    "    .groupby('date', as_index=False)\\\n",
    "    .agg({'transactionId' : pd.Series.nunique, 'revenue' : 'sum'})\n",
    "orders_pathADaily.columns = ['date', 'orders_pathPerDateA', 'revenuePerDateA']\n",
    "orders_pathADaily.head()"
   ]
  },
  {
   "cell_type": "code",
   "execution_count": 109,
   "metadata": {},
   "outputs": [
    {
     "data": {
      "text/html": [
       "<div>\n",
       "<style scoped>\n",
       "    .dataframe tbody tr th:only-of-type {\n",
       "        vertical-align: middle;\n",
       "    }\n",
       "\n",
       "    .dataframe tbody tr th {\n",
       "        vertical-align: top;\n",
       "    }\n",
       "\n",
       "    .dataframe thead th {\n",
       "        text-align: right;\n",
       "    }\n",
       "</style>\n",
       "<table border=\"1\" class=\"dataframe\">\n",
       "  <thead>\n",
       "    <tr style=\"text-align: right;\">\n",
       "      <th></th>\n",
       "      <th>date</th>\n",
       "      <th>orders_pathCummulativeA</th>\n",
       "      <th>revenueCummulativeA</th>\n",
       "    </tr>\n",
       "  </thead>\n",
       "  <tbody>\n",
       "    <tr>\n",
       "      <th>0</th>\n",
       "      <td>2019-08-01</td>\n",
       "      <td>24</td>\n",
       "      <td>2356.8</td>\n",
       "    </tr>\n",
       "    <tr>\n",
       "      <th>1</th>\n",
       "      <td>2019-08-02</td>\n",
       "      <td>44</td>\n",
       "      <td>3860.3</td>\n",
       "    </tr>\n",
       "    <tr>\n",
       "      <th>2</th>\n",
       "      <td>2019-08-03</td>\n",
       "      <td>68</td>\n",
       "      <td>5675.5</td>\n",
       "    </tr>\n",
       "    <tr>\n",
       "      <th>3</th>\n",
       "      <td>2019-08-04</td>\n",
       "      <td>84</td>\n",
       "      <td>6822.1</td>\n",
       "    </tr>\n",
       "    <tr>\n",
       "      <th>4</th>\n",
       "      <td>2019-08-05</td>\n",
       "      <td>109</td>\n",
       "      <td>8810.2</td>\n",
       "    </tr>\n",
       "  </tbody>\n",
       "</table>\n",
       "</div>"
      ],
      "text/plain": [
       "        date  orders_pathCummulativeA  revenueCummulativeA\n",
       "0 2019-08-01                       24               2356.8\n",
       "1 2019-08-02                       44               3860.3\n",
       "2 2019-08-03                       68               5675.5\n",
       "3 2019-08-04                       84               6822.1\n",
       "4 2019-08-05                      109               8810.2"
      ]
     },
     "execution_count": 109,
     "metadata": {},
     "output_type": "execute_result"
    }
   ],
   "source": [
    "orders_pathACummulative = orders_pathADaily.apply(\n",
    "    lambda x: \\\n",
    "        orders_pathADaily[orders_pathADaily['date'] <= x['date']]\\\n",
    "            .agg({\n",
    "                'date' : 'max',\n",
    "                'orders_pathPerDateA' : 'sum',\n",
    "                'revenuePerDateA' : 'sum'}), axis=1).sort_values(by=['date'])\n",
    "orders_pathACummulative.columns = ['date', 'orders_pathCummulativeA', 'revenueCummulativeA']\n",
    "orders_pathACummulative.head()"
   ]
  },
  {
   "cell_type": "code",
   "execution_count": 110,
   "metadata": {},
   "outputs": [
    {
     "data": {
      "text/html": [
       "<div>\n",
       "<style scoped>\n",
       "    .dataframe tbody tr th:only-of-type {\n",
       "        vertical-align: middle;\n",
       "    }\n",
       "\n",
       "    .dataframe tbody tr th {\n",
       "        vertical-align: top;\n",
       "    }\n",
       "\n",
       "    .dataframe thead th {\n",
       "        text-align: right;\n",
       "    }\n",
       "</style>\n",
       "<table border=\"1\" class=\"dataframe\">\n",
       "  <thead>\n",
       "    <tr style=\"text-align: right;\">\n",
       "      <th></th>\n",
       "      <th>date</th>\n",
       "      <th>orders_pathCummulativeB</th>\n",
       "      <th>revenueCummulativeB</th>\n",
       "    </tr>\n",
       "  </thead>\n",
       "  <tbody>\n",
       "    <tr>\n",
       "      <th>0</th>\n",
       "      <td>2019-08-01</td>\n",
       "      <td>21</td>\n",
       "      <td>1620.0</td>\n",
       "    </tr>\n",
       "    <tr>\n",
       "      <th>1</th>\n",
       "      <td>2019-08-02</td>\n",
       "      <td>45</td>\n",
       "      <td>4243.8</td>\n",
       "    </tr>\n",
       "    <tr>\n",
       "      <th>2</th>\n",
       "      <td>2019-08-03</td>\n",
       "      <td>61</td>\n",
       "      <td>6050.6</td>\n",
       "    </tr>\n",
       "    <tr>\n",
       "      <th>3</th>\n",
       "      <td>2019-08-04</td>\n",
       "      <td>78</td>\n",
       "      <td>7767.9</td>\n",
       "    </tr>\n",
       "    <tr>\n",
       "      <th>4</th>\n",
       "      <td>2019-08-05</td>\n",
       "      <td>101</td>\n",
       "      <td>9262.9</td>\n",
       "    </tr>\n",
       "  </tbody>\n",
       "</table>\n",
       "</div>"
      ],
      "text/plain": [
       "        date  orders_pathCummulativeB  revenueCummulativeB\n",
       "0 2019-08-01                       21               1620.0\n",
       "1 2019-08-02                       45               4243.8\n",
       "2 2019-08-03                       61               6050.6\n",
       "3 2019-08-04                       78               7767.9\n",
       "4 2019-08-05                      101               9262.9"
      ]
     },
     "execution_count": 110,
     "metadata": {},
     "output_type": "execute_result"
    }
   ],
   "source": [
    "orders_pathBDaily = orders_path[orders_path['group']=='B'][['date', 'transactionId', 'visitorId', 'revenue']]\\\n",
    "    .groupby('date', as_index=False)\\\n",
    "    .agg({'transactionId' : pd.Series.nunique, 'revenue' : 'sum'})\n",
    "orders_pathBDaily.columns = ['date', 'orders_pathPerDateB', 'revenuePerDateB']\n",
    "\n",
    "orders_pathBCummulative = orders_pathBDaily.apply(\n",
    "    lambda x: \\\n",
    "        orders_pathBDaily[orders_pathBDaily['date'] <= x['date']]\\\n",
    "            .agg({\n",
    "                'date' : 'max',\n",
    "                'orders_pathPerDateB' : 'sum',\n",
    "                'revenuePerDateB' : 'sum'}), axis=1).sort_values(by=['date'])\n",
    "orders_pathBCummulative.columns = ['date', 'orders_pathCummulativeB', 'revenueCummulativeB']\n",
    "orders_pathBCummulative.head()"
   ]
  },
  {
   "cell_type": "markdown",
   "metadata": {},
   "source": [
    "    By date, we will connect tables with data on the number of orders and visitors per day, as well as cumulative data on the number of sessions, orders, and the amount of orders."
   ]
  },
  {
   "cell_type": "code",
   "execution_count": 111,
   "metadata": {},
   "outputs": [
    {
     "data": {
      "text/html": [
       "<div>\n",
       "<style scoped>\n",
       "    .dataframe tbody tr th:only-of-type {\n",
       "        vertical-align: middle;\n",
       "    }\n",
       "\n",
       "    .dataframe tbody tr th {\n",
       "        vertical-align: top;\n",
       "    }\n",
       "\n",
       "    .dataframe thead th {\n",
       "        text-align: right;\n",
       "    }\n",
       "</style>\n",
       "<table border=\"1\" class=\"dataframe\">\n",
       "  <thead>\n",
       "    <tr style=\"text-align: right;\">\n",
       "      <th></th>\n",
       "      <th>date</th>\n",
       "      <th>orders_pathPerDateA</th>\n",
       "      <th>revenuePerDateA</th>\n",
       "      <th>orders_pathPerDateB</th>\n",
       "      <th>revenuePerDateB</th>\n",
       "      <th>orders_pathCummulativeA</th>\n",
       "      <th>revenueCummulativeA</th>\n",
       "      <th>orders_pathCummulativeB</th>\n",
       "      <th>revenueCummulativeB</th>\n",
       "      <th>visits_pathPerDateA</th>\n",
       "      <th>visits_pathPerDateB</th>\n",
       "      <th>visits_pathCummulativeA</th>\n",
       "      <th>visits_pathCummulativeB</th>\n",
       "    </tr>\n",
       "  </thead>\n",
       "  <tbody>\n",
       "    <tr>\n",
       "      <th>0</th>\n",
       "      <td>2019-08-01</td>\n",
       "      <td>24</td>\n",
       "      <td>2356.8</td>\n",
       "      <td>21</td>\n",
       "      <td>1620.0</td>\n",
       "      <td>24</td>\n",
       "      <td>2356.8</td>\n",
       "      <td>21</td>\n",
       "      <td>1620.0</td>\n",
       "      <td>719</td>\n",
       "      <td>713</td>\n",
       "      <td>719</td>\n",
       "      <td>713</td>\n",
       "    </tr>\n",
       "    <tr>\n",
       "      <th>1</th>\n",
       "      <td>2019-08-02</td>\n",
       "      <td>20</td>\n",
       "      <td>1503.5</td>\n",
       "      <td>24</td>\n",
       "      <td>2623.8</td>\n",
       "      <td>44</td>\n",
       "      <td>3860.3</td>\n",
       "      <td>45</td>\n",
       "      <td>4243.8</td>\n",
       "      <td>619</td>\n",
       "      <td>581</td>\n",
       "      <td>1338</td>\n",
       "      <td>1294</td>\n",
       "    </tr>\n",
       "    <tr>\n",
       "      <th>2</th>\n",
       "      <td>2019-08-03</td>\n",
       "      <td>24</td>\n",
       "      <td>1815.2</td>\n",
       "      <td>16</td>\n",
       "      <td>1806.8</td>\n",
       "      <td>68</td>\n",
       "      <td>5675.5</td>\n",
       "      <td>61</td>\n",
       "      <td>6050.6</td>\n",
       "      <td>507</td>\n",
       "      <td>509</td>\n",
       "      <td>1845</td>\n",
       "      <td>1803</td>\n",
       "    </tr>\n",
       "    <tr>\n",
       "      <th>3</th>\n",
       "      <td>2019-08-04</td>\n",
       "      <td>16</td>\n",
       "      <td>1146.6</td>\n",
       "      <td>17</td>\n",
       "      <td>1717.3</td>\n",
       "      <td>84</td>\n",
       "      <td>6822.1</td>\n",
       "      <td>78</td>\n",
       "      <td>7767.9</td>\n",
       "      <td>717</td>\n",
       "      <td>770</td>\n",
       "      <td>2562</td>\n",
       "      <td>2573</td>\n",
       "    </tr>\n",
       "    <tr>\n",
       "      <th>4</th>\n",
       "      <td>2019-08-05</td>\n",
       "      <td>25</td>\n",
       "      <td>1988.1</td>\n",
       "      <td>23</td>\n",
       "      <td>1495.0</td>\n",
       "      <td>109</td>\n",
       "      <td>8810.2</td>\n",
       "      <td>101</td>\n",
       "      <td>9262.9</td>\n",
       "      <td>756</td>\n",
       "      <td>707</td>\n",
       "      <td>3318</td>\n",
       "      <td>3280</td>\n",
       "    </tr>\n",
       "  </tbody>\n",
       "</table>\n",
       "</div>"
      ],
      "text/plain": [
       "        date  orders_pathPerDateA  revenuePerDateA  orders_pathPerDateB  \\\n",
       "0 2019-08-01                   24           2356.8                   21   \n",
       "1 2019-08-02                   20           1503.5                   24   \n",
       "2 2019-08-03                   24           1815.2                   16   \n",
       "3 2019-08-04                   16           1146.6                   17   \n",
       "4 2019-08-05                   25           1988.1                   23   \n",
       "\n",
       "   revenuePerDateB  orders_pathCummulativeA  revenueCummulativeA  \\\n",
       "0           1620.0                       24               2356.8   \n",
       "1           2623.8                       44               3860.3   \n",
       "2           1806.8                       68               5675.5   \n",
       "3           1717.3                       84               6822.1   \n",
       "4           1495.0                      109               8810.2   \n",
       "\n",
       "   orders_pathCummulativeB  revenueCummulativeB  visits_pathPerDateA  \\\n",
       "0                       21               1620.0                  719   \n",
       "1                       45               4243.8                  619   \n",
       "2                       61               6050.6                  507   \n",
       "3                       78               7767.9                  717   \n",
       "4                      101               9262.9                  756   \n",
       "\n",
       "   visits_pathPerDateB  visits_pathCummulativeA  visits_pathCummulativeB  \n",
       "0                  713                      719                      713  \n",
       "1                  581                     1338                     1294  \n",
       "2                  509                     1845                     1803  \n",
       "3                  770                     2562                     2573  \n",
       "4                  707                     3318                     3280  "
      ]
     },
     "execution_count": 111,
     "metadata": {},
     "output_type": "execute_result"
    }
   ],
   "source": [
    "data = orders_pathADaily.merge(orders_pathBDaily, left_on='date', right_on='date', how='left')\\\n",
    "    .merge(orders_pathACummulative, left_on='date', right_on='date', how='left')\\\n",
    "    .merge(orders_pathBCummulative, left_on='date', right_on='date', how='left')\\\n",
    "    .merge(visits_pathADaily, left_on='date', right_on='date', how='left')\\\n",
    "    .merge(visits_pathBDaily, left_on='date', right_on='date', how='left')\\\n",
    "    .merge(visits_pathACummulative, left_on='date', right_on='date', how='left')\\\n",
    "    .merge(visits_pathBCummulative, left_on='date', right_on='date', how='left')\n",
    "data.head(5)"
   ]
  },
  {
   "cell_type": "markdown",
   "metadata": {},
   "source": [
    "    Let's select the users who have made at least 1 order, and the number of their orders in the group."
   ]
  },
  {
   "cell_type": "markdown",
   "metadata": {},
   "source": [
    "# Group A"
   ]
  },
  {
   "cell_type": "code",
   "execution_count": 112,
   "metadata": {},
   "outputs": [
    {
     "data": {
      "text/html": [
       "<div>\n",
       "<style scoped>\n",
       "    .dataframe tbody tr th:only-of-type {\n",
       "        vertical-align: middle;\n",
       "    }\n",
       "\n",
       "    .dataframe tbody tr th {\n",
       "        vertical-align: top;\n",
       "    }\n",
       "\n",
       "    .dataframe thead th {\n",
       "        text-align: right;\n",
       "    }\n",
       "</style>\n",
       "<table border=\"1\" class=\"dataframe\">\n",
       "  <thead>\n",
       "    <tr style=\"text-align: right;\">\n",
       "      <th></th>\n",
       "      <th>visitorId</th>\n",
       "      <th>orders</th>\n",
       "    </tr>\n",
       "  </thead>\n",
       "  <tbody>\n",
       "    <tr>\n",
       "      <th>0</th>\n",
       "      <td>8300375</td>\n",
       "      <td>1</td>\n",
       "    </tr>\n",
       "    <tr>\n",
       "      <th>1</th>\n",
       "      <td>11685486</td>\n",
       "      <td>1</td>\n",
       "    </tr>\n",
       "    <tr>\n",
       "      <th>2</th>\n",
       "      <td>54447517</td>\n",
       "      <td>1</td>\n",
       "    </tr>\n",
       "    <tr>\n",
       "      <th>3</th>\n",
       "      <td>66685450</td>\n",
       "      <td>1</td>\n",
       "    </tr>\n",
       "    <tr>\n",
       "      <th>4</th>\n",
       "      <td>78758296</td>\n",
       "      <td>1</td>\n",
       "    </tr>\n",
       "  </tbody>\n",
       "</table>\n",
       "</div>"
      ],
      "text/plain": [
       "   visitorId  orders\n",
       "0    8300375       1\n",
       "1   11685486       1\n",
       "2   54447517       1\n",
       "3   66685450       1\n",
       "4   78758296       1"
      ]
     },
     "execution_count": 112,
     "metadata": {},
     "output_type": "execute_result"
    }
   ],
   "source": [
    "orders_pathByUsersA=orders_path[orders_path['group']=='A'].groupby('visitorId',as_index=False).agg({'transactionId':pd.Series.nunique})\n",
    "orders_pathByUsersA.columns=['visitorId','orders']\n",
    "orders_pathByUsersA.head()"
   ]
  },
  {
   "cell_type": "markdown",
   "metadata": {},
   "source": [
    "# Group B"
   ]
  },
  {
   "cell_type": "code",
   "execution_count": 113,
   "metadata": {},
   "outputs": [
    {
     "data": {
      "text/html": [
       "<div>\n",
       "<style scoped>\n",
       "    .dataframe tbody tr th:only-of-type {\n",
       "        vertical-align: middle;\n",
       "    }\n",
       "\n",
       "    .dataframe tbody tr th {\n",
       "        vertical-align: top;\n",
       "    }\n",
       "\n",
       "    .dataframe thead th {\n",
       "        text-align: right;\n",
       "    }\n",
       "</style>\n",
       "<table border=\"1\" class=\"dataframe\">\n",
       "  <thead>\n",
       "    <tr style=\"text-align: right;\">\n",
       "      <th></th>\n",
       "      <th>visitorId</th>\n",
       "      <th>orders</th>\n",
       "    </tr>\n",
       "  </thead>\n",
       "  <tbody>\n",
       "    <tr>\n",
       "      <th>0</th>\n",
       "      <td>5114589</td>\n",
       "      <td>1</td>\n",
       "    </tr>\n",
       "    <tr>\n",
       "      <th>1</th>\n",
       "      <td>6958315</td>\n",
       "      <td>1</td>\n",
       "    </tr>\n",
       "    <tr>\n",
       "      <th>2</th>\n",
       "      <td>8300375</td>\n",
       "      <td>1</td>\n",
       "    </tr>\n",
       "    <tr>\n",
       "      <th>3</th>\n",
       "      <td>39475350</td>\n",
       "      <td>1</td>\n",
       "    </tr>\n",
       "    <tr>\n",
       "      <th>4</th>\n",
       "      <td>47206413</td>\n",
       "      <td>1</td>\n",
       "    </tr>\n",
       "  </tbody>\n",
       "</table>\n",
       "</div>"
      ],
      "text/plain": [
       "   visitorId  orders\n",
       "0    5114589       1\n",
       "1    6958315       1\n",
       "2    8300375       1\n",
       "3   39475350       1\n",
       "4   47206413       1"
      ]
     },
     "execution_count": 113,
     "metadata": {},
     "output_type": "execute_result"
    }
   ],
   "source": [
    "orders_pathByUsersB=orders_path[orders_path['group']=='B'].groupby('visitorId',as_index=False).agg({'transactionId':pd.Series.nunique})\n",
    "orders_pathByUsersB.columns=['visitorId','orders']\n",
    "orders_pathByUsersB.head()"
   ]
  },
  {
   "cell_type": "markdown",
   "metadata": {},
   "source": [
    "    "
   ]
  },
  {
   "cell_type": "markdown",
   "metadata": {},
   "source": [
    "    We will declare the variables SampleA and SampleB, in which the number of orders will correspond to users from different groups. Those who did not order anything will be matched with zeros."
   ]
  },
  {
   "cell_type": "code",
   "execution_count": 117,
   "metadata": {},
   "outputs": [],
   "source": [
    "import scipy.stats as stats\n",
    "sampleA=pd.concat([orders_pathByUsersA['orders'], pd.Series(0, index=np.arange(data['visits_pathPerDateA'].sum()-len(orders_pathByUsersA['orders'])), name='orders')], axis=0)\n",
    "sampleB=pd.concat([orders_pathByUsersB['orders'], pd.Series(0, index=np.arange(data['visits_pathPerDateB'].sum()-len(orders_pathByUsersB['orders'])), name='orders')], axis=0)"
   ]
  },
  {
   "cell_type": "markdown",
   "metadata": {},
   "source": [
    "    We will apply the criterion and format the p-value, rounding it to five decimal places."
   ]
  },
  {
   "cell_type": "code",
   "execution_count": 115,
   "metadata": {},
   "outputs": [
    {
     "data": {
      "text/plain": [
       "'0.01679'"
      ]
     },
     "execution_count": 115,
     "metadata": {},
     "output_type": "execute_result"
    }
   ],
   "source": [
    "\"{0:.5f}\".format(stats.mannwhitneyu(sampleA,sampleB)[1])"
   ]
  },
  {
   "cell_type": "markdown",
   "metadata": {},
   "source": [
    "    p-value is less than 0.05. Therefore, we reject the null hypothesis that there are no statistically significant differences in conversion between the groups. Analysis of the raw data reports that there are statistically significant differences in the conversion rate between the groups."
   ]
  },
  {
   "cell_type": "markdown",
   "metadata": {},
   "source": [
    "    Furthermore, we will output the relative increase of conversion in group B: group B conversion / group A conversion - 1. Let's round the result to three decimal places."
   ]
  },
  {
   "cell_type": "code",
   "execution_count": 141,
   "metadata": {},
   "outputs": [
    {
     "data": {
      "text/plain": [
       "'0.138'"
      ]
     },
     "execution_count": 141,
     "metadata": {},
     "output_type": "execute_result"
    }
   ],
   "source": [
    "\"{0:.3f}\".format((data['orders_pathPerDateB'].sum()/data['visits_pathPerDateB'].sum())/(data['orders_pathPerDateA'].sum()/data['visits_pathPerDateA'].sum())-1)"
   ]
  },
  {
   "cell_type": "markdown",
   "metadata": {},
   "source": [
    "    The relative increase in the conversion rate of group B to group A is 13.8% according to raw data."
   ]
  },
  {
   "cell_type": "markdown",
   "metadata": {},
   "source": [
    "    We could make sure again."
   ]
  },
  {
   "cell_type": "markdown",
   "metadata": {},
   "source": [
    "[Back to Contents](#tableofcontents)"
   ]
  },
  {
   "cell_type": "markdown",
   "metadata": {},
   "source": [
    "# Conversion"
   ]
  },
  {
   "cell_type": "code",
   "execution_count": 118,
   "metadata": {},
   "outputs": [
    {
     "data": {
      "text/html": [
       "<div>\n",
       "<style scoped>\n",
       "    .dataframe tbody tr th:only-of-type {\n",
       "        vertical-align: middle;\n",
       "    }\n",
       "\n",
       "    .dataframe tbody tr th {\n",
       "        vertical-align: top;\n",
       "    }\n",
       "\n",
       "    .dataframe thead th {\n",
       "        text-align: right;\n",
       "    }\n",
       "</style>\n",
       "<table border=\"1\" class=\"dataframe\">\n",
       "  <thead>\n",
       "    <tr style=\"text-align: right;\">\n",
       "      <th></th>\n",
       "      <th>transactionId</th>\n",
       "      <th>visitorId</th>\n",
       "      <th>date</th>\n",
       "      <th>revenue</th>\n",
       "      <th>group</th>\n",
       "    </tr>\n",
       "  </thead>\n",
       "  <tbody>\n",
       "    <tr>\n",
       "      <th>0</th>\n",
       "      <td>3667963787</td>\n",
       "      <td>3312258926</td>\n",
       "      <td>2019-08-15</td>\n",
       "      <td>30.4</td>\n",
       "      <td>B</td>\n",
       "    </tr>\n",
       "    <tr>\n",
       "      <th>1</th>\n",
       "      <td>2804400009</td>\n",
       "      <td>3642806036</td>\n",
       "      <td>2019-08-15</td>\n",
       "      <td>15.2</td>\n",
       "      <td>B</td>\n",
       "    </tr>\n",
       "    <tr>\n",
       "      <th>2</th>\n",
       "      <td>2961555356</td>\n",
       "      <td>4069496402</td>\n",
       "      <td>2019-08-15</td>\n",
       "      <td>10.2</td>\n",
       "      <td>A</td>\n",
       "    </tr>\n",
       "    <tr>\n",
       "      <th>3</th>\n",
       "      <td>3797467345</td>\n",
       "      <td>1196621759</td>\n",
       "      <td>2019-08-15</td>\n",
       "      <td>155.1</td>\n",
       "      <td>B</td>\n",
       "    </tr>\n",
       "    <tr>\n",
       "      <th>4</th>\n",
       "      <td>2282983706</td>\n",
       "      <td>2322279887</td>\n",
       "      <td>2019-08-15</td>\n",
       "      <td>40.5</td>\n",
       "      <td>B</td>\n",
       "    </tr>\n",
       "  </tbody>\n",
       "</table>\n",
       "</div>"
      ],
      "text/plain": [
       "   transactionId   visitorId       date  revenue group\n",
       "0     3667963787  3312258926 2019-08-15     30.4     B\n",
       "1     2804400009  3642806036 2019-08-15     15.2     B\n",
       "2     2961555356  4069496402 2019-08-15     10.2     A\n",
       "3     3797467345  1196621759 2019-08-15    155.1     B\n",
       "4     2282983706  2322279887 2019-08-15     40.5     B"
      ]
     },
     "execution_count": 118,
     "metadata": {},
     "output_type": "execute_result"
    }
   ],
   "source": [
    "orders_path.head()"
   ]
  },
  {
   "cell_type": "code",
   "execution_count": 119,
   "metadata": {},
   "outputs": [
    {
     "name": "stdout",
     "output_type": "stream",
     "text": [
      "0.01679\n",
      "0.138\n"
     ]
    }
   ],
   "source": [
    "orders_pathByUsersA = orders_path[orders_path['group']=='A'].groupby('visitorId', as_index=False).agg({'transactionId' : pd.Series.nunique})\n",
    "orders_pathByUsersA.columns = ['visitorId', 'orders']\n",
    "\n",
    "orders_pathByUserB = orders_path[orders_path['group']=='B'].groupby('visitorId', as_index=False).agg({'transactionId' : pd.Series.nunique})\n",
    "orders_pathByUsersB.columns = ['visitorId', 'orders']\n",
    "\n",
    "\n",
    "sampleA=pd.concat([orders_pathByUsersA['orders'], pd.Series(0, index=np.arange(data['visits_pathPerDateA'].sum()-len(orders_pathByUsersA['orders'])), name='orders')], axis=0)\n",
    "sampleB=pd.concat([orders_pathByUsersB['orders'], pd.Series(0, index=np.arange(data['visits_pathPerDateB'].sum()-len(orders_pathByUsersB['orders'])), name='orders')], axis=0)\n",
    "\n",
    "\n",
    "print(\"{0:.5f}\".format(stats.mannwhitneyu(sampleA, sampleB)[1]))\n",
    "print(\"{0:.3f}\".format(sampleB.mean()/sampleA.mean()-1))"
   ]
  },
  {
   "cell_type": "markdown",
   "metadata": {},
   "source": [
    "[Back to Contents](#tableofcontents)"
   ]
  },
  {
   "cell_type": "markdown",
   "metadata": {},
   "source": [
    "# Average Order Size"
   ]
  },
  {
   "cell_type": "code",
   "execution_count": 120,
   "metadata": {},
   "outputs": [
    {
     "name": "stdout",
     "output_type": "stream",
     "text": [
      "0.692\n",
      "0.252\n"
     ]
    }
   ],
   "source": [
    "print(\"{0:.3f}\".format(stats.mannwhitneyu(orders_path[orders_path['group']=='A']['revenue'], orders_path[orders_path['group']=='B']['revenue'])[1]))\n",
    "print(\"{0:.3f}\".format(orders_path[orders_path['group']=='B']['revenue'].mean()/orders_path[orders_path['group']=='A']['revenue'].mean()-1))"
   ]
  },
  {
   "cell_type": "markdown",
   "metadata": {},
   "source": [
    "##### Tentative Conclusions"
   ]
  },
  {
   "cell_type": "markdown",
   "metadata": {},
   "source": [
    "    Findings:\n",
    "    \n",
    "    - p-value is less than 0.05. Therefore, we reject the null hypothesis that there are no statistically significant differences in conversion between the groups. Analysis of the raw data reports that there are statistically significant differences in the conversion rate between the groups.\n",
    "\n",
    "    - The relative increase in the conversion rate of group B to group A is 13.8% according to raw data."
   ]
  },
  {
   "cell_type": "markdown",
   "metadata": {},
   "source": [
    "[Back to Contents](#tableofcontents)"
   ]
  },
  {
   "cell_type": "markdown",
   "metadata": {},
   "source": [
    "#### Statistical significance of differences in mean order size between groups using raw data\n",
    "    - Following the conclusions and assumptions."
   ]
  },
  {
   "cell_type": "code",
   "execution_count": 123,
   "metadata": {},
   "outputs": [
    {
     "data": {
      "text/plain": [
       "'0.692'"
      ]
     },
     "execution_count": 123,
     "metadata": {},
     "output_type": "execute_result"
    }
   ],
   "source": [
    "\"{0:.3f}\".format((stats\n",
    "                  .mannwhitneyu(orders_path[orders_path['group']=='A']['revenue'], orders_path[orders_path['group']=='B']['revenue'])[1]))"
   ]
  },
  {
   "cell_type": "code",
   "execution_count": 124,
   "metadata": {},
   "outputs": [
    {
     "data": {
      "text/plain": [
       "'0.252'"
      ]
     },
     "execution_count": 124,
     "metadata": {},
     "output_type": "execute_result"
    }
   ],
   "source": [
    "\"{0:.3f}\".format(orders_path[orders_path['group']=='B']['revenue'].mean()/orders_path[orders_path['group']=='A']['revenue'].mean()-1) "
   ]
  },
  {
   "cell_type": "markdown",
   "metadata": {},
   "source": [
    "    According to raw data, the average check of group B is 25% higher. But there are no statistically significant differences between the average checks of the groups, since the p-value is greater than 0.05."
   ]
  },
  {
   "cell_type": "code",
   "execution_count": 125,
   "metadata": {},
   "outputs": [
    {
     "name": "stdout",
     "output_type": "stream",
     "text": [
      "1099    148427295\n",
      "18      199603092\n",
      "928     204675465\n",
      "23      237748145\n",
      "37      249864742\n",
      "Name: visitorId, dtype: int64\n"
     ]
    }
   ],
   "source": [
    "usersWithManyOrders = pd.concat([orders_pathByUsersA[orders_pathByUsersA['orders'] > 2]['visitorId'], \n",
    "                                 orders_pathByUsersB[orders_pathByUsersB['orders'] > 2]['visitorId']], axis = 0)\n",
    "usersWithExpensiveOrders = orders_path[orders_path['revenue'] > 435]['visitorId']\n",
    "abnormalUsers = pd.concat([usersWithManyOrders, usersWithExpensiveOrders], axis = 0).drop_duplicates().sort_values()\n",
    "print(abnormalUsers.head(5))"
   ]
  },
  {
   "cell_type": "markdown",
   "metadata": {},
   "source": [
    "[Back to Contents](#tableofcontents)"
   ]
  },
  {
   "cell_type": "markdown",
   "metadata": {},
   "source": [
    "# Hypothesis Test for Conversion"
   ]
  },
  {
   "cell_type": "code",
   "execution_count": 131,
   "metadata": {},
   "outputs": [
    {
     "name": "stdout",
     "output_type": "stream",
     "text": [
      "0.01418\n",
      "0.171\n"
     ]
    }
   ],
   "source": [
    "sampleAFiltered = pd.concat([orders_pathByUsersA[np.logical_not(orders_pathByUsersA['visitorId'].isin(abnormalUsers))]['orders'],\n",
    "                             pd.Series(0, index=np.arange(visits_path[visits_path['group']=='A']['visits'].sum() - \n",
    "                                                          len(orders_pathByUsersA['orders'])),name='orders')],axis=0)\n",
    "\n",
    "sampleBFiltered = pd.concat([orders_pathByUsersB[np.logical_not(orders_pathByUsersB['visitorId'].isin(abnormalUsers))]['orders'], \n",
    "                             pd.Series(0, index=np.arange(visits_path[visits_path['group']=='B']['visits'].sum() - \n",
    "                                                          len(orders_pathByUsersB['orders'])),name='orders')],axis=0)\n",
    "\n",
    "print(\"{0:.5f}\".format(stats.mannwhitneyu(sampleAFiltered, sampleBFiltered)[1]))\n",
    "print(\"{0:.3f}\".format(sampleBFiltered.mean()/sampleAFiltered.mean()-1))"
   ]
  },
  {
   "cell_type": "markdown",
   "metadata": {},
   "source": [
    "# Average Order"
   ]
  },
  {
   "cell_type": "code",
   "execution_count": 132,
   "metadata": {},
   "outputs": [
    {
     "name": "stdout",
     "output_type": "stream",
     "text": [
      "0.750\n",
      "-0.027\n"
     ]
    }
   ],
   "source": [
    "print(\"{0:.3f}\".format(stats.mannwhitneyu(orders_path[np.logical_and(orders_path['group']=='A', np.logical_not(orders_path['visitorId'].isin(abnormalUsers)))]['revenue'], orders_path[np.logical_and(orders_path['group']=='B', np.logical_not(orders_path['visitorId'].isin(abnormalUsers)))]['revenue'])[1]))\n",
    "\n",
    "print(\"{0:.3f}\".format(orders_path[np.logical_and(orders_path['group']=='B', np.logical_not(orders_path['visitorId'].isin(abnormalUsers)))]['revenue'].mean()/orders_path[np.logical_and(orders_path['group']=='A', np.logical_not(orders_path['visitorId'].isin(abnormalUsers)))]['revenue'].mean() - 1))"
   ]
  },
  {
   "cell_type": "markdown",
   "metadata": {},
   "source": [
    "##### Tentative Conclusions"
   ]
  },
  {
   "cell_type": "markdown",
   "metadata": {},
   "source": [
    "    Findings:\n",
    "    \n",
    "    - According to raw data, the average check of group B is 25% higher. But there are no statistically significant differences between the average checks of the groups, since the p-value is greater than 0.05."
   ]
  },
  {
   "cell_type": "markdown",
   "metadata": {},
   "source": [
    "[Back to Contents](#tableofcontents)"
   ]
  },
  {
   "cell_type": "markdown",
   "metadata": {},
   "source": [
    "#### Statistical significance of conversion differences between groups using filtered data\n",
    "    - Following the conclusions and assumptions."
   ]
  },
  {
   "cell_type": "markdown",
   "metadata": {},
   "source": [
    "        We could make clear the tables of abnormal data. 95th and 99th percentiles of the average checks are 435.54 and 900.904 rubles. And the 95th and 99th percentiles of the number of orders per user are equal to 2 and 4 orders per user. We will take as abnormal users those who have made more than 2 orders, or made an order worth more than 28,000 rubles. So we will remove from 1% to 5% of users with the highest number of orders and about 5% of orders with the highest cost.\n",
    "\n",
    "        Let's make queries with abnormal users."
   ]
  },
  {
   "cell_type": "code",
   "execution_count": 152,
   "metadata": {},
   "outputs": [
    {
     "data": {
      "text/html": [
       "<div>\n",
       "<style scoped>\n",
       "    .dataframe tbody tr th:only-of-type {\n",
       "        vertical-align: middle;\n",
       "    }\n",
       "\n",
       "    .dataframe tbody tr th {\n",
       "        vertical-align: top;\n",
       "    }\n",
       "\n",
       "    .dataframe thead th {\n",
       "        text-align: right;\n",
       "    }\n",
       "</style>\n",
       "<table border=\"1\" class=\"dataframe\">\n",
       "  <thead>\n",
       "    <tr style=\"text-align: right;\">\n",
       "      <th></th>\n",
       "      <th>visitorId</th>\n",
       "      <th>orders</th>\n",
       "    </tr>\n",
       "  </thead>\n",
       "  <tbody>\n",
       "    <tr>\n",
       "      <th>0</th>\n",
       "      <td>8300375</td>\n",
       "      <td>1</td>\n",
       "    </tr>\n",
       "    <tr>\n",
       "      <th>1</th>\n",
       "      <td>11685486</td>\n",
       "      <td>1</td>\n",
       "    </tr>\n",
       "    <tr>\n",
       "      <th>2</th>\n",
       "      <td>54447517</td>\n",
       "      <td>1</td>\n",
       "    </tr>\n",
       "    <tr>\n",
       "      <th>3</th>\n",
       "      <td>66685450</td>\n",
       "      <td>1</td>\n",
       "    </tr>\n",
       "    <tr>\n",
       "      <th>4</th>\n",
       "      <td>78758296</td>\n",
       "      <td>1</td>\n",
       "    </tr>\n",
       "  </tbody>\n",
       "</table>\n",
       "</div>"
      ],
      "text/plain": [
       "   visitorId  orders\n",
       "0    8300375       1\n",
       "1   11685486       1\n",
       "2   54447517       1\n",
       "3   66685450       1\n",
       "4   78758296       1"
      ]
     },
     "execution_count": 152,
     "metadata": {},
     "output_type": "execute_result"
    }
   ],
   "source": [
    "orders_pathByUsersA.head()"
   ]
  },
  {
   "cell_type": "code",
   "execution_count": 154,
   "metadata": {},
   "outputs": [
    {
     "data": {
      "text/html": [
       "<div>\n",
       "<style scoped>\n",
       "    .dataframe tbody tr th:only-of-type {\n",
       "        vertical-align: middle;\n",
       "    }\n",
       "\n",
       "    .dataframe tbody tr th {\n",
       "        vertical-align: top;\n",
       "    }\n",
       "\n",
       "    .dataframe thead th {\n",
       "        text-align: right;\n",
       "    }\n",
       "</style>\n",
       "<table border=\"1\" class=\"dataframe\">\n",
       "  <thead>\n",
       "    <tr style=\"text-align: right;\">\n",
       "      <th></th>\n",
       "      <th>transactionId</th>\n",
       "      <th>visitorId</th>\n",
       "      <th>date</th>\n",
       "      <th>revenue</th>\n",
       "      <th>group</th>\n",
       "    </tr>\n",
       "  </thead>\n",
       "  <tbody>\n",
       "    <tr>\n",
       "      <th>0</th>\n",
       "      <td>3667963787</td>\n",
       "      <td>3312258926</td>\n",
       "      <td>2019-08-15</td>\n",
       "      <td>30.4</td>\n",
       "      <td>B</td>\n",
       "    </tr>\n",
       "    <tr>\n",
       "      <th>1</th>\n",
       "      <td>2804400009</td>\n",
       "      <td>3642806036</td>\n",
       "      <td>2019-08-15</td>\n",
       "      <td>15.2</td>\n",
       "      <td>B</td>\n",
       "    </tr>\n",
       "    <tr>\n",
       "      <th>2</th>\n",
       "      <td>2961555356</td>\n",
       "      <td>4069496402</td>\n",
       "      <td>2019-08-15</td>\n",
       "      <td>10.2</td>\n",
       "      <td>A</td>\n",
       "    </tr>\n",
       "    <tr>\n",
       "      <th>3</th>\n",
       "      <td>3797467345</td>\n",
       "      <td>1196621759</td>\n",
       "      <td>2019-08-15</td>\n",
       "      <td>155.1</td>\n",
       "      <td>B</td>\n",
       "    </tr>\n",
       "    <tr>\n",
       "      <th>4</th>\n",
       "      <td>2282983706</td>\n",
       "      <td>2322279887</td>\n",
       "      <td>2019-08-15</td>\n",
       "      <td>40.5</td>\n",
       "      <td>B</td>\n",
       "    </tr>\n",
       "  </tbody>\n",
       "</table>\n",
       "</div>"
      ],
      "text/plain": [
       "   transactionId   visitorId       date  revenue group\n",
       "0     3667963787  3312258926 2019-08-15     30.4     B\n",
       "1     2804400009  3642806036 2019-08-15     15.2     B\n",
       "2     2961555356  4069496402 2019-08-15     10.2     A\n",
       "3     3797467345  1196621759 2019-08-15    155.1     B\n",
       "4     2282983706  2322279887 2019-08-15     40.5     B"
      ]
     },
     "execution_count": 154,
     "metadata": {},
     "output_type": "execute_result"
    }
   ],
   "source": [
    "orders_path.head()"
   ]
  },
  {
   "cell_type": "markdown",
   "metadata": {},
   "source": [
    "# Users with a large number of orders"
   ]
  },
  {
   "cell_type": "code",
   "execution_count": 155,
   "metadata": {},
   "outputs": [
    {
     "data": {
      "text/plain": [
       "24"
      ]
     },
     "execution_count": 155,
     "metadata": {},
     "output_type": "execute_result"
    }
   ],
   "source": [
    "usersWithManyOrders=(pd\n",
    "                     .concat([orders_pathByUsersA[orders_pathByUsersA['orders']>2]['visitorId'], \n",
    "                              orders_pathByUsersB[orders_pathByUsersB['orders']>2]['visitorId']], axis=0))\n",
    "len(usersWithManyOrders)"
   ]
  },
  {
   "cell_type": "markdown",
   "metadata": {},
   "source": [
    "# Users with expensive orders"
   ]
  },
  {
   "cell_type": "code",
   "execution_count": 160,
   "metadata": {},
   "outputs": [
    {
     "data": {
      "text/plain": [
       "0"
      ]
     },
     "execution_count": 160,
     "metadata": {},
     "output_type": "execute_result"
    }
   ],
   "source": [
    "usersWithExpensiveOrders=orders_path[orders_path['revenue']>28000]['visitorId']\n",
    "len(usersWithExpensiveOrders)"
   ]
  },
  {
   "cell_type": "markdown",
   "metadata": {},
   "source": [
    "# We'll merge tables and remove duplicates."
   ]
  },
  {
   "cell_type": "code",
   "execution_count": 161,
   "metadata": {},
   "outputs": [
    {
     "data": {
      "text/plain": [
       "20"
      ]
     },
     "execution_count": 161,
     "metadata": {},
     "output_type": "execute_result"
    }
   ],
   "source": [
    "abnormalUsers=pd.concat([usersWithManyOrders, usersWithExpensiveOrders], axis=0).drop_duplicates().sort_values()\n",
    "len(abnormalUsers)"
   ]
  },
  {
   "cell_type": "markdown",
   "metadata": {},
   "source": [
    "    We will have to remove 20 users from the sample of 1031 people, about 7%."
   ]
  },
  {
   "cell_type": "markdown",
   "metadata": {},
   "source": [
    "    We will create the sampleAFiltered and sampleBFiltered variables in which we will save the cleared order data; we won't include abnormal users."
   ]
  },
  {
   "cell_type": "code",
   "execution_count": 164,
   "metadata": {},
   "outputs": [
    {
     "data": {
      "text/plain": [
       "18718"
      ]
     },
     "execution_count": 164,
     "metadata": {},
     "output_type": "execute_result"
    }
   ],
   "source": [
    "sampleAFiltered=(pd\n",
    "                 .concat([orders_pathByUsersA[np.logical_not(orders_pathByUsersA['visitorId'].isin(abnormalUsers))]['orders'], \n",
    "                          pd.Series(0, index=np.arange(data['visits_pathPerDateA'].sum() - len(orders_pathByUsersA['orders'])),\n",
    "                                    name='orders')], axis=0))\n",
    "len(sampleAFiltered)"
   ]
  },
  {
   "cell_type": "code",
   "execution_count": 165,
   "metadata": {},
   "outputs": [
    {
     "data": {
      "text/plain": [
       "18901"
      ]
     },
     "execution_count": 165,
     "metadata": {},
     "output_type": "execute_result"
    }
   ],
   "source": [
    "sampleBFiltered=(pd\n",
    "                 .concat([orders_pathByUsersB[np.logical_not(orders_pathByUsersB['visitorId'].isin(abnormalUsers))]['orders'], \n",
    "                          pd.Series(0, index=np.arange(data['visits_pathPerDateB'].sum() - len(orders_pathByUsersB['orders'])),\n",
    "                                    name='orders')], axis=0))\n",
    "len(sampleBFiltered)"
   ]
  },
  {
   "cell_type": "code",
   "execution_count": 171,
   "metadata": {},
   "outputs": [
    {
     "data": {
      "text/plain": [
       "37652"
      ]
     },
     "execution_count": 171,
     "metadata": {},
     "output_type": "execute_result"
    }
   ],
   "source": [
    "visits_path['visits'].sum()"
   ]
  },
  {
   "cell_type": "code",
   "execution_count": 172,
   "metadata": {},
   "outputs": [
    {
     "data": {
      "text/plain": [
       "33"
      ]
     },
     "execution_count": 172,
     "metadata": {},
     "output_type": "execute_result"
    }
   ],
   "source": [
    "visits_path['visits'].sum() -(len(sampleAFiltered)+len(sampleBFiltered))"
   ]
  },
  {
   "cell_type": "markdown",
   "metadata": {},
   "source": [
    "    Let's output the p-value to compare the conversion rate between the cleared groups."
   ]
  },
  {
   "cell_type": "code",
   "execution_count": 173,
   "metadata": {},
   "outputs": [
    {
     "data": {
      "text/plain": [
       "'0.01155'"
      ]
     },
     "execution_count": 173,
     "metadata": {},
     "output_type": "execute_result"
    }
   ],
   "source": [
    "\"{0:.5f}\".format(stats.mannwhitneyu(sampleAFiltered, sampleBFiltered)[1])"
   ]
  },
  {
   "cell_type": "markdown",
   "metadata": {},
   "source": [
    "    Statistical significance for comparing samples by conversion is achieved."
   ]
  },
  {
   "cell_type": "markdown",
   "metadata": {},
   "source": [
    "    We will see the increase in the conversion rate of group B."
   ]
  },
  {
   "cell_type": "code",
   "execution_count": 174,
   "metadata": {},
   "outputs": [
    {
     "name": "stdout",
     "output_type": "stream",
     "text": [
      "0.170\n"
     ]
    }
   ],
   "source": [
    "print(\"{0:.3f}\".format(sampleBFiltered.mean()/sampleAFiltered.mean()-1))"
   ]
  },
  {
   "cell_type": "markdown",
   "metadata": {},
   "source": [
    "##### Tentative Conclusions"
   ]
  },
  {
   "cell_type": "markdown",
   "metadata": {},
   "source": [
    "    Findings:\n",
    "    \n",
    "    - The conversion rate in the filtered data is 14.8 percent, even more than in the raw data by 1 percentage point."
   ]
  },
  {
   "cell_type": "markdown",
   "metadata": {},
   "source": [
    "[Back to Contents](#tableofcontents)"
   ]
  },
  {
   "cell_type": "markdown",
   "metadata": {},
   "source": [
    "#### Statistical significance of differences in mean order size between groups using filtered data\n",
    "    - Following the conclusions and assumptions."
   ]
  },
  {
   "cell_type": "markdown",
   "metadata": {},
   "source": [
    "    Output the p-value to compare the average checks between the filtered groups."
   ]
  },
  {
   "cell_type": "code",
   "execution_count": 176,
   "metadata": {},
   "outputs": [
    {
     "data": {
      "text/html": [
       "<div>\n",
       "<style scoped>\n",
       "    .dataframe tbody tr th:only-of-type {\n",
       "        vertical-align: middle;\n",
       "    }\n",
       "\n",
       "    .dataframe tbody tr th {\n",
       "        vertical-align: top;\n",
       "    }\n",
       "\n",
       "    .dataframe thead th {\n",
       "        text-align: right;\n",
       "    }\n",
       "</style>\n",
       "<table border=\"1\" class=\"dataframe\">\n",
       "  <thead>\n",
       "    <tr style=\"text-align: right;\">\n",
       "      <th></th>\n",
       "      <th>transactionId</th>\n",
       "      <th>visitorId</th>\n",
       "      <th>date</th>\n",
       "      <th>revenue</th>\n",
       "      <th>group</th>\n",
       "    </tr>\n",
       "  </thead>\n",
       "  <tbody>\n",
       "    <tr>\n",
       "      <th>0</th>\n",
       "      <td>3667963787</td>\n",
       "      <td>3312258926</td>\n",
       "      <td>2019-08-15</td>\n",
       "      <td>30.4</td>\n",
       "      <td>B</td>\n",
       "    </tr>\n",
       "    <tr>\n",
       "      <th>1</th>\n",
       "      <td>2804400009</td>\n",
       "      <td>3642806036</td>\n",
       "      <td>2019-08-15</td>\n",
       "      <td>15.2</td>\n",
       "      <td>B</td>\n",
       "    </tr>\n",
       "  </tbody>\n",
       "</table>\n",
       "</div>"
      ],
      "text/plain": [
       "   transactionId   visitorId       date  revenue group\n",
       "0     3667963787  3312258926 2019-08-15     30.4     B\n",
       "1     2804400009  3642806036 2019-08-15     15.2     B"
      ]
     },
     "execution_count": 176,
     "metadata": {},
     "output_type": "execute_result"
    }
   ],
   "source": [
    "orders_path.head(2)"
   ]
  },
  {
   "cell_type": "code",
   "execution_count": 179,
   "metadata": {},
   "outputs": [
    {
     "data": {
      "text/plain": [
       "'0.706'"
      ]
     },
     "execution_count": 179,
     "metadata": {},
     "output_type": "execute_result"
    }
   ],
   "source": [
    "\"{0:.3f}\".format(stats.mannwhitneyu(\n",
    "    orders_path[np.logical_and(\n",
    "        orders_path['group']=='A',\n",
    "        np.logical_not(orders_path['visitorId'].isin(abnormalUsers)))]['revenue'],\n",
    "    orders_path[np.logical_and(\n",
    "        orders_path['group']=='B',\n",
    "        np.logical_not(orders_path['visitorId'].isin(abnormalUsers)))]['revenue'])[1])"
   ]
  },
  {
   "cell_type": "markdown",
   "metadata": {},
   "source": [
    "    Even after filtering the data, it was not possible to achieve statistical significance.\n",
    "\n",
    "    Relative increase in the average check of the filtered group B"
   ]
  },
  {
   "cell_type": "code",
   "execution_count": 180,
   "metadata": {},
   "outputs": [
    {
     "data": {
      "text/plain": [
       "'0.228'"
      ]
     },
     "execution_count": 180,
     "metadata": {},
     "output_type": "execute_result"
    }
   ],
   "source": [
    "\"{0:.3f}\".format(\n",
    "orders_path[np.logical_and(orders_path['group']=='B', np.logical_not(orders_path['visitorId'].isin(abnormalUsers)))]['revenue'].mean()/\n",
    "    orders_path[np.logical_and(\n",
    "    orders_path['group']=='A',\n",
    "    np.logical_not(orders_path['visitorId'].isin(abnormalUsers)))]['revenue'].mean() -1 )"
   ]
  },
  {
   "cell_type": "markdown",
   "metadata": {},
   "source": [
    "##### Tentative Conclusions"
   ]
  },
  {
   "cell_type": "markdown",
   "metadata": {},
   "source": [
    "    Findings:\n",
    "    \n",
    "    - According to the filtered data, the average check in group B was about the same as in group A, and even slightly less. But the difference is still not statistically significant."
   ]
  },
  {
   "cell_type": "markdown",
   "metadata": {},
   "source": [
    "[Back to Contents](#tableofcontents)"
   ]
  },
  {
   "cell_type": "markdown",
   "metadata": {},
   "source": [
    "#### Decision based on test results\n",
    "\n",
    "    - Possible decisions are:\n",
    "        1. Stopping testing, and considering one of the groups as the leader.\n",
    "        2. Stopping testing, and concluding that there is no difference between the two groups.\n",
    "        3. Resuming testing."
   ]
  },
  {
   "cell_type": "markdown",
   "metadata": {},
   "source": [
    "[Back to Contents](#tableofcontents)"
   ]
  },
  {
   "cell_type": "markdown",
   "metadata": {},
   "source": [
    "##### Conclusion Points"
   ]
  },
  {
   "cell_type": "markdown",
   "metadata": {},
   "source": [
    "        - There is a statistically significant difference in the conversion rate between the groups, both in raw data and after filtering the anomalies. The graph of the difference in conversion between groups reports that the results of group B are better than group A: they tend to increase: \"3.2.4.3 Graph of the relative change in the cumulative conversion in group B to group A\". The conversion rate in the filtered data is 14.8 percent, which is 1 percentage point more than in the raw data.\n",
    "\n",
    "        - However, for both raw and filtered data, there is no statistically significant difference in the average check between the groups.\n",
    "\n",
    "        - Based on the facts and analysis above, we should stop the test and admit that the experiment had a positive effect on the conversion rate, but did not affect the average check."
   ]
  },
  {
   "cell_type": "markdown",
   "metadata": {},
   "source": [
    "[Back to Contents](#tableofcontents)"
   ]
  },
  {
   "cell_type": "markdown",
   "metadata": {},
   "source": [
    "## Presentation\n",
    "    - Step 3. Presenting My Project to The Viewers"
   ]
  },
  {
   "cell_type": "markdown",
   "metadata": {},
   "source": [
    "<div style=\"border:solid black 2px; padding: 20px\">\n",
    "    \n",
    "    This is my presentation of 'Increasing Revenue of Big Online Store Alpha by Prioritizing Hypothesis and Analysis A/B Testing' project by me, awrb.\n",
    "\n",
    "</div>"
   ]
  },
  {
   "cell_type": "markdown",
   "metadata": {},
   "source": [
    "Presentation Link: https://drive.google.com/file/d/1_sMbSgbpt41ONhLQi5Brq1iMLZvyeXBN/view?usp=sharing"
   ]
  },
  {
   "cell_type": "markdown",
   "metadata": {},
   "source": [
    "[Back to Contents](#tableofcontents)"
   ]
  },
  {
   "cell_type": "markdown",
   "metadata": {},
   "source": [
    "## General Conclusion\n",
    "    - Step 4. Formulating General Conclusions"
   ]
  },
  {
   "cell_type": "markdown",
   "metadata": {},
   "source": [
    "    # 2. Data Overview\n",
    "    \n",
    "    2.1 Section 1: Prioritizing Hypotheses\n",
    "    Findings:\n",
    "    - From the data above, we could see that the 'hypotheses_path' variable has five columns containing information, namely 'Hypothesis', 'Reach', 'Impact', 'Confidence', 'Effort'.\n",
    "\n",
    "    - The 'Hypothesis.unique()' function displays a list of 'Hypothesis' which will be analyzed further.\n",
    "\n",
    "    - And we have created the syntax to display the 'ICE' and 'RICE' frameworks later.\n",
    "\n",
    "    - Proceed with the next step.\n",
    "\n",
    "        2.1.1 Framework ICE\n",
    "        Findings:\n",
    "        - According to the ICE method, the hypotheses 8,0,7 lead: a birthday promotion, two new traffic channels, an email subscription form.\n",
    "\n",
    "        2.1.2 Framework RICE\n",
    "        Findings:\n",
    "        According to the RICE method, hypotheses 7,2,0 lead: email subscription form, product recommendations, 2 new traffic channels.\n",
    "\n",
    "        2.1.3  Analysis Both Two Frameworks 'ICE' and 'RICE'\n",
    "        - The function syntax 'sun_plot(hypotheses_path, 'ICE')' displays that 'Hypothesis' which has the highest value of other 'Hypothesis' is 'Launch a promotion that gives users discounts on their birthdays'. Thus, 'Hypothesis' (8) leads to the 'ICE' method.\n",
    "\n",
    "        - The function syntax 'sun_plot(hypotheses_path, 'RICE')' displays that 'Hypothesis' which has the highest value of the other 'Hypothesis' is 'Add a subscription form to all the main pages. This will help you compile a mailing list'. Thus, 'Hypothesis' (7) leads to the 'RICE' method.\n",
    "\n",
    "        - Whereas for both 'ICE' and 'RICE' methods, 'Hypothesis' which has the highest value is 'Add a subscription form to all the main pages. This will help you compile a mailing list'. Thus, the 'Hypothesis' leads in both methods of the framework.\n",
    "\n",
    "    2.2  Section 2: A/B Testing Analysis\n",
    "\n",
    "    2.2.1  Preparation for A/B Testing Data\n",
    "    Findings:\n",
    "    In the Preparation for A/B Testing Data session, we changed the 'date' column in the 'orders_path' and 'visits_path' variables to a datetime form.\n",
    "\n",
    "    2.3  Data Overview Elaboration\n",
    "        2.3.1  'hypotheses_path'\n",
    "        Findings for 'hypotheses_path' variable:\n",
    "        - In the variable 'hypotheses_path', currently has 7 columns to analyze, namely:\n",
    "\n",
    "         1   Hypothesis  object \n",
    "         2   Reach       int64  \n",
    "         3   Impact      int64  \n",
    "         4   Confidence  int64  \n",
    "         5   Effort      int64  \n",
    "         6   ICE         float64\n",
    "         7   RICE        float64\n",
    "\n",
    "        with data type details: float64(2), int64(4), object(1).\n",
    "\n",
    "        - In the 'hypotheses_path' variable, the new columns that have been formed are 'ICE' and 'RICE'.\n",
    "\n",
    "        - There is no duplicate data in the 'hypotheses_path' variable.\n",
    "\n",
    "        2.3.2  'orders_path'\n",
    "        Findings for 'orders_path' variable:\n",
    "        - In the 'orders_path' variable, it has 5 columns to analyze, namely:\n",
    "\n",
    "        1   transactionId    int64         \n",
    "        2   visitorId        int64         \n",
    "        3   date             datetime64[ns]\n",
    "        4   revenue          float64       \n",
    "        5   group            object    \n",
    "\n",
    "        with data type details: datetime64[ns](1), float64(1), int64(2), object(1).\n",
    "\n",
    "        - There is no duplicate data in the 'orders_path' variable.\n",
    "\n",
    "        - There are 1031 unique users in the sample.\n",
    "\n",
    "        - There is data for the whole of August 2019 on data information \"orders_path['date'].describe()\".\n",
    "\n",
    "        2.3.3  'visits_path'\n",
    "        Findings for 'visits_path' variable:\n",
    "        - In the 'visits_path' variable, it has 3 columns to analyze, namely:\n",
    "\n",
    "        1   date         datetime64[ns]\n",
    "        2   group        object        \n",
    "        3   visits       int64 \n",
    "\n",
    "        with data type details: datetime64[ns](1), int64(1), object(1).\n",
    "\n",
    "        - There is no duplicate data in the 'visits_path' variable.\n",
    "\n",
    "\n",
    "\n",
    "    # 3  Data Preprocessing and Graph Analysis\n",
    "    3.1  Check for missing value and duplicate data\n",
    "    Findings:\n",
    "    - Currently, the dataset has been confirmed to be clean and the data is ready to be managed and analyzed.\n",
    "\n",
    "    3.2  Data Preprocessing for Analyzing A/B Testing\n",
    "        3.2.1  Cumulative income graph by group\n",
    "        Findings:\n",
    "        - Group B leads in revenue, but the chart shows an abnormal increase in the second half of the test.\n",
    "\n",
    "        3.2.2  Graph of cumulative average order size by group\n",
    "        Findings:\n",
    "        - The graph displays the same movement as the previous graph, we could see that Group B is leading on the average check, but now there are even more jumps on the chart for both groups.\n",
    "\n",
    "        3.2.3  Graph of relative differences for the cumulative average order size of group B compared to group A\n",
    "        Findings:\n",
    "        - At several points, the graph of the difference between the segments jumps sharply. The reason is most likely large orders and outliers.\n",
    "\n",
    "            3.2.4.1  Calculation of the conversion rate of each batches as the ratio of orders to the number of visits each days\n",
    "            Findings:\n",
    "            - At the beginning of the test, group A was leading in terms of conversion, but gradually group B became the leader and remained at about the same level above group A.\n",
    "\n",
    "            3.2.4.3  Graph of the relative change in the cumulative conversion in group B to group A\n",
    "            Findings:\n",
    "            - Group B leads the conversion rate: in the middle of the test, it reaches a 20% difference to group A, then holds on to 10%.\n",
    "\n",
    "        3.2.5  Scatter plot for the number of orders per user\n",
    "        Findings:\n",
    "        - There are more than three orders are rare. Next step, we will count the selected percentiles.\n",
    "\n",
    "        3.2.6  Calculation of the 95th and 99th percentiles for the number of orders per user and Determination of the point when a data point turns out to be an anomaly\n",
    "        Findings:\n",
    "        - Not more than 5% of users have made more than two orders, and not more than 1% - more than four orders. I suggest that we select 2 orders for the lower limit of the number of orders, and filter out abnormal users by it.\n",
    "\n",
    "        3.2.7  Scatter plot for order prices\n",
    "        Findings:\n",
    "        - Only two obvious outliers are visible here - about 200,000 and 1,200,000. Let's see the percentiles.\n",
    "\n",
    "        3.2.8  Calculation of the 95th and 99th percentile for the order price and Determination of the point when a data point turns out to be an anomaly\n",
    "        Findings:\n",
    "        - Not more than 5% of visitors order for the amount of more than 435.54, and not more than 1% - for the amount of 900.904. Let's take the lower limit of 435.54.\n",
    "\n",
    "        3.2.9  Statistical significance of conversion differences between groups using the raw data\n",
    "        Findings:\n",
    "        - p-value is less than 0.05. Therefore, we reject the null hypothesis that there are no statistically significant differences in conversion between the groups. Analysis of the raw data reports that there are statistically significant differences in the conversion rate between the groups.\n",
    "\n",
    "    - The relative increase in the conversion rate of group B to group A is 13.8% according to raw data.\n",
    "\n",
    "            3.2.10  Statistical significance of differences in mean order size between groups using raw data\n",
    "            Findings:\n",
    "            - According to raw data, the average check of group B is 25% higher. But there are no statistically significant differences between the average checks of the groups, since the p-value is greater than 0.05.\n",
    "\n",
    "            3.2.11  Statistical significance of conversion differences between groups using filtered data\n",
    "            Findings:\n",
    "            - The conversion rate in the filtered data is 14.8 percent, even more than in the raw data by 1 percentage point.\n",
    "\n",
    "            3.2.12  Statistical significance of differences in mean order size between groups using filtered data\n",
    "            Findings:\n",
    "            - According to the filtered data, the average check in group B was about the same as in group A, and even slightly less. But the difference is still not statistically significant.\n",
    "\n",
    "            3.2.13  Decision based on test results.\n",
    "            - There is a statistically significant difference in the conversion rate between the groups, both in raw data and after filtering the anomalies. The graph of the difference in conversion between groups reports that the results of group B are better than group A: they tend to increase: \"3.2.4.3 Graph of the relative change in the cumulative conversion in group B to group A\". The conversion rate in the filtered data is 14.8 percent, which is 1 percentage point more than in the raw data.\n",
    "\n",
    "            - However, for both raw and filtered data, there is no statistically significant difference in the average check between the groups.\n",
    "\n",
    "            - Based on the facts and analysis above, we should stop the test and admit that the experiment had a positive effect on the conversion rate, but did not affect the average check."
   ]
  },
  {
   "cell_type": "markdown",
   "metadata": {},
   "source": [
    "[Back to Contents](#tableofcontents)"
   ]
  }
 ],
 "metadata": {
  "kernelspec": {
   "display_name": "Python 3 (ipykernel)",
   "language": "python",
   "name": "python3"
  },
  "language_info": {
   "codemirror_mode": {
    "name": "ipython",
    "version": 3
   },
   "file_extension": ".py",
   "mimetype": "text/x-python",
   "name": "python",
   "nbconvert_exporter": "python",
   "pygments_lexer": "ipython3",
   "version": "3.9.5"
  },
  "toc": {
   "base_numbering": 1,
   "nav_menu": {},
   "number_sections": true,
   "sideBar": true,
   "skip_h1_title": true,
   "title_cell": "Table of Contents",
   "title_sidebar": "Contents",
   "toc_cell": false,
   "toc_position": {
    "height": "calc(100% - 180px)",
    "left": "10px",
    "top": "150px",
    "width": "362.583px"
   },
   "toc_section_display": true,
   "toc_window_display": true
  }
 },
 "nbformat": 4,
 "nbformat_minor": 2
}
