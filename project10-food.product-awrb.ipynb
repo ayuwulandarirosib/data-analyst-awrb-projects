{
 "cells": [
  {
   "cell_type": "markdown",
   "metadata": {},
   "source": [
    "<div style=\"border:solid black 2px; padding: 20px\">\n",
    "<div style=\"border:solid black 2px; padding: 20px\" class=\"alert alert-success\">\n",
    "    \n",
    "# Finding Out The Users Behavior of Food Product Company Application - by awrb\n",
    "    \n",
    "</div>"
   ]
  },
  {
   "cell_type": "markdown",
   "metadata": {},
   "source": [
    "# Table of Contents: <a id='tableofcontents'></a>\n",
    "\n",
    "    - 1. Introduction\n",
    "        - 1.1 Goal\n",
    "        - 1.2 Stages\n",
    "    - 2. Data Overview\n",
    "        - 2.1 Data Overview Elaboration\n",
    "            - 2.1.1 Ensuring the Data Quality\n",
    "        - 2.2 Findings from Step 1. Opening the Data File and Learning the General Information\n",
    "    - 3. Data Preprocessing\n",
    "        - 3.1 Renaming The Columns\n",
    "        - 3.2 Checking for Data Type, Array Form, Missing Values, Duplicate Data and Correcting The Datas\n",
    "        - 3.3 Adding Date and Time Column and A Separate Column for Dates\n",
    "        - 3.4 Conclusions from Step 2. Preparing Data for Analysis\n",
    "    - 4. Learning and Examining The Data\n",
    "        - 4.1 How many events are logged?\n",
    "        - 4.2 How many users are logged in?\n",
    "        - 4.3 What is the average number of events per user?\n",
    "        - 4.4 What time period does the datas cover?\n",
    "            - 4.4.1 Temporary Summary\n",
    "        - 4.5 Did we lose a lot of events and users when we got rid of old data?\n",
    "            - 4.5.1 Temporary Summary\n",
    "        - 4.6 Making sure we have users from all three experimental groups\n",
    "        - 4.7 Conclusions from Step 3. Learning and Examining the Data\n",
    "    - 5. Event Funnel\n",
    "        - 5.1 Checking what events are in the log and how many times they occur\n",
    "        - 5.2 Finding the number of users who performed each actions\n",
    "        - 5.3 In what order do we think the actions took place?\n",
    "        - 5.4 Using the event funnel to find the percentage of users who persist from one stage to the next\n",
    "        - 5.5 At what stage did we lose a lot of users?\n",
    "        - 5.6 What percentage of users successfully complete all stages, from first event to checkout?\n",
    "        - 5.7 Conclusions from Step 4. Learning the Event Funnel\n",
    "    - 6. Learning Experimental Results\n",
    "        - 6.1 How many users are there in each group?\n",
    "        - 6.2 We have two control groups in A/A testing, where we check our mechanics and calculations\n",
    "        - 6.3 Select the most popular events\n",
    "        - 6.4 Do the same for the group of users shown the latest font version\n",
    "        - 6.5 Level of Significance\n",
    "            - 6.5.1 What level of significance did we set to test the statistical hypothesis mentioned above?\n",
    "            - 6.5.2  What level of significance should be set?\n",
    "        - 6.6 Conclusions from Step 5. Learning the Results of Our Experiment\n",
    "    - 7. Presentation\n",
    "    - 8. General Conclusions"
   ]
  },
  {
   "cell_type": "markdown",
   "metadata": {},
   "source": [
    "## Introduction"
   ]
  },
  {
   "cell_type": "markdown",
   "metadata": {},
   "source": [
    "            I am currently working at a startup company that sells food products. I need to find out the behavior of the company's app users.\n",
    "    \n",
    "            First, we will explore the sales funnel by figuring out the path a user has to go through to get to the purchase stage. How many users actually made it to the purchase the stage. How many users have stalled in the previous stages. At what stage exactly did this happen?\n",
    "    \n",
    "            Then, we will see the results of A/A/B testing. Next, the web designer team wanted to change the font for the entire app, but the product manager was worried that users would find the new design distracting. They also decided to make a decision based on the results of A/A/B testing.\n",
    "    \n",
    "            The users were divided into three groups: two control groups were shown with the old font version and one test group was shown with the latest font version. My job was to find out which font would give the best results."
   ]
  },
  {
   "cell_type": "markdown",
   "metadata": {},
   "source": [
    "### Goal"
   ]
  },
  {
   "cell_type": "markdown",
   "metadata": {},
   "source": [
    "            Making two groups A (control) does provide certain advantages. We could lay down the rule that the accuracy of the test is acceptable only if the two control groups give similar results. If there is a significant difference between the two groups A, this could help us to identify factors that might be distorting our results. Comparing the control group will also give us an idea of how much time and data is needed when running the next process.\n",
    "            \n",
    "            Throughout this project, I will be using the same dataset to do regular analysis and to do A/A/B analysis."
   ]
  },
  {
   "cell_type": "markdown",
   "metadata": {},
   "source": [
    "### Stages"
   ]
  },
  {
   "cell_type": "markdown",
   "metadata": {},
   "source": [
    "    There are several stages to complete this project, namely:\n",
    "\n",
    "    Step 1. Opening the Data File and Learning the General Information\n",
    "    Step 2. Preparing Data for Analysis\n",
    "    Step 3. Learning and Examining the Data\n",
    "    Step 4. Learning the Event Funnel\n",
    "    Step 5. Learning the Results of Our Experiment\n",
    "    Step 6. Presenting My Project to The Viewers\n",
    "    Step 7. Formulating General Conclusions\n",
    "    \n",
    "    \n",
    "    which is divided into the following detailed steps:\n",
    "\n",
    "    1. Data Overview        \n",
    "    2. Data Preprocessing\n",
    "    3. Learning and Examining The Data\n",
    "    4. Event Funnel\n",
    "    5. Learning Experimental Results\n",
    "    6. Presentation\n",
    "    7. General Conclusions\n",
    "    \n",
    "    With the following description:\n",
    "\n",
    "    1. Data Overview (Step 1. Opening the Data File and Learning the General Information)\n",
    "    In this stage, we will load and read dataset from the following file path:\n",
    "\n",
    "    /datasets/logs_exp_us.csv\n",
    "\n",
    "    For each log entries is a record of a user action or an event. Here is the data description of the file path above:\n",
    "\n",
    "    - EventName — event name\n",
    "    - DeviceIDHash — User's unique ID\n",
    "    - EventTimestamp — event time\n",
    "    - ExpId — experimental numbers: 246 and 247 for the control group, 248 for the test group\n",
    "    \n",
    "    \n",
    "    2. Data Preprocessing (Step 2. Preparing Data for Analysis)\n",
    "    In this stage, we will analyze the data for:\n",
    "    - Renaming The Columns\n",
    "    - Checking for Data Type, Array Form, Missing Values, Duplicate Data and Correcting The Datas\n",
    "    - Adding Date and Time Column and A Separate Column for Dates\n",
    "    \n",
    "    \n",
    "    3. Learning and Examining The Data (Step 3. Learning and Examining the Data)\n",
    "    In this stage, we will administer for some cases:\n",
    "    - How many events are logged?\n",
    "    - How many users are logged in?\n",
    "    - What is the average number of events per user?\n",
    "    - What time period does the datas cover?\n",
    "    - Did we lose a lot of events and users when we got rid of old data?\n",
    "    - Making sure we have users from all three experimental groups\n",
    "\n",
    "\n",
    "    4. Event Funnel (Step 4. Learning the Event Funnel)\n",
    "    In this stage, we will learn the event funnel of:\n",
    "    - Checking what events are in the log and how many times they occur\n",
    "    - Finding the number of users who performed each action\n",
    "    - In what order do we think the actions took place?\n",
    "    - Using the event funnel to find the percentage of users who persist from one stage to the next\n",
    "    - At what stage did we lose a lot of users?\n",
    "    - What percentage of users successfully complete all stages, from first event to checkout?\n",
    "\n",
    "\n",
    "    5. Learning Experimental Results (Step 5. Learning the Results of Our Experiment)\n",
    "    In this stage, we will learn the results of our experiment by reaching some cases of:\n",
    "    - How many users are there in each group?\n",
    "    - We have two control groups in A/A testing, where we check our mechanics and calculations\n",
    "    - Select the most popular events\n",
    "    - Do the same for the group of users shown the latest font version\n",
    "    - Level of Significance\n",
    "\n",
    "\n",
    "    6. Presentation (Step 6. Presenting My Project to The Viewers)\n",
    "    In this stage, I will present for my Project Presentation related to 'Finding Out The Users Behavior of Food Product Company Application' analysis.\n",
    "    \n",
    "    7. General Conclusions (Step 7. Formulating General Conclusions)\n",
    "    In this stage, we will draw the whole of general conclusions.\n",
    "===============================================================================================================================\n",
    "\n",
    "    In this Final of the Project, I intend to say no giving up for my skills efforts in:\n",
    "    1. Data Pre-processing\n",
    "    2. Explorative Analysis\n",
    "    3. Statistic Analysis\n",
    "    4. Business Analysis\n",
    "    5. Data Storytelling"
   ]
  },
  {
   "cell_type": "markdown",
   "metadata": {},
   "source": [
    "[Back to Contents](#tableofcontents)"
   ]
  },
  {
   "cell_type": "markdown",
   "metadata": {},
   "source": [
    "# Instructions for Completing the Project"
   ]
  },
  {
   "cell_type": "markdown",
   "metadata": {},
   "source": [
    "## Data Overview\n",
    "    - Step 1. Opening the Data File and Learning the General Information"
   ]
  },
  {
   "cell_type": "markdown",
   "metadata": {},
   "source": [
    "<div style=\"border:solid black 2px; padding: 20px\"> \n",
    "    \n",
    "    In this session, we will load all the required libraries, namely: 'pandas', 'numpy', 'matplotlib.pyplot', 'seaborn', and 'plotly', 'scipy', 'math', and 'warnings', as follows:\n",
    "\n",
    "</div>"
   ]
  },
  {
   "cell_type": "code",
   "execution_count": 1,
   "metadata": {},
   "outputs": [],
   "source": [
    "import pandas as pd\n",
    "import numpy as np\n",
    "\n",
    "import matplotlib.pyplot as plt\n",
    "import seaborn as sns\n",
    "\n",
    "from plotly import graph_objects as go\n",
    "from scipy import stats\n",
    "import math\n",
    "\n",
    "import warnings\n",
    "warnings.filterwarnings('ignore')"
   ]
  },
  {
   "cell_type": "code",
   "execution_count": 6,
   "metadata": {},
   "outputs": [],
   "source": [
    "events_data = pd.read_csv('/datasets/logs_exp_us.csv', sep='\\t')"
   ]
  },
  {
   "cell_type": "code",
   "execution_count": 7,
   "metadata": {},
   "outputs": [
    {
     "name": "stdout",
     "output_type": "stream",
     "text": [
      "<class 'pandas.core.frame.DataFrame'>\n",
      "RangeIndex: 244126 entries, 0 to 244125\n",
      "Data columns (total 4 columns):\n",
      " #   Column          Non-Null Count   Dtype \n",
      "---  ------          --------------   ----- \n",
      " 0   EventName       244126 non-null  object\n",
      " 1   DeviceIDHash    244126 non-null  int64 \n",
      " 2   EventTimestamp  244126 non-null  int64 \n",
      " 3   ExpId           244126 non-null  int64 \n",
      "dtypes: int64(3), object(1)\n",
      "memory usage: 7.5+ MB\n"
     ]
    }
   ],
   "source": [
    "events_data.info()"
   ]
  },
  {
   "cell_type": "markdown",
   "metadata": {},
   "source": [
    "    Findings:\n",
    "    \n",
    "    - The datasets amounted 244126 rows and 4 columns.\n",
    "    - We find that 'EventName' column has data type 'object', then the other columns ('DeviceIDHash', 'EventTimestamp', and 'ExpId') have data type 'int64'.\n",
    "    - With data detailed, dtypes: int64(3), object(1).\n",
    "    - Datasets memory usage: 7.5+ MB."
   ]
  },
  {
   "cell_type": "markdown",
   "metadata": {},
   "source": [
    "    We are going to optimize the data for analysis purposes, converting the data type of 'EventName' column from 'object' to 'category', as follows:"
   ]
  },
  {
   "cell_type": "code",
   "execution_count": 146,
   "metadata": {},
   "outputs": [],
   "source": [
    "events_data['EventName'] = events_data['EventName'].astype('category')"
   ]
  },
  {
   "cell_type": "code",
   "execution_count": 147,
   "metadata": {},
   "outputs": [
    {
     "name": "stdout",
     "output_type": "stream",
     "text": [
      "<class 'pandas.core.frame.DataFrame'>\n",
      "RangeIndex: 244126 entries, 0 to 244125\n",
      "Data columns (total 4 columns):\n",
      " #   Column          Non-Null Count   Dtype   \n",
      "---  ------          --------------   -----   \n",
      " 0   EventName       244126 non-null  category\n",
      " 1   DeviceIDHash    244126 non-null  int64   \n",
      " 2   EventTimestamp  244126 non-null  int64   \n",
      " 3   ExpId           244126 non-null  int64   \n",
      "dtypes: category(1), int64(3)\n",
      "memory usage: 5.8 MB\n"
     ]
    }
   ],
   "source": [
    "events_data.info()"
   ]
  },
  {
   "cell_type": "markdown",
   "metadata": {},
   "source": [
    "    Findings:\n",
    "    \n",
    "    - Now, we have 'EventName' column with data type 'category'."
   ]
  },
  {
   "cell_type": "markdown",
   "metadata": {},
   "source": [
    "[Back to Contents](#tableofcontents)"
   ]
  },
  {
   "cell_type": "markdown",
   "metadata": {},
   "source": [
    "### Data Overview Elaboration"
   ]
  },
  {
   "cell_type": "code",
   "execution_count": 148,
   "metadata": {},
   "outputs": [
    {
     "name": "stdout",
     "output_type": "stream",
     "text": [
      "<class 'pandas.core.frame.DataFrame'>\n",
      "RangeIndex: 244126 entries, 0 to 244125\n",
      "Data columns (total 4 columns):\n",
      " #   Column          Non-Null Count   Dtype   \n",
      "---  ------          --------------   -----   \n",
      " 0   EventName       244126 non-null  category\n",
      " 1   DeviceIDHash    244126 non-null  int64   \n",
      " 2   EventTimestamp  244126 non-null  int64   \n",
      " 3   ExpId           244126 non-null  int64   \n",
      "dtypes: category(1), int64(3)\n",
      "memory usage: 5.8 MB\n"
     ]
    }
   ],
   "source": [
    "events_data.info()"
   ]
  },
  {
   "cell_type": "code",
   "execution_count": 149,
   "metadata": {},
   "outputs": [
    {
     "data": {
      "text/html": [
       "<div>\n",
       "<style scoped>\n",
       "    .dataframe tbody tr th:only-of-type {\n",
       "        vertical-align: middle;\n",
       "    }\n",
       "\n",
       "    .dataframe tbody tr th {\n",
       "        vertical-align: top;\n",
       "    }\n",
       "\n",
       "    .dataframe thead th {\n",
       "        text-align: right;\n",
       "    }\n",
       "</style>\n",
       "<table border=\"1\" class=\"dataframe\">\n",
       "  <thead>\n",
       "    <tr style=\"text-align: right;\">\n",
       "      <th></th>\n",
       "      <th>EventName</th>\n",
       "      <th>DeviceIDHash</th>\n",
       "      <th>EventTimestamp</th>\n",
       "      <th>ExpId</th>\n",
       "    </tr>\n",
       "  </thead>\n",
       "  <tbody>\n",
       "    <tr>\n",
       "      <th>0</th>\n",
       "      <td>MainScreenAppear</td>\n",
       "      <td>4575588528974610257</td>\n",
       "      <td>1564029816</td>\n",
       "      <td>246</td>\n",
       "    </tr>\n",
       "    <tr>\n",
       "      <th>1</th>\n",
       "      <td>MainScreenAppear</td>\n",
       "      <td>7416695313311560658</td>\n",
       "      <td>1564053102</td>\n",
       "      <td>246</td>\n",
       "    </tr>\n",
       "    <tr>\n",
       "      <th>2</th>\n",
       "      <td>PaymentScreenSuccessful</td>\n",
       "      <td>3518123091307005509</td>\n",
       "      <td>1564054127</td>\n",
       "      <td>248</td>\n",
       "    </tr>\n",
       "    <tr>\n",
       "      <th>3</th>\n",
       "      <td>CartScreenAppear</td>\n",
       "      <td>3518123091307005509</td>\n",
       "      <td>1564054127</td>\n",
       "      <td>248</td>\n",
       "    </tr>\n",
       "    <tr>\n",
       "      <th>4</th>\n",
       "      <td>PaymentScreenSuccessful</td>\n",
       "      <td>6217807653094995999</td>\n",
       "      <td>1564055322</td>\n",
       "      <td>248</td>\n",
       "    </tr>\n",
       "  </tbody>\n",
       "</table>\n",
       "</div>"
      ],
      "text/plain": [
       "                 EventName         DeviceIDHash  EventTimestamp  ExpId\n",
       "0         MainScreenAppear  4575588528974610257      1564029816    246\n",
       "1         MainScreenAppear  7416695313311560658      1564053102    246\n",
       "2  PaymentScreenSuccessful  3518123091307005509      1564054127    248\n",
       "3         CartScreenAppear  3518123091307005509      1564054127    248\n",
       "4  PaymentScreenSuccessful  6217807653094995999      1564055322    248"
      ]
     },
     "execution_count": 149,
     "metadata": {},
     "output_type": "execute_result"
    }
   ],
   "source": [
    "events_data.head()"
   ]
  },
  {
   "cell_type": "code",
   "execution_count": 150,
   "metadata": {},
   "outputs": [
    {
     "data": {
      "text/html": [
       "<div>\n",
       "<style scoped>\n",
       "    .dataframe tbody tr th:only-of-type {\n",
       "        vertical-align: middle;\n",
       "    }\n",
       "\n",
       "    .dataframe tbody tr th {\n",
       "        vertical-align: top;\n",
       "    }\n",
       "\n",
       "    .dataframe thead th {\n",
       "        text-align: right;\n",
       "    }\n",
       "</style>\n",
       "<table border=\"1\" class=\"dataframe\">\n",
       "  <thead>\n",
       "    <tr style=\"text-align: right;\">\n",
       "      <th></th>\n",
       "      <th>DeviceIDHash</th>\n",
       "      <th>EventTimestamp</th>\n",
       "      <th>ExpId</th>\n",
       "    </tr>\n",
       "  </thead>\n",
       "  <tbody>\n",
       "    <tr>\n",
       "      <th>count</th>\n",
       "      <td>2.441260e+05</td>\n",
       "      <td>2.441260e+05</td>\n",
       "      <td>244126.000000</td>\n",
       "    </tr>\n",
       "    <tr>\n",
       "      <th>mean</th>\n",
       "      <td>4.627568e+18</td>\n",
       "      <td>1.564914e+09</td>\n",
       "      <td>247.022296</td>\n",
       "    </tr>\n",
       "    <tr>\n",
       "      <th>std</th>\n",
       "      <td>2.642425e+18</td>\n",
       "      <td>1.771343e+05</td>\n",
       "      <td>0.824434</td>\n",
       "    </tr>\n",
       "    <tr>\n",
       "      <th>min</th>\n",
       "      <td>6.888747e+15</td>\n",
       "      <td>1.564030e+09</td>\n",
       "      <td>246.000000</td>\n",
       "    </tr>\n",
       "    <tr>\n",
       "      <th>25%</th>\n",
       "      <td>2.372212e+18</td>\n",
       "      <td>1.564757e+09</td>\n",
       "      <td>246.000000</td>\n",
       "    </tr>\n",
       "    <tr>\n",
       "      <th>50%</th>\n",
       "      <td>4.623192e+18</td>\n",
       "      <td>1.564919e+09</td>\n",
       "      <td>247.000000</td>\n",
       "    </tr>\n",
       "    <tr>\n",
       "      <th>75%</th>\n",
       "      <td>6.932517e+18</td>\n",
       "      <td>1.565075e+09</td>\n",
       "      <td>248.000000</td>\n",
       "    </tr>\n",
       "    <tr>\n",
       "      <th>max</th>\n",
       "      <td>9.222603e+18</td>\n",
       "      <td>1.565213e+09</td>\n",
       "      <td>248.000000</td>\n",
       "    </tr>\n",
       "  </tbody>\n",
       "</table>\n",
       "</div>"
      ],
      "text/plain": [
       "       DeviceIDHash  EventTimestamp          ExpId\n",
       "count  2.441260e+05    2.441260e+05  244126.000000\n",
       "mean   4.627568e+18    1.564914e+09     247.022296\n",
       "std    2.642425e+18    1.771343e+05       0.824434\n",
       "min    6.888747e+15    1.564030e+09     246.000000\n",
       "25%    2.372212e+18    1.564757e+09     246.000000\n",
       "50%    4.623192e+18    1.564919e+09     247.000000\n",
       "75%    6.932517e+18    1.565075e+09     248.000000\n",
       "max    9.222603e+18    1.565213e+09     248.000000"
      ]
     },
     "execution_count": 150,
     "metadata": {},
     "output_type": "execute_result"
    }
   ],
   "source": [
    "events_data.describe()"
   ]
  },
  {
   "cell_type": "code",
   "execution_count": 151,
   "metadata": {},
   "outputs": [
    {
     "data": {
      "text/plain": [
       "EventName         0\n",
       "DeviceIDHash      0\n",
       "EventTimestamp    0\n",
       "ExpId             0\n",
       "dtype: int64"
      ]
     },
     "execution_count": 151,
     "metadata": {},
     "output_type": "execute_result"
    }
   ],
   "source": [
    "events_data.isna().sum()"
   ]
  },
  {
   "cell_type": "markdown",
   "metadata": {},
   "source": [
    "[Back to Contents](#tableofcontents)"
   ]
  },
  {
   "cell_type": "markdown",
   "metadata": {},
   "source": [
    "#### Ensuring the Data Quality"
   ]
  },
  {
   "cell_type": "markdown",
   "metadata": {},
   "source": [
    "    We will ensure the Data Quality by checking the name columns of 'EventName', 'DeviceIDHash', 'EventTimestamp', and 'ExpId' from 'head()' function."
   ]
  },
  {
   "cell_type": "code",
   "execution_count": 152,
   "metadata": {},
   "outputs": [
    {
     "data": {
      "text/html": [
       "<div>\n",
       "<style scoped>\n",
       "    .dataframe tbody tr th:only-of-type {\n",
       "        vertical-align: middle;\n",
       "    }\n",
       "\n",
       "    .dataframe tbody tr th {\n",
       "        vertical-align: top;\n",
       "    }\n",
       "\n",
       "    .dataframe thead th {\n",
       "        text-align: right;\n",
       "    }\n",
       "</style>\n",
       "<table border=\"1\" class=\"dataframe\">\n",
       "  <thead>\n",
       "    <tr style=\"text-align: right;\">\n",
       "      <th></th>\n",
       "      <th>EventName</th>\n",
       "      <th>DeviceIDHash</th>\n",
       "      <th>EventTimestamp</th>\n",
       "      <th>ExpId</th>\n",
       "    </tr>\n",
       "  </thead>\n",
       "  <tbody>\n",
       "    <tr>\n",
       "      <th>0</th>\n",
       "      <td>MainScreenAppear</td>\n",
       "      <td>4575588528974610257</td>\n",
       "      <td>1564029816</td>\n",
       "      <td>246</td>\n",
       "    </tr>\n",
       "    <tr>\n",
       "      <th>1</th>\n",
       "      <td>MainScreenAppear</td>\n",
       "      <td>7416695313311560658</td>\n",
       "      <td>1564053102</td>\n",
       "      <td>246</td>\n",
       "    </tr>\n",
       "    <tr>\n",
       "      <th>2</th>\n",
       "      <td>PaymentScreenSuccessful</td>\n",
       "      <td>3518123091307005509</td>\n",
       "      <td>1564054127</td>\n",
       "      <td>248</td>\n",
       "    </tr>\n",
       "    <tr>\n",
       "      <th>3</th>\n",
       "      <td>CartScreenAppear</td>\n",
       "      <td>3518123091307005509</td>\n",
       "      <td>1564054127</td>\n",
       "      <td>248</td>\n",
       "    </tr>\n",
       "    <tr>\n",
       "      <th>4</th>\n",
       "      <td>PaymentScreenSuccessful</td>\n",
       "      <td>6217807653094995999</td>\n",
       "      <td>1564055322</td>\n",
       "      <td>248</td>\n",
       "    </tr>\n",
       "  </tbody>\n",
       "</table>\n",
       "</div>"
      ],
      "text/plain": [
       "                 EventName         DeviceIDHash  EventTimestamp  ExpId\n",
       "0         MainScreenAppear  4575588528974610257      1564029816    246\n",
       "1         MainScreenAppear  7416695313311560658      1564053102    246\n",
       "2  PaymentScreenSuccessful  3518123091307005509      1564054127    248\n",
       "3         CartScreenAppear  3518123091307005509      1564054127    248\n",
       "4  PaymentScreenSuccessful  6217807653094995999      1564055322    248"
      ]
     },
     "execution_count": 152,
     "metadata": {},
     "output_type": "execute_result"
    }
   ],
   "source": [
    "events_data.head()"
   ]
  },
  {
   "cell_type": "markdown",
   "metadata": {},
   "source": [
    "    First, we are going to ensure the data quality of the 'EventName' column, as follows:"
   ]
  },
  {
   "cell_type": "code",
   "execution_count": 153,
   "metadata": {},
   "outputs": [
    {
     "data": {
      "text/plain": [
       "MainScreenAppear           119205\n",
       "OffersScreenAppear          46825\n",
       "CartScreenAppear            42731\n",
       "PaymentScreenSuccessful     34313\n",
       "Tutorial                     1052\n",
       "Name: EventName, dtype: int64"
      ]
     },
     "execution_count": 153,
     "metadata": {},
     "output_type": "execute_result"
    }
   ],
   "source": [
    "events_data['EventName'].value_counts()"
   ]
  },
  {
   "cell_type": "markdown",
   "metadata": {},
   "source": [
    "    Second, we are going to ensure the data quality of the 'DeviceIDHash' column, as follows:"
   ]
  },
  {
   "cell_type": "code",
   "execution_count": 154,
   "metadata": {},
   "outputs": [
    {
     "data": {
      "text/plain": [
       "6304868067479728361    2308\n",
       "197027893265565660     2003\n",
       "4623191541214045580    1771\n",
       "6932517045703054087    1448\n",
       "1754140665440434215    1222\n",
       "                       ... \n",
       "8188293597840107588       1\n",
       "1616856457908967248       1\n",
       "732356052255400077        1\n",
       "6671109879025379318       1\n",
       "2275878174127603404       1\n",
       "Name: DeviceIDHash, Length: 7551, dtype: int64"
      ]
     },
     "execution_count": 154,
     "metadata": {},
     "output_type": "execute_result"
    }
   ],
   "source": [
    "events_data['DeviceIDHash'].value_counts()"
   ]
  },
  {
   "cell_type": "markdown",
   "metadata": {},
   "source": [
    "    Third, we are going to ensure the data quality of the 'EventTimestamp' column, as follows:"
   ]
  },
  {
   "cell_type": "code",
   "execution_count": 155,
   "metadata": {},
   "outputs": [
    {
     "data": {
      "text/plain": [
       "1564670435    9\n",
       "1564935799    9\n",
       "1564911846    8\n",
       "1565176721    8\n",
       "1565191469    8\n",
       "             ..\n",
       "1564980679    1\n",
       "1564724680    1\n",
       "1564732876    1\n",
       "1564673489    1\n",
       "1564668190    1\n",
       "Name: EventTimestamp, Length: 176654, dtype: int64"
      ]
     },
     "execution_count": 155,
     "metadata": {},
     "output_type": "execute_result"
    }
   ],
   "source": [
    "events_data['EventTimestamp'].value_counts()"
   ]
  },
  {
   "cell_type": "markdown",
   "metadata": {},
   "source": [
    "    Forth, we are going to ensure the data quality of the 'ExpId' column, as follows:"
   ]
  },
  {
   "cell_type": "code",
   "execution_count": 156,
   "metadata": {},
   "outputs": [
    {
     "data": {
      "text/plain": [
       "248    85747\n",
       "246    80304\n",
       "247    78075\n",
       "Name: ExpId, dtype: int64"
      ]
     },
     "execution_count": 156,
     "metadata": {},
     "output_type": "execute_result"
    }
   ],
   "source": [
    "events_data['ExpId'].value_counts()"
   ]
  },
  {
   "cell_type": "markdown",
   "metadata": {},
   "source": [
    "### Findings from Step 1. Opening the Data File and Learning the General Information"
   ]
  },
  {
   "cell_type": "markdown",
   "metadata": {},
   "source": [
    "    - All datas are preferential.\n",
    "    - There are not missing values.\n",
    "    - The data types match our expectations.\n",
    "    - We have three experiments: 246, 247, 248.\n",
    "    - The datas quality are flawless and ready to be processed temporarily at this time.\n",
    "    \n",
    "    We will continue for the ensuring the datas."
   ]
  },
  {
   "cell_type": "markdown",
   "metadata": {},
   "source": [
    "[Back to Contents](#tableofcontents)"
   ]
  },
  {
   "cell_type": "markdown",
   "metadata": {},
   "source": [
    "## Data Preprocessing\n",
    "    - Step 2. Preparing Data for Analysis"
   ]
  },
  {
   "cell_type": "markdown",
   "metadata": {},
   "source": [
    "<div style=\"border:solid black 2px; padding: 20px\">\n",
    "    \n",
    "    In this stage, we will analyze the data for:\n",
    "    - Renaming The Columns\n",
    "    - Checking for Data Type, Array Form, Missing Values, Duplicate Data and Correcting The Datas\n",
    "    - Adding Date and Time Column and A Separate Column for Dates\n",
    "    \n",
    "</div>"
   ]
  },
  {
   "cell_type": "markdown",
   "metadata": {},
   "source": [
    "### Renaming The Columns\n",
    "\n",
    "    We are going to rename the columns in a way makes pleasant for us."
   ]
  },
  {
   "cell_type": "code",
   "execution_count": 157,
   "metadata": {},
   "outputs": [],
   "source": [
    "events_data.columns = ['event_name', 'device_id_hash', 'event_timestamp', 'exp_id']"
   ]
  },
  {
   "cell_type": "code",
   "execution_count": 158,
   "metadata": {},
   "outputs": [
    {
     "data": {
      "text/html": [
       "<div>\n",
       "<style scoped>\n",
       "    .dataframe tbody tr th:only-of-type {\n",
       "        vertical-align: middle;\n",
       "    }\n",
       "\n",
       "    .dataframe tbody tr th {\n",
       "        vertical-align: top;\n",
       "    }\n",
       "\n",
       "    .dataframe thead th {\n",
       "        text-align: right;\n",
       "    }\n",
       "</style>\n",
       "<table border=\"1\" class=\"dataframe\">\n",
       "  <thead>\n",
       "    <tr style=\"text-align: right;\">\n",
       "      <th></th>\n",
       "      <th>event_name</th>\n",
       "      <th>device_id_hash</th>\n",
       "      <th>event_timestamp</th>\n",
       "      <th>exp_id</th>\n",
       "    </tr>\n",
       "  </thead>\n",
       "  <tbody>\n",
       "    <tr>\n",
       "      <th>0</th>\n",
       "      <td>MainScreenAppear</td>\n",
       "      <td>4575588528974610257</td>\n",
       "      <td>1564029816</td>\n",
       "      <td>246</td>\n",
       "    </tr>\n",
       "    <tr>\n",
       "      <th>1</th>\n",
       "      <td>MainScreenAppear</td>\n",
       "      <td>7416695313311560658</td>\n",
       "      <td>1564053102</td>\n",
       "      <td>246</td>\n",
       "    </tr>\n",
       "    <tr>\n",
       "      <th>2</th>\n",
       "      <td>PaymentScreenSuccessful</td>\n",
       "      <td>3518123091307005509</td>\n",
       "      <td>1564054127</td>\n",
       "      <td>248</td>\n",
       "    </tr>\n",
       "    <tr>\n",
       "      <th>3</th>\n",
       "      <td>CartScreenAppear</td>\n",
       "      <td>3518123091307005509</td>\n",
       "      <td>1564054127</td>\n",
       "      <td>248</td>\n",
       "    </tr>\n",
       "    <tr>\n",
       "      <th>4</th>\n",
       "      <td>PaymentScreenSuccessful</td>\n",
       "      <td>6217807653094995999</td>\n",
       "      <td>1564055322</td>\n",
       "      <td>248</td>\n",
       "    </tr>\n",
       "  </tbody>\n",
       "</table>\n",
       "</div>"
      ],
      "text/plain": [
       "                event_name       device_id_hash  event_timestamp  exp_id\n",
       "0         MainScreenAppear  4575588528974610257       1564029816     246\n",
       "1         MainScreenAppear  7416695313311560658       1564053102     246\n",
       "2  PaymentScreenSuccessful  3518123091307005509       1564054127     248\n",
       "3         CartScreenAppear  3518123091307005509       1564054127     248\n",
       "4  PaymentScreenSuccessful  6217807653094995999       1564055322     248"
      ]
     },
     "execution_count": 158,
     "metadata": {},
     "output_type": "execute_result"
    }
   ],
   "source": [
    "events_data.head()"
   ]
  },
  {
   "cell_type": "markdown",
   "metadata": {},
   "source": [
    "    Findings:\n",
    "    \n",
    "    - Now, we have already renamed the titles."
   ]
  },
  {
   "cell_type": "markdown",
   "metadata": {},
   "source": [
    "[Back to Contents](#tableofcontents)"
   ]
  },
  {
   "cell_type": "markdown",
   "metadata": {},
   "source": [
    "### Checking for Data Type, Array Form, Missing Values, Duplicate Data and Correcting The Datas"
   ]
  },
  {
   "cell_type": "markdown",
   "metadata": {},
   "source": [
    "    We will check for missing values and data types formed, as follows:"
   ]
  },
  {
   "cell_type": "code",
   "execution_count": 159,
   "metadata": {},
   "outputs": [
    {
     "name": "stdout",
     "output_type": "stream",
     "text": [
      "<class 'pandas.core.frame.DataFrame'>\n",
      "RangeIndex: 244126 entries, 0 to 244125\n",
      "Data columns (total 4 columns):\n",
      " #   Column           Non-Null Count   Dtype   \n",
      "---  ------           --------------   -----   \n",
      " 0   event_name       244126 non-null  category\n",
      " 1   device_id_hash   244126 non-null  int64   \n",
      " 2   event_timestamp  244126 non-null  int64   \n",
      " 3   exp_id           244126 non-null  int64   \n",
      "dtypes: category(1), int64(3)\n",
      "memory usage: 5.8 MB\n"
     ]
    }
   ],
   "source": [
    "events_data.info()"
   ]
  },
  {
   "cell_type": "code",
   "execution_count": 160,
   "metadata": {},
   "outputs": [
    {
     "data": {
      "text/plain": [
       "event_name         category\n",
       "device_id_hash        int64\n",
       "event_timestamp       int64\n",
       "exp_id                int64\n",
       "dtype: object"
      ]
     },
     "execution_count": 160,
     "metadata": {},
     "output_type": "execute_result"
    }
   ],
   "source": [
    "events_data.dtypes"
   ]
  },
  {
   "cell_type": "code",
   "execution_count": 161,
   "metadata": {},
   "outputs": [
    {
     "data": {
      "text/plain": [
       "(244126, 4)"
      ]
     },
     "execution_count": 161,
     "metadata": {},
     "output_type": "execute_result"
    }
   ],
   "source": [
    "events_data.shape"
   ]
  },
  {
   "cell_type": "code",
   "execution_count": 162,
   "metadata": {},
   "outputs": [
    {
     "data": {
      "text/plain": [
       "event_name         0\n",
       "device_id_hash     0\n",
       "event_timestamp    0\n",
       "exp_id             0\n",
       "dtype: int64"
      ]
     },
     "execution_count": 162,
     "metadata": {},
     "output_type": "execute_result"
    }
   ],
   "source": [
    "events_data.isna().sum()"
   ]
  },
  {
   "cell_type": "code",
   "execution_count": 163,
   "metadata": {},
   "outputs": [
    {
     "data": {
      "text/plain": [
       "413"
      ]
     },
     "execution_count": 163,
     "metadata": {},
     "output_type": "execute_result"
    }
   ],
   "source": [
    "events_data.duplicated().sum()"
   ]
  },
  {
   "cell_type": "markdown",
   "metadata": {},
   "source": [
    "    Now, we found 413 of the datas duplicate and we will remove them, as follows:"
   ]
  },
  {
   "cell_type": "code",
   "execution_count": 164,
   "metadata": {},
   "outputs": [],
   "source": [
    "events_data = events_data.drop_duplicates().reset_index(drop=True)"
   ]
  },
  {
   "cell_type": "markdown",
   "metadata": {},
   "source": [
    "    We are going to ensure again for datas duplicate case, as follows:"
   ]
  },
  {
   "cell_type": "code",
   "execution_count": 165,
   "metadata": {},
   "outputs": [
    {
     "data": {
      "text/plain": [
       "0"
      ]
     },
     "execution_count": 165,
     "metadata": {},
     "output_type": "execute_result"
    }
   ],
   "source": [
    "events_data.duplicated().sum()"
   ]
  },
  {
   "cell_type": "markdown",
   "metadata": {},
   "source": [
    "    Now, the datas duplicate case has been resolved."
   ]
  },
  {
   "cell_type": "markdown",
   "metadata": {},
   "source": [
    "    Findings:\n",
    "    \n",
    "    - Now we have 'EventName' column with data type 'category'.\n",
    "    - With data detailed, dtypes: category(1), int64(3).\n",
    "    - Datasets memory usage: 5.8 MB.\n",
    "    - Array form, (244126, 4).\n",
    "    - There are no missing values.\n",
    "    - We have found 413 datas duplicate, but now this case has been resolved.\n",
    "    - Data duplicate is no longer found.\n",
    "    - Data looks good and pretty for processed and analyzed."
   ]
  },
  {
   "cell_type": "markdown",
   "metadata": {},
   "source": [
    "[Back to Contents](#tableofcontents)"
   ]
  },
  {
   "cell_type": "markdown",
   "metadata": {},
   "source": [
    "### Adding Date and Time Column and A Separate Column for Dates"
   ]
  },
  {
   "cell_type": "code",
   "execution_count": 166,
   "metadata": {},
   "outputs": [],
   "source": [
    "events_data['date_time'] = pd.to_datetime(events_data['event_timestamp'], unit='s')"
   ]
  },
  {
   "cell_type": "markdown",
   "metadata": {},
   "source": [
    "    Ensuring our data after changing the data type."
   ]
  },
  {
   "cell_type": "code",
   "execution_count": 167,
   "metadata": {},
   "outputs": [
    {
     "data": {
      "text/plain": [
       "event_name               category\n",
       "device_id_hash              int64\n",
       "event_timestamp             int64\n",
       "exp_id                      int64\n",
       "date_time          datetime64[ns]\n",
       "dtype: object"
      ]
     },
     "execution_count": 167,
     "metadata": {},
     "output_type": "execute_result"
    }
   ],
   "source": [
    "events_data.dtypes"
   ]
  },
  {
   "cell_type": "markdown",
   "metadata": {},
   "source": [
    "    We have to a separate column for 'date_time'. First, we will add a 'date and time' column and a separate column for 'dates', as follows:"
   ]
  },
  {
   "cell_type": "code",
   "execution_count": 168,
   "metadata": {},
   "outputs": [],
   "source": [
    "events_data['date'] = events_data['date_time'].dt.date"
   ]
  },
  {
   "cell_type": "markdown",
   "metadata": {},
   "source": [
    "    Second, converting the data type of 'date' column to 'datetime', as follows:"
   ]
  },
  {
   "cell_type": "code",
   "execution_count": 169,
   "metadata": {},
   "outputs": [],
   "source": [
    "events_data['date'] = pd.to_datetime(events_data['date'])"
   ]
  },
  {
   "cell_type": "markdown",
   "metadata": {},
   "source": [
    "    Now, we will ensure at the table after adding the new column, as follows:"
   ]
  },
  {
   "cell_type": "code",
   "execution_count": 170,
   "metadata": {},
   "outputs": [
    {
     "data": {
      "text/html": [
       "<div>\n",
       "<style scoped>\n",
       "    .dataframe tbody tr th:only-of-type {\n",
       "        vertical-align: middle;\n",
       "    }\n",
       "\n",
       "    .dataframe tbody tr th {\n",
       "        vertical-align: top;\n",
       "    }\n",
       "\n",
       "    .dataframe thead th {\n",
       "        text-align: right;\n",
       "    }\n",
       "</style>\n",
       "<table border=\"1\" class=\"dataframe\">\n",
       "  <thead>\n",
       "    <tr style=\"text-align: right;\">\n",
       "      <th></th>\n",
       "      <th>event_name</th>\n",
       "      <th>device_id_hash</th>\n",
       "      <th>event_timestamp</th>\n",
       "      <th>exp_id</th>\n",
       "      <th>date_time</th>\n",
       "      <th>date</th>\n",
       "    </tr>\n",
       "  </thead>\n",
       "  <tbody>\n",
       "    <tr>\n",
       "      <th>0</th>\n",
       "      <td>MainScreenAppear</td>\n",
       "      <td>4575588528974610257</td>\n",
       "      <td>1564029816</td>\n",
       "      <td>246</td>\n",
       "      <td>2019-07-25 04:43:36</td>\n",
       "      <td>2019-07-25</td>\n",
       "    </tr>\n",
       "    <tr>\n",
       "      <th>1</th>\n",
       "      <td>MainScreenAppear</td>\n",
       "      <td>7416695313311560658</td>\n",
       "      <td>1564053102</td>\n",
       "      <td>246</td>\n",
       "      <td>2019-07-25 11:11:42</td>\n",
       "      <td>2019-07-25</td>\n",
       "    </tr>\n",
       "    <tr>\n",
       "      <th>2</th>\n",
       "      <td>PaymentScreenSuccessful</td>\n",
       "      <td>3518123091307005509</td>\n",
       "      <td>1564054127</td>\n",
       "      <td>248</td>\n",
       "      <td>2019-07-25 11:28:47</td>\n",
       "      <td>2019-07-25</td>\n",
       "    </tr>\n",
       "    <tr>\n",
       "      <th>3</th>\n",
       "      <td>CartScreenAppear</td>\n",
       "      <td>3518123091307005509</td>\n",
       "      <td>1564054127</td>\n",
       "      <td>248</td>\n",
       "      <td>2019-07-25 11:28:47</td>\n",
       "      <td>2019-07-25</td>\n",
       "    </tr>\n",
       "    <tr>\n",
       "      <th>4</th>\n",
       "      <td>PaymentScreenSuccessful</td>\n",
       "      <td>6217807653094995999</td>\n",
       "      <td>1564055322</td>\n",
       "      <td>248</td>\n",
       "      <td>2019-07-25 11:48:42</td>\n",
       "      <td>2019-07-25</td>\n",
       "    </tr>\n",
       "  </tbody>\n",
       "</table>\n",
       "</div>"
      ],
      "text/plain": [
       "                event_name       device_id_hash  event_timestamp  exp_id  \\\n",
       "0         MainScreenAppear  4575588528974610257       1564029816     246   \n",
       "1         MainScreenAppear  7416695313311560658       1564053102     246   \n",
       "2  PaymentScreenSuccessful  3518123091307005509       1564054127     248   \n",
       "3         CartScreenAppear  3518123091307005509       1564054127     248   \n",
       "4  PaymentScreenSuccessful  6217807653094995999       1564055322     248   \n",
       "\n",
       "            date_time       date  \n",
       "0 2019-07-25 04:43:36 2019-07-25  \n",
       "1 2019-07-25 11:11:42 2019-07-25  \n",
       "2 2019-07-25 11:28:47 2019-07-25  \n",
       "3 2019-07-25 11:28:47 2019-07-25  \n",
       "4 2019-07-25 11:48:42 2019-07-25  "
      ]
     },
     "execution_count": 170,
     "metadata": {},
     "output_type": "execute_result"
    }
   ],
   "source": [
    "events_data.head()"
   ]
  },
  {
   "cell_type": "markdown",
   "metadata": {},
   "source": [
    "    Ensuring for data types of 'events_data', as follows:"
   ]
  },
  {
   "cell_type": "code",
   "execution_count": 171,
   "metadata": {},
   "outputs": [
    {
     "data": {
      "text/plain": [
       "event_name               category\n",
       "device_id_hash              int64\n",
       "event_timestamp             int64\n",
       "exp_id                      int64\n",
       "date_time          datetime64[ns]\n",
       "date               datetime64[ns]\n",
       "dtype: object"
      ]
     },
     "execution_count": 171,
     "metadata": {},
     "output_type": "execute_result"
    }
   ],
   "source": [
    "events_data.dtypes"
   ]
  },
  {
   "cell_type": "markdown",
   "metadata": {},
   "source": [
    "### Conclusions from Step 2. Preparing Data for Analysis"
   ]
  },
  {
   "cell_type": "markdown",
   "metadata": {},
   "source": [
    "    Findings:\n",
    "    \n",
    "    - We have successfully added date and time fields, as well as a separate column for dates.\n",
    "    - The data table has been properly accommodated after checking the data again by using the 'head()' function.\n",
    "    - Currently, we have the following data types:\n",
    "    event_name               category\n",
    "    device_id_hash              int64\n",
    "    event_timestamp             int64\n",
    "    exp_id                      int64\n",
    "    date_time          datetime64[ns]\n",
    "    date               datetime64[ns]\n",
    "    dtype: object"
   ]
  },
  {
   "cell_type": "markdown",
   "metadata": {},
   "source": [
    "[Back to Contents](#tableofcontents)"
   ]
  },
  {
   "cell_type": "markdown",
   "metadata": {},
   "source": [
    "## Learning and Examining The Data\n",
    "    - Step 3. Learning and Examining the Data"
   ]
  },
  {
   "cell_type": "markdown",
   "metadata": {},
   "source": [
    "<div style=\"border:solid black 2px; padding: 20px\">\n",
    "    \n",
    "    In this stage, we will administer for some cases:\n",
    "    - How many events are logged?\n",
    "    - How many users are logged in?\n",
    "    - What is the average number of events per user?\n",
    "    - What time period does the datas cover?\n",
    "    - Did we lose a lot of events and users when we got rid of old data?\n",
    "    - Making sure we have users from all three experimental groups\n",
    "    \n",
    "</div>"
   ]
  },
  {
   "cell_type": "code",
   "execution_count": 172,
   "metadata": {},
   "outputs": [
    {
     "data": {
      "text/html": [
       "<div>\n",
       "<style scoped>\n",
       "    .dataframe tbody tr th:only-of-type {\n",
       "        vertical-align: middle;\n",
       "    }\n",
       "\n",
       "    .dataframe tbody tr th {\n",
       "        vertical-align: top;\n",
       "    }\n",
       "\n",
       "    .dataframe thead th {\n",
       "        text-align: right;\n",
       "    }\n",
       "</style>\n",
       "<table border=\"1\" class=\"dataframe\">\n",
       "  <thead>\n",
       "    <tr style=\"text-align: right;\">\n",
       "      <th></th>\n",
       "      <th>event_name</th>\n",
       "      <th>device_id_hash</th>\n",
       "      <th>event_timestamp</th>\n",
       "      <th>exp_id</th>\n",
       "      <th>date_time</th>\n",
       "      <th>date</th>\n",
       "    </tr>\n",
       "  </thead>\n",
       "  <tbody>\n",
       "    <tr>\n",
       "      <th>0</th>\n",
       "      <td>MainScreenAppear</td>\n",
       "      <td>4575588528974610257</td>\n",
       "      <td>1564029816</td>\n",
       "      <td>246</td>\n",
       "      <td>2019-07-25 04:43:36</td>\n",
       "      <td>2019-07-25</td>\n",
       "    </tr>\n",
       "    <tr>\n",
       "      <th>1</th>\n",
       "      <td>MainScreenAppear</td>\n",
       "      <td>7416695313311560658</td>\n",
       "      <td>1564053102</td>\n",
       "      <td>246</td>\n",
       "      <td>2019-07-25 11:11:42</td>\n",
       "      <td>2019-07-25</td>\n",
       "    </tr>\n",
       "    <tr>\n",
       "      <th>2</th>\n",
       "      <td>PaymentScreenSuccessful</td>\n",
       "      <td>3518123091307005509</td>\n",
       "      <td>1564054127</td>\n",
       "      <td>248</td>\n",
       "      <td>2019-07-25 11:28:47</td>\n",
       "      <td>2019-07-25</td>\n",
       "    </tr>\n",
       "    <tr>\n",
       "      <th>3</th>\n",
       "      <td>CartScreenAppear</td>\n",
       "      <td>3518123091307005509</td>\n",
       "      <td>1564054127</td>\n",
       "      <td>248</td>\n",
       "      <td>2019-07-25 11:28:47</td>\n",
       "      <td>2019-07-25</td>\n",
       "    </tr>\n",
       "    <tr>\n",
       "      <th>4</th>\n",
       "      <td>PaymentScreenSuccessful</td>\n",
       "      <td>6217807653094995999</td>\n",
       "      <td>1564055322</td>\n",
       "      <td>248</td>\n",
       "      <td>2019-07-25 11:48:42</td>\n",
       "      <td>2019-07-25</td>\n",
       "    </tr>\n",
       "  </tbody>\n",
       "</table>\n",
       "</div>"
      ],
      "text/plain": [
       "                event_name       device_id_hash  event_timestamp  exp_id  \\\n",
       "0         MainScreenAppear  4575588528974610257       1564029816     246   \n",
       "1         MainScreenAppear  7416695313311560658       1564053102     246   \n",
       "2  PaymentScreenSuccessful  3518123091307005509       1564054127     248   \n",
       "3         CartScreenAppear  3518123091307005509       1564054127     248   \n",
       "4  PaymentScreenSuccessful  6217807653094995999       1564055322     248   \n",
       "\n",
       "            date_time       date  \n",
       "0 2019-07-25 04:43:36 2019-07-25  \n",
       "1 2019-07-25 11:11:42 2019-07-25  \n",
       "2 2019-07-25 11:28:47 2019-07-25  \n",
       "3 2019-07-25 11:28:47 2019-07-25  \n",
       "4 2019-07-25 11:48:42 2019-07-25  "
      ]
     },
     "execution_count": 172,
     "metadata": {},
     "output_type": "execute_result"
    }
   ],
   "source": [
    "events_data.head()"
   ]
  },
  {
   "cell_type": "markdown",
   "metadata": {},
   "source": [
    "### How many events are logged?"
   ]
  },
  {
   "cell_type": "markdown",
   "metadata": {},
   "source": [
    "    We will count how many events are logged, as follows:"
   ]
  },
  {
   "cell_type": "code",
   "execution_count": 173,
   "metadata": {},
   "outputs": [
    {
     "name": "stdout",
     "output_type": "stream",
     "text": [
      "There are 243713 events in the logs\n"
     ]
    }
   ],
   "source": [
    "total_events = len(events_data)\n",
    "print(f'There are {total_events} events in the logs')"
   ]
  },
  {
   "cell_type": "markdown",
   "metadata": {},
   "source": [
    "    Findings:\n",
    "    \n",
    "    - There are 243713 events in the logs."
   ]
  },
  {
   "cell_type": "markdown",
   "metadata": {},
   "source": [
    "### How many users are logged in?"
   ]
  },
  {
   "cell_type": "markdown",
   "metadata": {},
   "source": [
    "    We will count how many users are logged in by using 'device_id_hash' column, as follows:"
   ]
  },
  {
   "cell_type": "code",
   "execution_count": 174,
   "metadata": {},
   "outputs": [
    {
     "name": "stdout",
     "output_type": "stream",
     "text": [
      "There are 7551 users in the logs\n"
     ]
    }
   ],
   "source": [
    "total_users = len(events_data['device_id_hash'].unique())\n",
    "print(f'There are {total_users} users in the logs')"
   ]
  },
  {
   "cell_type": "markdown",
   "metadata": {},
   "source": [
    "    Findings:\n",
    "    \n",
    "    - There are 7551 users in the logs."
   ]
  },
  {
   "cell_type": "markdown",
   "metadata": {},
   "source": [
    "### What is the average number of events per user?"
   ]
  },
  {
   "cell_type": "markdown",
   "metadata": {},
   "source": [
    "    We will calculate the average number of events per user, as follows:"
   ]
  },
  {
   "cell_type": "code",
   "execution_count": 175,
   "metadata": {},
   "outputs": [
    {
     "name": "stdout",
     "output_type": "stream",
     "text": [
      "The average number of events per user is 32.0 users\n"
     ]
    }
   ],
   "source": [
    "avgevents_per_user = total_events / total_users\n",
    "print(f'The average number of events per user is {round(avgevents_per_user, 0)} users')"
   ]
  },
  {
   "cell_type": "markdown",
   "metadata": {},
   "source": [
    "    Findings:\n",
    "    \n",
    "    - The average number of events per user is 32.0 users."
   ]
  },
  {
   "cell_type": "markdown",
   "metadata": {},
   "source": [
    "    Also, we could summarize the structure of the code, as follows:"
   ]
  },
  {
   "cell_type": "code",
   "execution_count": 176,
   "metadata": {},
   "outputs": [
    {
     "name": "stdout",
     "output_type": "stream",
     "text": [
      "243713 total_events\n",
      "7551 total_users\n",
      "32.27559263673685 avgevents_per_user\n"
     ]
    }
   ],
   "source": [
    "total_events = len(events_data)\n",
    "total_users = len(events_data['device_id_hash'].unique())\n",
    "avgevents_per_user = total_events / total_users\n",
    "print(f'{total_events} total_events')\n",
    "print(f'{total_users} total_users')\n",
    "print(f'{avgevents_per_user} avgevents_per_user')"
   ]
  },
  {
   "cell_type": "markdown",
   "metadata": {},
   "source": [
    "    Summary:\n",
    "    \n",
    "    - 243713 total_events.\n",
    "    - 7551 total_users.\n",
    "    - 32.27559263673685 avgevents_per_user."
   ]
  },
  {
   "cell_type": "markdown",
   "metadata": {},
   "source": [
    "[Back to Contents](#tableofcontents)"
   ]
  },
  {
   "cell_type": "markdown",
   "metadata": {},
   "source": [
    "### What time period does the datas cover?\n",
    "\n",
    "    1. Find the maximum and minimum dates.\n",
    "    2. Create a histogram based on date and time.\n",
    "    3. Can we ensure that the data we have is complete for all periods? Past events may appear in the logs of some users for technical reasons, and this can mess up the overall data distribution.\n",
    "    5. Find the moment when the data starts to feel complete and ignore the old data.\n",
    "    6. Which period does our data really represent?\n",
    "    \n",
    "    We will analyze and answer these questions one by one."
   ]
  },
  {
   "cell_type": "code",
   "execution_count": 177,
   "metadata": {},
   "outputs": [
    {
     "data": {
      "text/html": [
       "<div>\n",
       "<style scoped>\n",
       "    .dataframe tbody tr th:only-of-type {\n",
       "        vertical-align: middle;\n",
       "    }\n",
       "\n",
       "    .dataframe tbody tr th {\n",
       "        vertical-align: top;\n",
       "    }\n",
       "\n",
       "    .dataframe thead th {\n",
       "        text-align: right;\n",
       "    }\n",
       "</style>\n",
       "<table border=\"1\" class=\"dataframe\">\n",
       "  <thead>\n",
       "    <tr style=\"text-align: right;\">\n",
       "      <th></th>\n",
       "      <th>event_name</th>\n",
       "      <th>device_id_hash</th>\n",
       "      <th>event_timestamp</th>\n",
       "      <th>exp_id</th>\n",
       "      <th>date_time</th>\n",
       "      <th>date</th>\n",
       "    </tr>\n",
       "  </thead>\n",
       "  <tbody>\n",
       "    <tr>\n",
       "      <th>0</th>\n",
       "      <td>MainScreenAppear</td>\n",
       "      <td>4575588528974610257</td>\n",
       "      <td>1564029816</td>\n",
       "      <td>246</td>\n",
       "      <td>2019-07-25 04:43:36</td>\n",
       "      <td>2019-07-25</td>\n",
       "    </tr>\n",
       "    <tr>\n",
       "      <th>1</th>\n",
       "      <td>MainScreenAppear</td>\n",
       "      <td>7416695313311560658</td>\n",
       "      <td>1564053102</td>\n",
       "      <td>246</td>\n",
       "      <td>2019-07-25 11:11:42</td>\n",
       "      <td>2019-07-25</td>\n",
       "    </tr>\n",
       "    <tr>\n",
       "      <th>2</th>\n",
       "      <td>PaymentScreenSuccessful</td>\n",
       "      <td>3518123091307005509</td>\n",
       "      <td>1564054127</td>\n",
       "      <td>248</td>\n",
       "      <td>2019-07-25 11:28:47</td>\n",
       "      <td>2019-07-25</td>\n",
       "    </tr>\n",
       "    <tr>\n",
       "      <th>3</th>\n",
       "      <td>CartScreenAppear</td>\n",
       "      <td>3518123091307005509</td>\n",
       "      <td>1564054127</td>\n",
       "      <td>248</td>\n",
       "      <td>2019-07-25 11:28:47</td>\n",
       "      <td>2019-07-25</td>\n",
       "    </tr>\n",
       "    <tr>\n",
       "      <th>4</th>\n",
       "      <td>PaymentScreenSuccessful</td>\n",
       "      <td>6217807653094995999</td>\n",
       "      <td>1564055322</td>\n",
       "      <td>248</td>\n",
       "      <td>2019-07-25 11:48:42</td>\n",
       "      <td>2019-07-25</td>\n",
       "    </tr>\n",
       "  </tbody>\n",
       "</table>\n",
       "</div>"
      ],
      "text/plain": [
       "                event_name       device_id_hash  event_timestamp  exp_id  \\\n",
       "0         MainScreenAppear  4575588528974610257       1564029816     246   \n",
       "1         MainScreenAppear  7416695313311560658       1564053102     246   \n",
       "2  PaymentScreenSuccessful  3518123091307005509       1564054127     248   \n",
       "3         CartScreenAppear  3518123091307005509       1564054127     248   \n",
       "4  PaymentScreenSuccessful  6217807653094995999       1564055322     248   \n",
       "\n",
       "            date_time       date  \n",
       "0 2019-07-25 04:43:36 2019-07-25  \n",
       "1 2019-07-25 11:11:42 2019-07-25  \n",
       "2 2019-07-25 11:28:47 2019-07-25  \n",
       "3 2019-07-25 11:28:47 2019-07-25  \n",
       "4 2019-07-25 11:48:42 2019-07-25  "
      ]
     },
     "execution_count": 177,
     "metadata": {},
     "output_type": "execute_result"
    }
   ],
   "source": [
    "events_data.head()"
   ]
  },
  {
   "cell_type": "markdown",
   "metadata": {},
   "source": [
    "    1. Find the maximum and minimum dates."
   ]
  },
  {
   "cell_type": "code",
   "execution_count": 178,
   "metadata": {},
   "outputs": [
    {
     "name": "stdout",
     "output_type": "stream",
     "text": [
      "2019-07-25 04:43:36 2019-08-07 21:15:17\n"
     ]
    }
   ],
   "source": [
    "print(events_data['date_time'].min(), events_data['date_time'].max())"
   ]
  },
  {
   "cell_type": "code",
   "execution_count": 179,
   "metadata": {},
   "outputs": [
    {
     "name": "stdout",
     "output_type": "stream",
     "text": [
      "The first date is 2019-07-25 04:43:36 and the last date is 2019-08-07 21:15:17\n"
     ]
    }
   ],
   "source": [
    "min = events_data['date_time'].min()\n",
    "max = events_data['date_time'].max()\n",
    "\n",
    "print(f'The first date is {min} and the last date is {max}')"
   ]
  },
  {
   "cell_type": "markdown",
   "metadata": {},
   "source": [
    "    2. Create a histogram based on date and time."
   ]
  },
  {
   "cell_type": "markdown",
   "metadata": {},
   "source": [
    "    The visualization of date and time logs by using Histogram."
   ]
  },
  {
   "cell_type": "code",
   "execution_count": 180,
   "metadata": {},
   "outputs": [
    {
     "data": {
      "image/png": "[encoded data removed]",
      "text/plain": [
       "<Figure size 1080x360 with 1 Axes>"
      ]
     },
     "metadata": {
      "needs_background": "light"
     },
     "output_type": "display_data"
    }
   ],
   "source": [
    "events_data['date_time'].hist(bins=100, figsize=(15,5))\n",
    "plt.xticks(rotation = 45);\n",
    "plt.title('The visualization of date and time logs by using Histogram');"
   ]
  },
  {
   "cell_type": "markdown",
   "metadata": {},
   "source": [
    "    3. Can we ensure that the data we have is complete for all periods? Past events may appear in the logs of some users for technical reasons, and this can mess up the overall data distribution."
   ]
  },
  {
   "cell_type": "markdown",
   "metadata": {},
   "source": [
    "    We are going to check the distribution date and time, as follows:"
   ]
  },
  {
   "cell_type": "code",
   "execution_count": 181,
   "metadata": {},
   "outputs": [
    {
     "data": {
      "text/html": [
       "<div>\n",
       "<style scoped>\n",
       "    .dataframe tbody tr th:only-of-type {\n",
       "        vertical-align: middle;\n",
       "    }\n",
       "\n",
       "    .dataframe tbody tr th {\n",
       "        vertical-align: top;\n",
       "    }\n",
       "\n",
       "    .dataframe thead th {\n",
       "        text-align: right;\n",
       "    }\n",
       "</style>\n",
       "<table border=\"1\" class=\"dataframe\">\n",
       "  <thead>\n",
       "    <tr style=\"text-align: right;\">\n",
       "      <th></th>\n",
       "      <th>device_id_hash</th>\n",
       "    </tr>\n",
       "    <tr>\n",
       "      <th>date</th>\n",
       "      <th></th>\n",
       "    </tr>\n",
       "  </thead>\n",
       "  <tbody>\n",
       "    <tr>\n",
       "      <th>2019-07-25</th>\n",
       "      <td>9</td>\n",
       "    </tr>\n",
       "    <tr>\n",
       "      <th>2019-07-26</th>\n",
       "      <td>31</td>\n",
       "    </tr>\n",
       "    <tr>\n",
       "      <th>2019-07-27</th>\n",
       "      <td>55</td>\n",
       "    </tr>\n",
       "    <tr>\n",
       "      <th>2019-07-28</th>\n",
       "      <td>105</td>\n",
       "    </tr>\n",
       "    <tr>\n",
       "      <th>2019-07-29</th>\n",
       "      <td>184</td>\n",
       "    </tr>\n",
       "    <tr>\n",
       "      <th>2019-07-30</th>\n",
       "      <td>412</td>\n",
       "    </tr>\n",
       "    <tr>\n",
       "      <th>2019-07-31</th>\n",
       "      <td>2030</td>\n",
       "    </tr>\n",
       "    <tr>\n",
       "      <th>2019-08-01</th>\n",
       "      <td>36141</td>\n",
       "    </tr>\n",
       "    <tr>\n",
       "      <th>2019-08-02</th>\n",
       "      <td>35554</td>\n",
       "    </tr>\n",
       "    <tr>\n",
       "      <th>2019-08-03</th>\n",
       "      <td>33282</td>\n",
       "    </tr>\n",
       "    <tr>\n",
       "      <th>2019-08-04</th>\n",
       "      <td>32968</td>\n",
       "    </tr>\n",
       "    <tr>\n",
       "      <th>2019-08-05</th>\n",
       "      <td>36058</td>\n",
       "    </tr>\n",
       "    <tr>\n",
       "      <th>2019-08-06</th>\n",
       "      <td>35788</td>\n",
       "    </tr>\n",
       "    <tr>\n",
       "      <th>2019-08-07</th>\n",
       "      <td>31096</td>\n",
       "    </tr>\n",
       "  </tbody>\n",
       "</table>\n",
       "</div>"
      ],
      "text/plain": [
       "            device_id_hash\n",
       "date                      \n",
       "2019-07-25               9\n",
       "2019-07-26              31\n",
       "2019-07-27              55\n",
       "2019-07-28             105\n",
       "2019-07-29             184\n",
       "2019-07-30             412\n",
       "2019-07-31            2030\n",
       "2019-08-01           36141\n",
       "2019-08-02           35554\n",
       "2019-08-03           33282\n",
       "2019-08-04           32968\n",
       "2019-08-05           36058\n",
       "2019-08-06           35788\n",
       "2019-08-07           31096"
      ]
     },
     "execution_count": 181,
     "metadata": {},
     "output_type": "execute_result"
    }
   ],
   "source": [
    "date_distribution = events_data.pivot_table(index='date', values='device_id_hash', aggfunc='count')\n",
    "date_distribution"
   ]
  },
  {
   "cell_type": "markdown",
   "metadata": {},
   "source": [
    "    The visualization of date and time logs by using Plot."
   ]
  },
  {
   "cell_type": "code",
   "execution_count": 182,
   "metadata": {},
   "outputs": [
    {
     "data": {
      "image/png": "[encoded data removed]",
      "text/plain": [
       "<Figure size 648x360 with 1 Axes>"
      ]
     },
     "metadata": {
      "needs_background": "light"
     },
     "output_type": "display_data"
    }
   ],
   "source": [
    "date_distribution.plot(style='o-', grid=True, figsize=(9, 5))\n",
    "plt.title('The visualization of date and time logs by using Plot');"
   ]
  },
  {
   "cell_type": "markdown",
   "metadata": {},
   "source": [
    "    5. Find the moment when the data starts to feel complete and ignore the old data."
   ]
  },
  {
   "cell_type": "code",
   "execution_count": 183,
   "metadata": {},
   "outputs": [
    {
     "data": {
      "text/html": [
       "<div>\n",
       "<style scoped>\n",
       "    .dataframe tbody tr th:only-of-type {\n",
       "        vertical-align: middle;\n",
       "    }\n",
       "\n",
       "    .dataframe tbody tr th {\n",
       "        vertical-align: top;\n",
       "    }\n",
       "\n",
       "    .dataframe thead th {\n",
       "        text-align: right;\n",
       "    }\n",
       "</style>\n",
       "<table border=\"1\" class=\"dataframe\">\n",
       "  <thead>\n",
       "    <tr style=\"text-align: right;\">\n",
       "      <th></th>\n",
       "      <th>event_name</th>\n",
       "      <th>device_id_hash</th>\n",
       "      <th>event_timestamp</th>\n",
       "      <th>exp_id</th>\n",
       "      <th>date_time</th>\n",
       "      <th>date</th>\n",
       "    </tr>\n",
       "  </thead>\n",
       "  <tbody>\n",
       "    <tr>\n",
       "      <th>1989</th>\n",
       "      <td>MainScreenAppear</td>\n",
       "      <td>7701922487875823903</td>\n",
       "      <td>1564606857</td>\n",
       "      <td>247</td>\n",
       "      <td>2019-07-31 21:00:57</td>\n",
       "      <td>2019-07-31</td>\n",
       "    </tr>\n",
       "    <tr>\n",
       "      <th>1990</th>\n",
       "      <td>MainScreenAppear</td>\n",
       "      <td>2539077412200498909</td>\n",
       "      <td>1564606905</td>\n",
       "      <td>247</td>\n",
       "      <td>2019-07-31 21:01:45</td>\n",
       "      <td>2019-07-31</td>\n",
       "    </tr>\n",
       "    <tr>\n",
       "      <th>1991</th>\n",
       "      <td>OffersScreenAppear</td>\n",
       "      <td>3286987355161301427</td>\n",
       "      <td>1564606941</td>\n",
       "      <td>248</td>\n",
       "      <td>2019-07-31 21:02:21</td>\n",
       "      <td>2019-07-31</td>\n",
       "    </tr>\n",
       "    <tr>\n",
       "      <th>1992</th>\n",
       "      <td>OffersScreenAppear</td>\n",
       "      <td>3187166762535343300</td>\n",
       "      <td>1564606943</td>\n",
       "      <td>247</td>\n",
       "      <td>2019-07-31 21:02:23</td>\n",
       "      <td>2019-07-31</td>\n",
       "    </tr>\n",
       "    <tr>\n",
       "      <th>1993</th>\n",
       "      <td>MainScreenAppear</td>\n",
       "      <td>1118952406011435924</td>\n",
       "      <td>1564607005</td>\n",
       "      <td>248</td>\n",
       "      <td>2019-07-31 21:03:25</td>\n",
       "      <td>2019-07-31</td>\n",
       "    </tr>\n",
       "  </tbody>\n",
       "</table>\n",
       "</div>"
      ],
      "text/plain": [
       "              event_name       device_id_hash  event_timestamp  exp_id  \\\n",
       "1989    MainScreenAppear  7701922487875823903       1564606857     247   \n",
       "1990    MainScreenAppear  2539077412200498909       1564606905     247   \n",
       "1991  OffersScreenAppear  3286987355161301427       1564606941     248   \n",
       "1992  OffersScreenAppear  3187166762535343300       1564606943     247   \n",
       "1993    MainScreenAppear  1118952406011435924       1564607005     248   \n",
       "\n",
       "               date_time       date  \n",
       "1989 2019-07-31 21:00:57 2019-07-31  \n",
       "1990 2019-07-31 21:01:45 2019-07-31  \n",
       "1991 2019-07-31 21:02:21 2019-07-31  \n",
       "1992 2019-07-31 21:02:23 2019-07-31  \n",
       "1993 2019-07-31 21:03:25 2019-07-31  "
      ]
     },
     "execution_count": 183,
     "metadata": {},
     "output_type": "execute_result"
    }
   ],
   "source": [
    "events_data.query('date_time > \"2019-07-31 21:00\"', inplace=True)\n",
    "events_data.head()"
   ]
  },
  {
   "cell_type": "code",
   "execution_count": 184,
   "metadata": {},
   "outputs": [
    {
     "data": {
      "text/plain": [
       "<AxesSubplot:>"
      ]
     },
     "execution_count": 184,
     "metadata": {},
     "output_type": "execute_result"
    },
    {
     "data": {
      "image/png": "[encoded data removed]",
      "text/plain": [
       "<Figure size 1008x360 with 1 Axes>"
      ]
     },
     "metadata": {
      "needs_background": "light"
     },
     "output_type": "display_data"
    }
   ],
   "source": [
    "events_data['date_time'].hist(bins=7*24, figsize=(14, 5))"
   ]
  },
  {
   "cell_type": "markdown",
   "metadata": {},
   "source": [
    "    6. Which period does our data really represent?"
   ]
  },
  {
   "cell_type": "markdown",
   "metadata": {},
   "source": [
    "    The data of excluding older data between 25-31 July 2019, as follows:"
   ]
  },
  {
   "cell_type": "code",
   "execution_count": 185,
   "metadata": {},
   "outputs": [],
   "source": [
    "events_data_filter = events_data.query('date > \"2019-07-31\"')"
   ]
  },
  {
   "cell_type": "code",
   "execution_count": 186,
   "metadata": {},
   "outputs": [
    {
     "data": {
      "text/html": [
       "<div>\n",
       "<style scoped>\n",
       "    .dataframe tbody tr th:only-of-type {\n",
       "        vertical-align: middle;\n",
       "    }\n",
       "\n",
       "    .dataframe tbody tr th {\n",
       "        vertical-align: top;\n",
       "    }\n",
       "\n",
       "    .dataframe thead th {\n",
       "        text-align: right;\n",
       "    }\n",
       "</style>\n",
       "<table border=\"1\" class=\"dataframe\">\n",
       "  <thead>\n",
       "    <tr style=\"text-align: right;\">\n",
       "      <th></th>\n",
       "      <th>event_name</th>\n",
       "      <th>device_id_hash</th>\n",
       "      <th>event_timestamp</th>\n",
       "      <th>exp_id</th>\n",
       "      <th>date_time</th>\n",
       "      <th>date</th>\n",
       "    </tr>\n",
       "  </thead>\n",
       "  <tbody>\n",
       "    <tr>\n",
       "      <th>2826</th>\n",
       "      <td>Tutorial</td>\n",
       "      <td>3737462046622621720</td>\n",
       "      <td>1564618048</td>\n",
       "      <td>246</td>\n",
       "      <td>2019-08-01 00:07:28</td>\n",
       "      <td>2019-08-01</td>\n",
       "    </tr>\n",
       "    <tr>\n",
       "      <th>2827</th>\n",
       "      <td>MainScreenAppear</td>\n",
       "      <td>3737462046622621720</td>\n",
       "      <td>1564618080</td>\n",
       "      <td>246</td>\n",
       "      <td>2019-08-01 00:08:00</td>\n",
       "      <td>2019-08-01</td>\n",
       "    </tr>\n",
       "    <tr>\n",
       "      <th>2828</th>\n",
       "      <td>MainScreenAppear</td>\n",
       "      <td>3737462046622621720</td>\n",
       "      <td>1564618135</td>\n",
       "      <td>246</td>\n",
       "      <td>2019-08-01 00:08:55</td>\n",
       "      <td>2019-08-01</td>\n",
       "    </tr>\n",
       "    <tr>\n",
       "      <th>2829</th>\n",
       "      <td>OffersScreenAppear</td>\n",
       "      <td>3737462046622621720</td>\n",
       "      <td>1564618138</td>\n",
       "      <td>246</td>\n",
       "      <td>2019-08-01 00:08:58</td>\n",
       "      <td>2019-08-01</td>\n",
       "    </tr>\n",
       "    <tr>\n",
       "      <th>2830</th>\n",
       "      <td>MainScreenAppear</td>\n",
       "      <td>1433840883824088890</td>\n",
       "      <td>1564618139</td>\n",
       "      <td>247</td>\n",
       "      <td>2019-08-01 00:08:59</td>\n",
       "      <td>2019-08-01</td>\n",
       "    </tr>\n",
       "    <tr>\n",
       "      <th>...</th>\n",
       "      <td>...</td>\n",
       "      <td>...</td>\n",
       "      <td>...</td>\n",
       "      <td>...</td>\n",
       "      <td>...</td>\n",
       "      <td>...</td>\n",
       "    </tr>\n",
       "    <tr>\n",
       "      <th>243708</th>\n",
       "      <td>MainScreenAppear</td>\n",
       "      <td>4599628364049201812</td>\n",
       "      <td>1565212345</td>\n",
       "      <td>247</td>\n",
       "      <td>2019-08-07 21:12:25</td>\n",
       "      <td>2019-08-07</td>\n",
       "    </tr>\n",
       "    <tr>\n",
       "      <th>243709</th>\n",
       "      <td>MainScreenAppear</td>\n",
       "      <td>5849806612437486590</td>\n",
       "      <td>1565212439</td>\n",
       "      <td>246</td>\n",
       "      <td>2019-08-07 21:13:59</td>\n",
       "      <td>2019-08-07</td>\n",
       "    </tr>\n",
       "    <tr>\n",
       "      <th>243710</th>\n",
       "      <td>MainScreenAppear</td>\n",
       "      <td>5746969938801999050</td>\n",
       "      <td>1565212483</td>\n",
       "      <td>246</td>\n",
       "      <td>2019-08-07 21:14:43</td>\n",
       "      <td>2019-08-07</td>\n",
       "    </tr>\n",
       "    <tr>\n",
       "      <th>243711</th>\n",
       "      <td>MainScreenAppear</td>\n",
       "      <td>5746969938801999050</td>\n",
       "      <td>1565212498</td>\n",
       "      <td>246</td>\n",
       "      <td>2019-08-07 21:14:58</td>\n",
       "      <td>2019-08-07</td>\n",
       "    </tr>\n",
       "    <tr>\n",
       "      <th>243712</th>\n",
       "      <td>OffersScreenAppear</td>\n",
       "      <td>5746969938801999050</td>\n",
       "      <td>1565212517</td>\n",
       "      <td>246</td>\n",
       "      <td>2019-08-07 21:15:17</td>\n",
       "      <td>2019-08-07</td>\n",
       "    </tr>\n",
       "  </tbody>\n",
       "</table>\n",
       "<p>240887 rows × 6 columns</p>\n",
       "</div>"
      ],
      "text/plain": [
       "                event_name       device_id_hash  event_timestamp  exp_id  \\\n",
       "2826              Tutorial  3737462046622621720       1564618048     246   \n",
       "2827      MainScreenAppear  3737462046622621720       1564618080     246   \n",
       "2828      MainScreenAppear  3737462046622621720       1564618135     246   \n",
       "2829    OffersScreenAppear  3737462046622621720       1564618138     246   \n",
       "2830      MainScreenAppear  1433840883824088890       1564618139     247   \n",
       "...                    ...                  ...              ...     ...   \n",
       "243708    MainScreenAppear  4599628364049201812       1565212345     247   \n",
       "243709    MainScreenAppear  5849806612437486590       1565212439     246   \n",
       "243710    MainScreenAppear  5746969938801999050       1565212483     246   \n",
       "243711    MainScreenAppear  5746969938801999050       1565212498     246   \n",
       "243712  OffersScreenAppear  5746969938801999050       1565212517     246   \n",
       "\n",
       "                 date_time       date  \n",
       "2826   2019-08-01 00:07:28 2019-08-01  \n",
       "2827   2019-08-01 00:08:00 2019-08-01  \n",
       "2828   2019-08-01 00:08:55 2019-08-01  \n",
       "2829   2019-08-01 00:08:58 2019-08-01  \n",
       "2830   2019-08-01 00:08:59 2019-08-01  \n",
       "...                    ...        ...  \n",
       "243708 2019-08-07 21:12:25 2019-08-07  \n",
       "243709 2019-08-07 21:13:59 2019-08-07  \n",
       "243710 2019-08-07 21:14:43 2019-08-07  \n",
       "243711 2019-08-07 21:14:58 2019-08-07  \n",
       "243712 2019-08-07 21:15:17 2019-08-07  \n",
       "\n",
       "[240887 rows x 6 columns]"
      ]
     },
     "execution_count": 186,
     "metadata": {},
     "output_type": "execute_result"
    }
   ],
   "source": [
    "events_data_filter"
   ]
  },
  {
   "cell_type": "markdown",
   "metadata": {},
   "source": [
    "    The visualization of date and time logs after Excluding The Older Data."
   ]
  },
  {
   "cell_type": "code",
   "execution_count": 187,
   "metadata": {},
   "outputs": [
    {
     "data": {
      "image/png": "[encoded data removed]",
      "text/plain": [
       "<Figure size 1080x360 with 1 Axes>"
      ]
     },
     "metadata": {
      "needs_background": "light"
     },
     "output_type": "display_data"
    }
   ],
   "source": [
    "events_data_filter['date_time'].hist(bins=100, figsize=(15,5))\n",
    "plt.xticks(rotation = 45);\n",
    "plt.title('The visualization of date and time logs after Excluding The Older Data');"
   ]
  },
  {
   "cell_type": "markdown",
   "metadata": {},
   "source": [
    "#### Temporary Summary"
   ]
  },
  {
   "cell_type": "markdown",
   "metadata": {},
   "source": [
    "# Findings:\n",
    "    \n",
    "    - Data covers the time period between 25 July 2019 through 7 August 2019.\n",
    "    - Only data starting 1 August 2019 contains > 3000 rows and is consistent to the last day."
   ]
  },
  {
   "cell_type": "markdown",
   "metadata": {},
   "source": [
    "# Insights:\n",
    "    \n",
    "    - Older events could end up in some users' logs for technical reasons, and this could skew the overall picture.\n",
    "    - At 1 August 2019 is the time when the data begins to be complete and actually represents the entire data."
   ]
  },
  {
   "cell_type": "markdown",
   "metadata": {},
   "source": [
    "# Recommendations:\n",
    "    \n",
    "    - It is better to exclude the older data between 25-31 July 2019 like we have been done."
   ]
  },
  {
   "cell_type": "markdown",
   "metadata": {},
   "source": [
    "[Back to Contents](#tableofcontents)"
   ]
  },
  {
   "cell_type": "markdown",
   "metadata": {},
   "source": [
    "### Did we lose a lot of events and users when we got rid of old data?"
   ]
  },
  {
   "cell_type": "markdown",
   "metadata": {},
   "source": [
    "    First, we will check the total events and users on the table of 'events_data_filter', as follows:"
   ]
  },
  {
   "cell_type": "code",
   "execution_count": 188,
   "metadata": {},
   "outputs": [
    {
     "name": "stdout",
     "output_type": "stream",
     "text": [
      "There are 240887 events in the logs\n",
      "There are 7534 users in the logs\n",
      "The average number of events per user is 32.0 users\n"
     ]
    }
   ],
   "source": [
    "total_events_filter = len(events_data_filter)\n",
    "total_users_filter = len(events_data_filter['device_id_hash'].unique())\n",
    "avg_events_filter = total_events / total_users\n",
    "\n",
    "print(f'There are {total_events_filter} events in the logs')\n",
    "print(f'There are {total_users_filter} users in the logs')\n",
    "print(f'The average number of events per user is {round(avg_events_filter, 0)} users')"
   ]
  },
  {
   "cell_type": "markdown",
   "metadata": {},
   "source": [
    "    Findings:\n",
    "    \n",
    "    - We lost less than 1% for this temporary summary."
   ]
  },
  {
   "cell_type": "markdown",
   "metadata": {},
   "source": [
    "    Now, we calculate the difference of events and users on the 'events_data' and 'events_data_filter' table, as follows:"
   ]
  },
  {
   "cell_type": "code",
   "execution_count": 189,
   "metadata": {},
   "outputs": [
    {
     "name": "stdout",
     "output_type": "stream",
     "text": [
      "The percentage of lose events and users are 1.16% and 0.23% severally\n"
     ]
    }
   ],
   "source": [
    "difference_events_data = (total_events - total_events_filter) / total_events * 100\n",
    "difference_users_data = (total_users - total_users_filter) / total_users * 100\n",
    "\n",
    "print(f'The percentage of lose events and users are {round(difference_events_data,2)}% and {round(difference_users_data,2)}% severally')"
   ]
  },
  {
   "cell_type": "markdown",
   "metadata": {},
   "source": [
    "#### Temporary Summary"
   ]
  },
  {
   "cell_type": "markdown",
   "metadata": {},
   "source": [
    "# Findings:\n",
    "    \n",
    "    - The percentage of lose events and users are 1.16% and 0.23% severally."
   ]
  },
  {
   "cell_type": "markdown",
   "metadata": {},
   "source": [
    "# Insights:\n",
    "    - The number of events and users we lose when excluding the older data is not material."
   ]
  },
  {
   "cell_type": "markdown",
   "metadata": {},
   "source": [
    "[Back to Contents](#tableofcontents)"
   ]
  },
  {
   "cell_type": "markdown",
   "metadata": {},
   "source": [
    "### Making sure we have users from all three experimental groups"
   ]
  },
  {
   "cell_type": "markdown",
   "metadata": {},
   "source": [
    "    First, we are going to check the 'exp_id' column on the 'events_data_filter' table, as follows:"
   ]
  },
  {
   "cell_type": "code",
   "execution_count": 190,
   "metadata": {},
   "outputs": [
    {
     "data": {
      "text/plain": [
       "248    84563\n",
       "246    79302\n",
       "247    77022\n",
       "Name: exp_id, dtype: int64"
      ]
     },
     "execution_count": 190,
     "metadata": {},
     "output_type": "execute_result"
    }
   ],
   "source": [
    "events_data_filter['exp_id'].value_counts()"
   ]
  },
  {
   "cell_type": "markdown",
   "metadata": {},
   "source": [
    "    Findings:\n",
    "    \n",
    "    The users from all three experimental groups for A/A/B Testing, which are:\n",
    "    1. 79302 of the control group A with number of 'exp_id' of 246.\n",
    "    2. 77022 of the control group A with number of 'exp_id' of 247.\n",
    "    3. 84563 of the testing group B with number of 'exp_id' of 248."
   ]
  },
  {
   "cell_type": "markdown",
   "metadata": {},
   "source": [
    "### Conclusions from Step 3. Learning and Examining the Data"
   ]
  },
  {
   "cell_type": "markdown",
   "metadata": {},
   "source": [
    "    - There are 243713 events and 7551 users in the logs.\n",
    "    - The average number of events per user is 32 users.\n",
    "    - Data covers the time period between 25 July 2019 through 7 August 2019.\n",
    "    - Only the data that starting 1 August 2019 contains > 3000 rows and it is consistent to the last day. 1 August 2019 is the time when the data begins to be complete and actually represents the entire data, then we exclude the older data between 25-31 July 2019.\n",
    "    - After excluding old data, the lost event and user percentages are 1.16% and 0.23%, respectively, which are immaterial.\n",
    "    - We have users from all three experimental groups for A/A/B Testing, which are:\n",
    "    1. 79302 of the control group A with number of 'exp_id' of 246.\n",
    "    2. 77022 of the control group A with number of 'exp_id' of 247.\n",
    "    3. 84563 of the testing group B with number of 'exp_id' of 248."
   ]
  },
  {
   "cell_type": "markdown",
   "metadata": {},
   "source": [
    "[Back to Contents](#tableofcontents)"
   ]
  },
  {
   "cell_type": "markdown",
   "metadata": {},
   "source": [
    "## Event Funnel\n",
    "    - Step 4. Learning the Event Funnel"
   ]
  },
  {
   "cell_type": "markdown",
   "metadata": {},
   "source": [
    "<div style=\"border:solid black 2px; padding: 20px\">\n",
    "    \n",
    "    In this stage, we will learn the event funnel of:\n",
    "    - Checking what events are in the log and how many times they occur\n",
    "    - Finding the number of users who performed each action\n",
    "    - In what order do we think the actions took place?\n",
    "    - Using the event funnel to find the percentage of users who persist from one stage to the next\n",
    "    - At what stage did we lose a lot of users?\n",
    "    - What percentage of users successfully complete all stages, from first event to checkout?\n",
    "    \n",
    "</div>"
   ]
  },
  {
   "cell_type": "markdown",
   "metadata": {},
   "source": [
    "### Checking what events are in the log and how many times they occur\n",
    "\n",
    "    - Sorting the events by frequency."
   ]
  },
  {
   "cell_type": "markdown",
   "metadata": {},
   "source": [
    "    We are going to calculate how many events in the logs, as follows:"
   ]
  },
  {
   "cell_type": "code",
   "execution_count": 191,
   "metadata": {},
   "outputs": [
    {
     "data": {
      "text/html": [
       "<div>\n",
       "<style scoped>\n",
       "    .dataframe tbody tr th:only-of-type {\n",
       "        vertical-align: middle;\n",
       "    }\n",
       "\n",
       "    .dataframe tbody tr th {\n",
       "        vertical-align: top;\n",
       "    }\n",
       "\n",
       "    .dataframe thead th {\n",
       "        text-align: right;\n",
       "    }\n",
       "</style>\n",
       "<table border=\"1\" class=\"dataframe\">\n",
       "  <thead>\n",
       "    <tr style=\"text-align: right;\">\n",
       "      <th></th>\n",
       "      <th>event_name</th>\n",
       "      <th>device_id_hash</th>\n",
       "      <th>event_timestamp</th>\n",
       "      <th>exp_id</th>\n",
       "      <th>date_time</th>\n",
       "      <th>date</th>\n",
       "    </tr>\n",
       "  </thead>\n",
       "  <tbody>\n",
       "    <tr>\n",
       "      <th>1989</th>\n",
       "      <td>MainScreenAppear</td>\n",
       "      <td>7701922487875823903</td>\n",
       "      <td>1564606857</td>\n",
       "      <td>247</td>\n",
       "      <td>2019-07-31 21:00:57</td>\n",
       "      <td>2019-07-31</td>\n",
       "    </tr>\n",
       "    <tr>\n",
       "      <th>1990</th>\n",
       "      <td>MainScreenAppear</td>\n",
       "      <td>2539077412200498909</td>\n",
       "      <td>1564606905</td>\n",
       "      <td>247</td>\n",
       "      <td>2019-07-31 21:01:45</td>\n",
       "      <td>2019-07-31</td>\n",
       "    </tr>\n",
       "    <tr>\n",
       "      <th>1991</th>\n",
       "      <td>OffersScreenAppear</td>\n",
       "      <td>3286987355161301427</td>\n",
       "      <td>1564606941</td>\n",
       "      <td>248</td>\n",
       "      <td>2019-07-31 21:02:21</td>\n",
       "      <td>2019-07-31</td>\n",
       "    </tr>\n",
       "    <tr>\n",
       "      <th>1992</th>\n",
       "      <td>OffersScreenAppear</td>\n",
       "      <td>3187166762535343300</td>\n",
       "      <td>1564606943</td>\n",
       "      <td>247</td>\n",
       "      <td>2019-07-31 21:02:23</td>\n",
       "      <td>2019-07-31</td>\n",
       "    </tr>\n",
       "    <tr>\n",
       "      <th>1993</th>\n",
       "      <td>MainScreenAppear</td>\n",
       "      <td>1118952406011435924</td>\n",
       "      <td>1564607005</td>\n",
       "      <td>248</td>\n",
       "      <td>2019-07-31 21:03:25</td>\n",
       "      <td>2019-07-31</td>\n",
       "    </tr>\n",
       "  </tbody>\n",
       "</table>\n",
       "</div>"
      ],
      "text/plain": [
       "              event_name       device_id_hash  event_timestamp  exp_id  \\\n",
       "1989    MainScreenAppear  7701922487875823903       1564606857     247   \n",
       "1990    MainScreenAppear  2539077412200498909       1564606905     247   \n",
       "1991  OffersScreenAppear  3286987355161301427       1564606941     248   \n",
       "1992  OffersScreenAppear  3187166762535343300       1564606943     247   \n",
       "1993    MainScreenAppear  1118952406011435924       1564607005     248   \n",
       "\n",
       "               date_time       date  \n",
       "1989 2019-07-31 21:00:57 2019-07-31  \n",
       "1990 2019-07-31 21:01:45 2019-07-31  \n",
       "1991 2019-07-31 21:02:21 2019-07-31  \n",
       "1992 2019-07-31 21:02:23 2019-07-31  \n",
       "1993 2019-07-31 21:03:25 2019-07-31  "
      ]
     },
     "execution_count": 191,
     "metadata": {},
     "output_type": "execute_result"
    }
   ],
   "source": [
    "events_data.head()"
   ]
  },
  {
   "cell_type": "code",
   "execution_count": 192,
   "metadata": {},
   "outputs": [
    {
     "data": {
      "text/html": [
       "<div>\n",
       "<style scoped>\n",
       "    .dataframe tbody tr th:only-of-type {\n",
       "        vertical-align: middle;\n",
       "    }\n",
       "\n",
       "    .dataframe tbody tr th {\n",
       "        vertical-align: top;\n",
       "    }\n",
       "\n",
       "    .dataframe thead th {\n",
       "        text-align: right;\n",
       "    }\n",
       "</style>\n",
       "<table border=\"1\" class=\"dataframe\">\n",
       "  <thead>\n",
       "    <tr style=\"text-align: right;\">\n",
       "      <th></th>\n",
       "      <th>device_id_hash</th>\n",
       "    </tr>\n",
       "    <tr>\n",
       "      <th>event_name</th>\n",
       "      <th></th>\n",
       "    </tr>\n",
       "  </thead>\n",
       "  <tbody>\n",
       "    <tr>\n",
       "      <th>MainScreenAppear</th>\n",
       "      <td>117889</td>\n",
       "    </tr>\n",
       "    <tr>\n",
       "      <th>OffersScreenAppear</th>\n",
       "      <td>46531</td>\n",
       "    </tr>\n",
       "    <tr>\n",
       "      <th>CartScreenAppear</th>\n",
       "      <td>42343</td>\n",
       "    </tr>\n",
       "    <tr>\n",
       "      <th>PaymentScreenSuccessful</th>\n",
       "      <td>33951</td>\n",
       "    </tr>\n",
       "    <tr>\n",
       "      <th>Tutorial</th>\n",
       "      <td>1010</td>\n",
       "    </tr>\n",
       "  </tbody>\n",
       "</table>\n",
       "</div>"
      ],
      "text/plain": [
       "                         device_id_hash\n",
       "event_name                             \n",
       "MainScreenAppear                 117889\n",
       "OffersScreenAppear                46531\n",
       "CartScreenAppear                  42343\n",
       "PaymentScreenSuccessful           33951\n",
       "Tutorial                           1010"
      ]
     },
     "execution_count": 192,
     "metadata": {},
     "output_type": "execute_result"
    }
   ],
   "source": [
    "events_data.pivot_table(index='event_name', values='device_id_hash', aggfunc='count').sort_values('device_id_hash', ascending=False)"
   ]
  },
  {
   "cell_type": "code",
   "execution_count": 193,
   "metadata": {},
   "outputs": [
    {
     "data": {
      "text/html": [
       "<div>\n",
       "<style scoped>\n",
       "    .dataframe tbody tr th:only-of-type {\n",
       "        vertical-align: middle;\n",
       "    }\n",
       "\n",
       "    .dataframe tbody tr th {\n",
       "        vertical-align: top;\n",
       "    }\n",
       "\n",
       "    .dataframe thead th {\n",
       "        text-align: right;\n",
       "    }\n",
       "</style>\n",
       "<table border=\"1\" class=\"dataframe\">\n",
       "  <thead>\n",
       "    <tr style=\"text-align: right;\">\n",
       "      <th></th>\n",
       "      <th>total_logs</th>\n",
       "    </tr>\n",
       "    <tr>\n",
       "      <th>event_name</th>\n",
       "      <th></th>\n",
       "    </tr>\n",
       "  </thead>\n",
       "  <tbody>\n",
       "    <tr>\n",
       "      <th>MainScreenAppear</th>\n",
       "      <td>117328</td>\n",
       "    </tr>\n",
       "    <tr>\n",
       "      <th>OffersScreenAppear</th>\n",
       "      <td>46333</td>\n",
       "    </tr>\n",
       "    <tr>\n",
       "      <th>CartScreenAppear</th>\n",
       "      <td>42303</td>\n",
       "    </tr>\n",
       "    <tr>\n",
       "      <th>PaymentScreenSuccessful</th>\n",
       "      <td>33918</td>\n",
       "    </tr>\n",
       "    <tr>\n",
       "      <th>Tutorial</th>\n",
       "      <td>1005</td>\n",
       "    </tr>\n",
       "  </tbody>\n",
       "</table>\n",
       "</div>"
      ],
      "text/plain": [
       "                         total_logs\n",
       "event_name                         \n",
       "MainScreenAppear             117328\n",
       "OffersScreenAppear            46333\n",
       "CartScreenAppear              42303\n",
       "PaymentScreenSuccessful       33918\n",
       "Tutorial                       1005"
      ]
     },
     "execution_count": 193,
     "metadata": {},
     "output_type": "execute_result"
    }
   ],
   "source": [
    "events_filter = events_data_filter.groupby(events_data_filter['event_name']\n",
    "                        ).count().sort_values(by='device_id_hash', ascending=False)\n",
    "events_filter.drop(['event_timestamp', 'exp_id', 'date_time', 'date'], axis=1, inplace=True)\n",
    "events_filter.columns = ['total_logs']\n",
    "events_filter"
   ]
  },
  {
   "cell_type": "markdown",
   "metadata": {},
   "source": [
    "    Findings:\n",
    "    \n",
    "    We have five events in the logs, which are:\n",
    "    - Main Screen Appear of 117328 logs.\n",
    "    - Offers Screen Appear of 46333 logs.\n",
    "    - Cart Screen Appear of 42303 logs.\n",
    "    - Payment Screen Successful of 33918 logs.\n",
    "    - Tutorial of 1005 logs."
   ]
  },
  {
   "cell_type": "markdown",
   "metadata": {},
   "source": [
    "[Back to Contents](#tableofcontents)"
   ]
  },
  {
   "cell_type": "markdown",
   "metadata": {},
   "source": [
    "### Finding the number of users who performed each actions\n",
    "\n",
    "    - Sorting the events by number of users.\n",
    "    - Calculating the proportion of users who performed an action at least once."
   ]
  },
  {
   "cell_type": "code",
   "execution_count": 194,
   "metadata": {},
   "outputs": [
    {
     "data": {
      "text/html": [
       "<div>\n",
       "<style scoped>\n",
       "    .dataframe tbody tr th:only-of-type {\n",
       "        vertical-align: middle;\n",
       "    }\n",
       "\n",
       "    .dataframe tbody tr th {\n",
       "        vertical-align: top;\n",
       "    }\n",
       "\n",
       "    .dataframe thead th {\n",
       "        text-align: right;\n",
       "    }\n",
       "</style>\n",
       "<table border=\"1\" class=\"dataframe\">\n",
       "  <thead>\n",
       "    <tr style=\"text-align: right;\">\n",
       "      <th></th>\n",
       "      <th>device_id_hash</th>\n",
       "    </tr>\n",
       "    <tr>\n",
       "      <th>event_name</th>\n",
       "      <th></th>\n",
       "    </tr>\n",
       "  </thead>\n",
       "  <tbody>\n",
       "    <tr>\n",
       "      <th>MainScreenAppear</th>\n",
       "      <td>7423</td>\n",
       "    </tr>\n",
       "    <tr>\n",
       "      <th>OffersScreenAppear</th>\n",
       "      <td>4597</td>\n",
       "    </tr>\n",
       "    <tr>\n",
       "      <th>CartScreenAppear</th>\n",
       "      <td>3736</td>\n",
       "    </tr>\n",
       "    <tr>\n",
       "      <th>PaymentScreenSuccessful</th>\n",
       "      <td>3540</td>\n",
       "    </tr>\n",
       "    <tr>\n",
       "      <th>Tutorial</th>\n",
       "      <td>843</td>\n",
       "    </tr>\n",
       "  </tbody>\n",
       "</table>\n",
       "</div>"
      ],
      "text/plain": [
       "                         device_id_hash\n",
       "event_name                             \n",
       "MainScreenAppear                   7423\n",
       "OffersScreenAppear                 4597\n",
       "CartScreenAppear                   3736\n",
       "PaymentScreenSuccessful            3540\n",
       "Tutorial                            843"
      ]
     },
     "execution_count": 194,
     "metadata": {},
     "output_type": "execute_result"
    }
   ],
   "source": [
    "users_per_events = (\n",
    "    events_data\n",
    "    .pivot_table(index='event_name', values='device_id_hash', aggfunc=lambda x: x.nunique())\n",
    "    .sort_values('device_id_hash', ascending=False)\n",
    ")\n",
    "users_per_events"
   ]
  },
  {
   "cell_type": "markdown",
   "metadata": {},
   "source": [
    "    We use another approach, as follows:"
   ]
  },
  {
   "cell_type": "code",
   "execution_count": 195,
   "metadata": {},
   "outputs": [
    {
     "data": {
      "text/html": [
       "<div>\n",
       "<style scoped>\n",
       "    .dataframe tbody tr th:only-of-type {\n",
       "        vertical-align: middle;\n",
       "    }\n",
       "\n",
       "    .dataframe tbody tr th {\n",
       "        vertical-align: top;\n",
       "    }\n",
       "\n",
       "    .dataframe thead th {\n",
       "        text-align: right;\n",
       "    }\n",
       "</style>\n",
       "<table border=\"1\" class=\"dataframe\">\n",
       "  <thead>\n",
       "    <tr style=\"text-align: right;\">\n",
       "      <th></th>\n",
       "      <th>device_id_hash</th>\n",
       "    </tr>\n",
       "    <tr>\n",
       "      <th>event_name</th>\n",
       "      <th></th>\n",
       "    </tr>\n",
       "  </thead>\n",
       "  <tbody>\n",
       "    <tr>\n",
       "      <th>MainScreenAppear</th>\n",
       "      <td>7419</td>\n",
       "    </tr>\n",
       "    <tr>\n",
       "      <th>OffersScreenAppear</th>\n",
       "      <td>4593</td>\n",
       "    </tr>\n",
       "    <tr>\n",
       "      <th>CartScreenAppear</th>\n",
       "      <td>3734</td>\n",
       "    </tr>\n",
       "    <tr>\n",
       "      <th>PaymentScreenSuccessful</th>\n",
       "      <td>3539</td>\n",
       "    </tr>\n",
       "    <tr>\n",
       "      <th>Tutorial</th>\n",
       "      <td>840</td>\n",
       "    </tr>\n",
       "  </tbody>\n",
       "</table>\n",
       "</div>"
      ],
      "text/plain": [
       "                         device_id_hash\n",
       "event_name                             \n",
       "MainScreenAppear                   7419\n",
       "OffersScreenAppear                 4593\n",
       "CartScreenAppear                   3734\n",
       "PaymentScreenSuccessful            3539\n",
       "Tutorial                            840"
      ]
     },
     "execution_count": 195,
     "metadata": {},
     "output_type": "execute_result"
    }
   ],
   "source": [
    "users_per_events = events_data_filter.pivot_table(\n",
    "    index='event_name', values='device_id_hash', aggfunc='nunique').sort_values(by='device_id_hash', ascending=False)\n",
    "users_per_events"
   ]
  },
  {
   "cell_type": "markdown",
   "metadata": {},
   "source": [
    "    We will see the total users on the 'events_data_filter' table, as follows:"
   ]
  },
  {
   "cell_type": "code",
   "execution_count": 196,
   "metadata": {},
   "outputs": [
    {
     "name": "stdout",
     "output_type": "stream",
     "text": [
      "There are 7534 users in the logs\n"
     ]
    }
   ],
   "source": [
    "total_users_filter = len(events_data_filter['device_id_hash'].unique())\n",
    " \n",
    "print(f'There are {total_users_filter} users in the logs')"
   ]
  },
  {
   "cell_type": "markdown",
   "metadata": {},
   "source": [
    "    Now, we calculate the proportion of users who performed the action, as follows:"
   ]
  },
  {
   "cell_type": "code",
   "execution_count": 197,
   "metadata": {},
   "outputs": [
    {
     "data": {
      "text/html": [
       "<div>\n",
       "<style scoped>\n",
       "    .dataframe tbody tr th:only-of-type {\n",
       "        vertical-align: middle;\n",
       "    }\n",
       "\n",
       "    .dataframe tbody tr th {\n",
       "        vertical-align: top;\n",
       "    }\n",
       "\n",
       "    .dataframe thead th {\n",
       "        text-align: right;\n",
       "    }\n",
       "</style>\n",
       "<table border=\"1\" class=\"dataframe\">\n",
       "  <thead>\n",
       "    <tr style=\"text-align: right;\">\n",
       "      <th></th>\n",
       "      <th>device_id_hash</th>\n",
       "    </tr>\n",
       "    <tr>\n",
       "      <th>event_name</th>\n",
       "      <th></th>\n",
       "    </tr>\n",
       "  </thead>\n",
       "  <tbody>\n",
       "    <tr>\n",
       "      <th>MainScreenAppear</th>\n",
       "      <td>0.98</td>\n",
       "    </tr>\n",
       "    <tr>\n",
       "      <th>OffersScreenAppear</th>\n",
       "      <td>0.61</td>\n",
       "    </tr>\n",
       "    <tr>\n",
       "      <th>CartScreenAppear</th>\n",
       "      <td>0.50</td>\n",
       "    </tr>\n",
       "    <tr>\n",
       "      <th>PaymentScreenSuccessful</th>\n",
       "      <td>0.47</td>\n",
       "    </tr>\n",
       "    <tr>\n",
       "      <th>Tutorial</th>\n",
       "      <td>0.11</td>\n",
       "    </tr>\n",
       "  </tbody>\n",
       "</table>\n",
       "</div>"
      ],
      "text/plain": [
       "                         device_id_hash\n",
       "event_name                             \n",
       "MainScreenAppear                   0.98\n",
       "OffersScreenAppear                 0.61\n",
       "CartScreenAppear                   0.50\n",
       "PaymentScreenSuccessful            0.47\n",
       "Tutorial                           0.11"
      ]
     },
     "execution_count": 197,
     "metadata": {},
     "output_type": "execute_result"
    }
   ],
   "source": [
    "round((users_per_events / total_users_filter), 2)"
   ]
  },
  {
   "cell_type": "markdown",
   "metadata": {},
   "source": [
    "    We use another approach, as follows:"
   ]
  },
  {
   "cell_type": "code",
   "execution_count": 198,
   "metadata": {},
   "outputs": [
    {
     "data": {
      "text/html": [
       "<div>\n",
       "<style scoped>\n",
       "    .dataframe tbody tr th:only-of-type {\n",
       "        vertical-align: middle;\n",
       "    }\n",
       "\n",
       "    .dataframe tbody tr th {\n",
       "        vertical-align: top;\n",
       "    }\n",
       "\n",
       "    .dataframe thead th {\n",
       "        text-align: right;\n",
       "    }\n",
       "</style>\n",
       "<table border=\"1\" class=\"dataframe\">\n",
       "  <thead>\n",
       "    <tr style=\"text-align: right;\">\n",
       "      <th></th>\n",
       "      <th>device_id_hash</th>\n",
       "    </tr>\n",
       "    <tr>\n",
       "      <th>event_name</th>\n",
       "      <th></th>\n",
       "    </tr>\n",
       "  </thead>\n",
       "  <tbody>\n",
       "    <tr>\n",
       "      <th>MainScreenAppear</th>\n",
       "      <td>0.984213</td>\n",
       "    </tr>\n",
       "    <tr>\n",
       "      <th>OffersScreenAppear</th>\n",
       "      <td>0.609313</td>\n",
       "    </tr>\n",
       "    <tr>\n",
       "      <th>CartScreenAppear</th>\n",
       "      <td>0.495357</td>\n",
       "    </tr>\n",
       "    <tr>\n",
       "      <th>PaymentScreenSuccessful</th>\n",
       "      <td>0.469488</td>\n",
       "    </tr>\n",
       "    <tr>\n",
       "      <th>Tutorial</th>\n",
       "      <td>0.111435</td>\n",
       "    </tr>\n",
       "  </tbody>\n",
       "</table>\n",
       "</div>"
      ],
      "text/plain": [
       "                         device_id_hash\n",
       "event_name                             \n",
       "MainScreenAppear               0.984213\n",
       "OffersScreenAppear             0.609313\n",
       "CartScreenAppear               0.495357\n",
       "PaymentScreenSuccessful        0.469488\n",
       "Tutorial                       0.111435"
      ]
     },
     "execution_count": 198,
     "metadata": {},
     "output_type": "execute_result"
    }
   ],
   "source": [
    "users_per_events / len(events_data['device_id_hash'].unique())"
   ]
  },
  {
   "cell_type": "markdown",
   "metadata": {},
   "source": [
    "    Findings:\n",
    "    \n",
    "    We have 7543 users in the logs, with the detail of actions they have performed are:\n",
    "    - 0.98% of users in the logs has performed on event of Main Screen Appear.\n",
    "    - 0.61% of users in the logs has performed on event of Offers Screen Appear.\n",
    "    - 0.50% of users in the logs has performed on event of Cart Screen Appear.\n",
    "    - 0.47% of users in the logs has performed on event of Payment Screen Successful.\n",
    "    - 0.11% of users in the logs has performed on event of Tutorial."
   ]
  },
  {
   "cell_type": "markdown",
   "metadata": {},
   "source": [
    "[Back to Contents](#tableofcontents)"
   ]
  },
  {
   "cell_type": "markdown",
   "metadata": {},
   "source": [
    "### In what order do we think the actions took place?\n",
    "\n",
    "    - Are they all part of one sequence?\n",
    "    - We don't need to take everything into account when calculating the funnel."
   ]
  },
  {
   "cell_type": "markdown",
   "metadata": {},
   "source": [
    "    We check again for 'users_per_events' table, as follows:"
   ]
  },
  {
   "cell_type": "code",
   "execution_count": 199,
   "metadata": {},
   "outputs": [
    {
     "data": {
      "text/html": [
       "<div>\n",
       "<style scoped>\n",
       "    .dataframe tbody tr th:only-of-type {\n",
       "        vertical-align: middle;\n",
       "    }\n",
       "\n",
       "    .dataframe tbody tr th {\n",
       "        vertical-align: top;\n",
       "    }\n",
       "\n",
       "    .dataframe thead th {\n",
       "        text-align: right;\n",
       "    }\n",
       "</style>\n",
       "<table border=\"1\" class=\"dataframe\">\n",
       "  <thead>\n",
       "    <tr style=\"text-align: right;\">\n",
       "      <th></th>\n",
       "      <th>device_id_hash</th>\n",
       "    </tr>\n",
       "    <tr>\n",
       "      <th>event_name</th>\n",
       "      <th></th>\n",
       "    </tr>\n",
       "  </thead>\n",
       "  <tbody>\n",
       "    <tr>\n",
       "      <th>MainScreenAppear</th>\n",
       "      <td>7419</td>\n",
       "    </tr>\n",
       "    <tr>\n",
       "      <th>OffersScreenAppear</th>\n",
       "      <td>4593</td>\n",
       "    </tr>\n",
       "    <tr>\n",
       "      <th>CartScreenAppear</th>\n",
       "      <td>3734</td>\n",
       "    </tr>\n",
       "    <tr>\n",
       "      <th>PaymentScreenSuccessful</th>\n",
       "      <td>3539</td>\n",
       "    </tr>\n",
       "    <tr>\n",
       "      <th>Tutorial</th>\n",
       "      <td>840</td>\n",
       "    </tr>\n",
       "  </tbody>\n",
       "</table>\n",
       "</div>"
      ],
      "text/plain": [
       "                         device_id_hash\n",
       "event_name                             \n",
       "MainScreenAppear                   7419\n",
       "OffersScreenAppear                 4593\n",
       "CartScreenAppear                   3734\n",
       "PaymentScreenSuccessful            3539\n",
       "Tutorial                            840"
      ]
     },
     "execution_count": 199,
     "metadata": {},
     "output_type": "execute_result"
    }
   ],
   "source": [
    "users_per_events"
   ]
  },
  {
   "cell_type": "markdown",
   "metadata": {},
   "source": [
    "# Insights:\n",
    "    - The 5 events in the log, in our opinion the sequence of events starts from the Main Screen event when the user first visits the application, followed by clicking the Offers Screen menu, then clicking Cart Screen, and finally Payment Screen Successful to complete the order. Meanwhile, Tutorial events are unrelated to the sequence of events.\n",
    "    \n",
    "    \n",
    "# Recommendations:\n",
    "    - We will exclude Tutorials for the further analysis."
   ]
  },
  {
   "cell_type": "markdown",
   "metadata": {},
   "source": [
    "[Back to Contents](#tableofcontents)"
   ]
  },
  {
   "cell_type": "markdown",
   "metadata": {},
   "source": [
    "### Using the event funnel to find the percentage of users who persist from one stage to the next\n",
    "\n",
    "    -(For example, for the sequence of events A → B → C, calculate the ratio of users in stage B to the number of users in stage A, and the ratio of users in stage C to the number of users in stage B)."
   ]
  },
  {
   "cell_type": "code",
   "execution_count": 200,
   "metadata": {},
   "outputs": [
    {
     "data": {
      "text/html": [
       "<div>\n",
       "<style scoped>\n",
       "    .dataframe tbody tr th:only-of-type {\n",
       "        vertical-align: middle;\n",
       "    }\n",
       "\n",
       "    .dataframe tbody tr th {\n",
       "        vertical-align: top;\n",
       "    }\n",
       "\n",
       "    .dataframe thead th {\n",
       "        text-align: right;\n",
       "    }\n",
       "</style>\n",
       "<table border=\"1\" class=\"dataframe\">\n",
       "  <thead>\n",
       "    <tr style=\"text-align: right;\">\n",
       "      <th></th>\n",
       "      <th>device_id_hash</th>\n",
       "    </tr>\n",
       "    <tr>\n",
       "      <th>event_name</th>\n",
       "      <th></th>\n",
       "    </tr>\n",
       "  </thead>\n",
       "  <tbody>\n",
       "    <tr>\n",
       "      <th>OffersScreenAppear</th>\n",
       "      <td>0.619086</td>\n",
       "    </tr>\n",
       "    <tr>\n",
       "      <th>CartScreenAppear</th>\n",
       "      <td>0.812976</td>\n",
       "    </tr>\n",
       "    <tr>\n",
       "      <th>PaymentScreenSuccessful</th>\n",
       "      <td>0.947777</td>\n",
       "    </tr>\n",
       "  </tbody>\n",
       "</table>\n",
       "</div>"
      ],
      "text/plain": [
       "                         device_id_hash\n",
       "event_name                             \n",
       "OffersScreenAppear             0.619086\n",
       "CartScreenAppear               0.812976\n",
       "PaymentScreenSuccessful        0.947777"
      ]
     },
     "execution_count": 200,
     "metadata": {},
     "output_type": "execute_result"
    }
   ],
   "source": [
    "users_data_funnel = users_per_events[:-1]\n",
    "users_data_funnel = (users_data_funnel / users_data_funnel.shift())[1:]\n",
    "users_data_funnel"
   ]
  },
  {
   "cell_type": "markdown",
   "metadata": {},
   "source": [
    "    We use another approach to exclude tutorials events from the 'users_per_events', as follows:"
   ]
  },
  {
   "cell_type": "code",
   "execution_count": 201,
   "metadata": {},
   "outputs": [
    {
     "data": {
      "text/html": [
       "<div>\n",
       "<style scoped>\n",
       "    .dataframe tbody tr th:only-of-type {\n",
       "        vertical-align: middle;\n",
       "    }\n",
       "\n",
       "    .dataframe tbody tr th {\n",
       "        vertical-align: top;\n",
       "    }\n",
       "\n",
       "    .dataframe thead th {\n",
       "        text-align: right;\n",
       "    }\n",
       "</style>\n",
       "<table border=\"1\" class=\"dataframe\">\n",
       "  <thead>\n",
       "    <tr style=\"text-align: right;\">\n",
       "      <th></th>\n",
       "      <th>device_id_hash</th>\n",
       "    </tr>\n",
       "    <tr>\n",
       "      <th>event_name</th>\n",
       "      <th></th>\n",
       "    </tr>\n",
       "  </thead>\n",
       "  <tbody>\n",
       "    <tr>\n",
       "      <th>MainScreenAppear</th>\n",
       "      <td>7419</td>\n",
       "    </tr>\n",
       "    <tr>\n",
       "      <th>OffersScreenAppear</th>\n",
       "      <td>4593</td>\n",
       "    </tr>\n",
       "    <tr>\n",
       "      <th>CartScreenAppear</th>\n",
       "      <td>3734</td>\n",
       "    </tr>\n",
       "    <tr>\n",
       "      <th>PaymentScreenSuccessful</th>\n",
       "      <td>3539</td>\n",
       "    </tr>\n",
       "  </tbody>\n",
       "</table>\n",
       "</div>"
      ],
      "text/plain": [
       "                         device_id_hash\n",
       "event_name                             \n",
       "MainScreenAppear                   7419\n",
       "OffersScreenAppear                 4593\n",
       "CartScreenAppear                   3734\n",
       "PaymentScreenSuccessful            3539"
      ]
     },
     "execution_count": 201,
     "metadata": {},
     "output_type": "execute_result"
    }
   ],
   "source": [
    "users_data_funnel = users_per_events[:-1]\n",
    "users_data_funnel"
   ]
  },
  {
   "cell_type": "markdown",
   "metadata": {},
   "source": [
    "    The visualization of the funnel, as follows:"
   ]
  },
  {
   "cell_type": "code",
   "execution_count": 202,
   "metadata": {},
   "outputs": [
    {
     "data": {
      "application/vnd.plotly.v1+json": {
       "config": {
        "plotlyServerURL": "https://plot.ly"
       },
       "data": [
        {
         "type": "funnel",
         "x": [
          7419,
          4593,
          3734,
          3539
         ],
         "y": [
          "MainScreenAppear",
          "OffersScreenAppear",
          "CartScreenAppear",
          "PaymentScreenSuccessful"
         ]
        }
       ],
       "layout": {
        "template": {
         "data": {
          "bar": [
           {
            "error_x": {
             "color": "#2a3f5f"
            },
            "error_y": {
             "color": "#2a3f5f"
            },
            "marker": {
             "line": {
              "color": "#E5ECF6",
              "width": 0.5
             },
             "pattern": {
              "fillmode": "overlay",
              "size": 10,
              "solidity": 0.2
             }
            },
            "type": "bar"
           }
          ],
          "barpolar": [
           {
            "marker": {
             "line": {
              "color": "#E5ECF6",
              "width": 0.5
             },
             "pattern": {
              "fillmode": "overlay",
              "size": 10,
              "solidity": 0.2
             }
            },
            "type": "barpolar"
           }
          ],
          "carpet": [
           {
            "aaxis": {
             "endlinecolor": "#2a3f5f",
             "gridcolor": "white",
             "linecolor": "white",
             "minorgridcolor": "white",
             "startlinecolor": "#2a3f5f"
            },
            "baxis": {
             "endlinecolor": "#2a3f5f",
             "gridcolor": "white",
             "linecolor": "white",
             "minorgridcolor": "white",
             "startlinecolor": "#2a3f5f"
            },
            "type": "carpet"
           }
          ],
          "choropleth": [
           {
            "colorbar": {
             "outlinewidth": 0,
             "ticks": ""
            },
            "type": "choropleth"
           }
          ],
          "contour": [
           {
            "colorbar": {
             "outlinewidth": 0,
             "ticks": ""
            },
            "colorscale": [
             [
              0,
              "#0d0887"
             ],
             [
              0.1111111111111111,
              "#46039f"
             ],
             [
              0.2222222222222222,
              "#7201a8"
             ],
             [
              0.3333333333333333,
              "#9c179e"
             ],
             [
              0.4444444444444444,
              "#bd3786"
             ],
             [
              0.5555555555555556,
              "#d8576b"
             ],
             [
              0.6666666666666666,
              "#ed7953"
             ],
             [
              0.7777777777777778,
              "#fb9f3a"
             ],
             [
              0.8888888888888888,
              "#fdca26"
             ],
             [
              1,
              "#f0f921"
             ]
            ],
            "type": "contour"
           }
          ],
          "contourcarpet": [
           {
            "colorbar": {
             "outlinewidth": 0,
             "ticks": ""
            },
            "type": "contourcarpet"
           }
          ],
          "heatmap": [
           {
            "colorbar": {
             "outlinewidth": 0,
             "ticks": ""
            },
            "colorscale": [
             [
              0,
              "#0d0887"
             ],
             [
              0.1111111111111111,
              "#46039f"
             ],
             [
              0.2222222222222222,
              "#7201a8"
             ],
             [
              0.3333333333333333,
              "#9c179e"
             ],
             [
              0.4444444444444444,
              "#bd3786"
             ],
             [
              0.5555555555555556,
              "#d8576b"
             ],
             [
              0.6666666666666666,
              "#ed7953"
             ],
             [
              0.7777777777777778,
              "#fb9f3a"
             ],
             [
              0.8888888888888888,
              "#fdca26"
             ],
             [
              1,
              "#f0f921"
             ]
            ],
            "type": "heatmap"
           }
          ],
          "heatmapgl": [
           {
            "colorbar": {
             "outlinewidth": 0,
             "ticks": ""
            },
            "colorscale": [
             [
              0,
              "#0d0887"
             ],
             [
              0.1111111111111111,
              "#46039f"
             ],
             [
              0.2222222222222222,
              "#7201a8"
             ],
             [
              0.3333333333333333,
              "#9c179e"
             ],
             [
              0.4444444444444444,
              "#bd3786"
             ],
             [
              0.5555555555555556,
              "#d8576b"
             ],
             [
              0.6666666666666666,
              "#ed7953"
             ],
             [
              0.7777777777777778,
              "#fb9f3a"
             ],
             [
              0.8888888888888888,
              "#fdca26"
             ],
             [
              1,
              "#f0f921"
             ]
            ],
            "type": "heatmapgl"
           }
          ],
          "histogram": [
           {
            "marker": {
             "pattern": {
              "fillmode": "overlay",
              "size": 10,
              "solidity": 0.2
             }
            },
            "type": "histogram"
           }
          ],
          "histogram2d": [
           {
            "colorbar": {
             "outlinewidth": 0,
             "ticks": ""
            },
            "colorscale": [
             [
              0,
              "#0d0887"
             ],
             [
              0.1111111111111111,
              "#46039f"
             ],
             [
              0.2222222222222222,
              "#7201a8"
             ],
             [
              0.3333333333333333,
              "#9c179e"
             ],
             [
              0.4444444444444444,
              "#bd3786"
             ],
             [
              0.5555555555555556,
              "#d8576b"
             ],
             [
              0.6666666666666666,
              "#ed7953"
             ],
             [
              0.7777777777777778,
              "#fb9f3a"
             ],
             [
              0.8888888888888888,
              "#fdca26"
             ],
             [
              1,
              "#f0f921"
             ]
            ],
            "type": "histogram2d"
           }
          ],
          "histogram2dcontour": [
           {
            "colorbar": {
             "outlinewidth": 0,
             "ticks": ""
            },
            "colorscale": [
             [
              0,
              "#0d0887"
             ],
             [
              0.1111111111111111,
              "#46039f"
             ],
             [
              0.2222222222222222,
              "#7201a8"
             ],
             [
              0.3333333333333333,
              "#9c179e"
             ],
             [
              0.4444444444444444,
              "#bd3786"
             ],
             [
              0.5555555555555556,
              "#d8576b"
             ],
             [
              0.6666666666666666,
              "#ed7953"
             ],
             [
              0.7777777777777778,
              "#fb9f3a"
             ],
             [
              0.8888888888888888,
              "#fdca26"
             ],
             [
              1,
              "#f0f921"
             ]
            ],
            "type": "histogram2dcontour"
           }
          ],
          "mesh3d": [
           {
            "colorbar": {
             "outlinewidth": 0,
             "ticks": ""
            },
            "type": "mesh3d"
           }
          ],
          "parcoords": [
           {
            "line": {
             "colorbar": {
              "outlinewidth": 0,
              "ticks": ""
             }
            },
            "type": "parcoords"
           }
          ],
          "pie": [
           {
            "automargin": true,
            "type": "pie"
           }
          ],
          "scatter": [
           {
            "marker": {
             "colorbar": {
              "outlinewidth": 0,
              "ticks": ""
             }
            },
            "type": "scatter"
           }
          ],
          "scatter3d": [
           {
            "line": {
             "colorbar": {
              "outlinewidth": 0,
              "ticks": ""
             }
            },
            "marker": {
             "colorbar": {
              "outlinewidth": 0,
              "ticks": ""
             }
            },
            "type": "scatter3d"
           }
          ],
          "scattercarpet": [
           {
            "marker": {
             "colorbar": {
              "outlinewidth": 0,
              "ticks": ""
             }
            },
            "type": "scattercarpet"
           }
          ],
          "scattergeo": [
           {
            "marker": {
             "colorbar": {
              "outlinewidth": 0,
              "ticks": ""
             }
            },
            "type": "scattergeo"
           }
          ],
          "scattergl": [
           {
            "marker": {
             "colorbar": {
              "outlinewidth": 0,
              "ticks": ""
             }
            },
            "type": "scattergl"
           }
          ],
          "scattermapbox": [
           {
            "marker": {
             "colorbar": {
              "outlinewidth": 0,
              "ticks": ""
             }
            },
            "type": "scattermapbox"
           }
          ],
          "scatterpolar": [
           {
            "marker": {
             "colorbar": {
              "outlinewidth": 0,
              "ticks": ""
             }
            },
            "type": "scatterpolar"
           }
          ],
          "scatterpolargl": [
           {
            "marker": {
             "colorbar": {
              "outlinewidth": 0,
              "ticks": ""
             }
            },
            "type": "scatterpolargl"
           }
          ],
          "scatterternary": [
           {
            "marker": {
             "colorbar": {
              "outlinewidth": 0,
              "ticks": ""
             }
            },
            "type": "scatterternary"
           }
          ],
          "surface": [
           {
            "colorbar": {
             "outlinewidth": 0,
             "ticks": ""
            },
            "colorscale": [
             [
              0,
              "#0d0887"
             ],
             [
              0.1111111111111111,
              "#46039f"
             ],
             [
              0.2222222222222222,
              "#7201a8"
             ],
             [
              0.3333333333333333,
              "#9c179e"
             ],
             [
              0.4444444444444444,
              "#bd3786"
             ],
             [
              0.5555555555555556,
              "#d8576b"
             ],
             [
              0.6666666666666666,
              "#ed7953"
             ],
             [
              0.7777777777777778,
              "#fb9f3a"
             ],
             [
              0.8888888888888888,
              "#fdca26"
             ],
             [
              1,
              "#f0f921"
             ]
            ],
            "type": "surface"
           }
          ],
          "table": [
           {
            "cells": {
             "fill": {
              "color": "#EBF0F8"
             },
             "line": {
              "color": "white"
             }
            },
            "header": {
             "fill": {
              "color": "#C8D4E3"
             },
             "line": {
              "color": "white"
             }
            },
            "type": "table"
           }
          ]
         },
         "layout": {
          "annotationdefaults": {
           "arrowcolor": "#2a3f5f",
           "arrowhead": 0,
           "arrowwidth": 1
          },
          "autotypenumbers": "strict",
          "coloraxis": {
           "colorbar": {
            "outlinewidth": 0,
            "ticks": ""
           }
          },
          "colorscale": {
           "diverging": [
            [
             0,
             "#8e0152"
            ],
            [
             0.1,
             "#c51b7d"
            ],
            [
             0.2,
             "#de77ae"
            ],
            [
             0.3,
             "#f1b6da"
            ],
            [
             0.4,
             "#fde0ef"
            ],
            [
             0.5,
             "#f7f7f7"
            ],
            [
             0.6,
             "#e6f5d0"
            ],
            [
             0.7,
             "#b8e186"
            ],
            [
             0.8,
             "#7fbc41"
            ],
            [
             0.9,
             "#4d9221"
            ],
            [
             1,
             "#276419"
            ]
           ],
           "sequential": [
            [
             0,
             "#0d0887"
            ],
            [
             0.1111111111111111,
             "#46039f"
            ],
            [
             0.2222222222222222,
             "#7201a8"
            ],
            [
             0.3333333333333333,
             "#9c179e"
            ],
            [
             0.4444444444444444,
             "#bd3786"
            ],
            [
             0.5555555555555556,
             "#d8576b"
            ],
            [
             0.6666666666666666,
             "#ed7953"
            ],
            [
             0.7777777777777778,
             "#fb9f3a"
            ],
            [
             0.8888888888888888,
             "#fdca26"
            ],
            [
             1,
             "#f0f921"
            ]
           ],
           "sequentialminus": [
            [
             0,
             "#0d0887"
            ],
            [
             0.1111111111111111,
             "#46039f"
            ],
            [
             0.2222222222222222,
             "#7201a8"
            ],
            [
             0.3333333333333333,
             "#9c179e"
            ],
            [
             0.4444444444444444,
             "#bd3786"
            ],
            [
             0.5555555555555556,
             "#d8576b"
            ],
            [
             0.6666666666666666,
             "#ed7953"
            ],
            [
             0.7777777777777778,
             "#fb9f3a"
            ],
            [
             0.8888888888888888,
             "#fdca26"
            ],
            [
             1,
             "#f0f921"
            ]
           ]
          },
          "colorway": [
           "#636efa",
           "#EF553B",
           "#00cc96",
           "#ab63fa",
           "#FFA15A",
           "#19d3f3",
           "#FF6692",
           "#B6E880",
           "#FF97FF",
           "#FECB52"
          ],
          "font": {
           "color": "#2a3f5f"
          },
          "geo": {
           "bgcolor": "white",
           "lakecolor": "white",
           "landcolor": "#E5ECF6",
           "showlakes": true,
           "showland": true,
           "subunitcolor": "white"
          },
          "hoverlabel": {
           "align": "left"
          },
          "hovermode": "closest",
          "mapbox": {
           "style": "light"
          },
          "paper_bgcolor": "white",
          "plot_bgcolor": "#E5ECF6",
          "polar": {
           "angularaxis": {
            "gridcolor": "white",
            "linecolor": "white",
            "ticks": ""
           },
           "bgcolor": "#E5ECF6",
           "radialaxis": {
            "gridcolor": "white",
            "linecolor": "white",
            "ticks": ""
           }
          },
          "scene": {
           "xaxis": {
            "backgroundcolor": "#E5ECF6",
            "gridcolor": "white",
            "gridwidth": 2,
            "linecolor": "white",
            "showbackground": true,
            "ticks": "",
            "zerolinecolor": "white"
           },
           "yaxis": {
            "backgroundcolor": "#E5ECF6",
            "gridcolor": "white",
            "gridwidth": 2,
            "linecolor": "white",
            "showbackground": true,
            "ticks": "",
            "zerolinecolor": "white"
           },
           "zaxis": {
            "backgroundcolor": "#E5ECF6",
            "gridcolor": "white",
            "gridwidth": 2,
            "linecolor": "white",
            "showbackground": true,
            "ticks": "",
            "zerolinecolor": "white"
           }
          },
          "shapedefaults": {
           "line": {
            "color": "#2a3f5f"
           }
          },
          "ternary": {
           "aaxis": {
            "gridcolor": "white",
            "linecolor": "white",
            "ticks": ""
           },
           "baxis": {
            "gridcolor": "white",
            "linecolor": "white",
            "ticks": ""
           },
           "bgcolor": "#E5ECF6",
           "caxis": {
            "gridcolor": "white",
            "linecolor": "white",
            "ticks": ""
           }
          },
          "title": {
           "x": 0.05
          },
          "xaxis": {
           "automargin": true,
           "gridcolor": "white",
           "linecolor": "white",
           "ticks": "",
           "title": {
            "standoff": 15
           },
           "zerolinecolor": "white",
           "zerolinewidth": 2
          },
          "yaxis": {
           "automargin": true,
           "gridcolor": "white",
           "linecolor": "white",
           "ticks": "",
           "title": {
            "standoff": 15
           },
           "zerolinecolor": "white",
           "zerolinewidth": 2
          }
         }
        }
       }
      },
      "text/html": [
       "<div>                            <div id=\"b50ffd5e-d99c-44fd-9ec7-5e3d6aa4cefd\" class=\"plotly-graph-div\" style=\"height:525px; width:100%;\"></div>            <script type=\"text/javascript\">                require([\"plotly\"], function(Plotly) {                    window.PLOTLYENV=window.PLOTLYENV || {};                                    if (document.getElementById(\"b50ffd5e-d99c-44fd-9ec7-5e3d6aa4cefd\")) {                    Plotly.newPlot(                        \"b50ffd5e-d99c-44fd-9ec7-5e3d6aa4cefd\",                        [{\"x\":[7419,4593,3734,3539],\"y\":[\"MainScreenAppear\",\"OffersScreenAppear\",\"CartScreenAppear\",\"PaymentScreenSuccessful\"],\"type\":\"funnel\"}],                        {\"template\":{\"data\":{\"bar\":[{\"error_x\":{\"color\":\"#2a3f5f\"},\"error_y\":{\"color\":\"#2a3f5f\"},\"marker\":{\"line\":{\"color\":\"#E5ECF6\",\"width\":0.5},\"pattern\":{\"fillmode\":\"overlay\",\"size\":10,\"solidity\":0.2}},\"type\":\"bar\"}],\"barpolar\":[{\"marker\":{\"line\":{\"color\":\"#E5ECF6\",\"width\":0.5},\"pattern\":{\"fillmode\":\"overlay\",\"size\":10,\"solidity\":0.2}},\"type\":\"barpolar\"}],\"carpet\":[{\"aaxis\":{\"endlinecolor\":\"#2a3f5f\",\"gridcolor\":\"white\",\"linecolor\":\"white\",\"minorgridcolor\":\"white\",\"startlinecolor\":\"#2a3f5f\"},\"baxis\":{\"endlinecolor\":\"#2a3f5f\",\"gridcolor\":\"white\",\"linecolor\":\"white\",\"minorgridcolor\":\"white\",\"startlinecolor\":\"#2a3f5f\"},\"type\":\"carpet\"}],\"choropleth\":[{\"colorbar\":{\"outlinewidth\":0,\"ticks\":\"\"},\"type\":\"choropleth\"}],\"contour\":[{\"colorbar\":{\"outlinewidth\":0,\"ticks\":\"\"},\"colorscale\":[[0.0,\"#0d0887\"],[0.1111111111111111,\"#46039f\"],[0.2222222222222222,\"#7201a8\"],[0.3333333333333333,\"#9c179e\"],[0.4444444444444444,\"#bd3786\"],[0.5555555555555556,\"#d8576b\"],[0.6666666666666666,\"#ed7953\"],[0.7777777777777778,\"#fb9f3a\"],[0.8888888888888888,\"#fdca26\"],[1.0,\"#f0f921\"]],\"type\":\"contour\"}],\"contourcarpet\":[{\"colorbar\":{\"outlinewidth\":0,\"ticks\":\"\"},\"type\":\"contourcarpet\"}],\"heatmap\":[{\"colorbar\":{\"outlinewidth\":0,\"ticks\":\"\"},\"colorscale\":[[0.0,\"#0d0887\"],[0.1111111111111111,\"#46039f\"],[0.2222222222222222,\"#7201a8\"],[0.3333333333333333,\"#9c179e\"],[0.4444444444444444,\"#bd3786\"],[0.5555555555555556,\"#d8576b\"],[0.6666666666666666,\"#ed7953\"],[0.7777777777777778,\"#fb9f3a\"],[0.8888888888888888,\"#fdca26\"],[1.0,\"#f0f921\"]],\"type\":\"heatmap\"}],\"heatmapgl\":[{\"colorbar\":{\"outlinewidth\":0,\"ticks\":\"\"},\"colorscale\":[[0.0,\"#0d0887\"],[0.1111111111111111,\"#46039f\"],[0.2222222222222222,\"#7201a8\"],[0.3333333333333333,\"#9c179e\"],[0.4444444444444444,\"#bd3786\"],[0.5555555555555556,\"#d8576b\"],[0.6666666666666666,\"#ed7953\"],[0.7777777777777778,\"#fb9f3a\"],[0.8888888888888888,\"#fdca26\"],[1.0,\"#f0f921\"]],\"type\":\"heatmapgl\"}],\"histogram\":[{\"marker\":{\"pattern\":{\"fillmode\":\"overlay\",\"size\":10,\"solidity\":0.2}},\"type\":\"histogram\"}],\"histogram2d\":[{\"colorbar\":{\"outlinewidth\":0,\"ticks\":\"\"},\"colorscale\":[[0.0,\"#0d0887\"],[0.1111111111111111,\"#46039f\"],[0.2222222222222222,\"#7201a8\"],[0.3333333333333333,\"#9c179e\"],[0.4444444444444444,\"#bd3786\"],[0.5555555555555556,\"#d8576b\"],[0.6666666666666666,\"#ed7953\"],[0.7777777777777778,\"#fb9f3a\"],[0.8888888888888888,\"#fdca26\"],[1.0,\"#f0f921\"]],\"type\":\"histogram2d\"}],\"histogram2dcontour\":[{\"colorbar\":{\"outlinewidth\":0,\"ticks\":\"\"},\"colorscale\":[[0.0,\"#0d0887\"],[0.1111111111111111,\"#46039f\"],[0.2222222222222222,\"#7201a8\"],[0.3333333333333333,\"#9c179e\"],[0.4444444444444444,\"#bd3786\"],[0.5555555555555556,\"#d8576b\"],[0.6666666666666666,\"#ed7953\"],[0.7777777777777778,\"#fb9f3a\"],[0.8888888888888888,\"#fdca26\"],[1.0,\"#f0f921\"]],\"type\":\"histogram2dcontour\"}],\"mesh3d\":[{\"colorbar\":{\"outlinewidth\":0,\"ticks\":\"\"},\"type\":\"mesh3d\"}],\"parcoords\":[{\"line\":{\"colorbar\":{\"outlinewidth\":0,\"ticks\":\"\"}},\"type\":\"parcoords\"}],\"pie\":[{\"automargin\":true,\"type\":\"pie\"}],\"scatter\":[{\"marker\":{\"colorbar\":{\"outlinewidth\":0,\"ticks\":\"\"}},\"type\":\"scatter\"}],\"scatter3d\":[{\"line\":{\"colorbar\":{\"outlinewidth\":0,\"ticks\":\"\"}},\"marker\":{\"colorbar\":{\"outlinewidth\":0,\"ticks\":\"\"}},\"type\":\"scatter3d\"}],\"scattercarpet\":[{\"marker\":{\"colorbar\":{\"outlinewidth\":0,\"ticks\":\"\"}},\"type\":\"scattercarpet\"}],\"scattergeo\":[{\"marker\":{\"colorbar\":{\"outlinewidth\":0,\"ticks\":\"\"}},\"type\":\"scattergeo\"}],\"scattergl\":[{\"marker\":{\"colorbar\":{\"outlinewidth\":0,\"ticks\":\"\"}},\"type\":\"scattergl\"}],\"scattermapbox\":[{\"marker\":{\"colorbar\":{\"outlinewidth\":0,\"ticks\":\"\"}},\"type\":\"scattermapbox\"}],\"scatterpolar\":[{\"marker\":{\"colorbar\":{\"outlinewidth\":0,\"ticks\":\"\"}},\"type\":\"scatterpolar\"}],\"scatterpolargl\":[{\"marker\":{\"colorbar\":{\"outlinewidth\":0,\"ticks\":\"\"}},\"type\":\"scatterpolargl\"}],\"scatterternary\":[{\"marker\":{\"colorbar\":{\"outlinewidth\":0,\"ticks\":\"\"}},\"type\":\"scatterternary\"}],\"surface\":[{\"colorbar\":{\"outlinewidth\":0,\"ticks\":\"\"},\"colorscale\":[[0.0,\"#0d0887\"],[0.1111111111111111,\"#46039f\"],[0.2222222222222222,\"#7201a8\"],[0.3333333333333333,\"#9c179e\"],[0.4444444444444444,\"#bd3786\"],[0.5555555555555556,\"#d8576b\"],[0.6666666666666666,\"#ed7953\"],[0.7777777777777778,\"#fb9f3a\"],[0.8888888888888888,\"#fdca26\"],[1.0,\"#f0f921\"]],\"type\":\"surface\"}],\"table\":[{\"cells\":{\"fill\":{\"color\":\"#EBF0F8\"},\"line\":{\"color\":\"white\"}},\"header\":{\"fill\":{\"color\":\"#C8D4E3\"},\"line\":{\"color\":\"white\"}},\"type\":\"table\"}]},\"layout\":{\"annotationdefaults\":{\"arrowcolor\":\"#2a3f5f\",\"arrowhead\":0,\"arrowwidth\":1},\"autotypenumbers\":\"strict\",\"coloraxis\":{\"colorbar\":{\"outlinewidth\":0,\"ticks\":\"\"}},\"colorscale\":{\"diverging\":[[0,\"#8e0152\"],[0.1,\"#c51b7d\"],[0.2,\"#de77ae\"],[0.3,\"#f1b6da\"],[0.4,\"#fde0ef\"],[0.5,\"#f7f7f7\"],[0.6,\"#e6f5d0\"],[0.7,\"#b8e186\"],[0.8,\"#7fbc41\"],[0.9,\"#4d9221\"],[1,\"#276419\"]],\"sequential\":[[0.0,\"#0d0887\"],[0.1111111111111111,\"#46039f\"],[0.2222222222222222,\"#7201a8\"],[0.3333333333333333,\"#9c179e\"],[0.4444444444444444,\"#bd3786\"],[0.5555555555555556,\"#d8576b\"],[0.6666666666666666,\"#ed7953\"],[0.7777777777777778,\"#fb9f3a\"],[0.8888888888888888,\"#fdca26\"],[1.0,\"#f0f921\"]],\"sequentialminus\":[[0.0,\"#0d0887\"],[0.1111111111111111,\"#46039f\"],[0.2222222222222222,\"#7201a8\"],[0.3333333333333333,\"#9c179e\"],[0.4444444444444444,\"#bd3786\"],[0.5555555555555556,\"#d8576b\"],[0.6666666666666666,\"#ed7953\"],[0.7777777777777778,\"#fb9f3a\"],[0.8888888888888888,\"#fdca26\"],[1.0,\"#f0f921\"]]},\"colorway\":[\"#636efa\",\"#EF553B\",\"#00cc96\",\"#ab63fa\",\"#FFA15A\",\"#19d3f3\",\"#FF6692\",\"#B6E880\",\"#FF97FF\",\"#FECB52\"],\"font\":{\"color\":\"#2a3f5f\"},\"geo\":{\"bgcolor\":\"white\",\"lakecolor\":\"white\",\"landcolor\":\"#E5ECF6\",\"showlakes\":true,\"showland\":true,\"subunitcolor\":\"white\"},\"hoverlabel\":{\"align\":\"left\"},\"hovermode\":\"closest\",\"mapbox\":{\"style\":\"light\"},\"paper_bgcolor\":\"white\",\"plot_bgcolor\":\"#E5ECF6\",\"polar\":{\"angularaxis\":{\"gridcolor\":\"white\",\"linecolor\":\"white\",\"ticks\":\"\"},\"bgcolor\":\"#E5ECF6\",\"radialaxis\":{\"gridcolor\":\"white\",\"linecolor\":\"white\",\"ticks\":\"\"}},\"scene\":{\"xaxis\":{\"backgroundcolor\":\"#E5ECF6\",\"gridcolor\":\"white\",\"gridwidth\":2,\"linecolor\":\"white\",\"showbackground\":true,\"ticks\":\"\",\"zerolinecolor\":\"white\"},\"yaxis\":{\"backgroundcolor\":\"#E5ECF6\",\"gridcolor\":\"white\",\"gridwidth\":2,\"linecolor\":\"white\",\"showbackground\":true,\"ticks\":\"\",\"zerolinecolor\":\"white\"},\"zaxis\":{\"backgroundcolor\":\"#E5ECF6\",\"gridcolor\":\"white\",\"gridwidth\":2,\"linecolor\":\"white\",\"showbackground\":true,\"ticks\":\"\",\"zerolinecolor\":\"white\"}},\"shapedefaults\":{\"line\":{\"color\":\"#2a3f5f\"}},\"ternary\":{\"aaxis\":{\"gridcolor\":\"white\",\"linecolor\":\"white\",\"ticks\":\"\"},\"baxis\":{\"gridcolor\":\"white\",\"linecolor\":\"white\",\"ticks\":\"\"},\"bgcolor\":\"#E5ECF6\",\"caxis\":{\"gridcolor\":\"white\",\"linecolor\":\"white\",\"ticks\":\"\"}},\"title\":{\"x\":0.05},\"xaxis\":{\"automargin\":true,\"gridcolor\":\"white\",\"linecolor\":\"white\",\"ticks\":\"\",\"title\":{\"standoff\":15},\"zerolinecolor\":\"white\",\"zerolinewidth\":2},\"yaxis\":{\"automargin\":true,\"gridcolor\":\"white\",\"linecolor\":\"white\",\"ticks\":\"\",\"title\":{\"standoff\":15},\"zerolinecolor\":\"white\",\"zerolinewidth\":2}}}},                        {\"responsive\": true}                    ).then(function(){\n",
       "                            \n",
       "var gd = document.getElementById('b50ffd5e-d99c-44fd-9ec7-5e3d6aa4cefd');\n",
       "var x = new MutationObserver(function (mutations, observer) {{\n",
       "        var display = window.getComputedStyle(gd).display;\n",
       "        if (!display || display === 'none') {{\n",
       "            console.log([gd, 'removed!']);\n",
       "            Plotly.purge(gd);\n",
       "            observer.disconnect();\n",
       "        }}\n",
       "}});\n",
       "\n",
       "// Listen for the removal of the full notebook cells\n",
       "var notebookContainer = gd.closest('#notebook-container');\n",
       "if (notebookContainer) {{\n",
       "    x.observe(notebookContainer, {childList: true});\n",
       "}}\n",
       "\n",
       "// Listen for the clearing of the current output cell\n",
       "var outputEl = gd.closest('.output');\n",
       "if (outputEl) {{\n",
       "    x.observe(outputEl, {childList: true});\n",
       "}}\n",
       "\n",
       "                        })                };                });            </script>        </div>"
      ]
     },
     "metadata": {},
     "output_type": "display_data"
    }
   ],
   "source": [
    "user_funnel_visualization = users_data_funnel.reset_index()\n",
    "fig = go.Figure(go.Funnel(\n",
    "    y = user_funnel_visualization['event_name'],\n",
    "    x = user_funnel_visualization['device_id_hash']\n",
    "    ))\n",
    "fig.show()"
   ]
  },
  {
   "cell_type": "markdown",
   "metadata": {},
   "source": [
    "    Now, we change the positions of the total logs, as follows:"
   ]
  },
  {
   "cell_type": "code",
   "execution_count": 203,
   "metadata": {},
   "outputs": [
    {
     "data": {
      "text/html": [
       "<div>\n",
       "<style scoped>\n",
       "    .dataframe tbody tr th:only-of-type {\n",
       "        vertical-align: middle;\n",
       "    }\n",
       "\n",
       "    .dataframe tbody tr th {\n",
       "        vertical-align: top;\n",
       "    }\n",
       "\n",
       "    .dataframe thead th {\n",
       "        text-align: right;\n",
       "    }\n",
       "</style>\n",
       "<table border=\"1\" class=\"dataframe\">\n",
       "  <thead>\n",
       "    <tr style=\"text-align: right;\">\n",
       "      <th></th>\n",
       "      <th>device_id_hash</th>\n",
       "    </tr>\n",
       "    <tr>\n",
       "      <th>event_name</th>\n",
       "      <th></th>\n",
       "    </tr>\n",
       "  </thead>\n",
       "  <tbody>\n",
       "    <tr>\n",
       "      <th>MainScreenAppear</th>\n",
       "      <td>NaN</td>\n",
       "    </tr>\n",
       "    <tr>\n",
       "      <th>OffersScreenAppear</th>\n",
       "      <td>7419.0</td>\n",
       "    </tr>\n",
       "    <tr>\n",
       "      <th>CartScreenAppear</th>\n",
       "      <td>4593.0</td>\n",
       "    </tr>\n",
       "    <tr>\n",
       "      <th>PaymentScreenSuccessful</th>\n",
       "      <td>3734.0</td>\n",
       "    </tr>\n",
       "  </tbody>\n",
       "</table>\n",
       "</div>"
      ],
      "text/plain": [
       "                         device_id_hash\n",
       "event_name                             \n",
       "MainScreenAppear                    NaN\n",
       "OffersScreenAppear               7419.0\n",
       "CartScreenAppear                 4593.0\n",
       "PaymentScreenSuccessful          3734.0"
      ]
     },
     "execution_count": 203,
     "metadata": {},
     "output_type": "execute_result"
    }
   ],
   "source": [
    "users_data_funnel.shift()"
   ]
  },
  {
   "cell_type": "markdown",
   "metadata": {},
   "source": [
    "    Calculating the ratio of sequence users from the first event to the next event to the last, as follows:"
   ]
  },
  {
   "cell_type": "code",
   "execution_count": 204,
   "metadata": {},
   "outputs": [
    {
     "data": {
      "text/html": [
       "<div>\n",
       "<style scoped>\n",
       "    .dataframe tbody tr th:only-of-type {\n",
       "        vertical-align: middle;\n",
       "    }\n",
       "\n",
       "    .dataframe tbody tr th {\n",
       "        vertical-align: top;\n",
       "    }\n",
       "\n",
       "    .dataframe thead th {\n",
       "        text-align: right;\n",
       "    }\n",
       "</style>\n",
       "<table border=\"1\" class=\"dataframe\">\n",
       "  <thead>\n",
       "    <tr style=\"text-align: right;\">\n",
       "      <th></th>\n",
       "      <th>device_id_hash</th>\n",
       "    </tr>\n",
       "    <tr>\n",
       "      <th>event_name</th>\n",
       "      <th></th>\n",
       "    </tr>\n",
       "  </thead>\n",
       "  <tbody>\n",
       "    <tr>\n",
       "      <th>MainScreenAppear</th>\n",
       "      <td>1.00</td>\n",
       "    </tr>\n",
       "    <tr>\n",
       "      <th>OffersScreenAppear</th>\n",
       "      <td>0.62</td>\n",
       "    </tr>\n",
       "    <tr>\n",
       "      <th>CartScreenAppear</th>\n",
       "      <td>0.81</td>\n",
       "    </tr>\n",
       "    <tr>\n",
       "      <th>PaymentScreenSuccessful</th>\n",
       "      <td>0.95</td>\n",
       "    </tr>\n",
       "  </tbody>\n",
       "</table>\n",
       "</div>"
      ],
      "text/plain": [
       "                         device_id_hash\n",
       "event_name                             \n",
       "MainScreenAppear                   1.00\n",
       "OffersScreenAppear                 0.62\n",
       "CartScreenAppear                   0.81\n",
       "PaymentScreenSuccessful            0.95"
      ]
     },
     "execution_count": 204,
     "metadata": {},
     "output_type": "execute_result"
    }
   ],
   "source": [
    "ratio_data = round((users_data_funnel / users_data_funnel.shift()).fillna(1), 2)\n",
    "ratio_data"
   ]
  },
  {
   "cell_type": "markdown",
   "metadata": {},
   "source": [
    "    Findings:\n",
    "    \n",
    "    - The ratio of users to clicking the Offers Screen is 62% once they are on the Home Screen.\n",
    "    - The ratio of users to adding products to the Cart Screen is 81% after they click on the Offer Screen.\n",
    "    - The ratio of users to complete payments is 95% of users who add products to the Cart."
   ]
  },
  {
   "cell_type": "markdown",
   "metadata": {},
   "source": [
    "[Back to Contents](#tableofcontents)"
   ]
  },
  {
   "cell_type": "markdown",
   "metadata": {},
   "source": [
    "### At what stage did we lose a lot of users?"
   ]
  },
  {
   "cell_type": "markdown",
   "metadata": {},
   "source": [
    "    We sould clap eyes again for 'ratio_data' table, as follows:"
   ]
  },
  {
   "cell_type": "code",
   "execution_count": 205,
   "metadata": {},
   "outputs": [
    {
     "data": {
      "text/html": [
       "<div>\n",
       "<style scoped>\n",
       "    .dataframe tbody tr th:only-of-type {\n",
       "        vertical-align: middle;\n",
       "    }\n",
       "\n",
       "    .dataframe tbody tr th {\n",
       "        vertical-align: top;\n",
       "    }\n",
       "\n",
       "    .dataframe thead th {\n",
       "        text-align: right;\n",
       "    }\n",
       "</style>\n",
       "<table border=\"1\" class=\"dataframe\">\n",
       "  <thead>\n",
       "    <tr style=\"text-align: right;\">\n",
       "      <th></th>\n",
       "      <th>device_id_hash</th>\n",
       "    </tr>\n",
       "    <tr>\n",
       "      <th>event_name</th>\n",
       "      <th></th>\n",
       "    </tr>\n",
       "  </thead>\n",
       "  <tbody>\n",
       "    <tr>\n",
       "      <th>MainScreenAppear</th>\n",
       "      <td>1.00</td>\n",
       "    </tr>\n",
       "    <tr>\n",
       "      <th>OffersScreenAppear</th>\n",
       "      <td>0.62</td>\n",
       "    </tr>\n",
       "    <tr>\n",
       "      <th>CartScreenAppear</th>\n",
       "      <td>0.81</td>\n",
       "    </tr>\n",
       "    <tr>\n",
       "      <th>PaymentScreenSuccessful</th>\n",
       "      <td>0.95</td>\n",
       "    </tr>\n",
       "  </tbody>\n",
       "</table>\n",
       "</div>"
      ],
      "text/plain": [
       "                         device_id_hash\n",
       "event_name                             \n",
       "MainScreenAppear                   1.00\n",
       "OffersScreenAppear                 0.62\n",
       "CartScreenAppear                   0.81\n",
       "PaymentScreenSuccessful            0.95"
      ]
     },
     "execution_count": 205,
     "metadata": {},
     "output_type": "execute_result"
    }
   ],
   "source": [
    "ratio_data"
   ]
  },
  {
   "cell_type": "markdown",
   "metadata": {},
   "source": [
    "# Insight:\n",
    "    - We lost most of our users at the Offers Screen stage of 48%; in other words, only 62% of users clicked on Offers from their first Home Screen."
   ]
  },
  {
   "cell_type": "markdown",
   "metadata": {},
   "source": [
    "[Back to Contents](#tableofcontents)"
   ]
  },
  {
   "cell_type": "markdown",
   "metadata": {},
   "source": [
    "### What percentage of users successfully complete all stages, from first event to checkout?"
   ]
  },
  {
   "cell_type": "code",
   "execution_count": 206,
   "metadata": {},
   "outputs": [
    {
     "name": "stdout",
     "output_type": "stream",
     "text": [
      "0.47701846610055265 make it from the main screen to successful payment\n"
     ]
    }
   ],
   "source": [
    "print('{} make it from the main screen to successful payment'\n",
    "      .format((users_per_events.loc['PaymentScreenSuccessful'] / users_per_events.loc['MainScreenAppear'])['device_id_hash']))"
   ]
  },
  {
   "cell_type": "markdown",
   "metadata": {},
   "source": [
    "    Let's try another approach, starting with looking at the 'users_per_events' table, as follows:"
   ]
  },
  {
   "cell_type": "code",
   "execution_count": 207,
   "metadata": {},
   "outputs": [
    {
     "data": {
      "text/html": [
       "<div>\n",
       "<style scoped>\n",
       "    .dataframe tbody tr th:only-of-type {\n",
       "        vertical-align: middle;\n",
       "    }\n",
       "\n",
       "    .dataframe tbody tr th {\n",
       "        vertical-align: top;\n",
       "    }\n",
       "\n",
       "    .dataframe thead th {\n",
       "        text-align: right;\n",
       "    }\n",
       "</style>\n",
       "<table border=\"1\" class=\"dataframe\">\n",
       "  <thead>\n",
       "    <tr style=\"text-align: right;\">\n",
       "      <th></th>\n",
       "      <th>device_id_hash</th>\n",
       "    </tr>\n",
       "    <tr>\n",
       "      <th>event_name</th>\n",
       "      <th></th>\n",
       "    </tr>\n",
       "  </thead>\n",
       "  <tbody>\n",
       "    <tr>\n",
       "      <th>MainScreenAppear</th>\n",
       "      <td>7419</td>\n",
       "    </tr>\n",
       "    <tr>\n",
       "      <th>OffersScreenAppear</th>\n",
       "      <td>4593</td>\n",
       "    </tr>\n",
       "    <tr>\n",
       "      <th>CartScreenAppear</th>\n",
       "      <td>3734</td>\n",
       "    </tr>\n",
       "    <tr>\n",
       "      <th>PaymentScreenSuccessful</th>\n",
       "      <td>3539</td>\n",
       "    </tr>\n",
       "    <tr>\n",
       "      <th>Tutorial</th>\n",
       "      <td>840</td>\n",
       "    </tr>\n",
       "  </tbody>\n",
       "</table>\n",
       "</div>"
      ],
      "text/plain": [
       "                         device_id_hash\n",
       "event_name                             \n",
       "MainScreenAppear                   7419\n",
       "OffersScreenAppear                 4593\n",
       "CartScreenAppear                   3734\n",
       "PaymentScreenSuccessful            3539\n",
       "Tutorial                            840"
      ]
     },
     "execution_count": 207,
     "metadata": {},
     "output_type": "execute_result"
    }
   ],
   "source": [
    "users_per_events"
   ]
  },
  {
   "cell_type": "markdown",
   "metadata": {},
   "source": [
    "    Now, we calculate the percentage of users who make the entire journey from their first event to payment, as follows:"
   ]
  },
  {
   "cell_type": "code",
   "execution_count": 209,
   "metadata": {},
   "outputs": [
    {
     "name": "stdout",
     "output_type": "stream",
     "text": [
      "The percentage of users who make the entire journey from the first event to the checkout stage is 47.7%\n"
     ]
    }
   ],
   "source": [
    "percentage = ((users_per_events.loc['PaymentScreenSuccessful'] / users_per_events.loc['MainScreenAppear']\n",
    "           )['device_id_hash']) * 100\n",
    "\n",
    "print(f'The percentage of users who make the entire journey from the first event to the checkout stage is \\\n",
    "{round(percentage, 2)}%')"
   ]
  },
  {
   "cell_type": "markdown",
   "metadata": {},
   "source": [
    "# Findings:\n",
    "    - The percentage of users who make the entire journey from the first event to the checkout stage is 47.7%.\n",
    "    \n",
    "    \n",
    "# Insights:\n",
    "    - We cannot assume that 47.7% is good or not because there is no data comparison from other months."
   ]
  },
  {
   "cell_type": "markdown",
   "metadata": {},
   "source": [
    "### Conclusions from Step 4. Learning the Event Funnel"
   ]
  },
  {
   "cell_type": "markdown",
   "metadata": {},
   "source": [
    "    1. We have five events in the logs, which are:\n",
    "    - Main Screen Appear of 117328 logs.\n",
    "    - Offers Screen Appear of 46333 logs.\n",
    "    - Cart Screen Appear of 42303 logs.\n",
    "    - Payment Screen Successful of 33918 logs.\n",
    "    - Tutorial of 1005 logs.\n",
    "    \n",
    "    2. We have 7543 users in the logs, with the detail of actions they have performed are:\n",
    "    - 0.98% of users in the logs has performed on event of Main Screen Appear.\n",
    "    - 0.61% of users in the logs has performed on event of Offers Screen Appear.\n",
    "    - 0.50% of users in the logs has performed on event of Cart Screen Appear.\n",
    "    - 0.47% of users in the logs has performed on event of Payment Screen Successful.\n",
    "    - 0.11% of users in the logs has performed on event of Tutorial.\n",
    "    \n",
    "    3. The 5 events in the log, in our opinion the sequence of events starts from the Main Screen event when the user first visits the application, followed by clicking the Offers Screen menu, then clicking Cart Screen, and finally Payment Screen Successful to complete the order. Meanwhile, Tutorial events are unrelated to the sequence of events.\n",
    "    \n",
    "    4. Then, we exclude Tutorials for further analysis.\n",
    "    \n",
    "    5. The ratio of users to clicking the Offers Screen is 62% once they are on the Home Screen.\n",
    "    \n",
    "    6. The ratio of users to adding products to the Cart Screen is 81% after they click on the Offer Screen.\n",
    "    \n",
    "    7. The ratio of users to complete payments is 95% of users who add products to Cart.\n",
    "    \n",
    "    8. We lost most of our users at the Offers Screen stage of 48%; on the other words, only 62% of users clicked on Offers from their first Home Screen.\n",
    "    \n",
    "    9. The percentage of users who make the entire journey from the first event to the checkout stage is 47.7%. We cannot assume that is good or not because there is no data comparison from other months."
   ]
  },
  {
   "cell_type": "markdown",
   "metadata": {},
   "source": [
    "[Back to Contents](#tableofcontents)"
   ]
  },
  {
   "cell_type": "markdown",
   "metadata": {},
   "source": [
    "## Learning Experimental Results\n",
    "    - Step 5. Learning the Results of Our Experiment"
   ]
  },
  {
   "cell_type": "markdown",
   "metadata": {},
   "source": [
    "<div style=\"border:solid black 2px; padding: 20px\">\n",
    "    \n",
    "    In this stage, we will learn the results of our experiment by reaching some cases of:\n",
    "    - How many users are there in each groups?\n",
    "    - We have two control groups in A/A testing, where we check our mechanics and calculations\n",
    "    - Select the most popular events\n",
    "    - Do the same for the group of users shown the latest font version\n",
    "    - Level of Significance\n",
    "    \n",
    "</div>"
   ]
  },
  {
   "cell_type": "markdown",
   "metadata": {},
   "source": [
    "### How many users are there in each groups?"
   ]
  },
  {
   "cell_type": "code",
   "execution_count": 210,
   "metadata": {},
   "outputs": [
    {
     "data": {
      "text/plain": [
       "exp_id\n",
       "246    2484\n",
       "247    2517\n",
       "248    2537\n",
       "Name: device_id_hash, dtype: int64"
      ]
     },
     "execution_count": 210,
     "metadata": {},
     "output_type": "execute_result"
    }
   ],
   "source": [
    "users_per_groups = events_data.pivot_table(index='exp_id', values='device_id_hash', aggfunc=lambda x: x.nunique())['device_id_hash']\n",
    "users_per_groups"
   ]
  },
  {
   "cell_type": "markdown",
   "metadata": {},
   "source": [
    "    We will try another approach starting by checking the 'events_data_filter' table again, as follows:"
   ]
  },
  {
   "cell_type": "code",
   "execution_count": 211,
   "metadata": {},
   "outputs": [
    {
     "data": {
      "text/html": [
       "<div>\n",
       "<style scoped>\n",
       "    .dataframe tbody tr th:only-of-type {\n",
       "        vertical-align: middle;\n",
       "    }\n",
       "\n",
       "    .dataframe tbody tr th {\n",
       "        vertical-align: top;\n",
       "    }\n",
       "\n",
       "    .dataframe thead th {\n",
       "        text-align: right;\n",
       "    }\n",
       "</style>\n",
       "<table border=\"1\" class=\"dataframe\">\n",
       "  <thead>\n",
       "    <tr style=\"text-align: right;\">\n",
       "      <th></th>\n",
       "      <th>event_name</th>\n",
       "      <th>device_id_hash</th>\n",
       "      <th>event_timestamp</th>\n",
       "      <th>exp_id</th>\n",
       "      <th>date_time</th>\n",
       "      <th>date</th>\n",
       "    </tr>\n",
       "  </thead>\n",
       "  <tbody>\n",
       "    <tr>\n",
       "      <th>2826</th>\n",
       "      <td>Tutorial</td>\n",
       "      <td>3737462046622621720</td>\n",
       "      <td>1564618048</td>\n",
       "      <td>246</td>\n",
       "      <td>2019-08-01 00:07:28</td>\n",
       "      <td>2019-08-01</td>\n",
       "    </tr>\n",
       "    <tr>\n",
       "      <th>2827</th>\n",
       "      <td>MainScreenAppear</td>\n",
       "      <td>3737462046622621720</td>\n",
       "      <td>1564618080</td>\n",
       "      <td>246</td>\n",
       "      <td>2019-08-01 00:08:00</td>\n",
       "      <td>2019-08-01</td>\n",
       "    </tr>\n",
       "    <tr>\n",
       "      <th>2828</th>\n",
       "      <td>MainScreenAppear</td>\n",
       "      <td>3737462046622621720</td>\n",
       "      <td>1564618135</td>\n",
       "      <td>246</td>\n",
       "      <td>2019-08-01 00:08:55</td>\n",
       "      <td>2019-08-01</td>\n",
       "    </tr>\n",
       "    <tr>\n",
       "      <th>2829</th>\n",
       "      <td>OffersScreenAppear</td>\n",
       "      <td>3737462046622621720</td>\n",
       "      <td>1564618138</td>\n",
       "      <td>246</td>\n",
       "      <td>2019-08-01 00:08:58</td>\n",
       "      <td>2019-08-01</td>\n",
       "    </tr>\n",
       "    <tr>\n",
       "      <th>2830</th>\n",
       "      <td>MainScreenAppear</td>\n",
       "      <td>1433840883824088890</td>\n",
       "      <td>1564618139</td>\n",
       "      <td>247</td>\n",
       "      <td>2019-08-01 00:08:59</td>\n",
       "      <td>2019-08-01</td>\n",
       "    </tr>\n",
       "  </tbody>\n",
       "</table>\n",
       "</div>"
      ],
      "text/plain": [
       "              event_name       device_id_hash  event_timestamp  exp_id  \\\n",
       "2826            Tutorial  3737462046622621720       1564618048     246   \n",
       "2827    MainScreenAppear  3737462046622621720       1564618080     246   \n",
       "2828    MainScreenAppear  3737462046622621720       1564618135     246   \n",
       "2829  OffersScreenAppear  3737462046622621720       1564618138     246   \n",
       "2830    MainScreenAppear  1433840883824088890       1564618139     247   \n",
       "\n",
       "               date_time       date  \n",
       "2826 2019-08-01 00:07:28 2019-08-01  \n",
       "2827 2019-08-01 00:08:00 2019-08-01  \n",
       "2828 2019-08-01 00:08:55 2019-08-01  \n",
       "2829 2019-08-01 00:08:58 2019-08-01  \n",
       "2830 2019-08-01 00:08:59 2019-08-01  "
      ]
     },
     "execution_count": 211,
     "metadata": {},
     "output_type": "execute_result"
    }
   ],
   "source": [
    "events_data_filter.head()"
   ]
  },
  {
   "cell_type": "markdown",
   "metadata": {},
   "source": [
    "    Then, grouping the unique users of each group, as follows:"
   ]
  },
  {
   "cell_type": "code",
   "execution_count": 212,
   "metadata": {},
   "outputs": [
    {
     "data": {
      "text/html": [
       "<div>\n",
       "<style scoped>\n",
       "    .dataframe tbody tr th:only-of-type {\n",
       "        vertical-align: middle;\n",
       "    }\n",
       "\n",
       "    .dataframe tbody tr th {\n",
       "        vertical-align: top;\n",
       "    }\n",
       "\n",
       "    .dataframe thead th {\n",
       "        text-align: right;\n",
       "    }\n",
       "</style>\n",
       "<table border=\"1\" class=\"dataframe\">\n",
       "  <thead>\n",
       "    <tr style=\"text-align: right;\">\n",
       "      <th></th>\n",
       "      <th>device_id_hash</th>\n",
       "    </tr>\n",
       "    <tr>\n",
       "      <th>exp_id</th>\n",
       "      <th></th>\n",
       "    </tr>\n",
       "  </thead>\n",
       "  <tbody>\n",
       "    <tr>\n",
       "      <th>246</th>\n",
       "      <td>2484</td>\n",
       "    </tr>\n",
       "    <tr>\n",
       "      <th>247</th>\n",
       "      <td>2513</td>\n",
       "    </tr>\n",
       "    <tr>\n",
       "      <th>248</th>\n",
       "      <td>2537</td>\n",
       "    </tr>\n",
       "  </tbody>\n",
       "</table>\n",
       "</div>"
      ],
      "text/plain": [
       "        device_id_hash\n",
       "exp_id                \n",
       "246               2484\n",
       "247               2513\n",
       "248               2537"
      ]
     },
     "execution_count": 212,
     "metadata": {},
     "output_type": "execute_result"
    }
   ],
   "source": [
    "user_per_groups = events_data_filter.pivot_table(index='exp_id', values='device_id_hash', aggfunc='nunique')\n",
    "user_per_groups"
   ]
  },
  {
   "cell_type": "markdown",
   "metadata": {},
   "source": [
    "    Findings:\n",
    "    \n",
    "    - There are 2484 users in group 246, 2513 users in group 247 and 2537 users in group 248."
   ]
  },
  {
   "cell_type": "markdown",
   "metadata": {},
   "source": [
    "[Back to Contents](#tableofcontents)"
   ]
  },
  {
   "cell_type": "markdown",
   "metadata": {},
   "source": [
    "### We have two control groups in A/A testing, where we check our mechanics and calculations\n",
    "    \n",
    "    - Observe whether there is a statistically significant difference between samples 246 and 247."
   ]
  },
  {
   "cell_type": "markdown",
   "metadata": {},
   "source": [
    "    First, we will start by opening the 'events_data' table, as follows:"
   ]
  },
  {
   "cell_type": "code",
   "execution_count": 71,
   "metadata": {},
   "outputs": [
    {
     "data": {
      "text/html": [
       "<div>\n",
       "<style scoped>\n",
       "    .dataframe tbody tr th:only-of-type {\n",
       "        vertical-align: middle;\n",
       "    }\n",
       "\n",
       "    .dataframe tbody tr th {\n",
       "        vertical-align: top;\n",
       "    }\n",
       "\n",
       "    .dataframe thead th {\n",
       "        text-align: right;\n",
       "    }\n",
       "</style>\n",
       "<table border=\"1\" class=\"dataframe\">\n",
       "  <thead>\n",
       "    <tr style=\"text-align: right;\">\n",
       "      <th></th>\n",
       "      <th>event_name</th>\n",
       "      <th>device_id_hash</th>\n",
       "      <th>event_timestamp</th>\n",
       "      <th>exp_id</th>\n",
       "      <th>date_time</th>\n",
       "      <th>date</th>\n",
       "    </tr>\n",
       "  </thead>\n",
       "  <tbody>\n",
       "    <tr>\n",
       "      <th>1989</th>\n",
       "      <td>MainScreenAppear</td>\n",
       "      <td>7701922487875823903</td>\n",
       "      <td>1564606857</td>\n",
       "      <td>247</td>\n",
       "      <td>2019-07-31 21:00:57</td>\n",
       "      <td>2019-07-31</td>\n",
       "    </tr>\n",
       "    <tr>\n",
       "      <th>1990</th>\n",
       "      <td>MainScreenAppear</td>\n",
       "      <td>2539077412200498909</td>\n",
       "      <td>1564606905</td>\n",
       "      <td>247</td>\n",
       "      <td>2019-07-31 21:01:45</td>\n",
       "      <td>2019-07-31</td>\n",
       "    </tr>\n",
       "    <tr>\n",
       "      <th>1991</th>\n",
       "      <td>OffersScreenAppear</td>\n",
       "      <td>3286987355161301427</td>\n",
       "      <td>1564606941</td>\n",
       "      <td>248</td>\n",
       "      <td>2019-07-31 21:02:21</td>\n",
       "      <td>2019-07-31</td>\n",
       "    </tr>\n",
       "    <tr>\n",
       "      <th>1992</th>\n",
       "      <td>OffersScreenAppear</td>\n",
       "      <td>3187166762535343300</td>\n",
       "      <td>1564606943</td>\n",
       "      <td>247</td>\n",
       "      <td>2019-07-31 21:02:23</td>\n",
       "      <td>2019-07-31</td>\n",
       "    </tr>\n",
       "    <tr>\n",
       "      <th>1993</th>\n",
       "      <td>MainScreenAppear</td>\n",
       "      <td>1118952406011435924</td>\n",
       "      <td>1564607005</td>\n",
       "      <td>248</td>\n",
       "      <td>2019-07-31 21:03:25</td>\n",
       "      <td>2019-07-31</td>\n",
       "    </tr>\n",
       "  </tbody>\n",
       "</table>\n",
       "</div>"
      ],
      "text/plain": [
       "              event_name       device_id_hash  event_timestamp  exp_id  \\\n",
       "1989    MainScreenAppear  7701922487875823903       1564606857     247   \n",
       "1990    MainScreenAppear  2539077412200498909       1564606905     247   \n",
       "1991  OffersScreenAppear  3286987355161301427       1564606941     248   \n",
       "1992  OffersScreenAppear  3187166762535343300       1564606943     247   \n",
       "1993    MainScreenAppear  1118952406011435924       1564607005     248   \n",
       "\n",
       "               date_time       date  \n",
       "1989 2019-07-31 21:00:57 2019-07-31  \n",
       "1990 2019-07-31 21:01:45 2019-07-31  \n",
       "1991 2019-07-31 21:02:21 2019-07-31  \n",
       "1992 2019-07-31 21:02:23 2019-07-31  \n",
       "1993 2019-07-31 21:03:25 2019-07-31  "
      ]
     },
     "execution_count": 71,
     "metadata": {},
     "output_type": "execute_result"
    }
   ],
   "source": [
    "events_data.head()"
   ]
  },
  {
   "cell_type": "code",
   "execution_count": 213,
   "metadata": {},
   "outputs": [
    {
     "data": {
      "text/html": [
       "<div>\n",
       "<style scoped>\n",
       "    .dataframe tbody tr th:only-of-type {\n",
       "        vertical-align: middle;\n",
       "    }\n",
       "\n",
       "    .dataframe tbody tr th {\n",
       "        vertical-align: top;\n",
       "    }\n",
       "\n",
       "    .dataframe thead th {\n",
       "        text-align: right;\n",
       "    }\n",
       "</style>\n",
       "<table border=\"1\" class=\"dataframe\">\n",
       "  <thead>\n",
       "    <tr style=\"text-align: right;\">\n",
       "      <th>exp_id</th>\n",
       "      <th>246</th>\n",
       "      <th>247</th>\n",
       "      <th>248</th>\n",
       "    </tr>\n",
       "    <tr>\n",
       "      <th>event_name</th>\n",
       "      <th></th>\n",
       "      <th></th>\n",
       "      <th></th>\n",
       "    </tr>\n",
       "  </thead>\n",
       "  <tbody>\n",
       "    <tr>\n",
       "      <th>CartScreenAppear</th>\n",
       "      <td>1266</td>\n",
       "      <td>1239</td>\n",
       "      <td>1231</td>\n",
       "    </tr>\n",
       "    <tr>\n",
       "      <th>MainScreenAppear</th>\n",
       "      <td>2450</td>\n",
       "      <td>2479</td>\n",
       "      <td>2494</td>\n",
       "    </tr>\n",
       "    <tr>\n",
       "      <th>OffersScreenAppear</th>\n",
       "      <td>1542</td>\n",
       "      <td>1524</td>\n",
       "      <td>1531</td>\n",
       "    </tr>\n",
       "    <tr>\n",
       "      <th>PaymentScreenSuccessful</th>\n",
       "      <td>1200</td>\n",
       "      <td>1158</td>\n",
       "      <td>1182</td>\n",
       "    </tr>\n",
       "    <tr>\n",
       "      <th>Tutorial</th>\n",
       "      <td>278</td>\n",
       "      <td>284</td>\n",
       "      <td>281</td>\n",
       "    </tr>\n",
       "  </tbody>\n",
       "</table>\n",
       "</div>"
      ],
      "text/plain": [
       "exp_id                    246   247   248\n",
       "event_name                               \n",
       "CartScreenAppear         1266  1239  1231\n",
       "MainScreenAppear         2450  2479  2494\n",
       "OffersScreenAppear       1542  1524  1531\n",
       "PaymentScreenSuccessful  1200  1158  1182\n",
       "Tutorial                  278   284   281"
      ]
     },
     "execution_count": 213,
     "metadata": {},
     "output_type": "execute_result"
    }
   ],
   "source": [
    "users_events_per_groups = events_data.pivot_table(index='event_name', values='device_id_hash', columns='exp_id', aggfunc=lambda x: x.nunique())\n",
    "users_events_per_groups"
   ]
  },
  {
   "cell_type": "markdown",
   "metadata": {},
   "source": [
    "    Next, we will formulate the testing hypothesis, as follows:\n",
    "    \n",
    "# Formulation of Hypothesis testing\n",
    "    - The significance level / \"alpha\" value to be used = 0.01.\n",
    "    - We will use the Z-Test Statistics approach.\n",
    "    - Ho = The proportion between group samples was statistically the same (=)\n",
    "    - H1 = the proportion between group samples was statistically significant not the same (/=)"
   ]
  },
  {
   "cell_type": "markdown",
   "metadata": {},
   "source": [
    "    Now, we are going to define a formula for checking a statistically significant difference between group samples, for the steps as follows:\n",
    "    - proportion of successes in the first group.\n",
    "    - proportion of successes in the second group.\n",
    "    - proportion of successes in the combined dataset.\n",
    "    - difference in proportions in datasets.\n",
    "    - calculate statistics in standard deviations of the standard normal distribution.\n",
    "    - set standard normal distribution (mean 0, standard deviation 1).\n",
    "    - calculate statistics in standard deviations of the standard normal distribution."
   ]
  },
  {
   "cell_type": "code",
   "execution_count": 214,
   "metadata": {},
   "outputs": [],
   "source": [
    "def check_hypothesis(successes1, successes2, trials1, trials2, alpha=0.01):\n",
    "    \n",
    "    p1 = successes1/trials1\n",
    "\n",
    "    \n",
    "    p2 = successes2/trials2\n",
    "\n",
    "    \n",
    "    p_combined = (successes1 + successes2) / (trials1 + trials2)\n",
    "\n",
    "    \n",
    "    difference = p1 - p2\n",
    "\n",
    "    \n",
    "    z_value = difference / math.sqrt(p_combined * (1 - p_combined) * (1/trials1 + 1/trials2))\n",
    "\n",
    "    \n",
    "    distr = stats.norm(0, 1)\n",
    "\n",
    "    \n",
    "    z_value = difference / math.sqrt(p_combined * (1 - p_combined) * (1/trials1 + 1/trials2))\n",
    "\n",
    "\n",
    "    p_value = (1 - distr.cdf(abs(z_value))) * 2\n",
    "\n",
    "    print('p-value: ', p_value)\n",
    "\n",
    "    if (p_value < alpha):\n",
    "        print(\"Reject the null hypothesis: there is a significant difference between the proportions\")\n",
    "    else:\n",
    "        print(\"Failed to reject the null hypothesis, there is no reason to consider the proportions different\")"
   ]
  },
  {
   "cell_type": "markdown",
   "metadata": {},
   "source": [
    "    Insights:\n",
    "    \n",
    "    - To answer this question, we will examine statistically significant differences between sample groups in the following questions."
   ]
  },
  {
   "cell_type": "markdown",
   "metadata": {},
   "source": [
    "[Back to Contents](#tableofcontents)"
   ]
  },
  {
   "cell_type": "markdown",
   "metadata": {},
   "source": [
    "### Select the most popular events\n",
    "\n",
    "    - In each control group, find the number of users who performed the action.\n",
    "    - Find the percentage.\n",
    "    - Check whether differences between groups are statistically significant.\n",
    "    - Repeat this procedure for all other events (it will save time if we can create a custom function to perform this test).\n",
    "    - Can we confirm whether the groups are properly split?"
   ]
  },
  {
   "cell_type": "markdown",
   "metadata": {},
   "source": [
    "    We will open 'events_data_filter', as follows:"
   ]
  },
  {
   "cell_type": "code",
   "execution_count": 215,
   "metadata": {},
   "outputs": [
    {
     "data": {
      "text/html": [
       "<div>\n",
       "<style scoped>\n",
       "    .dataframe tbody tr th:only-of-type {\n",
       "        vertical-align: middle;\n",
       "    }\n",
       "\n",
       "    .dataframe tbody tr th {\n",
       "        vertical-align: top;\n",
       "    }\n",
       "\n",
       "    .dataframe thead th {\n",
       "        text-align: right;\n",
       "    }\n",
       "</style>\n",
       "<table border=\"1\" class=\"dataframe\">\n",
       "  <thead>\n",
       "    <tr style=\"text-align: right;\">\n",
       "      <th></th>\n",
       "      <th>event_name</th>\n",
       "      <th>device_id_hash</th>\n",
       "      <th>event_timestamp</th>\n",
       "      <th>exp_id</th>\n",
       "      <th>date_time</th>\n",
       "      <th>date</th>\n",
       "    </tr>\n",
       "  </thead>\n",
       "  <tbody>\n",
       "    <tr>\n",
       "      <th>2826</th>\n",
       "      <td>Tutorial</td>\n",
       "      <td>3737462046622621720</td>\n",
       "      <td>1564618048</td>\n",
       "      <td>246</td>\n",
       "      <td>2019-08-01 00:07:28</td>\n",
       "      <td>2019-08-01</td>\n",
       "    </tr>\n",
       "    <tr>\n",
       "      <th>2827</th>\n",
       "      <td>MainScreenAppear</td>\n",
       "      <td>3737462046622621720</td>\n",
       "      <td>1564618080</td>\n",
       "      <td>246</td>\n",
       "      <td>2019-08-01 00:08:00</td>\n",
       "      <td>2019-08-01</td>\n",
       "    </tr>\n",
       "    <tr>\n",
       "      <th>2828</th>\n",
       "      <td>MainScreenAppear</td>\n",
       "      <td>3737462046622621720</td>\n",
       "      <td>1564618135</td>\n",
       "      <td>246</td>\n",
       "      <td>2019-08-01 00:08:55</td>\n",
       "      <td>2019-08-01</td>\n",
       "    </tr>\n",
       "    <tr>\n",
       "      <th>2829</th>\n",
       "      <td>OffersScreenAppear</td>\n",
       "      <td>3737462046622621720</td>\n",
       "      <td>1564618138</td>\n",
       "      <td>246</td>\n",
       "      <td>2019-08-01 00:08:58</td>\n",
       "      <td>2019-08-01</td>\n",
       "    </tr>\n",
       "    <tr>\n",
       "      <th>2830</th>\n",
       "      <td>MainScreenAppear</td>\n",
       "      <td>1433840883824088890</td>\n",
       "      <td>1564618139</td>\n",
       "      <td>247</td>\n",
       "      <td>2019-08-01 00:08:59</td>\n",
       "      <td>2019-08-01</td>\n",
       "    </tr>\n",
       "    <tr>\n",
       "      <th>...</th>\n",
       "      <td>...</td>\n",
       "      <td>...</td>\n",
       "      <td>...</td>\n",
       "      <td>...</td>\n",
       "      <td>...</td>\n",
       "      <td>...</td>\n",
       "    </tr>\n",
       "    <tr>\n",
       "      <th>243708</th>\n",
       "      <td>MainScreenAppear</td>\n",
       "      <td>4599628364049201812</td>\n",
       "      <td>1565212345</td>\n",
       "      <td>247</td>\n",
       "      <td>2019-08-07 21:12:25</td>\n",
       "      <td>2019-08-07</td>\n",
       "    </tr>\n",
       "    <tr>\n",
       "      <th>243709</th>\n",
       "      <td>MainScreenAppear</td>\n",
       "      <td>5849806612437486590</td>\n",
       "      <td>1565212439</td>\n",
       "      <td>246</td>\n",
       "      <td>2019-08-07 21:13:59</td>\n",
       "      <td>2019-08-07</td>\n",
       "    </tr>\n",
       "    <tr>\n",
       "      <th>243710</th>\n",
       "      <td>MainScreenAppear</td>\n",
       "      <td>5746969938801999050</td>\n",
       "      <td>1565212483</td>\n",
       "      <td>246</td>\n",
       "      <td>2019-08-07 21:14:43</td>\n",
       "      <td>2019-08-07</td>\n",
       "    </tr>\n",
       "    <tr>\n",
       "      <th>243711</th>\n",
       "      <td>MainScreenAppear</td>\n",
       "      <td>5746969938801999050</td>\n",
       "      <td>1565212498</td>\n",
       "      <td>246</td>\n",
       "      <td>2019-08-07 21:14:58</td>\n",
       "      <td>2019-08-07</td>\n",
       "    </tr>\n",
       "    <tr>\n",
       "      <th>243712</th>\n",
       "      <td>OffersScreenAppear</td>\n",
       "      <td>5746969938801999050</td>\n",
       "      <td>1565212517</td>\n",
       "      <td>246</td>\n",
       "      <td>2019-08-07 21:15:17</td>\n",
       "      <td>2019-08-07</td>\n",
       "    </tr>\n",
       "  </tbody>\n",
       "</table>\n",
       "<p>240887 rows × 6 columns</p>\n",
       "</div>"
      ],
      "text/plain": [
       "                event_name       device_id_hash  event_timestamp  exp_id  \\\n",
       "2826              Tutorial  3737462046622621720       1564618048     246   \n",
       "2827      MainScreenAppear  3737462046622621720       1564618080     246   \n",
       "2828      MainScreenAppear  3737462046622621720       1564618135     246   \n",
       "2829    OffersScreenAppear  3737462046622621720       1564618138     246   \n",
       "2830      MainScreenAppear  1433840883824088890       1564618139     247   \n",
       "...                    ...                  ...              ...     ...   \n",
       "243708    MainScreenAppear  4599628364049201812       1565212345     247   \n",
       "243709    MainScreenAppear  5849806612437486590       1565212439     246   \n",
       "243710    MainScreenAppear  5746969938801999050       1565212483     246   \n",
       "243711    MainScreenAppear  5746969938801999050       1565212498     246   \n",
       "243712  OffersScreenAppear  5746969938801999050       1565212517     246   \n",
       "\n",
       "                 date_time       date  \n",
       "2826   2019-08-01 00:07:28 2019-08-01  \n",
       "2827   2019-08-01 00:08:00 2019-08-01  \n",
       "2828   2019-08-01 00:08:55 2019-08-01  \n",
       "2829   2019-08-01 00:08:58 2019-08-01  \n",
       "2830   2019-08-01 00:08:59 2019-08-01  \n",
       "...                    ...        ...  \n",
       "243708 2019-08-07 21:12:25 2019-08-07  \n",
       "243709 2019-08-07 21:13:59 2019-08-07  \n",
       "243710 2019-08-07 21:14:43 2019-08-07  \n",
       "243711 2019-08-07 21:14:58 2019-08-07  \n",
       "243712 2019-08-07 21:15:17 2019-08-07  \n",
       "\n",
       "[240887 rows x 6 columns]"
      ]
     },
     "execution_count": 215,
     "metadata": {},
     "output_type": "execute_result"
    }
   ],
   "source": [
    "events_data_filter"
   ]
  },
  {
   "cell_type": "markdown",
   "metadata": {},
   "source": [
    "    Then, we are grouping the unique users of each events per group by using 'events_data_filter', as follows:"
   ]
  },
  {
   "cell_type": "code",
   "execution_count": 216,
   "metadata": {},
   "outputs": [
    {
     "data": {
      "text/html": [
       "<div>\n",
       "<style scoped>\n",
       "    .dataframe tbody tr th:only-of-type {\n",
       "        vertical-align: middle;\n",
       "    }\n",
       "\n",
       "    .dataframe tbody tr th {\n",
       "        vertical-align: top;\n",
       "    }\n",
       "\n",
       "    .dataframe thead th {\n",
       "        text-align: right;\n",
       "    }\n",
       "</style>\n",
       "<table border=\"1\" class=\"dataframe\">\n",
       "  <thead>\n",
       "    <tr style=\"text-align: right;\">\n",
       "      <th>exp_id</th>\n",
       "      <th>246</th>\n",
       "      <th>247</th>\n",
       "      <th>248</th>\n",
       "    </tr>\n",
       "    <tr>\n",
       "      <th>event_name</th>\n",
       "      <th></th>\n",
       "      <th></th>\n",
       "      <th></th>\n",
       "    </tr>\n",
       "  </thead>\n",
       "  <tbody>\n",
       "    <tr>\n",
       "      <th>CartScreenAppear</th>\n",
       "      <td>1266</td>\n",
       "      <td>1238</td>\n",
       "      <td>1230</td>\n",
       "    </tr>\n",
       "    <tr>\n",
       "      <th>MainScreenAppear</th>\n",
       "      <td>2450</td>\n",
       "      <td>2476</td>\n",
       "      <td>2493</td>\n",
       "    </tr>\n",
       "    <tr>\n",
       "      <th>OffersScreenAppear</th>\n",
       "      <td>1542</td>\n",
       "      <td>1520</td>\n",
       "      <td>1531</td>\n",
       "    </tr>\n",
       "    <tr>\n",
       "      <th>PaymentScreenSuccessful</th>\n",
       "      <td>1200</td>\n",
       "      <td>1158</td>\n",
       "      <td>1181</td>\n",
       "    </tr>\n",
       "    <tr>\n",
       "      <th>Tutorial</th>\n",
       "      <td>278</td>\n",
       "      <td>283</td>\n",
       "      <td>279</td>\n",
       "    </tr>\n",
       "  </tbody>\n",
       "</table>\n",
       "</div>"
      ],
      "text/plain": [
       "exp_id                    246   247   248\n",
       "event_name                               \n",
       "CartScreenAppear         1266  1238  1230\n",
       "MainScreenAppear         2450  2476  2493\n",
       "OffersScreenAppear       1542  1520  1531\n",
       "PaymentScreenSuccessful  1200  1158  1181\n",
       "Tutorial                  278   283   279"
      ]
     },
     "execution_count": 216,
     "metadata": {},
     "output_type": "execute_result"
    }
   ],
   "source": [
    "users_events_per_groups = events_data_filter.pivot_table(index='event_name',\n",
    "                                            values='device_id_hash', \n",
    "                                            columns='exp_id', \n",
    "                                            aggfunc='nunique')\n",
    "users_events_per_groups"
   ]
  },
  {
   "cell_type": "markdown",
   "metadata": {},
   "source": [
    "    Here is the statistic test of samples 246 and 247, as follows:"
   ]
  },
  {
   "cell_type": "code",
   "execution_count": 217,
   "metadata": {},
   "outputs": [
    {
     "name": "stdout",
     "output_type": "stream",
     "text": [
      "p-value:  [0.75705972]\n",
      "Failed to reject the null hypothesis, there is no reason to consider the proportions different\n"
     ]
    }
   ],
   "source": [
    "check_hypothesis(users_events_per_groups.loc['MainScreenAppear', 246],\n",
    "                 users_events_per_groups.loc['MainScreenAppear', 247],\n",
    "                 user_per_groups.loc[246],\n",
    "                 user_per_groups.loc[247],\n",
    "                )"
   ]
  },
  {
   "cell_type": "markdown",
   "metadata": {},
   "source": [
    "    Findings:\n",
    "    - Based on hypothesis testing above, there is no statistically significant difference between samples 246 and 247."
   ]
  },
  {
   "cell_type": "markdown",
   "metadata": {},
   "source": [
    "    For next step, we will define a formula for checking a statistically significant difference between event of each group samples, as follows:"
   ]
  },
  {
   "cell_type": "code",
   "execution_count": 218,
   "metadata": {},
   "outputs": [],
   "source": [
    "def check_event_hypothesis(users_events_per_groups, user_per_groups, event_name, exp1, exp2):\n",
    "    frac1 = users_events_per_groups.loc[event_name, exp1] / user_per_groups.loc[exp1]\n",
    "    frac2 = users_events_per_groups.loc[event_name, exp2] / user_per_groups.loc[exp2]\n",
    "    print (f'{frac1} event {event_name} group {exp1}')\n",
    "    print (f'{frac2} event {event_name} group {exp2}')\n",
    "    check_hypothesis(users_events_per_groups.loc[event_name, exp1],\n",
    "                     users_events_per_groups.loc[event_name, exp2],\n",
    "                     user_per_groups.loc[exp1],\n",
    "                     user_per_groups.loc[exp2],\n",
    "                    )"
   ]
  },
  {
   "cell_type": "markdown",
   "metadata": {},
   "source": [
    "    Calculating a statistically significant difference between event of each group samples of Testing Group. Here we go for 246 and 247 number of Testing Group."
   ]
  },
  {
   "cell_type": "code",
   "execution_count": 219,
   "metadata": {},
   "outputs": [
    {
     "name": "stdout",
     "output_type": "stream",
     "text": [
      "device_id_hash    0.509662\n",
      "Name: 246, dtype: float64 event CartScreenAppear group 246\n",
      "device_id_hash    0.492638\n",
      "Name: 247, dtype: float64 event CartScreenAppear group 247\n",
      "p-value:  [0.22883372]\n",
      "Failed to reject the null hypothesis, there is no reason to consider the proportions different\n",
      "\n",
      "device_id_hash    0.986312\n",
      "Name: 246, dtype: float64 event MainScreenAppear group 246\n",
      "device_id_hash    0.985277\n",
      "Name: 247, dtype: float64 event MainScreenAppear group 247\n",
      "p-value:  [0.75705972]\n",
      "Failed to reject the null hypothesis, there is no reason to consider the proportions different\n",
      "\n",
      "device_id_hash    0.620773\n",
      "Name: 246, dtype: float64 event OffersScreenAppear group 246\n",
      "device_id_hash    0.604855\n",
      "Name: 247, dtype: float64 event OffersScreenAppear group 247\n",
      "p-value:  [0.24809546]\n",
      "Failed to reject the null hypothesis, there is no reason to consider the proportions different\n",
      "\n",
      "device_id_hash    0.483092\n",
      "Name: 246, dtype: float64 event PaymentScreenSuccessful group 246\n",
      "device_id_hash    0.460804\n",
      "Name: 247, dtype: float64 event PaymentScreenSuccessful group 247\n",
      "p-value:  [0.11456679]\n",
      "Failed to reject the null hypothesis, there is no reason to consider the proportions different\n",
      "\n",
      "device_id_hash    0.111916\n",
      "Name: 246, dtype: float64 event Tutorial group 246\n",
      "device_id_hash    0.112614\n",
      "Name: 247, dtype: float64 event Tutorial group 247\n",
      "p-value:  [0.93769962]\n",
      "Failed to reject the null hypothesis, there is no reason to consider the proportions different\n",
      "\n"
     ]
    }
   ],
   "source": [
    "for event_name in users_events_per_groups.index:\n",
    "    check_event_hypothesis(users_events_per_groups, user_per_groups,\n",
    "                           event_name, 246, 247)\n",
    "    print()"
   ]
  },
  {
   "cell_type": "markdown",
   "metadata": {},
   "source": [
    "    Summary:\n",
    "    \n",
    "    - Based on hypothesis testing above, there is no statistically significant difference between samples 246 and 247."
   ]
  },
  {
   "cell_type": "markdown",
   "metadata": {},
   "source": [
    "[Back to Contents](#tableofcontents)"
   ]
  },
  {
   "cell_type": "markdown",
   "metadata": {},
   "source": [
    " ### Do the same for the group of users shown the latest font version\n",
    "\n",
    "    - Compare the results with each control group for each event separately.\n",
    "    - Compare the results with the combined results for the control group.\n",
    "    - What conclusions can we draw from the experiment?"
   ]
  },
  {
   "cell_type": "markdown",
   "metadata": {},
   "source": [
    "    We are going to calculate a statistically significant difference between event of group samples 246 versus 248. Control Group of 246 versus Testing Group of 248, as follows:"
   ]
  },
  {
   "cell_type": "code",
   "execution_count": 220,
   "metadata": {},
   "outputs": [
    {
     "name": "stdout",
     "output_type": "stream",
     "text": [
      "device_id_hash    0.509662\n",
      "Name: 246, dtype: float64 event CartScreenAppear group 246\n",
      "device_id_hash    0.484825\n",
      "Name: 248, dtype: float64 event CartScreenAppear group 248\n",
      "p-value:  [0.07842923]\n",
      "Failed to reject the null hypothesis, there is no reason to consider the proportions different\n",
      "\n",
      "device_id_hash    0.986312\n",
      "Name: 246, dtype: float64 event MainScreenAppear group 246\n",
      "device_id_hash    0.982657\n",
      "Name: 248, dtype: float64 event MainScreenAppear group 248\n",
      "p-value:  [0.29497219]\n",
      "Failed to reject the null hypothesis, there is no reason to consider the proportions different\n",
      "\n",
      "device_id_hash    0.620773\n",
      "Name: 246, dtype: float64 event OffersScreenAppear group 246\n",
      "device_id_hash    0.603469\n",
      "Name: 248, dtype: float64 event OffersScreenAppear group 248\n",
      "p-value:  [0.20836205]\n",
      "Failed to reject the null hypothesis, there is no reason to consider the proportions different\n",
      "\n",
      "device_id_hash    0.483092\n",
      "Name: 246, dtype: float64 event PaymentScreenSuccessful group 246\n",
      "device_id_hash    0.46551\n",
      "Name: 248, dtype: float64 event PaymentScreenSuccessful group 248\n",
      "p-value:  [0.21225533]\n",
      "Failed to reject the null hypothesis, there is no reason to consider the proportions different\n",
      "\n",
      "device_id_hash    0.111916\n",
      "Name: 246, dtype: float64 event Tutorial group 246\n",
      "device_id_hash    0.109972\n",
      "Name: 248, dtype: float64 event Tutorial group 248\n",
      "p-value:  [0.8264294]\n",
      "Failed to reject the null hypothesis, there is no reason to consider the proportions different\n",
      "\n"
     ]
    }
   ],
   "source": [
    "for event_name in users_events_per_groups.index:\n",
    "    check_event_hypothesis(users_events_per_groups, user_per_groups,\n",
    "                           event_name, 246, 248)\n",
    "    print()"
   ]
  },
  {
   "cell_type": "markdown",
   "metadata": {},
   "source": [
    "    Then, calculating a statistically significant difference between event of group samples 247 versus 248. Control Group of 247 versus Testing Group of 248, as follows:"
   ]
  },
  {
   "cell_type": "code",
   "execution_count": 90,
   "metadata": {},
   "outputs": [
    {
     "name": "stdout",
     "output_type": "stream",
     "text": [
      "device_id_hash    0.492638\n",
      "Name: 247, dtype: float64 event CartScreenAppear group 247\n",
      "device_id_hash    0.484825\n",
      "Name: 248, dtype: float64 event CartScreenAppear group 248\n",
      "p-value:  [0.57861979]\n",
      "Failed to reject the null hypothesis, there is no reason to consider the proportions different\n",
      "\n",
      "device_id_hash    0.985277\n",
      "Name: 247, dtype: float64 event MainScreenAppear group 247\n",
      "device_id_hash    0.982657\n",
      "Name: 248, dtype: float64 event MainScreenAppear group 248\n",
      "p-value:  [0.45870536]\n",
      "Failed to reject the null hypothesis, there is no reason to consider the proportions different\n",
      "\n",
      "device_id_hash    0.604855\n",
      "Name: 247, dtype: float64 event OffersScreenAppear group 247\n",
      "device_id_hash    0.603469\n",
      "Name: 248, dtype: float64 event OffersScreenAppear group 248\n",
      "p-value:  [0.91978178]\n",
      "Failed to reject the null hypothesis, there is no reason to consider the proportions different\n",
      "\n",
      "device_id_hash    0.460804\n",
      "Name: 247, dtype: float64 event PaymentScreenSuccessful group 247\n",
      "device_id_hash    0.46551\n",
      "Name: 248, dtype: float64 event PaymentScreenSuccessful group 248\n",
      "p-value:  [0.73734151]\n",
      "Failed to reject the null hypothesis, there is no reason to consider the proportions different\n",
      "\n",
      "device_id_hash    0.112614\n",
      "Name: 247, dtype: float64 event Tutorial group 247\n",
      "device_id_hash    0.109972\n",
      "Name: 248, dtype: float64 event Tutorial group 248\n",
      "p-value:  [0.76532392]\n",
      "Failed to reject the null hypothesis, there is no reason to consider the proportions different\n",
      "\n"
     ]
    }
   ],
   "source": [
    "for event_name in users_events_per_groups.index:\n",
    "    check_event_hypothesis(users_events_per_groups, user_per_groups,\n",
    "                           event_name, 247, 248)\n",
    "    print()"
   ]
  },
  {
   "cell_type": "markdown",
   "metadata": {},
   "source": [
    "    Summary:\n",
    "    \n",
    "    - Based on hypothesis testing above, there is no statistically significant difference between Control Group of 246 versus Testing Group of 248 and Control Group of 247 versus Testing Group of 248."
   ]
  },
  {
   "cell_type": "markdown",
   "metadata": {},
   "source": [
    "[Back to Contents](#tableofcontents)"
   ]
  },
  {
   "cell_type": "markdown",
   "metadata": {},
   "source": [
    "### Level of Significance\n",
    "\n",
    "    1. What level of significance did we set to test the statistical hypothesis mentioned above?\n",
    "        - Count how many statistical hypothesis tests we have done.\n",
    "        - With a statistical significance level of 0.1 - one in 10 results could be wrong.\n",
    "    \n",
    "    2. What level of significance should be set?\n",
    "        - If we want to change it, just rerun the previous stage and check our conclusions."
   ]
  },
  {
   "cell_type": "markdown",
   "metadata": {},
   "source": [
    "#### What level of significance did we set to test the statistical hypothesis mentioned above?\n",
    "    - Count how many statistical hypothesis tests we have done.\n",
    "    - With a statistical significance level of 0.1 - one in 10 results could be wrong."
   ]
  },
  {
   "cell_type": "markdown",
   "metadata": {},
   "source": [
    "    Summary:\n",
    "    \n",
    "    1. The significance level / \"alpha\" value did we set to test the statistical hypothesis mentioned above is 0.01.\n",
    "    2. The statistical hypothesis tests we have done are 3 tests, which are:\n",
    "    - The two control groups in A/A testing, no. 246 versus 247.\n",
    "    - The control group A no. 246 versus the testing group no. 248.\n",
    "    - The control group A no. 247 versus the testing group no. 248."
   ]
  },
  {
   "cell_type": "markdown",
   "metadata": {},
   "source": [
    "#### What level of significance should be set?\n",
    "\n",
    "    - If we want to change it, just rerun the previous stage and check our conclusions.\n",
    "    - We will change the significance level / \"alpha\" value to test the statistical hypothesis by 0.05 and rerun the previous step and check our conclusions."
   ]
  },
  {
   "cell_type": "markdown",
   "metadata": {},
   "source": [
    "[Back to Contents](#tableofcontents)"
   ]
  },
  {
   "cell_type": "markdown",
   "metadata": {},
   "source": [
    "# Formulation of Hypothesis testing:\n",
    "    - The significance level / \"alpha\" value to be used = 0.05.\n",
    "    - We will use the Z-Test Statistics approach.\n",
    "    - Ho = The proportion between group samples was statistically the same (=).\n",
    "    - H1 = the proportion between group samples was statistically significant not the same (/=)."
   ]
  },
  {
   "cell_type": "markdown",
   "metadata": {},
   "source": [
    "    We will define a formula for check a statistically significant difference between group samples, for the steps as follows:\n",
    "    - proportion of successes in the first group.\n",
    "    - proportion of successes in the second group.\n",
    "    - proportion of successes in the combined dataset.\n",
    "    - difference in proportions in datasets.\n",
    "    - calculate statistics in standard deviations of the standard normal distribution.\n",
    "    - set standard normal distribution (mean 0, standard deviation 1).\n",
    "    - calculate statistics in standard deviations of the standard normal distribution."
   ]
  },
  {
   "cell_type": "code",
   "execution_count": 223,
   "metadata": {},
   "outputs": [],
   "source": [
    "def check_hypothesis2(successes1, successes2, trials1, trials2, alpha=0.05):\n",
    "    \n",
    "    p1 = successes1/trials1\n",
    "\n",
    "    \n",
    "    p2 = successes2/trials2\n",
    "\n",
    "    \n",
    "    p_combined = (successes1 + successes2) / (trials1 + trials2)\n",
    "\n",
    "    \n",
    "    difference = p1 - p2\n",
    "\n",
    "    \n",
    "    z_value = difference / math.sqrt(p_combined * (1 - p_combined) * (1/trials1 + 1/trials2))\n",
    "\n",
    "    \n",
    "    distr = stats.norm(0, 1)\n",
    "\n",
    "    \n",
    "    z_value = difference / math.sqrt(p_combined * (1 - p_combined) * (1/trials1 + 1/trials2))\n",
    "\n",
    "\n",
    "    p_value = (1 - distr.cdf(abs(z_value))) * 2\n",
    "\n",
    "    print('p-value: ', p_value)\n",
    "\n",
    "    if (p_value < alpha):\n",
    "        print(\"Reject the null hypothesis: there is a significant difference between the proportions\")\n",
    "    else:\n",
    "        print(\"Failed to reject the null hypothesis, there is no reason to consider the proportions different\")"
   ]
  },
  {
   "cell_type": "markdown",
   "metadata": {},
   "source": [
    "    Here is the statistic test of samples 246 and 247, as follows:"
   ]
  },
  {
   "cell_type": "code",
   "execution_count": 224,
   "metadata": {},
   "outputs": [
    {
     "name": "stdout",
     "output_type": "stream",
     "text": [
      "p-value:  [0.75705972]\n",
      "Failed to reject the null hypothesis, there is no reason to consider the proportions different\n"
     ]
    }
   ],
   "source": [
    "check_hypothesis2(users_events_per_groups.loc['MainScreenAppear', 246],\n",
    "                 users_events_per_groups.loc['MainScreenAppear', 247],\n",
    "                 user_per_groups.loc[246],\n",
    "                 user_per_groups.loc[247],\n",
    "                )"
   ]
  },
  {
   "cell_type": "markdown",
   "metadata": {},
   "source": [
    "    Defining a formula for checking a statistically significant difference between event of each group samples, as follows:"
   ]
  },
  {
   "cell_type": "code",
   "execution_count": 225,
   "metadata": {},
   "outputs": [],
   "source": [
    "def check_event_hypothesis2(users_events_per_groups, user_per_groups, event_name, exp1, exp2):\n",
    "    frac1 = users_events_per_groups.loc[event_name, exp1] / user_per_groups.loc[exp1]\n",
    "    frac2 = users_events_per_groups.loc[event_name, exp2] / user_per_groups.loc[exp2]\n",
    "    print (f'{frac1} event {event_name} group {exp1}')\n",
    "    print (f'{frac2} event {event_name} group {exp2}')\n",
    "    check_hypothesis(users_events_per_groups.loc[event_name, exp1],\n",
    "                     users_events_per_groups.loc[event_name, exp2],\n",
    "                     user_per_groups.loc[exp1],\n",
    "                     user_per_groups.loc[exp2],\n",
    "                    )"
   ]
  },
  {
   "cell_type": "markdown",
   "metadata": {},
   "source": [
    "    We will calculate a statistically significant difference between event of each group samples of Testing Group. Here is the 246 and 247 number of Testing Group, as follows:"
   ]
  },
  {
   "cell_type": "code",
   "execution_count": 226,
   "metadata": {},
   "outputs": [
    {
     "name": "stdout",
     "output_type": "stream",
     "text": [
      "device_id_hash    0.509662\n",
      "Name: 246, dtype: float64 event CartScreenAppear group 246\n",
      "device_id_hash    0.492638\n",
      "Name: 247, dtype: float64 event CartScreenAppear group 247\n",
      "p-value:  [0.22883372]\n",
      "Failed to reject the null hypothesis, there is no reason to consider the proportions different\n",
      "\n",
      "device_id_hash    0.986312\n",
      "Name: 246, dtype: float64 event MainScreenAppear group 246\n",
      "device_id_hash    0.985277\n",
      "Name: 247, dtype: float64 event MainScreenAppear group 247\n",
      "p-value:  [0.75705972]\n",
      "Failed to reject the null hypothesis, there is no reason to consider the proportions different\n",
      "\n",
      "device_id_hash    0.620773\n",
      "Name: 246, dtype: float64 event OffersScreenAppear group 246\n",
      "device_id_hash    0.604855\n",
      "Name: 247, dtype: float64 event OffersScreenAppear group 247\n",
      "p-value:  [0.24809546]\n",
      "Failed to reject the null hypothesis, there is no reason to consider the proportions different\n",
      "\n",
      "device_id_hash    0.483092\n",
      "Name: 246, dtype: float64 event PaymentScreenSuccessful group 246\n",
      "device_id_hash    0.460804\n",
      "Name: 247, dtype: float64 event PaymentScreenSuccessful group 247\n",
      "p-value:  [0.11456679]\n",
      "Failed to reject the null hypothesis, there is no reason to consider the proportions different\n",
      "\n",
      "device_id_hash    0.111916\n",
      "Name: 246, dtype: float64 event Tutorial group 246\n",
      "device_id_hash    0.112614\n",
      "Name: 247, dtype: float64 event Tutorial group 247\n",
      "p-value:  [0.93769962]\n",
      "Failed to reject the null hypothesis, there is no reason to consider the proportions different\n",
      "\n"
     ]
    }
   ],
   "source": [
    "for event_name in users_events_per_groups.index:\n",
    "    check_event_hypothesis2(users_events_per_groups, user_per_groups,\n",
    "                           event_name, 246, 247)\n",
    "    print()"
   ]
  },
  {
   "cell_type": "markdown",
   "metadata": {},
   "source": [
    "    Now, we calculate a statistically significant difference between event of group samples 246 versus 248. Control Group of 246 versus Testing Group of 248, as follows:"
   ]
  },
  {
   "cell_type": "code",
   "execution_count": 227,
   "metadata": {},
   "outputs": [
    {
     "name": "stdout",
     "output_type": "stream",
     "text": [
      "device_id_hash    0.509662\n",
      "Name: 246, dtype: float64 event CartScreenAppear group 246\n",
      "device_id_hash    0.484825\n",
      "Name: 248, dtype: float64 event CartScreenAppear group 248\n",
      "p-value:  [0.07842923]\n",
      "Failed to reject the null hypothesis, there is no reason to consider the proportions different\n",
      "\n",
      "device_id_hash    0.986312\n",
      "Name: 246, dtype: float64 event MainScreenAppear group 246\n",
      "device_id_hash    0.982657\n",
      "Name: 248, dtype: float64 event MainScreenAppear group 248\n",
      "p-value:  [0.29497219]\n",
      "Failed to reject the null hypothesis, there is no reason to consider the proportions different\n",
      "\n",
      "device_id_hash    0.620773\n",
      "Name: 246, dtype: float64 event OffersScreenAppear group 246\n",
      "device_id_hash    0.603469\n",
      "Name: 248, dtype: float64 event OffersScreenAppear group 248\n",
      "p-value:  [0.20836205]\n",
      "Failed to reject the null hypothesis, there is no reason to consider the proportions different\n",
      "\n",
      "device_id_hash    0.483092\n",
      "Name: 246, dtype: float64 event PaymentScreenSuccessful group 246\n",
      "device_id_hash    0.46551\n",
      "Name: 248, dtype: float64 event PaymentScreenSuccessful group 248\n",
      "p-value:  [0.21225533]\n",
      "Failed to reject the null hypothesis, there is no reason to consider the proportions different\n",
      "\n",
      "device_id_hash    0.111916\n",
      "Name: 246, dtype: float64 event Tutorial group 246\n",
      "device_id_hash    0.109972\n",
      "Name: 248, dtype: float64 event Tutorial group 248\n",
      "p-value:  [0.8264294]\n",
      "Failed to reject the null hypothesis, there is no reason to consider the proportions different\n",
      "\n"
     ]
    }
   ],
   "source": [
    "for event_name in users_events_per_groups.index:\n",
    "    check_event_hypothesis2(users_events_per_groups, user_per_groups,\n",
    "                           event_name, 246, 248)\n",
    "    print()"
   ]
  },
  {
   "cell_type": "markdown",
   "metadata": {},
   "source": [
    "    Calculating a statistically significant difference between event of group samples 247 versus 248. Control Group of 247 versus Testing Group of 248, as follows:"
   ]
  },
  {
   "cell_type": "code",
   "execution_count": 228,
   "metadata": {},
   "outputs": [
    {
     "name": "stdout",
     "output_type": "stream",
     "text": [
      "device_id_hash    0.492638\n",
      "Name: 247, dtype: float64 event CartScreenAppear group 247\n",
      "device_id_hash    0.484825\n",
      "Name: 248, dtype: float64 event CartScreenAppear group 248\n",
      "p-value:  [0.57861979]\n",
      "Failed to reject the null hypothesis, there is no reason to consider the proportions different\n",
      "\n",
      "device_id_hash    0.985277\n",
      "Name: 247, dtype: float64 event MainScreenAppear group 247\n",
      "device_id_hash    0.982657\n",
      "Name: 248, dtype: float64 event MainScreenAppear group 248\n",
      "p-value:  [0.45870536]\n",
      "Failed to reject the null hypothesis, there is no reason to consider the proportions different\n",
      "\n",
      "device_id_hash    0.604855\n",
      "Name: 247, dtype: float64 event OffersScreenAppear group 247\n",
      "device_id_hash    0.603469\n",
      "Name: 248, dtype: float64 event OffersScreenAppear group 248\n",
      "p-value:  [0.91978178]\n",
      "Failed to reject the null hypothesis, there is no reason to consider the proportions different\n",
      "\n",
      "device_id_hash    0.460804\n",
      "Name: 247, dtype: float64 event PaymentScreenSuccessful group 247\n",
      "device_id_hash    0.46551\n",
      "Name: 248, dtype: float64 event PaymentScreenSuccessful group 248\n",
      "p-value:  [0.73734151]\n",
      "Failed to reject the null hypothesis, there is no reason to consider the proportions different\n",
      "\n",
      "device_id_hash    0.112614\n",
      "Name: 247, dtype: float64 event Tutorial group 247\n",
      "device_id_hash    0.109972\n",
      "Name: 248, dtype: float64 event Tutorial group 248\n",
      "p-value:  [0.76532392]\n",
      "Failed to reject the null hypothesis, there is no reason to consider the proportions different\n",
      "\n"
     ]
    }
   ],
   "source": [
    "for event_name in users_events_per_groups.index:\n",
    "    check_event_hypothesis2(users_events_per_groups, user_per_groups,\n",
    "                           event_name, 247, 248)\n",
    "    print()"
   ]
  },
  {
   "cell_type": "markdown",
   "metadata": {},
   "source": [
    "    Summary:\n",
    "    \n",
    "    - After change the significance level / \"alpha\" value to test the statistical hypothesis by 0.05 and rerun the previous step, based on hypothesis testing above, there is no statistically significant difference between Control Group of 246 versus Testing Group of 248 and Control Group of 247 versus Testing Group of 248.\n",
    "    - There was no statistically significant difference in our data whether we tested it using a significance level/alpha value of 0.01 or 0.05."
   ]
  },
  {
   "cell_type": "markdown",
   "metadata": {},
   "source": [
    "[Back to Contents](#tableofcontents)"
   ]
  },
  {
   "cell_type": "markdown",
   "metadata": {},
   "source": [
    "### Conclusions from Step 5. Studying the Results of Our Experiment"
   ]
  },
  {
   "cell_type": "markdown",
   "metadata": {},
   "source": [
    "    1. There are 2484 users in group 246, 2513 users in group 247 and 2537 users in group 248.\n",
    "    2. On the hypothesis testing:\n",
    "    - Firstly, we set the test of statistical significance level hypothesis/alpha value is 0.01.\n",
    "    - Secondly, we re run the testing with the test of statistical significance level hypothesis/alpha value is 0.05.\n",
    "    - The statistical hypothesis tests we have done are 3 tests times 2 (alpha value 0.01 and 0.05), which are:\n",
    "        - The two control groups in A/A testing, no. 246 vs. 247\n",
    "        - The control group A no. 246 vs. the testing group no. 248\n",
    "        - The control group A no. 247 vs. the testing group no. 248\n",
    "    - The results of the two tests were that there was no statistically significant difference between the Control Group 246 vs. Testing Group 248 and the Control Group 247 vs. Testing Group 248.\n",
    "    - Means, there was no statistically significant difference in our data whether we tested it using a significance level/alpha value of 0.01 or 0.05."
   ]
  },
  {
   "cell_type": "markdown",
   "metadata": {},
   "source": [
    "[Back to Contents](#tableofcontents)"
   ]
  },
  {
   "cell_type": "markdown",
   "metadata": {},
   "source": [
    "## Presentation\n",
    "    - Step 6. Presenting My Project to The Viewers"
   ]
  },
  {
   "cell_type": "markdown",
   "metadata": {},
   "source": [
    "<div style=\"border:solid black 2px; padding: 20px\">\n",
    "    \n",
    "    This is my presentation of 'Finding Out The Users Behavior of Food Product Company Application' project by me, awrb.\n",
    "\n",
    "</div>"
   ]
  },
  {
   "cell_type": "markdown",
   "metadata": {},
   "source": [
    "Presentation Link: https://drive.google.com/file/d/1x0hmeZVJWgudey5eTmSNa3tL4bVlW5kT/view?usp=sharing"
   ]
  },
  {
   "cell_type": "markdown",
   "metadata": {},
   "source": [
    "[Back to Contents](#tableofcontents)"
   ]
  },
  {
   "cell_type": "markdown",
   "metadata": {},
   "source": [
    "## General Conclusions\n",
    "    - Step 7. Formulating General Conclusions"
   ]
  },
  {
   "cell_type": "markdown",
   "metadata": {},
   "source": [
    "# 1. Opening the Data File and Learning the General Information:\n",
    "\n",
    "    - All datas are preferential.\n",
    "    - There are not missing values.\n",
    "    - The data types match our expectations.\n",
    "    - We have three experiments: 246, 247, 248.\n",
    "    - The datas quality are flawless and ready to be processed temporarily at this time."
   ]
  },
  {
   "cell_type": "markdown",
   "metadata": {},
   "source": [
    "# 2. Preparing Data for Analysis:\n",
    "\n",
    "    - We've successfully added date and time fields, as well as a separate column for dates.\n",
    "    - The data table has been properly accommodated after checking the data again using the 'head()' function.\n",
    "    - Currently we have the following data types:\n",
    "    event_name               category\n",
    "    device_id_hash              int64\n",
    "    event_timestamp             int64\n",
    "    exp_id                      int64\n",
    "    date_time          datetime64[ns]\n",
    "    date               datetime64[ns]\n",
    "    dtype: object"
   ]
  },
  {
   "cell_type": "markdown",
   "metadata": {},
   "source": [
    "# 3. Learning and Examining the Data:\n",
    "\n",
    "    - There are 243713 events and 7551 users in the logs.\n",
    "    - The average number of events per user is 32 users.\n",
    "    - Data covers the time period between 25 July 2019 through 7 Aug 2019.\n",
    "    - Only data starting 1 August 2019 contains > 3000 rows and is consistent to the last day. We can say that August 1, 2019 is the time when the data begins to be complete and actually represents the entire data, then we exclude the older data between 25-31 July 2019.\n",
    "    - After excluding old data, the lost event and user percentages are 1.16% and 0.23%, respectively, which are immaterial.\n",
    "    - We have users from all three experimental groups for A/A/B Testing, which are:\n",
    "    - 79302 of the control group A with number of exp_id of 246\n",
    "    - 77022 of the control group A with number of exp_id of 247\n",
    "    - 84563 of the testing group B with number of exp_id of 248"
   ]
  },
  {
   "cell_type": "markdown",
   "metadata": {},
   "source": [
    "# 4. Learning the Event Funnel:\n",
    "\n",
    "    1. We have five events in the logs, which are:\n",
    "    - Main Screen Appear of 119101 logs\n",
    "    - Offers Screen Appear of 46808 logs\n",
    "    - Cart Screen Appear of 42668 logs\n",
    "    - Payment Screen Successful of 34118 logs\n",
    "    - Tutorial of 1018 logs\n",
    "\n",
    "    2. We have 7543 users in the logs, with the detail of actions they have performed are:\n",
    "    - 0.98% of users in the logs has performed on event of Main Screen Appear.\n",
    "    - 0.61% of users in the logs has performed on event of Offers Screen Appear.\n",
    "    - 0.50% of users in the logs has performed on event of Cart Screen Appear.\n",
    "    - 0.47% of users in the logs has performed on event of Payment Screen Successful.\n",
    "    - 0.11% of users in the logs has performed on event of Tutorial.\n",
    "\n",
    "    3. Of the 5 events in the log, in our opinion the sequence of events starts from the Main Screen event when the user first visits the application, followed by clicking the Offers Screen menu, then clicking Cart Screen, and finally Payment Screen Successful to complete the order. Meanwhile, Tutorial events are unrelated to the sequence of events.\n",
    "\n",
    "    4. Then, we exclude Tutorials for further analysis.\n",
    "\n",
    "    5. The ratio of users to clicking the Offers Screen is 62% once they are on the Home Screen.\n",
    "\n",
    "    6. The ratio of users to adding products to the Cart Screen is 81% after they click on the Offer Screen.\n",
    "\n",
    "    7. The ratio of users to complete payments is 95% of users who add products to Cart.\n",
    "\n",
    "    8. We lost most of our users at the Offers Screen stage of 48%, i.e. only 62% of users clicked on Offers from their first Home Screen.\n",
    "\n",
    "    9. The percentage of users who make the entire journey from the first event to the checkout stage is 47.7%. We cannot assume that is good or not because there is no data comparison from other months."
   ]
  },
  {
   "cell_type": "markdown",
   "metadata": {},
   "source": [
    "# 5. Learning the Results of Our Experiment\n",
    "\n",
    "    1. There are 2484 users in group 246, 2513 users in group 247 and 2537 users in group 248.\n",
    "    2. On the hypothesis testing:\n",
    "    - Firstly, we set the test of statistical significance level hypothesis/alpha value is 0.01.\n",
    "    - Secondly, we re run the testing with the test of statistical significance level hypothesis/alpha value is 0.05.\n",
    "    - The statistical hypothesis tests we have done are 3 tests times 2 (alpha value 0.01 and 0.05), which are:\n",
    "    - The two control groups in A/A testing, no. 246 vs. 247\n",
    "    - The control group A no. 246 vs. the testing group no. 248\n",
    "    - The control group A no. 247 vs. the testing group no. 248\n",
    "    - The results of the two tests were that there was no statistically significant difference between the Control Group 246 vs. Testing Group 248 and the Control Group 247 vs. Testing Group 248.\n",
    "    - Means, there was no statistically significant difference in our data whether we tested it using a significance level/alpha value of 0.01 or 0.05."
   ]
  },
  {
   "cell_type": "markdown",
   "metadata": {},
   "source": [
    "[Back to Contents](#tableofcontents)"
   ]
  }
 ],
 "metadata": {
  "kernelspec": {
   "display_name": "Python 3 (ipykernel)",
   "language": "python",
   "name": "python3"
  },
  "language_info": {
   "codemirror_mode": {
    "name": "ipython",
    "version": 3
   },
   "file_extension": ".py",
   "mimetype": "text/x-python",
   "name": "python",
   "nbconvert_exporter": "python",
   "pygments_lexer": "ipython3",
   "version": "3.9.5"
  },
  "toc": {
   "base_numbering": 1,
   "nav_menu": {},
   "number_sections": true,
   "sideBar": true,
   "skip_h1_title": true,
   "title_cell": "Table of Contents",
   "title_sidebar": "Contents",
   "toc_cell": false,
   "toc_position": {
    "height": "calc(100% - 180px)",
    "left": "10px",
    "top": "150px",
    "width": "263px"
   },
   "toc_section_display": true,
   "toc_window_display": true
  }
 },
 "nbformat": 4,
 "nbformat_minor": 2
}
