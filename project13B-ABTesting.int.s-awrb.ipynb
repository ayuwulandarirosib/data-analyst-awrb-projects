{
 "cells": [
  {
   "cell_type": "markdown",
   "metadata": {},
   "source": [
    "<div style=\"border:solid black 2px; padding: 20px\">\n",
    "    \n",
    "**Final Project Number _One_**    \n",
    "    \n",
    "</div> "
   ]
  },
  {
   "cell_type": "markdown",
   "metadata": {},
   "source": [
    "<div style=\"border:solid black 2px; padding: 20px\">\n",
    "<div style=\"border:solid gray 5px; padding: 20px\" class=\"alert alert-warning\">\n",
    "\n",
    "# An International Online Store Analytical Project by Using The A/B Testing - by awrb\n",
    "    \n",
    "</div> "
   ]
  },
  {
   "cell_type": "markdown",
   "metadata": {},
   "source": [
    "# Table of Contents: <a id='tableofcontents'></a>\n",
    "\n",
    "    - 1. Introduction\n",
    "        - 1.1 Goal\n",
    "        - 1.2 Stages\n",
    "    - 2. Data Pre-processing\n",
    "        - 2.1 Transforming the DataFrames and Converting The Data Types\n",
    "        - 2.2 Data Overview Elaboration\n",
    "        - 2.3 Ensuring the Data Quality\n",
    "        - 2.4 Removing One of The 'ab_test' Types\n",
    "        - 2.5 Ensuring Data Anomalies\n",
    "        - 2.6 Ensuring for Data Type, Array Form, Missing Values, and Duplicate Data\n",
    "        - 2.7 Correcting The Missing Values and Duplicate Data\n",
    "            - 2.7.1 Missing Values\n",
    "    - 3. Explorative Data Analysis (EDA)\n",
    "        - 3.1 Learning Conversion at Different Funnel Stages\n",
    "        - 3.2 Learning Whether The Number of Events Per User Distributed Equally in The Samples\n",
    "        - 3.3 Learning Whether The Users who Enter Both Samples\n",
    "        - 3.4 Learning How Is The Number of Events Distributed by Days\n",
    "        - 3.5 Learning The Possible Details in The Data that We have to take into Account before starting The A/B Test\n",
    "    - 4. Evaluation The A/B Test Results\n",
    "        - 4.1 By Using The Significance Level / \"Alpha\" Value = 0.01\n",
    "        - 4.2 By Using The Significance Level / \"Alpha\" Value = 0.05\n",
    "    - 5. Presentation\n",
    "    - 6. General Conclusions and Recommendations"
   ]
  },
  {
   "cell_type": "markdown",
   "metadata": {},
   "source": [
    "## Introduction"
   ]
  },
  {
   "cell_type": "markdown",
   "metadata": {},
   "source": [
    "        We have received an analytical task from an international online store. Our predecessor failed to complete the project: the report is they launched an A/B test and then quit. Based on the information we have received, they start watermelon farm in Brazil. And what do we get is the technical specifications and the test results cause they left only both things."
   ]
  },
  {
   "cell_type": "markdown",
   "metadata": {},
   "source": [
    "### Goal"
   ]
  },
  {
   "cell_type": "markdown",
   "metadata": {},
   "source": [
    "        As previously clarified above, that our predecessor failed to complete the analytical project, and their endeavor stopped at launched an A/B test and then quit cause starting watermelon farm in Brazil. Fortunately, they left several things, those are the technical specifications and the test results. Therefore, the technical description that we could obtain are:\n",
    "        \n",
    "    - The Test Name: recommender_system_test\n",
    "    - Groups: А (control), B (new payment funnel)\n",
    "    - Launch date: 2020-12-07\n",
    "    - The date when they stopped taking up new users: 2020-12-21\n",
    "    - End date: 2021-01-01\n",
    "    - The Audience: 15% of the new users from the EU region\n",
    "    - The Purpose of The Test: testing changes related to the introduction of an improved recommendation system\n",
    "    - The Expected Result: within 14 days of signing up, users will show better conversion into product page views (the product_page event), product card views (product_card) and purchases (purchase). At each of the stage of the funnel product_page → product_card → purchase, there will be at least a 10% increase.\n",
    "    - The Expected Number of Test Participants: 6000\n",
    "\n",
    "        In a nutshell, we have already a short overview which we could make materials and directions or instructions to continue this project."
   ]
  },
  {
   "cell_type": "markdown",
   "metadata": {},
   "source": [
    "### Stages"
   ]
  },
  {
   "cell_type": "markdown",
   "metadata": {},
   "source": [
    "        There are several steps to complete this project, namely:\n",
    "\n",
    "    Step 1. Downloading and Loading The Data\n",
    "    Step 2. Performing Several Focus Things to be Analyzed\n",
    "    Step 3. Evaluating The A/B Test Results of The Project\n",
    "    Step 4. Presenting My Project to The Clients\n",
    "    Step 5. Formulating General Conclusions and Recommendations for Working with Clients\n",
    "   \n",
    "        which is divided into the following detailed stages:\n",
    "\n",
    "    1. Data Pre-processing\n",
    "    2. Explorative Data Analysis (EDA)\n",
    "    3. Evaluation The A/B Test Results\n",
    "    4. Presentation\n",
    "    5. General Conclusions and Recommendations\n",
    "\n",
    "        With the following description:\n",
    "\n",
    "    1. Data Pre-processing (Step 1. Downloading and Loading The Data)\n",
    "    - In this stage, we will load and read datasets from the following file path:\n",
    "    \n",
    "    1) '/datasets/ab_project_marketing_events_us.csv'   — the calendar of marketing events for 2020\n",
    "    2) '/datasets/final_ab_new_users_upd_us.csv'        — all users who signed up in the online store from December 7 to 21, 2020\n",
    "    3) '/datasets/final_ab_events_upd_us.csv'           — all events of the new users within the period from December 7, 2020 to January 1, 2021\n",
    "    4) '/datasets/final_ab_participants_upd_us.csv'     — table containing test participants\n",
    "    \n",
    "    Here are the data descriptions of the files path above:\n",
    "\n",
    "    1) '/datasets/ab_project_marketing_events_us.csv' structures contain:\n",
    "    - name — the name of the marketing event\n",
    "    - regions — regions where the ad campaign will be held\n",
    "    - start_dt — campaign start date\n",
    "    - finish_dt — campaign end date\n",
    "    \n",
    "    2) '/datasets/final_ab_new_users_upd_us.csv' structures contain:\n",
    "    - user_id\n",
    "    - first_date — sign-up date\n",
    "    - region\n",
    "    - device — device used to sign up\n",
    "    \n",
    "    3) '/datasets/final_ab_events_upd_us.csv' structures contain:\n",
    "    - user_id\n",
    "    - event_dt — event date and time\n",
    "    - event_name — event type name\n",
    "    - details — additional data on the event (for instance, the order total in USD for 'purchase' events)\n",
    "    \n",
    "    4) '/datasets/final_ab_participants_upd_us.csv' structures contain:\n",
    "    - user_id\n",
    "    - ab_test — test name\n",
    "    - group — the test group the user belonged to\n",
    "    \n",
    "    \n",
    "    2. Explorative Data Analysis (EDA) (Step 2. Performing Several Focus Things to be Analyzed)\n",
    "    - In this stage, there are several things that need to be our focus, namely:\n",
    "        a. Learning Conversion at Different Funnel Stages\n",
    "        b. Learning Whether The Number of Events Per User Distributed Equally in The Samples\n",
    "        c. Learning Whether The Users who Enter Both Samples\n",
    "        d. Learning How Is The Number of Events Distributed by Days\n",
    "        e. Learning The Possible Details in The Data that We have to take into Account before starting The A/B Test\n",
    "    \n",
    "    \n",
    "    3. Evaluation The A/B Test Results (Step 3. Evaluating The A/B Test Results of The Project)\n",
    "    - In this stage, we will evaluate the A/B test results with a few things to focus on:\n",
    "        a. Several Things that We Get about The A/B Test Results\n",
    "        b. The Use of Z-Criterion to Check The Statistical Difference between The Proportions\n",
    "\n",
    "    For our some experiments:\n",
    "    - By Using The Significance Level / \"Alpha\" Value = 0.01\n",
    "    - By Using The Significance Level / \"Alpha\" Value = 0.05\n",
    "    \n",
    "    \n",
    "    4. Presentation\n",
    "    - In this stage, I will present My Project to The Clients.\n",
    "    \n",
    "    5. General Conclusions and Recommendations (Step 4. Formulating General Conclusions and Recommendations for Working with Clients)\n",
    "    - In this stage, we will draw the conclusions and formulate the recommendations."
   ]
  },
  {
   "cell_type": "markdown",
   "metadata": {},
   "source": [
    "[Back to Contents](#tableofcontents)"
   ]
  },
  {
   "cell_type": "markdown",
   "metadata": {},
   "source": [
    "# A/B Testing Analysis of An International Online Store "
   ]
  },
  {
   "cell_type": "markdown",
   "metadata": {},
   "source": [
    "## Data Pre-processing\n",
    "    - Step 1. Downloading and Loading The Data"
   ]
  },
  {
   "cell_type": "markdown",
   "metadata": {},
   "source": [
    "<div style=\"border:solid black 2px; padding: 20px\">    \n",
    "    \n",
    "    First of all, we are going to load the required libraries, 'pandas', 'numpy', 'matplotlib.pyplot', 'seaborn', 'graph_objects', 'stats', 'math', 'warnings', as follows:\n",
    "    \n",
    "</div>  "
   ]
  },
  {
   "cell_type": "code",
   "execution_count": 563,
   "metadata": {},
   "outputs": [],
   "source": [
    "import pandas as pd\n",
    "import numpy as np\n",
    "\n",
    "import matplotlib.pyplot as plt\n",
    "import seaborn as sns\n",
    "\n",
    "from plotly import graph_objects as go\n",
    "from scipy import stats\n",
    "import math\n",
    "\n",
    "import warnings\n",
    "warnings.filterwarnings('ignore')"
   ]
  },
  {
   "cell_type": "markdown",
   "metadata": {},
   "source": [
    "    Now, we will load the data files into DataFrames and we are going to optimize the data for analysis purposes which object column type converts to category, as follows:"
   ]
  },
  {
   "cell_type": "markdown",
   "metadata": {},
   "source": [
    "[Back to Contents](#tableofcontents)"
   ]
  },
  {
   "cell_type": "markdown",
   "metadata": {},
   "source": [
    "### Transforming the DataFrames and Converting The Data Types"
   ]
  },
  {
   "cell_type": "code",
   "execution_count": 565,
   "metadata": {},
   "outputs": [],
   "source": [
    "events_marketing = pd.read_csv('/datasets/ab_project_marketing_events_us.csv')\n",
    "upd_users = pd.read_csv('/datasets/final_ab_new_users_upd_us.csv', parse_dates=['first_date'])\n",
    "upd_events = pd.read_csv('/datasets/final_ab_events_upd_us.csv')\n",
    "upd_participants = pd.read_csv('/datasets/final_ab_participants_upd_us.csv')"
   ]
  },
  {
   "cell_type": "markdown",
   "metadata": {},
   "source": [
    "    Now, we are going to take a look for the datas. These are the datas:"
   ]
  },
  {
   "cell_type": "code",
   "execution_count": 566,
   "metadata": {},
   "outputs": [
    {
     "name": "stdout",
     "output_type": "stream",
     "text": [
      "<class 'pandas.core.frame.DataFrame'>\n",
      "RangeIndex: 14 entries, 0 to 13\n",
      "Data columns (total 4 columns):\n",
      " #   Column     Non-Null Count  Dtype \n",
      "---  ------     --------------  ----- \n",
      " 0   name       14 non-null     object\n",
      " 1   regions    14 non-null     object\n",
      " 2   start_dt   14 non-null     object\n",
      " 3   finish_dt  14 non-null     object\n",
      "dtypes: object(4)\n",
      "memory usage: 576.0+ bytes\n"
     ]
    }
   ],
   "source": [
    "events_marketing.info()"
   ]
  },
  {
   "cell_type": "code",
   "execution_count": 567,
   "metadata": {},
   "outputs": [
    {
     "name": "stdout",
     "output_type": "stream",
     "text": [
      "<class 'pandas.core.frame.DataFrame'>\n",
      "RangeIndex: 58703 entries, 0 to 58702\n",
      "Data columns (total 4 columns):\n",
      " #   Column      Non-Null Count  Dtype         \n",
      "---  ------      --------------  -----         \n",
      " 0   user_id     58703 non-null  object        \n",
      " 1   first_date  58703 non-null  datetime64[ns]\n",
      " 2   region      58703 non-null  object        \n",
      " 3   device      58703 non-null  object        \n",
      "dtypes: datetime64[ns](1), object(3)\n",
      "memory usage: 1.8+ MB\n"
     ]
    }
   ],
   "source": [
    "upd_users.info()"
   ]
  },
  {
   "cell_type": "code",
   "execution_count": 568,
   "metadata": {},
   "outputs": [
    {
     "name": "stdout",
     "output_type": "stream",
     "text": [
      "<class 'pandas.core.frame.DataFrame'>\n",
      "RangeIndex: 423761 entries, 0 to 423760\n",
      "Data columns (total 4 columns):\n",
      " #   Column      Non-Null Count   Dtype  \n",
      "---  ------      --------------   -----  \n",
      " 0   user_id     423761 non-null  object \n",
      " 1   event_dt    423761 non-null  object \n",
      " 2   event_name  423761 non-null  object \n",
      " 3   details     60314 non-null   float64\n",
      "dtypes: float64(1), object(3)\n",
      "memory usage: 12.9+ MB\n"
     ]
    }
   ],
   "source": [
    "upd_events.info()"
   ]
  },
  {
   "cell_type": "code",
   "execution_count": 569,
   "metadata": {},
   "outputs": [
    {
     "name": "stdout",
     "output_type": "stream",
     "text": [
      "<class 'pandas.core.frame.DataFrame'>\n",
      "RangeIndex: 14525 entries, 0 to 14524\n",
      "Data columns (total 3 columns):\n",
      " #   Column   Non-Null Count  Dtype \n",
      "---  ------   --------------  ----- \n",
      " 0   user_id  14525 non-null  object\n",
      " 1   group    14525 non-null  object\n",
      " 2   ab_test  14525 non-null  object\n",
      "dtypes: object(3)\n",
      "memory usage: 340.6+ KB\n"
     ]
    }
   ],
   "source": [
    "upd_participants.info()"
   ]
  },
  {
   "cell_type": "markdown",
   "metadata": {},
   "source": [
    "    Findings:\n",
    "    - We have four datasets, namely 'events_marketing', 'upd_users', 'upd_events', and 'upd_participants'.\n",
    "\n",
    "    For 'events_marketing' dataset:\n",
    "    - The dataset amounted 14 rows and 4 columns.\n",
    "    - With data detailed, dtypes: object(4).\n",
    "    - The capitalization of the columns names title are already appropriate, ie all in consists of lowercase letters.\n",
    "    - Datasets memory usage: 576.0+ bytes.\n",
    "    - In addition, for the dataset structures contain of the name of the marketing event, the regions where the ad campaign will be held, campaign start date, and campaign end date.\n",
    "\n",
    "    For 'upd_users' dataset:\n",
    "    - The dataset amounted 58703 rows and 4 columns.\n",
    "    - With data detailed, dtypes: datetime64[ns](1), object(3).\n",
    "    - The capitalization of the columns names title are already appropriate, ie all in consists of lowercase letters.\n",
    "    - Datasets memory usage: 1.8+ MB.\n",
    "    - In addition, for the dataset structures contain of customers profile of user_id, sign-up date, region, and device used to sign up.\n",
    "\n",
    "    For 'upd_events' dataset:\n",
    "    - The dataset amounted 423761 rows and 4 columns.\n",
    "    - With data detailed, dtypes: float64(1), object(3).\n",
    "    - The capitalization of the columns names title are already appropriate, ie all in consists of lowercase letters.\n",
    "    - Datasets memory usage: 12.9+ MB.\n",
    "    - In addition, for the dataset structures contain of user_id, event date and time, event type name, and the additional data on the event (for instance, the order total in USD for purchase events).\n",
    "    \n",
    "    For 'upd_participants' dataset:\n",
    "    - The dataset amounted 14525 rows and 3 columns.\n",
    "    - With data detailed, dtypes: object(3).\n",
    "    - The capitalization of the columns names title are already appropriate, ie all in consists of lowercase letters.\n",
    "    - Datasets memory usage: 340.6+ KB.\n",
    "    - In addition, for the dataset structures contain of the list of the test group the user belonged to, those are user_id, test name, and the test group the user belonged to its self."
   ]
  },
  {
   "cell_type": "markdown",
   "metadata": {},
   "source": [
    "[Back to Contents](#tableofcontents)"
   ]
  },
  {
   "cell_type": "markdown",
   "metadata": {},
   "source": [
    "### Data Overview Elaboration"
   ]
  },
  {
   "cell_type": "markdown",
   "metadata": {},
   "source": [
    "    In this session, we will do the data overview elaboration by using some functions of 'columns', '.info()', '.head()', and '.describe()' in each datas for checking the datas, as follows:"
   ]
  },
  {
   "cell_type": "markdown",
   "metadata": {},
   "source": [
    "    For 'events_marketing' dataset:"
   ]
  },
  {
   "cell_type": "code",
   "execution_count": 570,
   "metadata": {},
   "outputs": [
    {
     "data": {
      "text/plain": [
       "Index(['name', 'regions', 'start_dt', 'finish_dt'], dtype='object')"
      ]
     },
     "execution_count": 570,
     "metadata": {},
     "output_type": "execute_result"
    }
   ],
   "source": [
    "events_marketing.columns"
   ]
  },
  {
   "cell_type": "code",
   "execution_count": 571,
   "metadata": {},
   "outputs": [
    {
     "name": "stdout",
     "output_type": "stream",
     "text": [
      "<class 'pandas.core.frame.DataFrame'>\n",
      "RangeIndex: 14 entries, 0 to 13\n",
      "Data columns (total 4 columns):\n",
      " #   Column     Non-Null Count  Dtype \n",
      "---  ------     --------------  ----- \n",
      " 0   name       14 non-null     object\n",
      " 1   regions    14 non-null     object\n",
      " 2   start_dt   14 non-null     object\n",
      " 3   finish_dt  14 non-null     object\n",
      "dtypes: object(4)\n",
      "memory usage: 576.0+ bytes\n"
     ]
    }
   ],
   "source": [
    "events_marketing.info()"
   ]
  },
  {
   "cell_type": "code",
   "execution_count": 572,
   "metadata": {},
   "outputs": [
    {
     "data": {
      "text/html": [
       "<div>\n",
       "<style scoped>\n",
       "    .dataframe tbody tr th:only-of-type {\n",
       "        vertical-align: middle;\n",
       "    }\n",
       "\n",
       "    .dataframe tbody tr th {\n",
       "        vertical-align: top;\n",
       "    }\n",
       "\n",
       "    .dataframe thead th {\n",
       "        text-align: right;\n",
       "    }\n",
       "</style>\n",
       "<table border=\"1\" class=\"dataframe\">\n",
       "  <thead>\n",
       "    <tr style=\"text-align: right;\">\n",
       "      <th></th>\n",
       "      <th>name</th>\n",
       "      <th>regions</th>\n",
       "      <th>start_dt</th>\n",
       "      <th>finish_dt</th>\n",
       "    </tr>\n",
       "  </thead>\n",
       "  <tbody>\n",
       "    <tr>\n",
       "      <th>0</th>\n",
       "      <td>Christmas&amp;New Year Promo</td>\n",
       "      <td>EU, N.America</td>\n",
       "      <td>2020-12-25</td>\n",
       "      <td>2021-01-03</td>\n",
       "    </tr>\n",
       "    <tr>\n",
       "      <th>1</th>\n",
       "      <td>St. Valentine's Day Giveaway</td>\n",
       "      <td>EU, CIS, APAC, N.America</td>\n",
       "      <td>2020-02-14</td>\n",
       "      <td>2020-02-16</td>\n",
       "    </tr>\n",
       "    <tr>\n",
       "      <th>2</th>\n",
       "      <td>St. Patric's Day Promo</td>\n",
       "      <td>EU, N.America</td>\n",
       "      <td>2020-03-17</td>\n",
       "      <td>2020-03-19</td>\n",
       "    </tr>\n",
       "    <tr>\n",
       "      <th>3</th>\n",
       "      <td>Easter Promo</td>\n",
       "      <td>EU, CIS, APAC, N.America</td>\n",
       "      <td>2020-04-12</td>\n",
       "      <td>2020-04-19</td>\n",
       "    </tr>\n",
       "    <tr>\n",
       "      <th>4</th>\n",
       "      <td>4th of July Promo</td>\n",
       "      <td>N.America</td>\n",
       "      <td>2020-07-04</td>\n",
       "      <td>2020-07-11</td>\n",
       "    </tr>\n",
       "  </tbody>\n",
       "</table>\n",
       "</div>"
      ],
      "text/plain": [
       "                           name                   regions    start_dt  \\\n",
       "0      Christmas&New Year Promo             EU, N.America  2020-12-25   \n",
       "1  St. Valentine's Day Giveaway  EU, CIS, APAC, N.America  2020-02-14   \n",
       "2        St. Patric's Day Promo             EU, N.America  2020-03-17   \n",
       "3                  Easter Promo  EU, CIS, APAC, N.America  2020-04-12   \n",
       "4             4th of July Promo                 N.America  2020-07-04   \n",
       "\n",
       "    finish_dt  \n",
       "0  2021-01-03  \n",
       "1  2020-02-16  \n",
       "2  2020-03-19  \n",
       "3  2020-04-19  \n",
       "4  2020-07-11  "
      ]
     },
     "execution_count": 572,
     "metadata": {},
     "output_type": "execute_result"
    }
   ],
   "source": [
    "events_marketing.head()"
   ]
  },
  {
   "cell_type": "code",
   "execution_count": 573,
   "metadata": {},
   "outputs": [
    {
     "data": {
      "text/html": [
       "<div>\n",
       "<style scoped>\n",
       "    .dataframe tbody tr th:only-of-type {\n",
       "        vertical-align: middle;\n",
       "    }\n",
       "\n",
       "    .dataframe tbody tr th {\n",
       "        vertical-align: top;\n",
       "    }\n",
       "\n",
       "    .dataframe thead th {\n",
       "        text-align: right;\n",
       "    }\n",
       "</style>\n",
       "<table border=\"1\" class=\"dataframe\">\n",
       "  <thead>\n",
       "    <tr style=\"text-align: right;\">\n",
       "      <th></th>\n",
       "      <th>name</th>\n",
       "      <th>regions</th>\n",
       "      <th>start_dt</th>\n",
       "      <th>finish_dt</th>\n",
       "    </tr>\n",
       "  </thead>\n",
       "  <tbody>\n",
       "    <tr>\n",
       "      <th>count</th>\n",
       "      <td>14</td>\n",
       "      <td>14</td>\n",
       "      <td>14</td>\n",
       "      <td>14</td>\n",
       "    </tr>\n",
       "    <tr>\n",
       "      <th>unique</th>\n",
       "      <td>14</td>\n",
       "      <td>6</td>\n",
       "      <td>14</td>\n",
       "      <td>14</td>\n",
       "    </tr>\n",
       "    <tr>\n",
       "      <th>top</th>\n",
       "      <td>Victory Day CIS (May 9th) Event</td>\n",
       "      <td>APAC</td>\n",
       "      <td>2020-12-25</td>\n",
       "      <td>2020-03-10</td>\n",
       "    </tr>\n",
       "    <tr>\n",
       "      <th>freq</th>\n",
       "      <td>1</td>\n",
       "      <td>4</td>\n",
       "      <td>1</td>\n",
       "      <td>1</td>\n",
       "    </tr>\n",
       "  </tbody>\n",
       "</table>\n",
       "</div>"
      ],
      "text/plain": [
       "                                   name regions    start_dt   finish_dt\n",
       "count                                14      14          14          14\n",
       "unique                               14       6          14          14\n",
       "top     Victory Day CIS (May 9th) Event    APAC  2020-12-25  2020-03-10\n",
       "freq                                  1       4           1           1"
      ]
     },
     "execution_count": 573,
     "metadata": {},
     "output_type": "execute_result"
    }
   ],
   "source": [
    "events_marketing.describe()"
   ]
  },
  {
   "cell_type": "markdown",
   "metadata": {},
   "source": [
    "    For 'upd_users' dataset:"
   ]
  },
  {
   "cell_type": "code",
   "execution_count": 574,
   "metadata": {},
   "outputs": [
    {
     "data": {
      "text/plain": [
       "Index(['user_id', 'first_date', 'region', 'device'], dtype='object')"
      ]
     },
     "execution_count": 574,
     "metadata": {},
     "output_type": "execute_result"
    }
   ],
   "source": [
    "upd_users.columns"
   ]
  },
  {
   "cell_type": "code",
   "execution_count": 576,
   "metadata": {},
   "outputs": [
    {
     "name": "stdout",
     "output_type": "stream",
     "text": [
      "<class 'pandas.core.frame.DataFrame'>\n",
      "RangeIndex: 58703 entries, 0 to 58702\n",
      "Data columns (total 4 columns):\n",
      " #   Column      Non-Null Count  Dtype         \n",
      "---  ------      --------------  -----         \n",
      " 0   user_id     58703 non-null  object        \n",
      " 1   first_date  58703 non-null  datetime64[ns]\n",
      " 2   region      58703 non-null  object        \n",
      " 3   device      58703 non-null  object        \n",
      "dtypes: datetime64[ns](1), object(3)\n",
      "memory usage: 1.8+ MB\n"
     ]
    }
   ],
   "source": [
    "upd_users.info()"
   ]
  },
  {
   "cell_type": "code",
   "execution_count": 577,
   "metadata": {},
   "outputs": [
    {
     "data": {
      "text/html": [
       "<div>\n",
       "<style scoped>\n",
       "    .dataframe tbody tr th:only-of-type {\n",
       "        vertical-align: middle;\n",
       "    }\n",
       "\n",
       "    .dataframe tbody tr th {\n",
       "        vertical-align: top;\n",
       "    }\n",
       "\n",
       "    .dataframe thead th {\n",
       "        text-align: right;\n",
       "    }\n",
       "</style>\n",
       "<table border=\"1\" class=\"dataframe\">\n",
       "  <thead>\n",
       "    <tr style=\"text-align: right;\">\n",
       "      <th></th>\n",
       "      <th>user_id</th>\n",
       "      <th>first_date</th>\n",
       "      <th>region</th>\n",
       "      <th>device</th>\n",
       "    </tr>\n",
       "  </thead>\n",
       "  <tbody>\n",
       "    <tr>\n",
       "      <th>0</th>\n",
       "      <td>D72A72121175D8BE</td>\n",
       "      <td>2020-12-07</td>\n",
       "      <td>EU</td>\n",
       "      <td>PC</td>\n",
       "    </tr>\n",
       "    <tr>\n",
       "      <th>1</th>\n",
       "      <td>F1C668619DFE6E65</td>\n",
       "      <td>2020-12-07</td>\n",
       "      <td>N.America</td>\n",
       "      <td>Android</td>\n",
       "    </tr>\n",
       "    <tr>\n",
       "      <th>2</th>\n",
       "      <td>2E1BF1D4C37EA01F</td>\n",
       "      <td>2020-12-07</td>\n",
       "      <td>EU</td>\n",
       "      <td>PC</td>\n",
       "    </tr>\n",
       "    <tr>\n",
       "      <th>3</th>\n",
       "      <td>50734A22C0C63768</td>\n",
       "      <td>2020-12-07</td>\n",
       "      <td>EU</td>\n",
       "      <td>iPhone</td>\n",
       "    </tr>\n",
       "    <tr>\n",
       "      <th>4</th>\n",
       "      <td>E1BDDCE0DAFA2679</td>\n",
       "      <td>2020-12-07</td>\n",
       "      <td>N.America</td>\n",
       "      <td>iPhone</td>\n",
       "    </tr>\n",
       "  </tbody>\n",
       "</table>\n",
       "</div>"
      ],
      "text/plain": [
       "            user_id first_date     region   device\n",
       "0  D72A72121175D8BE 2020-12-07         EU       PC\n",
       "1  F1C668619DFE6E65 2020-12-07  N.America  Android\n",
       "2  2E1BF1D4C37EA01F 2020-12-07         EU       PC\n",
       "3  50734A22C0C63768 2020-12-07         EU   iPhone\n",
       "4  E1BDDCE0DAFA2679 2020-12-07  N.America   iPhone"
      ]
     },
     "execution_count": 577,
     "metadata": {},
     "output_type": "execute_result"
    }
   ],
   "source": [
    "upd_users.head()"
   ]
  },
  {
   "cell_type": "code",
   "execution_count": 578,
   "metadata": {},
   "outputs": [
    {
     "data": {
      "text/html": [
       "<div>\n",
       "<style scoped>\n",
       "    .dataframe tbody tr th:only-of-type {\n",
       "        vertical-align: middle;\n",
       "    }\n",
       "\n",
       "    .dataframe tbody tr th {\n",
       "        vertical-align: top;\n",
       "    }\n",
       "\n",
       "    .dataframe thead th {\n",
       "        text-align: right;\n",
       "    }\n",
       "</style>\n",
       "<table border=\"1\" class=\"dataframe\">\n",
       "  <thead>\n",
       "    <tr style=\"text-align: right;\">\n",
       "      <th></th>\n",
       "      <th>user_id</th>\n",
       "      <th>first_date</th>\n",
       "      <th>region</th>\n",
       "      <th>device</th>\n",
       "    </tr>\n",
       "  </thead>\n",
       "  <tbody>\n",
       "    <tr>\n",
       "      <th>count</th>\n",
       "      <td>58703</td>\n",
       "      <td>58703</td>\n",
       "      <td>58703</td>\n",
       "      <td>58703</td>\n",
       "    </tr>\n",
       "    <tr>\n",
       "      <th>unique</th>\n",
       "      <td>58703</td>\n",
       "      <td>17</td>\n",
       "      <td>4</td>\n",
       "      <td>4</td>\n",
       "    </tr>\n",
       "    <tr>\n",
       "      <th>top</th>\n",
       "      <td>2D96107E54C97805</td>\n",
       "      <td>2020-12-21 00:00:00</td>\n",
       "      <td>EU</td>\n",
       "      <td>Android</td>\n",
       "    </tr>\n",
       "    <tr>\n",
       "      <th>freq</th>\n",
       "      <td>1</td>\n",
       "      <td>6077</td>\n",
       "      <td>43396</td>\n",
       "      <td>26159</td>\n",
       "    </tr>\n",
       "    <tr>\n",
       "      <th>first</th>\n",
       "      <td>NaN</td>\n",
       "      <td>2020-12-07 00:00:00</td>\n",
       "      <td>NaN</td>\n",
       "      <td>NaN</td>\n",
       "    </tr>\n",
       "    <tr>\n",
       "      <th>last</th>\n",
       "      <td>NaN</td>\n",
       "      <td>2020-12-23 00:00:00</td>\n",
       "      <td>NaN</td>\n",
       "      <td>NaN</td>\n",
       "    </tr>\n",
       "  </tbody>\n",
       "</table>\n",
       "</div>"
      ],
      "text/plain": [
       "                 user_id           first_date region   device\n",
       "count              58703                58703  58703    58703\n",
       "unique             58703                   17      4        4\n",
       "top     2D96107E54C97805  2020-12-21 00:00:00     EU  Android\n",
       "freq                   1                 6077  43396    26159\n",
       "first                NaN  2020-12-07 00:00:00    NaN      NaN\n",
       "last                 NaN  2020-12-23 00:00:00    NaN      NaN"
      ]
     },
     "execution_count": 578,
     "metadata": {},
     "output_type": "execute_result"
    }
   ],
   "source": [
    "upd_users.describe()"
   ]
  },
  {
   "cell_type": "markdown",
   "metadata": {},
   "source": [
    "    For 'upd_events' dataset:"
   ]
  },
  {
   "cell_type": "code",
   "execution_count": 579,
   "metadata": {},
   "outputs": [
    {
     "data": {
      "text/plain": [
       "Index(['user_id', 'event_dt', 'event_name', 'details'], dtype='object')"
      ]
     },
     "execution_count": 579,
     "metadata": {},
     "output_type": "execute_result"
    }
   ],
   "source": [
    "upd_events.columns"
   ]
  },
  {
   "cell_type": "code",
   "execution_count": 580,
   "metadata": {},
   "outputs": [
    {
     "name": "stdout",
     "output_type": "stream",
     "text": [
      "<class 'pandas.core.frame.DataFrame'>\n",
      "RangeIndex: 423761 entries, 0 to 423760\n",
      "Data columns (total 4 columns):\n",
      " #   Column      Non-Null Count   Dtype  \n",
      "---  ------      --------------   -----  \n",
      " 0   user_id     423761 non-null  object \n",
      " 1   event_dt    423761 non-null  object \n",
      " 2   event_name  423761 non-null  object \n",
      " 3   details     60314 non-null   float64\n",
      "dtypes: float64(1), object(3)\n",
      "memory usage: 12.9+ MB\n"
     ]
    }
   ],
   "source": [
    "upd_events.info()"
   ]
  },
  {
   "cell_type": "code",
   "execution_count": 581,
   "metadata": {},
   "outputs": [
    {
     "data": {
      "text/html": [
       "<div>\n",
       "<style scoped>\n",
       "    .dataframe tbody tr th:only-of-type {\n",
       "        vertical-align: middle;\n",
       "    }\n",
       "\n",
       "    .dataframe tbody tr th {\n",
       "        vertical-align: top;\n",
       "    }\n",
       "\n",
       "    .dataframe thead th {\n",
       "        text-align: right;\n",
       "    }\n",
       "</style>\n",
       "<table border=\"1\" class=\"dataframe\">\n",
       "  <thead>\n",
       "    <tr style=\"text-align: right;\">\n",
       "      <th></th>\n",
       "      <th>user_id</th>\n",
       "      <th>event_dt</th>\n",
       "      <th>event_name</th>\n",
       "      <th>details</th>\n",
       "    </tr>\n",
       "  </thead>\n",
       "  <tbody>\n",
       "    <tr>\n",
       "      <th>0</th>\n",
       "      <td>E1BDDCE0DAFA2679</td>\n",
       "      <td>2020-12-07 20:22:03</td>\n",
       "      <td>purchase</td>\n",
       "      <td>99.99</td>\n",
       "    </tr>\n",
       "    <tr>\n",
       "      <th>1</th>\n",
       "      <td>7B6452F081F49504</td>\n",
       "      <td>2020-12-07 09:22:53</td>\n",
       "      <td>purchase</td>\n",
       "      <td>9.99</td>\n",
       "    </tr>\n",
       "    <tr>\n",
       "      <th>2</th>\n",
       "      <td>9CD9F34546DF254C</td>\n",
       "      <td>2020-12-07 12:59:29</td>\n",
       "      <td>purchase</td>\n",
       "      <td>4.99</td>\n",
       "    </tr>\n",
       "    <tr>\n",
       "      <th>3</th>\n",
       "      <td>96F27A054B191457</td>\n",
       "      <td>2020-12-07 04:02:40</td>\n",
       "      <td>purchase</td>\n",
       "      <td>4.99</td>\n",
       "    </tr>\n",
       "    <tr>\n",
       "      <th>4</th>\n",
       "      <td>1FD7660FDF94CA1F</td>\n",
       "      <td>2020-12-07 10:15:09</td>\n",
       "      <td>purchase</td>\n",
       "      <td>4.99</td>\n",
       "    </tr>\n",
       "  </tbody>\n",
       "</table>\n",
       "</div>"
      ],
      "text/plain": [
       "            user_id             event_dt event_name  details\n",
       "0  E1BDDCE0DAFA2679  2020-12-07 20:22:03   purchase    99.99\n",
       "1  7B6452F081F49504  2020-12-07 09:22:53   purchase     9.99\n",
       "2  9CD9F34546DF254C  2020-12-07 12:59:29   purchase     4.99\n",
       "3  96F27A054B191457  2020-12-07 04:02:40   purchase     4.99\n",
       "4  1FD7660FDF94CA1F  2020-12-07 10:15:09   purchase     4.99"
      ]
     },
     "execution_count": 581,
     "metadata": {},
     "output_type": "execute_result"
    }
   ],
   "source": [
    "upd_events.head()"
   ]
  },
  {
   "cell_type": "code",
   "execution_count": 582,
   "metadata": {},
   "outputs": [
    {
     "data": {
      "text/html": [
       "<div>\n",
       "<style scoped>\n",
       "    .dataframe tbody tr th:only-of-type {\n",
       "        vertical-align: middle;\n",
       "    }\n",
       "\n",
       "    .dataframe tbody tr th {\n",
       "        vertical-align: top;\n",
       "    }\n",
       "\n",
       "    .dataframe thead th {\n",
       "        text-align: right;\n",
       "    }\n",
       "</style>\n",
       "<table border=\"1\" class=\"dataframe\">\n",
       "  <thead>\n",
       "    <tr style=\"text-align: right;\">\n",
       "      <th></th>\n",
       "      <th>details</th>\n",
       "    </tr>\n",
       "  </thead>\n",
       "  <tbody>\n",
       "    <tr>\n",
       "      <th>count</th>\n",
       "      <td>60314.000000</td>\n",
       "    </tr>\n",
       "    <tr>\n",
       "      <th>mean</th>\n",
       "      <td>23.881219</td>\n",
       "    </tr>\n",
       "    <tr>\n",
       "      <th>std</th>\n",
       "      <td>72.228884</td>\n",
       "    </tr>\n",
       "    <tr>\n",
       "      <th>min</th>\n",
       "      <td>4.990000</td>\n",
       "    </tr>\n",
       "    <tr>\n",
       "      <th>25%</th>\n",
       "      <td>4.990000</td>\n",
       "    </tr>\n",
       "    <tr>\n",
       "      <th>50%</th>\n",
       "      <td>4.990000</td>\n",
       "    </tr>\n",
       "    <tr>\n",
       "      <th>75%</th>\n",
       "      <td>9.990000</td>\n",
       "    </tr>\n",
       "    <tr>\n",
       "      <th>max</th>\n",
       "      <td>499.990000</td>\n",
       "    </tr>\n",
       "  </tbody>\n",
       "</table>\n",
       "</div>"
      ],
      "text/plain": [
       "            details\n",
       "count  60314.000000\n",
       "mean      23.881219\n",
       "std       72.228884\n",
       "min        4.990000\n",
       "25%        4.990000\n",
       "50%        4.990000\n",
       "75%        9.990000\n",
       "max      499.990000"
      ]
     },
     "execution_count": 582,
     "metadata": {},
     "output_type": "execute_result"
    }
   ],
   "source": [
    "upd_events.describe()"
   ]
  },
  {
   "cell_type": "markdown",
   "metadata": {},
   "source": [
    "    For 'upd_participants' dataset:\n",
    "    - For additional, we will use 'tail()' function in 'upd_participants' as well."
   ]
  },
  {
   "cell_type": "code",
   "execution_count": 583,
   "metadata": {},
   "outputs": [
    {
     "data": {
      "text/plain": [
       "Index(['user_id', 'group', 'ab_test'], dtype='object')"
      ]
     },
     "execution_count": 583,
     "metadata": {},
     "output_type": "execute_result"
    }
   ],
   "source": [
    "upd_participants.columns"
   ]
  },
  {
   "cell_type": "code",
   "execution_count": 584,
   "metadata": {},
   "outputs": [
    {
     "name": "stdout",
     "output_type": "stream",
     "text": [
      "<class 'pandas.core.frame.DataFrame'>\n",
      "RangeIndex: 14525 entries, 0 to 14524\n",
      "Data columns (total 3 columns):\n",
      " #   Column   Non-Null Count  Dtype \n",
      "---  ------   --------------  ----- \n",
      " 0   user_id  14525 non-null  object\n",
      " 1   group    14525 non-null  object\n",
      " 2   ab_test  14525 non-null  object\n",
      "dtypes: object(3)\n",
      "memory usage: 340.6+ KB\n"
     ]
    }
   ],
   "source": [
    "upd_participants.info()"
   ]
  },
  {
   "cell_type": "code",
   "execution_count": 585,
   "metadata": {},
   "outputs": [
    {
     "data": {
      "text/html": [
       "<div>\n",
       "<style scoped>\n",
       "    .dataframe tbody tr th:only-of-type {\n",
       "        vertical-align: middle;\n",
       "    }\n",
       "\n",
       "    .dataframe tbody tr th {\n",
       "        vertical-align: top;\n",
       "    }\n",
       "\n",
       "    .dataframe thead th {\n",
       "        text-align: right;\n",
       "    }\n",
       "</style>\n",
       "<table border=\"1\" class=\"dataframe\">\n",
       "  <thead>\n",
       "    <tr style=\"text-align: right;\">\n",
       "      <th></th>\n",
       "      <th>user_id</th>\n",
       "      <th>group</th>\n",
       "      <th>ab_test</th>\n",
       "    </tr>\n",
       "  </thead>\n",
       "  <tbody>\n",
       "    <tr>\n",
       "      <th>0</th>\n",
       "      <td>D1ABA3E2887B6A73</td>\n",
       "      <td>A</td>\n",
       "      <td>recommender_system_test</td>\n",
       "    </tr>\n",
       "    <tr>\n",
       "      <th>1</th>\n",
       "      <td>A7A3664BD6242119</td>\n",
       "      <td>A</td>\n",
       "      <td>recommender_system_test</td>\n",
       "    </tr>\n",
       "    <tr>\n",
       "      <th>2</th>\n",
       "      <td>DABC14FDDFADD29E</td>\n",
       "      <td>A</td>\n",
       "      <td>recommender_system_test</td>\n",
       "    </tr>\n",
       "    <tr>\n",
       "      <th>3</th>\n",
       "      <td>04988C5DF189632E</td>\n",
       "      <td>A</td>\n",
       "      <td>recommender_system_test</td>\n",
       "    </tr>\n",
       "    <tr>\n",
       "      <th>4</th>\n",
       "      <td>4FF2998A348C484F</td>\n",
       "      <td>A</td>\n",
       "      <td>recommender_system_test</td>\n",
       "    </tr>\n",
       "  </tbody>\n",
       "</table>\n",
       "</div>"
      ],
      "text/plain": [
       "            user_id group                  ab_test\n",
       "0  D1ABA3E2887B6A73     A  recommender_system_test\n",
       "1  A7A3664BD6242119     A  recommender_system_test\n",
       "2  DABC14FDDFADD29E     A  recommender_system_test\n",
       "3  04988C5DF189632E     A  recommender_system_test\n",
       "4  4FF2998A348C484F     A  recommender_system_test"
      ]
     },
     "execution_count": 585,
     "metadata": {},
     "output_type": "execute_result"
    }
   ],
   "source": [
    "upd_participants.head()"
   ]
  },
  {
   "cell_type": "code",
   "execution_count": 586,
   "metadata": {},
   "outputs": [
    {
     "data": {
      "text/html": [
       "<div>\n",
       "<style scoped>\n",
       "    .dataframe tbody tr th:only-of-type {\n",
       "        vertical-align: middle;\n",
       "    }\n",
       "\n",
       "    .dataframe tbody tr th {\n",
       "        vertical-align: top;\n",
       "    }\n",
       "\n",
       "    .dataframe thead th {\n",
       "        text-align: right;\n",
       "    }\n",
       "</style>\n",
       "<table border=\"1\" class=\"dataframe\">\n",
       "  <thead>\n",
       "    <tr style=\"text-align: right;\">\n",
       "      <th></th>\n",
       "      <th>user_id</th>\n",
       "      <th>group</th>\n",
       "      <th>ab_test</th>\n",
       "    </tr>\n",
       "  </thead>\n",
       "  <tbody>\n",
       "    <tr>\n",
       "      <th>14520</th>\n",
       "      <td>1D302F8688B91781</td>\n",
       "      <td>B</td>\n",
       "      <td>interface_eu_test</td>\n",
       "    </tr>\n",
       "    <tr>\n",
       "      <th>14521</th>\n",
       "      <td>3DE51B726983B657</td>\n",
       "      <td>A</td>\n",
       "      <td>interface_eu_test</td>\n",
       "    </tr>\n",
       "    <tr>\n",
       "      <th>14522</th>\n",
       "      <td>F501F79D332BE86C</td>\n",
       "      <td>A</td>\n",
       "      <td>interface_eu_test</td>\n",
       "    </tr>\n",
       "    <tr>\n",
       "      <th>14523</th>\n",
       "      <td>63FBE257B05F2245</td>\n",
       "      <td>A</td>\n",
       "      <td>interface_eu_test</td>\n",
       "    </tr>\n",
       "    <tr>\n",
       "      <th>14524</th>\n",
       "      <td>79F9ABFB029CF724</td>\n",
       "      <td>B</td>\n",
       "      <td>interface_eu_test</td>\n",
       "    </tr>\n",
       "  </tbody>\n",
       "</table>\n",
       "</div>"
      ],
      "text/plain": [
       "                user_id group            ab_test\n",
       "14520  1D302F8688B91781     B  interface_eu_test\n",
       "14521  3DE51B726983B657     A  interface_eu_test\n",
       "14522  F501F79D332BE86C     A  interface_eu_test\n",
       "14523  63FBE257B05F2245     A  interface_eu_test\n",
       "14524  79F9ABFB029CF724     B  interface_eu_test"
      ]
     },
     "execution_count": 586,
     "metadata": {},
     "output_type": "execute_result"
    }
   ],
   "source": [
    "upd_participants.tail()"
   ]
  },
  {
   "cell_type": "code",
   "execution_count": 587,
   "metadata": {},
   "outputs": [
    {
     "data": {
      "text/html": [
       "<div>\n",
       "<style scoped>\n",
       "    .dataframe tbody tr th:only-of-type {\n",
       "        vertical-align: middle;\n",
       "    }\n",
       "\n",
       "    .dataframe tbody tr th {\n",
       "        vertical-align: top;\n",
       "    }\n",
       "\n",
       "    .dataframe thead th {\n",
       "        text-align: right;\n",
       "    }\n",
       "</style>\n",
       "<table border=\"1\" class=\"dataframe\">\n",
       "  <thead>\n",
       "    <tr style=\"text-align: right;\">\n",
       "      <th></th>\n",
       "      <th>user_id</th>\n",
       "      <th>group</th>\n",
       "      <th>ab_test</th>\n",
       "    </tr>\n",
       "  </thead>\n",
       "  <tbody>\n",
       "    <tr>\n",
       "      <th>count</th>\n",
       "      <td>14525</td>\n",
       "      <td>14525</td>\n",
       "      <td>14525</td>\n",
       "    </tr>\n",
       "    <tr>\n",
       "      <th>unique</th>\n",
       "      <td>13638</td>\n",
       "      <td>2</td>\n",
       "      <td>2</td>\n",
       "    </tr>\n",
       "    <tr>\n",
       "      <th>top</th>\n",
       "      <td>C176364EF5C025EA</td>\n",
       "      <td>A</td>\n",
       "      <td>interface_eu_test</td>\n",
       "    </tr>\n",
       "    <tr>\n",
       "      <th>freq</th>\n",
       "      <td>2</td>\n",
       "      <td>8214</td>\n",
       "      <td>10850</td>\n",
       "    </tr>\n",
       "  </tbody>\n",
       "</table>\n",
       "</div>"
      ],
      "text/plain": [
       "                 user_id  group            ab_test\n",
       "count              14525  14525              14525\n",
       "unique             13638      2                  2\n",
       "top     C176364EF5C025EA      A  interface_eu_test\n",
       "freq                   2   8214              10850"
      ]
     },
     "execution_count": 587,
     "metadata": {},
     "output_type": "execute_result"
    }
   ],
   "source": [
    "upd_participants.describe()"
   ]
  },
  {
   "cell_type": "markdown",
   "metadata": {},
   "source": [
    "    Findings:\n",
    "    \n",
    "    - In the results above, we find that these data are in the form of object(4) from 'events_marketing' dataset, datetime64[ns](1), object(3) from 'upd_users' dataset, float64(1), object(3) from 'upd_events' dataset, and object(3) from 'upd_participants' dataset.\n",
    "    - In the result of '.head()' function, four datasets display that all of this datas are 'variant' in the form of string and numbers. The numbers form are consisting of integers, decimal numbers, datetime, also sometimes mixed with letters."
   ]
  },
  {
   "cell_type": "markdown",
   "metadata": {},
   "source": [
    "[Back to Contents](#tableofcontents)"
   ]
  },
  {
   "cell_type": "markdown",
   "metadata": {},
   "source": [
    "### Ensuring the Data Quality"
   ]
  },
  {
   "cell_type": "markdown",
   "metadata": {},
   "source": [
    "    In this session, we will ensure the Data Quality for 'events_marketing', 'upd_users', 'upd_events', and 'upd_participants' dataset, as follows:"
   ]
  },
  {
   "cell_type": "markdown",
   "metadata": {},
   "source": [
    "    For 'events_marketing' dataset:"
   ]
  },
  {
   "cell_type": "markdown",
   "metadata": {},
   "source": [
    "    First, we are going to ensure the data quality of the 'name' column, as follows:"
   ]
  },
  {
   "cell_type": "code",
   "execution_count": 588,
   "metadata": {},
   "outputs": [
    {
     "data": {
      "text/plain": [
       "Victory Day CIS (May 9th) Event     1\n",
       "Black Friday Ads Campaign           1\n",
       "Chinese New Year Promo              1\n",
       "4th of July Promo                   1\n",
       "St. Valentine's Day Giveaway        1\n",
       "CIS New Year Gift Lottery           1\n",
       "International Women's Day Promo     1\n",
       "Christmas&New Year Promo            1\n",
       "St. Patric's Day Promo              1\n",
       "Dragon Boat Festival Giveaway       1\n",
       "Easter Promo                        1\n",
       "Chinese Moon Festival               1\n",
       "Single's Day Gift Promo             1\n",
       "Labor day (May 1st) Ads Campaign    1\n",
       "Name: name, dtype: int64"
      ]
     },
     "execution_count": 588,
     "metadata": {},
     "output_type": "execute_result"
    }
   ],
   "source": [
    "events_marketing['name'].value_counts()"
   ]
  },
  {
   "cell_type": "markdown",
   "metadata": {},
   "source": [
    "    Second, we are going to ensure the data quality of the 'regions' column, as follows:"
   ]
  },
  {
   "cell_type": "code",
   "execution_count": 589,
   "metadata": {},
   "outputs": [
    {
     "data": {
      "text/plain": [
       "APAC                        4\n",
       "EU, CIS, APAC, N.America    3\n",
       "EU, CIS, APAC               2\n",
       "CIS                         2\n",
       "EU, N.America               2\n",
       "N.America                   1\n",
       "Name: regions, dtype: int64"
      ]
     },
     "execution_count": 589,
     "metadata": {},
     "output_type": "execute_result"
    }
   ],
   "source": [
    "events_marketing['regions'].value_counts()"
   ]
  },
  {
   "cell_type": "markdown",
   "metadata": {},
   "source": [
    "    Third, we are going to ensure the data quality of the 'start_dt' column, as follows:"
   ]
  },
  {
   "cell_type": "code",
   "execution_count": 590,
   "metadata": {},
   "outputs": [
    {
     "data": {
      "text/plain": [
       "2020-12-25    1\n",
       "2020-05-01    1\n",
       "2020-11-11    1\n",
       "2020-02-14    1\n",
       "2020-05-09    1\n",
       "2020-01-25    1\n",
       "2020-12-30    1\n",
       "2020-04-12    1\n",
       "2020-03-17    1\n",
       "2020-11-26    1\n",
       "2020-06-25    1\n",
       "2020-10-01    1\n",
       "2020-03-08    1\n",
       "2020-07-04    1\n",
       "Name: start_dt, dtype: int64"
      ]
     },
     "execution_count": 590,
     "metadata": {},
     "output_type": "execute_result"
    }
   ],
   "source": [
    "events_marketing['start_dt'].value_counts()"
   ]
  },
  {
   "cell_type": "markdown",
   "metadata": {},
   "source": [
    "    Fourth, we are going to ensure the data quality of the 'finish_dt' column, as follows:"
   ]
  },
  {
   "cell_type": "code",
   "execution_count": 591,
   "metadata": {},
   "outputs": [
    {
     "data": {
      "text/plain": [
       "2020-03-10    1\n",
       "2020-05-11    1\n",
       "2020-02-07    1\n",
       "2020-03-19    1\n",
       "2020-10-07    1\n",
       "2020-07-01    1\n",
       "2020-05-03    1\n",
       "2020-02-16    1\n",
       "2020-11-12    1\n",
       "2021-01-03    1\n",
       "2020-07-11    1\n",
       "2020-04-19    1\n",
       "2021-01-07    1\n",
       "2020-12-01    1\n",
       "Name: finish_dt, dtype: int64"
      ]
     },
     "execution_count": 591,
     "metadata": {},
     "output_type": "execute_result"
    }
   ],
   "source": [
    "events_marketing['finish_dt'].value_counts()"
   ]
  },
  {
   "cell_type": "markdown",
   "metadata": {},
   "source": [
    "[Back to Contents](#tableofcontents)"
   ]
  },
  {
   "cell_type": "markdown",
   "metadata": {},
   "source": [
    "    For 'upd_users' dataset:"
   ]
  },
  {
   "cell_type": "markdown",
   "metadata": {},
   "source": [
    "    First, we are going to ensure the data quality of the 'user_id' column, as follows:"
   ]
  },
  {
   "cell_type": "code",
   "execution_count": 592,
   "metadata": {},
   "outputs": [
    {
     "data": {
      "text/plain": [
       "2D96107E54C97805    1\n",
       "AB22652B06780351    1\n",
       "BD2EF8DD4FC09ECD    1\n",
       "6E35C74A1FC5CA9B    1\n",
       "0E828FD81D602B5F    1\n",
       "                   ..\n",
       "E3EFDD37947AA52C    1\n",
       "68329861756581A3    1\n",
       "93E52F9B8F49F10A    1\n",
       "6A1BD777F7B4D958    1\n",
       "E0C4CD42FBB50D5C    1\n",
       "Name: user_id, Length: 58703, dtype: int64"
      ]
     },
     "execution_count": 592,
     "metadata": {},
     "output_type": "execute_result"
    }
   ],
   "source": [
    "upd_users['user_id'].value_counts()"
   ]
  },
  {
   "cell_type": "markdown",
   "metadata": {},
   "source": [
    "    Second, we are going to ensure the data quality of the 'first_date' column, as follows:"
   ]
  },
  {
   "cell_type": "code",
   "execution_count": 593,
   "metadata": {},
   "outputs": [
    {
     "data": {
      "text/plain": [
       "2020-12-21    6077\n",
       "2020-12-14    5448\n",
       "2020-12-07    5291\n",
       "2020-12-13    4181\n",
       "2020-12-20    4140\n",
       "2020-12-12    3591\n",
       "2020-12-19    3480\n",
       "2020-12-18    3238\n",
       "2020-12-22    3083\n",
       "2020-12-08    3017\n",
       "2020-12-17    2940\n",
       "2020-12-15    2924\n",
       "2020-12-10    2784\n",
       "2020-12-11    2226\n",
       "2020-12-23    2180\n",
       "2020-12-16    2093\n",
       "2020-12-09    2010\n",
       "Name: first_date, dtype: int64"
      ]
     },
     "execution_count": 593,
     "metadata": {},
     "output_type": "execute_result"
    }
   ],
   "source": [
    "upd_users['first_date'].value_counts()"
   ]
  },
  {
   "cell_type": "markdown",
   "metadata": {},
   "source": [
    "    Third, we are going to ensure the data quality of the 'region' column, as follows:"
   ]
  },
  {
   "cell_type": "code",
   "execution_count": 594,
   "metadata": {},
   "outputs": [
    {
     "data": {
      "text/plain": [
       "EU           43396\n",
       "N.America     9051\n",
       "CIS           3130\n",
       "APAC          3126\n",
       "Name: region, dtype: int64"
      ]
     },
     "execution_count": 594,
     "metadata": {},
     "output_type": "execute_result"
    }
   ],
   "source": [
    "upd_users['region'].value_counts()"
   ]
  },
  {
   "cell_type": "markdown",
   "metadata": {},
   "source": [
    "    Fourth, we are going to ensure the data quality of the 'device' column, as follows:"
   ]
  },
  {
   "cell_type": "code",
   "execution_count": 595,
   "metadata": {},
   "outputs": [
    {
     "data": {
      "text/plain": [
       "Android    26159\n",
       "PC         14845\n",
       "iPhone     11902\n",
       "Mac         5797\n",
       "Name: device, dtype: int64"
      ]
     },
     "execution_count": 595,
     "metadata": {},
     "output_type": "execute_result"
    }
   ],
   "source": [
    "upd_users['device'].value_counts()"
   ]
  },
  {
   "cell_type": "markdown",
   "metadata": {},
   "source": [
    "    Temporary Findings:\n",
    "    - After we ensure for 'upd_users' dataset, we find that there are users who sign up on the dates of 21-23 December 2020 while for this testing, the date company stopped taking up new users is 2020-12-21. Therefore, in the EDA stage, we will pull out them after merge all DataFrames into a DataFrame."
   ]
  },
  {
   "cell_type": "markdown",
   "metadata": {},
   "source": [
    "[Back to Contents](#tableofcontents)"
   ]
  },
  {
   "cell_type": "markdown",
   "metadata": {},
   "source": [
    "    For 'upd_events' dataset:"
   ]
  },
  {
   "cell_type": "markdown",
   "metadata": {},
   "source": [
    "    First, we are going to ensure the data quality of the 'user_id' column, as follows:"
   ]
  },
  {
   "cell_type": "code",
   "execution_count": 596,
   "metadata": {},
   "outputs": [
    {
     "data": {
      "text/plain": [
       "A3917F81482141F2    36\n",
       "11285A53EC2B2042    32\n",
       "426330B820B8711A    32\n",
       "203773F2A53233A8    32\n",
       "BA87FD8D70D63CC6    32\n",
       "                    ..\n",
       "2C7FEE67C695C917     1\n",
       "C080A63FE13731F2     1\n",
       "923BE026798BEA41     1\n",
       "7BDABCEAA9019C0A     1\n",
       "DE62057CDAF5B1A6     1\n",
       "Name: user_id, Length: 58703, dtype: int64"
      ]
     },
     "execution_count": 596,
     "metadata": {},
     "output_type": "execute_result"
    }
   ],
   "source": [
    "upd_events['user_id'].value_counts()"
   ]
  },
  {
   "cell_type": "markdown",
   "metadata": {},
   "source": [
    "    Second, we are going to ensure the data quality of the 'event_dt' column, as follows:"
   ]
  },
  {
   "cell_type": "code",
   "execution_count": 597,
   "metadata": {},
   "outputs": [
    {
     "data": {
      "text/plain": [
       "2020-12-23 02:37:24    10\n",
       "2020-12-14 18:54:55    10\n",
       "2020-12-24 00:54:52     9\n",
       "2020-12-20 02:51:18     9\n",
       "2020-12-13 06:00:54     9\n",
       "                       ..\n",
       "2020-12-16 14:27:34     1\n",
       "2020-12-24 13:25:03     1\n",
       "2020-12-07 16:09:09     1\n",
       "2020-12-09 21:28:49     1\n",
       "2020-12-17 11:57:20     1\n",
       "Name: event_dt, Length: 257138, dtype: int64"
      ]
     },
     "execution_count": 597,
     "metadata": {},
     "output_type": "execute_result"
    }
   ],
   "source": [
    "upd_events['event_dt'].value_counts()"
   ]
  },
  {
   "cell_type": "markdown",
   "metadata": {},
   "source": [
    "    Third, we are going to ensure the data quality of the 'event_name' column, as follows:"
   ]
  },
  {
   "cell_type": "code",
   "execution_count": 598,
   "metadata": {},
   "outputs": [
    {
     "data": {
      "text/plain": [
       "login           182465\n",
       "product_page    120862\n",
       "purchase         60314\n",
       "product_cart     60120\n",
       "Name: event_name, dtype: int64"
      ]
     },
     "execution_count": 598,
     "metadata": {},
     "output_type": "execute_result"
    }
   ],
   "source": [
    "upd_events['event_name'].value_counts()"
   ]
  },
  {
   "cell_type": "markdown",
   "metadata": {},
   "source": [
    "    Fourth, we are going to ensure the data quality of the 'details' column, as follows:"
   ]
  },
  {
   "cell_type": "code",
   "execution_count": 599,
   "metadata": {},
   "outputs": [
    {
     "data": {
      "text/plain": [
       "4.99      44579\n",
       "9.99       9158\n",
       "99.99      5405\n",
       "499.99     1172\n",
       "Name: details, dtype: int64"
      ]
     },
     "execution_count": 599,
     "metadata": {},
     "output_type": "execute_result"
    }
   ],
   "source": [
    "upd_events['details'].value_counts()"
   ]
  },
  {
   "cell_type": "markdown",
   "metadata": {},
   "source": [
    "[Back to Contents](#tableofcontents)"
   ]
  },
  {
   "cell_type": "markdown",
   "metadata": {},
   "source": [
    "    For 'upd_participants' dataset:"
   ]
  },
  {
   "cell_type": "code",
   "execution_count": 600,
   "metadata": {},
   "outputs": [
    {
     "name": "stdout",
     "output_type": "stream",
     "text": [
      "<class 'pandas.core.frame.DataFrame'>\n",
      "RangeIndex: 14525 entries, 0 to 14524\n",
      "Data columns (total 3 columns):\n",
      " #   Column   Non-Null Count  Dtype \n",
      "---  ------   --------------  ----- \n",
      " 0   user_id  14525 non-null  object\n",
      " 1   group    14525 non-null  object\n",
      " 2   ab_test  14525 non-null  object\n",
      "dtypes: object(3)\n",
      "memory usage: 340.6+ KB\n"
     ]
    }
   ],
   "source": [
    "upd_participants.info()"
   ]
  },
  {
   "cell_type": "markdown",
   "metadata": {},
   "source": [
    "    First, we are going to ensure the data quality of the 'user_id' column, as follows:"
   ]
  },
  {
   "cell_type": "code",
   "execution_count": 601,
   "metadata": {},
   "outputs": [
    {
     "data": {
      "text/plain": [
       "C176364EF5C025EA    2\n",
       "055A4CD17A483B8E    2\n",
       "697F116B31D05FCF    2\n",
       "BD5317D49443EA5E    2\n",
       "0DD2E54D87CFD4A4    2\n",
       "                   ..\n",
       "C18F8E6B295095EE    1\n",
       "43BA33CDED9F1870    1\n",
       "3BEEA4EF95E9296A    1\n",
       "7059DFDF8025FD86    1\n",
       "362ECAB1F601F687    1\n",
       "Name: user_id, Length: 13638, dtype: int64"
      ]
     },
     "execution_count": 601,
     "metadata": {},
     "output_type": "execute_result"
    }
   ],
   "source": [
    "upd_participants['user_id'].value_counts()"
   ]
  },
  {
   "cell_type": "markdown",
   "metadata": {},
   "source": [
    "    Second, we are going to ensure the data quality of the 'group' column, as follows:"
   ]
  },
  {
   "cell_type": "code",
   "execution_count": 602,
   "metadata": {},
   "outputs": [
    {
     "data": {
      "text/plain": [
       "A    8214\n",
       "B    6311\n",
       "Name: group, dtype: int64"
      ]
     },
     "execution_count": 602,
     "metadata": {},
     "output_type": "execute_result"
    }
   ],
   "source": [
    "upd_participants['group'].value_counts()"
   ]
  },
  {
   "cell_type": "markdown",
   "metadata": {},
   "source": [
    "    Third, we are going to ensure the data quality of the 'ab_test' column, as follows:"
   ]
  },
  {
   "cell_type": "code",
   "execution_count": 603,
   "metadata": {},
   "outputs": [
    {
     "data": {
      "text/plain": [
       "interface_eu_test          10850\n",
       "recommender_system_test     3675\n",
       "Name: ab_test, dtype: int64"
      ]
     },
     "execution_count": 603,
     "metadata": {},
     "output_type": "execute_result"
    }
   ],
   "source": [
    "upd_participants['ab_test'].value_counts()"
   ]
  },
  {
   "cell_type": "markdown",
   "metadata": {},
   "source": [
    "    Findings:\n",
    "    \n",
    "    - We have checked the Data Quality of dataset columns.\n",
    "    - As we could see on the 'group' column above, consist of:\n",
    "        a. Group A: 8214 participants (control group)\n",
    "        b. Group B: 6311 participants (new payment funnel group) => which surpass our expected number of test participants: that is stated 6000 at technical description.\n",
    "    \n",
    "    - From ensuring the data quality of the 'ab_test' column above, there are two type of 'ab_test', those are 'interface_eu_test' and 'recommender_system_test'. Cause of our purpose of this A/B testing analysis is for 'recommender_system_test' experiment (as stated at the technical description from our predecessor). Hence, we will remove the 'interface_eu_test' in the next session."
   ]
  },
  {
   "cell_type": "markdown",
   "metadata": {},
   "source": [
    "[Back to Contents](#tableofcontents)"
   ]
  },
  {
   "cell_type": "markdown",
   "metadata": {},
   "source": [
    "### Removing One of The 'ab_test' Types\n",
    "    - Removing the 'interface_eu_test' type of 'ab_test' from 'upd_participants' dataset."
   ]
  },
  {
   "cell_type": "markdown",
   "metadata": {},
   "source": [
    "    In this case, we will remove the 'interface_eu_test' from 'upd_participants' dataset and save into new table, as follows:"
   ]
  },
  {
   "cell_type": "code",
   "execution_count": 604,
   "metadata": {},
   "outputs": [
    {
     "data": {
      "text/html": [
       "<div>\n",
       "<style scoped>\n",
       "    .dataframe tbody tr th:only-of-type {\n",
       "        vertical-align: middle;\n",
       "    }\n",
       "\n",
       "    .dataframe tbody tr th {\n",
       "        vertical-align: top;\n",
       "    }\n",
       "\n",
       "    .dataframe thead th {\n",
       "        text-align: right;\n",
       "    }\n",
       "</style>\n",
       "<table border=\"1\" class=\"dataframe\">\n",
       "  <thead>\n",
       "    <tr style=\"text-align: right;\">\n",
       "      <th></th>\n",
       "      <th>user_id</th>\n",
       "      <th>group</th>\n",
       "      <th>ab_test</th>\n",
       "    </tr>\n",
       "  </thead>\n",
       "  <tbody>\n",
       "    <tr>\n",
       "      <th>0</th>\n",
       "      <td>D1ABA3E2887B6A73</td>\n",
       "      <td>A</td>\n",
       "      <td>recommender_system_test</td>\n",
       "    </tr>\n",
       "    <tr>\n",
       "      <th>1</th>\n",
       "      <td>A7A3664BD6242119</td>\n",
       "      <td>A</td>\n",
       "      <td>recommender_system_test</td>\n",
       "    </tr>\n",
       "    <tr>\n",
       "      <th>2</th>\n",
       "      <td>DABC14FDDFADD29E</td>\n",
       "      <td>A</td>\n",
       "      <td>recommender_system_test</td>\n",
       "    </tr>\n",
       "    <tr>\n",
       "      <th>3</th>\n",
       "      <td>04988C5DF189632E</td>\n",
       "      <td>A</td>\n",
       "      <td>recommender_system_test</td>\n",
       "    </tr>\n",
       "    <tr>\n",
       "      <th>4</th>\n",
       "      <td>4FF2998A348C484F</td>\n",
       "      <td>A</td>\n",
       "      <td>recommender_system_test</td>\n",
       "    </tr>\n",
       "    <tr>\n",
       "      <th>...</th>\n",
       "      <td>...</td>\n",
       "      <td>...</td>\n",
       "      <td>...</td>\n",
       "    </tr>\n",
       "    <tr>\n",
       "      <th>3670</th>\n",
       "      <td>053FB26D6D49EDDC</td>\n",
       "      <td>A</td>\n",
       "      <td>recommender_system_test</td>\n",
       "    </tr>\n",
       "    <tr>\n",
       "      <th>3671</th>\n",
       "      <td>9D263B8EF15CF188</td>\n",
       "      <td>B</td>\n",
       "      <td>recommender_system_test</td>\n",
       "    </tr>\n",
       "    <tr>\n",
       "      <th>3672</th>\n",
       "      <td>F2FBBA33F37DEC46</td>\n",
       "      <td>A</td>\n",
       "      <td>recommender_system_test</td>\n",
       "    </tr>\n",
       "    <tr>\n",
       "      <th>3673</th>\n",
       "      <td>29C92313A98B1176</td>\n",
       "      <td>B</td>\n",
       "      <td>recommender_system_test</td>\n",
       "    </tr>\n",
       "    <tr>\n",
       "      <th>3674</th>\n",
       "      <td>6715343AFBA285AE</td>\n",
       "      <td>B</td>\n",
       "      <td>recommender_system_test</td>\n",
       "    </tr>\n",
       "  </tbody>\n",
       "</table>\n",
       "<p>3675 rows × 3 columns</p>\n",
       "</div>"
      ],
      "text/plain": [
       "               user_id group                  ab_test\n",
       "0     D1ABA3E2887B6A73     A  recommender_system_test\n",
       "1     A7A3664BD6242119     A  recommender_system_test\n",
       "2     DABC14FDDFADD29E     A  recommender_system_test\n",
       "3     04988C5DF189632E     A  recommender_system_test\n",
       "4     4FF2998A348C484F     A  recommender_system_test\n",
       "...                ...   ...                      ...\n",
       "3670  053FB26D6D49EDDC     A  recommender_system_test\n",
       "3671  9D263B8EF15CF188     B  recommender_system_test\n",
       "3672  F2FBBA33F37DEC46     A  recommender_system_test\n",
       "3673  29C92313A98B1176     B  recommender_system_test\n",
       "3674  6715343AFBA285AE     B  recommender_system_test\n",
       "\n",
       "[3675 rows x 3 columns]"
      ]
     },
     "execution_count": 604,
     "metadata": {},
     "output_type": "execute_result"
    }
   ],
   "source": [
    "upd_participants_remover = upd_participants.loc[upd_participants['ab_test'] == 'recommender_system_test']\n",
    "upd_participants_remover"
   ]
  },
  {
   "cell_type": "markdown",
   "metadata": {},
   "source": [
    "    Now, we will ensure by checking 'upd_participants_remover' with '.head()' and '.tail()' function, as follows:"
   ]
  },
  {
   "cell_type": "code",
   "execution_count": 605,
   "metadata": {},
   "outputs": [
    {
     "data": {
      "text/html": [
       "<div>\n",
       "<style scoped>\n",
       "    .dataframe tbody tr th:only-of-type {\n",
       "        vertical-align: middle;\n",
       "    }\n",
       "\n",
       "    .dataframe tbody tr th {\n",
       "        vertical-align: top;\n",
       "    }\n",
       "\n",
       "    .dataframe thead th {\n",
       "        text-align: right;\n",
       "    }\n",
       "</style>\n",
       "<table border=\"1\" class=\"dataframe\">\n",
       "  <thead>\n",
       "    <tr style=\"text-align: right;\">\n",
       "      <th></th>\n",
       "      <th>user_id</th>\n",
       "      <th>group</th>\n",
       "      <th>ab_test</th>\n",
       "    </tr>\n",
       "  </thead>\n",
       "  <tbody>\n",
       "    <tr>\n",
       "      <th>0</th>\n",
       "      <td>D1ABA3E2887B6A73</td>\n",
       "      <td>A</td>\n",
       "      <td>recommender_system_test</td>\n",
       "    </tr>\n",
       "    <tr>\n",
       "      <th>1</th>\n",
       "      <td>A7A3664BD6242119</td>\n",
       "      <td>A</td>\n",
       "      <td>recommender_system_test</td>\n",
       "    </tr>\n",
       "    <tr>\n",
       "      <th>2</th>\n",
       "      <td>DABC14FDDFADD29E</td>\n",
       "      <td>A</td>\n",
       "      <td>recommender_system_test</td>\n",
       "    </tr>\n",
       "    <tr>\n",
       "      <th>3</th>\n",
       "      <td>04988C5DF189632E</td>\n",
       "      <td>A</td>\n",
       "      <td>recommender_system_test</td>\n",
       "    </tr>\n",
       "    <tr>\n",
       "      <th>4</th>\n",
       "      <td>4FF2998A348C484F</td>\n",
       "      <td>A</td>\n",
       "      <td>recommender_system_test</td>\n",
       "    </tr>\n",
       "  </tbody>\n",
       "</table>\n",
       "</div>"
      ],
      "text/plain": [
       "            user_id group                  ab_test\n",
       "0  D1ABA3E2887B6A73     A  recommender_system_test\n",
       "1  A7A3664BD6242119     A  recommender_system_test\n",
       "2  DABC14FDDFADD29E     A  recommender_system_test\n",
       "3  04988C5DF189632E     A  recommender_system_test\n",
       "4  4FF2998A348C484F     A  recommender_system_test"
      ]
     },
     "execution_count": 605,
     "metadata": {},
     "output_type": "execute_result"
    }
   ],
   "source": [
    "upd_participants_remover.head()"
   ]
  },
  {
   "cell_type": "code",
   "execution_count": 606,
   "metadata": {},
   "outputs": [
    {
     "data": {
      "text/html": [
       "<div>\n",
       "<style scoped>\n",
       "    .dataframe tbody tr th:only-of-type {\n",
       "        vertical-align: middle;\n",
       "    }\n",
       "\n",
       "    .dataframe tbody tr th {\n",
       "        vertical-align: top;\n",
       "    }\n",
       "\n",
       "    .dataframe thead th {\n",
       "        text-align: right;\n",
       "    }\n",
       "</style>\n",
       "<table border=\"1\" class=\"dataframe\">\n",
       "  <thead>\n",
       "    <tr style=\"text-align: right;\">\n",
       "      <th></th>\n",
       "      <th>user_id</th>\n",
       "      <th>group</th>\n",
       "      <th>ab_test</th>\n",
       "    </tr>\n",
       "  </thead>\n",
       "  <tbody>\n",
       "    <tr>\n",
       "      <th>3670</th>\n",
       "      <td>053FB26D6D49EDDC</td>\n",
       "      <td>A</td>\n",
       "      <td>recommender_system_test</td>\n",
       "    </tr>\n",
       "    <tr>\n",
       "      <th>3671</th>\n",
       "      <td>9D263B8EF15CF188</td>\n",
       "      <td>B</td>\n",
       "      <td>recommender_system_test</td>\n",
       "    </tr>\n",
       "    <tr>\n",
       "      <th>3672</th>\n",
       "      <td>F2FBBA33F37DEC46</td>\n",
       "      <td>A</td>\n",
       "      <td>recommender_system_test</td>\n",
       "    </tr>\n",
       "    <tr>\n",
       "      <th>3673</th>\n",
       "      <td>29C92313A98B1176</td>\n",
       "      <td>B</td>\n",
       "      <td>recommender_system_test</td>\n",
       "    </tr>\n",
       "    <tr>\n",
       "      <th>3674</th>\n",
       "      <td>6715343AFBA285AE</td>\n",
       "      <td>B</td>\n",
       "      <td>recommender_system_test</td>\n",
       "    </tr>\n",
       "  </tbody>\n",
       "</table>\n",
       "</div>"
      ],
      "text/plain": [
       "               user_id group                  ab_test\n",
       "3670  053FB26D6D49EDDC     A  recommender_system_test\n",
       "3671  9D263B8EF15CF188     B  recommender_system_test\n",
       "3672  F2FBBA33F37DEC46     A  recommender_system_test\n",
       "3673  29C92313A98B1176     B  recommender_system_test\n",
       "3674  6715343AFBA285AE     B  recommender_system_test"
      ]
     },
     "execution_count": 606,
     "metadata": {},
     "output_type": "execute_result"
    }
   ],
   "source": [
    "upd_participants_remover.tail()"
   ]
  },
  {
   "cell_type": "markdown",
   "metadata": {},
   "source": [
    "    Findings:\n",
    "    \n",
    "    - We have removed the 'interface_eu_test' type of 'ab_test' from 'upd_participants' dataset. Now, we are going to focus on 'recommender_system_test' test name as stated by our predecessor at the technical description in advance.\n",
    "    - We have ensured the 'upd_participants_remover' by using '.head()' and '.tail()' function and the result shows that 'ab_test' is almost 'recommender_system_test' and we could be sure that those are all in 'recommender_system_test' in this time.\n",
    "    - As stated previously on technical description, the expected number of test participants is 6000. Nevertheless, in our data above, the 'recommender_system_test' test participants is only 3675 users."
   ]
  },
  {
   "cell_type": "markdown",
   "metadata": {},
   "source": [
    "[Back to Contents](#tableofcontents)"
   ]
  },
  {
   "cell_type": "markdown",
   "metadata": {},
   "source": [
    "### Ensuring Data Anomalies"
   ]
  },
  {
   "cell_type": "markdown",
   "metadata": {},
   "source": [
    "    In this session, we are going to ensure whether the datas contain anomalies data. We will examine do the 'event_dt' (customer's event date and time) less than 'first_date' (customer's sign-up date) or not or we might find something else from the datas."
   ]
  },
  {
   "cell_type": "markdown",
   "metadata": {},
   "source": [
    "    First, we will merge the 'upd_events' and 'upd_users' dataset to ensure anomalies data in the 'event_dt' column that not less than the 'first_date' column, as follows:"
   ]
  },
  {
   "cell_type": "code",
   "execution_count": 607,
   "metadata": {},
   "outputs": [
    {
     "data": {
      "text/html": [
       "<div>\n",
       "<style scoped>\n",
       "    .dataframe tbody tr th:only-of-type {\n",
       "        vertical-align: middle;\n",
       "    }\n",
       "\n",
       "    .dataframe tbody tr th {\n",
       "        vertical-align: top;\n",
       "    }\n",
       "\n",
       "    .dataframe thead th {\n",
       "        text-align: right;\n",
       "    }\n",
       "</style>\n",
       "<table border=\"1\" class=\"dataframe\">\n",
       "  <thead>\n",
       "    <tr style=\"text-align: right;\">\n",
       "      <th></th>\n",
       "      <th>user_id</th>\n",
       "      <th>event_dt</th>\n",
       "      <th>event_name</th>\n",
       "      <th>details</th>\n",
       "      <th>first_date</th>\n",
       "      <th>region</th>\n",
       "      <th>device</th>\n",
       "    </tr>\n",
       "  </thead>\n",
       "  <tbody>\n",
       "    <tr>\n",
       "      <th>0</th>\n",
       "      <td>E1BDDCE0DAFA2679</td>\n",
       "      <td>2020-12-07 20:22:03</td>\n",
       "      <td>purchase</td>\n",
       "      <td>99.99</td>\n",
       "      <td>2020-12-07</td>\n",
       "      <td>N.America</td>\n",
       "      <td>iPhone</td>\n",
       "    </tr>\n",
       "    <tr>\n",
       "      <th>1</th>\n",
       "      <td>7B6452F081F49504</td>\n",
       "      <td>2020-12-07 09:22:53</td>\n",
       "      <td>purchase</td>\n",
       "      <td>9.99</td>\n",
       "      <td>2020-12-07</td>\n",
       "      <td>EU</td>\n",
       "      <td>iPhone</td>\n",
       "    </tr>\n",
       "    <tr>\n",
       "      <th>2</th>\n",
       "      <td>9CD9F34546DF254C</td>\n",
       "      <td>2020-12-07 12:59:29</td>\n",
       "      <td>purchase</td>\n",
       "      <td>4.99</td>\n",
       "      <td>2020-12-07</td>\n",
       "      <td>N.America</td>\n",
       "      <td>iPhone</td>\n",
       "    </tr>\n",
       "    <tr>\n",
       "      <th>3</th>\n",
       "      <td>96F27A054B191457</td>\n",
       "      <td>2020-12-07 04:02:40</td>\n",
       "      <td>purchase</td>\n",
       "      <td>4.99</td>\n",
       "      <td>2020-12-07</td>\n",
       "      <td>EU</td>\n",
       "      <td>iPhone</td>\n",
       "    </tr>\n",
       "    <tr>\n",
       "      <th>4</th>\n",
       "      <td>1FD7660FDF94CA1F</td>\n",
       "      <td>2020-12-07 10:15:09</td>\n",
       "      <td>purchase</td>\n",
       "      <td>4.99</td>\n",
       "      <td>2020-12-07</td>\n",
       "      <td>EU</td>\n",
       "      <td>Android</td>\n",
       "    </tr>\n",
       "    <tr>\n",
       "      <th>...</th>\n",
       "      <td>...</td>\n",
       "      <td>...</td>\n",
       "      <td>...</td>\n",
       "      <td>...</td>\n",
       "      <td>...</td>\n",
       "      <td>...</td>\n",
       "      <td>...</td>\n",
       "    </tr>\n",
       "    <tr>\n",
       "      <th>423756</th>\n",
       "      <td>245E85F65C358E08</td>\n",
       "      <td>2020-12-30 19:35:55</td>\n",
       "      <td>login</td>\n",
       "      <td>NaN</td>\n",
       "      <td>2020-12-07</td>\n",
       "      <td>EU</td>\n",
       "      <td>Android</td>\n",
       "    </tr>\n",
       "    <tr>\n",
       "      <th>423757</th>\n",
       "      <td>9385A108F5A0A7A7</td>\n",
       "      <td>2020-12-30 10:54:15</td>\n",
       "      <td>login</td>\n",
       "      <td>NaN</td>\n",
       "      <td>2020-12-07</td>\n",
       "      <td>EU</td>\n",
       "      <td>PC</td>\n",
       "    </tr>\n",
       "    <tr>\n",
       "      <th>423758</th>\n",
       "      <td>DB650B7559AC6EAC</td>\n",
       "      <td>2020-12-30 10:59:09</td>\n",
       "      <td>login</td>\n",
       "      <td>NaN</td>\n",
       "      <td>2020-12-07</td>\n",
       "      <td>EU</td>\n",
       "      <td>Android</td>\n",
       "    </tr>\n",
       "    <tr>\n",
       "      <th>423759</th>\n",
       "      <td>F80C9BDDEA02E53C</td>\n",
       "      <td>2020-12-30 09:53:39</td>\n",
       "      <td>login</td>\n",
       "      <td>NaN</td>\n",
       "      <td>2020-12-07</td>\n",
       "      <td>EU</td>\n",
       "      <td>iPhone</td>\n",
       "    </tr>\n",
       "    <tr>\n",
       "      <th>423760</th>\n",
       "      <td>7AEC61159B672CC5</td>\n",
       "      <td>2020-12-30 11:36:13</td>\n",
       "      <td>login</td>\n",
       "      <td>NaN</td>\n",
       "      <td>2020-12-07</td>\n",
       "      <td>EU</td>\n",
       "      <td>iPhone</td>\n",
       "    </tr>\n",
       "  </tbody>\n",
       "</table>\n",
       "<p>423761 rows × 7 columns</p>\n",
       "</div>"
      ],
      "text/plain": [
       "                 user_id             event_dt event_name  details first_date  \\\n",
       "0       E1BDDCE0DAFA2679  2020-12-07 20:22:03   purchase    99.99 2020-12-07   \n",
       "1       7B6452F081F49504  2020-12-07 09:22:53   purchase     9.99 2020-12-07   \n",
       "2       9CD9F34546DF254C  2020-12-07 12:59:29   purchase     4.99 2020-12-07   \n",
       "3       96F27A054B191457  2020-12-07 04:02:40   purchase     4.99 2020-12-07   \n",
       "4       1FD7660FDF94CA1F  2020-12-07 10:15:09   purchase     4.99 2020-12-07   \n",
       "...                  ...                  ...        ...      ...        ...   \n",
       "423756  245E85F65C358E08  2020-12-30 19:35:55      login      NaN 2020-12-07   \n",
       "423757  9385A108F5A0A7A7  2020-12-30 10:54:15      login      NaN 2020-12-07   \n",
       "423758  DB650B7559AC6EAC  2020-12-30 10:59:09      login      NaN 2020-12-07   \n",
       "423759  F80C9BDDEA02E53C  2020-12-30 09:53:39      login      NaN 2020-12-07   \n",
       "423760  7AEC61159B672CC5  2020-12-30 11:36:13      login      NaN 2020-12-07   \n",
       "\n",
       "           region   device  \n",
       "0       N.America   iPhone  \n",
       "1              EU   iPhone  \n",
       "2       N.America   iPhone  \n",
       "3              EU   iPhone  \n",
       "4              EU  Android  \n",
       "...           ...      ...  \n",
       "423756         EU  Android  \n",
       "423757         EU       PC  \n",
       "423758         EU  Android  \n",
       "423759         EU   iPhone  \n",
       "423760         EU   iPhone  \n",
       "\n",
       "[423761 rows x 7 columns]"
      ]
     },
     "execution_count": 607,
     "metadata": {},
     "output_type": "execute_result"
    }
   ],
   "source": [
    "anomalies_merge_ensuring = upd_events.merge(right=upd_users, on='user_id', how='left')\n",
    "anomalies_merge_ensuring"
   ]
  },
  {
   "cell_type": "markdown",
   "metadata": {},
   "source": [
    "    Now, we are going to ensure the anomalies data in the 'anomalies_merge_ensuring' variable, as follows: "
   ]
  },
  {
   "cell_type": "code",
   "execution_count": 608,
   "metadata": {},
   "outputs": [
    {
     "data": {
      "text/plain": [
       "True    423761\n",
       "dtype: int64"
      ]
     },
     "execution_count": 608,
     "metadata": {},
     "output_type": "execute_result"
    }
   ],
   "source": [
    "(anomalies_merge_ensuring['event_dt'] > anomalies_merge_ensuring['first_date']).value_counts()"
   ]
  },
  {
   "cell_type": "code",
   "execution_count": 609,
   "metadata": {},
   "outputs": [
    {
     "data": {
      "text/plain": [
       "False    423761\n",
       "dtype: int64"
      ]
     },
     "execution_count": 609,
     "metadata": {},
     "output_type": "execute_result"
    }
   ],
   "source": [
    "(anomalies_merge_ensuring['event_dt'] < anomalies_merge_ensuring['first_date']).value_counts()"
   ]
  },
  {
   "cell_type": "markdown",
   "metadata": {},
   "source": [
    "    Findings:\n",
    "    \n",
    "    - From our ensuring, there are no anomalies data. The 'event_dt' column (customer's event date and time) as same as the 'first_date' column (customer's sign-up date). We have already ensure by using 'more than' (>) and 'less than (<) function.\n",
    "    - The datas is already appropriate."
   ]
  },
  {
   "cell_type": "markdown",
   "metadata": {},
   "source": [
    "[Back to Contents](#tableofcontents)"
   ]
  },
  {
   "cell_type": "markdown",
   "metadata": {},
   "source": [
    "### Ensuring for Data Type, Array Form, Missing Values, and Duplicate Data"
   ]
  },
  {
   "cell_type": "markdown",
   "metadata": {},
   "source": [
    "    We will ensure the datas, as follows:"
   ]
  },
  {
   "cell_type": "markdown",
   "metadata": {},
   "source": [
    "    1. For 'events_marketing' dataset:"
   ]
  },
  {
   "cell_type": "markdown",
   "metadata": {},
   "source": [
    "    Ensuring the Data Type for 'events_marketing' dataset, as follows:"
   ]
  },
  {
   "cell_type": "code",
   "execution_count": 610,
   "metadata": {},
   "outputs": [
    {
     "data": {
      "text/plain": [
       "name         object\n",
       "regions      object\n",
       "start_dt     object\n",
       "finish_dt    object\n",
       "dtype: object"
      ]
     },
     "execution_count": 610,
     "metadata": {},
     "output_type": "execute_result"
    }
   ],
   "source": [
    "events_marketing.dtypes"
   ]
  },
  {
   "cell_type": "markdown",
   "metadata": {},
   "source": [
    "    Ensuring the Array Form for 'events_marketing' dataset, as follows:"
   ]
  },
  {
   "cell_type": "code",
   "execution_count": 611,
   "metadata": {},
   "outputs": [
    {
     "data": {
      "text/plain": [
       "(14, 4)"
      ]
     },
     "execution_count": 611,
     "metadata": {},
     "output_type": "execute_result"
    }
   ],
   "source": [
    "events_marketing.shape"
   ]
  },
  {
   "cell_type": "markdown",
   "metadata": {},
   "source": [
    "    Ensuring the Missing Values for 'events_marketing' dataset, as follows:"
   ]
  },
  {
   "cell_type": "code",
   "execution_count": 612,
   "metadata": {},
   "outputs": [
    {
     "data": {
      "text/plain": [
       "name         0\n",
       "regions      0\n",
       "start_dt     0\n",
       "finish_dt    0\n",
       "dtype: int64"
      ]
     },
     "execution_count": 612,
     "metadata": {},
     "output_type": "execute_result"
    }
   ],
   "source": [
    "events_marketing.isna().sum()"
   ]
  },
  {
   "cell_type": "markdown",
   "metadata": {},
   "source": [
    "    Finally, ensuring the Duplicate Data for 'events_marketing' dataset, as follows:"
   ]
  },
  {
   "cell_type": "code",
   "execution_count": 613,
   "metadata": {},
   "outputs": [
    {
     "data": {
      "text/plain": [
       "0"
      ]
     },
     "execution_count": 613,
     "metadata": {},
     "output_type": "execute_result"
    }
   ],
   "source": [
    "events_marketing.duplicated().sum()"
   ]
  },
  {
   "cell_type": "markdown",
   "metadata": {},
   "source": [
    "[Back to Contents](#tableofcontents)"
   ]
  },
  {
   "cell_type": "markdown",
   "metadata": {},
   "source": [
    "    2. For 'upd_users' dataset:"
   ]
  },
  {
   "cell_type": "markdown",
   "metadata": {},
   "source": [
    "    Ensuring the Data Type for 'upd_users' dataset, as follows:"
   ]
  },
  {
   "cell_type": "code",
   "execution_count": 614,
   "metadata": {},
   "outputs": [
    {
     "data": {
      "text/plain": [
       "user_id               object\n",
       "first_date    datetime64[ns]\n",
       "region                object\n",
       "device                object\n",
       "dtype: object"
      ]
     },
     "execution_count": 614,
     "metadata": {},
     "output_type": "execute_result"
    }
   ],
   "source": [
    "upd_users.dtypes"
   ]
  },
  {
   "cell_type": "markdown",
   "metadata": {},
   "source": [
    "    Ensuring the Array Form for 'upd_users' dataset, as follows:"
   ]
  },
  {
   "cell_type": "code",
   "execution_count": 615,
   "metadata": {},
   "outputs": [
    {
     "data": {
      "text/plain": [
       "(58703, 4)"
      ]
     },
     "execution_count": 615,
     "metadata": {},
     "output_type": "execute_result"
    }
   ],
   "source": [
    "upd_users.shape"
   ]
  },
  {
   "cell_type": "markdown",
   "metadata": {},
   "source": [
    "    Ensuring the Missing Values for 'upd_users' dataset, as follows:"
   ]
  },
  {
   "cell_type": "code",
   "execution_count": 616,
   "metadata": {},
   "outputs": [
    {
     "data": {
      "text/plain": [
       "user_id       0\n",
       "first_date    0\n",
       "region        0\n",
       "device        0\n",
       "dtype: int64"
      ]
     },
     "execution_count": 616,
     "metadata": {},
     "output_type": "execute_result"
    }
   ],
   "source": [
    "upd_users.isna().sum()"
   ]
  },
  {
   "cell_type": "markdown",
   "metadata": {},
   "source": [
    "    Finally, ensuring the Duplicate Data for 'upd_users' dataset, as follows:"
   ]
  },
  {
   "cell_type": "code",
   "execution_count": 617,
   "metadata": {},
   "outputs": [
    {
     "data": {
      "text/plain": [
       "0"
      ]
     },
     "execution_count": 617,
     "metadata": {},
     "output_type": "execute_result"
    }
   ],
   "source": [
    "upd_users.duplicated().sum()"
   ]
  },
  {
   "cell_type": "markdown",
   "metadata": {},
   "source": [
    "[Back to Contents](#tableofcontents)"
   ]
  },
  {
   "cell_type": "markdown",
   "metadata": {},
   "source": [
    "    3. For 'upd_events' dataset:"
   ]
  },
  {
   "cell_type": "markdown",
   "metadata": {},
   "source": [
    "    Ensuring the Data Type for 'upd_events' dataset, as follows:"
   ]
  },
  {
   "cell_type": "code",
   "execution_count": 618,
   "metadata": {},
   "outputs": [
    {
     "data": {
      "text/plain": [
       "user_id        object\n",
       "event_dt       object\n",
       "event_name     object\n",
       "details       float64\n",
       "dtype: object"
      ]
     },
     "execution_count": 618,
     "metadata": {},
     "output_type": "execute_result"
    }
   ],
   "source": [
    "upd_events.dtypes"
   ]
  },
  {
   "cell_type": "markdown",
   "metadata": {},
   "source": [
    "    Ensuring the Array Form for 'upd_events' dataset, as follows:"
   ]
  },
  {
   "cell_type": "code",
   "execution_count": 619,
   "metadata": {},
   "outputs": [
    {
     "data": {
      "text/plain": [
       "(423761, 4)"
      ]
     },
     "execution_count": 619,
     "metadata": {},
     "output_type": "execute_result"
    }
   ],
   "source": [
    "upd_events.shape"
   ]
  },
  {
   "cell_type": "markdown",
   "metadata": {},
   "source": [
    "    Ensuring the Missing Values for 'upd_events' dataset, as follows:"
   ]
  },
  {
   "cell_type": "code",
   "execution_count": 620,
   "metadata": {},
   "outputs": [
    {
     "data": {
      "text/plain": [
       "user_id            0\n",
       "event_dt           0\n",
       "event_name         0\n",
       "details       363447\n",
       "dtype: int64"
      ]
     },
     "execution_count": 620,
     "metadata": {},
     "output_type": "execute_result"
    }
   ],
   "source": [
    "upd_events.isna().sum()"
   ]
  },
  {
   "cell_type": "markdown",
   "metadata": {},
   "source": [
    "    For additional, we will ensure the percentage of missing values in the 'upd_events' dataset, as follows:"
   ]
  },
  {
   "cell_type": "code",
   "execution_count": 621,
   "metadata": {},
   "outputs": [
    {
     "data": {
      "text/plain": [
       "user_id        0.0\n",
       "event_dt       0.0\n",
       "event_name     0.0\n",
       "details       86.0\n",
       "dtype: float64"
      ]
     },
     "execution_count": 621,
     "metadata": {},
     "output_type": "execute_result"
    }
   ],
   "source": [
    "((upd_events.isna().sum()) / len(upd_events) * 100).round()"
   ]
  },
  {
   "cell_type": "markdown",
   "metadata": {},
   "source": [
    "    Afterwards, we ensure the 'details' column about the missing values from 'upd_events' dataset, as follows:"
   ]
  },
  {
   "cell_type": "code",
   "execution_count": 624,
   "metadata": {},
   "outputs": [
    {
     "data": {
      "text/html": [
       "<div>\n",
       "<style scoped>\n",
       "    .dataframe tbody tr th:only-of-type {\n",
       "        vertical-align: middle;\n",
       "    }\n",
       "\n",
       "    .dataframe tbody tr th {\n",
       "        vertical-align: top;\n",
       "    }\n",
       "\n",
       "    .dataframe thead th {\n",
       "        text-align: right;\n",
       "    }\n",
       "</style>\n",
       "<table border=\"1\" class=\"dataframe\">\n",
       "  <thead>\n",
       "    <tr style=\"text-align: right;\">\n",
       "      <th></th>\n",
       "      <th>user_id</th>\n",
       "      <th>event_dt</th>\n",
       "      <th>event_name</th>\n",
       "      <th>details</th>\n",
       "    </tr>\n",
       "  </thead>\n",
       "  <tbody>\n",
       "    <tr>\n",
       "      <th>60314</th>\n",
       "      <td>2E1BF1D4C37EA01F</td>\n",
       "      <td>2020-12-07 09:05:47</td>\n",
       "      <td>product_cart</td>\n",
       "      <td>NaN</td>\n",
       "    </tr>\n",
       "    <tr>\n",
       "      <th>60315</th>\n",
       "      <td>50734A22C0C63768</td>\n",
       "      <td>2020-12-07 13:24:03</td>\n",
       "      <td>product_cart</td>\n",
       "      <td>NaN</td>\n",
       "    </tr>\n",
       "    <tr>\n",
       "      <th>60316</th>\n",
       "      <td>5EB159DA9DC94DBA</td>\n",
       "      <td>2020-12-07 22:54:02</td>\n",
       "      <td>product_cart</td>\n",
       "      <td>NaN</td>\n",
       "    </tr>\n",
       "    <tr>\n",
       "      <th>60317</th>\n",
       "      <td>084A22B980BA8169</td>\n",
       "      <td>2020-12-07 15:25:55</td>\n",
       "      <td>product_cart</td>\n",
       "      <td>NaN</td>\n",
       "    </tr>\n",
       "    <tr>\n",
       "      <th>60318</th>\n",
       "      <td>0FC21E6F8FAA8DEC</td>\n",
       "      <td>2020-12-07 06:56:27</td>\n",
       "      <td>product_cart</td>\n",
       "      <td>NaN</td>\n",
       "    </tr>\n",
       "    <tr>\n",
       "      <th>...</th>\n",
       "      <td>...</td>\n",
       "      <td>...</td>\n",
       "      <td>...</td>\n",
       "      <td>...</td>\n",
       "    </tr>\n",
       "    <tr>\n",
       "      <th>423756</th>\n",
       "      <td>245E85F65C358E08</td>\n",
       "      <td>2020-12-30 19:35:55</td>\n",
       "      <td>login</td>\n",
       "      <td>NaN</td>\n",
       "    </tr>\n",
       "    <tr>\n",
       "      <th>423757</th>\n",
       "      <td>9385A108F5A0A7A7</td>\n",
       "      <td>2020-12-30 10:54:15</td>\n",
       "      <td>login</td>\n",
       "      <td>NaN</td>\n",
       "    </tr>\n",
       "    <tr>\n",
       "      <th>423758</th>\n",
       "      <td>DB650B7559AC6EAC</td>\n",
       "      <td>2020-12-30 10:59:09</td>\n",
       "      <td>login</td>\n",
       "      <td>NaN</td>\n",
       "    </tr>\n",
       "    <tr>\n",
       "      <th>423759</th>\n",
       "      <td>F80C9BDDEA02E53C</td>\n",
       "      <td>2020-12-30 09:53:39</td>\n",
       "      <td>login</td>\n",
       "      <td>NaN</td>\n",
       "    </tr>\n",
       "    <tr>\n",
       "      <th>423760</th>\n",
       "      <td>7AEC61159B672CC5</td>\n",
       "      <td>2020-12-30 11:36:13</td>\n",
       "      <td>login</td>\n",
       "      <td>NaN</td>\n",
       "    </tr>\n",
       "  </tbody>\n",
       "</table>\n",
       "<p>363447 rows × 4 columns</p>\n",
       "</div>"
      ],
      "text/plain": [
       "                 user_id             event_dt    event_name  details\n",
       "60314   2E1BF1D4C37EA01F  2020-12-07 09:05:47  product_cart      NaN\n",
       "60315   50734A22C0C63768  2020-12-07 13:24:03  product_cart      NaN\n",
       "60316   5EB159DA9DC94DBA  2020-12-07 22:54:02  product_cart      NaN\n",
       "60317   084A22B980BA8169  2020-12-07 15:25:55  product_cart      NaN\n",
       "60318   0FC21E6F8FAA8DEC  2020-12-07 06:56:27  product_cart      NaN\n",
       "...                  ...                  ...           ...      ...\n",
       "423756  245E85F65C358E08  2020-12-30 19:35:55         login      NaN\n",
       "423757  9385A108F5A0A7A7  2020-12-30 10:54:15         login      NaN\n",
       "423758  DB650B7559AC6EAC  2020-12-30 10:59:09         login      NaN\n",
       "423759  F80C9BDDEA02E53C  2020-12-30 09:53:39         login      NaN\n",
       "423760  7AEC61159B672CC5  2020-12-30 11:36:13         login      NaN\n",
       "\n",
       "[363447 rows x 4 columns]"
      ]
     },
     "execution_count": 624,
     "metadata": {},
     "output_type": "execute_result"
    }
   ],
   "source": [
    "upd_events[upd_events['details'].isna()]"
   ]
  },
  {
   "cell_type": "markdown",
   "metadata": {},
   "source": [
    "    Finally, ensuring the Duplicate Data for 'upd_events' dataset, as follows:"
   ]
  },
  {
   "cell_type": "code",
   "execution_count": 625,
   "metadata": {},
   "outputs": [
    {
     "data": {
      "text/plain": [
       "0"
      ]
     },
     "execution_count": 625,
     "metadata": {},
     "output_type": "execute_result"
    }
   ],
   "source": [
    "upd_events.duplicated().sum()"
   ]
  },
  {
   "cell_type": "markdown",
   "metadata": {},
   "source": [
    "[Back to Contents](#tableofcontents)"
   ]
  },
  {
   "cell_type": "markdown",
   "metadata": {},
   "source": [
    "    4. For 'upd_participants' dataset:"
   ]
  },
  {
   "cell_type": "markdown",
   "metadata": {},
   "source": [
    "    Ensuring the Data Type for 'upd_participants' dataset, as follows:"
   ]
  },
  {
   "cell_type": "code",
   "execution_count": 627,
   "metadata": {},
   "outputs": [
    {
     "data": {
      "text/plain": [
       "user_id    object\n",
       "group      object\n",
       "ab_test    object\n",
       "dtype: object"
      ]
     },
     "execution_count": 627,
     "metadata": {},
     "output_type": "execute_result"
    }
   ],
   "source": [
    "upd_participants.dtypes"
   ]
  },
  {
   "cell_type": "markdown",
   "metadata": {},
   "source": [
    "    Ensuring the Array Form for 'upd_participants' dataset, as follows:"
   ]
  },
  {
   "cell_type": "code",
   "execution_count": 628,
   "metadata": {},
   "outputs": [
    {
     "data": {
      "text/plain": [
       "(14525, 3)"
      ]
     },
     "execution_count": 628,
     "metadata": {},
     "output_type": "execute_result"
    }
   ],
   "source": [
    "upd_participants.shape"
   ]
  },
  {
   "cell_type": "markdown",
   "metadata": {},
   "source": [
    "    Ensuring the Missing Values for 'upd_participants' dataset, as follows:"
   ]
  },
  {
   "cell_type": "code",
   "execution_count": 629,
   "metadata": {},
   "outputs": [
    {
     "data": {
      "text/plain": [
       "user_id    0\n",
       "group      0\n",
       "ab_test    0\n",
       "dtype: int64"
      ]
     },
     "execution_count": 629,
     "metadata": {},
     "output_type": "execute_result"
    }
   ],
   "source": [
    "upd_participants.isna().sum()"
   ]
  },
  {
   "cell_type": "markdown",
   "metadata": {},
   "source": [
    "    Finally, ensuring the Duplicate Data for 'upd_participants' dataset, as follows:"
   ]
  },
  {
   "cell_type": "code",
   "execution_count": 630,
   "metadata": {},
   "outputs": [
    {
     "data": {
      "text/plain": [
       "0"
      ]
     },
     "execution_count": 630,
     "metadata": {},
     "output_type": "execute_result"
    }
   ],
   "source": [
    "upd_participants.duplicated().sum()"
   ]
  },
  {
   "cell_type": "markdown",
   "metadata": {},
   "source": [
    "    Findings:\n",
    "    \n",
    "    - We have ensured for Data Type, Array Form, Missing Values, and Duplicate Data for four datasets.\n",
    "    - The Data Type is already mentioned above, consist of object(4) from 'events_marketing' dataset, datetime64[ns](1), object(3) from 'upd_users' dataset, float64(1), object(3) from 'upd_events' dataset, and object(3) from 'upd_participants' dataset.\n",
    "    \n",
    "    - 1) The Array Form is (14, 4), that means 14 rows and 4 columns as well for 'events_marketing' dataset.\n",
    "    - 2) The Array Form is (58703, 4), that means 58703 rows and 4 columns as well for 'upd_users' dataset.\n",
    "    - 3) The Array Form is (423761, 4), that means 423761 rows and 4 columns as well for 'upd_events' dataset.\n",
    "    - 4) The Array Form is (14525, 3), that means 14525 rows and 3 columns as well for 'upd_participants' dataset.\n",
    "\n",
    "    - From our ensuring above, we found missing value at 'details' column from 'upd_events' dataset, those are 363447 rows (86.0% in the percentage of the whole 'upd_events' dataset).\n",
    "    - We could see and predict that the 'details' column comprises the additional data on the event, i.e. it could be one the value of the order total for events purchases.\n",
    "    - We found 'NaN' in the 'details' column which we could guess that it is on a par of there are no additional datas. Therefore, we could replace the values with the null values in the next session below.\n",
    "    \n",
    "    - There are no Duplicate Data on four datasets."
   ]
  },
  {
   "cell_type": "markdown",
   "metadata": {},
   "source": [
    "[Back to Contents](#tableofcontents)"
   ]
  },
  {
   "cell_type": "markdown",
   "metadata": {},
   "source": [
    "### Correcting The Missing Values and Duplicate Data"
   ]
  },
  {
   "cell_type": "markdown",
   "metadata": {},
   "source": [
    "    Now, we will correct the Missing Values in the 'upd_events' dataset."
   ]
  },
  {
   "cell_type": "markdown",
   "metadata": {},
   "source": [
    "#### Missing Values"
   ]
  },
  {
   "cell_type": "markdown",
   "metadata": {},
   "source": [
    "    Anteriorly, we will calculate the missing values in the 'details' column from 'upd_events' dataset, as follows:"
   ]
  },
  {
   "cell_type": "code",
   "execution_count": 631,
   "metadata": {},
   "outputs": [
    {
     "data": {
      "text/plain": [
       "363447"
      ]
     },
     "execution_count": 631,
     "metadata": {},
     "output_type": "execute_result"
    }
   ],
   "source": [
    "upd_events['details'].isna().sum()"
   ]
  },
  {
   "cell_type": "markdown",
   "metadata": {},
   "source": [
    "    Then, we replace the missing values in the 'details' column with null values (0) cause of our stated that there are no additional datas in advance, as follows:"
   ]
  },
  {
   "cell_type": "code",
   "execution_count": 633,
   "metadata": {},
   "outputs": [],
   "source": [
    "upd_events['details'] = upd_events['details'].fillna(0)"
   ]
  },
  {
   "cell_type": "markdown",
   "metadata": {},
   "source": [
    "     Checking the 'details' column to ensure if there are still missing values, as follows:"
   ]
  },
  {
   "cell_type": "code",
   "execution_count": 634,
   "metadata": {},
   "outputs": [
    {
     "data": {
      "text/plain": [
       "0"
      ]
     },
     "execution_count": 634,
     "metadata": {},
     "output_type": "execute_result"
    }
   ],
   "source": [
    "upd_events['details'].isna().sum()"
   ]
  },
  {
   "cell_type": "code",
   "execution_count": 635,
   "metadata": {},
   "outputs": [
    {
     "data": {
      "text/plain": [
       "user_id       0\n",
       "event_dt      0\n",
       "event_name    0\n",
       "details       0\n",
       "dtype: int64"
      ]
     },
     "execution_count": 635,
     "metadata": {},
     "output_type": "execute_result"
    }
   ],
   "source": [
    "upd_events.isna().sum()"
   ]
  },
  {
   "cell_type": "markdown",
   "metadata": {},
   "source": [
    "    Now, we have corrected the missing value in the 'upd_events' dataset."
   ]
  },
  {
   "cell_type": "markdown",
   "metadata": {},
   "source": [
    "    Findings:\n",
    "    \n",
    "    - Beforehand, we found 363447 rows of Missing Values in the 'details' column from 'upd_events' dataset, that means 86.0% in the percentage calculation from the whole 'upd_events' dataset.\n",
    "    - Now, we have done in removing all missing values. There are no missing value anymore.\n",
    "    - The four datasets are ready to be analyzed and processed."
   ]
  },
  {
   "cell_type": "markdown",
   "metadata": {},
   "source": [
    "[Back to Contents](#tableofcontents)"
   ]
  },
  {
   "cell_type": "markdown",
   "metadata": {},
   "source": [
    "## Explorative Data Analysis (EDA)\n",
    "    - Step 2. Performing Several Focus Things to be Analyzed"
   ]
  },
  {
   "cell_type": "markdown",
   "metadata": {},
   "source": [
    "<div style=\"border:solid black 2px; padding: 20px\">    \n",
    "    \n",
    "    First of all in this stage, we are going to do some steps, those are:\n",
    "    \n",
    "    - Making straightforward analysis by merging the 'upd_users', 'upd_events', and 'upd_participants' datasets.\n",
    "    - As we stated previously, we found users' sign up on the dates of 21-23 December 2020. Furthermore, we will pull out them because the date company stopped taking up new users is 2020-12-21.\n",
    "    \n",
    "</div>    "
   ]
  },
  {
   "cell_type": "markdown",
   "metadata": {},
   "source": [
    "    Merging the 'upd_users' and 'upd_events' dataset based on 'user_id' column, as follows:"
   ]
  },
  {
   "cell_type": "code",
   "execution_count": 636,
   "metadata": {},
   "outputs": [],
   "source": [
    "dataset1_merging = upd_events.merge(upd_users, on ='user_id', how='left')"
   ]
  },
  {
   "cell_type": "markdown",
   "metadata": {},
   "source": [
    "    Merging the 'dataset1_merging' table and 'upd_participants' dataset based on 'user_id' column, as follows:"
   ]
  },
  {
   "cell_type": "code",
   "execution_count": 637,
   "metadata": {},
   "outputs": [
    {
     "data": {
      "text/html": [
       "<div>\n",
       "<style scoped>\n",
       "    .dataframe tbody tr th:only-of-type {\n",
       "        vertical-align: middle;\n",
       "    }\n",
       "\n",
       "    .dataframe tbody tr th {\n",
       "        vertical-align: top;\n",
       "    }\n",
       "\n",
       "    .dataframe thead th {\n",
       "        text-align: right;\n",
       "    }\n",
       "</style>\n",
       "<table border=\"1\" class=\"dataframe\">\n",
       "  <thead>\n",
       "    <tr style=\"text-align: right;\">\n",
       "      <th></th>\n",
       "      <th>user_id</th>\n",
       "      <th>event_dt</th>\n",
       "      <th>event_name</th>\n",
       "      <th>details</th>\n",
       "      <th>first_date</th>\n",
       "      <th>region</th>\n",
       "      <th>device</th>\n",
       "      <th>group</th>\n",
       "      <th>ab_test</th>\n",
       "    </tr>\n",
       "  </thead>\n",
       "  <tbody>\n",
       "    <tr>\n",
       "      <th>0</th>\n",
       "      <td>E1BDDCE0DAFA2679</td>\n",
       "      <td>2020-12-07 20:22:03</td>\n",
       "      <td>purchase</td>\n",
       "      <td>99.99</td>\n",
       "      <td>2020-12-07</td>\n",
       "      <td>N.America</td>\n",
       "      <td>iPhone</td>\n",
       "      <td>NaN</td>\n",
       "      <td>NaN</td>\n",
       "    </tr>\n",
       "    <tr>\n",
       "      <th>1</th>\n",
       "      <td>7B6452F081F49504</td>\n",
       "      <td>2020-12-07 09:22:53</td>\n",
       "      <td>purchase</td>\n",
       "      <td>9.99</td>\n",
       "      <td>2020-12-07</td>\n",
       "      <td>EU</td>\n",
       "      <td>iPhone</td>\n",
       "      <td>NaN</td>\n",
       "      <td>NaN</td>\n",
       "    </tr>\n",
       "    <tr>\n",
       "      <th>2</th>\n",
       "      <td>9CD9F34546DF254C</td>\n",
       "      <td>2020-12-07 12:59:29</td>\n",
       "      <td>purchase</td>\n",
       "      <td>4.99</td>\n",
       "      <td>2020-12-07</td>\n",
       "      <td>N.America</td>\n",
       "      <td>iPhone</td>\n",
       "      <td>NaN</td>\n",
       "      <td>NaN</td>\n",
       "    </tr>\n",
       "    <tr>\n",
       "      <th>3</th>\n",
       "      <td>96F27A054B191457</td>\n",
       "      <td>2020-12-07 04:02:40</td>\n",
       "      <td>purchase</td>\n",
       "      <td>4.99</td>\n",
       "      <td>2020-12-07</td>\n",
       "      <td>EU</td>\n",
       "      <td>iPhone</td>\n",
       "      <td>NaN</td>\n",
       "      <td>NaN</td>\n",
       "    </tr>\n",
       "    <tr>\n",
       "      <th>4</th>\n",
       "      <td>1FD7660FDF94CA1F</td>\n",
       "      <td>2020-12-07 10:15:09</td>\n",
       "      <td>purchase</td>\n",
       "      <td>4.99</td>\n",
       "      <td>2020-12-07</td>\n",
       "      <td>EU</td>\n",
       "      <td>Android</td>\n",
       "      <td>NaN</td>\n",
       "      <td>NaN</td>\n",
       "    </tr>\n",
       "    <tr>\n",
       "      <th>...</th>\n",
       "      <td>...</td>\n",
       "      <td>...</td>\n",
       "      <td>...</td>\n",
       "      <td>...</td>\n",
       "      <td>...</td>\n",
       "      <td>...</td>\n",
       "      <td>...</td>\n",
       "      <td>...</td>\n",
       "      <td>...</td>\n",
       "    </tr>\n",
       "    <tr>\n",
       "      <th>423756</th>\n",
       "      <td>245E85F65C358E08</td>\n",
       "      <td>2020-12-30 19:35:55</td>\n",
       "      <td>login</td>\n",
       "      <td>0.00</td>\n",
       "      <td>2020-12-07</td>\n",
       "      <td>EU</td>\n",
       "      <td>Android</td>\n",
       "      <td>NaN</td>\n",
       "      <td>NaN</td>\n",
       "    </tr>\n",
       "    <tr>\n",
       "      <th>423757</th>\n",
       "      <td>9385A108F5A0A7A7</td>\n",
       "      <td>2020-12-30 10:54:15</td>\n",
       "      <td>login</td>\n",
       "      <td>0.00</td>\n",
       "      <td>2020-12-07</td>\n",
       "      <td>EU</td>\n",
       "      <td>PC</td>\n",
       "      <td>NaN</td>\n",
       "      <td>NaN</td>\n",
       "    </tr>\n",
       "    <tr>\n",
       "      <th>423758</th>\n",
       "      <td>DB650B7559AC6EAC</td>\n",
       "      <td>2020-12-30 10:59:09</td>\n",
       "      <td>login</td>\n",
       "      <td>0.00</td>\n",
       "      <td>2020-12-07</td>\n",
       "      <td>EU</td>\n",
       "      <td>Android</td>\n",
       "      <td>NaN</td>\n",
       "      <td>NaN</td>\n",
       "    </tr>\n",
       "    <tr>\n",
       "      <th>423759</th>\n",
       "      <td>F80C9BDDEA02E53C</td>\n",
       "      <td>2020-12-30 09:53:39</td>\n",
       "      <td>login</td>\n",
       "      <td>0.00</td>\n",
       "      <td>2020-12-07</td>\n",
       "      <td>EU</td>\n",
       "      <td>iPhone</td>\n",
       "      <td>NaN</td>\n",
       "      <td>NaN</td>\n",
       "    </tr>\n",
       "    <tr>\n",
       "      <th>423760</th>\n",
       "      <td>7AEC61159B672CC5</td>\n",
       "      <td>2020-12-30 11:36:13</td>\n",
       "      <td>login</td>\n",
       "      <td>0.00</td>\n",
       "      <td>2020-12-07</td>\n",
       "      <td>EU</td>\n",
       "      <td>iPhone</td>\n",
       "      <td>NaN</td>\n",
       "      <td>NaN</td>\n",
       "    </tr>\n",
       "  </tbody>\n",
       "</table>\n",
       "<p>423761 rows × 9 columns</p>\n",
       "</div>"
      ],
      "text/plain": [
       "                 user_id             event_dt event_name  details first_date  \\\n",
       "0       E1BDDCE0DAFA2679  2020-12-07 20:22:03   purchase    99.99 2020-12-07   \n",
       "1       7B6452F081F49504  2020-12-07 09:22:53   purchase     9.99 2020-12-07   \n",
       "2       9CD9F34546DF254C  2020-12-07 12:59:29   purchase     4.99 2020-12-07   \n",
       "3       96F27A054B191457  2020-12-07 04:02:40   purchase     4.99 2020-12-07   \n",
       "4       1FD7660FDF94CA1F  2020-12-07 10:15:09   purchase     4.99 2020-12-07   \n",
       "...                  ...                  ...        ...      ...        ...   \n",
       "423756  245E85F65C358E08  2020-12-30 19:35:55      login     0.00 2020-12-07   \n",
       "423757  9385A108F5A0A7A7  2020-12-30 10:54:15      login     0.00 2020-12-07   \n",
       "423758  DB650B7559AC6EAC  2020-12-30 10:59:09      login     0.00 2020-12-07   \n",
       "423759  F80C9BDDEA02E53C  2020-12-30 09:53:39      login     0.00 2020-12-07   \n",
       "423760  7AEC61159B672CC5  2020-12-30 11:36:13      login     0.00 2020-12-07   \n",
       "\n",
       "           region   device group ab_test  \n",
       "0       N.America   iPhone   NaN     NaN  \n",
       "1              EU   iPhone   NaN     NaN  \n",
       "2       N.America   iPhone   NaN     NaN  \n",
       "3              EU   iPhone   NaN     NaN  \n",
       "4              EU  Android   NaN     NaN  \n",
       "...           ...      ...   ...     ...  \n",
       "423756         EU  Android   NaN     NaN  \n",
       "423757         EU       PC   NaN     NaN  \n",
       "423758         EU  Android   NaN     NaN  \n",
       "423759         EU   iPhone   NaN     NaN  \n",
       "423760         EU   iPhone   NaN     NaN  \n",
       "\n",
       "[423761 rows x 9 columns]"
      ]
     },
     "execution_count": 637,
     "metadata": {},
     "output_type": "execute_result"
    }
   ],
   "source": [
    "dataset1_merging = dataset1_merging.merge(upd_participants_remover, on ='user_id', how='left')\n",
    "dataset1_merging"
   ]
  },
  {
   "cell_type": "markdown",
   "metadata": {},
   "source": [
    "    Now, we ensure for duplicate data in the 'dataset1_merging' table, as follows:"
   ]
  },
  {
   "cell_type": "code",
   "execution_count": 638,
   "metadata": {},
   "outputs": [
    {
     "data": {
      "text/plain": [
       "0"
      ]
     },
     "execution_count": 638,
     "metadata": {},
     "output_type": "execute_result"
    }
   ],
   "source": [
    "dataset1_merging.duplicated().sum()"
   ]
  },
  {
   "cell_type": "markdown",
   "metadata": {},
   "source": [
    "    Taking a look at the users' total who sign up on the dates of 21-23 December 2020, as follows:"
   ]
  },
  {
   "cell_type": "code",
   "execution_count": 639,
   "metadata": {},
   "outputs": [
    {
     "data": {
      "text/html": [
       "<div>\n",
       "<style scoped>\n",
       "    .dataframe tbody tr th:only-of-type {\n",
       "        vertical-align: middle;\n",
       "    }\n",
       "\n",
       "    .dataframe tbody tr th {\n",
       "        vertical-align: top;\n",
       "    }\n",
       "\n",
       "    .dataframe thead th {\n",
       "        text-align: right;\n",
       "    }\n",
       "</style>\n",
       "<table border=\"1\" class=\"dataframe\">\n",
       "  <thead>\n",
       "    <tr style=\"text-align: right;\">\n",
       "      <th></th>\n",
       "      <th>user_id</th>\n",
       "      <th>event_dt</th>\n",
       "      <th>event_name</th>\n",
       "      <th>details</th>\n",
       "      <th>first_date</th>\n",
       "      <th>region</th>\n",
       "      <th>device</th>\n",
       "      <th>group</th>\n",
       "      <th>ab_test</th>\n",
       "    </tr>\n",
       "  </thead>\n",
       "  <tbody>\n",
       "    <tr>\n",
       "      <th>38541</th>\n",
       "      <td>31FFA5EE2B84061B</td>\n",
       "      <td>2020-12-21 12:34:24</td>\n",
       "      <td>purchase</td>\n",
       "      <td>4.99</td>\n",
       "      <td>2020-12-21</td>\n",
       "      <td>EU</td>\n",
       "      <td>iPhone</td>\n",
       "      <td>NaN</td>\n",
       "      <td>NaN</td>\n",
       "    </tr>\n",
       "    <tr>\n",
       "      <th>38542</th>\n",
       "      <td>A0BDD78F3D0CF974</td>\n",
       "      <td>2020-12-21 08:17:25</td>\n",
       "      <td>purchase</td>\n",
       "      <td>99.99</td>\n",
       "      <td>2020-12-21</td>\n",
       "      <td>EU</td>\n",
       "      <td>iPhone</td>\n",
       "      <td>NaN</td>\n",
       "      <td>NaN</td>\n",
       "    </tr>\n",
       "    <tr>\n",
       "      <th>38543</th>\n",
       "      <td>7CF6CBB849F2ABA0</td>\n",
       "      <td>2020-12-21 16:29:15</td>\n",
       "      <td>purchase</td>\n",
       "      <td>9.99</td>\n",
       "      <td>2020-12-21</td>\n",
       "      <td>N.America</td>\n",
       "      <td>PC</td>\n",
       "      <td>NaN</td>\n",
       "      <td>NaN</td>\n",
       "    </tr>\n",
       "    <tr>\n",
       "      <th>38544</th>\n",
       "      <td>BB343C2CF94723A5</td>\n",
       "      <td>2020-12-21 16:18:51</td>\n",
       "      <td>purchase</td>\n",
       "      <td>9.99</td>\n",
       "      <td>2020-12-21</td>\n",
       "      <td>EU</td>\n",
       "      <td>PC</td>\n",
       "      <td>NaN</td>\n",
       "      <td>NaN</td>\n",
       "    </tr>\n",
       "    <tr>\n",
       "      <th>38545</th>\n",
       "      <td>EABF04D78A0863A9</td>\n",
       "      <td>2020-12-21 02:54:16</td>\n",
       "      <td>purchase</td>\n",
       "      <td>4.99</td>\n",
       "      <td>2020-12-21</td>\n",
       "      <td>N.America</td>\n",
       "      <td>PC</td>\n",
       "      <td>NaN</td>\n",
       "      <td>NaN</td>\n",
       "    </tr>\n",
       "    <tr>\n",
       "      <th>...</th>\n",
       "      <td>...</td>\n",
       "      <td>...</td>\n",
       "      <td>...</td>\n",
       "      <td>...</td>\n",
       "      <td>...</td>\n",
       "      <td>...</td>\n",
       "      <td>...</td>\n",
       "      <td>...</td>\n",
       "      <td>...</td>\n",
       "    </tr>\n",
       "    <tr>\n",
       "      <th>421857</th>\n",
       "      <td>A801F4F14C543707</td>\n",
       "      <td>2020-12-29 03:09:53</td>\n",
       "      <td>login</td>\n",
       "      <td>0.00</td>\n",
       "      <td>2020-12-23</td>\n",
       "      <td>N.America</td>\n",
       "      <td>PC</td>\n",
       "      <td>NaN</td>\n",
       "      <td>NaN</td>\n",
       "    </tr>\n",
       "    <tr>\n",
       "      <th>421858</th>\n",
       "      <td>69991E6AE74B5C8B</td>\n",
       "      <td>2020-12-29 19:10:53</td>\n",
       "      <td>login</td>\n",
       "      <td>0.00</td>\n",
       "      <td>2020-12-23</td>\n",
       "      <td>EU</td>\n",
       "      <td>iPhone</td>\n",
       "      <td>NaN</td>\n",
       "      <td>NaN</td>\n",
       "    </tr>\n",
       "    <tr>\n",
       "      <th>421859</th>\n",
       "      <td>DAEF8CF6E253DBCE</td>\n",
       "      <td>2020-12-29 22:46:23</td>\n",
       "      <td>login</td>\n",
       "      <td>0.00</td>\n",
       "      <td>2020-12-23</td>\n",
       "      <td>EU</td>\n",
       "      <td>Android</td>\n",
       "      <td>NaN</td>\n",
       "      <td>NaN</td>\n",
       "    </tr>\n",
       "    <tr>\n",
       "      <th>421860</th>\n",
       "      <td>32A46395A711AEFF</td>\n",
       "      <td>2020-12-29 07:51:45</td>\n",
       "      <td>login</td>\n",
       "      <td>0.00</td>\n",
       "      <td>2020-12-23</td>\n",
       "      <td>EU</td>\n",
       "      <td>iPhone</td>\n",
       "      <td>NaN</td>\n",
       "      <td>NaN</td>\n",
       "    </tr>\n",
       "    <tr>\n",
       "      <th>421861</th>\n",
       "      <td>2544D691FC5E4DCB</td>\n",
       "      <td>2020-12-29 02:46:51</td>\n",
       "      <td>login</td>\n",
       "      <td>0.00</td>\n",
       "      <td>2020-12-23</td>\n",
       "      <td>N.America</td>\n",
       "      <td>PC</td>\n",
       "      <td>NaN</td>\n",
       "      <td>NaN</td>\n",
       "    </tr>\n",
       "  </tbody>\n",
       "</table>\n",
       "<p>66552 rows × 9 columns</p>\n",
       "</div>"
      ],
      "text/plain": [
       "                 user_id             event_dt event_name  details first_date  \\\n",
       "38541   31FFA5EE2B84061B  2020-12-21 12:34:24   purchase     4.99 2020-12-21   \n",
       "38542   A0BDD78F3D0CF974  2020-12-21 08:17:25   purchase    99.99 2020-12-21   \n",
       "38543   7CF6CBB849F2ABA0  2020-12-21 16:29:15   purchase     9.99 2020-12-21   \n",
       "38544   BB343C2CF94723A5  2020-12-21 16:18:51   purchase     9.99 2020-12-21   \n",
       "38545   EABF04D78A0863A9  2020-12-21 02:54:16   purchase     4.99 2020-12-21   \n",
       "...                  ...                  ...        ...      ...        ...   \n",
       "421857  A801F4F14C543707  2020-12-29 03:09:53      login     0.00 2020-12-23   \n",
       "421858  69991E6AE74B5C8B  2020-12-29 19:10:53      login     0.00 2020-12-23   \n",
       "421859  DAEF8CF6E253DBCE  2020-12-29 22:46:23      login     0.00 2020-12-23   \n",
       "421860  32A46395A711AEFF  2020-12-29 07:51:45      login     0.00 2020-12-23   \n",
       "421861  2544D691FC5E4DCB  2020-12-29 02:46:51      login     0.00 2020-12-23   \n",
       "\n",
       "           region   device group ab_test  \n",
       "38541          EU   iPhone   NaN     NaN  \n",
       "38542          EU   iPhone   NaN     NaN  \n",
       "38543   N.America       PC   NaN     NaN  \n",
       "38544          EU       PC   NaN     NaN  \n",
       "38545   N.America       PC   NaN     NaN  \n",
       "...           ...      ...   ...     ...  \n",
       "421857  N.America       PC   NaN     NaN  \n",
       "421858         EU   iPhone   NaN     NaN  \n",
       "421859         EU  Android   NaN     NaN  \n",
       "421860         EU   iPhone   NaN     NaN  \n",
       "421861  N.America       PC   NaN     NaN  \n",
       "\n",
       "[66552 rows x 9 columns]"
      ]
     },
     "execution_count": 639,
     "metadata": {},
     "output_type": "execute_result"
    }
   ],
   "source": [
    "dataset1_merging[dataset1_merging['first_date'] > \"2020-12-20\"]"
   ]
  },
  {
   "cell_type": "markdown",
   "metadata": {},
   "source": [
    "    Temporary Findings:\n",
    "    - We found that there are 66552 rows with users' total who sign up on the dates of 21-23 December 2020. Furthermore, we will remove them all."
   ]
  },
  {
   "cell_type": "markdown",
   "metadata": {},
   "source": [
    "    Pulling out the users' total who sign up on the dates of 21-23 December 2020 because the company stopped taking up new users on 2020-12-21 for the testing, as follows:"
   ]
  },
  {
   "cell_type": "code",
   "execution_count": 640,
   "metadata": {},
   "outputs": [
    {
     "data": {
      "text/html": [
       "<div>\n",
       "<style scoped>\n",
       "    .dataframe tbody tr th:only-of-type {\n",
       "        vertical-align: middle;\n",
       "    }\n",
       "\n",
       "    .dataframe tbody tr th {\n",
       "        vertical-align: top;\n",
       "    }\n",
       "\n",
       "    .dataframe thead th {\n",
       "        text-align: right;\n",
       "    }\n",
       "</style>\n",
       "<table border=\"1\" class=\"dataframe\">\n",
       "  <thead>\n",
       "    <tr style=\"text-align: right;\">\n",
       "      <th></th>\n",
       "      <th>user_id</th>\n",
       "      <th>event_dt</th>\n",
       "      <th>event_name</th>\n",
       "      <th>details</th>\n",
       "      <th>first_date</th>\n",
       "      <th>region</th>\n",
       "      <th>device</th>\n",
       "      <th>group</th>\n",
       "      <th>ab_test</th>\n",
       "    </tr>\n",
       "  </thead>\n",
       "  <tbody>\n",
       "    <tr>\n",
       "      <th>0</th>\n",
       "      <td>E1BDDCE0DAFA2679</td>\n",
       "      <td>2020-12-07 20:22:03</td>\n",
       "      <td>purchase</td>\n",
       "      <td>99.99</td>\n",
       "      <td>2020-12-07</td>\n",
       "      <td>N.America</td>\n",
       "      <td>iPhone</td>\n",
       "      <td>NaN</td>\n",
       "      <td>NaN</td>\n",
       "    </tr>\n",
       "    <tr>\n",
       "      <th>1</th>\n",
       "      <td>7B6452F081F49504</td>\n",
       "      <td>2020-12-07 09:22:53</td>\n",
       "      <td>purchase</td>\n",
       "      <td>9.99</td>\n",
       "      <td>2020-12-07</td>\n",
       "      <td>EU</td>\n",
       "      <td>iPhone</td>\n",
       "      <td>NaN</td>\n",
       "      <td>NaN</td>\n",
       "    </tr>\n",
       "    <tr>\n",
       "      <th>2</th>\n",
       "      <td>9CD9F34546DF254C</td>\n",
       "      <td>2020-12-07 12:59:29</td>\n",
       "      <td>purchase</td>\n",
       "      <td>4.99</td>\n",
       "      <td>2020-12-07</td>\n",
       "      <td>N.America</td>\n",
       "      <td>iPhone</td>\n",
       "      <td>NaN</td>\n",
       "      <td>NaN</td>\n",
       "    </tr>\n",
       "    <tr>\n",
       "      <th>3</th>\n",
       "      <td>96F27A054B191457</td>\n",
       "      <td>2020-12-07 04:02:40</td>\n",
       "      <td>purchase</td>\n",
       "      <td>4.99</td>\n",
       "      <td>2020-12-07</td>\n",
       "      <td>EU</td>\n",
       "      <td>iPhone</td>\n",
       "      <td>NaN</td>\n",
       "      <td>NaN</td>\n",
       "    </tr>\n",
       "    <tr>\n",
       "      <th>4</th>\n",
       "      <td>1FD7660FDF94CA1F</td>\n",
       "      <td>2020-12-07 10:15:09</td>\n",
       "      <td>purchase</td>\n",
       "      <td>4.99</td>\n",
       "      <td>2020-12-07</td>\n",
       "      <td>EU</td>\n",
       "      <td>Android</td>\n",
       "      <td>NaN</td>\n",
       "      <td>NaN</td>\n",
       "    </tr>\n",
       "    <tr>\n",
       "      <th>...</th>\n",
       "      <td>...</td>\n",
       "      <td>...</td>\n",
       "      <td>...</td>\n",
       "      <td>...</td>\n",
       "      <td>...</td>\n",
       "      <td>...</td>\n",
       "      <td>...</td>\n",
       "      <td>...</td>\n",
       "      <td>...</td>\n",
       "    </tr>\n",
       "    <tr>\n",
       "      <th>423756</th>\n",
       "      <td>245E85F65C358E08</td>\n",
       "      <td>2020-12-30 19:35:55</td>\n",
       "      <td>login</td>\n",
       "      <td>0.00</td>\n",
       "      <td>2020-12-07</td>\n",
       "      <td>EU</td>\n",
       "      <td>Android</td>\n",
       "      <td>NaN</td>\n",
       "      <td>NaN</td>\n",
       "    </tr>\n",
       "    <tr>\n",
       "      <th>423757</th>\n",
       "      <td>9385A108F5A0A7A7</td>\n",
       "      <td>2020-12-30 10:54:15</td>\n",
       "      <td>login</td>\n",
       "      <td>0.00</td>\n",
       "      <td>2020-12-07</td>\n",
       "      <td>EU</td>\n",
       "      <td>PC</td>\n",
       "      <td>NaN</td>\n",
       "      <td>NaN</td>\n",
       "    </tr>\n",
       "    <tr>\n",
       "      <th>423758</th>\n",
       "      <td>DB650B7559AC6EAC</td>\n",
       "      <td>2020-12-30 10:59:09</td>\n",
       "      <td>login</td>\n",
       "      <td>0.00</td>\n",
       "      <td>2020-12-07</td>\n",
       "      <td>EU</td>\n",
       "      <td>Android</td>\n",
       "      <td>NaN</td>\n",
       "      <td>NaN</td>\n",
       "    </tr>\n",
       "    <tr>\n",
       "      <th>423759</th>\n",
       "      <td>F80C9BDDEA02E53C</td>\n",
       "      <td>2020-12-30 09:53:39</td>\n",
       "      <td>login</td>\n",
       "      <td>0.00</td>\n",
       "      <td>2020-12-07</td>\n",
       "      <td>EU</td>\n",
       "      <td>iPhone</td>\n",
       "      <td>NaN</td>\n",
       "      <td>NaN</td>\n",
       "    </tr>\n",
       "    <tr>\n",
       "      <th>423760</th>\n",
       "      <td>7AEC61159B672CC5</td>\n",
       "      <td>2020-12-30 11:36:13</td>\n",
       "      <td>login</td>\n",
       "      <td>0.00</td>\n",
       "      <td>2020-12-07</td>\n",
       "      <td>EU</td>\n",
       "      <td>iPhone</td>\n",
       "      <td>NaN</td>\n",
       "      <td>NaN</td>\n",
       "    </tr>\n",
       "  </tbody>\n",
       "</table>\n",
       "<p>357209 rows × 9 columns</p>\n",
       "</div>"
      ],
      "text/plain": [
       "                 user_id             event_dt event_name  details first_date  \\\n",
       "0       E1BDDCE0DAFA2679  2020-12-07 20:22:03   purchase    99.99 2020-12-07   \n",
       "1       7B6452F081F49504  2020-12-07 09:22:53   purchase     9.99 2020-12-07   \n",
       "2       9CD9F34546DF254C  2020-12-07 12:59:29   purchase     4.99 2020-12-07   \n",
       "3       96F27A054B191457  2020-12-07 04:02:40   purchase     4.99 2020-12-07   \n",
       "4       1FD7660FDF94CA1F  2020-12-07 10:15:09   purchase     4.99 2020-12-07   \n",
       "...                  ...                  ...        ...      ...        ...   \n",
       "423756  245E85F65C358E08  2020-12-30 19:35:55      login     0.00 2020-12-07   \n",
       "423757  9385A108F5A0A7A7  2020-12-30 10:54:15      login     0.00 2020-12-07   \n",
       "423758  DB650B7559AC6EAC  2020-12-30 10:59:09      login     0.00 2020-12-07   \n",
       "423759  F80C9BDDEA02E53C  2020-12-30 09:53:39      login     0.00 2020-12-07   \n",
       "423760  7AEC61159B672CC5  2020-12-30 11:36:13      login     0.00 2020-12-07   \n",
       "\n",
       "           region   device group ab_test  \n",
       "0       N.America   iPhone   NaN     NaN  \n",
       "1              EU   iPhone   NaN     NaN  \n",
       "2       N.America   iPhone   NaN     NaN  \n",
       "3              EU   iPhone   NaN     NaN  \n",
       "4              EU  Android   NaN     NaN  \n",
       "...           ...      ...   ...     ...  \n",
       "423756         EU  Android   NaN     NaN  \n",
       "423757         EU       PC   NaN     NaN  \n",
       "423758         EU  Android   NaN     NaN  \n",
       "423759         EU   iPhone   NaN     NaN  \n",
       "423760         EU   iPhone   NaN     NaN  \n",
       "\n",
       "[357209 rows x 9 columns]"
      ]
     },
     "execution_count": 640,
     "metadata": {},
     "output_type": "execute_result"
    }
   ],
   "source": [
    "dataset1_merging = dataset1_merging.query('first_date < \"2020-12-21\"')\n",
    "dataset1_merging"
   ]
  },
  {
   "cell_type": "markdown",
   "metadata": {},
   "source": [
    "    We will ensure the missing values of 'dataset1_merging' table, as follows:"
   ]
  },
  {
   "cell_type": "code",
   "execution_count": 641,
   "metadata": {},
   "outputs": [
    {
     "data": {
      "text/plain": [
       "user_id            0\n",
       "event_dt           0\n",
       "event_name         0\n",
       "details            0\n",
       "first_date         0\n",
       "region             0\n",
       "device             0\n",
       "group         336277\n",
       "ab_test       336277\n",
       "dtype: int64"
      ]
     },
     "execution_count": 641,
     "metadata": {},
     "output_type": "execute_result"
    }
   ],
   "source": [
    "dataset1_merging.isna().sum()"
   ]
  },
  {
   "cell_type": "markdown",
   "metadata": {},
   "source": [
    "    We calculate the percentage of 'dataset1_merging' missing values to the whole data, as follows:"
   ]
  },
  {
   "cell_type": "code",
   "execution_count": 642,
   "metadata": {},
   "outputs": [
    {
     "data": {
      "text/plain": [
       "user_id        0.000000\n",
       "event_dt       0.000000\n",
       "event_name     0.000000\n",
       "details        0.000000\n",
       "first_date     0.000000\n",
       "region         0.000000\n",
       "device         0.000000\n",
       "group         94.140125\n",
       "ab_test       94.140125\n",
       "dtype: float64"
      ]
     },
     "execution_count": 642,
     "metadata": {},
     "output_type": "execute_result"
    }
   ],
   "source": [
    "dataset1_merging.isna().sum() / len(dataset1_merging) * 100"
   ]
  },
  {
   "cell_type": "markdown",
   "metadata": {},
   "source": [
    "    Temporary Findings:\n",
    "    - After merging 'upd_users', 'upd_events', 'upd_participants' datasets and pull out the users' total who sign up on the dates of 21-23 December 2020, we could assume that many users still do not have a group whether in Group A or B. Consequently, they make missing values as much of 336277 rows or 94.14% in percentage of whole data in the 'ab_test' column group. Thus, we could not confirm which group they are in and we will remove them from this analysis for the solving."
   ]
  },
  {
   "cell_type": "markdown",
   "metadata": {},
   "source": [
    "[Back to Contents](#tableofcontents)"
   ]
  },
  {
   "cell_type": "markdown",
   "metadata": {},
   "source": [
    "    We are going to remove the users who do not have a group, as follows:"
   ]
  },
  {
   "cell_type": "code",
   "execution_count": 643,
   "metadata": {},
   "outputs": [],
   "source": [
    "dataset1_merging = dataset1_merging.loc[~dataset1_merging['group'].isna()]"
   ]
  },
  {
   "cell_type": "markdown",
   "metadata": {},
   "source": [
    "    Ensuring the missing values after removing the users who do not have a group, as follows:"
   ]
  },
  {
   "cell_type": "code",
   "execution_count": 644,
   "metadata": {},
   "outputs": [
    {
     "data": {
      "text/plain": [
       "user_id       0\n",
       "event_dt      0\n",
       "event_name    0\n",
       "details       0\n",
       "first_date    0\n",
       "region        0\n",
       "device        0\n",
       "group         0\n",
       "ab_test       0\n",
       "dtype: int64"
      ]
     },
     "execution_count": 644,
     "metadata": {},
     "output_type": "execute_result"
    }
   ],
   "source": [
    "dataset1_merging.isna().sum()"
   ]
  },
  {
   "cell_type": "code",
   "execution_count": 645,
   "metadata": {},
   "outputs": [
    {
     "data": {
      "text/html": [
       "<div>\n",
       "<style scoped>\n",
       "    .dataframe tbody tr th:only-of-type {\n",
       "        vertical-align: middle;\n",
       "    }\n",
       "\n",
       "    .dataframe tbody tr th {\n",
       "        vertical-align: top;\n",
       "    }\n",
       "\n",
       "    .dataframe thead th {\n",
       "        text-align: right;\n",
       "    }\n",
       "</style>\n",
       "<table border=\"1\" class=\"dataframe\">\n",
       "  <thead>\n",
       "    <tr style=\"text-align: right;\">\n",
       "      <th></th>\n",
       "      <th>user_id</th>\n",
       "      <th>event_dt</th>\n",
       "      <th>event_name</th>\n",
       "      <th>details</th>\n",
       "      <th>first_date</th>\n",
       "      <th>region</th>\n",
       "      <th>device</th>\n",
       "      <th>group</th>\n",
       "      <th>ab_test</th>\n",
       "    </tr>\n",
       "  </thead>\n",
       "  <tbody>\n",
       "    <tr>\n",
       "      <th>5</th>\n",
       "      <td>831887FE7F2D6CBA</td>\n",
       "      <td>2020-12-07 06:50:29</td>\n",
       "      <td>purchase</td>\n",
       "      <td>4.99</td>\n",
       "      <td>2020-12-07</td>\n",
       "      <td>EU</td>\n",
       "      <td>Android</td>\n",
       "      <td>A</td>\n",
       "      <td>recommender_system_test</td>\n",
       "    </tr>\n",
       "    <tr>\n",
       "      <th>17</th>\n",
       "      <td>3C5DD0288AC4FE23</td>\n",
       "      <td>2020-12-07 19:42:40</td>\n",
       "      <td>purchase</td>\n",
       "      <td>4.99</td>\n",
       "      <td>2020-12-07</td>\n",
       "      <td>EU</td>\n",
       "      <td>PC</td>\n",
       "      <td>A</td>\n",
       "      <td>recommender_system_test</td>\n",
       "    </tr>\n",
       "    <tr>\n",
       "      <th>58</th>\n",
       "      <td>49EA242586C87836</td>\n",
       "      <td>2020-12-07 06:31:24</td>\n",
       "      <td>purchase</td>\n",
       "      <td>99.99</td>\n",
       "      <td>2020-12-07</td>\n",
       "      <td>EU</td>\n",
       "      <td>iPhone</td>\n",
       "      <td>B</td>\n",
       "      <td>recommender_system_test</td>\n",
       "    </tr>\n",
       "    <tr>\n",
       "      <th>71</th>\n",
       "      <td>2B06EB547B7AAD08</td>\n",
       "      <td>2020-12-07 21:36:38</td>\n",
       "      <td>purchase</td>\n",
       "      <td>4.99</td>\n",
       "      <td>2020-12-07</td>\n",
       "      <td>EU</td>\n",
       "      <td>PC</td>\n",
       "      <td>A</td>\n",
       "      <td>recommender_system_test</td>\n",
       "    </tr>\n",
       "    <tr>\n",
       "      <th>74</th>\n",
       "      <td>A640F31CAC7823A6</td>\n",
       "      <td>2020-12-07 18:48:26</td>\n",
       "      <td>purchase</td>\n",
       "      <td>4.99</td>\n",
       "      <td>2020-12-07</td>\n",
       "      <td>EU</td>\n",
       "      <td>PC</td>\n",
       "      <td>B</td>\n",
       "      <td>recommender_system_test</td>\n",
       "    </tr>\n",
       "    <tr>\n",
       "      <th>...</th>\n",
       "      <td>...</td>\n",
       "      <td>...</td>\n",
       "      <td>...</td>\n",
       "      <td>...</td>\n",
       "      <td>...</td>\n",
       "      <td>...</td>\n",
       "      <td>...</td>\n",
       "      <td>...</td>\n",
       "      <td>...</td>\n",
       "    </tr>\n",
       "    <tr>\n",
       "      <th>423683</th>\n",
       "      <td>D21F0D4FDCD82DB2</td>\n",
       "      <td>2020-12-29 02:17:00</td>\n",
       "      <td>login</td>\n",
       "      <td>0.00</td>\n",
       "      <td>2020-12-20</td>\n",
       "      <td>EU</td>\n",
       "      <td>iPhone</td>\n",
       "      <td>A</td>\n",
       "      <td>recommender_system_test</td>\n",
       "    </tr>\n",
       "    <tr>\n",
       "      <th>423702</th>\n",
       "      <td>96BDD55846D1F7F6</td>\n",
       "      <td>2020-12-29 16:53:42</td>\n",
       "      <td>login</td>\n",
       "      <td>0.00</td>\n",
       "      <td>2020-12-20</td>\n",
       "      <td>EU</td>\n",
       "      <td>iPhone</td>\n",
       "      <td>A</td>\n",
       "      <td>recommender_system_test</td>\n",
       "    </tr>\n",
       "    <tr>\n",
       "      <th>423711</th>\n",
       "      <td>553BAE96C6EB6240</td>\n",
       "      <td>2020-12-29 14:09:14</td>\n",
       "      <td>login</td>\n",
       "      <td>0.00</td>\n",
       "      <td>2020-12-20</td>\n",
       "      <td>EU</td>\n",
       "      <td>Android</td>\n",
       "      <td>A</td>\n",
       "      <td>recommender_system_test</td>\n",
       "    </tr>\n",
       "    <tr>\n",
       "      <th>423725</th>\n",
       "      <td>DD4352CDCF8C3D57</td>\n",
       "      <td>2020-12-30 12:42:56</td>\n",
       "      <td>login</td>\n",
       "      <td>0.00</td>\n",
       "      <td>2020-12-07</td>\n",
       "      <td>EU</td>\n",
       "      <td>Android</td>\n",
       "      <td>B</td>\n",
       "      <td>recommender_system_test</td>\n",
       "    </tr>\n",
       "    <tr>\n",
       "      <th>423733</th>\n",
       "      <td>75845C83258FBF73</td>\n",
       "      <td>2020-12-30 06:42:52</td>\n",
       "      <td>login</td>\n",
       "      <td>0.00</td>\n",
       "      <td>2020-12-07</td>\n",
       "      <td>EU</td>\n",
       "      <td>Android</td>\n",
       "      <td>B</td>\n",
       "      <td>recommender_system_test</td>\n",
       "    </tr>\n",
       "  </tbody>\n",
       "</table>\n",
       "<p>20932 rows × 9 columns</p>\n",
       "</div>"
      ],
      "text/plain": [
       "                 user_id             event_dt event_name  details first_date  \\\n",
       "5       831887FE7F2D6CBA  2020-12-07 06:50:29   purchase     4.99 2020-12-07   \n",
       "17      3C5DD0288AC4FE23  2020-12-07 19:42:40   purchase     4.99 2020-12-07   \n",
       "58      49EA242586C87836  2020-12-07 06:31:24   purchase    99.99 2020-12-07   \n",
       "71      2B06EB547B7AAD08  2020-12-07 21:36:38   purchase     4.99 2020-12-07   \n",
       "74      A640F31CAC7823A6  2020-12-07 18:48:26   purchase     4.99 2020-12-07   \n",
       "...                  ...                  ...        ...      ...        ...   \n",
       "423683  D21F0D4FDCD82DB2  2020-12-29 02:17:00      login     0.00 2020-12-20   \n",
       "423702  96BDD55846D1F7F6  2020-12-29 16:53:42      login     0.00 2020-12-20   \n",
       "423711  553BAE96C6EB6240  2020-12-29 14:09:14      login     0.00 2020-12-20   \n",
       "423725  DD4352CDCF8C3D57  2020-12-30 12:42:56      login     0.00 2020-12-07   \n",
       "423733  75845C83258FBF73  2020-12-30 06:42:52      login     0.00 2020-12-07   \n",
       "\n",
       "       region   device group                  ab_test  \n",
       "5          EU  Android     A  recommender_system_test  \n",
       "17         EU       PC     A  recommender_system_test  \n",
       "58         EU   iPhone     B  recommender_system_test  \n",
       "71         EU       PC     A  recommender_system_test  \n",
       "74         EU       PC     B  recommender_system_test  \n",
       "...       ...      ...   ...                      ...  \n",
       "423683     EU   iPhone     A  recommender_system_test  \n",
       "423702     EU   iPhone     A  recommender_system_test  \n",
       "423711     EU  Android     A  recommender_system_test  \n",
       "423725     EU  Android     B  recommender_system_test  \n",
       "423733     EU  Android     B  recommender_system_test  \n",
       "\n",
       "[20932 rows x 9 columns]"
      ]
     },
     "execution_count": 645,
     "metadata": {},
     "output_type": "execute_result"
    }
   ],
   "source": [
    "dataset1_merging"
   ]
  },
  {
   "cell_type": "markdown",
   "metadata": {},
   "source": [
    "[Back to Contents](#tableofcontents)"
   ]
  },
  {
   "cell_type": "markdown",
   "metadata": {},
   "source": [
    "<div style=\"border:solid black 2px; padding: 20px\">\n",
    "    \n",
    "    In this stage, there are several things that need to be our focus, namely:\n",
    "    \n",
    "    a. Learning Conversion at Different Funnel Stages\n",
    "    b. Learning Whether The Number of Events Per User Distributed Equally in The Samples\n",
    "    c. Learning Whether The Users who Enter Both Samples\n",
    "    d. Learning How Is The Number of Events Distributed by Days\n",
    "    e. Learning The Possible Details in The Data that We have to take into Account before starting The A/B Test\n",
    "    \n",
    "</div>"
   ]
  },
  {
   "cell_type": "markdown",
   "metadata": {},
   "source": [
    "### Learning Conversion at Different Funnel Stages\n",
    "    - We will see what events are in the data and their frequency of occurrence"
   ]
  },
  {
   "cell_type": "markdown",
   "metadata": {},
   "source": [
    "    First, we will calculate how many events in the data, as follows:"
   ]
  },
  {
   "cell_type": "code",
   "execution_count": 646,
   "metadata": {},
   "outputs": [
    {
     "data": {
      "text/html": [
       "<div>\n",
       "<style scoped>\n",
       "    .dataframe tbody tr th:only-of-type {\n",
       "        vertical-align: middle;\n",
       "    }\n",
       "\n",
       "    .dataframe tbody tr th {\n",
       "        vertical-align: top;\n",
       "    }\n",
       "\n",
       "    .dataframe thead th {\n",
       "        text-align: right;\n",
       "    }\n",
       "</style>\n",
       "<table border=\"1\" class=\"dataframe\">\n",
       "  <thead>\n",
       "    <tr style=\"text-align: right;\">\n",
       "      <th></th>\n",
       "      <th>user_id</th>\n",
       "    </tr>\n",
       "    <tr>\n",
       "      <th>event_name</th>\n",
       "      <th></th>\n",
       "    </tr>\n",
       "  </thead>\n",
       "  <tbody>\n",
       "    <tr>\n",
       "      <th>login</th>\n",
       "      <td>9506</td>\n",
       "    </tr>\n",
       "    <tr>\n",
       "      <th>product_page</th>\n",
       "      <td>5850</td>\n",
       "    </tr>\n",
       "    <tr>\n",
       "      <th>purchase</th>\n",
       "      <td>2789</td>\n",
       "    </tr>\n",
       "    <tr>\n",
       "      <th>product_cart</th>\n",
       "      <td>2787</td>\n",
       "    </tr>\n",
       "  </tbody>\n",
       "</table>\n",
       "</div>"
      ],
      "text/plain": [
       "              user_id\n",
       "event_name           \n",
       "login            9506\n",
       "product_page     5850\n",
       "purchase         2789\n",
       "product_cart     2787"
      ]
     },
     "execution_count": 646,
     "metadata": {},
     "output_type": "execute_result"
    }
   ],
   "source": [
    "events_total_all = dataset1_merging.pivot_table(\n",
    "    index='event_name', values='user_id', aggfunc='count').sort_values(by='user_id', ascending=False)\n",
    "events_total_all"
   ]
  },
  {
   "cell_type": "markdown",
   "metadata": {},
   "source": [
    "    Findings:\n",
    "    \n",
    "    - We could predict that the funnel stream down as follows: 'login' => 'product_page' => 'purchase' => 'product_cart'.\n",
    "    - From the table above, total events in purchase is higher than product_cart ('purchase' is 2789 and 'product_cart' is 2787) \n",
    "    - To get over it, the come up approach is Closed Funnel, so it could shows sequential stream down funnels in one period. The funnels are not counted if they do not start from the first page (in 'login' event)."
   ]
  },
  {
   "cell_type": "markdown",
   "metadata": {},
   "source": [
    "[Back to Contents](#tableofcontents)"
   ]
  },
  {
   "cell_type": "markdown",
   "metadata": {},
   "source": [
    "# Closed Funnel Approach\n",
    "    We will do these several steps, those are:\n",
    "    \n",
    "    - Spliting each events into four new DataFrames.\n",
    "    - Merging all DataFrames into a new DataFrame from the last funnel to the first funnel, based on 'user_id' and 'event_dt' column.\n",
    "    - Calculating each events to get a Closed Funnel."
   ]
  },
  {
   "cell_type": "markdown",
   "metadata": {},
   "source": [
    "    We will drop the columns we do not need and save to the new table, as follows:"
   ]
  },
  {
   "cell_type": "code",
   "execution_count": 647,
   "metadata": {},
   "outputs": [
    {
     "data": {
      "text/html": [
       "<div>\n",
       "<style scoped>\n",
       "    .dataframe tbody tr th:only-of-type {\n",
       "        vertical-align: middle;\n",
       "    }\n",
       "\n",
       "    .dataframe tbody tr th {\n",
       "        vertical-align: top;\n",
       "    }\n",
       "\n",
       "    .dataframe thead th {\n",
       "        text-align: right;\n",
       "    }\n",
       "</style>\n",
       "<table border=\"1\" class=\"dataframe\">\n",
       "  <thead>\n",
       "    <tr style=\"text-align: right;\">\n",
       "      <th></th>\n",
       "      <th>user_id</th>\n",
       "      <th>event_dt</th>\n",
       "      <th>event_name</th>\n",
       "      <th>group</th>\n",
       "    </tr>\n",
       "  </thead>\n",
       "  <tbody>\n",
       "    <tr>\n",
       "      <th>5</th>\n",
       "      <td>831887FE7F2D6CBA</td>\n",
       "      <td>2020-12-07 06:50:29</td>\n",
       "      <td>purchase</td>\n",
       "      <td>A</td>\n",
       "    </tr>\n",
       "    <tr>\n",
       "      <th>17</th>\n",
       "      <td>3C5DD0288AC4FE23</td>\n",
       "      <td>2020-12-07 19:42:40</td>\n",
       "      <td>purchase</td>\n",
       "      <td>A</td>\n",
       "    </tr>\n",
       "    <tr>\n",
       "      <th>58</th>\n",
       "      <td>49EA242586C87836</td>\n",
       "      <td>2020-12-07 06:31:24</td>\n",
       "      <td>purchase</td>\n",
       "      <td>B</td>\n",
       "    </tr>\n",
       "    <tr>\n",
       "      <th>71</th>\n",
       "      <td>2B06EB547B7AAD08</td>\n",
       "      <td>2020-12-07 21:36:38</td>\n",
       "      <td>purchase</td>\n",
       "      <td>A</td>\n",
       "    </tr>\n",
       "    <tr>\n",
       "      <th>74</th>\n",
       "      <td>A640F31CAC7823A6</td>\n",
       "      <td>2020-12-07 18:48:26</td>\n",
       "      <td>purchase</td>\n",
       "      <td>B</td>\n",
       "    </tr>\n",
       "    <tr>\n",
       "      <th>...</th>\n",
       "      <td>...</td>\n",
       "      <td>...</td>\n",
       "      <td>...</td>\n",
       "      <td>...</td>\n",
       "    </tr>\n",
       "    <tr>\n",
       "      <th>423683</th>\n",
       "      <td>D21F0D4FDCD82DB2</td>\n",
       "      <td>2020-12-29 02:17:00</td>\n",
       "      <td>login</td>\n",
       "      <td>A</td>\n",
       "    </tr>\n",
       "    <tr>\n",
       "      <th>423702</th>\n",
       "      <td>96BDD55846D1F7F6</td>\n",
       "      <td>2020-12-29 16:53:42</td>\n",
       "      <td>login</td>\n",
       "      <td>A</td>\n",
       "    </tr>\n",
       "    <tr>\n",
       "      <th>423711</th>\n",
       "      <td>553BAE96C6EB6240</td>\n",
       "      <td>2020-12-29 14:09:14</td>\n",
       "      <td>login</td>\n",
       "      <td>A</td>\n",
       "    </tr>\n",
       "    <tr>\n",
       "      <th>423725</th>\n",
       "      <td>DD4352CDCF8C3D57</td>\n",
       "      <td>2020-12-30 12:42:56</td>\n",
       "      <td>login</td>\n",
       "      <td>B</td>\n",
       "    </tr>\n",
       "    <tr>\n",
       "      <th>423733</th>\n",
       "      <td>75845C83258FBF73</td>\n",
       "      <td>2020-12-30 06:42:52</td>\n",
       "      <td>login</td>\n",
       "      <td>B</td>\n",
       "    </tr>\n",
       "  </tbody>\n",
       "</table>\n",
       "<p>20932 rows × 4 columns</p>\n",
       "</div>"
      ],
      "text/plain": [
       "                 user_id             event_dt event_name group\n",
       "5       831887FE7F2D6CBA  2020-12-07 06:50:29   purchase     A\n",
       "17      3C5DD0288AC4FE23  2020-12-07 19:42:40   purchase     A\n",
       "58      49EA242586C87836  2020-12-07 06:31:24   purchase     B\n",
       "71      2B06EB547B7AAD08  2020-12-07 21:36:38   purchase     A\n",
       "74      A640F31CAC7823A6  2020-12-07 18:48:26   purchase     B\n",
       "...                  ...                  ...        ...   ...\n",
       "423683  D21F0D4FDCD82DB2  2020-12-29 02:17:00      login     A\n",
       "423702  96BDD55846D1F7F6  2020-12-29 16:53:42      login     A\n",
       "423711  553BAE96C6EB6240  2020-12-29 14:09:14      login     A\n",
       "423725  DD4352CDCF8C3D57  2020-12-30 12:42:56      login     B\n",
       "423733  75845C83258FBF73  2020-12-30 06:42:52      login     B\n",
       "\n",
       "[20932 rows x 4 columns]"
      ]
     },
     "execution_count": 647,
     "metadata": {},
     "output_type": "execute_result"
    }
   ],
   "source": [
    "dataset1_merging_drop = dataset1_merging.drop(['first_date', 'details', 'region', 'device', 'ab_test'], axis=1)\n",
    "dataset1_merging_drop"
   ]
  },
  {
   "cell_type": "markdown",
   "metadata": {},
   "source": [
    "    Ensuring the duplicate data in the new table of 'dataset1_merging_drop', as follows:"
   ]
  },
  {
   "cell_type": "code",
   "execution_count": 648,
   "metadata": {},
   "outputs": [
    {
     "data": {
      "text/plain": [
       "0"
      ]
     },
     "execution_count": 648,
     "metadata": {},
     "output_type": "execute_result"
    }
   ],
   "source": [
    "dataset1_merging_drop.duplicated().sum()"
   ]
  },
  {
   "cell_type": "markdown",
   "metadata": {},
   "source": [
    "    Now, we are going to split each events into four new DataFrames, as follows:"
   ]
  },
  {
   "cell_type": "code",
   "execution_count": 649,
   "metadata": {},
   "outputs": [],
   "source": [
    "upd_events_login = dataset1_merging_drop.loc[dataset1_merging_drop['event_name'] == 'login']\n",
    "upd_events_product_page = dataset1_merging_drop.loc[dataset1_merging_drop['event_name'] == 'product_page']\n",
    "upd_events_product_cart = dataset1_merging_drop.loc[dataset1_merging_drop['event_name'] == 'product_cart']\n",
    "upd_events_purchase = dataset1_merging_drop.loc[dataset1_merging_drop['event_name'] == 'purchase']"
   ]
  },
  {
   "cell_type": "markdown",
   "metadata": {},
   "source": [
    "    Then, renaming the 'event_name' column in each four new DataFrames, as follows:"
   ]
  },
  {
   "cell_type": "code",
   "execution_count": 650,
   "metadata": {},
   "outputs": [],
   "source": [
    "upd_events_login = upd_events_login.rename(columns={'event_name': 'upd_events_login'})\n",
    "upd_events_product_page = upd_events_product_page.rename(columns={'event_name': 'upd_events_product_page'})\n",
    "upd_events_product_cart = upd_events_product_cart.rename(columns={'event_name': 'upd_events_product_cart'})\n",
    "upd_events_purchase = upd_events_purchase.rename(columns={'event_name': 'upd_events_purchase'})"
   ]
  },
  {
   "cell_type": "markdown",
   "metadata": {},
   "source": [
    "    Taking a look a new table of 'upd_events_login', as follows:"
   ]
  },
  {
   "cell_type": "code",
   "execution_count": 651,
   "metadata": {},
   "outputs": [
    {
     "data": {
      "text/html": [
       "<div>\n",
       "<style scoped>\n",
       "    .dataframe tbody tr th:only-of-type {\n",
       "        vertical-align: middle;\n",
       "    }\n",
       "\n",
       "    .dataframe tbody tr th {\n",
       "        vertical-align: top;\n",
       "    }\n",
       "\n",
       "    .dataframe thead th {\n",
       "        text-align: right;\n",
       "    }\n",
       "</style>\n",
       "<table border=\"1\" class=\"dataframe\">\n",
       "  <thead>\n",
       "    <tr style=\"text-align: right;\">\n",
       "      <th></th>\n",
       "      <th>user_id</th>\n",
       "      <th>event_dt</th>\n",
       "      <th>upd_events_login</th>\n",
       "      <th>group</th>\n",
       "    </tr>\n",
       "  </thead>\n",
       "  <tbody>\n",
       "    <tr>\n",
       "      <th>241296</th>\n",
       "      <td>D72A72121175D8BE</td>\n",
       "      <td>2020-12-07 21:52:07</td>\n",
       "      <td>login</td>\n",
       "      <td>A</td>\n",
       "    </tr>\n",
       "    <tr>\n",
       "      <th>241314</th>\n",
       "      <td>DD4352CDCF8C3D57</td>\n",
       "      <td>2020-12-07 15:32:53</td>\n",
       "      <td>login</td>\n",
       "      <td>B</td>\n",
       "    </tr>\n",
       "    <tr>\n",
       "      <th>241317</th>\n",
       "      <td>831887FE7F2D6CBA</td>\n",
       "      <td>2020-12-07 06:50:29</td>\n",
       "      <td>login</td>\n",
       "      <td>A</td>\n",
       "    </tr>\n",
       "    <tr>\n",
       "      <th>241333</th>\n",
       "      <td>4CB179C7F847320B</td>\n",
       "      <td>2020-12-07 01:37:05</td>\n",
       "      <td>login</td>\n",
       "      <td>B</td>\n",
       "    </tr>\n",
       "    <tr>\n",
       "      <th>241334</th>\n",
       "      <td>29C92313A98B1176</td>\n",
       "      <td>2020-12-07 06:18:24</td>\n",
       "      <td>login</td>\n",
       "      <td>B</td>\n",
       "    </tr>\n",
       "    <tr>\n",
       "      <th>...</th>\n",
       "      <td>...</td>\n",
       "      <td>...</td>\n",
       "      <td>...</td>\n",
       "      <td>...</td>\n",
       "    </tr>\n",
       "    <tr>\n",
       "      <th>423683</th>\n",
       "      <td>D21F0D4FDCD82DB2</td>\n",
       "      <td>2020-12-29 02:17:00</td>\n",
       "      <td>login</td>\n",
       "      <td>A</td>\n",
       "    </tr>\n",
       "    <tr>\n",
       "      <th>423702</th>\n",
       "      <td>96BDD55846D1F7F6</td>\n",
       "      <td>2020-12-29 16:53:42</td>\n",
       "      <td>login</td>\n",
       "      <td>A</td>\n",
       "    </tr>\n",
       "    <tr>\n",
       "      <th>423711</th>\n",
       "      <td>553BAE96C6EB6240</td>\n",
       "      <td>2020-12-29 14:09:14</td>\n",
       "      <td>login</td>\n",
       "      <td>A</td>\n",
       "    </tr>\n",
       "    <tr>\n",
       "      <th>423725</th>\n",
       "      <td>DD4352CDCF8C3D57</td>\n",
       "      <td>2020-12-30 12:42:56</td>\n",
       "      <td>login</td>\n",
       "      <td>B</td>\n",
       "    </tr>\n",
       "    <tr>\n",
       "      <th>423733</th>\n",
       "      <td>75845C83258FBF73</td>\n",
       "      <td>2020-12-30 06:42:52</td>\n",
       "      <td>login</td>\n",
       "      <td>B</td>\n",
       "    </tr>\n",
       "  </tbody>\n",
       "</table>\n",
       "<p>9506 rows × 4 columns</p>\n",
       "</div>"
      ],
      "text/plain": [
       "                 user_id             event_dt upd_events_login group\n",
       "241296  D72A72121175D8BE  2020-12-07 21:52:07            login     A\n",
       "241314  DD4352CDCF8C3D57  2020-12-07 15:32:53            login     B\n",
       "241317  831887FE7F2D6CBA  2020-12-07 06:50:29            login     A\n",
       "241333  4CB179C7F847320B  2020-12-07 01:37:05            login     B\n",
       "241334  29C92313A98B1176  2020-12-07 06:18:24            login     B\n",
       "...                  ...                  ...              ...   ...\n",
       "423683  D21F0D4FDCD82DB2  2020-12-29 02:17:00            login     A\n",
       "423702  96BDD55846D1F7F6  2020-12-29 16:53:42            login     A\n",
       "423711  553BAE96C6EB6240  2020-12-29 14:09:14            login     A\n",
       "423725  DD4352CDCF8C3D57  2020-12-30 12:42:56            login     B\n",
       "423733  75845C83258FBF73  2020-12-30 06:42:52            login     B\n",
       "\n",
       "[9506 rows x 4 columns]"
      ]
     },
     "execution_count": 651,
     "metadata": {},
     "output_type": "execute_result"
    }
   ],
   "source": [
    "upd_events_login"
   ]
  },
  {
   "cell_type": "markdown",
   "metadata": {},
   "source": [
    "    Taking a look a new table of 'upd_events_product_page', as follows:"
   ]
  },
  {
   "cell_type": "code",
   "execution_count": 652,
   "metadata": {},
   "outputs": [
    {
     "data": {
      "text/html": [
       "<div>\n",
       "<style scoped>\n",
       "    .dataframe tbody tr th:only-of-type {\n",
       "        vertical-align: middle;\n",
       "    }\n",
       "\n",
       "    .dataframe tbody tr th {\n",
       "        vertical-align: top;\n",
       "    }\n",
       "\n",
       "    .dataframe thead th {\n",
       "        text-align: right;\n",
       "    }\n",
       "</style>\n",
       "<table border=\"1\" class=\"dataframe\">\n",
       "  <thead>\n",
       "    <tr style=\"text-align: right;\">\n",
       "      <th></th>\n",
       "      <th>user_id</th>\n",
       "      <th>event_dt</th>\n",
       "      <th>upd_events_product_page</th>\n",
       "      <th>group</th>\n",
       "    </tr>\n",
       "  </thead>\n",
       "  <tbody>\n",
       "    <tr>\n",
       "      <th>120434</th>\n",
       "      <td>D72A72121175D8BE</td>\n",
       "      <td>2020-12-07 21:52:10</td>\n",
       "      <td>product_page</td>\n",
       "      <td>A</td>\n",
       "    </tr>\n",
       "    <tr>\n",
       "      <th>120448</th>\n",
       "      <td>DD4352CDCF8C3D57</td>\n",
       "      <td>2020-12-07 15:32:54</td>\n",
       "      <td>product_page</td>\n",
       "      <td>B</td>\n",
       "    </tr>\n",
       "    <tr>\n",
       "      <th>120458</th>\n",
       "      <td>4CB179C7F847320B</td>\n",
       "      <td>2020-12-07 01:37:06</td>\n",
       "      <td>product_page</td>\n",
       "      <td>B</td>\n",
       "    </tr>\n",
       "    <tr>\n",
       "      <th>120459</th>\n",
       "      <td>29C92313A98B1176</td>\n",
       "      <td>2020-12-07 06:18:26</td>\n",
       "      <td>product_page</td>\n",
       "      <td>B</td>\n",
       "    </tr>\n",
       "    <tr>\n",
       "      <th>120463</th>\n",
       "      <td>7D1BFB181017EB46</td>\n",
       "      <td>2020-12-07 15:50:23</td>\n",
       "      <td>product_page</td>\n",
       "      <td>B</td>\n",
       "    </tr>\n",
       "    <tr>\n",
       "      <th>...</th>\n",
       "      <td>...</td>\n",
       "      <td>...</td>\n",
       "      <td>...</td>\n",
       "      <td>...</td>\n",
       "    </tr>\n",
       "    <tr>\n",
       "      <th>241216</th>\n",
       "      <td>36EDA624DB7B7F90</td>\n",
       "      <td>2020-12-29 20:54:26</td>\n",
       "      <td>product_page</td>\n",
       "      <td>A</td>\n",
       "    </tr>\n",
       "    <tr>\n",
       "      <th>241241</th>\n",
       "      <td>E5589EAE02ACD150</td>\n",
       "      <td>2020-12-29 22:17:10</td>\n",
       "      <td>product_page</td>\n",
       "      <td>A</td>\n",
       "    </tr>\n",
       "    <tr>\n",
       "      <th>241243</th>\n",
       "      <td>D21F0D4FDCD82DB2</td>\n",
       "      <td>2020-12-29 02:17:01</td>\n",
       "      <td>product_page</td>\n",
       "      <td>A</td>\n",
       "    </tr>\n",
       "    <tr>\n",
       "      <th>241257</th>\n",
       "      <td>96BDD55846D1F7F6</td>\n",
       "      <td>2020-12-29 16:53:42</td>\n",
       "      <td>product_page</td>\n",
       "      <td>A</td>\n",
       "    </tr>\n",
       "    <tr>\n",
       "      <th>241274</th>\n",
       "      <td>DD4352CDCF8C3D57</td>\n",
       "      <td>2020-12-30 12:42:57</td>\n",
       "      <td>product_page</td>\n",
       "      <td>B</td>\n",
       "    </tr>\n",
       "  </tbody>\n",
       "</table>\n",
       "<p>5850 rows × 4 columns</p>\n",
       "</div>"
      ],
      "text/plain": [
       "                 user_id             event_dt upd_events_product_page group\n",
       "120434  D72A72121175D8BE  2020-12-07 21:52:10            product_page     A\n",
       "120448  DD4352CDCF8C3D57  2020-12-07 15:32:54            product_page     B\n",
       "120458  4CB179C7F847320B  2020-12-07 01:37:06            product_page     B\n",
       "120459  29C92313A98B1176  2020-12-07 06:18:26            product_page     B\n",
       "120463  7D1BFB181017EB46  2020-12-07 15:50:23            product_page     B\n",
       "...                  ...                  ...                     ...   ...\n",
       "241216  36EDA624DB7B7F90  2020-12-29 20:54:26            product_page     A\n",
       "241241  E5589EAE02ACD150  2020-12-29 22:17:10            product_page     A\n",
       "241243  D21F0D4FDCD82DB2  2020-12-29 02:17:01            product_page     A\n",
       "241257  96BDD55846D1F7F6  2020-12-29 16:53:42            product_page     A\n",
       "241274  DD4352CDCF8C3D57  2020-12-30 12:42:57            product_page     B\n",
       "\n",
       "[5850 rows x 4 columns]"
      ]
     },
     "execution_count": 652,
     "metadata": {},
     "output_type": "execute_result"
    }
   ],
   "source": [
    "upd_events_product_page"
   ]
  },
  {
   "cell_type": "markdown",
   "metadata": {},
   "source": [
    "    Taking a look a new table of 'upd_events_product_cart', as follows:"
   ]
  },
  {
   "cell_type": "code",
   "execution_count": 653,
   "metadata": {},
   "outputs": [
    {
     "data": {
      "text/html": [
       "<div>\n",
       "<style scoped>\n",
       "    .dataframe tbody tr th:only-of-type {\n",
       "        vertical-align: middle;\n",
       "    }\n",
       "\n",
       "    .dataframe tbody tr th {\n",
       "        vertical-align: top;\n",
       "    }\n",
       "\n",
       "    .dataframe thead th {\n",
       "        text-align: right;\n",
       "    }\n",
       "</style>\n",
       "<table border=\"1\" class=\"dataframe\">\n",
       "  <thead>\n",
       "    <tr style=\"text-align: right;\">\n",
       "      <th></th>\n",
       "      <th>user_id</th>\n",
       "      <th>event_dt</th>\n",
       "      <th>upd_events_product_cart</th>\n",
       "      <th>group</th>\n",
       "    </tr>\n",
       "  </thead>\n",
       "  <tbody>\n",
       "    <tr>\n",
       "      <th>60320</th>\n",
       "      <td>831887FE7F2D6CBA</td>\n",
       "      <td>2020-12-07 06:50:30</td>\n",
       "      <td>product_cart</td>\n",
       "      <td>A</td>\n",
       "    </tr>\n",
       "    <tr>\n",
       "      <th>60327</th>\n",
       "      <td>7D1BFB181017EB46</td>\n",
       "      <td>2020-12-07 15:50:23</td>\n",
       "      <td>product_cart</td>\n",
       "      <td>B</td>\n",
       "    </tr>\n",
       "    <tr>\n",
       "      <th>60354</th>\n",
       "      <td>204343649F72D01B</td>\n",
       "      <td>2020-12-07 02:20:57</td>\n",
       "      <td>product_cart</td>\n",
       "      <td>B</td>\n",
       "    </tr>\n",
       "    <tr>\n",
       "      <th>60358</th>\n",
       "      <td>23B71FAAF4A89964</td>\n",
       "      <td>2020-12-07 20:47:10</td>\n",
       "      <td>product_cart</td>\n",
       "      <td>A</td>\n",
       "    </tr>\n",
       "    <tr>\n",
       "      <th>60363</th>\n",
       "      <td>75845C83258FBF73</td>\n",
       "      <td>2020-12-07 20:20:21</td>\n",
       "      <td>product_cart</td>\n",
       "      <td>B</td>\n",
       "    </tr>\n",
       "    <tr>\n",
       "      <th>...</th>\n",
       "      <td>...</td>\n",
       "      <td>...</td>\n",
       "      <td>...</td>\n",
       "      <td>...</td>\n",
       "    </tr>\n",
       "    <tr>\n",
       "      <th>120174</th>\n",
       "      <td>9429C337BF221E89</td>\n",
       "      <td>2020-12-29 17:30:14</td>\n",
       "      <td>product_cart</td>\n",
       "      <td>A</td>\n",
       "    </tr>\n",
       "    <tr>\n",
       "      <th>120195</th>\n",
       "      <td>16755E4546D18F76</td>\n",
       "      <td>2020-12-29 01:22:56</td>\n",
       "      <td>product_cart</td>\n",
       "      <td>A</td>\n",
       "    </tr>\n",
       "    <tr>\n",
       "      <th>120200</th>\n",
       "      <td>AE7BFC03E442CCC9</td>\n",
       "      <td>2020-12-29 07:10:24</td>\n",
       "      <td>product_cart</td>\n",
       "      <td>A</td>\n",
       "    </tr>\n",
       "    <tr>\n",
       "      <th>120375</th>\n",
       "      <td>EDD72A37B86EE7C2</td>\n",
       "      <td>2020-12-29 02:22:45</td>\n",
       "      <td>product_cart</td>\n",
       "      <td>A</td>\n",
       "    </tr>\n",
       "    <tr>\n",
       "      <th>120419</th>\n",
       "      <td>75845C83258FBF73</td>\n",
       "      <td>2020-12-30 06:42:52</td>\n",
       "      <td>product_cart</td>\n",
       "      <td>B</td>\n",
       "    </tr>\n",
       "  </tbody>\n",
       "</table>\n",
       "<p>2787 rows × 4 columns</p>\n",
       "</div>"
      ],
      "text/plain": [
       "                 user_id             event_dt upd_events_product_cart group\n",
       "60320   831887FE7F2D6CBA  2020-12-07 06:50:30            product_cart     A\n",
       "60327   7D1BFB181017EB46  2020-12-07 15:50:23            product_cart     B\n",
       "60354   204343649F72D01B  2020-12-07 02:20:57            product_cart     B\n",
       "60358   23B71FAAF4A89964  2020-12-07 20:47:10            product_cart     A\n",
       "60363   75845C83258FBF73  2020-12-07 20:20:21            product_cart     B\n",
       "...                  ...                  ...                     ...   ...\n",
       "120174  9429C337BF221E89  2020-12-29 17:30:14            product_cart     A\n",
       "120195  16755E4546D18F76  2020-12-29 01:22:56            product_cart     A\n",
       "120200  AE7BFC03E442CCC9  2020-12-29 07:10:24            product_cart     A\n",
       "120375  EDD72A37B86EE7C2  2020-12-29 02:22:45            product_cart     A\n",
       "120419  75845C83258FBF73  2020-12-30 06:42:52            product_cart     B\n",
       "\n",
       "[2787 rows x 4 columns]"
      ]
     },
     "execution_count": 653,
     "metadata": {},
     "output_type": "execute_result"
    }
   ],
   "source": [
    "upd_events_product_cart"
   ]
  },
  {
   "cell_type": "markdown",
   "metadata": {},
   "source": [
    "    Taking a look a new table of 'upd_events_purchase', as follows:"
   ]
  },
  {
   "cell_type": "code",
   "execution_count": 654,
   "metadata": {},
   "outputs": [
    {
     "data": {
      "text/html": [
       "<div>\n",
       "<style scoped>\n",
       "    .dataframe tbody tr th:only-of-type {\n",
       "        vertical-align: middle;\n",
       "    }\n",
       "\n",
       "    .dataframe tbody tr th {\n",
       "        vertical-align: top;\n",
       "    }\n",
       "\n",
       "    .dataframe thead th {\n",
       "        text-align: right;\n",
       "    }\n",
       "</style>\n",
       "<table border=\"1\" class=\"dataframe\">\n",
       "  <thead>\n",
       "    <tr style=\"text-align: right;\">\n",
       "      <th></th>\n",
       "      <th>user_id</th>\n",
       "      <th>event_dt</th>\n",
       "      <th>upd_events_purchase</th>\n",
       "      <th>group</th>\n",
       "    </tr>\n",
       "  </thead>\n",
       "  <tbody>\n",
       "    <tr>\n",
       "      <th>5</th>\n",
       "      <td>831887FE7F2D6CBA</td>\n",
       "      <td>2020-12-07 06:50:29</td>\n",
       "      <td>purchase</td>\n",
       "      <td>A</td>\n",
       "    </tr>\n",
       "    <tr>\n",
       "      <th>17</th>\n",
       "      <td>3C5DD0288AC4FE23</td>\n",
       "      <td>2020-12-07 19:42:40</td>\n",
       "      <td>purchase</td>\n",
       "      <td>A</td>\n",
       "    </tr>\n",
       "    <tr>\n",
       "      <th>58</th>\n",
       "      <td>49EA242586C87836</td>\n",
       "      <td>2020-12-07 06:31:24</td>\n",
       "      <td>purchase</td>\n",
       "      <td>B</td>\n",
       "    </tr>\n",
       "    <tr>\n",
       "      <th>71</th>\n",
       "      <td>2B06EB547B7AAD08</td>\n",
       "      <td>2020-12-07 21:36:38</td>\n",
       "      <td>purchase</td>\n",
       "      <td>A</td>\n",
       "    </tr>\n",
       "    <tr>\n",
       "      <th>74</th>\n",
       "      <td>A640F31CAC7823A6</td>\n",
       "      <td>2020-12-07 18:48:26</td>\n",
       "      <td>purchase</td>\n",
       "      <td>B</td>\n",
       "    </tr>\n",
       "    <tr>\n",
       "      <th>...</th>\n",
       "      <td>...</td>\n",
       "      <td>...</td>\n",
       "      <td>...</td>\n",
       "      <td>...</td>\n",
       "    </tr>\n",
       "    <tr>\n",
       "      <th>60214</th>\n",
       "      <td>D6479D2D2511094C</td>\n",
       "      <td>2020-12-29 12:28:35</td>\n",
       "      <td>purchase</td>\n",
       "      <td>A</td>\n",
       "    </tr>\n",
       "    <tr>\n",
       "      <th>60228</th>\n",
       "      <td>307C06C0E6F09B93</td>\n",
       "      <td>2020-12-29 14:36:46</td>\n",
       "      <td>purchase</td>\n",
       "      <td>A</td>\n",
       "    </tr>\n",
       "    <tr>\n",
       "      <th>60244</th>\n",
       "      <td>1EAEC9948792FF2F</td>\n",
       "      <td>2020-12-29 03:59:59</td>\n",
       "      <td>purchase</td>\n",
       "      <td>A</td>\n",
       "    </tr>\n",
       "    <tr>\n",
       "      <th>60246</th>\n",
       "      <td>68E46B7897232BBF</td>\n",
       "      <td>2020-12-29 07:51:25</td>\n",
       "      <td>purchase</td>\n",
       "      <td>A</td>\n",
       "    </tr>\n",
       "    <tr>\n",
       "      <th>60293</th>\n",
       "      <td>553BAE96C6EB6240</td>\n",
       "      <td>2020-12-29 14:09:14</td>\n",
       "      <td>purchase</td>\n",
       "      <td>A</td>\n",
       "    </tr>\n",
       "  </tbody>\n",
       "</table>\n",
       "<p>2789 rows × 4 columns</p>\n",
       "</div>"
      ],
      "text/plain": [
       "                user_id             event_dt upd_events_purchase group\n",
       "5      831887FE7F2D6CBA  2020-12-07 06:50:29            purchase     A\n",
       "17     3C5DD0288AC4FE23  2020-12-07 19:42:40            purchase     A\n",
       "58     49EA242586C87836  2020-12-07 06:31:24            purchase     B\n",
       "71     2B06EB547B7AAD08  2020-12-07 21:36:38            purchase     A\n",
       "74     A640F31CAC7823A6  2020-12-07 18:48:26            purchase     B\n",
       "...                 ...                  ...                 ...   ...\n",
       "60214  D6479D2D2511094C  2020-12-29 12:28:35            purchase     A\n",
       "60228  307C06C0E6F09B93  2020-12-29 14:36:46            purchase     A\n",
       "60244  1EAEC9948792FF2F  2020-12-29 03:59:59            purchase     A\n",
       "60246  68E46B7897232BBF  2020-12-29 07:51:25            purchase     A\n",
       "60293  553BAE96C6EB6240  2020-12-29 14:09:14            purchase     A\n",
       "\n",
       "[2789 rows x 4 columns]"
      ]
     },
     "execution_count": 654,
     "metadata": {},
     "output_type": "execute_result"
    }
   ],
   "source": [
    "upd_events_purchase"
   ]
  },
  {
   "cell_type": "markdown",
   "metadata": {},
   "source": [
    "    Temporary Findings:\n",
    "    At this moment, we have four new DataFrames, those are:\n",
    "    1. 'upd_events_login'\n",
    "    2. 'upd_events_product_page'\n",
    "    3. 'upd_events_product_cart'\n",
    "    4. 'upd_events_purchase'"
   ]
  },
  {
   "cell_type": "markdown",
   "metadata": {},
   "source": [
    "[Back to Contents](#tableofcontents)"
   ]
  },
  {
   "cell_type": "markdown",
   "metadata": {},
   "source": [
    "    We are going to merge each table to new table. Now, we merge the 'upd_events_login' table with 'upd_events_product_page' by left join, as follows:"
   ]
  },
  {
   "cell_type": "code",
   "execution_count": 655,
   "metadata": {},
   "outputs": [
    {
     "data": {
      "text/html": [
       "<div>\n",
       "<style scoped>\n",
       "    .dataframe tbody tr th:only-of-type {\n",
       "        vertical-align: middle;\n",
       "    }\n",
       "\n",
       "    .dataframe tbody tr th {\n",
       "        vertical-align: top;\n",
       "    }\n",
       "\n",
       "    .dataframe thead th {\n",
       "        text-align: right;\n",
       "    }\n",
       "</style>\n",
       "<table border=\"1\" class=\"dataframe\">\n",
       "  <thead>\n",
       "    <tr style=\"text-align: right;\">\n",
       "      <th></th>\n",
       "      <th>user_id</th>\n",
       "      <th>event_dt</th>\n",
       "      <th>upd_events_login</th>\n",
       "      <th>group_x</th>\n",
       "      <th>upd_events_product_page</th>\n",
       "      <th>group_y</th>\n",
       "    </tr>\n",
       "  </thead>\n",
       "  <tbody>\n",
       "    <tr>\n",
       "      <th>0</th>\n",
       "      <td>D72A72121175D8BE</td>\n",
       "      <td>2020-12-07 21:52:07</td>\n",
       "      <td>login</td>\n",
       "      <td>A</td>\n",
       "      <td>NaN</td>\n",
       "      <td>NaN</td>\n",
       "    </tr>\n",
       "    <tr>\n",
       "      <th>1</th>\n",
       "      <td>DD4352CDCF8C3D57</td>\n",
       "      <td>2020-12-07 15:32:53</td>\n",
       "      <td>login</td>\n",
       "      <td>B</td>\n",
       "      <td>NaN</td>\n",
       "      <td>NaN</td>\n",
       "    </tr>\n",
       "    <tr>\n",
       "      <th>2</th>\n",
       "      <td>831887FE7F2D6CBA</td>\n",
       "      <td>2020-12-07 06:50:29</td>\n",
       "      <td>login</td>\n",
       "      <td>A</td>\n",
       "      <td>NaN</td>\n",
       "      <td>NaN</td>\n",
       "    </tr>\n",
       "    <tr>\n",
       "      <th>3</th>\n",
       "      <td>4CB179C7F847320B</td>\n",
       "      <td>2020-12-07 01:37:05</td>\n",
       "      <td>login</td>\n",
       "      <td>B</td>\n",
       "      <td>NaN</td>\n",
       "      <td>NaN</td>\n",
       "    </tr>\n",
       "    <tr>\n",
       "      <th>4</th>\n",
       "      <td>29C92313A98B1176</td>\n",
       "      <td>2020-12-07 06:18:24</td>\n",
       "      <td>login</td>\n",
       "      <td>B</td>\n",
       "      <td>NaN</td>\n",
       "      <td>NaN</td>\n",
       "    </tr>\n",
       "    <tr>\n",
       "      <th>...</th>\n",
       "      <td>...</td>\n",
       "      <td>...</td>\n",
       "      <td>...</td>\n",
       "      <td>...</td>\n",
       "      <td>...</td>\n",
       "      <td>...</td>\n",
       "    </tr>\n",
       "    <tr>\n",
       "      <th>9501</th>\n",
       "      <td>D21F0D4FDCD82DB2</td>\n",
       "      <td>2020-12-29 02:17:00</td>\n",
       "      <td>login</td>\n",
       "      <td>A</td>\n",
       "      <td>NaN</td>\n",
       "      <td>NaN</td>\n",
       "    </tr>\n",
       "    <tr>\n",
       "      <th>9502</th>\n",
       "      <td>96BDD55846D1F7F6</td>\n",
       "      <td>2020-12-29 16:53:42</td>\n",
       "      <td>login</td>\n",
       "      <td>A</td>\n",
       "      <td>product_page</td>\n",
       "      <td>A</td>\n",
       "    </tr>\n",
       "    <tr>\n",
       "      <th>9503</th>\n",
       "      <td>553BAE96C6EB6240</td>\n",
       "      <td>2020-12-29 14:09:14</td>\n",
       "      <td>login</td>\n",
       "      <td>A</td>\n",
       "      <td>NaN</td>\n",
       "      <td>NaN</td>\n",
       "    </tr>\n",
       "    <tr>\n",
       "      <th>9504</th>\n",
       "      <td>DD4352CDCF8C3D57</td>\n",
       "      <td>2020-12-30 12:42:56</td>\n",
       "      <td>login</td>\n",
       "      <td>B</td>\n",
       "      <td>NaN</td>\n",
       "      <td>NaN</td>\n",
       "    </tr>\n",
       "    <tr>\n",
       "      <th>9505</th>\n",
       "      <td>75845C83258FBF73</td>\n",
       "      <td>2020-12-30 06:42:52</td>\n",
       "      <td>login</td>\n",
       "      <td>B</td>\n",
       "      <td>NaN</td>\n",
       "      <td>NaN</td>\n",
       "    </tr>\n",
       "  </tbody>\n",
       "</table>\n",
       "<p>9506 rows × 6 columns</p>\n",
       "</div>"
      ],
      "text/plain": [
       "               user_id             event_dt upd_events_login group_x  \\\n",
       "0     D72A72121175D8BE  2020-12-07 21:52:07            login       A   \n",
       "1     DD4352CDCF8C3D57  2020-12-07 15:32:53            login       B   \n",
       "2     831887FE7F2D6CBA  2020-12-07 06:50:29            login       A   \n",
       "3     4CB179C7F847320B  2020-12-07 01:37:05            login       B   \n",
       "4     29C92313A98B1176  2020-12-07 06:18:24            login       B   \n",
       "...                ...                  ...              ...     ...   \n",
       "9501  D21F0D4FDCD82DB2  2020-12-29 02:17:00            login       A   \n",
       "9502  96BDD55846D1F7F6  2020-12-29 16:53:42            login       A   \n",
       "9503  553BAE96C6EB6240  2020-12-29 14:09:14            login       A   \n",
       "9504  DD4352CDCF8C3D57  2020-12-30 12:42:56            login       B   \n",
       "9505  75845C83258FBF73  2020-12-30 06:42:52            login       B   \n",
       "\n",
       "     upd_events_product_page group_y  \n",
       "0                        NaN     NaN  \n",
       "1                        NaN     NaN  \n",
       "2                        NaN     NaN  \n",
       "3                        NaN     NaN  \n",
       "4                        NaN     NaN  \n",
       "...                      ...     ...  \n",
       "9501                     NaN     NaN  \n",
       "9502            product_page       A  \n",
       "9503                     NaN     NaN  \n",
       "9504                     NaN     NaN  \n",
       "9505                     NaN     NaN  \n",
       "\n",
       "[9506 rows x 6 columns]"
      ]
     },
     "execution_count": 655,
     "metadata": {},
     "output_type": "execute_result"
    }
   ],
   "source": [
    "login_tothe_page = upd_events_login.merge(upd_events_product_page, on=['user_id', 'event_dt'], how='left')\n",
    "login_tothe_page"
   ]
  },
  {
   "cell_type": "markdown",
   "metadata": {},
   "source": [
    "    After that, we merge the 'upd_events_product_page' table with 'upd_events_product_cart' table by left join, as follows:"
   ]
  },
  {
   "cell_type": "code",
   "execution_count": 656,
   "metadata": {},
   "outputs": [
    {
     "data": {
      "text/html": [
       "<div>\n",
       "<style scoped>\n",
       "    .dataframe tbody tr th:only-of-type {\n",
       "        vertical-align: middle;\n",
       "    }\n",
       "\n",
       "    .dataframe tbody tr th {\n",
       "        vertical-align: top;\n",
       "    }\n",
       "\n",
       "    .dataframe thead th {\n",
       "        text-align: right;\n",
       "    }\n",
       "</style>\n",
       "<table border=\"1\" class=\"dataframe\">\n",
       "  <thead>\n",
       "    <tr style=\"text-align: right;\">\n",
       "      <th></th>\n",
       "      <th>user_id</th>\n",
       "      <th>event_dt</th>\n",
       "      <th>upd_events_product_page</th>\n",
       "      <th>group_x</th>\n",
       "      <th>upd_events_product_cart</th>\n",
       "      <th>group_y</th>\n",
       "    </tr>\n",
       "  </thead>\n",
       "  <tbody>\n",
       "    <tr>\n",
       "      <th>0</th>\n",
       "      <td>D72A72121175D8BE</td>\n",
       "      <td>2020-12-07 21:52:10</td>\n",
       "      <td>product_page</td>\n",
       "      <td>A</td>\n",
       "      <td>NaN</td>\n",
       "      <td>NaN</td>\n",
       "    </tr>\n",
       "    <tr>\n",
       "      <th>1</th>\n",
       "      <td>DD4352CDCF8C3D57</td>\n",
       "      <td>2020-12-07 15:32:54</td>\n",
       "      <td>product_page</td>\n",
       "      <td>B</td>\n",
       "      <td>NaN</td>\n",
       "      <td>NaN</td>\n",
       "    </tr>\n",
       "    <tr>\n",
       "      <th>2</th>\n",
       "      <td>4CB179C7F847320B</td>\n",
       "      <td>2020-12-07 01:37:06</td>\n",
       "      <td>product_page</td>\n",
       "      <td>B</td>\n",
       "      <td>NaN</td>\n",
       "      <td>NaN</td>\n",
       "    </tr>\n",
       "    <tr>\n",
       "      <th>3</th>\n",
       "      <td>29C92313A98B1176</td>\n",
       "      <td>2020-12-07 06:18:26</td>\n",
       "      <td>product_page</td>\n",
       "      <td>B</td>\n",
       "      <td>NaN</td>\n",
       "      <td>NaN</td>\n",
       "    </tr>\n",
       "    <tr>\n",
       "      <th>4</th>\n",
       "      <td>7D1BFB181017EB46</td>\n",
       "      <td>2020-12-07 15:50:23</td>\n",
       "      <td>product_page</td>\n",
       "      <td>B</td>\n",
       "      <td>product_cart</td>\n",
       "      <td>B</td>\n",
       "    </tr>\n",
       "    <tr>\n",
       "      <th>...</th>\n",
       "      <td>...</td>\n",
       "      <td>...</td>\n",
       "      <td>...</td>\n",
       "      <td>...</td>\n",
       "      <td>...</td>\n",
       "      <td>...</td>\n",
       "    </tr>\n",
       "    <tr>\n",
       "      <th>5845</th>\n",
       "      <td>36EDA624DB7B7F90</td>\n",
       "      <td>2020-12-29 20:54:26</td>\n",
       "      <td>product_page</td>\n",
       "      <td>A</td>\n",
       "      <td>NaN</td>\n",
       "      <td>NaN</td>\n",
       "    </tr>\n",
       "    <tr>\n",
       "      <th>5846</th>\n",
       "      <td>E5589EAE02ACD150</td>\n",
       "      <td>2020-12-29 22:17:10</td>\n",
       "      <td>product_page</td>\n",
       "      <td>A</td>\n",
       "      <td>NaN</td>\n",
       "      <td>NaN</td>\n",
       "    </tr>\n",
       "    <tr>\n",
       "      <th>5847</th>\n",
       "      <td>D21F0D4FDCD82DB2</td>\n",
       "      <td>2020-12-29 02:17:01</td>\n",
       "      <td>product_page</td>\n",
       "      <td>A</td>\n",
       "      <td>NaN</td>\n",
       "      <td>NaN</td>\n",
       "    </tr>\n",
       "    <tr>\n",
       "      <th>5848</th>\n",
       "      <td>96BDD55846D1F7F6</td>\n",
       "      <td>2020-12-29 16:53:42</td>\n",
       "      <td>product_page</td>\n",
       "      <td>A</td>\n",
       "      <td>NaN</td>\n",
       "      <td>NaN</td>\n",
       "    </tr>\n",
       "    <tr>\n",
       "      <th>5849</th>\n",
       "      <td>DD4352CDCF8C3D57</td>\n",
       "      <td>2020-12-30 12:42:57</td>\n",
       "      <td>product_page</td>\n",
       "      <td>B</td>\n",
       "      <td>NaN</td>\n",
       "      <td>NaN</td>\n",
       "    </tr>\n",
       "  </tbody>\n",
       "</table>\n",
       "<p>5850 rows × 6 columns</p>\n",
       "</div>"
      ],
      "text/plain": [
       "               user_id             event_dt upd_events_product_page group_x  \\\n",
       "0     D72A72121175D8BE  2020-12-07 21:52:10            product_page       A   \n",
       "1     DD4352CDCF8C3D57  2020-12-07 15:32:54            product_page       B   \n",
       "2     4CB179C7F847320B  2020-12-07 01:37:06            product_page       B   \n",
       "3     29C92313A98B1176  2020-12-07 06:18:26            product_page       B   \n",
       "4     7D1BFB181017EB46  2020-12-07 15:50:23            product_page       B   \n",
       "...                ...                  ...                     ...     ...   \n",
       "5845  36EDA624DB7B7F90  2020-12-29 20:54:26            product_page       A   \n",
       "5846  E5589EAE02ACD150  2020-12-29 22:17:10            product_page       A   \n",
       "5847  D21F0D4FDCD82DB2  2020-12-29 02:17:01            product_page       A   \n",
       "5848  96BDD55846D1F7F6  2020-12-29 16:53:42            product_page       A   \n",
       "5849  DD4352CDCF8C3D57  2020-12-30 12:42:57            product_page       B   \n",
       "\n",
       "     upd_events_product_cart group_y  \n",
       "0                        NaN     NaN  \n",
       "1                        NaN     NaN  \n",
       "2                        NaN     NaN  \n",
       "3                        NaN     NaN  \n",
       "4               product_cart       B  \n",
       "...                      ...     ...  \n",
       "5845                     NaN     NaN  \n",
       "5846                     NaN     NaN  \n",
       "5847                     NaN     NaN  \n",
       "5848                     NaN     NaN  \n",
       "5849                     NaN     NaN  \n",
       "\n",
       "[5850 rows x 6 columns]"
      ]
     },
     "execution_count": 656,
     "metadata": {},
     "output_type": "execute_result"
    }
   ],
   "source": [
    "tothe_page_cart = upd_events_product_page.merge(upd_events_product_cart, on=['user_id', 'event_dt'], how='left')\n",
    "tothe_page_cart"
   ]
  },
  {
   "cell_type": "markdown",
   "metadata": {},
   "source": [
    "    Then, we merge the 'upd_events_product_cart' table with 'upd_events_purchase' table by left join, as follows:"
   ]
  },
  {
   "cell_type": "code",
   "execution_count": 657,
   "metadata": {},
   "outputs": [
    {
     "data": {
      "text/html": [
       "<div>\n",
       "<style scoped>\n",
       "    .dataframe tbody tr th:only-of-type {\n",
       "        vertical-align: middle;\n",
       "    }\n",
       "\n",
       "    .dataframe tbody tr th {\n",
       "        vertical-align: top;\n",
       "    }\n",
       "\n",
       "    .dataframe thead th {\n",
       "        text-align: right;\n",
       "    }\n",
       "</style>\n",
       "<table border=\"1\" class=\"dataframe\">\n",
       "  <thead>\n",
       "    <tr style=\"text-align: right;\">\n",
       "      <th></th>\n",
       "      <th>user_id</th>\n",
       "      <th>event_dt</th>\n",
       "      <th>upd_events_product_cart</th>\n",
       "      <th>group_x</th>\n",
       "      <th>upd_events_purchase</th>\n",
       "      <th>group_y</th>\n",
       "    </tr>\n",
       "  </thead>\n",
       "  <tbody>\n",
       "    <tr>\n",
       "      <th>0</th>\n",
       "      <td>831887FE7F2D6CBA</td>\n",
       "      <td>2020-12-07 06:50:30</td>\n",
       "      <td>product_cart</td>\n",
       "      <td>A</td>\n",
       "      <td>NaN</td>\n",
       "      <td>NaN</td>\n",
       "    </tr>\n",
       "    <tr>\n",
       "      <th>1</th>\n",
       "      <td>7D1BFB181017EB46</td>\n",
       "      <td>2020-12-07 15:50:23</td>\n",
       "      <td>product_cart</td>\n",
       "      <td>B</td>\n",
       "      <td>NaN</td>\n",
       "      <td>NaN</td>\n",
       "    </tr>\n",
       "    <tr>\n",
       "      <th>2</th>\n",
       "      <td>204343649F72D01B</td>\n",
       "      <td>2020-12-07 02:20:57</td>\n",
       "      <td>product_cart</td>\n",
       "      <td>B</td>\n",
       "      <td>NaN</td>\n",
       "      <td>NaN</td>\n",
       "    </tr>\n",
       "    <tr>\n",
       "      <th>3</th>\n",
       "      <td>23B71FAAF4A89964</td>\n",
       "      <td>2020-12-07 20:47:10</td>\n",
       "      <td>product_cart</td>\n",
       "      <td>A</td>\n",
       "      <td>NaN</td>\n",
       "      <td>NaN</td>\n",
       "    </tr>\n",
       "    <tr>\n",
       "      <th>4</th>\n",
       "      <td>75845C83258FBF73</td>\n",
       "      <td>2020-12-07 20:20:21</td>\n",
       "      <td>product_cart</td>\n",
       "      <td>B</td>\n",
       "      <td>NaN</td>\n",
       "      <td>NaN</td>\n",
       "    </tr>\n",
       "    <tr>\n",
       "      <th>...</th>\n",
       "      <td>...</td>\n",
       "      <td>...</td>\n",
       "      <td>...</td>\n",
       "      <td>...</td>\n",
       "      <td>...</td>\n",
       "      <td>...</td>\n",
       "    </tr>\n",
       "    <tr>\n",
       "      <th>2782</th>\n",
       "      <td>9429C337BF221E89</td>\n",
       "      <td>2020-12-29 17:30:14</td>\n",
       "      <td>product_cart</td>\n",
       "      <td>A</td>\n",
       "      <td>NaN</td>\n",
       "      <td>NaN</td>\n",
       "    </tr>\n",
       "    <tr>\n",
       "      <th>2783</th>\n",
       "      <td>16755E4546D18F76</td>\n",
       "      <td>2020-12-29 01:22:56</td>\n",
       "      <td>product_cart</td>\n",
       "      <td>A</td>\n",
       "      <td>NaN</td>\n",
       "      <td>NaN</td>\n",
       "    </tr>\n",
       "    <tr>\n",
       "      <th>2784</th>\n",
       "      <td>AE7BFC03E442CCC9</td>\n",
       "      <td>2020-12-29 07:10:24</td>\n",
       "      <td>product_cart</td>\n",
       "      <td>A</td>\n",
       "      <td>NaN</td>\n",
       "      <td>NaN</td>\n",
       "    </tr>\n",
       "    <tr>\n",
       "      <th>2785</th>\n",
       "      <td>EDD72A37B86EE7C2</td>\n",
       "      <td>2020-12-29 02:22:45</td>\n",
       "      <td>product_cart</td>\n",
       "      <td>A</td>\n",
       "      <td>NaN</td>\n",
       "      <td>NaN</td>\n",
       "    </tr>\n",
       "    <tr>\n",
       "      <th>2786</th>\n",
       "      <td>75845C83258FBF73</td>\n",
       "      <td>2020-12-30 06:42:52</td>\n",
       "      <td>product_cart</td>\n",
       "      <td>B</td>\n",
       "      <td>NaN</td>\n",
       "      <td>NaN</td>\n",
       "    </tr>\n",
       "  </tbody>\n",
       "</table>\n",
       "<p>2787 rows × 6 columns</p>\n",
       "</div>"
      ],
      "text/plain": [
       "               user_id             event_dt upd_events_product_cart group_x  \\\n",
       "0     831887FE7F2D6CBA  2020-12-07 06:50:30            product_cart       A   \n",
       "1     7D1BFB181017EB46  2020-12-07 15:50:23            product_cart       B   \n",
       "2     204343649F72D01B  2020-12-07 02:20:57            product_cart       B   \n",
       "3     23B71FAAF4A89964  2020-12-07 20:47:10            product_cart       A   \n",
       "4     75845C83258FBF73  2020-12-07 20:20:21            product_cart       B   \n",
       "...                ...                  ...                     ...     ...   \n",
       "2782  9429C337BF221E89  2020-12-29 17:30:14            product_cart       A   \n",
       "2783  16755E4546D18F76  2020-12-29 01:22:56            product_cart       A   \n",
       "2784  AE7BFC03E442CCC9  2020-12-29 07:10:24            product_cart       A   \n",
       "2785  EDD72A37B86EE7C2  2020-12-29 02:22:45            product_cart       A   \n",
       "2786  75845C83258FBF73  2020-12-30 06:42:52            product_cart       B   \n",
       "\n",
       "     upd_events_purchase group_y  \n",
       "0                    NaN     NaN  \n",
       "1                    NaN     NaN  \n",
       "2                    NaN     NaN  \n",
       "3                    NaN     NaN  \n",
       "4                    NaN     NaN  \n",
       "...                  ...     ...  \n",
       "2782                 NaN     NaN  \n",
       "2783                 NaN     NaN  \n",
       "2784                 NaN     NaN  \n",
       "2785                 NaN     NaN  \n",
       "2786                 NaN     NaN  \n",
       "\n",
       "[2787 rows x 6 columns]"
      ]
     },
     "execution_count": 657,
     "metadata": {},
     "output_type": "execute_result"
    }
   ],
   "source": [
    "cart_tothe_purchase = upd_events_product_cart.merge(upd_events_purchase, on=['user_id', 'event_dt'], how='left')\n",
    "cart_tothe_purchase"
   ]
  },
  {
   "cell_type": "markdown",
   "metadata": {},
   "source": [
    "    Finally, we merge all of the tables above, as follows:"
   ]
  },
  {
   "cell_type": "code",
   "execution_count": 658,
   "metadata": {},
   "outputs": [
    {
     "data": {
      "text/html": [
       "<div>\n",
       "<style scoped>\n",
       "    .dataframe tbody tr th:only-of-type {\n",
       "        vertical-align: middle;\n",
       "    }\n",
       "\n",
       "    .dataframe tbody tr th {\n",
       "        vertical-align: top;\n",
       "    }\n",
       "\n",
       "    .dataframe thead th {\n",
       "        text-align: right;\n",
       "    }\n",
       "</style>\n",
       "<table border=\"1\" class=\"dataframe\">\n",
       "  <thead>\n",
       "    <tr style=\"text-align: right;\">\n",
       "      <th></th>\n",
       "      <th>user_id</th>\n",
       "      <th>event_dt</th>\n",
       "      <th>group</th>\n",
       "      <th>upd_events_login</th>\n",
       "      <th>upd_events_product_page</th>\n",
       "      <th>upd_events_product_cart</th>\n",
       "      <th>upd_events_purchase</th>\n",
       "    </tr>\n",
       "  </thead>\n",
       "  <tbody>\n",
       "    <tr>\n",
       "      <th>0</th>\n",
       "      <td>D72A72121175D8BE</td>\n",
       "      <td>2020-12-07 21:52:07</td>\n",
       "      <td>A</td>\n",
       "      <td>login</td>\n",
       "      <td>NaN</td>\n",
       "      <td>NaN</td>\n",
       "      <td>NaN</td>\n",
       "    </tr>\n",
       "    <tr>\n",
       "      <th>1</th>\n",
       "      <td>DD4352CDCF8C3D57</td>\n",
       "      <td>2020-12-07 15:32:53</td>\n",
       "      <td>B</td>\n",
       "      <td>login</td>\n",
       "      <td>NaN</td>\n",
       "      <td>NaN</td>\n",
       "      <td>NaN</td>\n",
       "    </tr>\n",
       "    <tr>\n",
       "      <th>2</th>\n",
       "      <td>831887FE7F2D6CBA</td>\n",
       "      <td>2020-12-07 06:50:29</td>\n",
       "      <td>A</td>\n",
       "      <td>login</td>\n",
       "      <td>NaN</td>\n",
       "      <td>NaN</td>\n",
       "      <td>NaN</td>\n",
       "    </tr>\n",
       "    <tr>\n",
       "      <th>3</th>\n",
       "      <td>4CB179C7F847320B</td>\n",
       "      <td>2020-12-07 01:37:05</td>\n",
       "      <td>B</td>\n",
       "      <td>login</td>\n",
       "      <td>NaN</td>\n",
       "      <td>NaN</td>\n",
       "      <td>NaN</td>\n",
       "    </tr>\n",
       "    <tr>\n",
       "      <th>4</th>\n",
       "      <td>29C92313A98B1176</td>\n",
       "      <td>2020-12-07 06:18:24</td>\n",
       "      <td>B</td>\n",
       "      <td>login</td>\n",
       "      <td>NaN</td>\n",
       "      <td>NaN</td>\n",
       "      <td>NaN</td>\n",
       "    </tr>\n",
       "    <tr>\n",
       "      <th>...</th>\n",
       "      <td>...</td>\n",
       "      <td>...</td>\n",
       "      <td>...</td>\n",
       "      <td>...</td>\n",
       "      <td>...</td>\n",
       "      <td>...</td>\n",
       "      <td>...</td>\n",
       "    </tr>\n",
       "    <tr>\n",
       "      <th>9501</th>\n",
       "      <td>D21F0D4FDCD82DB2</td>\n",
       "      <td>2020-12-29 02:17:00</td>\n",
       "      <td>A</td>\n",
       "      <td>login</td>\n",
       "      <td>NaN</td>\n",
       "      <td>NaN</td>\n",
       "      <td>NaN</td>\n",
       "    </tr>\n",
       "    <tr>\n",
       "      <th>9502</th>\n",
       "      <td>96BDD55846D1F7F6</td>\n",
       "      <td>2020-12-29 16:53:42</td>\n",
       "      <td>A</td>\n",
       "      <td>login</td>\n",
       "      <td>product_page</td>\n",
       "      <td>NaN</td>\n",
       "      <td>NaN</td>\n",
       "    </tr>\n",
       "    <tr>\n",
       "      <th>9503</th>\n",
       "      <td>553BAE96C6EB6240</td>\n",
       "      <td>2020-12-29 14:09:14</td>\n",
       "      <td>A</td>\n",
       "      <td>login</td>\n",
       "      <td>NaN</td>\n",
       "      <td>NaN</td>\n",
       "      <td>NaN</td>\n",
       "    </tr>\n",
       "    <tr>\n",
       "      <th>9504</th>\n",
       "      <td>DD4352CDCF8C3D57</td>\n",
       "      <td>2020-12-30 12:42:56</td>\n",
       "      <td>B</td>\n",
       "      <td>login</td>\n",
       "      <td>NaN</td>\n",
       "      <td>NaN</td>\n",
       "      <td>NaN</td>\n",
       "    </tr>\n",
       "    <tr>\n",
       "      <th>9505</th>\n",
       "      <td>75845C83258FBF73</td>\n",
       "      <td>2020-12-30 06:42:52</td>\n",
       "      <td>B</td>\n",
       "      <td>login</td>\n",
       "      <td>NaN</td>\n",
       "      <td>NaN</td>\n",
       "      <td>NaN</td>\n",
       "    </tr>\n",
       "  </tbody>\n",
       "</table>\n",
       "<p>9506 rows × 7 columns</p>\n",
       "</div>"
      ],
      "text/plain": [
       "               user_id             event_dt group upd_events_login  \\\n",
       "0     D72A72121175D8BE  2020-12-07 21:52:07     A            login   \n",
       "1     DD4352CDCF8C3D57  2020-12-07 15:32:53     B            login   \n",
       "2     831887FE7F2D6CBA  2020-12-07 06:50:29     A            login   \n",
       "3     4CB179C7F847320B  2020-12-07 01:37:05     B            login   \n",
       "4     29C92313A98B1176  2020-12-07 06:18:24     B            login   \n",
       "...                ...                  ...   ...              ...   \n",
       "9501  D21F0D4FDCD82DB2  2020-12-29 02:17:00     A            login   \n",
       "9502  96BDD55846D1F7F6  2020-12-29 16:53:42     A            login   \n",
       "9503  553BAE96C6EB6240  2020-12-29 14:09:14     A            login   \n",
       "9504  DD4352CDCF8C3D57  2020-12-30 12:42:56     B            login   \n",
       "9505  75845C83258FBF73  2020-12-30 06:42:52     B            login   \n",
       "\n",
       "     upd_events_product_page upd_events_product_cart upd_events_purchase  \n",
       "0                        NaN                     NaN                 NaN  \n",
       "1                        NaN                     NaN                 NaN  \n",
       "2                        NaN                     NaN                 NaN  \n",
       "3                        NaN                     NaN                 NaN  \n",
       "4                        NaN                     NaN                 NaN  \n",
       "...                      ...                     ...                 ...  \n",
       "9501                     NaN                     NaN                 NaN  \n",
       "9502            product_page                     NaN                 NaN  \n",
       "9503                     NaN                     NaN                 NaN  \n",
       "9504                     NaN                     NaN                 NaN  \n",
       "9505                     NaN                     NaN                 NaN  \n",
       "\n",
       "[9506 rows x 7 columns]"
      ]
     },
     "execution_count": 658,
     "metadata": {},
     "output_type": "execute_result"
    }
   ],
   "source": [
    "closed_funnel_approach = login_tothe_page.merge(tothe_page_cart, on=['user_id', 'event_dt'], how='left')\\\n",
    "                .merge(cart_tothe_purchase, on=['user_id', 'event_dt'], how='left')\n",
    "\n",
    "closed_funnel_approach.drop(['group_x', 'group_y_x', 'group_x_y', 'group_y_y', 'group_y', 'upd_events_product_page_y', \n",
    "                    'upd_events_product_cart_y'], axis=1, inplace=True)\n",
    "\n",
    "closed_funnel_approach = closed_funnel_approach.rename(columns={'upd_events_product_page_x': 'upd_events_product_page',\n",
    "                                              'upd_events_product_cart_x': 'upd_events_product_cart', \n",
    "                                              'group_x_x': 'group'})\n",
    "\n",
    "closed_funnel_approach = closed_funnel_approach[['user_id', 'event_dt', 'group', 'upd_events_login',  'upd_events_product_page',\n",
    "       'upd_events_product_cart', 'upd_events_purchase']]\n",
    "closed_funnel_approach"
   ]
  },
  {
   "cell_type": "markdown",
   "metadata": {},
   "source": [
    "    Temporary Findings:\n",
    "    - We have already merged each table to new table."
   ]
  },
  {
   "cell_type": "markdown",
   "metadata": {},
   "source": [
    "[Back to Contents](#tableofcontents)"
   ]
  },
  {
   "cell_type": "markdown",
   "metadata": {},
   "source": [
    "# Total Events of Funnel"
   ]
  },
  {
   "cell_type": "markdown",
   "metadata": {},
   "source": [
    "    First, we will calculate how many events in the data, as follows:"
   ]
  },
  {
   "cell_type": "code",
   "execution_count": 659,
   "metadata": {},
   "outputs": [
    {
     "data": {
      "text/html": [
       "<div>\n",
       "<style scoped>\n",
       "    .dataframe tbody tr th:only-of-type {\n",
       "        vertical-align: middle;\n",
       "    }\n",
       "\n",
       "    .dataframe tbody tr th {\n",
       "        vertical-align: top;\n",
       "    }\n",
       "\n",
       "    .dataframe thead th {\n",
       "        text-align: right;\n",
       "    }\n",
       "</style>\n",
       "<table border=\"1\" class=\"dataframe\">\n",
       "  <thead>\n",
       "    <tr style=\"text-align: right;\">\n",
       "      <th></th>\n",
       "      <th>user_id</th>\n",
       "      <th>upd_events_login</th>\n",
       "      <th>upd_events_product_page</th>\n",
       "      <th>upd_events_product_cart</th>\n",
       "      <th>upd_events_purchase</th>\n",
       "    </tr>\n",
       "  </thead>\n",
       "  <tbody>\n",
       "    <tr>\n",
       "      <th>0</th>\n",
       "      <td>001064FEAAB631A1</td>\n",
       "      <td>3</td>\n",
       "      <td>0</td>\n",
       "      <td>0</td>\n",
       "      <td>0</td>\n",
       "    </tr>\n",
       "    <tr>\n",
       "      <th>1</th>\n",
       "      <td>0010A1C096941592</td>\n",
       "      <td>4</td>\n",
       "      <td>1</td>\n",
       "      <td>0</td>\n",
       "      <td>0</td>\n",
       "    </tr>\n",
       "    <tr>\n",
       "      <th>2</th>\n",
       "      <td>003DF44D7589BBD4</td>\n",
       "      <td>5</td>\n",
       "      <td>4</td>\n",
       "      <td>1</td>\n",
       "      <td>0</td>\n",
       "    </tr>\n",
       "    <tr>\n",
       "      <th>3</th>\n",
       "      <td>00505E15A9D81546</td>\n",
       "      <td>5</td>\n",
       "      <td>0</td>\n",
       "      <td>0</td>\n",
       "      <td>0</td>\n",
       "    </tr>\n",
       "    <tr>\n",
       "      <th>4</th>\n",
       "      <td>006E3E4E232CE760</td>\n",
       "      <td>3</td>\n",
       "      <td>1</td>\n",
       "      <td>0</td>\n",
       "      <td>0</td>\n",
       "    </tr>\n",
       "    <tr>\n",
       "      <th>...</th>\n",
       "      <td>...</td>\n",
       "      <td>...</td>\n",
       "      <td>...</td>\n",
       "      <td>...</td>\n",
       "      <td>...</td>\n",
       "    </tr>\n",
       "    <tr>\n",
       "      <th>3160</th>\n",
       "      <td>FF4456FBA59116E3</td>\n",
       "      <td>4</td>\n",
       "      <td>1</td>\n",
       "      <td>0</td>\n",
       "      <td>0</td>\n",
       "    </tr>\n",
       "    <tr>\n",
       "      <th>3161</th>\n",
       "      <td>FF825C1D791989B5</td>\n",
       "      <td>4</td>\n",
       "      <td>0</td>\n",
       "      <td>0</td>\n",
       "      <td>0</td>\n",
       "    </tr>\n",
       "    <tr>\n",
       "      <th>3162</th>\n",
       "      <td>FFAE9489C76F352B</td>\n",
       "      <td>3</td>\n",
       "      <td>0</td>\n",
       "      <td>0</td>\n",
       "      <td>0</td>\n",
       "    </tr>\n",
       "    <tr>\n",
       "      <th>3163</th>\n",
       "      <td>FFF28D02B1EACBE1</td>\n",
       "      <td>3</td>\n",
       "      <td>0</td>\n",
       "      <td>0</td>\n",
       "      <td>0</td>\n",
       "    </tr>\n",
       "    <tr>\n",
       "      <th>total</th>\n",
       "      <td>001064FEAAB631A10010A1C096941592003DF44D7589BB...</td>\n",
       "      <td>9506</td>\n",
       "      <td>2524</td>\n",
       "      <td>429</td>\n",
       "      <td>379</td>\n",
       "    </tr>\n",
       "  </tbody>\n",
       "</table>\n",
       "<p>3165 rows × 5 columns</p>\n",
       "</div>"
      ],
      "text/plain": [
       "                                                 user_id  upd_events_login  \\\n",
       "0                                       001064FEAAB631A1                 3   \n",
       "1                                       0010A1C096941592                 4   \n",
       "2                                       003DF44D7589BBD4                 5   \n",
       "3                                       00505E15A9D81546                 5   \n",
       "4                                       006E3E4E232CE760                 3   \n",
       "...                                                  ...               ...   \n",
       "3160                                    FF4456FBA59116E3                 4   \n",
       "3161                                    FF825C1D791989B5                 4   \n",
       "3162                                    FFAE9489C76F352B                 3   \n",
       "3163                                    FFF28D02B1EACBE1                 3   \n",
       "total  001064FEAAB631A10010A1C096941592003DF44D7589BB...              9506   \n",
       "\n",
       "       upd_events_product_page  upd_events_product_cart  upd_events_purchase  \n",
       "0                            0                        0                    0  \n",
       "1                            1                        0                    0  \n",
       "2                            4                        1                    0  \n",
       "3                            0                        0                    0  \n",
       "4                            1                        0                    0  \n",
       "...                        ...                      ...                  ...  \n",
       "3160                         1                        0                    0  \n",
       "3161                         0                        0                    0  \n",
       "3162                         0                        0                    0  \n",
       "3163                         0                        0                    0  \n",
       "total                     2524                      429                  379  \n",
       "\n",
       "[3165 rows x 5 columns]"
      ]
     },
     "execution_count": 659,
     "metadata": {},
     "output_type": "execute_result"
    }
   ],
   "source": [
    "closed_funnel_computingall = closed_funnel_approach.pivot_table(index='user_id',\n",
    "                                                   values=['upd_events_login', 'upd_events_product_page', 'upd_events_product_cart',\n",
    "                                                           'upd_events_purchase'], \n",
    "                                                   aggfunc='count').reset_index()\n",
    "\n",
    "closed_funnel_computingall = closed_funnel_computingall[['user_id', 'upd_events_login', 'upd_events_product_page', 'upd_events_product_cart',\n",
    "                                                 'upd_events_purchase']]\n",
    "\n",
    "closed_funnel_computingall.loc['total'] = closed_funnel_computingall.sum()\n",
    "closed_funnel_computingall"
   ]
  },
  {
   "cell_type": "markdown",
   "metadata": {},
   "source": [
    "    We will calculate how many events in the data after executing, as follows:"
   ]
  },
  {
   "cell_type": "code",
   "execution_count": 660,
   "metadata": {},
   "outputs": [
    {
     "data": {
      "text/html": [
       "<div>\n",
       "<style scoped>\n",
       "    .dataframe tbody tr th:only-of-type {\n",
       "        vertical-align: middle;\n",
       "    }\n",
       "\n",
       "    .dataframe tbody tr th {\n",
       "        vertical-align: top;\n",
       "    }\n",
       "\n",
       "    .dataframe thead th {\n",
       "        text-align: right;\n",
       "    }\n",
       "</style>\n",
       "<table border=\"1\" class=\"dataframe\">\n",
       "  <thead>\n",
       "    <tr style=\"text-align: right;\">\n",
       "      <th></th>\n",
       "      <th>event_name</th>\n",
       "      <th>total</th>\n",
       "    </tr>\n",
       "  </thead>\n",
       "  <tbody>\n",
       "    <tr>\n",
       "      <th>0</th>\n",
       "      <td>upd_events_login</td>\n",
       "      <td>9506</td>\n",
       "    </tr>\n",
       "    <tr>\n",
       "      <th>1</th>\n",
       "      <td>upd_events_product_page</td>\n",
       "      <td>2524</td>\n",
       "    </tr>\n",
       "    <tr>\n",
       "      <th>2</th>\n",
       "      <td>upd_events_product_cart</td>\n",
       "      <td>429</td>\n",
       "    </tr>\n",
       "    <tr>\n",
       "      <th>3</th>\n",
       "      <td>upd_events_purchase</td>\n",
       "      <td>379</td>\n",
       "    </tr>\n",
       "  </tbody>\n",
       "</table>\n",
       "</div>"
      ],
      "text/plain": [
       "                event_name total\n",
       "0         upd_events_login  9506\n",
       "1  upd_events_product_page  2524\n",
       "2  upd_events_product_cart   429\n",
       "3      upd_events_purchase   379"
      ]
     },
     "execution_count": 660,
     "metadata": {},
     "output_type": "execute_result"
    }
   ],
   "source": [
    "mixall_events_agg = closed_funnel_computingall.loc['total']\n",
    "mixall_events_agg = mixall_events_agg.to_frame()\n",
    "mixall_events_agg.reset_index(inplace=True) \n",
    "mixall_events_agg = mixall_events_agg.rename(columns={'index': 'event_name'})\n",
    "mixall_events_agg = mixall_events_agg.drop([0]).reset_index(drop=True)\n",
    "mixall_events_agg"
   ]
  },
  {
   "cell_type": "markdown",
   "metadata": {},
   "source": [
    "    Now, we will make the visualization, as follows:"
   ]
  },
  {
   "cell_type": "code",
   "execution_count": 661,
   "metadata": {},
   "outputs": [
    {
     "data": {
      "application/vnd.plotly.v1+json": {
       "config": {
        "plotlyServerURL": "https://plot.ly"
       },
       "data": [
        {
         "type": "funnel",
         "x": [
          9506,
          2524,
          429,
          379
         ],
         "y": [
          "upd_events_login",
          "upd_events_product_page",
          "upd_events_product_cart",
          "upd_events_purchase"
         ]
        }
       ],
       "layout": {
        "template": {
         "data": {
          "bar": [
           {
            "error_x": {
             "color": "#2a3f5f"
            },
            "error_y": {
             "color": "#2a3f5f"
            },
            "marker": {
             "line": {
              "color": "#E5ECF6",
              "width": 0.5
             },
             "pattern": {
              "fillmode": "overlay",
              "size": 10,
              "solidity": 0.2
             }
            },
            "type": "bar"
           }
          ],
          "barpolar": [
           {
            "marker": {
             "line": {
              "color": "#E5ECF6",
              "width": 0.5
             },
             "pattern": {
              "fillmode": "overlay",
              "size": 10,
              "solidity": 0.2
             }
            },
            "type": "barpolar"
           }
          ],
          "carpet": [
           {
            "aaxis": {
             "endlinecolor": "#2a3f5f",
             "gridcolor": "white",
             "linecolor": "white",
             "minorgridcolor": "white",
             "startlinecolor": "#2a3f5f"
            },
            "baxis": {
             "endlinecolor": "#2a3f5f",
             "gridcolor": "white",
             "linecolor": "white",
             "minorgridcolor": "white",
             "startlinecolor": "#2a3f5f"
            },
            "type": "carpet"
           }
          ],
          "choropleth": [
           {
            "colorbar": {
             "outlinewidth": 0,
             "ticks": ""
            },
            "type": "choropleth"
           }
          ],
          "contour": [
           {
            "colorbar": {
             "outlinewidth": 0,
             "ticks": ""
            },
            "colorscale": [
             [
              0,
              "#0d0887"
             ],
             [
              0.1111111111111111,
              "#46039f"
             ],
             [
              0.2222222222222222,
              "#7201a8"
             ],
             [
              0.3333333333333333,
              "#9c179e"
             ],
             [
              0.4444444444444444,
              "#bd3786"
             ],
             [
              0.5555555555555556,
              "#d8576b"
             ],
             [
              0.6666666666666666,
              "#ed7953"
             ],
             [
              0.7777777777777778,
              "#fb9f3a"
             ],
             [
              0.8888888888888888,
              "#fdca26"
             ],
             [
              1,
              "#f0f921"
             ]
            ],
            "type": "contour"
           }
          ],
          "contourcarpet": [
           {
            "colorbar": {
             "outlinewidth": 0,
             "ticks": ""
            },
            "type": "contourcarpet"
           }
          ],
          "heatmap": [
           {
            "colorbar": {
             "outlinewidth": 0,
             "ticks": ""
            },
            "colorscale": [
             [
              0,
              "#0d0887"
             ],
             [
              0.1111111111111111,
              "#46039f"
             ],
             [
              0.2222222222222222,
              "#7201a8"
             ],
             [
              0.3333333333333333,
              "#9c179e"
             ],
             [
              0.4444444444444444,
              "#bd3786"
             ],
             [
              0.5555555555555556,
              "#d8576b"
             ],
             [
              0.6666666666666666,
              "#ed7953"
             ],
             [
              0.7777777777777778,
              "#fb9f3a"
             ],
             [
              0.8888888888888888,
              "#fdca26"
             ],
             [
              1,
              "#f0f921"
             ]
            ],
            "type": "heatmap"
           }
          ],
          "heatmapgl": [
           {
            "colorbar": {
             "outlinewidth": 0,
             "ticks": ""
            },
            "colorscale": [
             [
              0,
              "#0d0887"
             ],
             [
              0.1111111111111111,
              "#46039f"
             ],
             [
              0.2222222222222222,
              "#7201a8"
             ],
             [
              0.3333333333333333,
              "#9c179e"
             ],
             [
              0.4444444444444444,
              "#bd3786"
             ],
             [
              0.5555555555555556,
              "#d8576b"
             ],
             [
              0.6666666666666666,
              "#ed7953"
             ],
             [
              0.7777777777777778,
              "#fb9f3a"
             ],
             [
              0.8888888888888888,
              "#fdca26"
             ],
             [
              1,
              "#f0f921"
             ]
            ],
            "type": "heatmapgl"
           }
          ],
          "histogram": [
           {
            "marker": {
             "pattern": {
              "fillmode": "overlay",
              "size": 10,
              "solidity": 0.2
             }
            },
            "type": "histogram"
           }
          ],
          "histogram2d": [
           {
            "colorbar": {
             "outlinewidth": 0,
             "ticks": ""
            },
            "colorscale": [
             [
              0,
              "#0d0887"
             ],
             [
              0.1111111111111111,
              "#46039f"
             ],
             [
              0.2222222222222222,
              "#7201a8"
             ],
             [
              0.3333333333333333,
              "#9c179e"
             ],
             [
              0.4444444444444444,
              "#bd3786"
             ],
             [
              0.5555555555555556,
              "#d8576b"
             ],
             [
              0.6666666666666666,
              "#ed7953"
             ],
             [
              0.7777777777777778,
              "#fb9f3a"
             ],
             [
              0.8888888888888888,
              "#fdca26"
             ],
             [
              1,
              "#f0f921"
             ]
            ],
            "type": "histogram2d"
           }
          ],
          "histogram2dcontour": [
           {
            "colorbar": {
             "outlinewidth": 0,
             "ticks": ""
            },
            "colorscale": [
             [
              0,
              "#0d0887"
             ],
             [
              0.1111111111111111,
              "#46039f"
             ],
             [
              0.2222222222222222,
              "#7201a8"
             ],
             [
              0.3333333333333333,
              "#9c179e"
             ],
             [
              0.4444444444444444,
              "#bd3786"
             ],
             [
              0.5555555555555556,
              "#d8576b"
             ],
             [
              0.6666666666666666,
              "#ed7953"
             ],
             [
              0.7777777777777778,
              "#fb9f3a"
             ],
             [
              0.8888888888888888,
              "#fdca26"
             ],
             [
              1,
              "#f0f921"
             ]
            ],
            "type": "histogram2dcontour"
           }
          ],
          "mesh3d": [
           {
            "colorbar": {
             "outlinewidth": 0,
             "ticks": ""
            },
            "type": "mesh3d"
           }
          ],
          "parcoords": [
           {
            "line": {
             "colorbar": {
              "outlinewidth": 0,
              "ticks": ""
             }
            },
            "type": "parcoords"
           }
          ],
          "pie": [
           {
            "automargin": true,
            "type": "pie"
           }
          ],
          "scatter": [
           {
            "marker": {
             "colorbar": {
              "outlinewidth": 0,
              "ticks": ""
             }
            },
            "type": "scatter"
           }
          ],
          "scatter3d": [
           {
            "line": {
             "colorbar": {
              "outlinewidth": 0,
              "ticks": ""
             }
            },
            "marker": {
             "colorbar": {
              "outlinewidth": 0,
              "ticks": ""
             }
            },
            "type": "scatter3d"
           }
          ],
          "scattercarpet": [
           {
            "marker": {
             "colorbar": {
              "outlinewidth": 0,
              "ticks": ""
             }
            },
            "type": "scattercarpet"
           }
          ],
          "scattergeo": [
           {
            "marker": {
             "colorbar": {
              "outlinewidth": 0,
              "ticks": ""
             }
            },
            "type": "scattergeo"
           }
          ],
          "scattergl": [
           {
            "marker": {
             "colorbar": {
              "outlinewidth": 0,
              "ticks": ""
             }
            },
            "type": "scattergl"
           }
          ],
          "scattermapbox": [
           {
            "marker": {
             "colorbar": {
              "outlinewidth": 0,
              "ticks": ""
             }
            },
            "type": "scattermapbox"
           }
          ],
          "scatterpolar": [
           {
            "marker": {
             "colorbar": {
              "outlinewidth": 0,
              "ticks": ""
             }
            },
            "type": "scatterpolar"
           }
          ],
          "scatterpolargl": [
           {
            "marker": {
             "colorbar": {
              "outlinewidth": 0,
              "ticks": ""
             }
            },
            "type": "scatterpolargl"
           }
          ],
          "scatterternary": [
           {
            "marker": {
             "colorbar": {
              "outlinewidth": 0,
              "ticks": ""
             }
            },
            "type": "scatterternary"
           }
          ],
          "surface": [
           {
            "colorbar": {
             "outlinewidth": 0,
             "ticks": ""
            },
            "colorscale": [
             [
              0,
              "#0d0887"
             ],
             [
              0.1111111111111111,
              "#46039f"
             ],
             [
              0.2222222222222222,
              "#7201a8"
             ],
             [
              0.3333333333333333,
              "#9c179e"
             ],
             [
              0.4444444444444444,
              "#bd3786"
             ],
             [
              0.5555555555555556,
              "#d8576b"
             ],
             [
              0.6666666666666666,
              "#ed7953"
             ],
             [
              0.7777777777777778,
              "#fb9f3a"
             ],
             [
              0.8888888888888888,
              "#fdca26"
             ],
             [
              1,
              "#f0f921"
             ]
            ],
            "type": "surface"
           }
          ],
          "table": [
           {
            "cells": {
             "fill": {
              "color": "#EBF0F8"
             },
             "line": {
              "color": "white"
             }
            },
            "header": {
             "fill": {
              "color": "#C8D4E3"
             },
             "line": {
              "color": "white"
             }
            },
            "type": "table"
           }
          ]
         },
         "layout": {
          "annotationdefaults": {
           "arrowcolor": "#2a3f5f",
           "arrowhead": 0,
           "arrowwidth": 1
          },
          "autotypenumbers": "strict",
          "coloraxis": {
           "colorbar": {
            "outlinewidth": 0,
            "ticks": ""
           }
          },
          "colorscale": {
           "diverging": [
            [
             0,
             "#8e0152"
            ],
            [
             0.1,
             "#c51b7d"
            ],
            [
             0.2,
             "#de77ae"
            ],
            [
             0.3,
             "#f1b6da"
            ],
            [
             0.4,
             "#fde0ef"
            ],
            [
             0.5,
             "#f7f7f7"
            ],
            [
             0.6,
             "#e6f5d0"
            ],
            [
             0.7,
             "#b8e186"
            ],
            [
             0.8,
             "#7fbc41"
            ],
            [
             0.9,
             "#4d9221"
            ],
            [
             1,
             "#276419"
            ]
           ],
           "sequential": [
            [
             0,
             "#0d0887"
            ],
            [
             0.1111111111111111,
             "#46039f"
            ],
            [
             0.2222222222222222,
             "#7201a8"
            ],
            [
             0.3333333333333333,
             "#9c179e"
            ],
            [
             0.4444444444444444,
             "#bd3786"
            ],
            [
             0.5555555555555556,
             "#d8576b"
            ],
            [
             0.6666666666666666,
             "#ed7953"
            ],
            [
             0.7777777777777778,
             "#fb9f3a"
            ],
            [
             0.8888888888888888,
             "#fdca26"
            ],
            [
             1,
             "#f0f921"
            ]
           ],
           "sequentialminus": [
            [
             0,
             "#0d0887"
            ],
            [
             0.1111111111111111,
             "#46039f"
            ],
            [
             0.2222222222222222,
             "#7201a8"
            ],
            [
             0.3333333333333333,
             "#9c179e"
            ],
            [
             0.4444444444444444,
             "#bd3786"
            ],
            [
             0.5555555555555556,
             "#d8576b"
            ],
            [
             0.6666666666666666,
             "#ed7953"
            ],
            [
             0.7777777777777778,
             "#fb9f3a"
            ],
            [
             0.8888888888888888,
             "#fdca26"
            ],
            [
             1,
             "#f0f921"
            ]
           ]
          },
          "colorway": [
           "#636efa",
           "#EF553B",
           "#00cc96",
           "#ab63fa",
           "#FFA15A",
           "#19d3f3",
           "#FF6692",
           "#B6E880",
           "#FF97FF",
           "#FECB52"
          ],
          "font": {
           "color": "#2a3f5f"
          },
          "geo": {
           "bgcolor": "white",
           "lakecolor": "white",
           "landcolor": "#E5ECF6",
           "showlakes": true,
           "showland": true,
           "subunitcolor": "white"
          },
          "hoverlabel": {
           "align": "left"
          },
          "hovermode": "closest",
          "mapbox": {
           "style": "light"
          },
          "paper_bgcolor": "white",
          "plot_bgcolor": "#E5ECF6",
          "polar": {
           "angularaxis": {
            "gridcolor": "white",
            "linecolor": "white",
            "ticks": ""
           },
           "bgcolor": "#E5ECF6",
           "radialaxis": {
            "gridcolor": "white",
            "linecolor": "white",
            "ticks": ""
           }
          },
          "scene": {
           "xaxis": {
            "backgroundcolor": "#E5ECF6",
            "gridcolor": "white",
            "gridwidth": 2,
            "linecolor": "white",
            "showbackground": true,
            "ticks": "",
            "zerolinecolor": "white"
           },
           "yaxis": {
            "backgroundcolor": "#E5ECF6",
            "gridcolor": "white",
            "gridwidth": 2,
            "linecolor": "white",
            "showbackground": true,
            "ticks": "",
            "zerolinecolor": "white"
           },
           "zaxis": {
            "backgroundcolor": "#E5ECF6",
            "gridcolor": "white",
            "gridwidth": 2,
            "linecolor": "white",
            "showbackground": true,
            "ticks": "",
            "zerolinecolor": "white"
           }
          },
          "shapedefaults": {
           "line": {
            "color": "#2a3f5f"
           }
          },
          "ternary": {
           "aaxis": {
            "gridcolor": "white",
            "linecolor": "white",
            "ticks": ""
           },
           "baxis": {
            "gridcolor": "white",
            "linecolor": "white",
            "ticks": ""
           },
           "bgcolor": "#E5ECF6",
           "caxis": {
            "gridcolor": "white",
            "linecolor": "white",
            "ticks": ""
           }
          },
          "title": {
           "x": 0.05
          },
          "xaxis": {
           "automargin": true,
           "gridcolor": "white",
           "linecolor": "white",
           "ticks": "",
           "title": {
            "standoff": 15
           },
           "zerolinecolor": "white",
           "zerolinewidth": 2
          },
          "yaxis": {
           "automargin": true,
           "gridcolor": "white",
           "linecolor": "white",
           "ticks": "",
           "title": {
            "standoff": 15
           },
           "zerolinecolor": "white",
           "zerolinewidth": 2
          }
         }
        }
       }
      },
      "text/html": [
       "<div>                            <div id=\"2c7b087f-c826-4c66-98e4-4ee9b4424dee\" class=\"plotly-graph-div\" style=\"height:525px; width:100%;\"></div>            <script type=\"text/javascript\">                require([\"plotly\"], function(Plotly) {                    window.PLOTLYENV=window.PLOTLYENV || {};                                    if (document.getElementById(\"2c7b087f-c826-4c66-98e4-4ee9b4424dee\")) {                    Plotly.newPlot(                        \"2c7b087f-c826-4c66-98e4-4ee9b4424dee\",                        [{\"x\":[9506,2524,429,379],\"y\":[\"upd_events_login\",\"upd_events_product_page\",\"upd_events_product_cart\",\"upd_events_purchase\"],\"type\":\"funnel\"}],                        {\"template\":{\"data\":{\"bar\":[{\"error_x\":{\"color\":\"#2a3f5f\"},\"error_y\":{\"color\":\"#2a3f5f\"},\"marker\":{\"line\":{\"color\":\"#E5ECF6\",\"width\":0.5},\"pattern\":{\"fillmode\":\"overlay\",\"size\":10,\"solidity\":0.2}},\"type\":\"bar\"}],\"barpolar\":[{\"marker\":{\"line\":{\"color\":\"#E5ECF6\",\"width\":0.5},\"pattern\":{\"fillmode\":\"overlay\",\"size\":10,\"solidity\":0.2}},\"type\":\"barpolar\"}],\"carpet\":[{\"aaxis\":{\"endlinecolor\":\"#2a3f5f\",\"gridcolor\":\"white\",\"linecolor\":\"white\",\"minorgridcolor\":\"white\",\"startlinecolor\":\"#2a3f5f\"},\"baxis\":{\"endlinecolor\":\"#2a3f5f\",\"gridcolor\":\"white\",\"linecolor\":\"white\",\"minorgridcolor\":\"white\",\"startlinecolor\":\"#2a3f5f\"},\"type\":\"carpet\"}],\"choropleth\":[{\"colorbar\":{\"outlinewidth\":0,\"ticks\":\"\"},\"type\":\"choropleth\"}],\"contour\":[{\"colorbar\":{\"outlinewidth\":0,\"ticks\":\"\"},\"colorscale\":[[0.0,\"#0d0887\"],[0.1111111111111111,\"#46039f\"],[0.2222222222222222,\"#7201a8\"],[0.3333333333333333,\"#9c179e\"],[0.4444444444444444,\"#bd3786\"],[0.5555555555555556,\"#d8576b\"],[0.6666666666666666,\"#ed7953\"],[0.7777777777777778,\"#fb9f3a\"],[0.8888888888888888,\"#fdca26\"],[1.0,\"#f0f921\"]],\"type\":\"contour\"}],\"contourcarpet\":[{\"colorbar\":{\"outlinewidth\":0,\"ticks\":\"\"},\"type\":\"contourcarpet\"}],\"heatmap\":[{\"colorbar\":{\"outlinewidth\":0,\"ticks\":\"\"},\"colorscale\":[[0.0,\"#0d0887\"],[0.1111111111111111,\"#46039f\"],[0.2222222222222222,\"#7201a8\"],[0.3333333333333333,\"#9c179e\"],[0.4444444444444444,\"#bd3786\"],[0.5555555555555556,\"#d8576b\"],[0.6666666666666666,\"#ed7953\"],[0.7777777777777778,\"#fb9f3a\"],[0.8888888888888888,\"#fdca26\"],[1.0,\"#f0f921\"]],\"type\":\"heatmap\"}],\"heatmapgl\":[{\"colorbar\":{\"outlinewidth\":0,\"ticks\":\"\"},\"colorscale\":[[0.0,\"#0d0887\"],[0.1111111111111111,\"#46039f\"],[0.2222222222222222,\"#7201a8\"],[0.3333333333333333,\"#9c179e\"],[0.4444444444444444,\"#bd3786\"],[0.5555555555555556,\"#d8576b\"],[0.6666666666666666,\"#ed7953\"],[0.7777777777777778,\"#fb9f3a\"],[0.8888888888888888,\"#fdca26\"],[1.0,\"#f0f921\"]],\"type\":\"heatmapgl\"}],\"histogram\":[{\"marker\":{\"pattern\":{\"fillmode\":\"overlay\",\"size\":10,\"solidity\":0.2}},\"type\":\"histogram\"}],\"histogram2d\":[{\"colorbar\":{\"outlinewidth\":0,\"ticks\":\"\"},\"colorscale\":[[0.0,\"#0d0887\"],[0.1111111111111111,\"#46039f\"],[0.2222222222222222,\"#7201a8\"],[0.3333333333333333,\"#9c179e\"],[0.4444444444444444,\"#bd3786\"],[0.5555555555555556,\"#d8576b\"],[0.6666666666666666,\"#ed7953\"],[0.7777777777777778,\"#fb9f3a\"],[0.8888888888888888,\"#fdca26\"],[1.0,\"#f0f921\"]],\"type\":\"histogram2d\"}],\"histogram2dcontour\":[{\"colorbar\":{\"outlinewidth\":0,\"ticks\":\"\"},\"colorscale\":[[0.0,\"#0d0887\"],[0.1111111111111111,\"#46039f\"],[0.2222222222222222,\"#7201a8\"],[0.3333333333333333,\"#9c179e\"],[0.4444444444444444,\"#bd3786\"],[0.5555555555555556,\"#d8576b\"],[0.6666666666666666,\"#ed7953\"],[0.7777777777777778,\"#fb9f3a\"],[0.8888888888888888,\"#fdca26\"],[1.0,\"#f0f921\"]],\"type\":\"histogram2dcontour\"}],\"mesh3d\":[{\"colorbar\":{\"outlinewidth\":0,\"ticks\":\"\"},\"type\":\"mesh3d\"}],\"parcoords\":[{\"line\":{\"colorbar\":{\"outlinewidth\":0,\"ticks\":\"\"}},\"type\":\"parcoords\"}],\"pie\":[{\"automargin\":true,\"type\":\"pie\"}],\"scatter\":[{\"marker\":{\"colorbar\":{\"outlinewidth\":0,\"ticks\":\"\"}},\"type\":\"scatter\"}],\"scatter3d\":[{\"line\":{\"colorbar\":{\"outlinewidth\":0,\"ticks\":\"\"}},\"marker\":{\"colorbar\":{\"outlinewidth\":0,\"ticks\":\"\"}},\"type\":\"scatter3d\"}],\"scattercarpet\":[{\"marker\":{\"colorbar\":{\"outlinewidth\":0,\"ticks\":\"\"}},\"type\":\"scattercarpet\"}],\"scattergeo\":[{\"marker\":{\"colorbar\":{\"outlinewidth\":0,\"ticks\":\"\"}},\"type\":\"scattergeo\"}],\"scattergl\":[{\"marker\":{\"colorbar\":{\"outlinewidth\":0,\"ticks\":\"\"}},\"type\":\"scattergl\"}],\"scattermapbox\":[{\"marker\":{\"colorbar\":{\"outlinewidth\":0,\"ticks\":\"\"}},\"type\":\"scattermapbox\"}],\"scatterpolar\":[{\"marker\":{\"colorbar\":{\"outlinewidth\":0,\"ticks\":\"\"}},\"type\":\"scatterpolar\"}],\"scatterpolargl\":[{\"marker\":{\"colorbar\":{\"outlinewidth\":0,\"ticks\":\"\"}},\"type\":\"scatterpolargl\"}],\"scatterternary\":[{\"marker\":{\"colorbar\":{\"outlinewidth\":0,\"ticks\":\"\"}},\"type\":\"scatterternary\"}],\"surface\":[{\"colorbar\":{\"outlinewidth\":0,\"ticks\":\"\"},\"colorscale\":[[0.0,\"#0d0887\"],[0.1111111111111111,\"#46039f\"],[0.2222222222222222,\"#7201a8\"],[0.3333333333333333,\"#9c179e\"],[0.4444444444444444,\"#bd3786\"],[0.5555555555555556,\"#d8576b\"],[0.6666666666666666,\"#ed7953\"],[0.7777777777777778,\"#fb9f3a\"],[0.8888888888888888,\"#fdca26\"],[1.0,\"#f0f921\"]],\"type\":\"surface\"}],\"table\":[{\"cells\":{\"fill\":{\"color\":\"#EBF0F8\"},\"line\":{\"color\":\"white\"}},\"header\":{\"fill\":{\"color\":\"#C8D4E3\"},\"line\":{\"color\":\"white\"}},\"type\":\"table\"}]},\"layout\":{\"annotationdefaults\":{\"arrowcolor\":\"#2a3f5f\",\"arrowhead\":0,\"arrowwidth\":1},\"autotypenumbers\":\"strict\",\"coloraxis\":{\"colorbar\":{\"outlinewidth\":0,\"ticks\":\"\"}},\"colorscale\":{\"diverging\":[[0,\"#8e0152\"],[0.1,\"#c51b7d\"],[0.2,\"#de77ae\"],[0.3,\"#f1b6da\"],[0.4,\"#fde0ef\"],[0.5,\"#f7f7f7\"],[0.6,\"#e6f5d0\"],[0.7,\"#b8e186\"],[0.8,\"#7fbc41\"],[0.9,\"#4d9221\"],[1,\"#276419\"]],\"sequential\":[[0.0,\"#0d0887\"],[0.1111111111111111,\"#46039f\"],[0.2222222222222222,\"#7201a8\"],[0.3333333333333333,\"#9c179e\"],[0.4444444444444444,\"#bd3786\"],[0.5555555555555556,\"#d8576b\"],[0.6666666666666666,\"#ed7953\"],[0.7777777777777778,\"#fb9f3a\"],[0.8888888888888888,\"#fdca26\"],[1.0,\"#f0f921\"]],\"sequentialminus\":[[0.0,\"#0d0887\"],[0.1111111111111111,\"#46039f\"],[0.2222222222222222,\"#7201a8\"],[0.3333333333333333,\"#9c179e\"],[0.4444444444444444,\"#bd3786\"],[0.5555555555555556,\"#d8576b\"],[0.6666666666666666,\"#ed7953\"],[0.7777777777777778,\"#fb9f3a\"],[0.8888888888888888,\"#fdca26\"],[1.0,\"#f0f921\"]]},\"colorway\":[\"#636efa\",\"#EF553B\",\"#00cc96\",\"#ab63fa\",\"#FFA15A\",\"#19d3f3\",\"#FF6692\",\"#B6E880\",\"#FF97FF\",\"#FECB52\"],\"font\":{\"color\":\"#2a3f5f\"},\"geo\":{\"bgcolor\":\"white\",\"lakecolor\":\"white\",\"landcolor\":\"#E5ECF6\",\"showlakes\":true,\"showland\":true,\"subunitcolor\":\"white\"},\"hoverlabel\":{\"align\":\"left\"},\"hovermode\":\"closest\",\"mapbox\":{\"style\":\"light\"},\"paper_bgcolor\":\"white\",\"plot_bgcolor\":\"#E5ECF6\",\"polar\":{\"angularaxis\":{\"gridcolor\":\"white\",\"linecolor\":\"white\",\"ticks\":\"\"},\"bgcolor\":\"#E5ECF6\",\"radialaxis\":{\"gridcolor\":\"white\",\"linecolor\":\"white\",\"ticks\":\"\"}},\"scene\":{\"xaxis\":{\"backgroundcolor\":\"#E5ECF6\",\"gridcolor\":\"white\",\"gridwidth\":2,\"linecolor\":\"white\",\"showbackground\":true,\"ticks\":\"\",\"zerolinecolor\":\"white\"},\"yaxis\":{\"backgroundcolor\":\"#E5ECF6\",\"gridcolor\":\"white\",\"gridwidth\":2,\"linecolor\":\"white\",\"showbackground\":true,\"ticks\":\"\",\"zerolinecolor\":\"white\"},\"zaxis\":{\"backgroundcolor\":\"#E5ECF6\",\"gridcolor\":\"white\",\"gridwidth\":2,\"linecolor\":\"white\",\"showbackground\":true,\"ticks\":\"\",\"zerolinecolor\":\"white\"}},\"shapedefaults\":{\"line\":{\"color\":\"#2a3f5f\"}},\"ternary\":{\"aaxis\":{\"gridcolor\":\"white\",\"linecolor\":\"white\",\"ticks\":\"\"},\"baxis\":{\"gridcolor\":\"white\",\"linecolor\":\"white\",\"ticks\":\"\"},\"bgcolor\":\"#E5ECF6\",\"caxis\":{\"gridcolor\":\"white\",\"linecolor\":\"white\",\"ticks\":\"\"}},\"title\":{\"x\":0.05},\"xaxis\":{\"automargin\":true,\"gridcolor\":\"white\",\"linecolor\":\"white\",\"ticks\":\"\",\"title\":{\"standoff\":15},\"zerolinecolor\":\"white\",\"zerolinewidth\":2},\"yaxis\":{\"automargin\":true,\"gridcolor\":\"white\",\"linecolor\":\"white\",\"ticks\":\"\",\"title\":{\"standoff\":15},\"zerolinecolor\":\"white\",\"zerolinewidth\":2}}}},                        {\"responsive\": true}                    ).then(function(){\n",
       "                            \n",
       "var gd = document.getElementById('2c7b087f-c826-4c66-98e4-4ee9b4424dee');\n",
       "var x = new MutationObserver(function (mutations, observer) {{\n",
       "        var display = window.getComputedStyle(gd).display;\n",
       "        if (!display || display === 'none') {{\n",
       "            console.log([gd, 'removed!']);\n",
       "            Plotly.purge(gd);\n",
       "            observer.disconnect();\n",
       "        }}\n",
       "}});\n",
       "\n",
       "// Listen for the removal of the full notebook cells\n",
       "var notebookContainer = gd.closest('#notebook-container');\n",
       "if (notebookContainer) {{\n",
       "    x.observe(notebookContainer, {childList: true});\n",
       "}}\n",
       "\n",
       "// Listen for the clearing of the current output cell\n",
       "var outputEl = gd.closest('.output');\n",
       "if (outputEl) {{\n",
       "    x.observe(outputEl, {childList: true});\n",
       "}}\n",
       "\n",
       "                        })                };                });            </script>        </div>"
      ]
     },
     "metadata": {},
     "output_type": "display_data"
    }
   ],
   "source": [
    "mixall_events_agg_graph = mixall_events_agg.reset_index()\n",
    "fig = go.Figure(go.Funnel(\n",
    "    y = mixall_events_agg_graph['event_name'],\n",
    "    x = mixall_events_agg_graph['total']\n",
    "    ))\n",
    "fig.show()"
   ]
  },
  {
   "cell_type": "markdown",
   "metadata": {},
   "source": [
    "    Temporary Findings:\n",
    "    - By using Closed Funnel approach, we could notice that from 9506 events of 'login', only 2524 that continue to the 'product_page' ('upd_events_product_page'), 429 events continue to the 'product_cart' ('upd_events_product_cart') and 379 events completed until the 'purchase' ('upd_events_purchase') stage."
   ]
  },
  {
   "cell_type": "markdown",
   "metadata": {},
   "source": [
    "[Back to Contents](#tableofcontents)"
   ]
  },
  {
   "cell_type": "markdown",
   "metadata": {},
   "source": [
    "# Total Users of Funnel"
   ]
  },
  {
   "cell_type": "markdown",
   "metadata": {},
   "source": [
    "    We will check 'closed_funnel_approach' table, as follows:"
   ]
  },
  {
   "cell_type": "code",
   "execution_count": 662,
   "metadata": {},
   "outputs": [
    {
     "data": {
      "text/html": [
       "<div>\n",
       "<style scoped>\n",
       "    .dataframe tbody tr th:only-of-type {\n",
       "        vertical-align: middle;\n",
       "    }\n",
       "\n",
       "    .dataframe tbody tr th {\n",
       "        vertical-align: top;\n",
       "    }\n",
       "\n",
       "    .dataframe thead th {\n",
       "        text-align: right;\n",
       "    }\n",
       "</style>\n",
       "<table border=\"1\" class=\"dataframe\">\n",
       "  <thead>\n",
       "    <tr style=\"text-align: right;\">\n",
       "      <th></th>\n",
       "      <th>user_id</th>\n",
       "      <th>event_dt</th>\n",
       "      <th>group</th>\n",
       "      <th>upd_events_login</th>\n",
       "      <th>upd_events_product_page</th>\n",
       "      <th>upd_events_product_cart</th>\n",
       "      <th>upd_events_purchase</th>\n",
       "    </tr>\n",
       "  </thead>\n",
       "  <tbody>\n",
       "    <tr>\n",
       "      <th>0</th>\n",
       "      <td>D72A72121175D8BE</td>\n",
       "      <td>2020-12-07 21:52:07</td>\n",
       "      <td>A</td>\n",
       "      <td>login</td>\n",
       "      <td>NaN</td>\n",
       "      <td>NaN</td>\n",
       "      <td>NaN</td>\n",
       "    </tr>\n",
       "    <tr>\n",
       "      <th>1</th>\n",
       "      <td>DD4352CDCF8C3D57</td>\n",
       "      <td>2020-12-07 15:32:53</td>\n",
       "      <td>B</td>\n",
       "      <td>login</td>\n",
       "      <td>NaN</td>\n",
       "      <td>NaN</td>\n",
       "      <td>NaN</td>\n",
       "    </tr>\n",
       "    <tr>\n",
       "      <th>2</th>\n",
       "      <td>831887FE7F2D6CBA</td>\n",
       "      <td>2020-12-07 06:50:29</td>\n",
       "      <td>A</td>\n",
       "      <td>login</td>\n",
       "      <td>NaN</td>\n",
       "      <td>NaN</td>\n",
       "      <td>NaN</td>\n",
       "    </tr>\n",
       "    <tr>\n",
       "      <th>3</th>\n",
       "      <td>4CB179C7F847320B</td>\n",
       "      <td>2020-12-07 01:37:05</td>\n",
       "      <td>B</td>\n",
       "      <td>login</td>\n",
       "      <td>NaN</td>\n",
       "      <td>NaN</td>\n",
       "      <td>NaN</td>\n",
       "    </tr>\n",
       "    <tr>\n",
       "      <th>4</th>\n",
       "      <td>29C92313A98B1176</td>\n",
       "      <td>2020-12-07 06:18:24</td>\n",
       "      <td>B</td>\n",
       "      <td>login</td>\n",
       "      <td>NaN</td>\n",
       "      <td>NaN</td>\n",
       "      <td>NaN</td>\n",
       "    </tr>\n",
       "    <tr>\n",
       "      <th>...</th>\n",
       "      <td>...</td>\n",
       "      <td>...</td>\n",
       "      <td>...</td>\n",
       "      <td>...</td>\n",
       "      <td>...</td>\n",
       "      <td>...</td>\n",
       "      <td>...</td>\n",
       "    </tr>\n",
       "    <tr>\n",
       "      <th>9501</th>\n",
       "      <td>D21F0D4FDCD82DB2</td>\n",
       "      <td>2020-12-29 02:17:00</td>\n",
       "      <td>A</td>\n",
       "      <td>login</td>\n",
       "      <td>NaN</td>\n",
       "      <td>NaN</td>\n",
       "      <td>NaN</td>\n",
       "    </tr>\n",
       "    <tr>\n",
       "      <th>9502</th>\n",
       "      <td>96BDD55846D1F7F6</td>\n",
       "      <td>2020-12-29 16:53:42</td>\n",
       "      <td>A</td>\n",
       "      <td>login</td>\n",
       "      <td>product_page</td>\n",
       "      <td>NaN</td>\n",
       "      <td>NaN</td>\n",
       "    </tr>\n",
       "    <tr>\n",
       "      <th>9503</th>\n",
       "      <td>553BAE96C6EB6240</td>\n",
       "      <td>2020-12-29 14:09:14</td>\n",
       "      <td>A</td>\n",
       "      <td>login</td>\n",
       "      <td>NaN</td>\n",
       "      <td>NaN</td>\n",
       "      <td>NaN</td>\n",
       "    </tr>\n",
       "    <tr>\n",
       "      <th>9504</th>\n",
       "      <td>DD4352CDCF8C3D57</td>\n",
       "      <td>2020-12-30 12:42:56</td>\n",
       "      <td>B</td>\n",
       "      <td>login</td>\n",
       "      <td>NaN</td>\n",
       "      <td>NaN</td>\n",
       "      <td>NaN</td>\n",
       "    </tr>\n",
       "    <tr>\n",
       "      <th>9505</th>\n",
       "      <td>75845C83258FBF73</td>\n",
       "      <td>2020-12-30 06:42:52</td>\n",
       "      <td>B</td>\n",
       "      <td>login</td>\n",
       "      <td>NaN</td>\n",
       "      <td>NaN</td>\n",
       "      <td>NaN</td>\n",
       "    </tr>\n",
       "  </tbody>\n",
       "</table>\n",
       "<p>9506 rows × 7 columns</p>\n",
       "</div>"
      ],
      "text/plain": [
       "               user_id             event_dt group upd_events_login  \\\n",
       "0     D72A72121175D8BE  2020-12-07 21:52:07     A            login   \n",
       "1     DD4352CDCF8C3D57  2020-12-07 15:32:53     B            login   \n",
       "2     831887FE7F2D6CBA  2020-12-07 06:50:29     A            login   \n",
       "3     4CB179C7F847320B  2020-12-07 01:37:05     B            login   \n",
       "4     29C92313A98B1176  2020-12-07 06:18:24     B            login   \n",
       "...                ...                  ...   ...              ...   \n",
       "9501  D21F0D4FDCD82DB2  2020-12-29 02:17:00     A            login   \n",
       "9502  96BDD55846D1F7F6  2020-12-29 16:53:42     A            login   \n",
       "9503  553BAE96C6EB6240  2020-12-29 14:09:14     A            login   \n",
       "9504  DD4352CDCF8C3D57  2020-12-30 12:42:56     B            login   \n",
       "9505  75845C83258FBF73  2020-12-30 06:42:52     B            login   \n",
       "\n",
       "     upd_events_product_page upd_events_product_cart upd_events_purchase  \n",
       "0                        NaN                     NaN                 NaN  \n",
       "1                        NaN                     NaN                 NaN  \n",
       "2                        NaN                     NaN                 NaN  \n",
       "3                        NaN                     NaN                 NaN  \n",
       "4                        NaN                     NaN                 NaN  \n",
       "...                      ...                     ...                 ...  \n",
       "9501                     NaN                     NaN                 NaN  \n",
       "9502            product_page                     NaN                 NaN  \n",
       "9503                     NaN                     NaN                 NaN  \n",
       "9504                     NaN                     NaN                 NaN  \n",
       "9505                     NaN                     NaN                 NaN  \n",
       "\n",
       "[9506 rows x 7 columns]"
      ]
     },
     "execution_count": 662,
     "metadata": {},
     "output_type": "execute_result"
    }
   ],
   "source": [
    "closed_funnel_approach"
   ]
  },
  {
   "cell_type": "markdown",
   "metadata": {},
   "source": [
    "    Calculating each event by 'user_id' and saving to a new table, as follows:"
   ]
  },
  {
   "cell_type": "code",
   "execution_count": 663,
   "metadata": {},
   "outputs": [
    {
     "data": {
      "text/html": [
       "<div>\n",
       "<style scoped>\n",
       "    .dataframe tbody tr th:only-of-type {\n",
       "        vertical-align: middle;\n",
       "    }\n",
       "\n",
       "    .dataframe tbody tr th {\n",
       "        vertical-align: top;\n",
       "    }\n",
       "\n",
       "    .dataframe thead th {\n",
       "        text-align: right;\n",
       "    }\n",
       "</style>\n",
       "<table border=\"1\" class=\"dataframe\">\n",
       "  <thead>\n",
       "    <tr style=\"text-align: right;\">\n",
       "      <th></th>\n",
       "      <th>user_id</th>\n",
       "      <th>upd_events_login</th>\n",
       "      <th>upd_events_product_page</th>\n",
       "      <th>upd_events_product_cart</th>\n",
       "      <th>upd_events_purchase</th>\n",
       "    </tr>\n",
       "  </thead>\n",
       "  <tbody>\n",
       "    <tr>\n",
       "      <th>0</th>\n",
       "      <td>001064FEAAB631A1</td>\n",
       "      <td>1</td>\n",
       "      <td>0</td>\n",
       "      <td>0</td>\n",
       "      <td>0</td>\n",
       "    </tr>\n",
       "    <tr>\n",
       "      <th>1</th>\n",
       "      <td>0010A1C096941592</td>\n",
       "      <td>1</td>\n",
       "      <td>1</td>\n",
       "      <td>0</td>\n",
       "      <td>0</td>\n",
       "    </tr>\n",
       "    <tr>\n",
       "      <th>2</th>\n",
       "      <td>003DF44D7589BBD4</td>\n",
       "      <td>1</td>\n",
       "      <td>1</td>\n",
       "      <td>1</td>\n",
       "      <td>0</td>\n",
       "    </tr>\n",
       "    <tr>\n",
       "      <th>3</th>\n",
       "      <td>00505E15A9D81546</td>\n",
       "      <td>1</td>\n",
       "      <td>0</td>\n",
       "      <td>0</td>\n",
       "      <td>0</td>\n",
       "    </tr>\n",
       "    <tr>\n",
       "      <th>4</th>\n",
       "      <td>006E3E4E232CE760</td>\n",
       "      <td>1</td>\n",
       "      <td>1</td>\n",
       "      <td>0</td>\n",
       "      <td>0</td>\n",
       "    </tr>\n",
       "    <tr>\n",
       "      <th>...</th>\n",
       "      <td>...</td>\n",
       "      <td>...</td>\n",
       "      <td>...</td>\n",
       "      <td>...</td>\n",
       "      <td>...</td>\n",
       "    </tr>\n",
       "    <tr>\n",
       "      <th>3160</th>\n",
       "      <td>FF4456FBA59116E3</td>\n",
       "      <td>1</td>\n",
       "      <td>1</td>\n",
       "      <td>0</td>\n",
       "      <td>0</td>\n",
       "    </tr>\n",
       "    <tr>\n",
       "      <th>3161</th>\n",
       "      <td>FF825C1D791989B5</td>\n",
       "      <td>1</td>\n",
       "      <td>0</td>\n",
       "      <td>0</td>\n",
       "      <td>0</td>\n",
       "    </tr>\n",
       "    <tr>\n",
       "      <th>3162</th>\n",
       "      <td>FFAE9489C76F352B</td>\n",
       "      <td>1</td>\n",
       "      <td>0</td>\n",
       "      <td>0</td>\n",
       "      <td>0</td>\n",
       "    </tr>\n",
       "    <tr>\n",
       "      <th>3163</th>\n",
       "      <td>FFF28D02B1EACBE1</td>\n",
       "      <td>1</td>\n",
       "      <td>0</td>\n",
       "      <td>0</td>\n",
       "      <td>0</td>\n",
       "    </tr>\n",
       "    <tr>\n",
       "      <th>total</th>\n",
       "      <td>001064FEAAB631A10010A1C096941592003DF44D7589BB...</td>\n",
       "      <td>3164</td>\n",
       "      <td>1521</td>\n",
       "      <td>325</td>\n",
       "      <td>231</td>\n",
       "    </tr>\n",
       "  </tbody>\n",
       "</table>\n",
       "<p>3165 rows × 5 columns</p>\n",
       "</div>"
      ],
      "text/plain": [
       "                                                 user_id  upd_events_login  \\\n",
       "0                                       001064FEAAB631A1                 1   \n",
       "1                                       0010A1C096941592                 1   \n",
       "2                                       003DF44D7589BBD4                 1   \n",
       "3                                       00505E15A9D81546                 1   \n",
       "4                                       006E3E4E232CE760                 1   \n",
       "...                                                  ...               ...   \n",
       "3160                                    FF4456FBA59116E3                 1   \n",
       "3161                                    FF825C1D791989B5                 1   \n",
       "3162                                    FFAE9489C76F352B                 1   \n",
       "3163                                    FFF28D02B1EACBE1                 1   \n",
       "total  001064FEAAB631A10010A1C096941592003DF44D7589BB...              3164   \n",
       "\n",
       "       upd_events_product_page  upd_events_product_cart  upd_events_purchase  \n",
       "0                            0                        0                    0  \n",
       "1                            1                        0                    0  \n",
       "2                            1                        1                    0  \n",
       "3                            0                        0                    0  \n",
       "4                            1                        0                    0  \n",
       "...                        ...                      ...                  ...  \n",
       "3160                         1                        0                    0  \n",
       "3161                         0                        0                    0  \n",
       "3162                         0                        0                    0  \n",
       "3163                         0                        0                    0  \n",
       "total                     1521                      325                  231  \n",
       "\n",
       "[3165 rows x 5 columns]"
      ]
     },
     "execution_count": 663,
     "metadata": {},
     "output_type": "execute_result"
    }
   ],
   "source": [
    "closed_funnel_approach_nunique = closed_funnel_approach.pivot_table(index='user_id', values=['upd_events_login', 'upd_events_product_page', \n",
    "                                                                           'upd_events_product_cart', 'upd_events_purchase'], \n",
    "                                                  aggfunc='nunique').reset_index()\n",
    "\n",
    "closed_funnel_approach_nunique = closed_funnel_approach_nunique[['user_id', 'upd_events_login', 'upd_events_product_page', 'upd_events_product_cart', \n",
    "                                               'upd_events_purchase']]\n",
    "\n",
    "closed_funnel_approach_nunique.loc['total'] = closed_funnel_approach_nunique.sum()\n",
    "\n",
    "closed_funnel_approach_nunique"
   ]
  },
  {
   "cell_type": "markdown",
   "metadata": {},
   "source": [
    "    Calculating how many users are in each event, as follows:"
   ]
  },
  {
   "cell_type": "code",
   "execution_count": 664,
   "metadata": {},
   "outputs": [
    {
     "data": {
      "text/html": [
       "<div>\n",
       "<style scoped>\n",
       "    .dataframe tbody tr th:only-of-type {\n",
       "        vertical-align: middle;\n",
       "    }\n",
       "\n",
       "    .dataframe tbody tr th {\n",
       "        vertical-align: top;\n",
       "    }\n",
       "\n",
       "    .dataframe thead th {\n",
       "        text-align: right;\n",
       "    }\n",
       "</style>\n",
       "<table border=\"1\" class=\"dataframe\">\n",
       "  <thead>\n",
       "    <tr style=\"text-align: right;\">\n",
       "      <th></th>\n",
       "      <th>event_name</th>\n",
       "      <th>total</th>\n",
       "    </tr>\n",
       "  </thead>\n",
       "  <tbody>\n",
       "    <tr>\n",
       "      <th>0</th>\n",
       "      <td>upd_events_login</td>\n",
       "      <td>3164</td>\n",
       "    </tr>\n",
       "    <tr>\n",
       "      <th>1</th>\n",
       "      <td>upd_events_product_page</td>\n",
       "      <td>1521</td>\n",
       "    </tr>\n",
       "    <tr>\n",
       "      <th>2</th>\n",
       "      <td>upd_events_product_cart</td>\n",
       "      <td>325</td>\n",
       "    </tr>\n",
       "    <tr>\n",
       "      <th>3</th>\n",
       "      <td>upd_events_purchase</td>\n",
       "      <td>231</td>\n",
       "    </tr>\n",
       "  </tbody>\n",
       "</table>\n",
       "</div>"
      ],
      "text/plain": [
       "                event_name total\n",
       "0         upd_events_login  3164\n",
       "1  upd_events_product_page  1521\n",
       "2  upd_events_product_cart   325\n",
       "3      upd_events_purchase   231"
      ]
     },
     "execution_count": 664,
     "metadata": {},
     "output_type": "execute_result"
    }
   ],
   "source": [
    "mixall_users_agg = closed_funnel_approach_nunique.loc['total']\n",
    "mixall_users_agg = mixall_users_agg.to_frame()\n",
    "mixall_users_agg.reset_index(inplace=True) \n",
    "mixall_users_agg = mixall_users_agg.rename(columns={'index': 'event_name'})\n",
    "mixall_users_agg = mixall_users_agg.drop([0]).reset_index(drop=True)\n",
    "mixall_users_agg"
   ]
  },
  {
   "cell_type": "markdown",
   "metadata": {},
   "source": [
    "    Now, we will make the visualization, as follows:"
   ]
  },
  {
   "cell_type": "code",
   "execution_count": 665,
   "metadata": {},
   "outputs": [
    {
     "data": {
      "application/vnd.plotly.v1+json": {
       "config": {
        "plotlyServerURL": "https://plot.ly"
       },
       "data": [
        {
         "type": "funnel",
         "x": [
          3164,
          1521,
          325,
          231
         ],
         "y": [
          "upd_events_login",
          "upd_events_product_page",
          "upd_events_product_cart",
          "upd_events_purchase"
         ]
        }
       ],
       "layout": {
        "template": {
         "data": {
          "bar": [
           {
            "error_x": {
             "color": "#2a3f5f"
            },
            "error_y": {
             "color": "#2a3f5f"
            },
            "marker": {
             "line": {
              "color": "#E5ECF6",
              "width": 0.5
             },
             "pattern": {
              "fillmode": "overlay",
              "size": 10,
              "solidity": 0.2
             }
            },
            "type": "bar"
           }
          ],
          "barpolar": [
           {
            "marker": {
             "line": {
              "color": "#E5ECF6",
              "width": 0.5
             },
             "pattern": {
              "fillmode": "overlay",
              "size": 10,
              "solidity": 0.2
             }
            },
            "type": "barpolar"
           }
          ],
          "carpet": [
           {
            "aaxis": {
             "endlinecolor": "#2a3f5f",
             "gridcolor": "white",
             "linecolor": "white",
             "minorgridcolor": "white",
             "startlinecolor": "#2a3f5f"
            },
            "baxis": {
             "endlinecolor": "#2a3f5f",
             "gridcolor": "white",
             "linecolor": "white",
             "minorgridcolor": "white",
             "startlinecolor": "#2a3f5f"
            },
            "type": "carpet"
           }
          ],
          "choropleth": [
           {
            "colorbar": {
             "outlinewidth": 0,
             "ticks": ""
            },
            "type": "choropleth"
           }
          ],
          "contour": [
           {
            "colorbar": {
             "outlinewidth": 0,
             "ticks": ""
            },
            "colorscale": [
             [
              0,
              "#0d0887"
             ],
             [
              0.1111111111111111,
              "#46039f"
             ],
             [
              0.2222222222222222,
              "#7201a8"
             ],
             [
              0.3333333333333333,
              "#9c179e"
             ],
             [
              0.4444444444444444,
              "#bd3786"
             ],
             [
              0.5555555555555556,
              "#d8576b"
             ],
             [
              0.6666666666666666,
              "#ed7953"
             ],
             [
              0.7777777777777778,
              "#fb9f3a"
             ],
             [
              0.8888888888888888,
              "#fdca26"
             ],
             [
              1,
              "#f0f921"
             ]
            ],
            "type": "contour"
           }
          ],
          "contourcarpet": [
           {
            "colorbar": {
             "outlinewidth": 0,
             "ticks": ""
            },
            "type": "contourcarpet"
           }
          ],
          "heatmap": [
           {
            "colorbar": {
             "outlinewidth": 0,
             "ticks": ""
            },
            "colorscale": [
             [
              0,
              "#0d0887"
             ],
             [
              0.1111111111111111,
              "#46039f"
             ],
             [
              0.2222222222222222,
              "#7201a8"
             ],
             [
              0.3333333333333333,
              "#9c179e"
             ],
             [
              0.4444444444444444,
              "#bd3786"
             ],
             [
              0.5555555555555556,
              "#d8576b"
             ],
             [
              0.6666666666666666,
              "#ed7953"
             ],
             [
              0.7777777777777778,
              "#fb9f3a"
             ],
             [
              0.8888888888888888,
              "#fdca26"
             ],
             [
              1,
              "#f0f921"
             ]
            ],
            "type": "heatmap"
           }
          ],
          "heatmapgl": [
           {
            "colorbar": {
             "outlinewidth": 0,
             "ticks": ""
            },
            "colorscale": [
             [
              0,
              "#0d0887"
             ],
             [
              0.1111111111111111,
              "#46039f"
             ],
             [
              0.2222222222222222,
              "#7201a8"
             ],
             [
              0.3333333333333333,
              "#9c179e"
             ],
             [
              0.4444444444444444,
              "#bd3786"
             ],
             [
              0.5555555555555556,
              "#d8576b"
             ],
             [
              0.6666666666666666,
              "#ed7953"
             ],
             [
              0.7777777777777778,
              "#fb9f3a"
             ],
             [
              0.8888888888888888,
              "#fdca26"
             ],
             [
              1,
              "#f0f921"
             ]
            ],
            "type": "heatmapgl"
           }
          ],
          "histogram": [
           {
            "marker": {
             "pattern": {
              "fillmode": "overlay",
              "size": 10,
              "solidity": 0.2
             }
            },
            "type": "histogram"
           }
          ],
          "histogram2d": [
           {
            "colorbar": {
             "outlinewidth": 0,
             "ticks": ""
            },
            "colorscale": [
             [
              0,
              "#0d0887"
             ],
             [
              0.1111111111111111,
              "#46039f"
             ],
             [
              0.2222222222222222,
              "#7201a8"
             ],
             [
              0.3333333333333333,
              "#9c179e"
             ],
             [
              0.4444444444444444,
              "#bd3786"
             ],
             [
              0.5555555555555556,
              "#d8576b"
             ],
             [
              0.6666666666666666,
              "#ed7953"
             ],
             [
              0.7777777777777778,
              "#fb9f3a"
             ],
             [
              0.8888888888888888,
              "#fdca26"
             ],
             [
              1,
              "#f0f921"
             ]
            ],
            "type": "histogram2d"
           }
          ],
          "histogram2dcontour": [
           {
            "colorbar": {
             "outlinewidth": 0,
             "ticks": ""
            },
            "colorscale": [
             [
              0,
              "#0d0887"
             ],
             [
              0.1111111111111111,
              "#46039f"
             ],
             [
              0.2222222222222222,
              "#7201a8"
             ],
             [
              0.3333333333333333,
              "#9c179e"
             ],
             [
              0.4444444444444444,
              "#bd3786"
             ],
             [
              0.5555555555555556,
              "#d8576b"
             ],
             [
              0.6666666666666666,
              "#ed7953"
             ],
             [
              0.7777777777777778,
              "#fb9f3a"
             ],
             [
              0.8888888888888888,
              "#fdca26"
             ],
             [
              1,
              "#f0f921"
             ]
            ],
            "type": "histogram2dcontour"
           }
          ],
          "mesh3d": [
           {
            "colorbar": {
             "outlinewidth": 0,
             "ticks": ""
            },
            "type": "mesh3d"
           }
          ],
          "parcoords": [
           {
            "line": {
             "colorbar": {
              "outlinewidth": 0,
              "ticks": ""
             }
            },
            "type": "parcoords"
           }
          ],
          "pie": [
           {
            "automargin": true,
            "type": "pie"
           }
          ],
          "scatter": [
           {
            "marker": {
             "colorbar": {
              "outlinewidth": 0,
              "ticks": ""
             }
            },
            "type": "scatter"
           }
          ],
          "scatter3d": [
           {
            "line": {
             "colorbar": {
              "outlinewidth": 0,
              "ticks": ""
             }
            },
            "marker": {
             "colorbar": {
              "outlinewidth": 0,
              "ticks": ""
             }
            },
            "type": "scatter3d"
           }
          ],
          "scattercarpet": [
           {
            "marker": {
             "colorbar": {
              "outlinewidth": 0,
              "ticks": ""
             }
            },
            "type": "scattercarpet"
           }
          ],
          "scattergeo": [
           {
            "marker": {
             "colorbar": {
              "outlinewidth": 0,
              "ticks": ""
             }
            },
            "type": "scattergeo"
           }
          ],
          "scattergl": [
           {
            "marker": {
             "colorbar": {
              "outlinewidth": 0,
              "ticks": ""
             }
            },
            "type": "scattergl"
           }
          ],
          "scattermapbox": [
           {
            "marker": {
             "colorbar": {
              "outlinewidth": 0,
              "ticks": ""
             }
            },
            "type": "scattermapbox"
           }
          ],
          "scatterpolar": [
           {
            "marker": {
             "colorbar": {
              "outlinewidth": 0,
              "ticks": ""
             }
            },
            "type": "scatterpolar"
           }
          ],
          "scatterpolargl": [
           {
            "marker": {
             "colorbar": {
              "outlinewidth": 0,
              "ticks": ""
             }
            },
            "type": "scatterpolargl"
           }
          ],
          "scatterternary": [
           {
            "marker": {
             "colorbar": {
              "outlinewidth": 0,
              "ticks": ""
             }
            },
            "type": "scatterternary"
           }
          ],
          "surface": [
           {
            "colorbar": {
             "outlinewidth": 0,
             "ticks": ""
            },
            "colorscale": [
             [
              0,
              "#0d0887"
             ],
             [
              0.1111111111111111,
              "#46039f"
             ],
             [
              0.2222222222222222,
              "#7201a8"
             ],
             [
              0.3333333333333333,
              "#9c179e"
             ],
             [
              0.4444444444444444,
              "#bd3786"
             ],
             [
              0.5555555555555556,
              "#d8576b"
             ],
             [
              0.6666666666666666,
              "#ed7953"
             ],
             [
              0.7777777777777778,
              "#fb9f3a"
             ],
             [
              0.8888888888888888,
              "#fdca26"
             ],
             [
              1,
              "#f0f921"
             ]
            ],
            "type": "surface"
           }
          ],
          "table": [
           {
            "cells": {
             "fill": {
              "color": "#EBF0F8"
             },
             "line": {
              "color": "white"
             }
            },
            "header": {
             "fill": {
              "color": "#C8D4E3"
             },
             "line": {
              "color": "white"
             }
            },
            "type": "table"
           }
          ]
         },
         "layout": {
          "annotationdefaults": {
           "arrowcolor": "#2a3f5f",
           "arrowhead": 0,
           "arrowwidth": 1
          },
          "autotypenumbers": "strict",
          "coloraxis": {
           "colorbar": {
            "outlinewidth": 0,
            "ticks": ""
           }
          },
          "colorscale": {
           "diverging": [
            [
             0,
             "#8e0152"
            ],
            [
             0.1,
             "#c51b7d"
            ],
            [
             0.2,
             "#de77ae"
            ],
            [
             0.3,
             "#f1b6da"
            ],
            [
             0.4,
             "#fde0ef"
            ],
            [
             0.5,
             "#f7f7f7"
            ],
            [
             0.6,
             "#e6f5d0"
            ],
            [
             0.7,
             "#b8e186"
            ],
            [
             0.8,
             "#7fbc41"
            ],
            [
             0.9,
             "#4d9221"
            ],
            [
             1,
             "#276419"
            ]
           ],
           "sequential": [
            [
             0,
             "#0d0887"
            ],
            [
             0.1111111111111111,
             "#46039f"
            ],
            [
             0.2222222222222222,
             "#7201a8"
            ],
            [
             0.3333333333333333,
             "#9c179e"
            ],
            [
             0.4444444444444444,
             "#bd3786"
            ],
            [
             0.5555555555555556,
             "#d8576b"
            ],
            [
             0.6666666666666666,
             "#ed7953"
            ],
            [
             0.7777777777777778,
             "#fb9f3a"
            ],
            [
             0.8888888888888888,
             "#fdca26"
            ],
            [
             1,
             "#f0f921"
            ]
           ],
           "sequentialminus": [
            [
             0,
             "#0d0887"
            ],
            [
             0.1111111111111111,
             "#46039f"
            ],
            [
             0.2222222222222222,
             "#7201a8"
            ],
            [
             0.3333333333333333,
             "#9c179e"
            ],
            [
             0.4444444444444444,
             "#bd3786"
            ],
            [
             0.5555555555555556,
             "#d8576b"
            ],
            [
             0.6666666666666666,
             "#ed7953"
            ],
            [
             0.7777777777777778,
             "#fb9f3a"
            ],
            [
             0.8888888888888888,
             "#fdca26"
            ],
            [
             1,
             "#f0f921"
            ]
           ]
          },
          "colorway": [
           "#636efa",
           "#EF553B",
           "#00cc96",
           "#ab63fa",
           "#FFA15A",
           "#19d3f3",
           "#FF6692",
           "#B6E880",
           "#FF97FF",
           "#FECB52"
          ],
          "font": {
           "color": "#2a3f5f"
          },
          "geo": {
           "bgcolor": "white",
           "lakecolor": "white",
           "landcolor": "#E5ECF6",
           "showlakes": true,
           "showland": true,
           "subunitcolor": "white"
          },
          "hoverlabel": {
           "align": "left"
          },
          "hovermode": "closest",
          "mapbox": {
           "style": "light"
          },
          "paper_bgcolor": "white",
          "plot_bgcolor": "#E5ECF6",
          "polar": {
           "angularaxis": {
            "gridcolor": "white",
            "linecolor": "white",
            "ticks": ""
           },
           "bgcolor": "#E5ECF6",
           "radialaxis": {
            "gridcolor": "white",
            "linecolor": "white",
            "ticks": ""
           }
          },
          "scene": {
           "xaxis": {
            "backgroundcolor": "#E5ECF6",
            "gridcolor": "white",
            "gridwidth": 2,
            "linecolor": "white",
            "showbackground": true,
            "ticks": "",
            "zerolinecolor": "white"
           },
           "yaxis": {
            "backgroundcolor": "#E5ECF6",
            "gridcolor": "white",
            "gridwidth": 2,
            "linecolor": "white",
            "showbackground": true,
            "ticks": "",
            "zerolinecolor": "white"
           },
           "zaxis": {
            "backgroundcolor": "#E5ECF6",
            "gridcolor": "white",
            "gridwidth": 2,
            "linecolor": "white",
            "showbackground": true,
            "ticks": "",
            "zerolinecolor": "white"
           }
          },
          "shapedefaults": {
           "line": {
            "color": "#2a3f5f"
           }
          },
          "ternary": {
           "aaxis": {
            "gridcolor": "white",
            "linecolor": "white",
            "ticks": ""
           },
           "baxis": {
            "gridcolor": "white",
            "linecolor": "white",
            "ticks": ""
           },
           "bgcolor": "#E5ECF6",
           "caxis": {
            "gridcolor": "white",
            "linecolor": "white",
            "ticks": ""
           }
          },
          "title": {
           "x": 0.05
          },
          "xaxis": {
           "automargin": true,
           "gridcolor": "white",
           "linecolor": "white",
           "ticks": "",
           "title": {
            "standoff": 15
           },
           "zerolinecolor": "white",
           "zerolinewidth": 2
          },
          "yaxis": {
           "automargin": true,
           "gridcolor": "white",
           "linecolor": "white",
           "ticks": "",
           "title": {
            "standoff": 15
           },
           "zerolinecolor": "white",
           "zerolinewidth": 2
          }
         }
        }
       }
      },
      "text/html": [
       "<div>                            <div id=\"9890ea09-46b8-4b0b-9248-2fed3eb226af\" class=\"plotly-graph-div\" style=\"height:525px; width:100%;\"></div>            <script type=\"text/javascript\">                require([\"plotly\"], function(Plotly) {                    window.PLOTLYENV=window.PLOTLYENV || {};                                    if (document.getElementById(\"9890ea09-46b8-4b0b-9248-2fed3eb226af\")) {                    Plotly.newPlot(                        \"9890ea09-46b8-4b0b-9248-2fed3eb226af\",                        [{\"x\":[3164,1521,325,231],\"y\":[\"upd_events_login\",\"upd_events_product_page\",\"upd_events_product_cart\",\"upd_events_purchase\"],\"type\":\"funnel\"}],                        {\"template\":{\"data\":{\"bar\":[{\"error_x\":{\"color\":\"#2a3f5f\"},\"error_y\":{\"color\":\"#2a3f5f\"},\"marker\":{\"line\":{\"color\":\"#E5ECF6\",\"width\":0.5},\"pattern\":{\"fillmode\":\"overlay\",\"size\":10,\"solidity\":0.2}},\"type\":\"bar\"}],\"barpolar\":[{\"marker\":{\"line\":{\"color\":\"#E5ECF6\",\"width\":0.5},\"pattern\":{\"fillmode\":\"overlay\",\"size\":10,\"solidity\":0.2}},\"type\":\"barpolar\"}],\"carpet\":[{\"aaxis\":{\"endlinecolor\":\"#2a3f5f\",\"gridcolor\":\"white\",\"linecolor\":\"white\",\"minorgridcolor\":\"white\",\"startlinecolor\":\"#2a3f5f\"},\"baxis\":{\"endlinecolor\":\"#2a3f5f\",\"gridcolor\":\"white\",\"linecolor\":\"white\",\"minorgridcolor\":\"white\",\"startlinecolor\":\"#2a3f5f\"},\"type\":\"carpet\"}],\"choropleth\":[{\"colorbar\":{\"outlinewidth\":0,\"ticks\":\"\"},\"type\":\"choropleth\"}],\"contour\":[{\"colorbar\":{\"outlinewidth\":0,\"ticks\":\"\"},\"colorscale\":[[0.0,\"#0d0887\"],[0.1111111111111111,\"#46039f\"],[0.2222222222222222,\"#7201a8\"],[0.3333333333333333,\"#9c179e\"],[0.4444444444444444,\"#bd3786\"],[0.5555555555555556,\"#d8576b\"],[0.6666666666666666,\"#ed7953\"],[0.7777777777777778,\"#fb9f3a\"],[0.8888888888888888,\"#fdca26\"],[1.0,\"#f0f921\"]],\"type\":\"contour\"}],\"contourcarpet\":[{\"colorbar\":{\"outlinewidth\":0,\"ticks\":\"\"},\"type\":\"contourcarpet\"}],\"heatmap\":[{\"colorbar\":{\"outlinewidth\":0,\"ticks\":\"\"},\"colorscale\":[[0.0,\"#0d0887\"],[0.1111111111111111,\"#46039f\"],[0.2222222222222222,\"#7201a8\"],[0.3333333333333333,\"#9c179e\"],[0.4444444444444444,\"#bd3786\"],[0.5555555555555556,\"#d8576b\"],[0.6666666666666666,\"#ed7953\"],[0.7777777777777778,\"#fb9f3a\"],[0.8888888888888888,\"#fdca26\"],[1.0,\"#f0f921\"]],\"type\":\"heatmap\"}],\"heatmapgl\":[{\"colorbar\":{\"outlinewidth\":0,\"ticks\":\"\"},\"colorscale\":[[0.0,\"#0d0887\"],[0.1111111111111111,\"#46039f\"],[0.2222222222222222,\"#7201a8\"],[0.3333333333333333,\"#9c179e\"],[0.4444444444444444,\"#bd3786\"],[0.5555555555555556,\"#d8576b\"],[0.6666666666666666,\"#ed7953\"],[0.7777777777777778,\"#fb9f3a\"],[0.8888888888888888,\"#fdca26\"],[1.0,\"#f0f921\"]],\"type\":\"heatmapgl\"}],\"histogram\":[{\"marker\":{\"pattern\":{\"fillmode\":\"overlay\",\"size\":10,\"solidity\":0.2}},\"type\":\"histogram\"}],\"histogram2d\":[{\"colorbar\":{\"outlinewidth\":0,\"ticks\":\"\"},\"colorscale\":[[0.0,\"#0d0887\"],[0.1111111111111111,\"#46039f\"],[0.2222222222222222,\"#7201a8\"],[0.3333333333333333,\"#9c179e\"],[0.4444444444444444,\"#bd3786\"],[0.5555555555555556,\"#d8576b\"],[0.6666666666666666,\"#ed7953\"],[0.7777777777777778,\"#fb9f3a\"],[0.8888888888888888,\"#fdca26\"],[1.0,\"#f0f921\"]],\"type\":\"histogram2d\"}],\"histogram2dcontour\":[{\"colorbar\":{\"outlinewidth\":0,\"ticks\":\"\"},\"colorscale\":[[0.0,\"#0d0887\"],[0.1111111111111111,\"#46039f\"],[0.2222222222222222,\"#7201a8\"],[0.3333333333333333,\"#9c179e\"],[0.4444444444444444,\"#bd3786\"],[0.5555555555555556,\"#d8576b\"],[0.6666666666666666,\"#ed7953\"],[0.7777777777777778,\"#fb9f3a\"],[0.8888888888888888,\"#fdca26\"],[1.0,\"#f0f921\"]],\"type\":\"histogram2dcontour\"}],\"mesh3d\":[{\"colorbar\":{\"outlinewidth\":0,\"ticks\":\"\"},\"type\":\"mesh3d\"}],\"parcoords\":[{\"line\":{\"colorbar\":{\"outlinewidth\":0,\"ticks\":\"\"}},\"type\":\"parcoords\"}],\"pie\":[{\"automargin\":true,\"type\":\"pie\"}],\"scatter\":[{\"marker\":{\"colorbar\":{\"outlinewidth\":0,\"ticks\":\"\"}},\"type\":\"scatter\"}],\"scatter3d\":[{\"line\":{\"colorbar\":{\"outlinewidth\":0,\"ticks\":\"\"}},\"marker\":{\"colorbar\":{\"outlinewidth\":0,\"ticks\":\"\"}},\"type\":\"scatter3d\"}],\"scattercarpet\":[{\"marker\":{\"colorbar\":{\"outlinewidth\":0,\"ticks\":\"\"}},\"type\":\"scattercarpet\"}],\"scattergeo\":[{\"marker\":{\"colorbar\":{\"outlinewidth\":0,\"ticks\":\"\"}},\"type\":\"scattergeo\"}],\"scattergl\":[{\"marker\":{\"colorbar\":{\"outlinewidth\":0,\"ticks\":\"\"}},\"type\":\"scattergl\"}],\"scattermapbox\":[{\"marker\":{\"colorbar\":{\"outlinewidth\":0,\"ticks\":\"\"}},\"type\":\"scattermapbox\"}],\"scatterpolar\":[{\"marker\":{\"colorbar\":{\"outlinewidth\":0,\"ticks\":\"\"}},\"type\":\"scatterpolar\"}],\"scatterpolargl\":[{\"marker\":{\"colorbar\":{\"outlinewidth\":0,\"ticks\":\"\"}},\"type\":\"scatterpolargl\"}],\"scatterternary\":[{\"marker\":{\"colorbar\":{\"outlinewidth\":0,\"ticks\":\"\"}},\"type\":\"scatterternary\"}],\"surface\":[{\"colorbar\":{\"outlinewidth\":0,\"ticks\":\"\"},\"colorscale\":[[0.0,\"#0d0887\"],[0.1111111111111111,\"#46039f\"],[0.2222222222222222,\"#7201a8\"],[0.3333333333333333,\"#9c179e\"],[0.4444444444444444,\"#bd3786\"],[0.5555555555555556,\"#d8576b\"],[0.6666666666666666,\"#ed7953\"],[0.7777777777777778,\"#fb9f3a\"],[0.8888888888888888,\"#fdca26\"],[1.0,\"#f0f921\"]],\"type\":\"surface\"}],\"table\":[{\"cells\":{\"fill\":{\"color\":\"#EBF0F8\"},\"line\":{\"color\":\"white\"}},\"header\":{\"fill\":{\"color\":\"#C8D4E3\"},\"line\":{\"color\":\"white\"}},\"type\":\"table\"}]},\"layout\":{\"annotationdefaults\":{\"arrowcolor\":\"#2a3f5f\",\"arrowhead\":0,\"arrowwidth\":1},\"autotypenumbers\":\"strict\",\"coloraxis\":{\"colorbar\":{\"outlinewidth\":0,\"ticks\":\"\"}},\"colorscale\":{\"diverging\":[[0,\"#8e0152\"],[0.1,\"#c51b7d\"],[0.2,\"#de77ae\"],[0.3,\"#f1b6da\"],[0.4,\"#fde0ef\"],[0.5,\"#f7f7f7\"],[0.6,\"#e6f5d0\"],[0.7,\"#b8e186\"],[0.8,\"#7fbc41\"],[0.9,\"#4d9221\"],[1,\"#276419\"]],\"sequential\":[[0.0,\"#0d0887\"],[0.1111111111111111,\"#46039f\"],[0.2222222222222222,\"#7201a8\"],[0.3333333333333333,\"#9c179e\"],[0.4444444444444444,\"#bd3786\"],[0.5555555555555556,\"#d8576b\"],[0.6666666666666666,\"#ed7953\"],[0.7777777777777778,\"#fb9f3a\"],[0.8888888888888888,\"#fdca26\"],[1.0,\"#f0f921\"]],\"sequentialminus\":[[0.0,\"#0d0887\"],[0.1111111111111111,\"#46039f\"],[0.2222222222222222,\"#7201a8\"],[0.3333333333333333,\"#9c179e\"],[0.4444444444444444,\"#bd3786\"],[0.5555555555555556,\"#d8576b\"],[0.6666666666666666,\"#ed7953\"],[0.7777777777777778,\"#fb9f3a\"],[0.8888888888888888,\"#fdca26\"],[1.0,\"#f0f921\"]]},\"colorway\":[\"#636efa\",\"#EF553B\",\"#00cc96\",\"#ab63fa\",\"#FFA15A\",\"#19d3f3\",\"#FF6692\",\"#B6E880\",\"#FF97FF\",\"#FECB52\"],\"font\":{\"color\":\"#2a3f5f\"},\"geo\":{\"bgcolor\":\"white\",\"lakecolor\":\"white\",\"landcolor\":\"#E5ECF6\",\"showlakes\":true,\"showland\":true,\"subunitcolor\":\"white\"},\"hoverlabel\":{\"align\":\"left\"},\"hovermode\":\"closest\",\"mapbox\":{\"style\":\"light\"},\"paper_bgcolor\":\"white\",\"plot_bgcolor\":\"#E5ECF6\",\"polar\":{\"angularaxis\":{\"gridcolor\":\"white\",\"linecolor\":\"white\",\"ticks\":\"\"},\"bgcolor\":\"#E5ECF6\",\"radialaxis\":{\"gridcolor\":\"white\",\"linecolor\":\"white\",\"ticks\":\"\"}},\"scene\":{\"xaxis\":{\"backgroundcolor\":\"#E5ECF6\",\"gridcolor\":\"white\",\"gridwidth\":2,\"linecolor\":\"white\",\"showbackground\":true,\"ticks\":\"\",\"zerolinecolor\":\"white\"},\"yaxis\":{\"backgroundcolor\":\"#E5ECF6\",\"gridcolor\":\"white\",\"gridwidth\":2,\"linecolor\":\"white\",\"showbackground\":true,\"ticks\":\"\",\"zerolinecolor\":\"white\"},\"zaxis\":{\"backgroundcolor\":\"#E5ECF6\",\"gridcolor\":\"white\",\"gridwidth\":2,\"linecolor\":\"white\",\"showbackground\":true,\"ticks\":\"\",\"zerolinecolor\":\"white\"}},\"shapedefaults\":{\"line\":{\"color\":\"#2a3f5f\"}},\"ternary\":{\"aaxis\":{\"gridcolor\":\"white\",\"linecolor\":\"white\",\"ticks\":\"\"},\"baxis\":{\"gridcolor\":\"white\",\"linecolor\":\"white\",\"ticks\":\"\"},\"bgcolor\":\"#E5ECF6\",\"caxis\":{\"gridcolor\":\"white\",\"linecolor\":\"white\",\"ticks\":\"\"}},\"title\":{\"x\":0.05},\"xaxis\":{\"automargin\":true,\"gridcolor\":\"white\",\"linecolor\":\"white\",\"ticks\":\"\",\"title\":{\"standoff\":15},\"zerolinecolor\":\"white\",\"zerolinewidth\":2},\"yaxis\":{\"automargin\":true,\"gridcolor\":\"white\",\"linecolor\":\"white\",\"ticks\":\"\",\"title\":{\"standoff\":15},\"zerolinecolor\":\"white\",\"zerolinewidth\":2}}}},                        {\"responsive\": true}                    ).then(function(){\n",
       "                            \n",
       "var gd = document.getElementById('9890ea09-46b8-4b0b-9248-2fed3eb226af');\n",
       "var x = new MutationObserver(function (mutations, observer) {{\n",
       "        var display = window.getComputedStyle(gd).display;\n",
       "        if (!display || display === 'none') {{\n",
       "            console.log([gd, 'removed!']);\n",
       "            Plotly.purge(gd);\n",
       "            observer.disconnect();\n",
       "        }}\n",
       "}});\n",
       "\n",
       "// Listen for the removal of the full notebook cells\n",
       "var notebookContainer = gd.closest('#notebook-container');\n",
       "if (notebookContainer) {{\n",
       "    x.observe(notebookContainer, {childList: true});\n",
       "}}\n",
       "\n",
       "// Listen for the clearing of the current output cell\n",
       "var outputEl = gd.closest('.output');\n",
       "if (outputEl) {{\n",
       "    x.observe(outputEl, {childList: true});\n",
       "}}\n",
       "\n",
       "                        })                };                });            </script>        </div>"
      ]
     },
     "metadata": {},
     "output_type": "display_data"
    }
   ],
   "source": [
    "mixall_users_agg_graph = mixall_users_agg.reset_index()\n",
    "fig = go.Figure(go.Funnel(\n",
    "    y = mixall_users_agg_graph['event_name'],\n",
    "    x = mixall_users_agg_graph['total']\n",
    "    ))\n",
    "fig.show()"
   ]
  },
  {
   "cell_type": "markdown",
   "metadata": {},
   "source": [
    "    Then, we calculate the percentage of users who make the entire journey from their first event to purchase, as follows:"
   ]
  },
  {
   "cell_type": "code",
   "execution_count": 666,
   "metadata": {},
   "outputs": [
    {
     "name": "stdout",
     "output_type": "stream",
     "text": [
      "The percentage of users who make the entire journey from the first event till checkout stage is 7.3%\n"
     ]
    }
   ],
   "source": [
    "percentage = ((mixall_users_agg.loc[3, 'total'] / mixall_users_agg.loc[0, 'total']) * 100)\n",
    "\n",
    "print(f'The percentage of users who make the entire journey from the first event till checkout stage is \\\n",
    "{round(percentage, 2)}%')"
   ]
  },
  {
   "cell_type": "markdown",
   "metadata": {},
   "source": [
    "    Findings:\n",
    "    \n",
    "    - We have 3164 users who has performed on event of 'login', with details as follows:\n",
    "\n",
    "    a. 1521 users has performed on event of 'product_page' ('upd_events_product_page').\n",
    "    b. 325 users has performed on event of 'product_cart' ('upd_events_product_cart').\n",
    "    c. 231 users has performed on event of 'purchase' (upd_events_purchase').\n",
    "\n",
    "    - The percentage of users who make the entire journey from the first event till checkout stage is 7.3% (3164 users versus 231 users)."
   ]
  },
  {
   "cell_type": "markdown",
   "metadata": {},
   "source": [
    "[Back to Contents](#tableofcontents)"
   ]
  },
  {
   "cell_type": "markdown",
   "metadata": {},
   "source": [
    "### Learning Whether The Number of Events Per User Distributed Equally in The Samples"
   ]
  },
  {
   "cell_type": "markdown",
   "metadata": {},
   "source": [
    "    First, we will take a look at the 'closed_funnel_approach' table, as follows:"
   ]
  },
  {
   "cell_type": "code",
   "execution_count": 667,
   "metadata": {},
   "outputs": [
    {
     "data": {
      "text/html": [
       "<div>\n",
       "<style scoped>\n",
       "    .dataframe tbody tr th:only-of-type {\n",
       "        vertical-align: middle;\n",
       "    }\n",
       "\n",
       "    .dataframe tbody tr th {\n",
       "        vertical-align: top;\n",
       "    }\n",
       "\n",
       "    .dataframe thead th {\n",
       "        text-align: right;\n",
       "    }\n",
       "</style>\n",
       "<table border=\"1\" class=\"dataframe\">\n",
       "  <thead>\n",
       "    <tr style=\"text-align: right;\">\n",
       "      <th></th>\n",
       "      <th>user_id</th>\n",
       "      <th>event_dt</th>\n",
       "      <th>group</th>\n",
       "      <th>upd_events_login</th>\n",
       "      <th>upd_events_product_page</th>\n",
       "      <th>upd_events_product_cart</th>\n",
       "      <th>upd_events_purchase</th>\n",
       "    </tr>\n",
       "  </thead>\n",
       "  <tbody>\n",
       "    <tr>\n",
       "      <th>0</th>\n",
       "      <td>D72A72121175D8BE</td>\n",
       "      <td>2020-12-07 21:52:07</td>\n",
       "      <td>A</td>\n",
       "      <td>login</td>\n",
       "      <td>NaN</td>\n",
       "      <td>NaN</td>\n",
       "      <td>NaN</td>\n",
       "    </tr>\n",
       "    <tr>\n",
       "      <th>1</th>\n",
       "      <td>DD4352CDCF8C3D57</td>\n",
       "      <td>2020-12-07 15:32:53</td>\n",
       "      <td>B</td>\n",
       "      <td>login</td>\n",
       "      <td>NaN</td>\n",
       "      <td>NaN</td>\n",
       "      <td>NaN</td>\n",
       "    </tr>\n",
       "    <tr>\n",
       "      <th>2</th>\n",
       "      <td>831887FE7F2D6CBA</td>\n",
       "      <td>2020-12-07 06:50:29</td>\n",
       "      <td>A</td>\n",
       "      <td>login</td>\n",
       "      <td>NaN</td>\n",
       "      <td>NaN</td>\n",
       "      <td>NaN</td>\n",
       "    </tr>\n",
       "    <tr>\n",
       "      <th>3</th>\n",
       "      <td>4CB179C7F847320B</td>\n",
       "      <td>2020-12-07 01:37:05</td>\n",
       "      <td>B</td>\n",
       "      <td>login</td>\n",
       "      <td>NaN</td>\n",
       "      <td>NaN</td>\n",
       "      <td>NaN</td>\n",
       "    </tr>\n",
       "    <tr>\n",
       "      <th>4</th>\n",
       "      <td>29C92313A98B1176</td>\n",
       "      <td>2020-12-07 06:18:24</td>\n",
       "      <td>B</td>\n",
       "      <td>login</td>\n",
       "      <td>NaN</td>\n",
       "      <td>NaN</td>\n",
       "      <td>NaN</td>\n",
       "    </tr>\n",
       "    <tr>\n",
       "      <th>...</th>\n",
       "      <td>...</td>\n",
       "      <td>...</td>\n",
       "      <td>...</td>\n",
       "      <td>...</td>\n",
       "      <td>...</td>\n",
       "      <td>...</td>\n",
       "      <td>...</td>\n",
       "    </tr>\n",
       "    <tr>\n",
       "      <th>9501</th>\n",
       "      <td>D21F0D4FDCD82DB2</td>\n",
       "      <td>2020-12-29 02:17:00</td>\n",
       "      <td>A</td>\n",
       "      <td>login</td>\n",
       "      <td>NaN</td>\n",
       "      <td>NaN</td>\n",
       "      <td>NaN</td>\n",
       "    </tr>\n",
       "    <tr>\n",
       "      <th>9502</th>\n",
       "      <td>96BDD55846D1F7F6</td>\n",
       "      <td>2020-12-29 16:53:42</td>\n",
       "      <td>A</td>\n",
       "      <td>login</td>\n",
       "      <td>product_page</td>\n",
       "      <td>NaN</td>\n",
       "      <td>NaN</td>\n",
       "    </tr>\n",
       "    <tr>\n",
       "      <th>9503</th>\n",
       "      <td>553BAE96C6EB6240</td>\n",
       "      <td>2020-12-29 14:09:14</td>\n",
       "      <td>A</td>\n",
       "      <td>login</td>\n",
       "      <td>NaN</td>\n",
       "      <td>NaN</td>\n",
       "      <td>NaN</td>\n",
       "    </tr>\n",
       "    <tr>\n",
       "      <th>9504</th>\n",
       "      <td>DD4352CDCF8C3D57</td>\n",
       "      <td>2020-12-30 12:42:56</td>\n",
       "      <td>B</td>\n",
       "      <td>login</td>\n",
       "      <td>NaN</td>\n",
       "      <td>NaN</td>\n",
       "      <td>NaN</td>\n",
       "    </tr>\n",
       "    <tr>\n",
       "      <th>9505</th>\n",
       "      <td>75845C83258FBF73</td>\n",
       "      <td>2020-12-30 06:42:52</td>\n",
       "      <td>B</td>\n",
       "      <td>login</td>\n",
       "      <td>NaN</td>\n",
       "      <td>NaN</td>\n",
       "      <td>NaN</td>\n",
       "    </tr>\n",
       "  </tbody>\n",
       "</table>\n",
       "<p>9506 rows × 7 columns</p>\n",
       "</div>"
      ],
      "text/plain": [
       "               user_id             event_dt group upd_events_login  \\\n",
       "0     D72A72121175D8BE  2020-12-07 21:52:07     A            login   \n",
       "1     DD4352CDCF8C3D57  2020-12-07 15:32:53     B            login   \n",
       "2     831887FE7F2D6CBA  2020-12-07 06:50:29     A            login   \n",
       "3     4CB179C7F847320B  2020-12-07 01:37:05     B            login   \n",
       "4     29C92313A98B1176  2020-12-07 06:18:24     B            login   \n",
       "...                ...                  ...   ...              ...   \n",
       "9501  D21F0D4FDCD82DB2  2020-12-29 02:17:00     A            login   \n",
       "9502  96BDD55846D1F7F6  2020-12-29 16:53:42     A            login   \n",
       "9503  553BAE96C6EB6240  2020-12-29 14:09:14     A            login   \n",
       "9504  DD4352CDCF8C3D57  2020-12-30 12:42:56     B            login   \n",
       "9505  75845C83258FBF73  2020-12-30 06:42:52     B            login   \n",
       "\n",
       "     upd_events_product_page upd_events_product_cart upd_events_purchase  \n",
       "0                        NaN                     NaN                 NaN  \n",
       "1                        NaN                     NaN                 NaN  \n",
       "2                        NaN                     NaN                 NaN  \n",
       "3                        NaN                     NaN                 NaN  \n",
       "4                        NaN                     NaN                 NaN  \n",
       "...                      ...                     ...                 ...  \n",
       "9501                     NaN                     NaN                 NaN  \n",
       "9502            product_page                     NaN                 NaN  \n",
       "9503                     NaN                     NaN                 NaN  \n",
       "9504                     NaN                     NaN                 NaN  \n",
       "9505                     NaN                     NaN                 NaN  \n",
       "\n",
       "[9506 rows x 7 columns]"
      ]
     },
     "execution_count": 667,
     "metadata": {},
     "output_type": "execute_result"
    }
   ],
   "source": [
    "closed_funnel_approach"
   ]
  },
  {
   "cell_type": "markdown",
   "metadata": {},
   "source": [
    "    Calculating each event by group and saving to a new table, as follows:"
   ]
  },
  {
   "cell_type": "code",
   "execution_count": 668,
   "metadata": {},
   "outputs": [],
   "source": [
    "login_tothe_dist = (closed_funnel_approach.groupby(['group', 'upd_events_login']).nunique()['user_id']).to_frame()\n",
    "tothe_page_dist = (closed_funnel_approach.groupby(['group', 'upd_events_product_page']).nunique()['user_id']).to_frame()\n",
    "cart_tothe_dist = (closed_funnel_approach.groupby(['group', 'upd_events_product_cart']).nunique()['user_id']).to_frame()\n",
    "the_purchase_dist = (closed_funnel_approach.groupby(['group', 'upd_events_purchase']).nunique()['user_id']).to_frame()"
   ]
  },
  {
   "cell_type": "markdown",
   "metadata": {},
   "source": [
    "    Merging all of tables and calculating how many users are in each event, as follows:"
   ]
  },
  {
   "cell_type": "code",
   "execution_count": 669,
   "metadata": {},
   "outputs": [
    {
     "data": {
      "text/html": [
       "<div>\n",
       "<style scoped>\n",
       "    .dataframe tbody tr th:only-of-type {\n",
       "        vertical-align: middle;\n",
       "    }\n",
       "\n",
       "    .dataframe tbody tr th {\n",
       "        vertical-align: top;\n",
       "    }\n",
       "\n",
       "    .dataframe thead th {\n",
       "        text-align: right;\n",
       "    }\n",
       "</style>\n",
       "<table border=\"1\" class=\"dataframe\">\n",
       "  <thead>\n",
       "    <tr style=\"text-align: right;\">\n",
       "      <th></th>\n",
       "      <th>log_user_alpha</th>\n",
       "      <th>page_user_alpha</th>\n",
       "      <th>cart_user_alpha</th>\n",
       "      <th>purch_user_alpha</th>\n",
       "    </tr>\n",
       "    <tr>\n",
       "      <th>group</th>\n",
       "      <th></th>\n",
       "      <th></th>\n",
       "      <th></th>\n",
       "      <th></th>\n",
       "    </tr>\n",
       "  </thead>\n",
       "  <tbody>\n",
       "    <tr>\n",
       "      <th>A</th>\n",
       "      <td>2330</td>\n",
       "      <td>1176</td>\n",
       "      <td>258</td>\n",
       "      <td>183</td>\n",
       "    </tr>\n",
       "    <tr>\n",
       "      <th>B</th>\n",
       "      <td>834</td>\n",
       "      <td>345</td>\n",
       "      <td>67</td>\n",
       "      <td>48</td>\n",
       "    </tr>\n",
       "    <tr>\n",
       "      <th>total</th>\n",
       "      <td>3164</td>\n",
       "      <td>1521</td>\n",
       "      <td>325</td>\n",
       "      <td>231</td>\n",
       "    </tr>\n",
       "  </tbody>\n",
       "</table>\n",
       "</div>"
      ],
      "text/plain": [
       "       log_user_alpha  page_user_alpha  cart_user_alpha  purch_user_alpha\n",
       "group                                                                    \n",
       "A                2330             1176              258               183\n",
       "B                 834              345               67                48\n",
       "total            3164             1521              325               231"
      ]
     },
     "execution_count": 669,
     "metadata": {},
     "output_type": "execute_result"
    }
   ],
   "source": [
    "user_per_group_dist = pd.merge(login_tothe_dist, tothe_page_dist, on='group', suffixes=['_a', '_b']).merge(\n",
    "    cart_tothe_dist, on='group', suffixes=['_b', '_c']).merge(the_purchase_dist, on='group', suffixes=['_c', '_d'])\n",
    "\n",
    "user_per_group_dist = user_per_group_dist.rename(columns={'user_id_a': 'log_user_alpha',\n",
    "                                                          'user_id_b': 'page_user_alpha',\n",
    "                                                          'user_id_c': 'cart_user_alpha',\n",
    "                                                          'user_id_d': 'purch_user_alpha'})\n",
    "\n",
    "user_per_group_dist.loc['total'] = user_per_group_dist.sum()\n",
    "user_per_group_dist"
   ]
  },
  {
   "cell_type": "markdown",
   "metadata": {},
   "source": [
    "    Permuting the table, as follows:"
   ]
  },
  {
   "cell_type": "code",
   "execution_count": 670,
   "metadata": {},
   "outputs": [
    {
     "data": {
      "text/html": [
       "<div>\n",
       "<style scoped>\n",
       "    .dataframe tbody tr th:only-of-type {\n",
       "        vertical-align: middle;\n",
       "    }\n",
       "\n",
       "    .dataframe tbody tr th {\n",
       "        vertical-align: top;\n",
       "    }\n",
       "\n",
       "    .dataframe thead th {\n",
       "        text-align: right;\n",
       "    }\n",
       "</style>\n",
       "<table border=\"1\" class=\"dataframe\">\n",
       "  <thead>\n",
       "    <tr style=\"text-align: right;\">\n",
       "      <th>group</th>\n",
       "      <th>A</th>\n",
       "      <th>B</th>\n",
       "      <th>total</th>\n",
       "    </tr>\n",
       "  </thead>\n",
       "  <tbody>\n",
       "    <tr>\n",
       "      <th>log_user_alpha</th>\n",
       "      <td>2330</td>\n",
       "      <td>834</td>\n",
       "      <td>3164</td>\n",
       "    </tr>\n",
       "    <tr>\n",
       "      <th>page_user_alpha</th>\n",
       "      <td>1176</td>\n",
       "      <td>345</td>\n",
       "      <td>1521</td>\n",
       "    </tr>\n",
       "    <tr>\n",
       "      <th>cart_user_alpha</th>\n",
       "      <td>258</td>\n",
       "      <td>67</td>\n",
       "      <td>325</td>\n",
       "    </tr>\n",
       "    <tr>\n",
       "      <th>purch_user_alpha</th>\n",
       "      <td>183</td>\n",
       "      <td>48</td>\n",
       "      <td>231</td>\n",
       "    </tr>\n",
       "  </tbody>\n",
       "</table>\n",
       "</div>"
      ],
      "text/plain": [
       "group                A    B  total\n",
       "log_user_alpha    2330  834   3164\n",
       "page_user_alpha   1176  345   1521\n",
       "cart_user_alpha    258   67    325\n",
       "purch_user_alpha   183   48    231"
      ]
     },
     "execution_count": 670,
     "metadata": {},
     "output_type": "execute_result"
    }
   ],
   "source": [
    "user_per_group_dist = user_per_group_dist.T\n",
    "user_per_group_dist = user_per_group_dist.rename(columns={'index': 'event_name'}) \n",
    "user_per_group_dist"
   ]
  },
  {
   "cell_type": "markdown",
   "metadata": {},
   "source": [
    "    Calculating the percentage of the distribution, as follows:"
   ]
  },
  {
   "cell_type": "code",
   "execution_count": 671,
   "metadata": {},
   "outputs": [
    {
     "data": {
      "text/html": [
       "<div>\n",
       "<style scoped>\n",
       "    .dataframe tbody tr th:only-of-type {\n",
       "        vertical-align: middle;\n",
       "    }\n",
       "\n",
       "    .dataframe tbody tr th {\n",
       "        vertical-align: top;\n",
       "    }\n",
       "\n",
       "    .dataframe thead th {\n",
       "        text-align: right;\n",
       "    }\n",
       "</style>\n",
       "<table border=\"1\" class=\"dataframe\">\n",
       "  <thead>\n",
       "    <tr style=\"text-align: right;\">\n",
       "      <th>group</th>\n",
       "      <th>A</th>\n",
       "      <th>B</th>\n",
       "      <th>total</th>\n",
       "      <th>%A</th>\n",
       "      <th>%B</th>\n",
       "    </tr>\n",
       "  </thead>\n",
       "  <tbody>\n",
       "    <tr>\n",
       "      <th>log_user_alpha</th>\n",
       "      <td>2330</td>\n",
       "      <td>834</td>\n",
       "      <td>3164</td>\n",
       "      <td>0.736410</td>\n",
       "      <td>0.263590</td>\n",
       "    </tr>\n",
       "    <tr>\n",
       "      <th>page_user_alpha</th>\n",
       "      <td>1176</td>\n",
       "      <td>345</td>\n",
       "      <td>1521</td>\n",
       "      <td>0.773176</td>\n",
       "      <td>0.226824</td>\n",
       "    </tr>\n",
       "    <tr>\n",
       "      <th>cart_user_alpha</th>\n",
       "      <td>258</td>\n",
       "      <td>67</td>\n",
       "      <td>325</td>\n",
       "      <td>0.793846</td>\n",
       "      <td>0.206154</td>\n",
       "    </tr>\n",
       "    <tr>\n",
       "      <th>purch_user_alpha</th>\n",
       "      <td>183</td>\n",
       "      <td>48</td>\n",
       "      <td>231</td>\n",
       "      <td>0.792208</td>\n",
       "      <td>0.207792</td>\n",
       "    </tr>\n",
       "  </tbody>\n",
       "</table>\n",
       "</div>"
      ],
      "text/plain": [
       "group                A    B  total        %A        %B\n",
       "log_user_alpha    2330  834   3164  0.736410  0.263590\n",
       "page_user_alpha   1176  345   1521  0.773176  0.226824\n",
       "cart_user_alpha    258   67    325  0.793846  0.206154\n",
       "purch_user_alpha   183   48    231  0.792208  0.207792"
      ]
     },
     "execution_count": 671,
     "metadata": {},
     "output_type": "execute_result"
    }
   ],
   "source": [
    "user_per_group_dist['%A'] = user_per_group_dist['A'] / user_per_group_dist['total']\n",
    "user_per_group_dist['%B'] = user_per_group_dist['B'] / user_per_group_dist['total']\n",
    "user_per_group_dist"
   ]
  },
  {
   "cell_type": "markdown",
   "metadata": {},
   "source": [
    "    Calculating the average of the distribution in each group, as follows:"
   ]
  },
  {
   "cell_type": "code",
   "execution_count": 672,
   "metadata": {},
   "outputs": [
    {
     "data": {
      "text/plain": [
       "(0.7739097741378205, 0.22609022586217958)"
      ]
     },
     "execution_count": 672,
     "metadata": {},
     "output_type": "execute_result"
    }
   ],
   "source": [
    "user_per_group_dist['%A'].mean(), user_per_group_dist['%B'].mean()"
   ]
  },
  {
   "cell_type": "markdown",
   "metadata": {},
   "source": [
    "    Findings:\n",
    "    \n",
    "    - The distribution average of events per user is 77.3% in Group A and 22.6% in Group B which distributed prevalently in each event."
   ]
  },
  {
   "cell_type": "markdown",
   "metadata": {},
   "source": [
    "[Back to Contents](#tableofcontents)"
   ]
  },
  {
   "cell_type": "markdown",
   "metadata": {},
   "source": [
    "### Learning Whether The Users who Enter Both Samples"
   ]
  },
  {
   "cell_type": "markdown",
   "metadata": {},
   "source": [
    "    First, we will take a look at the table of 'closed_funnel_approach', as follows:"
   ]
  },
  {
   "cell_type": "code",
   "execution_count": 673,
   "metadata": {},
   "outputs": [
    {
     "data": {
      "text/html": [
       "<div>\n",
       "<style scoped>\n",
       "    .dataframe tbody tr th:only-of-type {\n",
       "        vertical-align: middle;\n",
       "    }\n",
       "\n",
       "    .dataframe tbody tr th {\n",
       "        vertical-align: top;\n",
       "    }\n",
       "\n",
       "    .dataframe thead th {\n",
       "        text-align: right;\n",
       "    }\n",
       "</style>\n",
       "<table border=\"1\" class=\"dataframe\">\n",
       "  <thead>\n",
       "    <tr style=\"text-align: right;\">\n",
       "      <th></th>\n",
       "      <th>user_id</th>\n",
       "      <th>event_dt</th>\n",
       "      <th>group</th>\n",
       "      <th>upd_events_login</th>\n",
       "      <th>upd_events_product_page</th>\n",
       "      <th>upd_events_product_cart</th>\n",
       "      <th>upd_events_purchase</th>\n",
       "    </tr>\n",
       "  </thead>\n",
       "  <tbody>\n",
       "    <tr>\n",
       "      <th>0</th>\n",
       "      <td>D72A72121175D8BE</td>\n",
       "      <td>2020-12-07 21:52:07</td>\n",
       "      <td>A</td>\n",
       "      <td>login</td>\n",
       "      <td>NaN</td>\n",
       "      <td>NaN</td>\n",
       "      <td>NaN</td>\n",
       "    </tr>\n",
       "    <tr>\n",
       "      <th>1</th>\n",
       "      <td>DD4352CDCF8C3D57</td>\n",
       "      <td>2020-12-07 15:32:53</td>\n",
       "      <td>B</td>\n",
       "      <td>login</td>\n",
       "      <td>NaN</td>\n",
       "      <td>NaN</td>\n",
       "      <td>NaN</td>\n",
       "    </tr>\n",
       "    <tr>\n",
       "      <th>2</th>\n",
       "      <td>831887FE7F2D6CBA</td>\n",
       "      <td>2020-12-07 06:50:29</td>\n",
       "      <td>A</td>\n",
       "      <td>login</td>\n",
       "      <td>NaN</td>\n",
       "      <td>NaN</td>\n",
       "      <td>NaN</td>\n",
       "    </tr>\n",
       "    <tr>\n",
       "      <th>3</th>\n",
       "      <td>4CB179C7F847320B</td>\n",
       "      <td>2020-12-07 01:37:05</td>\n",
       "      <td>B</td>\n",
       "      <td>login</td>\n",
       "      <td>NaN</td>\n",
       "      <td>NaN</td>\n",
       "      <td>NaN</td>\n",
       "    </tr>\n",
       "    <tr>\n",
       "      <th>4</th>\n",
       "      <td>29C92313A98B1176</td>\n",
       "      <td>2020-12-07 06:18:24</td>\n",
       "      <td>B</td>\n",
       "      <td>login</td>\n",
       "      <td>NaN</td>\n",
       "      <td>NaN</td>\n",
       "      <td>NaN</td>\n",
       "    </tr>\n",
       "    <tr>\n",
       "      <th>...</th>\n",
       "      <td>...</td>\n",
       "      <td>...</td>\n",
       "      <td>...</td>\n",
       "      <td>...</td>\n",
       "      <td>...</td>\n",
       "      <td>...</td>\n",
       "      <td>...</td>\n",
       "    </tr>\n",
       "    <tr>\n",
       "      <th>9501</th>\n",
       "      <td>D21F0D4FDCD82DB2</td>\n",
       "      <td>2020-12-29 02:17:00</td>\n",
       "      <td>A</td>\n",
       "      <td>login</td>\n",
       "      <td>NaN</td>\n",
       "      <td>NaN</td>\n",
       "      <td>NaN</td>\n",
       "    </tr>\n",
       "    <tr>\n",
       "      <th>9502</th>\n",
       "      <td>96BDD55846D1F7F6</td>\n",
       "      <td>2020-12-29 16:53:42</td>\n",
       "      <td>A</td>\n",
       "      <td>login</td>\n",
       "      <td>product_page</td>\n",
       "      <td>NaN</td>\n",
       "      <td>NaN</td>\n",
       "    </tr>\n",
       "    <tr>\n",
       "      <th>9503</th>\n",
       "      <td>553BAE96C6EB6240</td>\n",
       "      <td>2020-12-29 14:09:14</td>\n",
       "      <td>A</td>\n",
       "      <td>login</td>\n",
       "      <td>NaN</td>\n",
       "      <td>NaN</td>\n",
       "      <td>NaN</td>\n",
       "    </tr>\n",
       "    <tr>\n",
       "      <th>9504</th>\n",
       "      <td>DD4352CDCF8C3D57</td>\n",
       "      <td>2020-12-30 12:42:56</td>\n",
       "      <td>B</td>\n",
       "      <td>login</td>\n",
       "      <td>NaN</td>\n",
       "      <td>NaN</td>\n",
       "      <td>NaN</td>\n",
       "    </tr>\n",
       "    <tr>\n",
       "      <th>9505</th>\n",
       "      <td>75845C83258FBF73</td>\n",
       "      <td>2020-12-30 06:42:52</td>\n",
       "      <td>B</td>\n",
       "      <td>login</td>\n",
       "      <td>NaN</td>\n",
       "      <td>NaN</td>\n",
       "      <td>NaN</td>\n",
       "    </tr>\n",
       "  </tbody>\n",
       "</table>\n",
       "<p>9506 rows × 7 columns</p>\n",
       "</div>"
      ],
      "text/plain": [
       "               user_id             event_dt group upd_events_login  \\\n",
       "0     D72A72121175D8BE  2020-12-07 21:52:07     A            login   \n",
       "1     DD4352CDCF8C3D57  2020-12-07 15:32:53     B            login   \n",
       "2     831887FE7F2D6CBA  2020-12-07 06:50:29     A            login   \n",
       "3     4CB179C7F847320B  2020-12-07 01:37:05     B            login   \n",
       "4     29C92313A98B1176  2020-12-07 06:18:24     B            login   \n",
       "...                ...                  ...   ...              ...   \n",
       "9501  D21F0D4FDCD82DB2  2020-12-29 02:17:00     A            login   \n",
       "9502  96BDD55846D1F7F6  2020-12-29 16:53:42     A            login   \n",
       "9503  553BAE96C6EB6240  2020-12-29 14:09:14     A            login   \n",
       "9504  DD4352CDCF8C3D57  2020-12-30 12:42:56     B            login   \n",
       "9505  75845C83258FBF73  2020-12-30 06:42:52     B            login   \n",
       "\n",
       "     upd_events_product_page upd_events_product_cart upd_events_purchase  \n",
       "0                        NaN                     NaN                 NaN  \n",
       "1                        NaN                     NaN                 NaN  \n",
       "2                        NaN                     NaN                 NaN  \n",
       "3                        NaN                     NaN                 NaN  \n",
       "4                        NaN                     NaN                 NaN  \n",
       "...                      ...                     ...                 ...  \n",
       "9501                     NaN                     NaN                 NaN  \n",
       "9502            product_page                     NaN                 NaN  \n",
       "9503                     NaN                     NaN                 NaN  \n",
       "9504                     NaN                     NaN                 NaN  \n",
       "9505                     NaN                     NaN                 NaN  \n",
       "\n",
       "[9506 rows x 7 columns]"
      ]
     },
     "execution_count": 673,
     "metadata": {},
     "output_type": "execute_result"
    }
   ],
   "source": [
    "closed_funnel_approach"
   ]
  },
  {
   "cell_type": "markdown",
   "metadata": {},
   "source": [
    "    Spliting data based on the group column, as follows:"
   ]
  },
  {
   "cell_type": "code",
   "execution_count": 675,
   "metadata": {},
   "outputs": [],
   "source": [
    "group_a_yes = closed_funnel_approach.loc[closed_funnel_approach['group'] == 'A']\n",
    "group_b_yes = closed_funnel_approach.loc[closed_funnel_approach['group'] == 'B']"
   ]
  },
  {
   "cell_type": "markdown",
   "metadata": {},
   "source": [
    "    Now, we will see the 'group_a_yes' table and drop the columns that we do not need, as follows:"
   ]
  },
  {
   "cell_type": "code",
   "execution_count": 676,
   "metadata": {},
   "outputs": [
    {
     "data": {
      "text/html": [
       "<div>\n",
       "<style scoped>\n",
       "    .dataframe tbody tr th:only-of-type {\n",
       "        vertical-align: middle;\n",
       "    }\n",
       "\n",
       "    .dataframe tbody tr th {\n",
       "        vertical-align: top;\n",
       "    }\n",
       "\n",
       "    .dataframe thead th {\n",
       "        text-align: right;\n",
       "    }\n",
       "</style>\n",
       "<table border=\"1\" class=\"dataframe\">\n",
       "  <thead>\n",
       "    <tr style=\"text-align: right;\">\n",
       "      <th></th>\n",
       "      <th>user_id</th>\n",
       "      <th>group</th>\n",
       "    </tr>\n",
       "  </thead>\n",
       "  <tbody>\n",
       "    <tr>\n",
       "      <th>0</th>\n",
       "      <td>D72A72121175D8BE</td>\n",
       "      <td>A</td>\n",
       "    </tr>\n",
       "    <tr>\n",
       "      <th>2</th>\n",
       "      <td>831887FE7F2D6CBA</td>\n",
       "      <td>A</td>\n",
       "    </tr>\n",
       "    <tr>\n",
       "      <th>6</th>\n",
       "      <td>3C5DD0288AC4FE23</td>\n",
       "      <td>A</td>\n",
       "    </tr>\n",
       "    <tr>\n",
       "      <th>7</th>\n",
       "      <td>B27F5380AF0936D3</td>\n",
       "      <td>A</td>\n",
       "    </tr>\n",
       "    <tr>\n",
       "      <th>9</th>\n",
       "      <td>ABABE1BAB6C77540</td>\n",
       "      <td>A</td>\n",
       "    </tr>\n",
       "    <tr>\n",
       "      <th>...</th>\n",
       "      <td>...</td>\n",
       "      <td>...</td>\n",
       "    </tr>\n",
       "    <tr>\n",
       "      <th>9499</th>\n",
       "      <td>36EDA624DB7B7F90</td>\n",
       "      <td>A</td>\n",
       "    </tr>\n",
       "    <tr>\n",
       "      <th>9500</th>\n",
       "      <td>E5589EAE02ACD150</td>\n",
       "      <td>A</td>\n",
       "    </tr>\n",
       "    <tr>\n",
       "      <th>9501</th>\n",
       "      <td>D21F0D4FDCD82DB2</td>\n",
       "      <td>A</td>\n",
       "    </tr>\n",
       "    <tr>\n",
       "      <th>9502</th>\n",
       "      <td>96BDD55846D1F7F6</td>\n",
       "      <td>A</td>\n",
       "    </tr>\n",
       "    <tr>\n",
       "      <th>9503</th>\n",
       "      <td>553BAE96C6EB6240</td>\n",
       "      <td>A</td>\n",
       "    </tr>\n",
       "  </tbody>\n",
       "</table>\n",
       "<p>7142 rows × 2 columns</p>\n",
       "</div>"
      ],
      "text/plain": [
       "               user_id group\n",
       "0     D72A72121175D8BE     A\n",
       "2     831887FE7F2D6CBA     A\n",
       "6     3C5DD0288AC4FE23     A\n",
       "7     B27F5380AF0936D3     A\n",
       "9     ABABE1BAB6C77540     A\n",
       "...                ...   ...\n",
       "9499  36EDA624DB7B7F90     A\n",
       "9500  E5589EAE02ACD150     A\n",
       "9501  D21F0D4FDCD82DB2     A\n",
       "9502  96BDD55846D1F7F6     A\n",
       "9503  553BAE96C6EB6240     A\n",
       "\n",
       "[7142 rows x 2 columns]"
      ]
     },
     "execution_count": 676,
     "metadata": {},
     "output_type": "execute_result"
    }
   ],
   "source": [
    "group_a_yes.drop(['event_dt', 'upd_events_login', 'upd_events_product_page', 'upd_events_product_cart', 'upd_events_purchase'\n",
    "             ], axis=1, inplace=True)\n",
    "group_a_yes"
   ]
  },
  {
   "cell_type": "markdown",
   "metadata": {},
   "source": [
    "    Taking a look of the 'group_b_yes' table and drop the columns that we do not need, as follows:"
   ]
  },
  {
   "cell_type": "code",
   "execution_count": 677,
   "metadata": {},
   "outputs": [
    {
     "data": {
      "text/html": [
       "<div>\n",
       "<style scoped>\n",
       "    .dataframe tbody tr th:only-of-type {\n",
       "        vertical-align: middle;\n",
       "    }\n",
       "\n",
       "    .dataframe tbody tr th {\n",
       "        vertical-align: top;\n",
       "    }\n",
       "\n",
       "    .dataframe thead th {\n",
       "        text-align: right;\n",
       "    }\n",
       "</style>\n",
       "<table border=\"1\" class=\"dataframe\">\n",
       "  <thead>\n",
       "    <tr style=\"text-align: right;\">\n",
       "      <th></th>\n",
       "      <th>user_id</th>\n",
       "      <th>group</th>\n",
       "    </tr>\n",
       "  </thead>\n",
       "  <tbody>\n",
       "    <tr>\n",
       "      <th>1</th>\n",
       "      <td>DD4352CDCF8C3D57</td>\n",
       "      <td>B</td>\n",
       "    </tr>\n",
       "    <tr>\n",
       "      <th>3</th>\n",
       "      <td>4CB179C7F847320B</td>\n",
       "      <td>B</td>\n",
       "    </tr>\n",
       "    <tr>\n",
       "      <th>4</th>\n",
       "      <td>29C92313A98B1176</td>\n",
       "      <td>B</td>\n",
       "    </tr>\n",
       "    <tr>\n",
       "      <th>5</th>\n",
       "      <td>7D1BFB181017EB46</td>\n",
       "      <td>B</td>\n",
       "    </tr>\n",
       "    <tr>\n",
       "      <th>8</th>\n",
       "      <td>21EA4E846C63EEA2</td>\n",
       "      <td>B</td>\n",
       "    </tr>\n",
       "    <tr>\n",
       "      <th>...</th>\n",
       "      <td>...</td>\n",
       "      <td>...</td>\n",
       "    </tr>\n",
       "    <tr>\n",
       "      <th>9483</th>\n",
       "      <td>2C041C5AE92FC133</td>\n",
       "      <td>B</td>\n",
       "    </tr>\n",
       "    <tr>\n",
       "      <th>9489</th>\n",
       "      <td>154228E9B2DA7F16</td>\n",
       "      <td>B</td>\n",
       "    </tr>\n",
       "    <tr>\n",
       "      <th>9491</th>\n",
       "      <td>2905EDBC782A9E69</td>\n",
       "      <td>B</td>\n",
       "    </tr>\n",
       "    <tr>\n",
       "      <th>9504</th>\n",
       "      <td>DD4352CDCF8C3D57</td>\n",
       "      <td>B</td>\n",
       "    </tr>\n",
       "    <tr>\n",
       "      <th>9505</th>\n",
       "      <td>75845C83258FBF73</td>\n",
       "      <td>B</td>\n",
       "    </tr>\n",
       "  </tbody>\n",
       "</table>\n",
       "<p>2364 rows × 2 columns</p>\n",
       "</div>"
      ],
      "text/plain": [
       "               user_id group\n",
       "1     DD4352CDCF8C3D57     B\n",
       "3     4CB179C7F847320B     B\n",
       "4     29C92313A98B1176     B\n",
       "5     7D1BFB181017EB46     B\n",
       "8     21EA4E846C63EEA2     B\n",
       "...                ...   ...\n",
       "9483  2C041C5AE92FC133     B\n",
       "9489  154228E9B2DA7F16     B\n",
       "9491  2905EDBC782A9E69     B\n",
       "9504  DD4352CDCF8C3D57     B\n",
       "9505  75845C83258FBF73     B\n",
       "\n",
       "[2364 rows x 2 columns]"
      ]
     },
     "execution_count": 677,
     "metadata": {},
     "output_type": "execute_result"
    }
   ],
   "source": [
    "group_b_yes.drop(['event_dt', 'upd_events_login', 'upd_events_product_page', 'upd_events_product_cart', 'upd_events_purchase', \n",
    "              ], axis=1, inplace=True)\n",
    "group_b_yes"
   ]
  },
  {
   "cell_type": "markdown",
   "metadata": {},
   "source": [
    "    Merging both tables of 'group_a_yes' and 'group_b_yes', as follows:"
   ]
  },
  {
   "cell_type": "code",
   "execution_count": 678,
   "metadata": {},
   "outputs": [
    {
     "data": {
      "text/html": [
       "<div>\n",
       "<style scoped>\n",
       "    .dataframe tbody tr th:only-of-type {\n",
       "        vertical-align: middle;\n",
       "    }\n",
       "\n",
       "    .dataframe tbody tr th {\n",
       "        vertical-align: top;\n",
       "    }\n",
       "\n",
       "    .dataframe thead th {\n",
       "        text-align: right;\n",
       "    }\n",
       "</style>\n",
       "<table border=\"1\" class=\"dataframe\">\n",
       "  <thead>\n",
       "    <tr style=\"text-align: right;\">\n",
       "      <th></th>\n",
       "      <th>user_id</th>\n",
       "      <th>group_a</th>\n",
       "      <th>group_b</th>\n",
       "    </tr>\n",
       "  </thead>\n",
       "  <tbody>\n",
       "    <tr>\n",
       "      <th>0</th>\n",
       "      <td>D72A72121175D8BE</td>\n",
       "      <td>A</td>\n",
       "      <td>NaN</td>\n",
       "    </tr>\n",
       "    <tr>\n",
       "      <th>1</th>\n",
       "      <td>831887FE7F2D6CBA</td>\n",
       "      <td>A</td>\n",
       "      <td>NaN</td>\n",
       "    </tr>\n",
       "    <tr>\n",
       "      <th>2</th>\n",
       "      <td>831887FE7F2D6CBA</td>\n",
       "      <td>A</td>\n",
       "      <td>NaN</td>\n",
       "    </tr>\n",
       "    <tr>\n",
       "      <th>3</th>\n",
       "      <td>831887FE7F2D6CBA</td>\n",
       "      <td>A</td>\n",
       "      <td>NaN</td>\n",
       "    </tr>\n",
       "    <tr>\n",
       "      <th>4</th>\n",
       "      <td>3C5DD0288AC4FE23</td>\n",
       "      <td>A</td>\n",
       "      <td>NaN</td>\n",
       "    </tr>\n",
       "    <tr>\n",
       "      <th>...</th>\n",
       "      <td>...</td>\n",
       "      <td>...</td>\n",
       "      <td>...</td>\n",
       "    </tr>\n",
       "    <tr>\n",
       "      <th>9501</th>\n",
       "      <td>87C4963DF01E3B3C</td>\n",
       "      <td>NaN</td>\n",
       "      <td>B</td>\n",
       "    </tr>\n",
       "    <tr>\n",
       "      <th>9502</th>\n",
       "      <td>A09DFE27D4CFF8E8</td>\n",
       "      <td>NaN</td>\n",
       "      <td>B</td>\n",
       "    </tr>\n",
       "    <tr>\n",
       "      <th>9503</th>\n",
       "      <td>A09DFE27D4CFF8E8</td>\n",
       "      <td>NaN</td>\n",
       "      <td>B</td>\n",
       "    </tr>\n",
       "    <tr>\n",
       "      <th>9504</th>\n",
       "      <td>A09DFE27D4CFF8E8</td>\n",
       "      <td>NaN</td>\n",
       "      <td>B</td>\n",
       "    </tr>\n",
       "    <tr>\n",
       "      <th>9505</th>\n",
       "      <td>A09DFE27D4CFF8E8</td>\n",
       "      <td>NaN</td>\n",
       "      <td>B</td>\n",
       "    </tr>\n",
       "  </tbody>\n",
       "</table>\n",
       "<p>9506 rows × 3 columns</p>\n",
       "</div>"
      ],
      "text/plain": [
       "               user_id group_a group_b\n",
       "0     D72A72121175D8BE       A     NaN\n",
       "1     831887FE7F2D6CBA       A     NaN\n",
       "2     831887FE7F2D6CBA       A     NaN\n",
       "3     831887FE7F2D6CBA       A     NaN\n",
       "4     3C5DD0288AC4FE23       A     NaN\n",
       "...                ...     ...     ...\n",
       "9501  87C4963DF01E3B3C     NaN       B\n",
       "9502  A09DFE27D4CFF8E8     NaN       B\n",
       "9503  A09DFE27D4CFF8E8     NaN       B\n",
       "9504  A09DFE27D4CFF8E8     NaN       B\n",
       "9505  A09DFE27D4CFF8E8     NaN       B\n",
       "\n",
       "[9506 rows x 3 columns]"
      ]
     },
     "execution_count": 678,
     "metadata": {},
     "output_type": "execute_result"
    }
   ],
   "source": [
    "a_b_group_yes = group_a_yes.merge(group_b_yes, on='user_id', how='outer',  suffixes=['_a', '_b'])\n",
    "a_b_group_yes"
   ]
  },
  {
   "cell_type": "markdown",
   "metadata": {},
   "source": [
    "    Ensuring for duplicate data, as follows:"
   ]
  },
  {
   "cell_type": "code",
   "execution_count": 679,
   "metadata": {},
   "outputs": [
    {
     "data": {
      "text/plain": [
       "6342"
      ]
     },
     "execution_count": 679,
     "metadata": {},
     "output_type": "execute_result"
    }
   ],
   "source": [
    "a_b_group_yes.duplicated().sum()"
   ]
  },
  {
   "cell_type": "markdown",
   "metadata": {},
   "source": [
    "    Removing the duplicate data, as follows:"
   ]
  },
  {
   "cell_type": "code",
   "execution_count": 680,
   "metadata": {},
   "outputs": [],
   "source": [
    "a_b_group_yes = a_b_group_yes.drop_duplicates().reset_index(drop=True)"
   ]
  },
  {
   "cell_type": "markdown",
   "metadata": {},
   "source": [
    "    Ensuring datas after removing the duplicate data, as follows:"
   ]
  },
  {
   "cell_type": "code",
   "execution_count": 681,
   "metadata": {},
   "outputs": [
    {
     "data": {
      "text/plain": [
       "0"
      ]
     },
     "execution_count": 681,
     "metadata": {},
     "output_type": "execute_result"
    }
   ],
   "source": [
    "a_b_group_yes.duplicated().sum()"
   ]
  },
  {
   "cell_type": "markdown",
   "metadata": {},
   "source": [
    "    We are going to see the description the 'a_b_group_yes' table, as follows:"
   ]
  },
  {
   "cell_type": "code",
   "execution_count": 682,
   "metadata": {},
   "outputs": [
    {
     "data": {
      "text/html": [
       "<div>\n",
       "<style scoped>\n",
       "    .dataframe tbody tr th:only-of-type {\n",
       "        vertical-align: middle;\n",
       "    }\n",
       "\n",
       "    .dataframe tbody tr th {\n",
       "        vertical-align: top;\n",
       "    }\n",
       "\n",
       "    .dataframe thead th {\n",
       "        text-align: right;\n",
       "    }\n",
       "</style>\n",
       "<table border=\"1\" class=\"dataframe\">\n",
       "  <thead>\n",
       "    <tr style=\"text-align: right;\">\n",
       "      <th></th>\n",
       "      <th>user_id</th>\n",
       "      <th>group_a</th>\n",
       "      <th>group_b</th>\n",
       "    </tr>\n",
       "  </thead>\n",
       "  <tbody>\n",
       "    <tr>\n",
       "      <th>count</th>\n",
       "      <td>3164</td>\n",
       "      <td>2330</td>\n",
       "      <td>834</td>\n",
       "    </tr>\n",
       "    <tr>\n",
       "      <th>unique</th>\n",
       "      <td>3164</td>\n",
       "      <td>1</td>\n",
       "      <td>1</td>\n",
       "    </tr>\n",
       "    <tr>\n",
       "      <th>top</th>\n",
       "      <td>3B3AE26404B64EF2</td>\n",
       "      <td>A</td>\n",
       "      <td>B</td>\n",
       "    </tr>\n",
       "    <tr>\n",
       "      <th>freq</th>\n",
       "      <td>1</td>\n",
       "      <td>2330</td>\n",
       "      <td>834</td>\n",
       "    </tr>\n",
       "  </tbody>\n",
       "</table>\n",
       "</div>"
      ],
      "text/plain": [
       "                 user_id group_a group_b\n",
       "count               3164    2330     834\n",
       "unique              3164       1       1\n",
       "top     3B3AE26404B64EF2       A       B\n",
       "freq                   1    2330     834"
      ]
     },
     "execution_count": 682,
     "metadata": {},
     "output_type": "execute_result"
    }
   ],
   "source": [
    "a_b_group_yes.describe()"
   ]
  },
  {
   "cell_type": "code",
   "execution_count": 683,
   "metadata": {},
   "outputs": [
    {
     "data": {
      "text/html": [
       "<div>\n",
       "<style scoped>\n",
       "    .dataframe tbody tr th:only-of-type {\n",
       "        vertical-align: middle;\n",
       "    }\n",
       "\n",
       "    .dataframe tbody tr th {\n",
       "        vertical-align: top;\n",
       "    }\n",
       "\n",
       "    .dataframe thead th {\n",
       "        text-align: right;\n",
       "    }\n",
       "</style>\n",
       "<table border=\"1\" class=\"dataframe\">\n",
       "  <thead>\n",
       "    <tr style=\"text-align: right;\">\n",
       "      <th></th>\n",
       "      <th>total_users</th>\n",
       "    </tr>\n",
       "  </thead>\n",
       "  <tbody>\n",
       "    <tr>\n",
       "      <th>A</th>\n",
       "      <td>2330</td>\n",
       "    </tr>\n",
       "    <tr>\n",
       "      <th>B</th>\n",
       "      <td>834</td>\n",
       "    </tr>\n",
       "  </tbody>\n",
       "</table>\n",
       "</div>"
      ],
      "text/plain": [
       "   total_users\n",
       "A         2330\n",
       "B          834"
      ]
     },
     "execution_count": 683,
     "metadata": {},
     "output_type": "execute_result"
    }
   ],
   "source": [
    "notes1 = [a_b_group_yes['group_a'].count()]\n",
    "notes2 = [a_b_group_yes['group_b'].count()]\n",
    "dict = {'A': notes1, 'B': notes2} \n",
    "    \n",
    "total_user_per_group_oke = pd.DataFrame(dict)\n",
    "total_user_per_group_oke = total_user_per_group_oke.T\n",
    "total_user_per_group_oke = total_user_per_group_oke.rename(columns={0: 'total_users'})\n",
    "total_user_per_group_oke"
   ]
  },
  {
   "cell_type": "markdown",
   "metadata": {},
   "source": [
    "    Findings:\n",
    "    \n",
    "    - There are no dual users in either sample.\n",
    "    - From the table result above, the total of Group A ('group_a') is 2330 users, and the total of Group B ('group_b') is 834 users. It is equal to 3164 users in 'user_id' column ('log_user_alpha' column)."
   ]
  },
  {
   "cell_type": "markdown",
   "metadata": {},
   "source": [
    "[Back to Contents](#tableofcontents)"
   ]
  },
  {
   "cell_type": "markdown",
   "metadata": {},
   "source": [
    "### Learning How Is The Number of Events Distributed by Days"
   ]
  },
  {
   "cell_type": "markdown",
   "metadata": {},
   "source": [
    "    First, we will take a look at the 'closed_funnel_approach' table, as follows:"
   ]
  },
  {
   "cell_type": "code",
   "execution_count": 684,
   "metadata": {},
   "outputs": [
    {
     "data": {
      "text/html": [
       "<div>\n",
       "<style scoped>\n",
       "    .dataframe tbody tr th:only-of-type {\n",
       "        vertical-align: middle;\n",
       "    }\n",
       "\n",
       "    .dataframe tbody tr th {\n",
       "        vertical-align: top;\n",
       "    }\n",
       "\n",
       "    .dataframe thead th {\n",
       "        text-align: right;\n",
       "    }\n",
       "</style>\n",
       "<table border=\"1\" class=\"dataframe\">\n",
       "  <thead>\n",
       "    <tr style=\"text-align: right;\">\n",
       "      <th></th>\n",
       "      <th>user_id</th>\n",
       "      <th>event_dt</th>\n",
       "      <th>group</th>\n",
       "      <th>upd_events_login</th>\n",
       "      <th>upd_events_product_page</th>\n",
       "      <th>upd_events_product_cart</th>\n",
       "      <th>upd_events_purchase</th>\n",
       "    </tr>\n",
       "  </thead>\n",
       "  <tbody>\n",
       "    <tr>\n",
       "      <th>0</th>\n",
       "      <td>D72A72121175D8BE</td>\n",
       "      <td>2020-12-07 21:52:07</td>\n",
       "      <td>A</td>\n",
       "      <td>login</td>\n",
       "      <td>NaN</td>\n",
       "      <td>NaN</td>\n",
       "      <td>NaN</td>\n",
       "    </tr>\n",
       "    <tr>\n",
       "      <th>1</th>\n",
       "      <td>DD4352CDCF8C3D57</td>\n",
       "      <td>2020-12-07 15:32:53</td>\n",
       "      <td>B</td>\n",
       "      <td>login</td>\n",
       "      <td>NaN</td>\n",
       "      <td>NaN</td>\n",
       "      <td>NaN</td>\n",
       "    </tr>\n",
       "    <tr>\n",
       "      <th>2</th>\n",
       "      <td>831887FE7F2D6CBA</td>\n",
       "      <td>2020-12-07 06:50:29</td>\n",
       "      <td>A</td>\n",
       "      <td>login</td>\n",
       "      <td>NaN</td>\n",
       "      <td>NaN</td>\n",
       "      <td>NaN</td>\n",
       "    </tr>\n",
       "    <tr>\n",
       "      <th>3</th>\n",
       "      <td>4CB179C7F847320B</td>\n",
       "      <td>2020-12-07 01:37:05</td>\n",
       "      <td>B</td>\n",
       "      <td>login</td>\n",
       "      <td>NaN</td>\n",
       "      <td>NaN</td>\n",
       "      <td>NaN</td>\n",
       "    </tr>\n",
       "    <tr>\n",
       "      <th>4</th>\n",
       "      <td>29C92313A98B1176</td>\n",
       "      <td>2020-12-07 06:18:24</td>\n",
       "      <td>B</td>\n",
       "      <td>login</td>\n",
       "      <td>NaN</td>\n",
       "      <td>NaN</td>\n",
       "      <td>NaN</td>\n",
       "    </tr>\n",
       "    <tr>\n",
       "      <th>...</th>\n",
       "      <td>...</td>\n",
       "      <td>...</td>\n",
       "      <td>...</td>\n",
       "      <td>...</td>\n",
       "      <td>...</td>\n",
       "      <td>...</td>\n",
       "      <td>...</td>\n",
       "    </tr>\n",
       "    <tr>\n",
       "      <th>9501</th>\n",
       "      <td>D21F0D4FDCD82DB2</td>\n",
       "      <td>2020-12-29 02:17:00</td>\n",
       "      <td>A</td>\n",
       "      <td>login</td>\n",
       "      <td>NaN</td>\n",
       "      <td>NaN</td>\n",
       "      <td>NaN</td>\n",
       "    </tr>\n",
       "    <tr>\n",
       "      <th>9502</th>\n",
       "      <td>96BDD55846D1F7F6</td>\n",
       "      <td>2020-12-29 16:53:42</td>\n",
       "      <td>A</td>\n",
       "      <td>login</td>\n",
       "      <td>product_page</td>\n",
       "      <td>NaN</td>\n",
       "      <td>NaN</td>\n",
       "    </tr>\n",
       "    <tr>\n",
       "      <th>9503</th>\n",
       "      <td>553BAE96C6EB6240</td>\n",
       "      <td>2020-12-29 14:09:14</td>\n",
       "      <td>A</td>\n",
       "      <td>login</td>\n",
       "      <td>NaN</td>\n",
       "      <td>NaN</td>\n",
       "      <td>NaN</td>\n",
       "    </tr>\n",
       "    <tr>\n",
       "      <th>9504</th>\n",
       "      <td>DD4352CDCF8C3D57</td>\n",
       "      <td>2020-12-30 12:42:56</td>\n",
       "      <td>B</td>\n",
       "      <td>login</td>\n",
       "      <td>NaN</td>\n",
       "      <td>NaN</td>\n",
       "      <td>NaN</td>\n",
       "    </tr>\n",
       "    <tr>\n",
       "      <th>9505</th>\n",
       "      <td>75845C83258FBF73</td>\n",
       "      <td>2020-12-30 06:42:52</td>\n",
       "      <td>B</td>\n",
       "      <td>login</td>\n",
       "      <td>NaN</td>\n",
       "      <td>NaN</td>\n",
       "      <td>NaN</td>\n",
       "    </tr>\n",
       "  </tbody>\n",
       "</table>\n",
       "<p>9506 rows × 7 columns</p>\n",
       "</div>"
      ],
      "text/plain": [
       "               user_id             event_dt group upd_events_login  \\\n",
       "0     D72A72121175D8BE  2020-12-07 21:52:07     A            login   \n",
       "1     DD4352CDCF8C3D57  2020-12-07 15:32:53     B            login   \n",
       "2     831887FE7F2D6CBA  2020-12-07 06:50:29     A            login   \n",
       "3     4CB179C7F847320B  2020-12-07 01:37:05     B            login   \n",
       "4     29C92313A98B1176  2020-12-07 06:18:24     B            login   \n",
       "...                ...                  ...   ...              ...   \n",
       "9501  D21F0D4FDCD82DB2  2020-12-29 02:17:00     A            login   \n",
       "9502  96BDD55846D1F7F6  2020-12-29 16:53:42     A            login   \n",
       "9503  553BAE96C6EB6240  2020-12-29 14:09:14     A            login   \n",
       "9504  DD4352CDCF8C3D57  2020-12-30 12:42:56     B            login   \n",
       "9505  75845C83258FBF73  2020-12-30 06:42:52     B            login   \n",
       "\n",
       "     upd_events_product_page upd_events_product_cart upd_events_purchase  \n",
       "0                        NaN                     NaN                 NaN  \n",
       "1                        NaN                     NaN                 NaN  \n",
       "2                        NaN                     NaN                 NaN  \n",
       "3                        NaN                     NaN                 NaN  \n",
       "4                        NaN                     NaN                 NaN  \n",
       "...                      ...                     ...                 ...  \n",
       "9501                     NaN                     NaN                 NaN  \n",
       "9502            product_page                     NaN                 NaN  \n",
       "9503                     NaN                     NaN                 NaN  \n",
       "9504                     NaN                     NaN                 NaN  \n",
       "9505                     NaN                     NaN                 NaN  \n",
       "\n",
       "[9506 rows x 7 columns]"
      ]
     },
     "execution_count": 684,
     "metadata": {},
     "output_type": "execute_result"
    }
   ],
   "source": [
    "closed_funnel_approach"
   ]
  },
  {
   "cell_type": "markdown",
   "metadata": {},
   "source": [
    "    In the initial, we are going to calculate the total events by date for the datas are still per user and per event in the 'closed_funnel_approach' table. Now, we calculate the total events by date and create it in a new table, as follows:"
   ]
  },
  {
   "cell_type": "code",
   "execution_count": 685,
   "metadata": {},
   "outputs": [
    {
     "data": {
      "text/html": [
       "<div>\n",
       "<style scoped>\n",
       "    .dataframe tbody tr th:only-of-type {\n",
       "        vertical-align: middle;\n",
       "    }\n",
       "\n",
       "    .dataframe tbody tr th {\n",
       "        vertical-align: top;\n",
       "    }\n",
       "\n",
       "    .dataframe thead th {\n",
       "        text-align: right;\n",
       "    }\n",
       "</style>\n",
       "<table border=\"1\" class=\"dataframe\">\n",
       "  <thead>\n",
       "    <tr style=\"text-align: right;\">\n",
       "      <th></th>\n",
       "      <th>user_id</th>\n",
       "      <th>event_dt</th>\n",
       "      <th>group</th>\n",
       "      <th>upd_events_login</th>\n",
       "      <th>upd_events_product_page</th>\n",
       "      <th>upd_events_product_cart</th>\n",
       "      <th>upd_events_purchase</th>\n",
       "    </tr>\n",
       "  </thead>\n",
       "  <tbody>\n",
       "    <tr>\n",
       "      <th>0</th>\n",
       "      <td>001064FEAAB631A1</td>\n",
       "      <td>2020-12-20 14:43:27</td>\n",
       "      <td>B</td>\n",
       "      <td>1</td>\n",
       "      <td>0</td>\n",
       "      <td>0</td>\n",
       "      <td>0</td>\n",
       "    </tr>\n",
       "    <tr>\n",
       "      <th>1</th>\n",
       "      <td>001064FEAAB631A1</td>\n",
       "      <td>2020-12-21 03:19:15</td>\n",
       "      <td>B</td>\n",
       "      <td>1</td>\n",
       "      <td>0</td>\n",
       "      <td>0</td>\n",
       "      <td>0</td>\n",
       "    </tr>\n",
       "    <tr>\n",
       "      <th>2</th>\n",
       "      <td>001064FEAAB631A1</td>\n",
       "      <td>2020-12-26 15:55:17</td>\n",
       "      <td>B</td>\n",
       "      <td>1</td>\n",
       "      <td>0</td>\n",
       "      <td>0</td>\n",
       "      <td>0</td>\n",
       "    </tr>\n",
       "    <tr>\n",
       "      <th>3</th>\n",
       "      <td>0010A1C096941592</td>\n",
       "      <td>2020-12-17 21:07:27</td>\n",
       "      <td>A</td>\n",
       "      <td>1</td>\n",
       "      <td>1</td>\n",
       "      <td>0</td>\n",
       "      <td>0</td>\n",
       "    </tr>\n",
       "    <tr>\n",
       "      <th>4</th>\n",
       "      <td>0010A1C096941592</td>\n",
       "      <td>2020-12-19 04:34:37</td>\n",
       "      <td>A</td>\n",
       "      <td>1</td>\n",
       "      <td>0</td>\n",
       "      <td>0</td>\n",
       "      <td>0</td>\n",
       "    </tr>\n",
       "    <tr>\n",
       "      <th>...</th>\n",
       "      <td>...</td>\n",
       "      <td>...</td>\n",
       "      <td>...</td>\n",
       "      <td>...</td>\n",
       "      <td>...</td>\n",
       "      <td>...</td>\n",
       "      <td>...</td>\n",
       "    </tr>\n",
       "    <tr>\n",
       "      <th>9501</th>\n",
       "      <td>FFAE9489C76F352B</td>\n",
       "      <td>2020-12-15 20:14:51</td>\n",
       "      <td>A</td>\n",
       "      <td>1</td>\n",
       "      <td>0</td>\n",
       "      <td>0</td>\n",
       "      <td>0</td>\n",
       "    </tr>\n",
       "    <tr>\n",
       "      <th>9502</th>\n",
       "      <td>FFAE9489C76F352B</td>\n",
       "      <td>2020-12-19 11:32:50</td>\n",
       "      <td>A</td>\n",
       "      <td>1</td>\n",
       "      <td>0</td>\n",
       "      <td>0</td>\n",
       "      <td>0</td>\n",
       "    </tr>\n",
       "    <tr>\n",
       "      <th>9503</th>\n",
       "      <td>FFF28D02B1EACBE1</td>\n",
       "      <td>2020-12-16 08:24:56</td>\n",
       "      <td>B</td>\n",
       "      <td>1</td>\n",
       "      <td>0</td>\n",
       "      <td>0</td>\n",
       "      <td>0</td>\n",
       "    </tr>\n",
       "    <tr>\n",
       "      <th>9504</th>\n",
       "      <td>FFF28D02B1EACBE1</td>\n",
       "      <td>2020-12-21 15:20:08</td>\n",
       "      <td>B</td>\n",
       "      <td>1</td>\n",
       "      <td>0</td>\n",
       "      <td>0</td>\n",
       "      <td>0</td>\n",
       "    </tr>\n",
       "    <tr>\n",
       "      <th>9505</th>\n",
       "      <td>FFF28D02B1EACBE1</td>\n",
       "      <td>2020-12-24 00:51:04</td>\n",
       "      <td>B</td>\n",
       "      <td>1</td>\n",
       "      <td>0</td>\n",
       "      <td>0</td>\n",
       "      <td>0</td>\n",
       "    </tr>\n",
       "  </tbody>\n",
       "</table>\n",
       "<p>9506 rows × 7 columns</p>\n",
       "</div>"
      ],
      "text/plain": [
       "               user_id             event_dt group  upd_events_login  \\\n",
       "0     001064FEAAB631A1  2020-12-20 14:43:27     B                 1   \n",
       "1     001064FEAAB631A1  2020-12-21 03:19:15     B                 1   \n",
       "2     001064FEAAB631A1  2020-12-26 15:55:17     B                 1   \n",
       "3     0010A1C096941592  2020-12-17 21:07:27     A                 1   \n",
       "4     0010A1C096941592  2020-12-19 04:34:37     A                 1   \n",
       "...                ...                  ...   ...               ...   \n",
       "9501  FFAE9489C76F352B  2020-12-15 20:14:51     A                 1   \n",
       "9502  FFAE9489C76F352B  2020-12-19 11:32:50     A                 1   \n",
       "9503  FFF28D02B1EACBE1  2020-12-16 08:24:56     B                 1   \n",
       "9504  FFF28D02B1EACBE1  2020-12-21 15:20:08     B                 1   \n",
       "9505  FFF28D02B1EACBE1  2020-12-24 00:51:04     B                 1   \n",
       "\n",
       "      upd_events_product_page  upd_events_product_cart  upd_events_purchase  \n",
       "0                           0                        0                    0  \n",
       "1                           0                        0                    0  \n",
       "2                           0                        0                    0  \n",
       "3                           1                        0                    0  \n",
       "4                           0                        0                    0  \n",
       "...                       ...                      ...                  ...  \n",
       "9501                        0                        0                    0  \n",
       "9502                        0                        0                    0  \n",
       "9503                        0                        0                    0  \n",
       "9504                        0                        0                    0  \n",
       "9505                        0                        0                    0  \n",
       "\n",
       "[9506 rows x 7 columns]"
      ]
     },
     "execution_count": 685,
     "metadata": {},
     "output_type": "execute_result"
    }
   ],
   "source": [
    "day_events_agg_new = closed_funnel_approach.groupby(['user_id', 'event_dt', 'group']).agg({'upd_events_login': 'nunique', \n",
    "                                                               'upd_events_product_page': 'nunique',\n",
    "                                                               'upd_events_product_cart': 'nunique', \n",
    "                                                               'upd_events_purchase': 'nunique'\n",
    "                                                              }).reset_index()\n",
    "\n",
    "day_events_agg_new"
   ]
  },
  {
   "cell_type": "markdown",
   "metadata": {},
   "source": [
    "    Then, we are going to split the data by grouping each A and B group and save it into new tables, as follows:"
   ]
  },
  {
   "cell_type": "code",
   "execution_count": 686,
   "metadata": {},
   "outputs": [
    {
     "data": {
      "text/html": [
       "<div>\n",
       "<style scoped>\n",
       "    .dataframe tbody tr th:only-of-type {\n",
       "        vertical-align: middle;\n",
       "    }\n",
       "\n",
       "    .dataframe tbody tr th {\n",
       "        vertical-align: top;\n",
       "    }\n",
       "\n",
       "    .dataframe thead th {\n",
       "        text-align: right;\n",
       "    }\n",
       "</style>\n",
       "<table border=\"1\" class=\"dataframe\">\n",
       "  <thead>\n",
       "    <tr style=\"text-align: right;\">\n",
       "      <th></th>\n",
       "      <th>user_id</th>\n",
       "      <th>event_dt</th>\n",
       "      <th>group</th>\n",
       "      <th>upd_events_login</th>\n",
       "      <th>upd_events_product_page</th>\n",
       "      <th>upd_events_product_cart</th>\n",
       "      <th>upd_events_purchase</th>\n",
       "    </tr>\n",
       "  </thead>\n",
       "  <tbody>\n",
       "    <tr>\n",
       "      <th>0</th>\n",
       "      <td>894A2506B3A50D03</td>\n",
       "      <td>2020-12-07 00:05:57</td>\n",
       "      <td>B</td>\n",
       "      <td>1</td>\n",
       "      <td>1</td>\n",
       "      <td>0</td>\n",
       "      <td>0</td>\n",
       "    </tr>\n",
       "    <tr>\n",
       "      <th>1</th>\n",
       "      <td>8FC9D1BB3017BE66</td>\n",
       "      <td>2020-12-07 00:07:47</td>\n",
       "      <td>B</td>\n",
       "      <td>1</td>\n",
       "      <td>0</td>\n",
       "      <td>0</td>\n",
       "      <td>0</td>\n",
       "    </tr>\n",
       "    <tr>\n",
       "      <th>2</th>\n",
       "      <td>115EBC1CA027854A</td>\n",
       "      <td>2020-12-07 00:25:02</td>\n",
       "      <td>B</td>\n",
       "      <td>1</td>\n",
       "      <td>1</td>\n",
       "      <td>0</td>\n",
       "      <td>0</td>\n",
       "    </tr>\n",
       "    <tr>\n",
       "      <th>3</th>\n",
       "      <td>AAB4D11666ADB943</td>\n",
       "      <td>2020-12-07 00:25:07</td>\n",
       "      <td>B</td>\n",
       "      <td>1</td>\n",
       "      <td>0</td>\n",
       "      <td>0</td>\n",
       "      <td>0</td>\n",
       "    </tr>\n",
       "    <tr>\n",
       "      <th>4</th>\n",
       "      <td>8B480AD647CE1BDE</td>\n",
       "      <td>2020-12-07 00:44:12</td>\n",
       "      <td>B</td>\n",
       "      <td>1</td>\n",
       "      <td>1</td>\n",
       "      <td>1</td>\n",
       "      <td>0</td>\n",
       "    </tr>\n",
       "    <tr>\n",
       "      <th>...</th>\n",
       "      <td>...</td>\n",
       "      <td>...</td>\n",
       "      <td>...</td>\n",
       "      <td>...</td>\n",
       "      <td>...</td>\n",
       "      <td>...</td>\n",
       "      <td>...</td>\n",
       "    </tr>\n",
       "    <tr>\n",
       "      <th>2359</th>\n",
       "      <td>72F9D925B81674E7</td>\n",
       "      <td>2020-12-29 21:48:47</td>\n",
       "      <td>B</td>\n",
       "      <td>1</td>\n",
       "      <td>0</td>\n",
       "      <td>0</td>\n",
       "      <td>0</td>\n",
       "    </tr>\n",
       "    <tr>\n",
       "      <th>2360</th>\n",
       "      <td>4122B8F30EB2271C</td>\n",
       "      <td>2020-12-29 22:17:13</td>\n",
       "      <td>B</td>\n",
       "      <td>1</td>\n",
       "      <td>0</td>\n",
       "      <td>0</td>\n",
       "      <td>0</td>\n",
       "    </tr>\n",
       "    <tr>\n",
       "      <th>2361</th>\n",
       "      <td>69924C768EE3374C</td>\n",
       "      <td>2020-12-29 23:27:00</td>\n",
       "      <td>B</td>\n",
       "      <td>1</td>\n",
       "      <td>0</td>\n",
       "      <td>0</td>\n",
       "      <td>0</td>\n",
       "    </tr>\n",
       "    <tr>\n",
       "      <th>2362</th>\n",
       "      <td>75845C83258FBF73</td>\n",
       "      <td>2020-12-30 06:42:52</td>\n",
       "      <td>B</td>\n",
       "      <td>1</td>\n",
       "      <td>0</td>\n",
       "      <td>0</td>\n",
       "      <td>0</td>\n",
       "    </tr>\n",
       "    <tr>\n",
       "      <th>2363</th>\n",
       "      <td>DD4352CDCF8C3D57</td>\n",
       "      <td>2020-12-30 12:42:56</td>\n",
       "      <td>B</td>\n",
       "      <td>1</td>\n",
       "      <td>0</td>\n",
       "      <td>0</td>\n",
       "      <td>0</td>\n",
       "    </tr>\n",
       "  </tbody>\n",
       "</table>\n",
       "<p>2364 rows × 7 columns</p>\n",
       "</div>"
      ],
      "text/plain": [
       "               user_id             event_dt group  upd_events_login  \\\n",
       "0     894A2506B3A50D03  2020-12-07 00:05:57     B                 1   \n",
       "1     8FC9D1BB3017BE66  2020-12-07 00:07:47     B                 1   \n",
       "2     115EBC1CA027854A  2020-12-07 00:25:02     B                 1   \n",
       "3     AAB4D11666ADB943  2020-12-07 00:25:07     B                 1   \n",
       "4     8B480AD647CE1BDE  2020-12-07 00:44:12     B                 1   \n",
       "...                ...                  ...   ...               ...   \n",
       "2359  72F9D925B81674E7  2020-12-29 21:48:47     B                 1   \n",
       "2360  4122B8F30EB2271C  2020-12-29 22:17:13     B                 1   \n",
       "2361  69924C768EE3374C  2020-12-29 23:27:00     B                 1   \n",
       "2362  75845C83258FBF73  2020-12-30 06:42:52     B                 1   \n",
       "2363  DD4352CDCF8C3D57  2020-12-30 12:42:56     B                 1   \n",
       "\n",
       "      upd_events_product_page  upd_events_product_cart  upd_events_purchase  \n",
       "0                           1                        0                    0  \n",
       "1                           0                        0                    0  \n",
       "2                           1                        0                    0  \n",
       "3                           0                        0                    0  \n",
       "4                           1                        1                    0  \n",
       "...                       ...                      ...                  ...  \n",
       "2359                        0                        0                    0  \n",
       "2360                        0                        0                    0  \n",
       "2361                        0                        0                    0  \n",
       "2362                        0                        0                    0  \n",
       "2363                        0                        0                    0  \n",
       "\n",
       "[2364 rows x 7 columns]"
      ]
     },
     "execution_count": 686,
     "metadata": {},
     "output_type": "execute_result"
    }
   ],
   "source": [
    "events_agg_group_a_yes = day_events_agg_new[day_events_agg_new['group'] == 'A'].sort_values(by='event_dt') \n",
    "events_agg_group_b_yes = day_events_agg_new[day_events_agg_new['group'] == 'B'].sort_values(by='event_dt') \n",
    "\n",
    "events_agg_group_a_yes.reset_index(drop=True)\n",
    "events_agg_group_b_yes.reset_index(drop=True)"
   ]
  },
  {
   "cell_type": "markdown",
   "metadata": {},
   "source": [
    "    Now, we take a look at the new table of 'events_agg_group_a_yes' table, as follows:"
   ]
  },
  {
   "cell_type": "code",
   "execution_count": 687,
   "metadata": {},
   "outputs": [
    {
     "data": {
      "text/html": [
       "<div>\n",
       "<style scoped>\n",
       "    .dataframe tbody tr th:only-of-type {\n",
       "        vertical-align: middle;\n",
       "    }\n",
       "\n",
       "    .dataframe tbody tr th {\n",
       "        vertical-align: top;\n",
       "    }\n",
       "\n",
       "    .dataframe thead th {\n",
       "        text-align: right;\n",
       "    }\n",
       "</style>\n",
       "<table border=\"1\" class=\"dataframe\">\n",
       "  <thead>\n",
       "    <tr style=\"text-align: right;\">\n",
       "      <th></th>\n",
       "      <th>user_id</th>\n",
       "      <th>event_dt</th>\n",
       "      <th>group</th>\n",
       "      <th>upd_events_login</th>\n",
       "      <th>upd_events_product_page</th>\n",
       "      <th>upd_events_product_cart</th>\n",
       "      <th>upd_events_purchase</th>\n",
       "    </tr>\n",
       "  </thead>\n",
       "  <tbody>\n",
       "    <tr>\n",
       "      <th>2727</th>\n",
       "      <td>4A55475E078F40DC</td>\n",
       "      <td>2020-12-07 00:14:01</td>\n",
       "      <td>A</td>\n",
       "      <td>1</td>\n",
       "      <td>0</td>\n",
       "      <td>0</td>\n",
       "      <td>0</td>\n",
       "    </tr>\n",
       "    <tr>\n",
       "      <th>1240</th>\n",
       "      <td>20996AEF74602821</td>\n",
       "      <td>2020-12-07 00:16:00</td>\n",
       "      <td>A</td>\n",
       "      <td>1</td>\n",
       "      <td>1</td>\n",
       "      <td>0</td>\n",
       "      <td>0</td>\n",
       "    </tr>\n",
       "    <tr>\n",
       "      <th>9148</th>\n",
       "      <td>F5B7DA8807EC1AF7</td>\n",
       "      <td>2020-12-07 00:31:08</td>\n",
       "      <td>A</td>\n",
       "      <td>1</td>\n",
       "      <td>0</td>\n",
       "      <td>0</td>\n",
       "      <td>0</td>\n",
       "    </tr>\n",
       "    <tr>\n",
       "      <th>4064</th>\n",
       "      <td>6D399D5D2832CD40</td>\n",
       "      <td>2020-12-07 00:35:15</td>\n",
       "      <td>A</td>\n",
       "      <td>1</td>\n",
       "      <td>1</td>\n",
       "      <td>0</td>\n",
       "      <td>0</td>\n",
       "    </tr>\n",
       "    <tr>\n",
       "      <th>6427</th>\n",
       "      <td>AAF83E489AE98FA9</td>\n",
       "      <td>2020-12-07 00:39:13</td>\n",
       "      <td>A</td>\n",
       "      <td>1</td>\n",
       "      <td>0</td>\n",
       "      <td>0</td>\n",
       "      <td>0</td>\n",
       "    </tr>\n",
       "    <tr>\n",
       "      <th>...</th>\n",
       "      <td>...</td>\n",
       "      <td>...</td>\n",
       "      <td>...</td>\n",
       "      <td>...</td>\n",
       "      <td>...</td>\n",
       "      <td>...</td>\n",
       "      <td>...</td>\n",
       "    </tr>\n",
       "    <tr>\n",
       "      <th>2403</th>\n",
       "      <td>41C7928F2ED27E66</td>\n",
       "      <td>2020-12-29 23:01:18</td>\n",
       "      <td>A</td>\n",
       "      <td>1</td>\n",
       "      <td>0</td>\n",
       "      <td>0</td>\n",
       "      <td>0</td>\n",
       "    </tr>\n",
       "    <tr>\n",
       "      <th>6303</th>\n",
       "      <td>A81BA2A7B5FD1862</td>\n",
       "      <td>2020-12-29 23:01:38</td>\n",
       "      <td>A</td>\n",
       "      <td>1</td>\n",
       "      <td>0</td>\n",
       "      <td>0</td>\n",
       "      <td>0</td>\n",
       "    </tr>\n",
       "    <tr>\n",
       "      <th>5169</th>\n",
       "      <td>8C0361CB080810CA</td>\n",
       "      <td>2020-12-29 23:26:34</td>\n",
       "      <td>A</td>\n",
       "      <td>1</td>\n",
       "      <td>0</td>\n",
       "      <td>0</td>\n",
       "      <td>0</td>\n",
       "    </tr>\n",
       "    <tr>\n",
       "      <th>6506</th>\n",
       "      <td>AC4F0C5B1C005C8B</td>\n",
       "      <td>2020-12-29 23:36:17</td>\n",
       "      <td>A</td>\n",
       "      <td>1</td>\n",
       "      <td>0</td>\n",
       "      <td>0</td>\n",
       "      <td>0</td>\n",
       "    </tr>\n",
       "    <tr>\n",
       "      <th>7046</th>\n",
       "      <td>BB3873E1AC6E7BC3</td>\n",
       "      <td>2020-12-29 23:38:28</td>\n",
       "      <td>A</td>\n",
       "      <td>1</td>\n",
       "      <td>0</td>\n",
       "      <td>0</td>\n",
       "      <td>0</td>\n",
       "    </tr>\n",
       "  </tbody>\n",
       "</table>\n",
       "<p>7142 rows × 7 columns</p>\n",
       "</div>"
      ],
      "text/plain": [
       "               user_id             event_dt group  upd_events_login  \\\n",
       "2727  4A55475E078F40DC  2020-12-07 00:14:01     A                 1   \n",
       "1240  20996AEF74602821  2020-12-07 00:16:00     A                 1   \n",
       "9148  F5B7DA8807EC1AF7  2020-12-07 00:31:08     A                 1   \n",
       "4064  6D399D5D2832CD40  2020-12-07 00:35:15     A                 1   \n",
       "6427  AAF83E489AE98FA9  2020-12-07 00:39:13     A                 1   \n",
       "...                ...                  ...   ...               ...   \n",
       "2403  41C7928F2ED27E66  2020-12-29 23:01:18     A                 1   \n",
       "6303  A81BA2A7B5FD1862  2020-12-29 23:01:38     A                 1   \n",
       "5169  8C0361CB080810CA  2020-12-29 23:26:34     A                 1   \n",
       "6506  AC4F0C5B1C005C8B  2020-12-29 23:36:17     A                 1   \n",
       "7046  BB3873E1AC6E7BC3  2020-12-29 23:38:28     A                 1   \n",
       "\n",
       "      upd_events_product_page  upd_events_product_cart  upd_events_purchase  \n",
       "2727                        0                        0                    0  \n",
       "1240                        1                        0                    0  \n",
       "9148                        0                        0                    0  \n",
       "4064                        1                        0                    0  \n",
       "6427                        0                        0                    0  \n",
       "...                       ...                      ...                  ...  \n",
       "2403                        0                        0                    0  \n",
       "6303                        0                        0                    0  \n",
       "5169                        0                        0                    0  \n",
       "6506                        0                        0                    0  \n",
       "7046                        0                        0                    0  \n",
       "\n",
       "[7142 rows x 7 columns]"
      ]
     },
     "execution_count": 687,
     "metadata": {},
     "output_type": "execute_result"
    }
   ],
   "source": [
    "events_agg_group_a_yes"
   ]
  },
  {
   "cell_type": "markdown",
   "metadata": {},
   "source": [
    "    And we take a look at the new table of 'events_agg_group_b_yes' table, as follows:"
   ]
  },
  {
   "cell_type": "code",
   "execution_count": 688,
   "metadata": {},
   "outputs": [
    {
     "data": {
      "text/html": [
       "<div>\n",
       "<style scoped>\n",
       "    .dataframe tbody tr th:only-of-type {\n",
       "        vertical-align: middle;\n",
       "    }\n",
       "\n",
       "    .dataframe tbody tr th {\n",
       "        vertical-align: top;\n",
       "    }\n",
       "\n",
       "    .dataframe thead th {\n",
       "        text-align: right;\n",
       "    }\n",
       "</style>\n",
       "<table border=\"1\" class=\"dataframe\">\n",
       "  <thead>\n",
       "    <tr style=\"text-align: right;\">\n",
       "      <th></th>\n",
       "      <th>user_id</th>\n",
       "      <th>event_dt</th>\n",
       "      <th>group</th>\n",
       "      <th>upd_events_login</th>\n",
       "      <th>upd_events_product_page</th>\n",
       "      <th>upd_events_product_cart</th>\n",
       "      <th>upd_events_purchase</th>\n",
       "    </tr>\n",
       "  </thead>\n",
       "  <tbody>\n",
       "    <tr>\n",
       "      <th>5080</th>\n",
       "      <td>894A2506B3A50D03</td>\n",
       "      <td>2020-12-07 00:05:57</td>\n",
       "      <td>B</td>\n",
       "      <td>1</td>\n",
       "      <td>1</td>\n",
       "      <td>0</td>\n",
       "      <td>0</td>\n",
       "    </tr>\n",
       "    <tr>\n",
       "      <th>5324</th>\n",
       "      <td>8FC9D1BB3017BE66</td>\n",
       "      <td>2020-12-07 00:07:47</td>\n",
       "      <td>B</td>\n",
       "      <td>1</td>\n",
       "      <td>0</td>\n",
       "      <td>0</td>\n",
       "      <td>0</td>\n",
       "    </tr>\n",
       "    <tr>\n",
       "      <th>613</th>\n",
       "      <td>115EBC1CA027854A</td>\n",
       "      <td>2020-12-07 00:25:02</td>\n",
       "      <td>B</td>\n",
       "      <td>1</td>\n",
       "      <td>1</td>\n",
       "      <td>0</td>\n",
       "      <td>0</td>\n",
       "    </tr>\n",
       "    <tr>\n",
       "      <th>6412</th>\n",
       "      <td>AAB4D11666ADB943</td>\n",
       "      <td>2020-12-07 00:25:07</td>\n",
       "      <td>B</td>\n",
       "      <td>1</td>\n",
       "      <td>0</td>\n",
       "      <td>0</td>\n",
       "      <td>0</td>\n",
       "    </tr>\n",
       "    <tr>\n",
       "      <th>5148</th>\n",
       "      <td>8B480AD647CE1BDE</td>\n",
       "      <td>2020-12-07 00:44:12</td>\n",
       "      <td>B</td>\n",
       "      <td>1</td>\n",
       "      <td>1</td>\n",
       "      <td>1</td>\n",
       "      <td>0</td>\n",
       "    </tr>\n",
       "    <tr>\n",
       "      <th>...</th>\n",
       "      <td>...</td>\n",
       "      <td>...</td>\n",
       "      <td>...</td>\n",
       "      <td>...</td>\n",
       "      <td>...</td>\n",
       "      <td>...</td>\n",
       "      <td>...</td>\n",
       "    </tr>\n",
       "    <tr>\n",
       "      <th>4283</th>\n",
       "      <td>72F9D925B81674E7</td>\n",
       "      <td>2020-12-29 21:48:47</td>\n",
       "      <td>B</td>\n",
       "      <td>1</td>\n",
       "      <td>0</td>\n",
       "      <td>0</td>\n",
       "      <td>0</td>\n",
       "    </tr>\n",
       "    <tr>\n",
       "      <th>2383</th>\n",
       "      <td>4122B8F30EB2271C</td>\n",
       "      <td>2020-12-29 22:17:13</td>\n",
       "      <td>B</td>\n",
       "      <td>1</td>\n",
       "      <td>0</td>\n",
       "      <td>0</td>\n",
       "      <td>0</td>\n",
       "    </tr>\n",
       "    <tr>\n",
       "      <th>3932</th>\n",
       "      <td>69924C768EE3374C</td>\n",
       "      <td>2020-12-29 23:27:00</td>\n",
       "      <td>B</td>\n",
       "      <td>1</td>\n",
       "      <td>0</td>\n",
       "      <td>0</td>\n",
       "      <td>0</td>\n",
       "    </tr>\n",
       "    <tr>\n",
       "      <th>4407</th>\n",
       "      <td>75845C83258FBF73</td>\n",
       "      <td>2020-12-30 06:42:52</td>\n",
       "      <td>B</td>\n",
       "      <td>1</td>\n",
       "      <td>0</td>\n",
       "      <td>0</td>\n",
       "      <td>0</td>\n",
       "    </tr>\n",
       "    <tr>\n",
       "      <th>8259</th>\n",
       "      <td>DD4352CDCF8C3D57</td>\n",
       "      <td>2020-12-30 12:42:56</td>\n",
       "      <td>B</td>\n",
       "      <td>1</td>\n",
       "      <td>0</td>\n",
       "      <td>0</td>\n",
       "      <td>0</td>\n",
       "    </tr>\n",
       "  </tbody>\n",
       "</table>\n",
       "<p>2364 rows × 7 columns</p>\n",
       "</div>"
      ],
      "text/plain": [
       "               user_id             event_dt group  upd_events_login  \\\n",
       "5080  894A2506B3A50D03  2020-12-07 00:05:57     B                 1   \n",
       "5324  8FC9D1BB3017BE66  2020-12-07 00:07:47     B                 1   \n",
       "613   115EBC1CA027854A  2020-12-07 00:25:02     B                 1   \n",
       "6412  AAB4D11666ADB943  2020-12-07 00:25:07     B                 1   \n",
       "5148  8B480AD647CE1BDE  2020-12-07 00:44:12     B                 1   \n",
       "...                ...                  ...   ...               ...   \n",
       "4283  72F9D925B81674E7  2020-12-29 21:48:47     B                 1   \n",
       "2383  4122B8F30EB2271C  2020-12-29 22:17:13     B                 1   \n",
       "3932  69924C768EE3374C  2020-12-29 23:27:00     B                 1   \n",
       "4407  75845C83258FBF73  2020-12-30 06:42:52     B                 1   \n",
       "8259  DD4352CDCF8C3D57  2020-12-30 12:42:56     B                 1   \n",
       "\n",
       "      upd_events_product_page  upd_events_product_cart  upd_events_purchase  \n",
       "5080                        1                        0                    0  \n",
       "5324                        0                        0                    0  \n",
       "613                         1                        0                    0  \n",
       "6412                        0                        0                    0  \n",
       "5148                        1                        1                    0  \n",
       "...                       ...                      ...                  ...  \n",
       "4283                        0                        0                    0  \n",
       "2383                        0                        0                    0  \n",
       "3932                        0                        0                    0  \n",
       "4407                        0                        0                    0  \n",
       "8259                        0                        0                    0  \n",
       "\n",
       "[2364 rows x 7 columns]"
      ]
     },
     "execution_count": 688,
     "metadata": {},
     "output_type": "execute_result"
    }
   ],
   "source": [
    "events_agg_group_b_yes"
   ]
  },
  {
   "cell_type": "markdown",
   "metadata": {},
   "source": [
    "    Finally, we are going to calculate the data cumulative by using 'cumsum()' method and merge all tables. We will create a function to calculate the data cumulative, as follows:"
   ]
  },
  {
   "cell_type": "code",
   "execution_count": 689,
   "metadata": {},
   "outputs": [],
   "source": [
    "for my_code in [events_agg_group_a_yes, events_agg_group_b_yes]:\n",
    "    \n",
    "    my_code['upd_events_login_cumsum'] = my_code['upd_events_login'].cumsum()\n",
    "    my_code['upd_events_product_page_cumsum'] = my_code['upd_events_product_page'].cumsum()\n",
    "    my_code['upd_events_product_cart_cumsum'] = my_code['upd_events_product_cart'].cumsum()\n",
    "    my_code['upd_events_purchase_cumsum'] = my_code['upd_events_purchase'].cumsum()"
   ]
  },
  {
   "cell_type": "markdown",
   "metadata": {},
   "source": [
    "    Also, creating new table for the data cumulative, as follows:"
   ]
  },
  {
   "cell_type": "code",
   "execution_count": 690,
   "metadata": {},
   "outputs": [
    {
     "data": {
      "text/html": [
       "<div>\n",
       "<style scoped>\n",
       "    .dataframe tbody tr th:only-of-type {\n",
       "        vertical-align: middle;\n",
       "    }\n",
       "\n",
       "    .dataframe tbody tr th {\n",
       "        vertical-align: top;\n",
       "    }\n",
       "\n",
       "    .dataframe thead th {\n",
       "        text-align: right;\n",
       "    }\n",
       "</style>\n",
       "<table border=\"1\" class=\"dataframe\">\n",
       "  <thead>\n",
       "    <tr style=\"text-align: right;\">\n",
       "      <th></th>\n",
       "      <th>user_id</th>\n",
       "      <th>event_dt</th>\n",
       "      <th>group</th>\n",
       "      <th>upd_events_login</th>\n",
       "      <th>upd_events_product_page</th>\n",
       "      <th>upd_events_product_cart</th>\n",
       "      <th>upd_events_purchase</th>\n",
       "      <th>upd_events_login_cumsum</th>\n",
       "      <th>upd_events_product_page_cumsum</th>\n",
       "      <th>upd_events_product_cart_cumsum</th>\n",
       "      <th>upd_events_purchase_cumsum</th>\n",
       "    </tr>\n",
       "  </thead>\n",
       "  <tbody>\n",
       "    <tr>\n",
       "      <th>0</th>\n",
       "      <td>894A2506B3A50D03</td>\n",
       "      <td>2020-12-07 00:05:57</td>\n",
       "      <td>B</td>\n",
       "      <td>1</td>\n",
       "      <td>1</td>\n",
       "      <td>0</td>\n",
       "      <td>0</td>\n",
       "      <td>1</td>\n",
       "      <td>1</td>\n",
       "      <td>0</td>\n",
       "      <td>0</td>\n",
       "    </tr>\n",
       "    <tr>\n",
       "      <th>1</th>\n",
       "      <td>8FC9D1BB3017BE66</td>\n",
       "      <td>2020-12-07 00:07:47</td>\n",
       "      <td>B</td>\n",
       "      <td>1</td>\n",
       "      <td>0</td>\n",
       "      <td>0</td>\n",
       "      <td>0</td>\n",
       "      <td>2</td>\n",
       "      <td>1</td>\n",
       "      <td>0</td>\n",
       "      <td>0</td>\n",
       "    </tr>\n",
       "    <tr>\n",
       "      <th>2</th>\n",
       "      <td>4A55475E078F40DC</td>\n",
       "      <td>2020-12-07 00:14:01</td>\n",
       "      <td>A</td>\n",
       "      <td>1</td>\n",
       "      <td>0</td>\n",
       "      <td>0</td>\n",
       "      <td>0</td>\n",
       "      <td>1</td>\n",
       "      <td>0</td>\n",
       "      <td>0</td>\n",
       "      <td>0</td>\n",
       "    </tr>\n",
       "    <tr>\n",
       "      <th>3</th>\n",
       "      <td>20996AEF74602821</td>\n",
       "      <td>2020-12-07 00:16:00</td>\n",
       "      <td>A</td>\n",
       "      <td>1</td>\n",
       "      <td>1</td>\n",
       "      <td>0</td>\n",
       "      <td>0</td>\n",
       "      <td>2</td>\n",
       "      <td>1</td>\n",
       "      <td>0</td>\n",
       "      <td>0</td>\n",
       "    </tr>\n",
       "    <tr>\n",
       "      <th>4</th>\n",
       "      <td>115EBC1CA027854A</td>\n",
       "      <td>2020-12-07 00:25:02</td>\n",
       "      <td>B</td>\n",
       "      <td>1</td>\n",
       "      <td>1</td>\n",
       "      <td>0</td>\n",
       "      <td>0</td>\n",
       "      <td>3</td>\n",
       "      <td>2</td>\n",
       "      <td>0</td>\n",
       "      <td>0</td>\n",
       "    </tr>\n",
       "    <tr>\n",
       "      <th>...</th>\n",
       "      <td>...</td>\n",
       "      <td>...</td>\n",
       "      <td>...</td>\n",
       "      <td>...</td>\n",
       "      <td>...</td>\n",
       "      <td>...</td>\n",
       "      <td>...</td>\n",
       "      <td>...</td>\n",
       "      <td>...</td>\n",
       "      <td>...</td>\n",
       "      <td>...</td>\n",
       "    </tr>\n",
       "    <tr>\n",
       "      <th>9501</th>\n",
       "      <td>69924C768EE3374C</td>\n",
       "      <td>2020-12-29 23:27:00</td>\n",
       "      <td>B</td>\n",
       "      <td>1</td>\n",
       "      <td>0</td>\n",
       "      <td>0</td>\n",
       "      <td>0</td>\n",
       "      <td>2362</td>\n",
       "      <td>538</td>\n",
       "      <td>85</td>\n",
       "      <td>81</td>\n",
       "    </tr>\n",
       "    <tr>\n",
       "      <th>9502</th>\n",
       "      <td>AC4F0C5B1C005C8B</td>\n",
       "      <td>2020-12-29 23:36:17</td>\n",
       "      <td>A</td>\n",
       "      <td>1</td>\n",
       "      <td>0</td>\n",
       "      <td>0</td>\n",
       "      <td>0</td>\n",
       "      <td>7141</td>\n",
       "      <td>1986</td>\n",
       "      <td>344</td>\n",
       "      <td>298</td>\n",
       "    </tr>\n",
       "    <tr>\n",
       "      <th>9503</th>\n",
       "      <td>BB3873E1AC6E7BC3</td>\n",
       "      <td>2020-12-29 23:38:28</td>\n",
       "      <td>A</td>\n",
       "      <td>1</td>\n",
       "      <td>0</td>\n",
       "      <td>0</td>\n",
       "      <td>0</td>\n",
       "      <td>7142</td>\n",
       "      <td>1986</td>\n",
       "      <td>344</td>\n",
       "      <td>298</td>\n",
       "    </tr>\n",
       "    <tr>\n",
       "      <th>9504</th>\n",
       "      <td>75845C83258FBF73</td>\n",
       "      <td>2020-12-30 06:42:52</td>\n",
       "      <td>B</td>\n",
       "      <td>1</td>\n",
       "      <td>0</td>\n",
       "      <td>0</td>\n",
       "      <td>0</td>\n",
       "      <td>2363</td>\n",
       "      <td>538</td>\n",
       "      <td>85</td>\n",
       "      <td>81</td>\n",
       "    </tr>\n",
       "    <tr>\n",
       "      <th>9505</th>\n",
       "      <td>DD4352CDCF8C3D57</td>\n",
       "      <td>2020-12-30 12:42:56</td>\n",
       "      <td>B</td>\n",
       "      <td>1</td>\n",
       "      <td>0</td>\n",
       "      <td>0</td>\n",
       "      <td>0</td>\n",
       "      <td>2364</td>\n",
       "      <td>538</td>\n",
       "      <td>85</td>\n",
       "      <td>81</td>\n",
       "    </tr>\n",
       "  </tbody>\n",
       "</table>\n",
       "<p>9506 rows × 11 columns</p>\n",
       "</div>"
      ],
      "text/plain": [
       "               user_id             event_dt group  upd_events_login  \\\n",
       "0     894A2506B3A50D03  2020-12-07 00:05:57     B                 1   \n",
       "1     8FC9D1BB3017BE66  2020-12-07 00:07:47     B                 1   \n",
       "2     4A55475E078F40DC  2020-12-07 00:14:01     A                 1   \n",
       "3     20996AEF74602821  2020-12-07 00:16:00     A                 1   \n",
       "4     115EBC1CA027854A  2020-12-07 00:25:02     B                 1   \n",
       "...                ...                  ...   ...               ...   \n",
       "9501  69924C768EE3374C  2020-12-29 23:27:00     B                 1   \n",
       "9502  AC4F0C5B1C005C8B  2020-12-29 23:36:17     A                 1   \n",
       "9503  BB3873E1AC6E7BC3  2020-12-29 23:38:28     A                 1   \n",
       "9504  75845C83258FBF73  2020-12-30 06:42:52     B                 1   \n",
       "9505  DD4352CDCF8C3D57  2020-12-30 12:42:56     B                 1   \n",
       "\n",
       "      upd_events_product_page  upd_events_product_cart  upd_events_purchase  \\\n",
       "0                           1                        0                    0   \n",
       "1                           0                        0                    0   \n",
       "2                           0                        0                    0   \n",
       "3                           1                        0                    0   \n",
       "4                           1                        0                    0   \n",
       "...                       ...                      ...                  ...   \n",
       "9501                        0                        0                    0   \n",
       "9502                        0                        0                    0   \n",
       "9503                        0                        0                    0   \n",
       "9504                        0                        0                    0   \n",
       "9505                        0                        0                    0   \n",
       "\n",
       "      upd_events_login_cumsum  upd_events_product_page_cumsum  \\\n",
       "0                           1                               1   \n",
       "1                           2                               1   \n",
       "2                           1                               0   \n",
       "3                           2                               1   \n",
       "4                           3                               2   \n",
       "...                       ...                             ...   \n",
       "9501                     2362                             538   \n",
       "9502                     7141                            1986   \n",
       "9503                     7142                            1986   \n",
       "9504                     2363                             538   \n",
       "9505                     2364                             538   \n",
       "\n",
       "      upd_events_product_cart_cumsum  upd_events_purchase_cumsum  \n",
       "0                                  0                           0  \n",
       "1                                  0                           0  \n",
       "2                                  0                           0  \n",
       "3                                  0                           0  \n",
       "4                                  0                           0  \n",
       "...                              ...                         ...  \n",
       "9501                              85                          81  \n",
       "9502                             344                         298  \n",
       "9503                             344                         298  \n",
       "9504                              85                          81  \n",
       "9505                              85                          81  \n",
       "\n",
       "[9506 rows x 11 columns]"
      ]
     },
     "execution_count": 690,
     "metadata": {},
     "output_type": "execute_result"
    }
   ],
   "source": [
    "super_dataevent_cumulative = pd.concat([events_agg_group_a_yes, events_agg_group_b_yes]).sort_values(\n",
    "    by='event_dt').reset_index(drop=True)\n",
    "super_dataevent_cumulative"
   ]
  },
  {
   "cell_type": "markdown",
   "metadata": {},
   "source": [
    "    In this session, we are going to make the visualization to find out the number of distributed events by day using lineplot, as follows:"
   ]
  },
  {
   "cell_type": "code",
   "execution_count": 703,
   "metadata": {
    "scrolled": true
   },
   "outputs": [
    {
     "data": {
      "image/png": "[encoded data removed]",
      "text/plain": [
       "<Figure size 360x144 with 1 Axes>"
      ]
     },
     "metadata": {
      "needs_background": "light"
     },
     "output_type": "display_data"
    }
   ],
   "source": [
    "plt.figure(figsize=(5,2))\n",
    "sns.lineplot(data=super_dataevent_cumulative, x='event_dt', y='upd_events_login_cumsum', hue='group')\n",
    "plt.title('The Visualization of The Login Event by Day Distribution');"
   ]
  },
  {
   "cell_type": "code",
   "execution_count": 704,
   "metadata": {},
   "outputs": [
    {
     "data": {
      "image/png": "[encoded data removed]",
      "text/plain": [
       "<Figure size 360x144 with 1 Axes>"
      ]
     },
     "metadata": {
      "needs_background": "light"
     },
     "output_type": "display_data"
    }
   ],
   "source": [
    "plt.figure(figsize=(5,2))\n",
    "sns.lineplot(data=super_dataevent_cumulative, x='event_dt', y='upd_events_product_page_cumsum', hue='group')\n",
    "plt.title('The Visualization of The Product Page Event by Day Distribution');"
   ]
  },
  {
   "cell_type": "code",
   "execution_count": 705,
   "metadata": {},
   "outputs": [
    {
     "data": {
      "image/png": "[encoded data removed]",
      "text/plain": [
       "<Figure size 360x144 with 1 Axes>"
      ]
     },
     "metadata": {
      "needs_background": "light"
     },
     "output_type": "display_data"
    }
   ],
   "source": [
    "plt.figure(figsize=(5,2))\n",
    "sns.lineplot(data=super_dataevent_cumulative, x='event_dt', y='upd_events_product_cart_cumsum', hue='group')\n",
    "plt.title('The Visualization of The Product Cart Event by Day Distribution');"
   ]
  },
  {
   "cell_type": "code",
   "execution_count": 706,
   "metadata": {},
   "outputs": [
    {
     "data": {
      "image/png": "[encoded data removed]",
      "text/plain": [
       "<Figure size 360x144 with 1 Axes>"
      ]
     },
     "metadata": {
      "needs_background": "light"
     },
     "output_type": "display_data"
    }
   ],
   "source": [
    "plt.figure(figsize=(5,2))\n",
    "sns.lineplot(data=super_dataevent_cumulative, x='event_dt', y='upd_events_purchase_cumsum', hue='group')\n",
    "plt.title('The Visualization of The Purchase Event by Day Distribution');"
   ]
  },
  {
   "cell_type": "markdown",
   "metadata": {},
   "source": [
    "    Findings:\n",
    "    \n",
    "    - At the beginning of December 2020, Group A and B were in almost the same position. Different from the mid of December 2020, Group A preside till the end of the test.\n",
    "    - Group A generates more events than group B. This might because the number of users in Group A is far higher than in Group B (2330 users versus 834 users).\n",
    "    \n",
    "    \n",
    "    Prediction:\n",
    "    - We could predict that the hypothesis test in Group B has no effect in increasing events cause of there are only a few users there."
   ]
  },
  {
   "cell_type": "markdown",
   "metadata": {},
   "source": [
    "[Back to Contents](#tableofcontents)"
   ]
  },
  {
   "cell_type": "markdown",
   "metadata": {},
   "source": [
    "### Learning The Possible Details in The Data that We have to take into Account before starting The A/B Test"
   ]
  },
  {
   "cell_type": "markdown",
   "metadata": {},
   "source": [
    "    First, we are going to ensure the total events in each group, as follows:"
   ]
  },
  {
   "cell_type": "code",
   "execution_count": 691,
   "metadata": {},
   "outputs": [
    {
     "data": {
      "text/html": [
       "<div>\n",
       "<style scoped>\n",
       "    .dataframe tbody tr th:only-of-type {\n",
       "        vertical-align: middle;\n",
       "    }\n",
       "\n",
       "    .dataframe tbody tr th {\n",
       "        vertical-align: top;\n",
       "    }\n",
       "\n",
       "    .dataframe thead th {\n",
       "        text-align: right;\n",
       "    }\n",
       "</style>\n",
       "<table border=\"1\" class=\"dataframe\">\n",
       "  <thead>\n",
       "    <tr style=\"text-align: right;\">\n",
       "      <th></th>\n",
       "      <th>event_name</th>\n",
       "      <th>total</th>\n",
       "    </tr>\n",
       "  </thead>\n",
       "  <tbody>\n",
       "    <tr>\n",
       "      <th>0</th>\n",
       "      <td>upd_events_login</td>\n",
       "      <td>9506</td>\n",
       "    </tr>\n",
       "    <tr>\n",
       "      <th>1</th>\n",
       "      <td>upd_events_product_page</td>\n",
       "      <td>2524</td>\n",
       "    </tr>\n",
       "    <tr>\n",
       "      <th>2</th>\n",
       "      <td>upd_events_product_cart</td>\n",
       "      <td>429</td>\n",
       "    </tr>\n",
       "    <tr>\n",
       "      <th>3</th>\n",
       "      <td>upd_events_purchase</td>\n",
       "      <td>379</td>\n",
       "    </tr>\n",
       "  </tbody>\n",
       "</table>\n",
       "</div>"
      ],
      "text/plain": [
       "                event_name total\n",
       "0         upd_events_login  9506\n",
       "1  upd_events_product_page  2524\n",
       "2  upd_events_product_cart   429\n",
       "3      upd_events_purchase   379"
      ]
     },
     "execution_count": 691,
     "metadata": {},
     "output_type": "execute_result"
    }
   ],
   "source": [
    "mixall_events_agg"
   ]
  },
  {
   "cell_type": "markdown",
   "metadata": {},
   "source": [
    "    Then, we will ensure the 'user_per_group_dist' table, as follows:"
   ]
  },
  {
   "cell_type": "code",
   "execution_count": 692,
   "metadata": {},
   "outputs": [
    {
     "data": {
      "text/html": [
       "<div>\n",
       "<style scoped>\n",
       "    .dataframe tbody tr th:only-of-type {\n",
       "        vertical-align: middle;\n",
       "    }\n",
       "\n",
       "    .dataframe tbody tr th {\n",
       "        vertical-align: top;\n",
       "    }\n",
       "\n",
       "    .dataframe thead th {\n",
       "        text-align: right;\n",
       "    }\n",
       "</style>\n",
       "<table border=\"1\" class=\"dataframe\">\n",
       "  <thead>\n",
       "    <tr style=\"text-align: right;\">\n",
       "      <th>group</th>\n",
       "      <th>A</th>\n",
       "      <th>B</th>\n",
       "      <th>total</th>\n",
       "      <th>%A</th>\n",
       "      <th>%B</th>\n",
       "    </tr>\n",
       "  </thead>\n",
       "  <tbody>\n",
       "    <tr>\n",
       "      <th>log_user_alpha</th>\n",
       "      <td>2330</td>\n",
       "      <td>834</td>\n",
       "      <td>3164</td>\n",
       "      <td>0.736410</td>\n",
       "      <td>0.263590</td>\n",
       "    </tr>\n",
       "    <tr>\n",
       "      <th>page_user_alpha</th>\n",
       "      <td>1176</td>\n",
       "      <td>345</td>\n",
       "      <td>1521</td>\n",
       "      <td>0.773176</td>\n",
       "      <td>0.226824</td>\n",
       "    </tr>\n",
       "    <tr>\n",
       "      <th>cart_user_alpha</th>\n",
       "      <td>258</td>\n",
       "      <td>67</td>\n",
       "      <td>325</td>\n",
       "      <td>0.793846</td>\n",
       "      <td>0.206154</td>\n",
       "    </tr>\n",
       "    <tr>\n",
       "      <th>purch_user_alpha</th>\n",
       "      <td>183</td>\n",
       "      <td>48</td>\n",
       "      <td>231</td>\n",
       "      <td>0.792208</td>\n",
       "      <td>0.207792</td>\n",
       "    </tr>\n",
       "  </tbody>\n",
       "</table>\n",
       "</div>"
      ],
      "text/plain": [
       "group                A    B  total        %A        %B\n",
       "log_user_alpha    2330  834   3164  0.736410  0.263590\n",
       "page_user_alpha   1176  345   1521  0.773176  0.226824\n",
       "cart_user_alpha    258   67    325  0.793846  0.206154\n",
       "purch_user_alpha   183   48    231  0.792208  0.207792"
      ]
     },
     "execution_count": 692,
     "metadata": {},
     "output_type": "execute_result"
    }
   ],
   "source": [
    "user_per_group_dist"
   ]
  },
  {
   "cell_type": "markdown",
   "metadata": {},
   "source": [
    "    Findings:\n",
    "\n",
    "    - There are no users in group B as the test group instead of is only 834 users compared to the control group A, that is 2330 users.\n",
    "    - There are no events in group B as the test group instead of is only 2364 events compared to the control group A, that is 7142 users.\n",
    "\n",
    "\n",
    "    Prediction:\n",
    "    - We could predict that the hypothesis test in group B has no effect on the increasing events cause of there are only a few users/events there."
   ]
  },
  {
   "cell_type": "markdown",
   "metadata": {},
   "source": [
    "[Back to Contents](#tableofcontents)"
   ]
  },
  {
   "cell_type": "markdown",
   "metadata": {},
   "source": [
    "## Evaluation The A/B Test Results\n",
    "    - Step 3. Evaluating The A/B Test Results of The Project"
   ]
  },
  {
   "cell_type": "markdown",
   "metadata": {},
   "source": [
    "<div style=\"border:solid black 2px; padding: 20px\">\n",
    "    \n",
    "    In this stage, we will evaluate the A/B test results with a few things to focus on:\n",
    "    \n",
    "    a. Several Things that We Get about The A/B Test Results\n",
    "    b. The Use of Z-Criterion to Check The Statistical Difference between The Proportions\n",
    "    \n",
    "</div>"
   ]
  },
  {
   "cell_type": "markdown",
   "metadata": {},
   "source": [
    "### By Using The Significance Level / \"Alpha\" Value = 0.01"
   ]
  },
  {
   "cell_type": "markdown",
   "metadata": {},
   "source": [
    "    First, we will check the 'user_per_group_dist' table, as follows:"
   ]
  },
  {
   "cell_type": "code",
   "execution_count": 693,
   "metadata": {},
   "outputs": [
    {
     "data": {
      "text/html": [
       "<div>\n",
       "<style scoped>\n",
       "    .dataframe tbody tr th:only-of-type {\n",
       "        vertical-align: middle;\n",
       "    }\n",
       "\n",
       "    .dataframe tbody tr th {\n",
       "        vertical-align: top;\n",
       "    }\n",
       "\n",
       "    .dataframe thead th {\n",
       "        text-align: right;\n",
       "    }\n",
       "</style>\n",
       "<table border=\"1\" class=\"dataframe\">\n",
       "  <thead>\n",
       "    <tr style=\"text-align: right;\">\n",
       "      <th>group</th>\n",
       "      <th>A</th>\n",
       "      <th>B</th>\n",
       "      <th>total</th>\n",
       "      <th>%A</th>\n",
       "      <th>%B</th>\n",
       "    </tr>\n",
       "  </thead>\n",
       "  <tbody>\n",
       "    <tr>\n",
       "      <th>log_user_alpha</th>\n",
       "      <td>2330</td>\n",
       "      <td>834</td>\n",
       "      <td>3164</td>\n",
       "      <td>0.736410</td>\n",
       "      <td>0.263590</td>\n",
       "    </tr>\n",
       "    <tr>\n",
       "      <th>page_user_alpha</th>\n",
       "      <td>1176</td>\n",
       "      <td>345</td>\n",
       "      <td>1521</td>\n",
       "      <td>0.773176</td>\n",
       "      <td>0.226824</td>\n",
       "    </tr>\n",
       "    <tr>\n",
       "      <th>cart_user_alpha</th>\n",
       "      <td>258</td>\n",
       "      <td>67</td>\n",
       "      <td>325</td>\n",
       "      <td>0.793846</td>\n",
       "      <td>0.206154</td>\n",
       "    </tr>\n",
       "    <tr>\n",
       "      <th>purch_user_alpha</th>\n",
       "      <td>183</td>\n",
       "      <td>48</td>\n",
       "      <td>231</td>\n",
       "      <td>0.792208</td>\n",
       "      <td>0.207792</td>\n",
       "    </tr>\n",
       "  </tbody>\n",
       "</table>\n",
       "</div>"
      ],
      "text/plain": [
       "group                A    B  total        %A        %B\n",
       "log_user_alpha    2330  834   3164  0.736410  0.263590\n",
       "page_user_alpha   1176  345   1521  0.773176  0.226824\n",
       "cart_user_alpha    258   67    325  0.793846  0.206154\n",
       "purch_user_alpha   183   48    231  0.792208  0.207792"
      ]
     },
     "execution_count": 693,
     "metadata": {},
     "output_type": "execute_result"
    }
   ],
   "source": [
    "user_per_group_dist"
   ]
  },
  {
   "cell_type": "markdown",
   "metadata": {},
   "source": [
    "    Then, check for 'total_user_per_group_oke' table, as follows:"
   ]
  },
  {
   "cell_type": "code",
   "execution_count": 694,
   "metadata": {},
   "outputs": [
    {
     "data": {
      "text/html": [
       "<div>\n",
       "<style scoped>\n",
       "    .dataframe tbody tr th:only-of-type {\n",
       "        vertical-align: middle;\n",
       "    }\n",
       "\n",
       "    .dataframe tbody tr th {\n",
       "        vertical-align: top;\n",
       "    }\n",
       "\n",
       "    .dataframe thead th {\n",
       "        text-align: right;\n",
       "    }\n",
       "</style>\n",
       "<table border=\"1\" class=\"dataframe\">\n",
       "  <thead>\n",
       "    <tr style=\"text-align: right;\">\n",
       "      <th></th>\n",
       "      <th>total_users</th>\n",
       "    </tr>\n",
       "  </thead>\n",
       "  <tbody>\n",
       "    <tr>\n",
       "      <th>A</th>\n",
       "      <td>2330</td>\n",
       "    </tr>\n",
       "    <tr>\n",
       "      <th>B</th>\n",
       "      <td>834</td>\n",
       "    </tr>\n",
       "  </tbody>\n",
       "</table>\n",
       "</div>"
      ],
      "text/plain": [
       "   total_users\n",
       "A         2330\n",
       "B          834"
      ]
     },
     "execution_count": 694,
     "metadata": {},
     "output_type": "execute_result"
    }
   ],
   "source": [
    "total_user_per_group_oke"
   ]
  },
  {
   "cell_type": "markdown",
   "metadata": {},
   "source": [
    "# Hypothesis Testing Formulation Part 1\n",
    "    The stated Hypothesis formula in several things, as follows:\n",
    "    \n",
    "    - The significance level / \"alpha\" value to be used = 0.01\n",
    "    - Using the Z-Criterion Statistics approach\n",
    "    - Ho = The proportion among group samples was statistically the same (=)\n",
    "    - H1 = The proportion among group samples was statistically significant not the same (/=)"
   ]
  },
  {
   "cell_type": "markdown",
   "metadata": {},
   "source": [
    "    Now, we will define a formula for check the significant statistically difference among group samples, as follows:"
   ]
  },
  {
   "cell_type": "code",
   "execution_count": 695,
   "metadata": {},
   "outputs": [],
   "source": [
    "def check_hypothesis_kuy(successes1, successes2, trials1, trials2, alpha=0.01):\n",
    "    \n",
    "    p1 = successes1/trials1\n",
    "\n",
    "    p2 = successes2/trials2\n",
    "\n",
    "    p_combined = (successes1 + successes2) / (trials1 + trials2)\n",
    "\n",
    "    difference = p1 - p2\n",
    "\n",
    "    z_value = difference / math.sqrt(p_combined * (1 - p_combined) * (1/trials1 + 1/trials2))\n",
    "\n",
    "    distr = stats.norm(0, 1)\n",
    "\n",
    "    z_value = difference / math.sqrt(p_combined * (1 - p_combined) * (1/trials1 + 1/trials2))\n",
    "\n",
    "\n",
    "    p_value = (1 - distr.cdf(abs(z_value))) * 2\n",
    "\n",
    "    print('p-value: ', p_value)\n",
    "\n",
    "    if (p_value < alpha):\n",
    "        print(\"Reject the null hypothesis: there is a significant difference among the shares\")\n",
    "    else:\n",
    "        print(\"Failed to reject the null hypothesis, there is no reason to consider the shares different\")"
   ]
  },
  {
   "cell_type": "markdown",
   "metadata": {},
   "source": [
    "    Then, we define a formula for check the significant statistically difference among event in each group samples, as follows:"
   ]
  },
  {
   "cell_type": "code",
   "execution_count": 696,
   "metadata": {},
   "outputs": [],
   "source": [
    "def check_event_hypothesis_kuy(user_per_group_dist, total_user_per_group_oke, event_name, exp1, exp2):\n",
    "    frac1 = user_per_group_dist.loc[event_name, exp1] / total_user_per_group_oke.loc[exp1]\n",
    "    frac2 = user_per_group_dist.loc[event_name, exp2] / total_user_per_group_oke.loc[exp2]\n",
    "    print (f'{frac1} event {event_name} group {exp1}')\n",
    "    print (f'{frac2} event {event_name} group {exp2}')\n",
    "    check_hypothesis_kuy(user_per_group_dist.loc[event_name, exp1],\n",
    "                     user_per_group_dist.loc[event_name, exp2],\n",
    "                     total_user_per_group_oke.loc[exp1],\n",
    "                     total_user_per_group_oke.loc[exp2],\n",
    "                    )"
   ]
  },
  {
   "cell_type": "markdown",
   "metadata": {},
   "source": [
    "    Next, we calculate the significant statistically difference among event in each group samples, as follows:"
   ]
  },
  {
   "cell_type": "code",
   "execution_count": 697,
   "metadata": {},
   "outputs": [
    {
     "name": "stdout",
     "output_type": "stream",
     "text": [
      "total_users    1.0\n",
      "Name: A, dtype: float64 event log_user_alpha group A\n",
      "total_users    1.0\n",
      "Name: B, dtype: float64 event log_user_alpha group B\n",
      "p-value:  [nan]\n",
      "Failed to reject the null hypothesis, there is no reason to consider the shares different\n",
      "\n",
      "total_users    0.504721\n",
      "Name: A, dtype: float64 event page_user_alpha group A\n",
      "total_users    0.413669\n",
      "Name: B, dtype: float64 event page_user_alpha group B\n",
      "p-value:  [6.2922157e-06]\n",
      "Reject the null hypothesis: there is a significant difference among the shares\n",
      "\n",
      "total_users    0.11073\n",
      "Name: A, dtype: float64 event cart_user_alpha group A\n",
      "total_users    0.080336\n",
      "Name: B, dtype: float64 event cart_user_alpha group B\n",
      "p-value:  [0.01309844]\n",
      "Failed to reject the null hypothesis, there is no reason to consider the shares different\n",
      "\n",
      "total_users    0.078541\n",
      "Name: A, dtype: float64 event purch_user_alpha group A\n",
      "total_users    0.057554\n",
      "Name: B, dtype: float64 event purch_user_alpha group B\n",
      "p-value:  [0.04558298]\n",
      "Failed to reject the null hypothesis, there is no reason to consider the shares different\n",
      "\n"
     ]
    }
   ],
   "source": [
    "for event_name in user_per_group_dist.index:\n",
    "    check_event_hypothesis_kuy(user_per_group_dist, total_user_per_group_oke,\n",
    "                           event_name, 'A', 'B')\n",
    "    print()"
   ]
  },
  {
   "cell_type": "markdown",
   "metadata": {},
   "source": [
    "    Findings:\n",
    "\n",
    "    - According to the hypothesis testing above, with the significance level / \"alpha\" value to be used = 0.01, the result is failed to reject the null hypothesis. It means that there is no significant statistically shares difference among group samples A and B, except for the event of 'product_page'."
   ]
  },
  {
   "cell_type": "markdown",
   "metadata": {},
   "source": [
    "[Back to Contents](#tableofcontents)"
   ]
  },
  {
   "cell_type": "markdown",
   "metadata": {},
   "source": [
    "### By Using The Significance Level / \"Alpha\" Value = 0.05"
   ]
  },
  {
   "cell_type": "markdown",
   "metadata": {},
   "source": [
    "# Hypothesis Testing Formulation Part 2\n",
    "    The stated Hypothesis formula in several things, as follows:\n",
    "    \n",
    "    - The significance level / \"alpha\" value to be used = 0.05\n",
    "    - Using the Z-Criterion Statistics approach\n",
    "    - Ho = The proportion among group samples was statistically the same (=)\n",
    "    - H1 = The proportion among group samples was statistically significant not the same (/=)"
   ]
  },
  {
   "cell_type": "markdown",
   "metadata": {},
   "source": [
    "    First, we will define a formula for check the significant statistically difference among group samples, as follows:"
   ]
  },
  {
   "cell_type": "code",
   "execution_count": 698,
   "metadata": {},
   "outputs": [],
   "source": [
    "def check_hypothesis_kuy(successes1, successes2, trials1, trials2, alpha=0.05):\n",
    "    \n",
    "    p1 = successes1/trials1\n",
    "\n",
    "    p2 = successes2/trials2\n",
    "\n",
    "    p_combined = (successes1 + successes2) / (trials1 + trials2)\n",
    "\n",
    "    difference = p1 - p2\n",
    "\n",
    "    z_value = difference / math.sqrt(p_combined * (1 - p_combined) * (1/trials1 + 1/trials2))\n",
    "\n",
    "    distr = stats.norm(0, 1)\n",
    "\n",
    "    z_value = difference / math.sqrt(p_combined * (1 - p_combined) * (1/trials1 + 1/trials2))\n",
    "\n",
    "\n",
    "    p_value = (1 - distr.cdf(abs(z_value))) * 2\n",
    "\n",
    "    print('p-value: ', p_value)\n",
    "\n",
    "    if (p_value < alpha):\n",
    "        print(\"Reject the null hypothesis: there is a significant difference among the shares\")\n",
    "    else:\n",
    "        print(\"Failed to reject the null hypothesis, there is no reason to consider the shares different\")"
   ]
  },
  {
   "cell_type": "markdown",
   "metadata": {},
   "source": [
    "    Then, we will define a formula for check the significant statistically difference among event in each group samples, as follows:"
   ]
  },
  {
   "cell_type": "code",
   "execution_count": 699,
   "metadata": {},
   "outputs": [],
   "source": [
    "def check_event_hypothesis_kuy(user_per_group_dist, total_user_per_group_oke, event_name, exp1, exp2):\n",
    "    frac1 = user_per_group_dist.loc[event_name, exp1] / total_user_per_group_oke.loc[exp1]\n",
    "    frac2 = user_per_group_dist.loc[event_name, exp2] / total_user_per_group_oke.loc[exp2]\n",
    "    print (f'{frac1} event {event_name} group {exp1}')\n",
    "    print (f'{frac2} event {event_name} group {exp2}')\n",
    "    check_hypothesis_kuy(user_per_group_dist.loc[event_name, exp1],\n",
    "                     user_per_group_dist.loc[event_name, exp2],\n",
    "                     total_user_per_group_oke.loc[exp1],\n",
    "                     total_user_per_group_oke.loc[exp2],\n",
    "                    )"
   ]
  },
  {
   "cell_type": "markdown",
   "metadata": {},
   "source": [
    "    Next, we calculate the significant statistically difference among event in each group samples, as follows:"
   ]
  },
  {
   "cell_type": "code",
   "execution_count": 700,
   "metadata": {},
   "outputs": [
    {
     "name": "stdout",
     "output_type": "stream",
     "text": [
      "total_users    1.0\n",
      "Name: A, dtype: float64 event log_user_alpha group A\n",
      "total_users    1.0\n",
      "Name: B, dtype: float64 event log_user_alpha group B\n",
      "p-value:  [nan]\n",
      "Failed to reject the null hypothesis, there is no reason to consider the shares different\n",
      "\n",
      "total_users    0.504721\n",
      "Name: A, dtype: float64 event page_user_alpha group A\n",
      "total_users    0.413669\n",
      "Name: B, dtype: float64 event page_user_alpha group B\n",
      "p-value:  [6.2922157e-06]\n",
      "Reject the null hypothesis: there is a significant difference among the shares\n",
      "\n",
      "total_users    0.11073\n",
      "Name: A, dtype: float64 event cart_user_alpha group A\n",
      "total_users    0.080336\n",
      "Name: B, dtype: float64 event cart_user_alpha group B\n",
      "p-value:  [0.01309844]\n",
      "Reject the null hypothesis: there is a significant difference among the shares\n",
      "\n",
      "total_users    0.078541\n",
      "Name: A, dtype: float64 event purch_user_alpha group A\n",
      "total_users    0.057554\n",
      "Name: B, dtype: float64 event purch_user_alpha group B\n",
      "p-value:  [0.04558298]\n",
      "Reject the null hypothesis: there is a significant difference among the shares\n",
      "\n"
     ]
    }
   ],
   "source": [
    "for event_name in user_per_group_dist.index:\n",
    "    check_event_hypothesis_kuy(user_per_group_dist, total_user_per_group_oke,\n",
    "                           event_name, 'A', 'B')\n",
    "    print()"
   ]
  },
  {
   "cell_type": "markdown",
   "metadata": {},
   "source": [
    "    Findings:\n",
    "\n",
    "    - According to the hypothesis testing above, with the significance level / \"alpha\" value to be used = 0.05, the results is reject the null hypothesis. It means that there is a significant difference among the shares of group samples A and B, except for the event of 'login'."
   ]
  },
  {
   "cell_type": "markdown",
   "metadata": {},
   "source": [
    "[Back to Contents](#tableofcontents)"
   ]
  },
  {
   "cell_type": "markdown",
   "metadata": {},
   "source": [
    "## Presentation\n",
    "    - Step 4. Presenting My Project to The Clients"
   ]
  },
  {
   "cell_type": "markdown",
   "metadata": {},
   "source": [
    "<div style=\"border:solid black 2px; padding: 20px\">\n",
    "    \n",
    "    This is my presentation of 'An International Online Store Analytical Project by Using The A/B Testing' project by me, awrb.\n",
    "\n",
    "</div>"
   ]
  },
  {
   "cell_type": "markdown",
   "metadata": {},
   "source": [
    "Link Presentation: https://drive.google.com/file/d/1tc2-HAUZG1hGoUHZdMOE-19aEZuWP1RJ/view?usp=sharing"
   ]
  },
  {
   "cell_type": "markdown",
   "metadata": {},
   "source": [
    "[Back to Contents](#tableofcontents)"
   ]
  },
  {
   "cell_type": "markdown",
   "metadata": {},
   "source": [
    "## General Conclusions and Recommendations\n",
    "    - Step 4. Formulating General Conclusions and Recommendations for Working with Clients"
   ]
  },
  {
   "cell_type": "markdown",
   "metadata": {},
   "source": [
    "<div style=\"border:solid black 2px; padding: 20px\">\n",
    "    \n",
    "# For Data Pre-processing\n",
    "\n",
    "    1. Transforming the DataFrames and Converting The Data Types\n",
    "    Findings:\n",
    "    - We have four datasets, namely 'events_marketing', 'upd_users', 'upd_events', and 'upd_participants'.\n",
    "\n",
    "    For 'events_marketing' dataset:\n",
    "    - The dataset amounted 14 rows and 4 columns.\n",
    "    - With data detailed, dtypes: object(4).\n",
    "    - The capitalization of the columns names title are already appropriate, ie all in consists of lowercase letters.\n",
    "    - Datasets memory usage: 576.0+ bytes.\n",
    "    - In addition, for the dataset structures contain of the name of the marketing event, the regions where the ad campaign will be held, campaign start date, and campaign end date.\n",
    "\n",
    "    For 'upd_users' dataset:\n",
    "    - The dataset amounted 58703 rows and 4 columns.\n",
    "    - With data detailed, dtypes: datetime64[ns](1), object(3).\n",
    "    - The capitalization of the columns names title are already appropriate, ie all in consists of lowercase letters.\n",
    "    - Datasets memory usage: 1.8+ MB.\n",
    "    - In addition, for the dataset structures contain of customers profile of user_id, sign-up date, region, and device used to sign up.\n",
    "\n",
    "    For 'upd_events' dataset:\n",
    "    - The dataset amounted 423761 rows and 4 columns.\n",
    "    - With data detailed, dtypes: float64(1), object(3).\n",
    "    - The capitalization of the columns names title are already appropriate, ie all in consists of lowercase letters.\n",
    "    - Datasets memory usage: 12.9+ MB.\n",
    "    - In addition, for the dataset structures contain of user_id, event date and time, event type name, and the additional data on the event (for instance, the order total in USD for purchase events).\n",
    "\n",
    "    For 'upd_participants' dataset:\n",
    "    - The dataset amounted 14525 rows and 3 columns.\n",
    "    - With data detailed, dtypes: object(3).\n",
    "    - The capitalization of the columns names title are already appropriate, ie all in consists of lowercase letters.\n",
    "    - Datasets memory usage: 340.6+ KB.\n",
    "    - In addition, for the dataset structures contain of the list of the test group the user belonged to, those are user_id, test name, and the test group the user belonged to its self.\n",
    "    \n",
    "    \n",
    "    2. Data Overview Elaboration\n",
    "    Findings:\n",
    "    - In the results above, we find that these data are in the form of object(4) from 'events_marketing' dataset, datetime64[ns](1), object(3) from 'upd_users' dataset, float64(1), object(3) from 'upd_events' dataset, and object(3) from 'upd_participants' dataset.\n",
    "    - In the result of '.head()' function, four datasets display that all of this datas are 'variant' in the form of string and numbers. The numbers form are consisting of integers, decimal numbers, datetime, also sometimes mixed with letters.\n",
    "    \n",
    "    3. Ensuring the Data Quality\n",
    "    Findings:\n",
    "    - After we ensure for 'upd_users' dataset, we find that there are users who sign up on the dates of 21-23 December 2020 while for this testing, the date company stopped taking up new users is 2020-12-21. Therefore, in the EDA stage, we will pull out them after merge all DataFrames into a DataFrame.\n",
    "    \n",
    "    - We have checked the Data Quality of dataset columns.\n",
    "    - As we could see on the 'group' column above, consist of:\n",
    "    a. Group A: 8214 participants (control group)\n",
    "    b. Group B: 6311 participants (new payment funnel group) => which surpass our expected number of test participants: that is stated 6000 at technical description.\n",
    "\n",
    "    - From ensuring the data quality of the 'ab_test' column above, there are two type of 'ab_test', those are 'interface_eu_test' and 'recommender_system_test'. Cause of our purpose of this A/B testing analysis is for 'recommender_system_test' experiment (as stated at the technical description from our predecessor). Hence, we will remove the 'interface_eu_test' in the next session.\n",
    "    \n",
    "    4. Removing One of The 'ab_test' Types\n",
    "    Findings:\n",
    "    - We have removed the 'interface_eu_test' type of 'ab_test' from 'upd_participants' dataset. Now, we are going to focus on 'recommender_system_test' test name as stated by our predecessor at the technical description in advance.\n",
    "    - We have ensured the 'upd_participants_remover' by using '.head()' and '.tail()' function and the result shows that 'ab_test' is almost 'recommender_system_test' and we could be sure that those are all in 'recommender_system_test' in this time.\n",
    "    - As stated previously on technical description, the expected number of test participants is 6000. Nevertheless, in our data above, the 'recommender_system_test' test participants is only 3675 users.\n",
    "    \n",
    "    5. Ensuring Data Anomalies\n",
    "    Findings:\n",
    "    - From our ensuring, there are no anomalies data. The 'event_dt' column (customer's event date and time) as same as the 'first_date' column (customer's sign-up date). We have already ensure by using 'more than' (>) and 'less than (<) function.\n",
    "    - The datas is already appropriate.\n",
    "    \n",
    "    6. Ensuring for Data Type, Array Form, Missing Values, and Duplicate Data\n",
    "    Findings:\n",
    "    - We have ensured for Data Type, Array Form, Missing Values, and Duplicate Data for four datasets.\n",
    "    - The Data Type is already mentioned above, consist of object(4) from 'events_marketing' dataset, datetime64[ns](1), object(3) from 'upd_users' dataset, float64(1), object(3) from 'upd_events' dataset, and object(3) from 'upd_participants' dataset.\n",
    "\n",
    "    - 1) The Array Form is (14, 4), that means 14 rows and 4 columns as well for 'events_marketing' dataset.\n",
    "    - 2) The Array Form is (58703, 4), that means 58703 rows and 4 columns as well for 'upd_users' dataset.\n",
    "    - 3) The Array Form is (423761, 4), that means 423761 rows and 4 columns as well for 'upd_events' dataset.\n",
    "    - 4) The Array Form is (14525, 3), that means 14525 rows and 3 columns as well for 'upd_participants' dataset.\n",
    "\n",
    "    - From our ensuring above, we found missing value at 'details' column from 'upd_events' dataset, those are 363447 rows (86.0% in the percentage of the whole 'upd_events' dataset).\n",
    "    - We could see and predict that the 'details' column comprises the additional data on the event, i.e. it could be one the value of the order total for events purchases.\n",
    "    - We found 'NaN' in the 'details' column which we could guess that it is on a par of there are no additional datas. Therefore, we could replace the values with the null values in the next session below.\n",
    "\n",
    "    - There are no Duplicate Data on four datasets.\n",
    "    \n",
    "    7. Correcting The Missing Values and Duplicate Data\n",
    "    Findings:\n",
    "    - Beforehand, we found 363447 rows of Missing Values in the 'details' column from 'upd_events' dataset, that means 86.0% in the percentage calculation from the whole 'upd_events' dataset.\n",
    "    - Now, we have done in removing all missing values. There are no missing value anymore.\n",
    "    - The four datasets are ready to be analyzed and processed.\n",
    "\n",
    "</div>"
   ]
  },
  {
   "cell_type": "markdown",
   "metadata": {},
   "source": [
    "<div style=\"border:solid black 2px; padding: 20px\">\n",
    "    \n",
    "# For Explorative Data Analysis (EDA)\n",
    "    \n",
    "    1. Learning Conversion at Different Funnel Stages\n",
    "    Findings:\n",
    "    - We could predict that the funnel stream down as follows: 'login' => 'product_page' => 'purchase' => 'product_cart'.\n",
    "    - From the table above, total events in purchase is higher than product_cart ('purchase' is 2789 and 'product_cart' is 2787) \n",
    "    - To get over it, the come up approach is Closed Funnel, so it could shows sequential stream down funnels in one period. The funnels are not counted if they do not start from the first page (in 'login' event).\n",
    "\n",
    "    a. Closed Funnel Approach\n",
    "    Temporary Findings:\n",
    "    At this moment, we have four new DataFrames, those are:\n",
    "    1. 'upd_events_login'\n",
    "    2. 'upd_events_product_page'\n",
    "    3. 'upd_events_product_cart'\n",
    "    4. 'upd_events_purchase'\n",
    "\n",
    "    Temporary Findings:\n",
    "    - We have already merged each table to new table.\n",
    "\n",
    "    b. Total Events of Funnel\n",
    "    Temporary Findings:\n",
    "    - By using Closed Funnel approach, we could notice that from 9506 events of 'login', only 2524 that continue to the 'product_page' ('upd_events_product_page'), 429 events continue to the 'product_cart' ('upd_events_product_cart') and 379 events completed until the 'purchase' ('upd_events_purchase') stage.\n",
    "\n",
    "    c. Total Users of Funnel\n",
    "    Findings:\n",
    "    - We have 3164 users who has performed on event of 'login', with details as follows:\n",
    "\n",
    "    a. 1521 users has performed on event of 'product_page' ('upd_events_product_page').\n",
    "    b. 325 users has performed on event of 'product_cart' ('upd_events_product_cart').\n",
    "    c. 231 users has performed on event of 'purchase' (upd_events_purchase').\n",
    "\n",
    "    - The percentage of users who make the entire journey from the first event till checkout stage is 7.3% (3164 users versus 231 users).\n",
    "    \n",
    "    2. Learning Whether The Number of Events Per User Distributed Equally in The Samples\n",
    "    Findings:\n",
    "    - The distribution average of events per user is 77.3% in Group A and 22.6% in Group B which distributed prevalently in each event.\n",
    "    \n",
    "    3. Learning Whether The Users who Enter Both Samples\n",
    "    Findings:\n",
    "    - There are no dual users in either sample.\n",
    "    - From the table result above, the total of Group A ('group_a') is 2330 users, and the total of Group B ('group_b') is 834 users. It is equal to 3164 users in 'user_id' column ('log_user_alpha' column).\n",
    "    \n",
    "    4. Learning How Is The Number of Events Distributed by Days\n",
    "    Findings:\n",
    "    - At the beginning of December 2020, Group A and B were in almost the same position. Different from the mid of December 2020, Group A preside till the end of the test.\n",
    "    - Group A generates more events than group B. This might because the number of users in Group A is far higher than in Group B (2330 users versus 834 users).\n",
    "\n",
    "    Prediction:\n",
    "    - We could predict that the hypothesis test in Group B has no effect in increasing events cause of there are only a few users there.\n",
    "    \n",
    "    5. Learning The Possible Details in The Data that We have to take into Account before starting The A/B Test\n",
    "    Findings:\n",
    "    - There are no users in group B as the test group instead of is only 834 users compared to the control group A, that is 2330 users.\n",
    "    - There are no events in group B as the test group instead of is only 2364 events compared to the control group A, that is 7142 users.\n",
    "\n",
    "    Prediction:\n",
    "    - We could predict that the hypothesis test in group B has no effect on the increasing events cause of there are only a few users/events there.\n",
    "    \n",
    "</div>"
   ]
  },
  {
   "cell_type": "markdown",
   "metadata": {},
   "source": [
    "<div style=\"border:solid black 2px; padding: 20px\">\n",
    "    \n",
    "# For Evaluation The A/B Test Results\n",
    "    \n",
    "    The stated Hypothesis formula in several things, as follows:\n",
    "    - The significance level / \"alpha\" value to be used = 0.01 and 0.05\n",
    "    - Using the Z-Criterion Statistics approach\n",
    "    - Ho = The proportion among group samples was statistically the same (=)\n",
    "    - H1 = The proportion among group samples was statistically significant not the same (/=)\n",
    "\n",
    "    1. By Using The Significance Level / \"Alpha\" Value = 0.01\n",
    "    Findings:\n",
    "    - According to the hypothesis testing above, with the significance level / \"alpha\" value to be used = 0.01, the result is failed to reject the null hypothesis. It means that there is no significant statistically shares difference among group samples A and B, except for the event of 'product_page'.\n",
    "\n",
    "    2. By Using The Significance Level / \"Alpha\" Value = 0.05\n",
    "    Findings:\n",
    "    - According to the hypothesis testing above, with the significance level / \"alpha\" value to be used = 0.05, the results is reject the null hypothesis. It means that there is a significant difference among the shares of group samples A and B, except for the event of 'login'.\n",
    "    \n",
    "</div>"
   ]
  },
  {
   "cell_type": "markdown",
   "metadata": {},
   "source": [
    "<div style=\"border:solid black 2px; padding: 20px\">\n",
    "\n",
    "# Presentation\n",
    "\n",
    "    Link Presentation: https://drive.google.com/file/d/1tc2-HAUZG1hGoUHZdMOE-19aEZuWP1RJ/view?usp=sharing\n",
    "    \n",
    "</div>"
   ]
  },
  {
   "cell_type": "markdown",
   "metadata": {},
   "source": [
    "<div style=\"border:solid black 2px; padding: 20px\">\n",
    "    \n",
    "# Recommendations\n",
    "    \n",
    "    - The difference of the A/B testing results for statistical differences among the proportions using Z-Criterion \"alpha\" value = 0.01 (failed to reject the null hypothesis) and \"alpha\" value = 0.05 (reject the null hypothesis). It means that there is a possibility of a significant difference between the shares of group samples A and B. Instead of the decreasing alpha from 0.05 to 0.01 makes it harder to reject the null hypothesis.\n",
    "    \n",
    "    - According to the data above, we could predict that the hypothesis test in group B has no effect in the increasing events cause of there are only a few users in group B there.\n",
    "    \n",
    "    - It will preferable for we recommend increasing the size of the population under observation and longer trial days for more convincing A/B test results.\n",
    "    \n",
    "</div>"
   ]
  },
  {
   "cell_type": "markdown",
   "metadata": {},
   "source": [
    "[Back to Contents](#tableofcontents)"
   ]
  }
 ],
 "metadata": {
  "kernelspec": {
   "display_name": "Python 3 (ipykernel)",
   "language": "python",
   "name": "python3"
  },
  "language_info": {
   "codemirror_mode": {
    "name": "ipython",
    "version": 3
   },
   "file_extension": ".py",
   "mimetype": "text/x-python",
   "name": "python",
   "nbconvert_exporter": "python",
   "pygments_lexer": "ipython3",
   "version": "3.9.5"
  },
  "toc": {
   "base_numbering": 1,
   "nav_menu": {},
   "number_sections": true,
   "sideBar": true,
   "skip_h1_title": true,
   "title_cell": "Table of Contents",
   "title_sidebar": "Contents",
   "toc_cell": false,
   "toc_position": {
    "height": "calc(100% - 180px)",
    "left": "10px",
    "top": "150px",
    "width": "285.625px"
   },
   "toc_section_display": true,
   "toc_window_display": true
  }
 },
 "nbformat": 4,
 "nbformat_minor": 2
}
