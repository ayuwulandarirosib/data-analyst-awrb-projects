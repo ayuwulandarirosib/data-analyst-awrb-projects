{
 "cells": [
  {
   "cell_type": "markdown",
   "metadata": {},
   "source": [
    "<div style=\"border:solid black 2px; padding: 20px\">\n",
    "\n",
    "    \n",
    "**Outlining The Task**\n",
    "    \n",
    "</div> "
   ]
  },
  {
   "cell_type": "markdown",
   "metadata": {},
   "source": [
    "<div style=\"border:solid black 2px; padding: 20px\">\n",
    "<div style=\"border:solid gray 5px; padding: 20px\" class=\"alert alert-warning\">\n",
    "    \n",
    "# Customers' Loyalty Program Analysis by awrb\n",
    "    \n",
    "</div> "
   ]
  },
  {
   "cell_type": "markdown",
   "metadata": {},
   "source": [
    "# Table of Contents: <a id='tableofcontents'></a>\n",
    "\n",
    "    - 1. Introduction\n",
    "        - 1.1 Goal\n",
    "        - 1.2 Stages\n",
    "    - 2. Data Pre-processing\n",
    "        - 2.1 Data Overview Elaboration\n",
    "        - 2.2 Rectifying Columns Names\n",
    "        - 2.3 Ensuring the Data Quality\n",
    "        - 2.4 Ensuring for Data Type, Array Form, Missing Values, and Duplicate Data\n",
    "        - 2.5 Correcting The Missing Values and Duplicate Data\n",
    "            - 2.5.1 Missing Values\n",
    "            - 2.5.2 Duplicate Data\n",
    "    - 3. Explorative Data Analysis (EDA)\n",
    "        - 3.1 Description of Analyzing The Loyalty Program Approach\n",
    "        - 3.2 Description of Calculating Average Purchase Size Method\n",
    "        - 3.3 Analyzing The Loyalty Program\n",
    "            - 3.3.1 Analyzing of the changes in average purchase size for each cohort for loyalty program members/non-members\n",
    "            - 3.3.2 Analyzing the purchase frequency for loyalty program members/non-members\n",
    "    - 4. Hypothesis Testing\n",
    "        - 4.1 Formulating and Testing Statistical Hypotheses\n",
    "            - 4.1.1 Testing the hypothesis that the average purchase size is higher for loyalty program members than non-members\n",
    "            - 4.1.2 Formulating a statistical hypothesis regarding the data from the dataset and test it\n",
    "    - 5. The Use of Metrics and Indicators Business\n",
    "    - 6. Dashboard\n",
    "    - 7. Presentation\n",
    "    - 8. General Conclusions and Recommendations"
   ]
  },
  {
   "cell_type": "markdown",
   "metadata": {},
   "source": [
    "## Introduction"
   ]
  },
  {
   "cell_type": "markdown",
   "metadata": {},
   "source": [
    "        The dataset contains data on purchases made at the building-material retailer Home World. All of its customers have membership cards. Moreover, they could become members of the store's loyalty program for $20 per month. The program includes discounts, information on special offers, and gifts."
   ]
  },
  {
   "cell_type": "markdown",
   "metadata": {},
   "source": [
    "### Goal"
   ]
  },
  {
   "cell_type": "markdown",
   "metadata": {},
   "source": [
    "        Therefore, we are going to take in deep in delving dataset materials in this project analysis. Accordingly, we have to define for the Project background.\n",
    "        \n",
    "        First, the customer is everyone who purchases at the building-material retailer Home World and they have membership cards. In this way, the project manager responsible for the loyalty program.\n",
    "    \n",
    "        Second, the targets of this information analysis are they who intended user of the final result. They are who the clients and retailers of the building-material Home World. Specifically the customers who initiated the projects.\n",
    "        \n",
    "        Third, the customers could become members of the store's loyalty program for $20 per month. The program includes discounts, information on special offers, and gifts.\n",
    "        \n",
    "        Fourth, this project is made to purpose for long term period or the entire period, so the development have to experiencing an upward movement. Indeed, we use the already datasets for our project making analysis.\n",
    "        \n",
    "        Fifth, the presentation intended for the clients and retailers. Moreover for the customers, in case by easy presentation which is easier to understand by the customers.\n",
    "        \n",
    "        Sixth, following the introduction of the loyalty program, it's important to understand whether it has actually led to the expected growth in average purchase size and number of items in the cart. This study will tell us how effective the program is.\n",
    "        \n",
    "        Seventh, this is new and fresh research. Our solution for developing the business growth with the aim of all parties benefiting each other."
   ]
  },
  {
   "cell_type": "markdown",
   "metadata": {},
   "source": [
    "### Stages"
   ]
  },
  {
   "cell_type": "markdown",
   "metadata": {},
   "source": [
    "    There are several steps to complete this project, namely:\n",
    "\n",
    "    Step 1. Downloading and Loading The Data\n",
    "    Step 2. Performing Several Focus Things to be Analyzed\n",
    "    Step 3. Doing Tests on The Hypothesis\n",
    "    Step 4. Metrics and Indicators Business\n",
    "    Step 5. Dashboard Construction\n",
    "    Step 6. Preparing The Presentation\n",
    "    Step 7. Formulating General Conclusions and Recommendations for Working with Customers\n",
    "    \n",
    "    which is divided into the following detailed stages:\n",
    "\n",
    "    1. Data Pre-processing\n",
    "    2. Explorative Data Analysis (EDA)\n",
    "    3. Hypothesis Testing\n",
    "    4. The Use of Metrics and Indicators Business\n",
    "    5. Dashboard\n",
    "    6. Presentation\n",
    "    7. General Conclusions and Recommendations\n",
    "    \n",
    "    With the following description:\n",
    "\n",
    "    1. Data Pre-processing (Step 1. Downloading and Loading The Data)\n",
    "    - In this stage, we will load and read datasets from the following file path:\n",
    "\n",
    "    '/datasets/retail_dataset_us.csv'\n",
    "    '/datasets/product_codes_us.csv'\n",
    "    \n",
    "    Here are the data descriptions of the files path above:\n",
    "    \n",
    "    retail_dataset_us.csv contains:\n",
    "    - purchaseId\n",
    "    - item_ID\n",
    "    - purchasedate\n",
    "    - Quantity — the number of items in the purchase\n",
    "    - CustomerID\n",
    "    - loyalty_program — whether the customer is a member of the loyalty program\n",
    "    - ShopID\n",
    "    \n",
    "    product_codes_us.csv contains:\n",
    "    - productID\n",
    "    - price_per_one\n",
    "    \n",
    "    2. Explorative Data Analysis (EDA) (Step 2. Performing Several Focus Things to be Analyzed)\n",
    "    - In this stage, there are several things that need to be our focus, namely:\n",
    "        1. Description of Analyzing The Loyalty Program Approach\n",
    "        2. Description of Calculating Average Purchase Size Method\n",
    "        3. Analyzing The Loyalty Program\n",
    "            - Analyzing of the changes in average purchase size for each cohort for loyalty program members/non-members\n",
    "            - Analyzing the purchase frequency for loyalty program members/non-members\n",
    "    \n",
    "    3. Hypothesis Testing (Step 3. Doing Tests on The Hypothesis)\n",
    "    - In this stage, we will do the tests on the Hypothesis.\n",
    "        1. Formulating and Testing Statistical Hypotheses\n",
    "            - Testing the hypothesis that the average purchase size is higher for loyalty program members than non-members\n",
    "            - Formulating a statistical hypothesis regarding the data from the dataset and test\n",
    "    \n",
    "    4. The Use of Metrics and Indicators Business (Step 4. Metrics and Indicators Business)\n",
    "    - In this stage, we will do the Metrics and Indicators Business.\n",
    "    \n",
    "    \n",
    "    5. Dashboard (Step 5. Dashboard Construction)\n",
    "    - In this stage, we will create the Dashboard Construction for visualization on Tableau Public.\n",
    "    \n",
    "    \n",
    "    6. Presentation (Step 6. Preparing The Presentation)\n",
    "    - In this stage, we will prepare for the presentation of the project.\n",
    "    \n",
    "    \n",
    "    7. General Conclusions and Recommendations (Step 7. Formulating General Conclusions and Recommendations for Working with Clients)\n",
    "    - In this stage, we will draw the conclusions and formulate recommendations."
   ]
  },
  {
   "cell_type": "markdown",
   "metadata": {},
   "source": [
    "[Back to Contents](#tableofcontents)"
   ]
  },
  {
   "cell_type": "markdown",
   "metadata": {},
   "source": [
    "# Analyzing The Store's Loyalty Program"
   ]
  },
  {
   "cell_type": "markdown",
   "metadata": {},
   "source": [
    "## Data Pre-processing\n",
    "    - Step 1. Downloading and Loading The Data"
   ]
  },
  {
   "cell_type": "markdown",
   "metadata": {},
   "source": [
    "<div style=\"border:solid black 2px; padding: 20px\">    \n",
    "    \n",
    "    First of all, we are going to load the required libraries of 'pandas', 'numpy', 'datetime', 'matplotlib.pyplot', 'seaborn', 'warnings', as follows:\n",
    "    \n",
    "</div>  "
   ]
  },
  {
   "cell_type": "code",
   "execution_count": 1,
   "metadata": {},
   "outputs": [],
   "source": [
    "import pandas as pd\n",
    "import numpy as np\n",
    "import datetime as dt\n",
    "import matplotlib.pyplot as plt\n",
    "import seaborn as sns\n",
    "from scipy import stats as st\n",
    "\n",
    "import warnings\n",
    "warnings.filterwarnings('ignore')\n",
    "pd.set_option('display.precision', 20)\n",
    "pd.set_option('display.max_columns', 100)"
   ]
  },
  {
   "cell_type": "markdown",
   "metadata": {},
   "source": [
    "    Now, we will load the data files into DataFrames, as follows:"
   ]
  },
  {
   "cell_type": "code",
   "execution_count": 147,
   "metadata": {},
   "outputs": [],
   "source": [
    "dataset_retail_path = pd.read_csv('/datasets/retail_dataset_us.csv', parse_dates=['purchasedate'])\n",
    "codes_product_path = pd.read_csv('/datasets/product_codes_us.csv', sep = \";\")"
   ]
  },
  {
   "cell_type": "markdown",
   "metadata": {},
   "source": [
    "    Also upon up, we have already optimize the data for analysis purposes, columns containing dates which are converted into date data type, like the functions above."
   ]
  },
  {
   "cell_type": "markdown",
   "metadata": {},
   "source": [
    "    Now, we are going to take a look for the datas. These are the datas:"
   ]
  },
  {
   "cell_type": "code",
   "execution_count": 148,
   "metadata": {},
   "outputs": [
    {
     "name": "stdout",
     "output_type": "stream",
     "text": [
      "<class 'pandas.core.frame.DataFrame'>\n",
      "RangeIndex: 105335 entries, 0 to 105334\n",
      "Data columns (total 7 columns):\n",
      " #   Column           Non-Null Count   Dtype         \n",
      "---  ------           --------------   -----         \n",
      " 0   purchaseid       105335 non-null  object        \n",
      " 1   item_ID          105335 non-null  object        \n",
      " 2   Quantity         105335 non-null  int64         \n",
      " 3   purchasedate     105335 non-null  datetime64[ns]\n",
      " 4   CustomerID       69125 non-null   float64       \n",
      " 5   loyalty_program  105335 non-null  int64         \n",
      " 6   ShopID           105335 non-null  object        \n",
      "dtypes: datetime64[ns](1), float64(1), int64(2), object(3)\n",
      "memory usage: 5.6+ MB\n"
     ]
    }
   ],
   "source": [
    "dataset_retail_path.info()"
   ]
  },
  {
   "cell_type": "code",
   "execution_count": 149,
   "metadata": {},
   "outputs": [
    {
     "name": "stdout",
     "output_type": "stream",
     "text": [
      "<class 'pandas.core.frame.DataFrame'>\n",
      "RangeIndex: 3159 entries, 0 to 3158\n",
      "Data columns (total 2 columns):\n",
      " #   Column         Non-Null Count  Dtype  \n",
      "---  ------         --------------  -----  \n",
      " 0   productID      3159 non-null   object \n",
      " 1   price_per_one  3159 non-null   float64\n",
      "dtypes: float64(1), object(1)\n",
      "memory usage: 49.5+ KB\n"
     ]
    }
   ],
   "source": [
    "codes_product_path.info()"
   ]
  },
  {
   "cell_type": "markdown",
   "metadata": {},
   "source": [
    "    Findings:\n",
    "    - We have two datasets, namely 'dataset_retail_path' and 'codes_product_path'.\n",
    "    \n",
    "    For 'dataset_retail_path' dataset:\n",
    "    - The datasets amounted 105335 rows and 7 columns.\n",
    "    - With data detailed, dtypes: datetime64[ns](1), float64(1), int64(2), object(3).\n",
    "    - The capitalization of the columns names title still contains a mixture of upper and lowercase letters.\n",
    "    - Datasets memory usage: 5.6+ MB.\n",
    "    - In addition, there are some columns that comprise about customer's purchase transaction information in the table above. Those are 'purchaseid', 'item_ID', 'Quantity', 'purchasedate', 'CustomerID', 'loyalty_program', and 'ShopID'.\n",
    "    \n",
    "\n",
    "    For 'codes_product_path' dataset:\n",
    "    - The datasets amounted 3159 rows and 2 columns.\n",
    "    - With data detailed, dtypes: float64(1), object(1).\n",
    "    - The capitalization of the columns names title still contains a mixture of upper and lowercase letters.\n",
    "    - Datasets memory usage: 49.5+ KB.\n",
    "    - There are two columns that comprise about product information. Those are 'productID' and 'price_per_one'."
   ]
  },
  {
   "cell_type": "markdown",
   "metadata": {},
   "source": [
    "[Back to Contents](#tableofcontents)"
   ]
  },
  {
   "cell_type": "markdown",
   "metadata": {},
   "source": [
    "### Data Overview Elaboration"
   ]
  },
  {
   "cell_type": "markdown",
   "metadata": {},
   "source": [
    "    In this session, we will do the data overview elaboration by using some functions of 'columns', '.info()', '.head()', and '.describe()' for checking the datas, as follows:"
   ]
  },
  {
   "cell_type": "markdown",
   "metadata": {},
   "source": [
    "    For 'dataset_retail_path' dataset:"
   ]
  },
  {
   "cell_type": "code",
   "execution_count": 150,
   "metadata": {},
   "outputs": [
    {
     "data": {
      "text/plain": [
       "Index(['purchaseid', 'item_ID', 'Quantity', 'purchasedate', 'CustomerID',\n",
       "       'loyalty_program', 'ShopID'],\n",
       "      dtype='object')"
      ]
     },
     "execution_count": 150,
     "metadata": {},
     "output_type": "execute_result"
    }
   ],
   "source": [
    "dataset_retail_path.columns"
   ]
  },
  {
   "cell_type": "code",
   "execution_count": 151,
   "metadata": {},
   "outputs": [
    {
     "name": "stdout",
     "output_type": "stream",
     "text": [
      "<class 'pandas.core.frame.DataFrame'>\n",
      "RangeIndex: 105335 entries, 0 to 105334\n",
      "Data columns (total 7 columns):\n",
      " #   Column           Non-Null Count   Dtype         \n",
      "---  ------           --------------   -----         \n",
      " 0   purchaseid       105335 non-null  object        \n",
      " 1   item_ID          105335 non-null  object        \n",
      " 2   Quantity         105335 non-null  int64         \n",
      " 3   purchasedate     105335 non-null  datetime64[ns]\n",
      " 4   CustomerID       69125 non-null   float64       \n",
      " 5   loyalty_program  105335 non-null  int64         \n",
      " 6   ShopID           105335 non-null  object        \n",
      "dtypes: datetime64[ns](1), float64(1), int64(2), object(3)\n",
      "memory usage: 5.6+ MB\n"
     ]
    }
   ],
   "source": [
    "dataset_retail_path.info()"
   ]
  },
  {
   "cell_type": "code",
   "execution_count": 152,
   "metadata": {},
   "outputs": [
    {
     "data": {
      "text/html": [
       "<div>\n",
       "<style scoped>\n",
       "    .dataframe tbody tr th:only-of-type {\n",
       "        vertical-align: middle;\n",
       "    }\n",
       "\n",
       "    .dataframe tbody tr th {\n",
       "        vertical-align: top;\n",
       "    }\n",
       "\n",
       "    .dataframe thead th {\n",
       "        text-align: right;\n",
       "    }\n",
       "</style>\n",
       "<table border=\"1\" class=\"dataframe\">\n",
       "  <thead>\n",
       "    <tr style=\"text-align: right;\">\n",
       "      <th></th>\n",
       "      <th>purchaseid</th>\n",
       "      <th>item_ID</th>\n",
       "      <th>Quantity</th>\n",
       "      <th>purchasedate</th>\n",
       "      <th>CustomerID</th>\n",
       "      <th>loyalty_program</th>\n",
       "      <th>ShopID</th>\n",
       "    </tr>\n",
       "  </thead>\n",
       "  <tbody>\n",
       "    <tr>\n",
       "      <th>0</th>\n",
       "      <td>538280</td>\n",
       "      <td>21873</td>\n",
       "      <td>11</td>\n",
       "      <td>2016-12-10 12:50:00</td>\n",
       "      <td>18427.0</td>\n",
       "      <td>0</td>\n",
       "      <td>Shop 3</td>\n",
       "    </tr>\n",
       "    <tr>\n",
       "      <th>1</th>\n",
       "      <td>538862</td>\n",
       "      <td>22195</td>\n",
       "      <td>0</td>\n",
       "      <td>2016-12-14 14:11:00</td>\n",
       "      <td>22389.0</td>\n",
       "      <td>1</td>\n",
       "      <td>Shop 2</td>\n",
       "    </tr>\n",
       "    <tr>\n",
       "      <th>2</th>\n",
       "      <td>538855</td>\n",
       "      <td>21239</td>\n",
       "      <td>7</td>\n",
       "      <td>2016-12-14 13:50:00</td>\n",
       "      <td>22182.0</td>\n",
       "      <td>1</td>\n",
       "      <td>Shop 3</td>\n",
       "    </tr>\n",
       "    <tr>\n",
       "      <th>3</th>\n",
       "      <td>543543</td>\n",
       "      <td>22271</td>\n",
       "      <td>0</td>\n",
       "      <td>2017-02-09 15:33:00</td>\n",
       "      <td>23522.0</td>\n",
       "      <td>1</td>\n",
       "      <td>Shop 28</td>\n",
       "    </tr>\n",
       "    <tr>\n",
       "      <th>4</th>\n",
       "      <td>543812</td>\n",
       "      <td>79321</td>\n",
       "      <td>0</td>\n",
       "      <td>2017-02-13 14:40:00</td>\n",
       "      <td>23151.0</td>\n",
       "      <td>1</td>\n",
       "      <td>Shop 28</td>\n",
       "    </tr>\n",
       "  </tbody>\n",
       "</table>\n",
       "</div>"
      ],
      "text/plain": [
       "  purchaseid item_ID  Quantity        purchasedate  CustomerID  \\\n",
       "0     538280   21873        11 2016-12-10 12:50:00     18427.0   \n",
       "1     538862   22195         0 2016-12-14 14:11:00     22389.0   \n",
       "2     538855   21239         7 2016-12-14 13:50:00     22182.0   \n",
       "3     543543   22271         0 2017-02-09 15:33:00     23522.0   \n",
       "4     543812   79321         0 2017-02-13 14:40:00     23151.0   \n",
       "\n",
       "   loyalty_program   ShopID  \n",
       "0                0   Shop 3  \n",
       "1                1   Shop 2  \n",
       "2                1   Shop 3  \n",
       "3                1  Shop 28  \n",
       "4                1  Shop 28  "
      ]
     },
     "execution_count": 152,
     "metadata": {},
     "output_type": "execute_result"
    }
   ],
   "source": [
    "dataset_retail_path.head()"
   ]
  },
  {
   "cell_type": "code",
   "execution_count": 153,
   "metadata": {},
   "outputs": [
    {
     "data": {
      "text/html": [
       "<div>\n",
       "<style scoped>\n",
       "    .dataframe tbody tr th:only-of-type {\n",
       "        vertical-align: middle;\n",
       "    }\n",
       "\n",
       "    .dataframe tbody tr th {\n",
       "        vertical-align: top;\n",
       "    }\n",
       "\n",
       "    .dataframe thead th {\n",
       "        text-align: right;\n",
       "    }\n",
       "</style>\n",
       "<table border=\"1\" class=\"dataframe\">\n",
       "  <thead>\n",
       "    <tr style=\"text-align: right;\">\n",
       "      <th></th>\n",
       "      <th>Quantity</th>\n",
       "      <th>CustomerID</th>\n",
       "      <th>loyalty_program</th>\n",
       "    </tr>\n",
       "  </thead>\n",
       "  <tbody>\n",
       "    <tr>\n",
       "      <th>count</th>\n",
       "      <td>105335.00000000000000000000</td>\n",
       "      <td>69125.00000000000000000000</td>\n",
       "      <td>105335.00000000000000000000</td>\n",
       "    </tr>\n",
       "    <tr>\n",
       "      <th>mean</th>\n",
       "      <td>7.82121801870223531949</td>\n",
       "      <td>21019.30204701627371832728</td>\n",
       "      <td>0.22634451986519199540</td>\n",
       "    </tr>\n",
       "    <tr>\n",
       "      <th>std</th>\n",
       "      <td>327.94669490762487384927</td>\n",
       "      <td>1765.44467926672473367944</td>\n",
       "      <td>0.41846665415992301273</td>\n",
       "    </tr>\n",
       "    <tr>\n",
       "      <th>min</th>\n",
       "      <td>-74216.00000000000000000000</td>\n",
       "      <td>18025.00000000000000000000</td>\n",
       "      <td>0.00000000000000000000</td>\n",
       "    </tr>\n",
       "    <tr>\n",
       "      <th>25%</th>\n",
       "      <td>0.00000000000000000000</td>\n",
       "      <td>19544.00000000000000000000</td>\n",
       "      <td>0.00000000000000000000</td>\n",
       "    </tr>\n",
       "    <tr>\n",
       "      <th>50%</th>\n",
       "      <td>2.00000000000000000000</td>\n",
       "      <td>20990.00000000000000000000</td>\n",
       "      <td>0.00000000000000000000</td>\n",
       "    </tr>\n",
       "    <tr>\n",
       "      <th>75%</th>\n",
       "      <td>7.00000000000000000000</td>\n",
       "      <td>22659.00000000000000000000</td>\n",
       "      <td>0.00000000000000000000</td>\n",
       "    </tr>\n",
       "    <tr>\n",
       "      <th>max</th>\n",
       "      <td>74214.00000000000000000000</td>\n",
       "      <td>23962.00000000000000000000</td>\n",
       "      <td>1.00000000000000000000</td>\n",
       "    </tr>\n",
       "  </tbody>\n",
       "</table>\n",
       "</div>"
      ],
      "text/plain": [
       "                          Quantity                  CustomerID  \\\n",
       "count  105335.00000000000000000000  69125.00000000000000000000   \n",
       "mean        7.82121801870223531949  21019.30204701627371832728   \n",
       "std       327.94669490762487384927   1765.44467926672473367944   \n",
       "min    -74216.00000000000000000000  18025.00000000000000000000   \n",
       "25%         0.00000000000000000000  19544.00000000000000000000   \n",
       "50%         2.00000000000000000000  20990.00000000000000000000   \n",
       "75%         7.00000000000000000000  22659.00000000000000000000   \n",
       "max     74214.00000000000000000000  23962.00000000000000000000   \n",
       "\n",
       "                   loyalty_program  \n",
       "count  105335.00000000000000000000  \n",
       "mean        0.22634451986519199540  \n",
       "std         0.41846665415992301273  \n",
       "min         0.00000000000000000000  \n",
       "25%         0.00000000000000000000  \n",
       "50%         0.00000000000000000000  \n",
       "75%         0.00000000000000000000  \n",
       "max         1.00000000000000000000  "
      ]
     },
     "execution_count": 153,
     "metadata": {},
     "output_type": "execute_result"
    }
   ],
   "source": [
    "dataset_retail_path.describe()"
   ]
  },
  {
   "cell_type": "markdown",
   "metadata": {},
   "source": [
    "    For additional, we will check the range of date in the 'dataset_retail_path', as follows:"
   ]
  },
  {
   "cell_type": "code",
   "execution_count": 154,
   "metadata": {},
   "outputs": [
    {
     "data": {
      "text/plain": [
       "(Timestamp('2016-12-01 08:26:00'), Timestamp('2017-02-28 17:04:00'))"
      ]
     },
     "execution_count": 154,
     "metadata": {},
     "output_type": "execute_result"
    }
   ],
   "source": [
    "dataset_retail_path['purchasedate'].min(), dataset_retail_path['purchasedate'].max()"
   ]
  },
  {
   "cell_type": "markdown",
   "metadata": {},
   "source": [
    "    For 'codes_product_path' dataset:"
   ]
  },
  {
   "cell_type": "code",
   "execution_count": 155,
   "metadata": {},
   "outputs": [
    {
     "data": {
      "text/plain": [
       "Index(['productID', 'price_per_one'], dtype='object')"
      ]
     },
     "execution_count": 155,
     "metadata": {},
     "output_type": "execute_result"
    }
   ],
   "source": [
    "codes_product_path.columns"
   ]
  },
  {
   "cell_type": "code",
   "execution_count": 156,
   "metadata": {},
   "outputs": [
    {
     "name": "stdout",
     "output_type": "stream",
     "text": [
      "<class 'pandas.core.frame.DataFrame'>\n",
      "RangeIndex: 3159 entries, 0 to 3158\n",
      "Data columns (total 2 columns):\n",
      " #   Column         Non-Null Count  Dtype  \n",
      "---  ------         --------------  -----  \n",
      " 0   productID      3159 non-null   object \n",
      " 1   price_per_one  3159 non-null   float64\n",
      "dtypes: float64(1), object(1)\n",
      "memory usage: 49.5+ KB\n"
     ]
    }
   ],
   "source": [
    "codes_product_path.info()"
   ]
  },
  {
   "cell_type": "code",
   "execution_count": 157,
   "metadata": {},
   "outputs": [
    {
     "data": {
      "text/html": [
       "<div>\n",
       "<style scoped>\n",
       "    .dataframe tbody tr th:only-of-type {\n",
       "        vertical-align: middle;\n",
       "    }\n",
       "\n",
       "    .dataframe tbody tr th {\n",
       "        vertical-align: top;\n",
       "    }\n",
       "\n",
       "    .dataframe thead th {\n",
       "        text-align: right;\n",
       "    }\n",
       "</style>\n",
       "<table border=\"1\" class=\"dataframe\">\n",
       "  <thead>\n",
       "    <tr style=\"text-align: right;\">\n",
       "      <th></th>\n",
       "      <th>productID</th>\n",
       "      <th>price_per_one</th>\n",
       "    </tr>\n",
       "  </thead>\n",
       "  <tbody>\n",
       "    <tr>\n",
       "      <th>0</th>\n",
       "      <td>10002</td>\n",
       "      <td>0.84999999999999997780</td>\n",
       "    </tr>\n",
       "    <tr>\n",
       "      <th>1</th>\n",
       "      <td>10080</td>\n",
       "      <td>0.84999999999999997780</td>\n",
       "    </tr>\n",
       "    <tr>\n",
       "      <th>2</th>\n",
       "      <td>10120</td>\n",
       "      <td>0.20999999999999999223</td>\n",
       "    </tr>\n",
       "    <tr>\n",
       "      <th>3</th>\n",
       "      <td>10123C</td>\n",
       "      <td>0.65000000000000002220</td>\n",
       "    </tr>\n",
       "    <tr>\n",
       "      <th>4</th>\n",
       "      <td>10124A</td>\n",
       "      <td>0.41999999999999998446</td>\n",
       "    </tr>\n",
       "  </tbody>\n",
       "</table>\n",
       "</div>"
      ],
      "text/plain": [
       "  productID           price_per_one\n",
       "0     10002  0.84999999999999997780\n",
       "1     10080  0.84999999999999997780\n",
       "2     10120  0.20999999999999999223\n",
       "3    10123C  0.65000000000000002220\n",
       "4    10124A  0.41999999999999998446"
      ]
     },
     "execution_count": 157,
     "metadata": {},
     "output_type": "execute_result"
    }
   ],
   "source": [
    "codes_product_path.head()"
   ]
  },
  {
   "cell_type": "code",
   "execution_count": 158,
   "metadata": {},
   "outputs": [
    {
     "data": {
      "text/html": [
       "<div>\n",
       "<style scoped>\n",
       "    .dataframe tbody tr th:only-of-type {\n",
       "        vertical-align: middle;\n",
       "    }\n",
       "\n",
       "    .dataframe tbody tr th {\n",
       "        vertical-align: top;\n",
       "    }\n",
       "\n",
       "    .dataframe thead th {\n",
       "        text-align: right;\n",
       "    }\n",
       "</style>\n",
       "<table border=\"1\" class=\"dataframe\">\n",
       "  <thead>\n",
       "    <tr style=\"text-align: right;\">\n",
       "      <th></th>\n",
       "      <th>price_per_one</th>\n",
       "    </tr>\n",
       "  </thead>\n",
       "  <tbody>\n",
       "    <tr>\n",
       "      <th>count</th>\n",
       "      <td>3159.00000000000000000000</td>\n",
       "    </tr>\n",
       "    <tr>\n",
       "      <th>mean</th>\n",
       "      <td>2.95449509338398241809</td>\n",
       "    </tr>\n",
       "    <tr>\n",
       "      <th>std</th>\n",
       "      <td>7.21380794954317661194</td>\n",
       "    </tr>\n",
       "    <tr>\n",
       "      <th>min</th>\n",
       "      <td>0.00000000000000000000</td>\n",
       "    </tr>\n",
       "    <tr>\n",
       "      <th>25%</th>\n",
       "      <td>0.65000000000000002220</td>\n",
       "    </tr>\n",
       "    <tr>\n",
       "      <th>50%</th>\n",
       "      <td>1.44999999999999995559</td>\n",
       "    </tr>\n",
       "    <tr>\n",
       "      <th>75%</th>\n",
       "      <td>3.29000000000000003553</td>\n",
       "    </tr>\n",
       "    <tr>\n",
       "      <th>max</th>\n",
       "      <td>175.00000000000000000000</td>\n",
       "    </tr>\n",
       "  </tbody>\n",
       "</table>\n",
       "</div>"
      ],
      "text/plain": [
       "                   price_per_one\n",
       "count  3159.00000000000000000000\n",
       "mean      2.95449509338398241809\n",
       "std       7.21380794954317661194\n",
       "min       0.00000000000000000000\n",
       "25%       0.65000000000000002220\n",
       "50%       1.44999999999999995559\n",
       "75%       3.29000000000000003553\n",
       "max     175.00000000000000000000"
      ]
     },
     "execution_count": 158,
     "metadata": {},
     "output_type": "execute_result"
    }
   ],
   "source": [
    "codes_product_path.describe()"
   ]
  },
  {
   "cell_type": "markdown",
   "metadata": {},
   "source": [
    "    Findings:\n",
    "    \n",
    "    - In the results above, we find that these data are in the form of datetime64[ns](1), float64(1), int64(2), object(3) from 'dataset_retail_path' dataset and in the form of float64(1), object(1) from 'codes_product_path' dataset.\n",
    "    - In the result of '.head()' function, both two datasets display that all of this datas is 'almost' in the form of numbers, consisting of integers, decimal numbers, datetime, also sometimes mixed with letters.\n",
    "    - The datas range are between 1 December 2016 to 28 February 2017 (Timestamp('2016-12-01 08:26:00'), Timestamp('2017-02-28 17:04:00'))."
   ]
  },
  {
   "cell_type": "markdown",
   "metadata": {},
   "source": [
    "[Back to Contents](#tableofcontents)"
   ]
  },
  {
   "cell_type": "markdown",
   "metadata": {},
   "source": [
    "### Rectifying Columns Names"
   ]
  },
  {
   "cell_type": "markdown",
   "metadata": {},
   "source": [
    "        As one of the findings above, there is case of the capitalization of the columns names title still contains a mixture of upper and lowercase letters. We will rectify them by changing all of columns names into lower case and 'snake_case'.\n",
    "        On the other hand, we will revamp the column name of 'item_id' into 'product_id' from the 'dataset_retail_path' dataset, in case of has similar values with the 'product_id' from the 'codes_product_path' dataset."
   ]
  },
  {
   "cell_type": "code",
   "execution_count": 159,
   "metadata": {},
   "outputs": [],
   "source": [
    "dataset_retail_path.columns = ['purchase_id', 'product_id', 'quantity', 'purchase_date', 'customer_id', 'loyalty_program', \n",
    "                     'shop_id']\n",
    "codes_product_path.columns = ['product_id', 'price_per_one']"
   ]
  },
  {
   "cell_type": "markdown",
   "metadata": {},
   "source": [
    "    Now, we look back into the table after rectifying the columns names:"
   ]
  },
  {
   "cell_type": "markdown",
   "metadata": {},
   "source": [
    "    For 'dataset_retail_path' dataset:"
   ]
  },
  {
   "cell_type": "code",
   "execution_count": 160,
   "metadata": {},
   "outputs": [
    {
     "name": "stdout",
     "output_type": "stream",
     "text": [
      "<class 'pandas.core.frame.DataFrame'>\n",
      "RangeIndex: 105335 entries, 0 to 105334\n",
      "Data columns (total 7 columns):\n",
      " #   Column           Non-Null Count   Dtype         \n",
      "---  ------           --------------   -----         \n",
      " 0   purchase_id      105335 non-null  object        \n",
      " 1   product_id       105335 non-null  object        \n",
      " 2   quantity         105335 non-null  int64         \n",
      " 3   purchase_date    105335 non-null  datetime64[ns]\n",
      " 4   customer_id      69125 non-null   float64       \n",
      " 5   loyalty_program  105335 non-null  int64         \n",
      " 6   shop_id          105335 non-null  object        \n",
      "dtypes: datetime64[ns](1), float64(1), int64(2), object(3)\n",
      "memory usage: 5.6+ MB\n"
     ]
    }
   ],
   "source": [
    "dataset_retail_path.info()"
   ]
  },
  {
   "cell_type": "code",
   "execution_count": 161,
   "metadata": {},
   "outputs": [
    {
     "data": {
      "text/html": [
       "<div>\n",
       "<style scoped>\n",
       "    .dataframe tbody tr th:only-of-type {\n",
       "        vertical-align: middle;\n",
       "    }\n",
       "\n",
       "    .dataframe tbody tr th {\n",
       "        vertical-align: top;\n",
       "    }\n",
       "\n",
       "    .dataframe thead th {\n",
       "        text-align: right;\n",
       "    }\n",
       "</style>\n",
       "<table border=\"1\" class=\"dataframe\">\n",
       "  <thead>\n",
       "    <tr style=\"text-align: right;\">\n",
       "      <th></th>\n",
       "      <th>purchase_id</th>\n",
       "      <th>product_id</th>\n",
       "      <th>quantity</th>\n",
       "      <th>purchase_date</th>\n",
       "      <th>customer_id</th>\n",
       "      <th>loyalty_program</th>\n",
       "      <th>shop_id</th>\n",
       "    </tr>\n",
       "  </thead>\n",
       "  <tbody>\n",
       "    <tr>\n",
       "      <th>0</th>\n",
       "      <td>538280</td>\n",
       "      <td>21873</td>\n",
       "      <td>11</td>\n",
       "      <td>2016-12-10 12:50:00</td>\n",
       "      <td>18427.0</td>\n",
       "      <td>0</td>\n",
       "      <td>Shop 3</td>\n",
       "    </tr>\n",
       "    <tr>\n",
       "      <th>1</th>\n",
       "      <td>538862</td>\n",
       "      <td>22195</td>\n",
       "      <td>0</td>\n",
       "      <td>2016-12-14 14:11:00</td>\n",
       "      <td>22389.0</td>\n",
       "      <td>1</td>\n",
       "      <td>Shop 2</td>\n",
       "    </tr>\n",
       "    <tr>\n",
       "      <th>2</th>\n",
       "      <td>538855</td>\n",
       "      <td>21239</td>\n",
       "      <td>7</td>\n",
       "      <td>2016-12-14 13:50:00</td>\n",
       "      <td>22182.0</td>\n",
       "      <td>1</td>\n",
       "      <td>Shop 3</td>\n",
       "    </tr>\n",
       "    <tr>\n",
       "      <th>3</th>\n",
       "      <td>543543</td>\n",
       "      <td>22271</td>\n",
       "      <td>0</td>\n",
       "      <td>2017-02-09 15:33:00</td>\n",
       "      <td>23522.0</td>\n",
       "      <td>1</td>\n",
       "      <td>Shop 28</td>\n",
       "    </tr>\n",
       "    <tr>\n",
       "      <th>4</th>\n",
       "      <td>543812</td>\n",
       "      <td>79321</td>\n",
       "      <td>0</td>\n",
       "      <td>2017-02-13 14:40:00</td>\n",
       "      <td>23151.0</td>\n",
       "      <td>1</td>\n",
       "      <td>Shop 28</td>\n",
       "    </tr>\n",
       "  </tbody>\n",
       "</table>\n",
       "</div>"
      ],
      "text/plain": [
       "  purchase_id product_id  quantity       purchase_date  customer_id  \\\n",
       "0      538280      21873        11 2016-12-10 12:50:00      18427.0   \n",
       "1      538862      22195         0 2016-12-14 14:11:00      22389.0   \n",
       "2      538855      21239         7 2016-12-14 13:50:00      22182.0   \n",
       "3      543543      22271         0 2017-02-09 15:33:00      23522.0   \n",
       "4      543812      79321         0 2017-02-13 14:40:00      23151.0   \n",
       "\n",
       "   loyalty_program  shop_id  \n",
       "0                0   Shop 3  \n",
       "1                1   Shop 2  \n",
       "2                1   Shop 3  \n",
       "3                1  Shop 28  \n",
       "4                1  Shop 28  "
      ]
     },
     "execution_count": 161,
     "metadata": {},
     "output_type": "execute_result"
    }
   ],
   "source": [
    "dataset_retail_path.head()"
   ]
  },
  {
   "cell_type": "markdown",
   "metadata": {},
   "source": [
    "    For 'codes_product_path' dataset:"
   ]
  },
  {
   "cell_type": "code",
   "execution_count": 162,
   "metadata": {},
   "outputs": [
    {
     "name": "stdout",
     "output_type": "stream",
     "text": [
      "<class 'pandas.core.frame.DataFrame'>\n",
      "RangeIndex: 3159 entries, 0 to 3158\n",
      "Data columns (total 2 columns):\n",
      " #   Column         Non-Null Count  Dtype  \n",
      "---  ------         --------------  -----  \n",
      " 0   product_id     3159 non-null   object \n",
      " 1   price_per_one  3159 non-null   float64\n",
      "dtypes: float64(1), object(1)\n",
      "memory usage: 49.5+ KB\n"
     ]
    }
   ],
   "source": [
    "codes_product_path.info()"
   ]
  },
  {
   "cell_type": "code",
   "execution_count": 163,
   "metadata": {},
   "outputs": [
    {
     "data": {
      "text/html": [
       "<div>\n",
       "<style scoped>\n",
       "    .dataframe tbody tr th:only-of-type {\n",
       "        vertical-align: middle;\n",
       "    }\n",
       "\n",
       "    .dataframe tbody tr th {\n",
       "        vertical-align: top;\n",
       "    }\n",
       "\n",
       "    .dataframe thead th {\n",
       "        text-align: right;\n",
       "    }\n",
       "</style>\n",
       "<table border=\"1\" class=\"dataframe\">\n",
       "  <thead>\n",
       "    <tr style=\"text-align: right;\">\n",
       "      <th></th>\n",
       "      <th>product_id</th>\n",
       "      <th>price_per_one</th>\n",
       "    </tr>\n",
       "  </thead>\n",
       "  <tbody>\n",
       "    <tr>\n",
       "      <th>0</th>\n",
       "      <td>10002</td>\n",
       "      <td>0.84999999999999997780</td>\n",
       "    </tr>\n",
       "    <tr>\n",
       "      <th>1</th>\n",
       "      <td>10080</td>\n",
       "      <td>0.84999999999999997780</td>\n",
       "    </tr>\n",
       "    <tr>\n",
       "      <th>2</th>\n",
       "      <td>10120</td>\n",
       "      <td>0.20999999999999999223</td>\n",
       "    </tr>\n",
       "    <tr>\n",
       "      <th>3</th>\n",
       "      <td>10123C</td>\n",
       "      <td>0.65000000000000002220</td>\n",
       "    </tr>\n",
       "    <tr>\n",
       "      <th>4</th>\n",
       "      <td>10124A</td>\n",
       "      <td>0.41999999999999998446</td>\n",
       "    </tr>\n",
       "  </tbody>\n",
       "</table>\n",
       "</div>"
      ],
      "text/plain": [
       "  product_id           price_per_one\n",
       "0      10002  0.84999999999999997780\n",
       "1      10080  0.84999999999999997780\n",
       "2      10120  0.20999999999999999223\n",
       "3     10123C  0.65000000000000002220\n",
       "4     10124A  0.41999999999999998446"
      ]
     },
     "execution_count": 163,
     "metadata": {},
     "output_type": "execute_result"
    }
   ],
   "source": [
    "codes_product_path.head()"
   ]
  },
  {
   "cell_type": "markdown",
   "metadata": {},
   "source": [
    "    Findings:\n",
    "    \n",
    "    - We have managed to rectify the capitalization title and our data contains all in lowercase letters.\n",
    "    - We have done to revamp the column name of 'item_id' into 'product_id' from the 'dataset_retail_path' dataset, in case of has similar values with the 'product_id' from the 'codes_product_path' dataset."
   ]
  },
  {
   "cell_type": "markdown",
   "metadata": {},
   "source": [
    "[Back to Contents](#tableofcontents)"
   ]
  },
  {
   "cell_type": "markdown",
   "metadata": {},
   "source": [
    "### Ensuring the Data Quality"
   ]
  },
  {
   "cell_type": "markdown",
   "metadata": {},
   "source": [
    "    In this session, we will ensure the Data Quality both for 'dataset_retail_path' and 'codes_product_path' dataset, as follows:"
   ]
  },
  {
   "cell_type": "markdown",
   "metadata": {},
   "source": [
    "    For 'dataset_retail_path' dataset:"
   ]
  },
  {
   "cell_type": "markdown",
   "metadata": {},
   "source": [
    "    First, we are going to ensure the data quality of the 'purchase_id' column, as follows:"
   ]
  },
  {
   "cell_type": "code",
   "execution_count": 164,
   "metadata": {},
   "outputs": [
    {
     "data": {
      "text/plain": [
       "537434     675\n",
       "538071     652\n",
       "538349     620\n",
       "537638     601\n",
       "537237     597\n",
       "          ... \n",
       "543310       1\n",
       "C544433      1\n",
       "544699       1\n",
       "C544590      1\n",
       "536552       1\n",
       "Name: purchase_id, Length: 4894, dtype: int64"
      ]
     },
     "execution_count": 164,
     "metadata": {},
     "output_type": "execute_result"
    }
   ],
   "source": [
    "dataset_retail_path['purchase_id'].value_counts()"
   ]
  },
  {
   "cell_type": "markdown",
   "metadata": {},
   "source": [
    "    Second, we are going to ensure the data quality of the 'product_id' (before as the: 'item_id') column, as follows:"
   ]
  },
  {
   "cell_type": "code",
   "execution_count": 165,
   "metadata": {},
   "outputs": [
    {
     "data": {
      "text/plain": [
       "85123A    565\n",
       "22423     499\n",
       "22469     414\n",
       "22720     377\n",
       "85099B    372\n",
       "         ... \n",
       "20738       1\n",
       "16045       1\n",
       "90058B      1\n",
       "84854       1\n",
       "90027C      1\n",
       "Name: product_id, Length: 3159, dtype: int64"
      ]
     },
     "execution_count": 165,
     "metadata": {},
     "output_type": "execute_result"
    }
   ],
   "source": [
    "dataset_retail_path['product_id'].value_counts()"
   ]
  },
  {
   "cell_type": "markdown",
   "metadata": {},
   "source": [
    "    Third, we are going to ensure the data quality of the 'quantity' column, as follows:"
   ]
  },
  {
   "cell_type": "code",
   "execution_count": 166,
   "metadata": {},
   "outputs": [
    {
     "data": {
      "text/plain": [
       "[-74216,\n",
       " -9361,\n",
       " -2601,\n",
       " -1431,\n",
       " -1401,\n",
       " -991,\n",
       " -940,\n",
       " -742,\n",
       " -724,\n",
       " -601,\n",
       " -501,\n",
       " -401,\n",
       " -391,\n",
       " -321,\n",
       " -311,\n",
       " -301,\n",
       " -291,\n",
       " -241,\n",
       " -235,\n",
       " -231,\n",
       " -224,\n",
       " -218,\n",
       " -208,\n",
       " -207,\n",
       " -202,\n",
       " -201,\n",
       " -193,\n",
       " -178,\n",
       " -174,\n",
       " -163,\n",
       " -151,\n",
       " -146,\n",
       " -145,\n",
       " -141,\n",
       " -131,\n",
       " -121,\n",
       " -115,\n",
       " -107,\n",
       " -101,\n",
       " -100,\n",
       " -97,\n",
       " -95,\n",
       " -93,\n",
       " -89,\n",
       " -85,\n",
       " -81,\n",
       " -78,\n",
       " -77,\n",
       " -73,\n",
       " -71,\n",
       " -70,\n",
       " -65,\n",
       " -62,\n",
       " -61,\n",
       " -60,\n",
       " -58,\n",
       " -55,\n",
       " -54,\n",
       " -53,\n",
       " -51,\n",
       " -49,\n",
       " -48,\n",
       " -46,\n",
       " -45,\n",
       " -44,\n",
       " -43,\n",
       " -42,\n",
       " -41,\n",
       " -39,\n",
       " -37,\n",
       " -36,\n",
       " -34,\n",
       " -33,\n",
       " -32,\n",
       " -31,\n",
       " -30,\n",
       " -29,\n",
       " -26,\n",
       " -25,\n",
       " -24,\n",
       " -23,\n",
       " -22,\n",
       " -21,\n",
       " -20,\n",
       " -19,\n",
       " -18,\n",
       " -17,\n",
       " -16,\n",
       " -15,\n",
       " -14,\n",
       " -13,\n",
       " -12,\n",
       " -11,\n",
       " -10,\n",
       " -9,\n",
       " -8,\n",
       " -7,\n",
       " -6,\n",
       " -5,\n",
       " -4,\n",
       " -3,\n",
       " -2,\n",
       " 0,\n",
       " 1,\n",
       " 2,\n",
       " 3,\n",
       " 4,\n",
       " 5,\n",
       " 6,\n",
       " 7,\n",
       " 8,\n",
       " 9,\n",
       " 10,\n",
       " 11,\n",
       " 12,\n",
       " 13,\n",
       " 14,\n",
       " 15,\n",
       " 16,\n",
       " 17,\n",
       " 18,\n",
       " 19,\n",
       " 20,\n",
       " 21,\n",
       " 22,\n",
       " 23,\n",
       " 24,\n",
       " 25,\n",
       " 26,\n",
       " 27,\n",
       " 28,\n",
       " 29,\n",
       " 30,\n",
       " 31,\n",
       " 32,\n",
       " 33,\n",
       " 34,\n",
       " 35,\n",
       " 36,\n",
       " 37,\n",
       " 38,\n",
       " 39,\n",
       " 40,\n",
       " 41,\n",
       " 42,\n",
       " 43,\n",
       " 44,\n",
       " 45,\n",
       " 46,\n",
       " 47,\n",
       " 48,\n",
       " 49,\n",
       " 50,\n",
       " 51,\n",
       " 52,\n",
       " 53,\n",
       " 54,\n",
       " 55,\n",
       " 56,\n",
       " 57,\n",
       " 58,\n",
       " 59,\n",
       " 60,\n",
       " 61,\n",
       " 63,\n",
       " 64,\n",
       " 65,\n",
       " 66,\n",
       " 67,\n",
       " 68,\n",
       " 69,\n",
       " 70,\n",
       " 71,\n",
       " 72,\n",
       " 74,\n",
       " 75,\n",
       " 77,\n",
       " 78,\n",
       " 79,\n",
       " 81,\n",
       " 83,\n",
       " 88,\n",
       " 89,\n",
       " 93,\n",
       " 94,\n",
       " 95,\n",
       " 96,\n",
       " 97,\n",
       " 98,\n",
       " 99,\n",
       " 100,\n",
       " 101,\n",
       " 103,\n",
       " 105,\n",
       " 107,\n",
       " 109,\n",
       " 110,\n",
       " 111,\n",
       " 112,\n",
       " 113,\n",
       " 114,\n",
       " 115,\n",
       " 117,\n",
       " 119,\n",
       " 122,\n",
       " 123,\n",
       " 127,\n",
       " 128,\n",
       " 129,\n",
       " 134,\n",
       " 135,\n",
       " 137,\n",
       " 140,\n",
       " 143,\n",
       " 146,\n",
       " 149,\n",
       " 155,\n",
       " 159,\n",
       " 167,\n",
       " 171,\n",
       " 175,\n",
       " 179,\n",
       " 185,\n",
       " 191,\n",
       " 196,\n",
       " 197,\n",
       " 199,\n",
       " 203,\n",
       " 207,\n",
       " 209,\n",
       " 210,\n",
       " 212,\n",
       " 214,\n",
       " 215,\n",
       " 239,\n",
       " 249,\n",
       " 251,\n",
       " 255,\n",
       " 257,\n",
       " 266,\n",
       " 269,\n",
       " 271,\n",
       " 279,\n",
       " 287,\n",
       " 299,\n",
       " 319,\n",
       " 323,\n",
       " 359,\n",
       " 377,\n",
       " 383,\n",
       " 399,\n",
       " 401,\n",
       " 406,\n",
       " 407,\n",
       " 419,\n",
       " 431,\n",
       " 455,\n",
       " 459,\n",
       " 479,\n",
       " 499,\n",
       " 503,\n",
       " 575,\n",
       " 599,\n",
       " 647,\n",
       " 669,\n",
       " 719,\n",
       " 751,\n",
       " 799,\n",
       " 859,\n",
       " 863,\n",
       " 899,\n",
       " 959,\n",
       " 971,\n",
       " 999,\n",
       " 1007,\n",
       " 1009,\n",
       " 1055,\n",
       " 1151,\n",
       " 1199,\n",
       " 1283,\n",
       " 1286,\n",
       " 1295,\n",
       " 1299,\n",
       " 1355,\n",
       " 1393,\n",
       " 1399,\n",
       " 1439,\n",
       " 1487,\n",
       " 1499,\n",
       " 1727,\n",
       " 1823,\n",
       " 1929,\n",
       " 1999,\n",
       " 2399,\n",
       " 2559,\n",
       " 2591,\n",
       " 2879,\n",
       " 3113,\n",
       " 3905,\n",
       " 5567,\n",
       " 74214]"
      ]
     },
     "execution_count": 166,
     "metadata": {},
     "output_type": "execute_result"
    }
   ],
   "source": [
    "sorted(dataset_retail_path['quantity'].unique())"
   ]
  },
  {
   "cell_type": "markdown",
   "metadata": {},
   "source": [
    "    Temporary Finding:\n",
    "    - We find datas that comprise minus values in the quantity column.\n",
    "    - Now, we will find out the datas which in minus values."
   ]
  },
  {
   "cell_type": "markdown",
   "metadata": {},
   "source": [
    "    Find out the datas which in minus values in the 'quantity' column, as follows:"
   ]
  },
  {
   "cell_type": "code",
   "execution_count": 167,
   "metadata": {},
   "outputs": [
    {
     "data": {
      "text/html": [
       "<div>\n",
       "<style scoped>\n",
       "    .dataframe tbody tr th:only-of-type {\n",
       "        vertical-align: middle;\n",
       "    }\n",
       "\n",
       "    .dataframe tbody tr th {\n",
       "        vertical-align: top;\n",
       "    }\n",
       "\n",
       "    .dataframe thead th {\n",
       "        text-align: right;\n",
       "    }\n",
       "</style>\n",
       "<table border=\"1\" class=\"dataframe\">\n",
       "  <thead>\n",
       "    <tr style=\"text-align: right;\">\n",
       "      <th></th>\n",
       "      <th>purchase_id</th>\n",
       "      <th>product_id</th>\n",
       "      <th>quantity</th>\n",
       "      <th>purchase_date</th>\n",
       "      <th>customer_id</th>\n",
       "      <th>loyalty_program</th>\n",
       "      <th>shop_id</th>\n",
       "    </tr>\n",
       "  </thead>\n",
       "  <tbody>\n",
       "    <tr>\n",
       "      <th>64</th>\n",
       "      <td>C539944</td>\n",
       "      <td>22776</td>\n",
       "      <td>-2</td>\n",
       "      <td>2016-12-23 11:38:00</td>\n",
       "      <td>20239.0</td>\n",
       "      <td>0</td>\n",
       "      <td>Shop 27</td>\n",
       "    </tr>\n",
       "    <tr>\n",
       "      <th>109</th>\n",
       "      <td>C542910</td>\n",
       "      <td>20726</td>\n",
       "      <td>-2</td>\n",
       "      <td>2017-02-01 15:38:00</td>\n",
       "      <td>23190.0</td>\n",
       "      <td>1</td>\n",
       "      <td>Shop 19</td>\n",
       "    </tr>\n",
       "    <tr>\n",
       "      <th>112</th>\n",
       "      <td>C542426</td>\n",
       "      <td>22418</td>\n",
       "      <td>-25</td>\n",
       "      <td>2017-01-28 09:32:00</td>\n",
       "      <td>19825.0</td>\n",
       "      <td>0</td>\n",
       "      <td>Shop 27</td>\n",
       "    </tr>\n",
       "    <tr>\n",
       "      <th>253</th>\n",
       "      <td>C539726</td>\n",
       "      <td>22791</td>\n",
       "      <td>-11</td>\n",
       "      <td>2016-12-21 14:24:00</td>\n",
       "      <td>22686.0</td>\n",
       "      <td>1</td>\n",
       "      <td>Shop 3</td>\n",
       "    </tr>\n",
       "    <tr>\n",
       "      <th>344</th>\n",
       "      <td>C544034</td>\n",
       "      <td>21878</td>\n",
       "      <td>-2</td>\n",
       "      <td>2017-02-15 11:28:00</td>\n",
       "      <td>20380.0</td>\n",
       "      <td>0</td>\n",
       "      <td>Shop 9</td>\n",
       "    </tr>\n",
       "    <tr>\n",
       "      <th>...</th>\n",
       "      <td>...</td>\n",
       "      <td>...</td>\n",
       "      <td>...</td>\n",
       "      <td>...</td>\n",
       "      <td>...</td>\n",
       "      <td>...</td>\n",
       "      <td>...</td>\n",
       "    </tr>\n",
       "    <tr>\n",
       "      <th>105160</th>\n",
       "      <td>C541650</td>\n",
       "      <td>M</td>\n",
       "      <td>-2</td>\n",
       "      <td>2017-01-20 11:44:00</td>\n",
       "      <td>NaN</td>\n",
       "      <td>0</td>\n",
       "      <td>Shop 0</td>\n",
       "    </tr>\n",
       "    <tr>\n",
       "      <th>105172</th>\n",
       "      <td>C540246</td>\n",
       "      <td>79320</td>\n",
       "      <td>-2</td>\n",
       "      <td>2017-01-05 15:43:00</td>\n",
       "      <td>18760.0</td>\n",
       "      <td>0</td>\n",
       "      <td>Shop 19</td>\n",
       "    </tr>\n",
       "    <tr>\n",
       "      <th>105211</th>\n",
       "      <td>C539467</td>\n",
       "      <td>22801</td>\n",
       "      <td>-2</td>\n",
       "      <td>2016-12-19 12:46:00</td>\n",
       "      <td>20723.0</td>\n",
       "      <td>0</td>\n",
       "      <td>Shop 13</td>\n",
       "    </tr>\n",
       "    <tr>\n",
       "      <th>105250</th>\n",
       "      <td>C540847</td>\n",
       "      <td>22197</td>\n",
       "      <td>-3</td>\n",
       "      <td>2017-01-11 17:35:00</td>\n",
       "      <td>19137.0</td>\n",
       "      <td>0</td>\n",
       "      <td>Shop 0</td>\n",
       "    </tr>\n",
       "    <tr>\n",
       "      <th>105300</th>\n",
       "      <td>C540164</td>\n",
       "      <td>21144</td>\n",
       "      <td>-13</td>\n",
       "      <td>2017-01-05 12:02:00</td>\n",
       "      <td>20590.0</td>\n",
       "      <td>0</td>\n",
       "      <td>Shop 16</td>\n",
       "    </tr>\n",
       "  </tbody>\n",
       "</table>\n",
       "<p>2118 rows × 7 columns</p>\n",
       "</div>"
      ],
      "text/plain": [
       "       purchase_id product_id  quantity       purchase_date  customer_id  \\\n",
       "64         C539944      22776        -2 2016-12-23 11:38:00      20239.0   \n",
       "109        C542910      20726        -2 2017-02-01 15:38:00      23190.0   \n",
       "112        C542426      22418       -25 2017-01-28 09:32:00      19825.0   \n",
       "253        C539726      22791       -11 2016-12-21 14:24:00      22686.0   \n",
       "344        C544034      21878        -2 2017-02-15 11:28:00      20380.0   \n",
       "...            ...        ...       ...                 ...          ...   \n",
       "105160     C541650          M        -2 2017-01-20 11:44:00          NaN   \n",
       "105172     C540246      79320        -2 2017-01-05 15:43:00      18760.0   \n",
       "105211     C539467      22801        -2 2016-12-19 12:46:00      20723.0   \n",
       "105250     C540847      22197        -3 2017-01-11 17:35:00      19137.0   \n",
       "105300     C540164      21144       -13 2017-01-05 12:02:00      20590.0   \n",
       "\n",
       "        loyalty_program  shop_id  \n",
       "64                    0  Shop 27  \n",
       "109                   1  Shop 19  \n",
       "112                   0  Shop 27  \n",
       "253                   1   Shop 3  \n",
       "344                   0   Shop 9  \n",
       "...                 ...      ...  \n",
       "105160                0   Shop 0  \n",
       "105172                0  Shop 19  \n",
       "105211                0  Shop 13  \n",
       "105250                0   Shop 0  \n",
       "105300                0  Shop 16  \n",
       "\n",
       "[2118 rows x 7 columns]"
      ]
     },
     "execution_count": 167,
     "metadata": {},
     "output_type": "execute_result"
    }
   ],
   "source": [
    "dataset_retail_path.loc[dataset_retail_path['quantity'] < 0]"
   ]
  },
  {
   "cell_type": "markdown",
   "metadata": {},
   "source": [
    "    In this session, we will get the percentage of datas that comprise minus values in the 'quantity' column versus the whole data, as follows:"
   ]
  },
  {
   "cell_type": "code",
   "execution_count": 168,
   "metadata": {},
   "outputs": [
    {
     "data": {
      "text/plain": [
       "2.01072767835952"
      ]
     },
     "execution_count": 168,
     "metadata": {},
     "output_type": "execute_result"
    }
   ],
   "source": [
    "len(dataset_retail_path.loc[dataset_retail_path['quantity'] < 0]) / len(dataset_retail_path) * 100"
   ]
  },
  {
   "cell_type": "markdown",
   "metadata": {},
   "source": [
    "    Temporary Findings:\n",
    "    - As we could see above, there are minus values in the 'quantity' column in the initial table of 2118 rows, then we try to versus the whole data of 2%. In short, this case does not yet known what is the significance of this values or we should ask to related team. They could be the return products or something else that we still do not know. For resolve this case, we will transform the value into zero (0) values. As follows:"
   ]
  },
  {
   "cell_type": "markdown",
   "metadata": {},
   "source": [
    "    Transforming the minus value in the 'quantity' column with zero."
   ]
  },
  {
   "cell_type": "code",
   "execution_count": 169,
   "metadata": {},
   "outputs": [
    {
     "data": {
      "text/html": [
       "<div>\n",
       "<style scoped>\n",
       "    .dataframe tbody tr th:only-of-type {\n",
       "        vertical-align: middle;\n",
       "    }\n",
       "\n",
       "    .dataframe tbody tr th {\n",
       "        vertical-align: top;\n",
       "    }\n",
       "\n",
       "    .dataframe thead th {\n",
       "        text-align: right;\n",
       "    }\n",
       "</style>\n",
       "<table border=\"1\" class=\"dataframe\">\n",
       "  <thead>\n",
       "    <tr style=\"text-align: right;\">\n",
       "      <th></th>\n",
       "      <th>purchase_id</th>\n",
       "      <th>product_id</th>\n",
       "      <th>quantity</th>\n",
       "      <th>purchase_date</th>\n",
       "      <th>customer_id</th>\n",
       "      <th>loyalty_program</th>\n",
       "      <th>shop_id</th>\n",
       "    </tr>\n",
       "  </thead>\n",
       "  <tbody>\n",
       "    <tr>\n",
       "      <th>0</th>\n",
       "      <td>538280</td>\n",
       "      <td>21873</td>\n",
       "      <td>11</td>\n",
       "      <td>2016-12-10 12:50:00</td>\n",
       "      <td>18427.0</td>\n",
       "      <td>0</td>\n",
       "      <td>Shop 3</td>\n",
       "    </tr>\n",
       "    <tr>\n",
       "      <th>1</th>\n",
       "      <td>538862</td>\n",
       "      <td>22195</td>\n",
       "      <td>0</td>\n",
       "      <td>2016-12-14 14:11:00</td>\n",
       "      <td>22389.0</td>\n",
       "      <td>1</td>\n",
       "      <td>Shop 2</td>\n",
       "    </tr>\n",
       "    <tr>\n",
       "      <th>2</th>\n",
       "      <td>538855</td>\n",
       "      <td>21239</td>\n",
       "      <td>7</td>\n",
       "      <td>2016-12-14 13:50:00</td>\n",
       "      <td>22182.0</td>\n",
       "      <td>1</td>\n",
       "      <td>Shop 3</td>\n",
       "    </tr>\n",
       "    <tr>\n",
       "      <th>3</th>\n",
       "      <td>543543</td>\n",
       "      <td>22271</td>\n",
       "      <td>0</td>\n",
       "      <td>2017-02-09 15:33:00</td>\n",
       "      <td>23522.0</td>\n",
       "      <td>1</td>\n",
       "      <td>Shop 28</td>\n",
       "    </tr>\n",
       "    <tr>\n",
       "      <th>4</th>\n",
       "      <td>543812</td>\n",
       "      <td>79321</td>\n",
       "      <td>0</td>\n",
       "      <td>2017-02-13 14:40:00</td>\n",
       "      <td>23151.0</td>\n",
       "      <td>1</td>\n",
       "      <td>Shop 28</td>\n",
       "    </tr>\n",
       "    <tr>\n",
       "      <th>...</th>\n",
       "      <td>...</td>\n",
       "      <td>...</td>\n",
       "      <td>...</td>\n",
       "      <td>...</td>\n",
       "      <td>...</td>\n",
       "      <td>...</td>\n",
       "      <td>...</td>\n",
       "    </tr>\n",
       "    <tr>\n",
       "      <th>105330</th>\n",
       "      <td>538566</td>\n",
       "      <td>21826</td>\n",
       "      <td>1</td>\n",
       "      <td>2016-12-13 11:21:00</td>\n",
       "      <td>NaN</td>\n",
       "      <td>0</td>\n",
       "      <td>Shop 0</td>\n",
       "    </tr>\n",
       "    <tr>\n",
       "      <th>105331</th>\n",
       "      <td>540247</td>\n",
       "      <td>21742</td>\n",
       "      <td>0</td>\n",
       "      <td>2017-01-05 15:56:00</td>\n",
       "      <td>21143.0</td>\n",
       "      <td>0</td>\n",
       "      <td>Shop 24</td>\n",
       "    </tr>\n",
       "    <tr>\n",
       "      <th>105332</th>\n",
       "      <td>538068</td>\n",
       "      <td>85048</td>\n",
       "      <td>1</td>\n",
       "      <td>2016-12-09 14:05:00</td>\n",
       "      <td>23657.0</td>\n",
       "      <td>1</td>\n",
       "      <td>Shop 16</td>\n",
       "    </tr>\n",
       "    <tr>\n",
       "      <th>105333</th>\n",
       "      <td>538207</td>\n",
       "      <td>22818</td>\n",
       "      <td>11</td>\n",
       "      <td>2016-12-10 11:33:00</td>\n",
       "      <td>18427.0</td>\n",
       "      <td>0</td>\n",
       "      <td>Shop 29</td>\n",
       "    </tr>\n",
       "    <tr>\n",
       "      <th>105334</th>\n",
       "      <td>543977</td>\n",
       "      <td>22384</td>\n",
       "      <td>9</td>\n",
       "      <td>2017-02-14 15:35:00</td>\n",
       "      <td>21294.0</td>\n",
       "      <td>0</td>\n",
       "      <td>Shop 19</td>\n",
       "    </tr>\n",
       "  </tbody>\n",
       "</table>\n",
       "<p>105335 rows × 7 columns</p>\n",
       "</div>"
      ],
      "text/plain": [
       "       purchase_id product_id  quantity       purchase_date  customer_id  \\\n",
       "0           538280      21873        11 2016-12-10 12:50:00      18427.0   \n",
       "1           538862      22195         0 2016-12-14 14:11:00      22389.0   \n",
       "2           538855      21239         7 2016-12-14 13:50:00      22182.0   \n",
       "3           543543      22271         0 2017-02-09 15:33:00      23522.0   \n",
       "4           543812      79321         0 2017-02-13 14:40:00      23151.0   \n",
       "...            ...        ...       ...                 ...          ...   \n",
       "105330      538566      21826         1 2016-12-13 11:21:00          NaN   \n",
       "105331      540247      21742         0 2017-01-05 15:56:00      21143.0   \n",
       "105332      538068      85048         1 2016-12-09 14:05:00      23657.0   \n",
       "105333      538207      22818        11 2016-12-10 11:33:00      18427.0   \n",
       "105334      543977      22384         9 2017-02-14 15:35:00      21294.0   \n",
       "\n",
       "        loyalty_program  shop_id  \n",
       "0                     0   Shop 3  \n",
       "1                     1   Shop 2  \n",
       "2                     1   Shop 3  \n",
       "3                     1  Shop 28  \n",
       "4                     1  Shop 28  \n",
       "...                 ...      ...  \n",
       "105330                0   Shop 0  \n",
       "105331                0  Shop 24  \n",
       "105332                1  Shop 16  \n",
       "105333                0  Shop 29  \n",
       "105334                0  Shop 19  \n",
       "\n",
       "[105335 rows x 7 columns]"
      ]
     },
     "execution_count": 169,
     "metadata": {},
     "output_type": "execute_result"
    }
   ],
   "source": [
    "dataset_retail_path.loc[dataset_retail_path['quantity'] < 0, 'quantity'] = 0\n",
    "dataset_retail_path"
   ]
  },
  {
   "cell_type": "markdown",
   "metadata": {},
   "source": [
    "    Rechecking whether any the minus values after removing them, as follows:"
   ]
  },
  {
   "cell_type": "code",
   "execution_count": 170,
   "metadata": {},
   "outputs": [
    {
     "data": {
      "text/html": [
       "<div>\n",
       "<style scoped>\n",
       "    .dataframe tbody tr th:only-of-type {\n",
       "        vertical-align: middle;\n",
       "    }\n",
       "\n",
       "    .dataframe tbody tr th {\n",
       "        vertical-align: top;\n",
       "    }\n",
       "\n",
       "    .dataframe thead th {\n",
       "        text-align: right;\n",
       "    }\n",
       "</style>\n",
       "<table border=\"1\" class=\"dataframe\">\n",
       "  <thead>\n",
       "    <tr style=\"text-align: right;\">\n",
       "      <th></th>\n",
       "      <th>purchase_id</th>\n",
       "      <th>product_id</th>\n",
       "      <th>quantity</th>\n",
       "      <th>purchase_date</th>\n",
       "      <th>customer_id</th>\n",
       "      <th>loyalty_program</th>\n",
       "      <th>shop_id</th>\n",
       "    </tr>\n",
       "  </thead>\n",
       "  <tbody>\n",
       "  </tbody>\n",
       "</table>\n",
       "</div>"
      ],
      "text/plain": [
       "Empty DataFrame\n",
       "Columns: [purchase_id, product_id, quantity, purchase_date, customer_id, loyalty_program, shop_id]\n",
       "Index: []"
      ]
     },
     "execution_count": 170,
     "metadata": {},
     "output_type": "execute_result"
    }
   ],
   "source": [
    "dataset_retail_path.loc[dataset_retail_path['quantity'] < 0]"
   ]
  },
  {
   "cell_type": "markdown",
   "metadata": {},
   "source": [
    "    Thus, we will continue the next column.\n",
    "    Fourth, we are going to ensure the data quality of the 'purchase_date' column, as follows:"
   ]
  },
  {
   "cell_type": "code",
   "execution_count": 171,
   "metadata": {},
   "outputs": [
    {
     "data": {
      "text/plain": [
       "2016-12-06 16:57:00    675\n",
       "2016-12-09 14:09:00    652\n",
       "2016-12-10 14:59:00    621\n",
       "2016-12-07 15:28:00    601\n",
       "2016-12-06 09:58:00    597\n",
       "                      ... \n",
       "2017-02-17 17:05:00      1\n",
       "2017-01-05 14:38:00      1\n",
       "2017-02-21 15:11:00      1\n",
       "2017-02-24 12:25:00      1\n",
       "2016-12-13 17:10:00      1\n",
       "Name: purchase_date, Length: 4430, dtype: int64"
      ]
     },
     "execution_count": 171,
     "metadata": {},
     "output_type": "execute_result"
    }
   ],
   "source": [
    "dataset_retail_path['purchase_date'].value_counts()"
   ]
  },
  {
   "cell_type": "markdown",
   "metadata": {},
   "source": [
    "    Fifth, we are going to ensure the data quality of the 'customer_id' column, as follows:"
   ]
  },
  {
   "cell_type": "code",
   "execution_count": 172,
   "metadata": {},
   "outputs": [
    {
     "data": {
      "text/plain": [
       "18427.0    796\n",
       "23520.0    757\n",
       "20285.0    751\n",
       "20990.0    718\n",
       "20590.0    549\n",
       "          ... \n",
       "23956.0      1\n",
       "18184.0      1\n",
       "21827.0      1\n",
       "20288.0      1\n",
       "18182.0      1\n",
       "Name: customer_id, Length: 1749, dtype: int64"
      ]
     },
     "execution_count": 172,
     "metadata": {},
     "output_type": "execute_result"
    }
   ],
   "source": [
    "dataset_retail_path['customer_id'].value_counts()"
   ]
  },
  {
   "cell_type": "markdown",
   "metadata": {},
   "source": [
    "    Sixth, we are going to ensure the data quality of the 'loyalty_program' column, as follows:"
   ]
  },
  {
   "cell_type": "code",
   "execution_count": 173,
   "metadata": {},
   "outputs": [
    {
     "data": {
      "text/plain": [
       "0    81493\n",
       "1    23842\n",
       "Name: loyalty_program, dtype: int64"
      ]
     },
     "execution_count": 173,
     "metadata": {},
     "output_type": "execute_result"
    }
   ],
   "source": [
    "dataset_retail_path['loyalty_program'].value_counts()"
   ]
  },
  {
   "cell_type": "markdown",
   "metadata": {},
   "source": [
    "    And last from 'dataset_retail_path' dataset, we are going to ensure the data quality of the 'shop_id' column, as follows:"
   ]
  },
  {
   "cell_type": "code",
   "execution_count": 174,
   "metadata": {},
   "outputs": [
    {
     "data": {
      "text/plain": [
       "['Shop 0',\n",
       " 'Shop 1',\n",
       " 'Shop 10',\n",
       " 'Shop 11',\n",
       " 'Shop 12',\n",
       " 'Shop 13',\n",
       " 'Shop 14',\n",
       " 'Shop 15',\n",
       " 'Shop 16',\n",
       " 'Shop 17',\n",
       " 'Shop 18',\n",
       " 'Shop 19',\n",
       " 'Shop 2',\n",
       " 'Shop 20',\n",
       " 'Shop 21',\n",
       " 'Shop 22',\n",
       " 'Shop 23',\n",
       " 'Shop 24',\n",
       " 'Shop 25',\n",
       " 'Shop 26',\n",
       " 'Shop 27',\n",
       " 'Shop 28',\n",
       " 'Shop 29',\n",
       " 'Shop 3',\n",
       " 'Shop 30',\n",
       " 'Shop 4',\n",
       " 'Shop 5',\n",
       " 'Shop 6',\n",
       " 'Shop 7',\n",
       " 'Shop 8',\n",
       " 'Shop 9']"
      ]
     },
     "execution_count": 174,
     "metadata": {},
     "output_type": "execute_result"
    }
   ],
   "source": [
    "sorted(dataset_retail_path['shop_id'].unique())"
   ]
  },
  {
   "cell_type": "markdown",
   "metadata": {},
   "source": [
    "    For 'codes_product_path' dataset:"
   ]
  },
  {
   "cell_type": "markdown",
   "metadata": {},
   "source": [
    "    First, we are going to ensure the data quality of the 'product_id' column, as follows:"
   ]
  },
  {
   "cell_type": "code",
   "execution_count": 175,
   "metadata": {},
   "outputs": [
    {
     "data": {
      "text/plain": [
       "15044B    1\n",
       "21682     1\n",
       "90136     1\n",
       "84971S    1\n",
       "84723     1\n",
       "         ..\n",
       "22602     1\n",
       "22583     1\n",
       "90180A    1\n",
       "37509     1\n",
       "21452     1\n",
       "Name: product_id, Length: 3159, dtype: int64"
      ]
     },
     "execution_count": 175,
     "metadata": {},
     "output_type": "execute_result"
    }
   ],
   "source": [
    "codes_product_path['product_id'].value_counts()"
   ]
  },
  {
   "cell_type": "markdown",
   "metadata": {},
   "source": [
    "    Second, we are going to ensure the data quality of the 'price_per_one' column, as follows:"
   ]
  },
  {
   "cell_type": "code",
   "execution_count": 176,
   "metadata": {},
   "outputs": [
    {
     "data": {
      "text/plain": [
       "0.00000000000000000000     382\n",
       "1.25000000000000000000     251\n",
       "0.84999999999999997780     195\n",
       "0.41999999999999998446     183\n",
       "2.95000000000000017764     125\n",
       "                          ... \n",
       "2.68999999999999994671       1\n",
       "0.05999999999999999778       1\n",
       "0.07000000000000000666       1\n",
       "34.95000000000000284217      1\n",
       "9.76999999999999957367       1\n",
       "Name: price_per_one, Length: 192, dtype: int64"
      ]
     },
     "execution_count": 176,
     "metadata": {},
     "output_type": "execute_result"
    }
   ],
   "source": [
    "codes_product_path['price_per_one'].value_counts()"
   ]
  },
  {
   "cell_type": "markdown",
   "metadata": {},
   "source": [
    "    Findings:\n",
    "    \n",
    "    - We have checked the Data Quality of dataset columns.\n",
    "    - We found datas that comprise minus values in the 'quantity' column and now we have transformed the value into zero (0) values.\n",
    "    - The data is already appropriate."
   ]
  },
  {
   "cell_type": "markdown",
   "metadata": {},
   "source": [
    "[Back to Contents](#tableofcontents)"
   ]
  },
  {
   "cell_type": "markdown",
   "metadata": {},
   "source": [
    "### Ensuring for Data Type, Array Form, Missing Values, and Duplicate Data"
   ]
  },
  {
   "cell_type": "markdown",
   "metadata": {},
   "source": [
    "    We will ensure the datas, as follows:"
   ]
  },
  {
   "cell_type": "markdown",
   "metadata": {},
   "source": [
    "    1. 'dataset_retail_path' dataset"
   ]
  },
  {
   "cell_type": "markdown",
   "metadata": {},
   "source": [
    "    Now, we ensure the Data Type for 'dataset_retail_path' dataset, as follows:"
   ]
  },
  {
   "cell_type": "code",
   "execution_count": 177,
   "metadata": {},
   "outputs": [
    {
     "data": {
      "text/plain": [
       "purchase_id                object\n",
       "product_id                 object\n",
       "quantity                    int64\n",
       "purchase_date      datetime64[ns]\n",
       "customer_id               float64\n",
       "loyalty_program             int64\n",
       "shop_id                    object\n",
       "dtype: object"
      ]
     },
     "execution_count": 177,
     "metadata": {},
     "output_type": "execute_result"
    }
   ],
   "source": [
    "dataset_retail_path.dtypes"
   ]
  },
  {
   "cell_type": "markdown",
   "metadata": {},
   "source": [
    "    We ensure the Array Form for 'dataset_retail_path' dataset, as follows:"
   ]
  },
  {
   "cell_type": "code",
   "execution_count": 178,
   "metadata": {},
   "outputs": [
    {
     "data": {
      "text/plain": [
       "(105335, 7)"
      ]
     },
     "execution_count": 178,
     "metadata": {},
     "output_type": "execute_result"
    }
   ],
   "source": [
    "dataset_retail_path.shape"
   ]
  },
  {
   "cell_type": "markdown",
   "metadata": {},
   "source": [
    "    We ensure the Missing Values for 'dataset_retail_path' dataset, as follows:"
   ]
  },
  {
   "cell_type": "code",
   "execution_count": 179,
   "metadata": {},
   "outputs": [
    {
     "data": {
      "text/plain": [
       "purchase_id            0\n",
       "product_id             0\n",
       "quantity               0\n",
       "purchase_date          0\n",
       "customer_id        36210\n",
       "loyalty_program        0\n",
       "shop_id                0\n",
       "dtype: int64"
      ]
     },
     "execution_count": 179,
     "metadata": {},
     "output_type": "execute_result"
    }
   ],
   "source": [
    "dataset_retail_path.isna().sum()"
   ]
  },
  {
   "cell_type": "markdown",
   "metadata": {},
   "source": [
    "    Finally, We ensure the Duplicate Data for 'dataset_retail_path' dataset, as follows:"
   ]
  },
  {
   "cell_type": "code",
   "execution_count": 180,
   "metadata": {},
   "outputs": [
    {
     "data": {
      "text/plain": [
       "1049"
      ]
     },
     "execution_count": 180,
     "metadata": {},
     "output_type": "execute_result"
    }
   ],
   "source": [
    "dataset_retail_path.duplicated().sum()"
   ]
  },
  {
   "cell_type": "markdown",
   "metadata": {},
   "source": [
    "    2. 'codes_product_path' dataset"
   ]
  },
  {
   "cell_type": "markdown",
   "metadata": {},
   "source": [
    "    First, we ensure the Data Type for 'codes_product_path' dataset, as follows:"
   ]
  },
  {
   "cell_type": "code",
   "execution_count": 181,
   "metadata": {},
   "outputs": [
    {
     "data": {
      "text/plain": [
       "product_id        object\n",
       "price_per_one    float64\n",
       "dtype: object"
      ]
     },
     "execution_count": 181,
     "metadata": {},
     "output_type": "execute_result"
    }
   ],
   "source": [
    "codes_product_path.dtypes"
   ]
  },
  {
   "cell_type": "markdown",
   "metadata": {},
   "source": [
    "    Then, we ensure the Array Form for 'codes_product_path' dataset, as follows:"
   ]
  },
  {
   "cell_type": "code",
   "execution_count": 182,
   "metadata": {},
   "outputs": [
    {
     "data": {
      "text/plain": [
       "(3159, 2)"
      ]
     },
     "execution_count": 182,
     "metadata": {},
     "output_type": "execute_result"
    }
   ],
   "source": [
    "codes_product_path.shape"
   ]
  },
  {
   "cell_type": "markdown",
   "metadata": {},
   "source": [
    "    We ensure the Missing Values for 'codes_product_path' dataset, as follows:"
   ]
  },
  {
   "cell_type": "code",
   "execution_count": 183,
   "metadata": {},
   "outputs": [
    {
     "data": {
      "text/plain": [
       "product_id       0\n",
       "price_per_one    0\n",
       "dtype: int64"
      ]
     },
     "execution_count": 183,
     "metadata": {},
     "output_type": "execute_result"
    }
   ],
   "source": [
    "codes_product_path.isna().sum()"
   ]
  },
  {
   "cell_type": "markdown",
   "metadata": {},
   "source": [
    "    Finally, we ensure the Duplicate Data for 'codes_product_path' dataset, as follows:"
   ]
  },
  {
   "cell_type": "code",
   "execution_count": 184,
   "metadata": {},
   "outputs": [
    {
     "data": {
      "text/plain": [
       "0"
      ]
     },
     "execution_count": 184,
     "metadata": {},
     "output_type": "execute_result"
    }
   ],
   "source": [
    "codes_product_path.duplicated().sum()"
   ]
  },
  {
   "cell_type": "markdown",
   "metadata": {},
   "source": [
    "    Findings:\n",
    "    \n",
    "    - We have ensured for Data Type, Array Form, Missing Values, and Duplicate Data for both datasets.\n",
    "    - The Data Type is already mentioned above, consist of datetime64[ns](1), float64(1), int64(2), object(3) for 'dataset_retail_path' dataset and float64(1), object(1) for 'codes_product_path' dataset.\n",
    "    - The Array Form is (105335, 7), that means 105335 rows and 7 columns as well for 'dataset_retail_path' dataset.\n",
    "    - The Array Form is (3159, 2), that means 3159 rows and 2 columns as well for 'codes_product_path' dataset.\n",
    "    - We found 36210 Missing Values in the 'customer_id' column from 'dataset_retail_path' dataset.\n",
    "    - We found 1049 Duplicate Data from 'dataset_retail_path' dataset.\n",
    "    - Dissimilar with another dataset, for 'codes_product_path' is clean from Duplicate Data and there are no Missing Values in this dataset."
   ]
  },
  {
   "cell_type": "markdown",
   "metadata": {},
   "source": [
    "[Back to Contents](#tableofcontents)"
   ]
  },
  {
   "cell_type": "markdown",
   "metadata": {},
   "source": [
    "### Correcting The Missing Values and Duplicate Data "
   ]
  },
  {
   "cell_type": "markdown",
   "metadata": {},
   "source": [
    "    Now, we will correct the Missing Values and Duplicate Data in the 'dataset_retail_path' dataset."
   ]
  },
  {
   "cell_type": "markdown",
   "metadata": {},
   "source": [
    "#### Missing Values"
   ]
  },
  {
   "cell_type": "markdown",
   "metadata": {},
   "source": [
    "    Anteriorly, we will calculate the percentage of the missing values in the 'dataset_retail_path' dataset, as follows:"
   ]
  },
  {
   "cell_type": "code",
   "execution_count": 185,
   "metadata": {},
   "outputs": [
    {
     "data": {
      "text/plain": [
       "purchase_id         0.0000000000000000000\n",
       "product_id          0.0000000000000000000\n",
       "quantity            0.0000000000000000000\n",
       "purchase_date       0.0000000000000000000\n",
       "customer_id        34.3760383538235174683\n",
       "loyalty_program     0.0000000000000000000\n",
       "shop_id             0.0000000000000000000\n",
       "dtype: float64"
      ]
     },
     "execution_count": 185,
     "metadata": {},
     "output_type": "execute_result"
    }
   ],
   "source": [
    "dataset_retail_path.isna().sum() / len(dataset_retail_path) * 100"
   ]
  },
  {
   "cell_type": "markdown",
   "metadata": {},
   "source": [
    "    We will correct The Missing Values from 'customer_id' column in the 'dataset_retail_path' dataset, then saving into the new table, as follows:"
   ]
  },
  {
   "cell_type": "code",
   "execution_count": 186,
   "metadata": {},
   "outputs": [
    {
     "data": {
      "text/html": [
       "<div>\n",
       "<style scoped>\n",
       "    .dataframe tbody tr th:only-of-type {\n",
       "        vertical-align: middle;\n",
       "    }\n",
       "\n",
       "    .dataframe tbody tr th {\n",
       "        vertical-align: top;\n",
       "    }\n",
       "\n",
       "    .dataframe thead th {\n",
       "        text-align: right;\n",
       "    }\n",
       "</style>\n",
       "<table border=\"1\" class=\"dataframe\">\n",
       "  <thead>\n",
       "    <tr style=\"text-align: right;\">\n",
       "      <th></th>\n",
       "      <th>purchase_id</th>\n",
       "      <th>product_id</th>\n",
       "      <th>quantity</th>\n",
       "      <th>purchase_date</th>\n",
       "      <th>customer_id</th>\n",
       "      <th>loyalty_program</th>\n",
       "      <th>shop_id</th>\n",
       "    </tr>\n",
       "  </thead>\n",
       "  <tbody>\n",
       "    <tr>\n",
       "      <th>6</th>\n",
       "      <td>540468</td>\n",
       "      <td>22189</td>\n",
       "      <td>0</td>\n",
       "      <td>2017-01-07 13:55:00</td>\n",
       "      <td>NaN</td>\n",
       "      <td>0</td>\n",
       "      <td>Shop 0</td>\n",
       "    </tr>\n",
       "    <tr>\n",
       "      <th>7</th>\n",
       "      <td>541424</td>\n",
       "      <td>79321</td>\n",
       "      <td>1</td>\n",
       "      <td>2017-01-17 17:57:00</td>\n",
       "      <td>NaN</td>\n",
       "      <td>0</td>\n",
       "      <td>Shop 0</td>\n",
       "    </tr>\n",
       "    <tr>\n",
       "      <th>8</th>\n",
       "      <td>538883</td>\n",
       "      <td>22891</td>\n",
       "      <td>0</td>\n",
       "      <td>2016-12-14 15:56:00</td>\n",
       "      <td>NaN</td>\n",
       "      <td>0</td>\n",
       "      <td>Shop 0</td>\n",
       "    </tr>\n",
       "    <tr>\n",
       "      <th>11</th>\n",
       "      <td>541696</td>\n",
       "      <td>22197</td>\n",
       "      <td>4</td>\n",
       "      <td>2017-01-20 18:08:00</td>\n",
       "      <td>NaN</td>\n",
       "      <td>0</td>\n",
       "      <td>Shop 0</td>\n",
       "    </tr>\n",
       "    <tr>\n",
       "      <th>16</th>\n",
       "      <td>539744</td>\n",
       "      <td>22300</td>\n",
       "      <td>5</td>\n",
       "      <td>2016-12-21 15:21:00</td>\n",
       "      <td>NaN</td>\n",
       "      <td>0</td>\n",
       "      <td>Shop 0</td>\n",
       "    </tr>\n",
       "    <tr>\n",
       "      <th>...</th>\n",
       "      <td>...</td>\n",
       "      <td>...</td>\n",
       "      <td>...</td>\n",
       "      <td>...</td>\n",
       "      <td>...</td>\n",
       "      <td>...</td>\n",
       "      <td>...</td>\n",
       "    </tr>\n",
       "    <tr>\n",
       "      <th>105325</th>\n",
       "      <td>536982</td>\n",
       "      <td>20719</td>\n",
       "      <td>69</td>\n",
       "      <td>2016-12-03 14:27:00</td>\n",
       "      <td>NaN</td>\n",
       "      <td>0</td>\n",
       "      <td>Shop 0</td>\n",
       "    </tr>\n",
       "    <tr>\n",
       "      <th>105326</th>\n",
       "      <td>540681</td>\n",
       "      <td>22227</td>\n",
       "      <td>1</td>\n",
       "      <td>2017-01-10 16:25:00</td>\n",
       "      <td>NaN</td>\n",
       "      <td>0</td>\n",
       "      <td>Shop 0</td>\n",
       "    </tr>\n",
       "    <tr>\n",
       "      <th>105327</th>\n",
       "      <td>538349</td>\n",
       "      <td>22625</td>\n",
       "      <td>0</td>\n",
       "      <td>2016-12-10 14:59:00</td>\n",
       "      <td>NaN</td>\n",
       "      <td>0</td>\n",
       "      <td>Shop 0</td>\n",
       "    </tr>\n",
       "    <tr>\n",
       "      <th>105329</th>\n",
       "      <td>540154</td>\n",
       "      <td>22134</td>\n",
       "      <td>3</td>\n",
       "      <td>2017-01-05 11:30:00</td>\n",
       "      <td>NaN</td>\n",
       "      <td>0</td>\n",
       "      <td>Shop 0</td>\n",
       "    </tr>\n",
       "    <tr>\n",
       "      <th>105330</th>\n",
       "      <td>538566</td>\n",
       "      <td>21826</td>\n",
       "      <td>1</td>\n",
       "      <td>2016-12-13 11:21:00</td>\n",
       "      <td>NaN</td>\n",
       "      <td>0</td>\n",
       "      <td>Shop 0</td>\n",
       "    </tr>\n",
       "  </tbody>\n",
       "</table>\n",
       "<p>36210 rows × 7 columns</p>\n",
       "</div>"
      ],
      "text/plain": [
       "       purchase_id product_id  quantity       purchase_date  customer_id  \\\n",
       "6           540468      22189         0 2017-01-07 13:55:00          NaN   \n",
       "7           541424      79321         1 2017-01-17 17:57:00          NaN   \n",
       "8           538883      22891         0 2016-12-14 15:56:00          NaN   \n",
       "11          541696      22197         4 2017-01-20 18:08:00          NaN   \n",
       "16          539744      22300         5 2016-12-21 15:21:00          NaN   \n",
       "...            ...        ...       ...                 ...          ...   \n",
       "105325      536982      20719        69 2016-12-03 14:27:00          NaN   \n",
       "105326      540681      22227         1 2017-01-10 16:25:00          NaN   \n",
       "105327      538349      22625         0 2016-12-10 14:59:00          NaN   \n",
       "105329      540154      22134         3 2017-01-05 11:30:00          NaN   \n",
       "105330      538566      21826         1 2016-12-13 11:21:00          NaN   \n",
       "\n",
       "        loyalty_program shop_id  \n",
       "6                     0  Shop 0  \n",
       "7                     0  Shop 0  \n",
       "8                     0  Shop 0  \n",
       "11                    0  Shop 0  \n",
       "16                    0  Shop 0  \n",
       "...                 ...     ...  \n",
       "105325                0  Shop 0  \n",
       "105326                0  Shop 0  \n",
       "105327                0  Shop 0  \n",
       "105329                0  Shop 0  \n",
       "105330                0  Shop 0  \n",
       "\n",
       "[36210 rows x 7 columns]"
      ]
     },
     "execution_count": 186,
     "metadata": {},
     "output_type": "execute_result"
    }
   ],
   "source": [
    "missingvalue_customer_id = dataset_retail_path.loc[dataset_retail_path['customer_id'].isna()]\n",
    "missingvalue_customer_id"
   ]
  },
  {
   "cell_type": "markdown",
   "metadata": {},
   "source": [
    "    Checking the distribution of missing values, as follows:"
   ]
  },
  {
   "cell_type": "code",
   "execution_count": 187,
   "metadata": {},
   "outputs": [
    {
     "data": {
      "text/html": [
       "<div>\n",
       "<style scoped>\n",
       "    .dataframe tbody tr th:only-of-type {\n",
       "        vertical-align: middle;\n",
       "    }\n",
       "\n",
       "    .dataframe tbody tr th {\n",
       "        vertical-align: top;\n",
       "    }\n",
       "\n",
       "    .dataframe thead th {\n",
       "        text-align: right;\n",
       "    }\n",
       "</style>\n",
       "<table border=\"1\" class=\"dataframe\">\n",
       "  <thead>\n",
       "    <tr style=\"text-align: right;\">\n",
       "      <th></th>\n",
       "      <th>quantity</th>\n",
       "      <th>customer_id</th>\n",
       "      <th>loyalty_program</th>\n",
       "    </tr>\n",
       "  </thead>\n",
       "  <tbody>\n",
       "    <tr>\n",
       "      <th>count</th>\n",
       "      <td>36210.00000000000000000000</td>\n",
       "      <td>0.0</td>\n",
       "      <td>36210.0</td>\n",
       "    </tr>\n",
       "    <tr>\n",
       "      <th>mean</th>\n",
       "      <td>2.31331123998895327176</td>\n",
       "      <td>NaN</td>\n",
       "      <td>0.0</td>\n",
       "    </tr>\n",
       "    <tr>\n",
       "      <th>std</th>\n",
       "      <td>34.72273184722440220185</td>\n",
       "      <td>NaN</td>\n",
       "      <td>0.0</td>\n",
       "    </tr>\n",
       "    <tr>\n",
       "      <th>min</th>\n",
       "      <td>0.00000000000000000000</td>\n",
       "      <td>NaN</td>\n",
       "      <td>0.0</td>\n",
       "    </tr>\n",
       "    <tr>\n",
       "      <th>25%</th>\n",
       "      <td>0.00000000000000000000</td>\n",
       "      <td>NaN</td>\n",
       "      <td>0.0</td>\n",
       "    </tr>\n",
       "    <tr>\n",
       "      <th>50%</th>\n",
       "      <td>0.00000000000000000000</td>\n",
       "      <td>NaN</td>\n",
       "      <td>0.0</td>\n",
       "    </tr>\n",
       "    <tr>\n",
       "      <th>75%</th>\n",
       "      <td>2.00000000000000000000</td>\n",
       "      <td>NaN</td>\n",
       "      <td>0.0</td>\n",
       "    </tr>\n",
       "    <tr>\n",
       "      <th>max</th>\n",
       "      <td>5567.00000000000000000000</td>\n",
       "      <td>NaN</td>\n",
       "      <td>0.0</td>\n",
       "    </tr>\n",
       "  </tbody>\n",
       "</table>\n",
       "</div>"
      ],
      "text/plain": [
       "                         quantity  customer_id  loyalty_program\n",
       "count  36210.00000000000000000000          0.0          36210.0\n",
       "mean       2.31331123998895327176          NaN              0.0\n",
       "std       34.72273184722440220185          NaN              0.0\n",
       "min        0.00000000000000000000          NaN              0.0\n",
       "25%        0.00000000000000000000          NaN              0.0\n",
       "50%        0.00000000000000000000          NaN              0.0\n",
       "75%        2.00000000000000000000          NaN              0.0\n",
       "max     5567.00000000000000000000          NaN              0.0"
      ]
     },
     "execution_count": 187,
     "metadata": {},
     "output_type": "execute_result"
    }
   ],
   "source": [
    "missingvalue_customer_id.describe()"
   ]
  },
  {
   "cell_type": "markdown",
   "metadata": {},
   "source": [
    "    Checking the zero value and the minus value in the 'quantity' column, as follows:"
   ]
  },
  {
   "cell_type": "code",
   "execution_count": 189,
   "metadata": {},
   "outputs": [
    {
     "data": {
      "text/html": [
       "<div>\n",
       "<style scoped>\n",
       "    .dataframe tbody tr th:only-of-type {\n",
       "        vertical-align: middle;\n",
       "    }\n",
       "\n",
       "    .dataframe tbody tr th {\n",
       "        vertical-align: top;\n",
       "    }\n",
       "\n",
       "    .dataframe thead th {\n",
       "        text-align: right;\n",
       "    }\n",
       "</style>\n",
       "<table border=\"1\" class=\"dataframe\">\n",
       "  <thead>\n",
       "    <tr style=\"text-align: right;\">\n",
       "      <th></th>\n",
       "      <th>purchase_id</th>\n",
       "      <th>product_id</th>\n",
       "      <th>quantity</th>\n",
       "      <th>purchase_date</th>\n",
       "      <th>customer_id</th>\n",
       "      <th>loyalty_program</th>\n",
       "      <th>shop_id</th>\n",
       "    </tr>\n",
       "  </thead>\n",
       "  <tbody>\n",
       "    <tr>\n",
       "      <th>6</th>\n",
       "      <td>540468</td>\n",
       "      <td>22189</td>\n",
       "      <td>0</td>\n",
       "      <td>2017-01-07 13:55:00</td>\n",
       "      <td>NaN</td>\n",
       "      <td>0</td>\n",
       "      <td>Shop 0</td>\n",
       "    </tr>\n",
       "    <tr>\n",
       "      <th>8</th>\n",
       "      <td>538883</td>\n",
       "      <td>22891</td>\n",
       "      <td>0</td>\n",
       "      <td>2016-12-14 15:56:00</td>\n",
       "      <td>NaN</td>\n",
       "      <td>0</td>\n",
       "      <td>Shop 0</td>\n",
       "    </tr>\n",
       "    <tr>\n",
       "      <th>23</th>\n",
       "      <td>538149</td>\n",
       "      <td>21154</td>\n",
       "      <td>0</td>\n",
       "      <td>2016-12-09 16:27:00</td>\n",
       "      <td>NaN</td>\n",
       "      <td>0</td>\n",
       "      <td>Shop 0</td>\n",
       "    </tr>\n",
       "    <tr>\n",
       "      <th>28</th>\n",
       "      <td>539451</td>\n",
       "      <td>22376</td>\n",
       "      <td>0</td>\n",
       "      <td>2016-12-17 16:59:00</td>\n",
       "      <td>NaN</td>\n",
       "      <td>0</td>\n",
       "      <td>Shop 0</td>\n",
       "    </tr>\n",
       "    <tr>\n",
       "      <th>32</th>\n",
       "      <td>540468</td>\n",
       "      <td>21990</td>\n",
       "      <td>0</td>\n",
       "      <td>2017-01-07 13:55:00</td>\n",
       "      <td>NaN</td>\n",
       "      <td>0</td>\n",
       "      <td>Shop 0</td>\n",
       "    </tr>\n",
       "    <tr>\n",
       "      <th>...</th>\n",
       "      <td>...</td>\n",
       "      <td>...</td>\n",
       "      <td>...</td>\n",
       "      <td>...</td>\n",
       "      <td>...</td>\n",
       "      <td>...</td>\n",
       "      <td>...</td>\n",
       "    </tr>\n",
       "    <tr>\n",
       "      <th>105297</th>\n",
       "      <td>540646</td>\n",
       "      <td>84707A</td>\n",
       "      <td>0</td>\n",
       "      <td>2017-01-10 14:32:00</td>\n",
       "      <td>NaN</td>\n",
       "      <td>0</td>\n",
       "      <td>Shop 0</td>\n",
       "    </tr>\n",
       "    <tr>\n",
       "      <th>105303</th>\n",
       "      <td>537666</td>\n",
       "      <td>90214D</td>\n",
       "      <td>0</td>\n",
       "      <td>2016-12-07 18:36:00</td>\n",
       "      <td>NaN</td>\n",
       "      <td>0</td>\n",
       "      <td>Shop 0</td>\n",
       "    </tr>\n",
       "    <tr>\n",
       "      <th>105311</th>\n",
       "      <td>538884</td>\n",
       "      <td>21166</td>\n",
       "      <td>0</td>\n",
       "      <td>2016-12-14 15:56:00</td>\n",
       "      <td>NaN</td>\n",
       "      <td>0</td>\n",
       "      <td>Shop 0</td>\n",
       "    </tr>\n",
       "    <tr>\n",
       "      <th>105316</th>\n",
       "      <td>543013</td>\n",
       "      <td>22266</td>\n",
       "      <td>0</td>\n",
       "      <td>2017-02-02 13:35:00</td>\n",
       "      <td>NaN</td>\n",
       "      <td>0</td>\n",
       "      <td>Shop 0</td>\n",
       "    </tr>\n",
       "    <tr>\n",
       "      <th>105327</th>\n",
       "      <td>538349</td>\n",
       "      <td>22625</td>\n",
       "      <td>0</td>\n",
       "      <td>2016-12-10 14:59:00</td>\n",
       "      <td>NaN</td>\n",
       "      <td>0</td>\n",
       "      <td>Shop 0</td>\n",
       "    </tr>\n",
       "  </tbody>\n",
       "</table>\n",
       "<p>20216 rows × 7 columns</p>\n",
       "</div>"
      ],
      "text/plain": [
       "       purchase_id product_id  quantity       purchase_date  customer_id  \\\n",
       "6           540468      22189         0 2017-01-07 13:55:00          NaN   \n",
       "8           538883      22891         0 2016-12-14 15:56:00          NaN   \n",
       "23          538149      21154         0 2016-12-09 16:27:00          NaN   \n",
       "28          539451      22376         0 2016-12-17 16:59:00          NaN   \n",
       "32          540468      21990         0 2017-01-07 13:55:00          NaN   \n",
       "...            ...        ...       ...                 ...          ...   \n",
       "105297      540646     84707A         0 2017-01-10 14:32:00          NaN   \n",
       "105303      537666     90214D         0 2016-12-07 18:36:00          NaN   \n",
       "105311      538884      21166         0 2016-12-14 15:56:00          NaN   \n",
       "105316      543013      22266         0 2017-02-02 13:35:00          NaN   \n",
       "105327      538349      22625         0 2016-12-10 14:59:00          NaN   \n",
       "\n",
       "        loyalty_program shop_id  \n",
       "6                     0  Shop 0  \n",
       "8                     0  Shop 0  \n",
       "23                    0  Shop 0  \n",
       "28                    0  Shop 0  \n",
       "32                    0  Shop 0  \n",
       "...                 ...     ...  \n",
       "105297                0  Shop 0  \n",
       "105303                0  Shop 0  \n",
       "105311                0  Shop 0  \n",
       "105316                0  Shop 0  \n",
       "105327                0  Shop 0  \n",
       "\n",
       "[20216 rows x 7 columns]"
      ]
     },
     "execution_count": 189,
     "metadata": {},
     "output_type": "execute_result"
    }
   ],
   "source": [
    "m_value = missingvalue_customer_id.loc[missingvalue_customer_id['quantity'] < 1]\n",
    "m_value"
   ]
  },
  {
   "cell_type": "markdown",
   "metadata": {},
   "source": [
    "    Now, we calculate the percentage of the missing values in the 'customer_id' column that comprises the zero values in 'quantity' column, as follows:"
   ]
  },
  {
   "cell_type": "code",
   "execution_count": 190,
   "metadata": {},
   "outputs": [
    {
     "data": {
      "text/plain": [
       "19.19210139080078"
      ]
     },
     "execution_count": 190,
     "metadata": {},
     "output_type": "execute_result"
    }
   ],
   "source": [
    "len(m_value) / len(dataset_retail_path) * 100"
   ]
  },
  {
   "cell_type": "markdown",
   "metadata": {},
   "source": [
    "    We are going to check the distribution of missing values in the 'customer_id' column that comprises the zero values, as follows:"
   ]
  },
  {
   "cell_type": "code",
   "execution_count": 192,
   "metadata": {},
   "outputs": [
    {
     "data": {
      "text/html": [
       "<div>\n",
       "<style scoped>\n",
       "    .dataframe tbody tr th:only-of-type {\n",
       "        vertical-align: middle;\n",
       "    }\n",
       "\n",
       "    .dataframe tbody tr th {\n",
       "        vertical-align: top;\n",
       "    }\n",
       "\n",
       "    .dataframe thead th {\n",
       "        text-align: right;\n",
       "    }\n",
       "</style>\n",
       "<table border=\"1\" class=\"dataframe\">\n",
       "  <thead>\n",
       "    <tr style=\"text-align: right;\">\n",
       "      <th></th>\n",
       "      <th>quantity</th>\n",
       "      <th>customer_id</th>\n",
       "      <th>loyalty_program</th>\n",
       "    </tr>\n",
       "  </thead>\n",
       "  <tbody>\n",
       "    <tr>\n",
       "      <th>count</th>\n",
       "      <td>20216.0</td>\n",
       "      <td>0.0</td>\n",
       "      <td>20216.0</td>\n",
       "    </tr>\n",
       "    <tr>\n",
       "      <th>mean</th>\n",
       "      <td>0.0</td>\n",
       "      <td>NaN</td>\n",
       "      <td>0.0</td>\n",
       "    </tr>\n",
       "    <tr>\n",
       "      <th>std</th>\n",
       "      <td>0.0</td>\n",
       "      <td>NaN</td>\n",
       "      <td>0.0</td>\n",
       "    </tr>\n",
       "    <tr>\n",
       "      <th>min</th>\n",
       "      <td>0.0</td>\n",
       "      <td>NaN</td>\n",
       "      <td>0.0</td>\n",
       "    </tr>\n",
       "    <tr>\n",
       "      <th>25%</th>\n",
       "      <td>0.0</td>\n",
       "      <td>NaN</td>\n",
       "      <td>0.0</td>\n",
       "    </tr>\n",
       "    <tr>\n",
       "      <th>50%</th>\n",
       "      <td>0.0</td>\n",
       "      <td>NaN</td>\n",
       "      <td>0.0</td>\n",
       "    </tr>\n",
       "    <tr>\n",
       "      <th>75%</th>\n",
       "      <td>0.0</td>\n",
       "      <td>NaN</td>\n",
       "      <td>0.0</td>\n",
       "    </tr>\n",
       "    <tr>\n",
       "      <th>max</th>\n",
       "      <td>0.0</td>\n",
       "      <td>NaN</td>\n",
       "      <td>0.0</td>\n",
       "    </tr>\n",
       "  </tbody>\n",
       "</table>\n",
       "</div>"
      ],
      "text/plain": [
       "       quantity  customer_id  loyalty_program\n",
       "count   20216.0          0.0          20216.0\n",
       "mean        0.0          NaN              0.0\n",
       "std         0.0          NaN              0.0\n",
       "min         0.0          NaN              0.0\n",
       "25%         0.0          NaN              0.0\n",
       "50%         0.0          NaN              0.0\n",
       "75%         0.0          NaN              0.0\n",
       "max         0.0          NaN              0.0"
      ]
     },
     "execution_count": 192,
     "metadata": {},
     "output_type": "execute_result"
    }
   ],
   "source": [
    "m_value.describe()"
   ]
  },
  {
   "cell_type": "markdown",
   "metadata": {},
   "source": [
    "    We will remove the missing values from the 'customer_id' column that have zero values in the 'quantity' column, as follows:"
   ]
  },
  {
   "cell_type": "code",
   "execution_count": 194,
   "metadata": {},
   "outputs": [],
   "source": [
    "dataset_retail_path = dataset_retail_path.loc[~(dataset_retail_path['customer_id'].isna()) | ~(dataset_retail_path['quantity'] < 1)]"
   ]
  },
  {
   "cell_type": "markdown",
   "metadata": {},
   "source": [
    "    Rechecking the rest of missing values in the 'dataset_retail_path' table, as follows:"
   ]
  },
  {
   "cell_type": "code",
   "execution_count": 195,
   "metadata": {},
   "outputs": [
    {
     "data": {
      "text/plain": [
       "purchase_id            0\n",
       "product_id             0\n",
       "quantity               0\n",
       "purchase_date          0\n",
       "customer_id        15994\n",
       "loyalty_program        0\n",
       "shop_id                0\n",
       "dtype: int64"
      ]
     },
     "execution_count": 195,
     "metadata": {},
     "output_type": "execute_result"
    }
   ],
   "source": [
    "dataset_retail_path.isna().sum()"
   ]
  },
  {
   "cell_type": "markdown",
   "metadata": {},
   "source": [
    "    Revamping the value of missing values from the 'dataset_retail_path' table with zero (0) values, as follows:"
   ]
  },
  {
   "cell_type": "code",
   "execution_count": 196,
   "metadata": {},
   "outputs": [],
   "source": [
    "dataset_retail_path.loc[dataset_retail_path['customer_id'].isna(), 'customer_id'] = 0"
   ]
  },
  {
   "cell_type": "markdown",
   "metadata": {},
   "source": [
    "    Rechecking the missing values in the 'dataset_retail_path' table after removing all missing values, as follows:"
   ]
  },
  {
   "cell_type": "code",
   "execution_count": 197,
   "metadata": {},
   "outputs": [
    {
     "data": {
      "text/plain": [
       "purchase_id        0\n",
       "product_id         0\n",
       "quantity           0\n",
       "purchase_date      0\n",
       "customer_id        0\n",
       "loyalty_program    0\n",
       "shop_id            0\n",
       "dtype: int64"
      ]
     },
     "execution_count": 197,
     "metadata": {},
     "output_type": "execute_result"
    }
   ],
   "source": [
    "dataset_retail_path.isna().sum()"
   ]
  },
  {
   "cell_type": "markdown",
   "metadata": {},
   "source": [
    "    Now, we have corrected the missing value in the 'dataset_retail_path' dataset.\n",
    "    We are going to continue for the Duplicate Data."
   ]
  },
  {
   "cell_type": "markdown",
   "metadata": {},
   "source": [
    "    Findings:\n",
    "    \n",
    "    - Beforehand, we found 36210 rows Missing Values in the 'customer_id' column from 'dataset_retail_path' dataset, that means 34.37% in the percentage calculation from the whole data.\n",
    "    - Afterwards, we found 20216 rows that means 19.19% the whole data which comprises missing values in the 'customer_id' column and zero values in the 'quantity' column. The prediction is there is an error system when retrieving the data.\n",
    "    - For the 15994 rows missing values in the 'customer_id' column, the value has changed into 0.\n",
    "    - We have done in removing all missing values. There are no missing value anymore."
   ]
  },
  {
   "cell_type": "markdown",
   "metadata": {},
   "source": [
    "[Back to Contents](#tableofcontents)"
   ]
  },
  {
   "cell_type": "markdown",
   "metadata": {},
   "source": [
    "#### Duplicate Data"
   ]
  },
  {
   "cell_type": "markdown",
   "metadata": {},
   "source": [
    "    Now, we will check for duplicate data in the 'dataset_retail_path' dataset."
   ]
  },
  {
   "cell_type": "code",
   "execution_count": 201,
   "metadata": {},
   "outputs": [
    {
     "data": {
      "text/plain": [
       "1001"
      ]
     },
     "execution_count": 201,
     "metadata": {},
     "output_type": "execute_result"
    }
   ],
   "source": [
    "dataset_retail_path.duplicated().sum()"
   ]
  },
  {
   "cell_type": "markdown",
   "metadata": {},
   "source": [
    "    In this moment, we find 1001 duplicate data in the 'dataset_retail_path' dataset. Then, we will remove those duplicate datas from the dataset, as follows:"
   ]
  },
  {
   "cell_type": "code",
   "execution_count": 204,
   "metadata": {},
   "outputs": [],
   "source": [
    "dataset_retail_path = dataset_retail_path.drop_duplicates().reset_index(drop=True)"
   ]
  },
  {
   "cell_type": "markdown",
   "metadata": {},
   "source": [
    "    Ensuring the result, as follows:"
   ]
  },
  {
   "cell_type": "code",
   "execution_count": 206,
   "metadata": {},
   "outputs": [
    {
     "data": {
      "text/plain": [
       "0"
      ]
     },
     "execution_count": 206,
     "metadata": {},
     "output_type": "execute_result"
    }
   ],
   "source": [
    "dataset_retail_path.duplicated().sum()"
   ]
  },
  {
   "cell_type": "markdown",
   "metadata": {},
   "source": [
    "    Now, we have corrected the duplicate data case from 'dataset_retail_path' dataset."
   ]
  },
  {
   "cell_type": "markdown",
   "metadata": {},
   "source": [
    "    Findings:\n",
    "    \n",
    "    - After we fix the missing value, we found 1001 rows of duplicate data from 'dataset_retail_path' dataset.\n",
    "    - And we have corrected the duplicate data. \n",
    "    - Now, the 'dataset_retail_path' dataset is clean from Duplicate Data.\n",
    "    - Both datasets are ready to be analyzed and processed. "
   ]
  },
  {
   "cell_type": "markdown",
   "metadata": {},
   "source": [
    "[Back to Contents](#tableofcontents)"
   ]
  },
  {
   "cell_type": "markdown",
   "metadata": {},
   "source": [
    "## Explorative Data Analysis (EDA)\n",
    "    - Step 2. Performing Several Focus Things to be Analyzed"
   ]
  },
  {
   "cell_type": "markdown",
   "metadata": {},
   "source": [
    "<div style=\"border:solid black 2px; padding: 20px\">\n",
    "    \n",
    "                                            Carry Out Exploratory Data Analysis\n",
    "    \n",
    "</div>"
   ]
  },
  {
   "cell_type": "markdown",
   "metadata": {},
   "source": [
    "### Description of Analyzing The Loyalty Program Approach"
   ]
  },
  {
   "cell_type": "code",
   "execution_count": null,
   "metadata": {},
   "outputs": [],
   "source": []
  },
  {
   "cell_type": "markdown",
   "metadata": {},
   "source": [
    "### Description of Calculating Average Purchase Size Method"
   ]
  },
  {
   "cell_type": "code",
   "execution_count": null,
   "metadata": {},
   "outputs": [],
   "source": []
  },
  {
   "cell_type": "markdown",
   "metadata": {},
   "source": [
    "### Analyzing The Loyalty Program"
   ]
  },
  {
   "cell_type": "markdown",
   "metadata": {},
   "source": [
    "#### Analyzing of the changes in average purchase size for each cohort for loyalty program members/non-members\n",
    "    - In this session, we are going to assess the changes in average purchase size for each cohort for loyalty program members/non-members."
   ]
  },
  {
   "cell_type": "markdown",
   "metadata": {},
   "source": [
    "#### Analyzing the purchase frequency for loyalty program members/non-members\n",
    "    - In this session, we are going to assess the purchase frequency for loyalty program members/non-members."
   ]
  },
  {
   "cell_type": "markdown",
   "metadata": {},
   "source": [
    "[Back to Contents](#tableofcontents)"
   ]
  },
  {
   "cell_type": "markdown",
   "metadata": {},
   "source": [
    "## Hypothesis Testing\n",
    "    - Step 3. Doing Tests on The Hypothesis"
   ]
  },
  {
   "cell_type": "code",
   "execution_count": null,
   "metadata": {},
   "outputs": [],
   "source": []
  },
  {
   "cell_type": "markdown",
   "metadata": {},
   "source": [
    "### Formulating and Testing Statistical Hypotheses"
   ]
  },
  {
   "cell_type": "code",
   "execution_count": null,
   "metadata": {},
   "outputs": [],
   "source": []
  },
  {
   "cell_type": "markdown",
   "metadata": {},
   "source": [
    "#### Testing the hypothesis that the average purchase size is higher for loyalty program members than non-members"
   ]
  },
  {
   "cell_type": "code",
   "execution_count": null,
   "metadata": {},
   "outputs": [],
   "source": []
  },
  {
   "cell_type": "markdown",
   "metadata": {},
   "source": [
    "#### Formulating a statistical hypothesis regarding the data from the dataset and test it"
   ]
  },
  {
   "cell_type": "code",
   "execution_count": null,
   "metadata": {},
   "outputs": [],
   "source": []
  },
  {
   "cell_type": "markdown",
   "metadata": {},
   "source": [
    "[Back to Contents](#tableofcontents)"
   ]
  },
  {
   "cell_type": "markdown",
   "metadata": {},
   "source": [
    "## The Use of Metrics and Indicators Business\n",
    "    - Step 4. Metrics and Indicators Business"
   ]
  },
  {
   "cell_type": "markdown",
   "metadata": {},
   "source": []
  },
  {
   "cell_type": "markdown",
   "metadata": {},
   "source": [
    "[Back to Contents](#tableofcontents)"
   ]
  },
  {
   "cell_type": "markdown",
   "metadata": {},
   "source": [
    "## Dashboard\n",
    "    - Step 5. Dashboard Construction"
   ]
  },
  {
   "cell_type": "markdown",
   "metadata": {},
   "source": []
  },
  {
   "cell_type": "markdown",
   "metadata": {},
   "source": [
    "[Back to Contents](#tableofcontents)"
   ]
  },
  {
   "cell_type": "markdown",
   "metadata": {},
   "source": [
    "## Presentation\n",
    "    - Step 6. Preparing The Presentation"
   ]
  },
  {
   "cell_type": "markdown",
   "metadata": {},
   "source": []
  },
  {
   "cell_type": "markdown",
   "metadata": {},
   "source": [
    "[Back to Contents](#tableofcontents)"
   ]
  },
  {
   "cell_type": "markdown",
   "metadata": {},
   "source": [
    "## General Conclusions and Recommendations\n",
    "    - Step 7. Formulating General Conclusions and Recommendations for Working with Clients"
   ]
  },
  {
   "cell_type": "markdown",
   "metadata": {},
   "source": [
    "<div style=\"border:solid black 2px; padding: 20px\">\n",
    "    \n",
    "# For Data Pre-processing\n",
    "\n",
    "    1. Downloading, Loading and Reading The Datas\n",
    "    Findings:\n",
    "    - We have two datasets, namely 'dataset_retail_path' and 'codes_product_path'.\n",
    "\n",
    "    For 'dataset_retail_path' dataset:\n",
    "    - The datasets amounted 105335 rows and 7 columns.\n",
    "    - With data detailed, dtypes: datetime64[ns](1), float64(1), int64(2), object(3).\n",
    "    - The capitalization of the columns names title still contains a mixture of upper and lowercase letters.\n",
    "    - Datasets memory usage: 5.6+ MB.\n",
    "    - In addition, there are some columns that comprise about customer's purchase transaction information in the table above. Those are 'purchaseid', 'item_ID', 'Quantity', 'purchasedate', 'CustomerID', 'loyalty_program', and 'ShopID'.\n",
    "\n",
    "\n",
    "    For 'codes_product_path' dataset:\n",
    "    - The datasets amounted 3159 rows and 2 columns.\n",
    "    - With data detailed, dtypes: float64(1), object(1).\n",
    "    - The capitalization of the columns names title still contains a mixture of upper and lowercase letters.\n",
    "    - Datasets memory usage: 49.5+ KB.\n",
    "    - There are two columns that comprise about product information. Those are 'productID' and 'price_per_one'.\n",
    "    \n",
    "    2. Data Overview Elaboration\n",
    "    Findings:\n",
    "    - In the results above, we find that these data are in the form of datetime64[ns](1), float64(1), int64(2), object(3) from 'dataset_retail_path' dataset and in the form of float64(1), object(1) from 'codes_product_path' dataset.\n",
    "    - In the result of '.head()' function, both two datasets display that all of this datas is 'almost' in the form of numbers, consisting of integers, decimal numbers, datetime, also sometimes mixed with letters.\n",
    "    - The datas range are between 1 December 2016 to 28 February 2017 (Timestamp('2016-12-01 08:26:00'), Timestamp('2017-02-28 17:04:00')).\n",
    "    \n",
    "    3. Rectifying Columns Names\n",
    "    Findings:\n",
    "    - We have managed to rectify the capitalization title and our data contains all in lowercase letters.\n",
    "    - We have done to revamp the column name of 'item_id' into 'product_id' from the 'dataset_retail_path' dataset, in case of has similar values with the 'product_id' from the 'codes_product_path' dataset.\n",
    "    \n",
    "    4. Ensuring the Data Quality\n",
    "    Findings:\n",
    "    - We have checked the Data Quality of dataset columns.\n",
    "    - We found datas that comprise minus values in the 'quantity' column and now we have transformed the value into zero (0) values.\n",
    "    - The data is already appropriate.\n",
    "    \n",
    "    5. Correcting The Missing Values and Duplicate Data\n",
    "    a. Missing Values\n",
    "        Findings:\n",
    "        - Beforehand, we found 36210 rows Missing Values in the 'customer_id' column from 'dataset_retail_path' dataset, that means 34.37% in the percentage calculation from the whole data.\n",
    "        - We found 20216 rows that means 19.19% the whole data which comprises missing values in the 'customer_id' column and zero values in the 'quantity' column. The prediction is there is an error system when retrieving the data.\n",
    "        - For the 15994 rows missing values in the 'customer_id' column, the value has changed into 0.\n",
    "        - We have done in removing all missing values. There are no missing value anymore.\n",
    "    \n",
    "    b. Duplicate Data\n",
    "        Findings:\n",
    "        - After we fix the missing value, we found 1001 rows of duplicate data from 'dataset_retail_path' dataset.\n",
    "        - And we have corrected the duplicate data. \n",
    "        - Now, the 'dataset_retail_path' dataset is clean from Duplicate Data.\n",
    "        - Both datasets are ready to be analyzed and processed. \n",
    "\n",
    "</div>"
   ]
  },
  {
   "cell_type": "markdown",
   "metadata": {},
   "source": [
    "<div style=\"border:solid black 2px; padding: 20px\">\n",
    "    \n",
    "# For Explorative Data Analysis (EDA)\n",
    "    \n",
    "</div>"
   ]
  },
  {
   "cell_type": "markdown",
   "metadata": {},
   "source": [
    "<div style=\"border:solid black 2px; padding: 20px\">\n",
    "\n",
    "# For Hypothesis Testing\n",
    "    \n",
    "</div>"
   ]
  },
  {
   "cell_type": "markdown",
   "metadata": {},
   "source": [
    "<div style=\"border:solid black 2px; padding: 20px\">\n",
    "\n",
    "# For The Use of Metrics and Indicators Business\n",
    "    \n",
    "</div>"
   ]
  },
  {
   "cell_type": "markdown",
   "metadata": {},
   "source": [
    "<div style=\"border:solid black 2px; padding: 20px\">\n",
    "\n",
    "# Dashboard\n",
    "    \n",
    "</div>"
   ]
  },
  {
   "cell_type": "markdown",
   "metadata": {},
   "source": [
    "<div style=\"border:solid black 2px; padding: 20px\">\n",
    "\n",
    "# Presentation\n",
    "    \n",
    "</div>"
   ]
  },
  {
   "cell_type": "markdown",
   "metadata": {},
   "source": [
    "<div style=\"border:solid black 2px; padding: 20px\">\n",
    "\n",
    "# Recommendations\n",
    "    \n",
    "</div>"
   ]
  },
  {
   "cell_type": "markdown",
   "metadata": {},
   "source": [
    "[Back to Contents](#tableofcontents)"
   ]
  }
 ],
 "metadata": {
  "kernelspec": {
   "display_name": "Python 3 (ipykernel)",
   "language": "python",
   "name": "python3"
  },
  "language_info": {
   "codemirror_mode": {
    "name": "ipython",
    "version": 3
   },
   "file_extension": ".py",
   "mimetype": "text/x-python",
   "name": "python",
   "nbconvert_exporter": "python",
   "pygments_lexer": "ipython3",
   "version": "3.9.5"
  },
  "toc": {
   "base_numbering": 1,
   "nav_menu": {},
   "number_sections": true,
   "sideBar": true,
   "skip_h1_title": true,
   "title_cell": "Table of Contents",
   "title_sidebar": "Contents",
   "toc_cell": false,
   "toc_position": {
    "height": "calc(100% - 180px)",
    "left": "10px",
    "top": "150px",
    "width": "165px"
   },
   "toc_section_display": true,
   "toc_window_display": true
  }
 },
 "nbformat": 4,
 "nbformat_minor": 2
}
